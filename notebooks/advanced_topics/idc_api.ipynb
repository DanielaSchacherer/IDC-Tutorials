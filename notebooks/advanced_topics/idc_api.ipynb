{
  "nbformat": 4,
  "nbformat_minor": 0,
  "metadata": {
    "colab": {
      "name": "How_to_use_IDC_APIs.ipynb",
      "provenance": [],
      "toc_visible": true,
      "authorship_tag": "ABX9TyMkHz+xbHHiyhG8AapHPjSf",
      "include_colab_link": true
    },
    "kernelspec": {
      "name": "python3",
      "display_name": "Python 3"
    }
  },
  "cells": [
    {
      "cell_type": "markdown",
      "metadata": {
        "id": "view-in-github",
        "colab_type": "text"
      },
      "source": [
        "<a href=\"https://colab.research.google.com/github/ImagingDataCommons/IDC-Examples/blob/master/API/notebooks/How_to_use_IDC_APIs.ipynb\" target=\"_parent\"><img src=\"https://colab.research.google.com/assets/colab-badge.svg\" alt=\"Open In Colab\"/></a>"
      ]
    },
    {
      "cell_type": "markdown",
      "metadata": {
        "id": "7r7hxORgipCk"
      },
      "source": [
        "# How to Use the IDC APIs"
      ]
    },
    {
      "cell_type": "markdown",
      "metadata": {
        "id": "-R7dcBPHjB9b"
      },
      "source": [
        "## Overview of this notebook\n",
        "This notebook is designed as a quick introduction to the IDC APIs and how to access them with Python.\n",
        "\n",
        "Topics covered:\n",
        "* Overviews of APIs, Swagger, JSON, endpoints\n",
        "* Use cases for IDC APIs\n",
        "* Examples of IDC API endpoints"
      ]
    },
    {
      "cell_type": "markdown",
      "metadata": {
        "id": "6BPfIN_KjVSP"
      },
      "source": [
        "### Overview of APIs\n",
        "An API or application-programming interface is a software intermediary that allows two applications to talk to each other. In other words, an API is the messenger that delivers your request to the provider that you’re requesting it from and then delivers the response back to you [(Wikipedia)](https://en.wikipedia.org/wiki/Application_programming_interface). Each action that an API can take is called an \"endpoint\".\n",
        "\n",
        "Some useful tutorials and quick start guides on APIs are:\n",
        "* [GDC's Getting Started guide for APIs](https://docs.gdc.cancer.gov/API/Users_Guide/Getting_Started/)\n",
        "* [API Integration in Python](https://realpython.com/api-integration-in-python/)\n",
        "* [Python API Tutorial: Getting Started with APIs](https://www.dataquest.io/blog/python-api-tutorial/)"
      ]
    },
    {
      "cell_type": "markdown",
      "metadata": {
        "id": "0pvtxR9piA8d"
      },
      "source": [
        "### What is an HTTP Message?\n",
        "\n",
        "Clients and the IDC API server communicate via HTTP messages. An overview of HTTP messaging can be found [here](https://developer.mozilla.org/en-US/docs/Web/HTTP/Messages)."
      ]
    },
    {
      "cell_type": "markdown",
      "metadata": {
        "id": "XwOE_7aXkIqD"
      },
      "source": [
        "### What is JSON?\n",
        "\n",
        "JSON  or JavaScript Object Notation is a lightweight data-interchange format that is easy for humans and machines to work with. More information can be found at [json.org](https://www.json.org/)."
      ]
    },
    {
      "cell_type": "markdown",
      "metadata": {
        "id": "xA89089NjvXG"
      },
      "source": [
        "### What is SwaggerUI?\n",
        "\n",
        "[SwaggerUI](https://swagger.io/tools/swagger-ui/) is a user interface that allows users to try out the APIs and view their documentation easily. You can access the IDC API SwaggerUI [here](https://api.imaging.datacommons.cancer.gov/v1/swagger)."
      ]
    },
    {
      "cell_type": "markdown",
      "metadata": {
        "id": "BKVdyqJIj3Vv"
      },
      "source": [
        "### What is an endpoint?\n",
        "\n",
        "An endpoint is the *call* for a specific functionally of an API. For example, `/collections` at the end of the API request URL `https://api.imaging.datacommons.cancer.gov/v1/collections` is an endpoint that returns (or GETs) information about the available collections."
      ]
    },
    {
      "cell_type": "markdown",
      "metadata": {
        "id": "lUBjUmW0b4yM"
      },
      "source": [
        "###IDC API Documentation\n",
        "\n",
        "Detailed documentation on the IDC API can be found in the [API](https://learn.canceridc.dev/api/getting-started) section of the [IDC User Guide](https://learn.canceridc.dev/ps://)."
      ]
    },
    {
      "cell_type": "markdown",
      "metadata": {
        "id": "q2oDuqk-m_n9"
      },
      "source": [
        "### IDC API URL Preamble\n",
        "We define the IDC API URL preamble as a variable so that we can easily change it."
      ]
    },
    {
      "cell_type": "code",
      "metadata": {
        "id": "6YJby7wJnYE7"
      },
      "source": [
        "idc_api_preamble = 'https://api.imaging.datacommons.cancer.gov/v1'"
      ],
      "execution_count": null,
      "outputs": []
    },
    {
      "cell_type": "markdown",
      "metadata": {
        "id": "EwGFbzkqk--J"
      },
      "source": [
        "### Python library `requests`\n",
        "\n",
        "In this notebook, we use the Python Requests HTTP library to access IDC API endpoints."
      ]
    },
    {
      "cell_type": "code",
      "metadata": {
        "id": "TV37C4SrlHvD"
      },
      "source": [
        "# Install requests if needed\n",
        "# pip install requests\n",
        "\n",
        "# Import the requests library\n",
        "import requests"
      ],
      "execution_count": null,
      "outputs": []
    },
    {
      "cell_type": "markdown",
      "metadata": {
        "id": "AcCF8X0mlLup"
      },
      "source": [
        "## Use cases for IDC APIs\n",
        "\n",
        "The IDC APIs can be used for a number of different tasks for interacting with the Google Cloud Platform and BigQuery. It can be used to subset data into cohorts or to access cohorts that have been created using the IDC WebApp. The location of the DICOM objects associated with a cohort can be obtained."
      ]
    },
    {
      "cell_type": "markdown",
      "metadata": {
        "id": "uCce3LIXmGgc"
      },
      "source": [
        "## Example: GET `/about` Endpoint\n",
        "\n"
      ]
    },
    {
      "cell_type": "markdown",
      "metadata": {
        "id": "kbA3GWUSmPlr"
      },
      "source": [
        "We are first going to explore the `about` endpoint using the 'GET' request to the API. This API will give you such information about the IDC API as links to the Swagger UI interface and to the IDC User Guide."
      ]
    },
    {
      "cell_type": "code",
      "metadata": {
        "id": "C3Ixom20mVrh"
      },
      "source": [
        "# First submit the 'get' request to the API\n",
        "response = requests.get('{}/about'.format(idc_api_preamble))"
      ],
      "execution_count": null,
      "outputs": []
    },
    {
      "cell_type": "markdown",
      "metadata": {
        "id": "UicHIX71kLw3"
      },
      "source": [
        "Now that we have the request response, we are going to check that we didn't receive an error code or if the request was successful. If the request was successful, then the status code will come back as 200 but if something went wrong then the status code may be something 404 or 503. If you have recieved any error codes, you can check out Google's Troubleshooting response errors guide.\n",
        "\n"
      ]
    },
    {
      "cell_type": "code",
      "metadata": {
        "id": "3UORb5Pqoh0I"
      },
      "source": [
        "# Check that there wasn't an error with the request\n",
        "if response.status_code != 200:\n",
        "    # Print the error code and message if something went wrong\n",
        "    print('Request failed: {}'.format(response.reason))"
      ],
      "execution_count": null,
      "outputs": []
    },
    {
      "cell_type": "markdown",
      "metadata": {
        "id": "2EtWVhfyoreK"
      },
      "source": [
        "Finally, we will define a little pretty printing function and print out the information that we have received from the API. This response returns as a dictionary though responses can also be a combination of dictionaries and lists depending on which endpoint is called. This means that you can access different data in the response the same way that you would access dictionaries and lists as demonstarted below."
      ]
    },
    {
      "cell_type": "code",
      "metadata": {
        "id": "VdfTOEQeouiL"
      },
      "source": [
        "# import json\n",
        "import json\n",
        "def pretty(response):\n",
        "  print(json.dumps(response.json(), sort_keys=True, indent=4))\n",
        "\n",
        "# Print the response\n",
        "pretty(response)"
      ],
      "execution_count": null,
      "outputs": []
    },
    {
      "cell_type": "markdown",
      "metadata": {
        "id": "6_6wZG1ipAbZ"
      },
      "source": [
        "The requests library makes it easy to use the APIs. Next we will cover a few of the other informational APIs."
      ]
    },
    {
      "cell_type": "markdown",
      "metadata": {
        "id": "p6eV4z_IpZgH"
      },
      "source": [
        "## Example: GET `/versions` endpoint"
      ]
    },
    {
      "cell_type": "markdown",
      "metadata": {
        "id": "pil_CrXbpvIY"
      },
      "source": [
        "Over time, the set of data hosted by the IDC will change. For the most part, such changes will be due to new data having been added. The totality of IDC hosted data resulting from any such change is represented by a unique IDC data version ID. That is, each time that the set of publicly available data changes, a new IDC version is created that exactly defines the revised data set. \n",
        "\n",
        "The IDC data version is intended to enable the reproducibility of research results. For example, consider a patient in the DICOM data model. Over time, new studies might be performed on a patient and become associated with that patient, and the corresponding DICOM instances added to the IDC hosted data. Moreover, additional patients might well be added to the IDC data set over time. This means that the set of subjects defined by some filter set will change over time. Thus, for purposes of reproducibility, we define a cohort in terms of a filter set and an IDC data version.\n",
        "\n",
        "The `/versions` endpoint returns information about the defined IDC versions. This information includes the data sources (BQ tables) containing the data of each version. This endpoint returns a more complicated JSON object which has a combination of lists and dictionaries. We will first retrieve the request and then view if there was an error code within the response."
      ]
    },
    {
      "cell_type": "code",
      "metadata": {
        "id": "kEMvm_xwssF0"
      },
      "source": [
        "# Retrieve the response from the API endpoint\n",
        "versions_req = requests.get('{}/versions'.format(idc_api_preamble))\n",
        "\n",
        "# Check that there wasn't an error with the request\n",
        "if versions_req.status_code != 200:\n",
        "  # Print the error code and message if something went wrong\n",
        "  print(versions_req.json())  # Print the error code if something went wrong"
      ],
      "execution_count": null,
      "outputs": []
    },
    {
      "cell_type": "code",
      "metadata": {
        "id": "rZ8g6HOYtXDD"
      },
      "source": [
        "# Print the versions JSON text\n",
        "pretty(versions_req)"
      ],
      "execution_count": null,
      "outputs": []
    },
    {
      "cell_type": "markdown",
      "metadata": {
        "id": "HnyYUezztRGU"
      },
      "source": [
        "The returned data is a combination of dictionaries and lists. We see  that, as of this writing, there are four IDC versions. The current or active version is idc_data_version 4.0."
      ]
    },
    {
      "cell_type": "markdown",
      "metadata": {
        "id": "e_Ex8JRly0QH"
      },
      "source": [
        "## Example: GET `/collections` endpoint"
      ]
    },
    {
      "cell_type": "markdown",
      "metadata": {
        "id": "Ol6C9O-JxYz1"
      },
      "source": [
        "An *original collection* is a set of DICOM data provided by a single source.\n",
        "Original collections are comprised primarily of DICOM image data that was obtained from some set of patients. Typically, the patients in an Original collection are related by a common disease.\n",
        "\n",
        "Analysis results are comprised of derived DICOM data that was generated by analyzing other (typically Original) collections. Typically such analysis is performed by a different entity than that which provided the original collection(s) on which the analysis is based. Examples of data in Analysis results include segmentations, annotations and further processing of original images. Note that some Original collections include such analysis results, though most of the data in Original collections are original images.\n",
        "\n",
        "The /collections endpoint returns data about all the Original collections for the active IDC data version. \n"
      ]
    },
    {
      "cell_type": "code",
      "metadata": {
        "id": "AsmNpqYtyxl0"
      },
      "source": [
        "response = requests.get('{}/collections'.format(idc_api_preamble))\n",
        "# Check that there wasn't an error with the request\n",
        "if response.status_code != 200:\n",
        "    # Print the error code and message if something went wrong\n",
        "    print('Request failed: {}'.format(response.reason))"
      ],
      "execution_count": null,
      "outputs": []
    },
    {
      "cell_type": "code",
      "metadata": {
        "id": "03_j2L-Vo-nG"
      },
      "source": [
        "# Print the collections JSON text\n",
        "pretty(response)"
      ],
      "execution_count": null,
      "outputs": []
    },
    {
      "cell_type": "markdown",
      "metadata": {
        "id": "z0EnRfsdX2WW"
      },
      "source": [
        "Metadata for Original collections is derived from the [TCIA Data Collections page](https://www.cancerimagingarchive.net/collections/), and for Analysis results from the [TCIA Analysis Results page](https://www.cancerimagingarchive.net/tcia-analysis-results/). \n",
        "\n",
        "A similar /analysis_results API returns metadata on analysis results."
      ]
    },
    {
      "cell_type": "markdown",
      "metadata": {
        "id": "MdZVwFTRdrHH"
      },
      "source": [
        "## Example: POST `/cohorts/manifest/preview` endpoint"
      ]
    },
    {
      "cell_type": "markdown",
      "metadata": {
        "id": "mC2NcjdtaGDy"
      },
      "source": [
        "The POST `/cohorts/manifest/preview` endpoint returns a manifest of *access_methods* for the objects in cohort cohort_id. Please refer to the [API](https://learn.canceridc.dev/api/getting-started) section of the [IDC User Guide](https://learn.canceridc.dev/ps://) for further information on manifests.\n",
        "\n",
        "The `/cohorts/manifest/preview` API does not actually create a cohort, but acts as if a cohort were created. Creating a cohort requires authenticating to the API; that process is addessed in a subsequent example describing the `/cohorts/manifest/{cohort_id}` API.\n",
        "\n",
        "A manifest is a list of *access methods*. Each access method describes how to access the study, series and/or instance DICOM objects in the cohort. A manifest can optionally include additional metadata per DICOM object. \n",
        "\n",
        "The objects in the preview cohort are defined by a *filters* object that is implicitly applied against the current (active) IDC data version\n",
        "A *filters* object is a list of *attribute*,*values* pairs, where *values* is a list of one or more values which must be satisfied by the associated attribute.\n",
        "\n",
        "In the following, we construct a dict, `cohortSpec`, containing the name and a description for the preview cohort, as well as a *filters* object that selects for subjects in either the TCGA-LUAD or TCGA-KIRC collections, having DICOM data with a CT or MR modality, and are Asian.\n",
        "\n"
      ]
    },
    {
      "cell_type": "code",
      "metadata": {
        "id": "NmLDCwyMrKIW"
      },
      "source": [
        "filters = {\n",
        "  \"collection_id\": [ \"TCGA-LUAD\", \"TCGA-KIRC\" ],\n",
        "  \"Modality\": [\"CT\", \"MR\"],\n",
        "  \"race\": [\"ASIAN\"]\n",
        "}\n",
        "\n",
        "cohortSpec = {\"name\": \"testcohort\",\n",
        "              \"description\": \"Test description\",\n",
        "              \"filters\": filters}\n",
        "\n"
      ],
      "execution_count": null,
      "outputs": []
    },
    {
      "cell_type": "markdown",
      "metadata": {
        "id": "b9--y7MbtM3j"
      },
      "source": [
        "The query string selects additonal metadata to be return. In addition, the amount of data returned by each call can be limited. When this is done the API can be iteratively called until all data has been received. The params object below selects a limited set of data to be returned; refer to the API documention for details. In this example, we will limit the returned data to 2 rows."
      ]
    },
    {
      "cell_type": "code",
      "metadata": {
        "id": "j3YSHebRu37u"
      },
      "source": [
        "params = dict(\n",
        "    sql = True,\n",
        "    Collection_ID = True,\n",
        "    Patient_ID = True,\n",
        "    CRDC_Series_GUID = True,\n",
        "    CRDC_Instance_GUID = False,\n",
        "    GCS_URL = True,\n",
        "    page_size = 2\n",
        ")"
      ],
      "execution_count": null,
      "outputs": []
    },
    {
      "cell_type": "markdown",
      "metadata": {
        "id": "5v0RB-w-vCwo"
      },
      "source": [
        "We are now ready to call the endpoint. Note that /cohorts/manifest/preview is a POST method, so we call requests.post()"
      ]
    },
    {
      "cell_type": "code",
      "metadata": {
        "id": "Dk4HdufjvT-y"
      },
      "source": [
        "response = requests.post('{}/cohorts/manifest/preview'.format(idc_api_preamble),\n",
        "                    params=params, json=cohortSpec)\n",
        "\n",
        "# Check that there wasn't an error with the request\n",
        "if response.status_code != 200:\n",
        "    # Print the error code and message if something went wrong\n",
        "    print('Request failed: {}'.format(response.reason))\n",
        "else:\n",
        "  pretty(response)"
      ],
      "execution_count": null,
      "outputs": []
    },
    {
      "cell_type": "markdown",
      "metadata": {
        "id": "WraYhAri_NpR"
      },
      "source": [
        "The returned data includes the cohort name, description and filterset which we passed as parameters as well as the BigQuery SQL that produced these results be returned.\n",
        "\n",
        "We can see that there are 1581 total rows, but only 2 were returned."
      ]
    },
    {
      "cell_type": "markdown",
      "metadata": {
        "id": "YBGPGzOdBVMh"
      },
      "source": [
        "## Paged results\n",
        "\n",
        "It can be seen that the above result includes a non-null `next_page` token. When the next_page token is non_null, it indicates that more data is available. This token can be passed as a parameter in a subsequent invocation of /cohorts/manifest/nextPage to obtain additional data.\n",
        "\n",
        "The /cohorts/manifest/nextPage endpoint only takes page_size and next_page query parameters. Other parameters to the original /cohorts/manifest/preview are implicit in the next_page token. Similarly, the /cohorts/manifest/nextPage endpoint does not return the cohort and sql metadata.\n"
      ]
    },
    {
      "cell_type": "code",
      "metadata": {
        "id": "RnkMCmYmJla_"
      },
      "source": [
        "query_string = dict(\n",
        "    page_size = 2,\n",
        "    next_page = response.json()['next_page']\n",
        ")\n",
        "response = requests.get('{}/cohorts/manifest/nextPage'.format(idc_api_preamble),\n",
        "                    params=query_string)\n",
        "\n",
        "# Check that there wasn't an error with the request\n",
        "if response.status_code != 200:\n",
        "    # Print the error code and message if something went wrong\n",
        "    print('Request failed: {}'.format(response.reason))\n",
        "else:\n",
        "  pretty(response)\n",
        "\n"
      ],
      "execution_count": null,
      "outputs": []
    },
    {
      "cell_type": "markdown",
      "metadata": {
        "id": "G8wA0bPXKd23"
      },
      "source": [
        "The same /cohorts/metadata/nextPage endpoint can be used to obtain additional data resulting from accessing the /cohorts/metadata/{cohort_id} endpoint, described in the next section."
      ]
    },
    {
      "cell_type": "markdown",
      "metadata": {
        "id": "CO40yJQ3BFrW"
      },
      "source": [
        "## Notes on Authorization and Credentials\n",
        "In this section we will focus on the POST /cohorts/manifest/{cohort_id} endpoint. Unlike the /cohort/manifest/preview endpoint, the /cohorts/manifest/{cohort_id} returns a manifest against a cohort that was previously defined via the IDC POST /cohorts API or through the IDC webapp.\n",
        "\n",
        "In order to be able to create a cohort or access a previously defined cohort from the API, the user must authenticate their identity with the API. This section will step through the authentication/authorization process. Perform the following steps on your local machine:\n",
        "\n",
        "1. Use the [idc_auth.py](https://github.com/ImagingDataCommons/IDC-Examples/blob/master/scripts/idc_auth.py) Python script to create a Credential File on your local machine. \n",
        "  * This script can be run from the command line or from within Python but should be run on your local machine.\n",
        "  * Refer to the script for execution instructions\n",
        "2. Find the location of the Credential File on your local machine\n",
        "  * By default, the script will save the credentail file in the user's home folder with the file name: \".idc_credentials\"\n",
        "\n",
        "We can now proceed to load the credential file into the cloud environment you are using:"
      ]
    },
    {
      "cell_type": "code",
      "metadata": {
        "id": "AQhPXCGZQwxc"
      },
      "source": [
        "# If you skipped earlier sections, you will need these two packages to run the\n",
        "# code below\n",
        "# Install requests if needed\n",
        "#pip install requests\n",
        "\n",
        "# Import json\n",
        "#import json\n",
        "\n",
        "# Import the requests library\n",
        "#import requests"
      ],
      "execution_count": null,
      "outputs": []
    },
    {
      "cell_type": "code",
      "metadata": {
        "id": "TYY9fUVRRCLY"
      },
      "source": [
        "# import os\n",
        "import os\n",
        "# Import files helper for Colab\n",
        "from google.colab import files"
      ],
      "execution_count": null,
      "outputs": []
    },
    {
      "cell_type": "code",
      "metadata": {
        "id": "0H4QGZ3zQz7x"
      },
      "source": [
        "# First delete any existing .idc_credentials. If we do not do this, file.upload() will name the new file \".idc_credentials (1)\"\n",
        "try:\n",
        "  os.remove('./.idc_credentials')\n",
        "except:\n",
        "  print('.idc_credentials not found')\n",
        "\n",
        "# Upload your credentials to the cloud environment. Click on the Choose Files button to bring up a file browser\n",
        "uploaded = files.upload()"
      ],
      "execution_count": null,
      "outputs": []
    },
    {
      "cell_type": "markdown",
      "metadata": {
        "id": "3PM9_7ZySBzC"
      },
      "source": [
        "Now that we have the Credentials file created and uploaded to the cloud environment, we can extract the ID token that identifies you for the purpose of authorization."
      ]
    },
    {
      "cell_type": "code",
      "metadata": {
        "id": "uj_jc3p6Wx_p"
      },
      "source": [
        "# Open the credentials file\n",
        "token = open(\".idc_credentials\", \"r\")\n",
        "# Create a json object from teh credential file\n",
        "token = json.loads(token.read())\n",
        "# Get Credentials from the token\n",
        "creds = token['token_response']['id_token']\n",
        "# Create a json object for requests header\n",
        "head = {'Authorization': 'Bearer ' + creds}"
      ],
      "execution_count": null,
      "outputs": []
    },
    {
      "cell_type": "markdown",
      "metadata": {
        "id": "i0y9thsfXATV"
      },
      "source": [
        "**Note:** the credentials file will expire after 1 hour and a new one will need to be generated. If a new file is not generated with the idc_auth script, you can delete the original file and try running the script again."
      ]
    },
    {
      "cell_type": "markdown",
      "metadata": {
        "id": "RIkYHdLWXKAX"
      },
      "source": [
        "## Example: POST `/cohorts and POST `/cohorts/manifest/{cohort_id}` Endpoints\n",
        "We can now proceed to use the POST `/cohorts` endpoint to create a cohort. We will use the same cohort definition as previously."
      ]
    },
    {
      "cell_type": "code",
      "metadata": {
        "id": "Z8I4uplMUGMt"
      },
      "source": [
        "filters = {\n",
        "  \"collection_id\": [ \"TCGA-LUAD\", \"TCGA-KIRC\" ],\n",
        "  \"Modality\": [\"CT\", \"MR\"],\n",
        "  \"race\": [\"ASIAN\"]\n",
        "}\n",
        "  \n",
        "cohortSpec = {\"name\": \"testcohort\",\n",
        "              \"description\": \"Test description\",\n",
        "              \"filters\": filters}\n",
        "\n",
        "response = requests.post(f'{idc_api_preamble}/cohorts/',\n",
        "                      json=cohortSpec, headers = head)\n",
        "\n",
        "# Check that there wasn't an error with the request\n",
        "if response.status_code != 200:\n",
        "    # Print the error code and message if something went wrong\n",
        "    print('Request failed: {}'.format(response.reason))\n",
        "else:\n",
        "  print(json.dumps(response.json(), sort_keys=True, indent=1))\n",
        "\n",
        "  cohort_id = response.json()['cohort_properties']['cohort_id']"
      ],
      "execution_count": null,
      "outputs": []
    },
    {
      "cell_type": "markdown",
      "metadata": {
        "id": "HKnhDeB-YyEp"
      },
      "source": [
        "Note that the response includes the cohort_id of the newly created cohort. \n",
        "\n",
        "We will use this ID when querying for the cohort's manifest. Note also that the response repeats the filter and other cohort metadata. This time we will return only series GUIDs."
      ]
    },
    {
      "cell_type": "code",
      "metadata": {
        "id": "jPlHkZocX7rd"
      },
      "source": [
        "query_string = dict(\n",
        "    CRDC_Series_GUID = True,\n",
        "    page_size = 2\n",
        ")\n",
        "\n",
        "response = requests.get('{}/cohorts/manifest/{}'.format(idc_api_preamble, cohort_id),\n",
        "                      params=query_string, headers = head)\n",
        "\n",
        "# Check that there wasn't an error with the request\n",
        "if response.status_code != 200:\n",
        "    # Print the error code and message if something went wrong\n",
        "    print(response.json())\n",
        "\n",
        "print(json.dumps(response.json(), sort_keys=True, indent=4))"
      ],
      "execution_count": null,
      "outputs": []
    },
    {
      "cell_type": "markdown",
      "metadata": {
        "id": "nEJtX2SpWsV6"
      },
      "source": [
        "As with POST `/cohorts/manifest/preview/`, the returned next_page token can be used in subsequent calls to obtain additional data."
      ]
    },
    {
      "cell_type": "markdown",
      "metadata": {
        "id": "fU_0eXe_yEHL"
      },
      "source": [
        "##Resolving a CRDC GUID\n",
        "A CRDC GUID can be resolved to a GA4GH DrsObject, and ultimately used to obtain a URL of all IDC DICOM instance objects in corresponding study, series or instance. Please refer to the [API](https://learn.canceridc.dev/data/organization-of-data/guids-and-uuids) section of the [IDC User Guide](https://learn.canceridc.dev) for further information on DrsObjects and access methods.\n",
        "\n",
        "We will resolve a series GUID, obtaining some set of instance GUIDs. We will then resolve each of the instance GUIDs to a GCS URL. We could have parameterized the cohorts/manifest/{cohort_id} to return GCS_URLs directly. When those URLs will be used soon, this is fine. However, IDC may, from time to time, change the GCS bucket in which a DICOM instance is stored; in that case a retained GCS URL will be invalid. However, the GUID of an IDC DICOM study, series, or instance can always be resolved to the current location of the corresponding data. Moreover, a cohort composed of study and/or series GUIDS is more space efficient than a cohort of instance GUIDs or URLs.\n",
        "\n",
        "In the following, we demonstrate the steps to resolving a series GUID in some manifest.\n",
        "\n",
        "In the first step we resolve each series GUID in the above response to the  cohorts/manifest/{cohort_id}. "
      ]
    },
    {
      "cell_type": "code",
      "metadata": {
        "id": "N5FNelsph1OJ"
      },
      "source": [
        "dcf_url = \"https://nci-crdc.datacommons.io/ga4gh/drs/v1/objects\"\n",
        "# Create a list of the series GUIDs in the previous response.\n",
        "series_guids = [row['CRDC_Series_GUID'] for row in response.json()['manifest']['json_manifest']]\n",
        "series_drs_objects= []\n",
        "# Resolving a GUID simply requires presenting it to the nci-crdc.datacommons.io server.\n",
        "for series_guid in series_guids:\n",
        "  series_drs_object = requests.get(f'{dcf_url}/{series_guid}')\n",
        "  series_drs_objects.append(series_drs_object)\n",
        "\n",
        "# Print one of the DrsObjects\n",
        "print('This series has {} instances'.format(len(series_drs_objects[1].json()['contents'])))\n",
        "pretty(series_drs_objects[1])"
      ],
      "execution_count": null,
      "outputs": []
    },
    {
      "cell_type": "markdown",
      "metadata": {
        "id": "8YJAHzx9vZ2f"
      },
      "source": [
        "Now we can resolve each of the instance DrsObjects. Each of the elements in the *contents* list is a *ContentsObject*. We can resolve the drs_uri component in each ContentsObject to a DrsObject that will contain the GCS URL of the corresponding DICOM instance. In this demo, we will do this for just a single series."
      ]
    },
    {
      "cell_type": "code",
      "metadata": {
        "id": "X6NWakTVwuc3"
      },
      "source": [
        "instance_drs_objects = []\n",
        "for contents_object in series_drs_objects[1].json()['contents']:\n",
        "  instance_drs_object = requests.get('{}/{}'.format(dcf_url,contents_object['id']))\n",
        "  instance_drs_objects.append(instance_drs_object)\n",
        "\n",
        "# Print one of the instance Objects\n",
        "pretty(instance_drs_objects[0])"
      ],
      "execution_count": null,
      "outputs": []
    },
    {
      "cell_type": "markdown",
      "metadata": {
        "id": "rDkIWaX_zUJ-"
      },
      "source": [
        "The `*access_methods*` component of this DrsObject is an array of *`access_method`* objects, each of which contains a URL. There is only a single gs type *`access_method`* for this instance, though the DrsObject structure allows for more than one in the case that the referenced data is available from multiple sources. The gs *`type`* and the gs:// prefix indicate that this instance is in a Google Cloud storage bucket. \n",
        "The bucket name is *idc-tcia-tcga-kirc* and is a good example of the need for GUID based manifests: IDC DICOM data is being migrated to a single bucket named idc-open and the objects are being renamed with shorter UUID based names. Thus URLs such the above will eventually become \"stale\", but  GUIDs will continue to be resolvable to the correct URLs."
      ]
    },
    {
      "cell_type": "markdown",
      "metadata": {
        "id": "8xPBKH144Eu7"
      },
      "source": [
        "##Accessing IDC DICOM data in Google Cloud Storage\n",
        "\n",
        "The above URL can be used to access the corresponding DICOM object. You can used gsutil, curl, or Google APIs for this purpose. \n",
        "Note that IDC GCS buckets are have the Requester Pays attribute. This means that the users bears the cost of accessing the bucket, particularly the user must pay any egress charges. \n",
        "\n",
        "For gs type URL of the form `gs://{bucket}/{object_name}`, the following command line methods or equivalent programatic method can be used to obtain the object:\n",
        "*   gsutil -u {project_id} cp gs://{bucket}/{object_name}\n",
        "*   curl -X GET \\\\\\\n",
        "    -H \"Authorization: Bearer {oauth2_token}\" \\\\\\\n",
        "    -o {save_location} \\\\\\\n",
        "    -k \"https://storage.googleapis.org/storage/v1/b/{bucket}/o/{object_name}?userProject={project_id}\"\n",
        "\n",
        "We will continue to use the same requests.get method. However, we need to generate a new oauth2 token. The Bearer token that we generated was specifically for accessing the IDC API. See the [Google documentation](https://cloud.google.com/storage/docs/using-requester-pays#using) on accessing Requester Pays buckets for more details.\n",
        "In this case, we need to authenticate because the access to the bucket is set to AllAuthenticatedUsers.\n",
        "\n",
        "Note that the authentication step below is specific to Colab. In other contexts, authentication will likely require a different process."
      ]
    },
    {
      "cell_type": "code",
      "metadata": {
        "id": "xzvHSi0Wk8vn"
      },
      "source": [
        "from google.colab import auth\n",
        "auth.authenticate_user()\n",
        "auth_token = !gcloud auth application-default print-access-token\n",
        "# Build a dictionary of headers\n",
        "headers = {'Authorization':'Bearer {}'.format(auth_token[0])}"
      ],
      "execution_count": null,
      "outputs": []
    },
    {
      "cell_type": "code",
      "metadata": {
        "id": "N7ILf2ptQzHc"
      },
      "source": [
        "# Get the gs type URL from one of the returned DrsObjects\n",
        "gs_url = instance_drs_objects[0].json()['access_methods'][0]['access_url']['url'].split('#')[0]\n",
        "# Convert the gs type URL to an https type url\n",
        "bucket = gs_url.split('/')[2]\n",
        "object_name = gs_url.split('/',4)[-1]\n",
        "url = 'https://storage.googleapis.com/{}/{}'.format(bucket,object_name)\n",
        "query_string = 'userProject=YOUR_PROJECT_ID'\n",
        "response = requests.get(url,\n",
        "  # params=query_string,\n",
        "  headers=headers)\n",
        "\n",
        "# Check that there wasn't an error with the request\n",
        "if response.status_code != 200:\n",
        "    # Print the error code and message if something went wrong\n",
        "    print('Request failed: {}'.format(response.reason))\n",
        "\n"
      ],
      "execution_count": null,
      "outputs": []
    },
    {
      "cell_type": "markdown",
      "metadata": {
        "id": "rbgfE53lIXGb"
      },
      "source": [
        "To verify that we have downloaded the instance, we will inspect it using the pydicom package."
      ]
    },
    {
      "cell_type": "code",
      "metadata": {
        "id": "06t66_XFtgKo"
      },
      "source": [
        "!pip install pydicom\n",
        "import pydicom"
      ],
      "execution_count": null,
      "outputs": []
    },
    {
      "cell_type": "markdown",
      "metadata": {
        "id": "VXjtOs_eIn2i"
      },
      "source": [
        "We can access the instance while it is in memory by converting the returned bytes to a binary I/O stream."
      ]
    },
    {
      "cell_type": "code",
      "metadata": {
        "id": "z8LULbS6tTpF"
      },
      "source": [
        "import io\n",
        "dcm = io.BytesIO(response.content)"
      ],
      "execution_count": null,
      "outputs": []
    },
    {
      "cell_type": "markdown",
      "metadata": {
        "id": "ijFqPEk3SlS9"
      },
      "source": [
        "Then we read the object and dump its contents."
      ]
    },
    {
      "cell_type": "code",
      "metadata": {
        "id": "Yy9TfwzPGG8U"
      },
      "source": [
        "ds = pydicom.dcmread(dcm)\n",
        "ds"
      ],
      "execution_count": null,
      "outputs": []
    },
    {
      "cell_type": "markdown",
      "metadata": {
        "id": "sABWUjc9HwcD"
      },
      "source": [
        "##Example: POST /cohorts/query/preview\n",
        "The POST /cohorts/query/preview API returns selected metadata for the elements in a specified cohort. Like the POST /cohorts/manifest/preview API, the `/cohorts/query/preview` API does not actually create a cohort, but acts as if a cohort were created.\n",
        "\n",
        "The values that can be queried are the Original and Derived values that define a filter. Currently these are:\n",
        "Modality, BodyPartExamined, StudyDescription, StudyInstanceUID, PatientID, SeriesInstanceUID, SOPInstanceUID, SeriesDescription, SliceThickness, SeriesNumber, StudyDate, SOPClassUID, collection_id, AnatomicRegionSequence, SegmentedPropertyCategoryCodeSequence, SegmentedPropertyTypeCodeSequence, FrameOfReferenceUID, SegmentNumber, SegmentAlgorithmType, SUVbw, Volume, Diameter, Surface_area_of, Total_Lesion, Standardized_Added_Metabolic, Percent_Within_First_Quarter_of_Intensity_Range, Percent_Within_Third_Quarter_of_Intensity_Range, Percent_Within_Fourth_Quarter_of_Intensity_Range, Percent_Within_Second_Quarter_of_Intensity_Range, Standardized_Added_Metabolic_Activity, Glycolysis_Within_First_Quarter_of_Intensity_Range, Glycolysis_Within_Third_Quarter_of_Intensity_Range, Glycolysis_Within_Fourth_Quarter_of_Intensity_Range, Glycolysis_Within_Second_Quarter_of_Intensity_Range, Internal, Sphericity, Calcification, Lobular, Spiculation, Margin, Texture, Subtlety, Malignancy \n",
        "\n"
      ]
    },
    {
      "cell_type": "markdown",
      "metadata": {
        "id": "vBa9k5lqDX62"
      },
      "source": [
        "In the following, the filter defines a cohort of LIDC_IDRC cases that have spiculation values of 4 or 5 out of 5. The queried values include the PatientID, SOPInstanceID, Modality and Spiculation. "
      ]
    },
    {
      "cell_type": "code",
      "metadata": {
        "id": "rZagke2Ej_8t"
      },
      "source": [
        "filters = {\n",
        "  \"collection_id\": [\n",
        "    \"LIDC_IDRI\"\n",
        "   ],\n",
        "   \"Spiculation\": [\n",
        "     \"4 Out of 5\",\n",
        "     \"5 out of 5 (Marked spiculation)\"\n",
        "    ]\n",
        "}\n",
        "\n",
        "cohort_def = {\"name\": \"testcohort\",\n",
        "              \"description\": \"Test description\",\n",
        "              \"filters\": filters}\n",
        "\n",
        "queryFields = {\n",
        "    \"fields\": [\n",
        "      \"PatientID\",\"SOPInstanceUID\",\"Modality\",\"Spiculation\"\n",
        "    ]\n",
        "  }\n",
        "queryPreviewBody = {\"cohort_def\": cohort_def,\n",
        "                    \"queryFields\": queryFields}\n",
        "\n",
        "query_string = {\n",
        "    'sql': False,\n",
        "    'page_size': 10\n",
        "}\n",
        "\n",
        "response = requests.post(f'{idc_api_preamble}/cohorts/query/preview',\n",
        "                      json=queryPreviewBody, \n",
        "                      params=query_string)\n",
        "# Check that there wasn't an error with the request\n",
        "if response.status_code != 200:\n",
        "    # Print the error code and message if something went wrong\n",
        "    print(response.json())\n",
        "\n",
        "print(json.dumps(response.json(), sort_keys=True, indent=4))"
      ],
      "execution_count": null,
      "outputs": []
    },
    {
      "cell_type": "markdown",
      "metadata": {
        "id": "3IhRGsICEVYe"
      },
      "source": [
        "Like the manifest APIs, there is also a GET cohorts/query/{cohort_id} form of this API, that returns additional data about an existing cohort. Also like the manifest APIs, the query APIs are paged. The /cohorts/query/nextPage endpoint can be used to obtain the additional pages."
      ]
    },
    {
      "cell_type": "markdown",
      "metadata": {
        "id": "lg_IXJBmutPi"
      },
      "source": [
        "##Example: GET /dicomMetadata\n",
        "For completeness, this last section reviews the GET /dicomMetadata endpoint. This endpoint returns a fixed selection of DICOM metadata for all IDC DICOM instances. It is intended for use by other CRDC resources that might need such information for the purpose of aggregating imaging data with other data types.\n",
        "\n",
        "Because it returns metadata on all DICOM instances, paging must be used to obtain the complete set of results."
      ]
    },
    {
      "cell_type": "code",
      "metadata": {
        "id": "FO20f53qwFQf",
        "collapsed": true
      },
      "source": [
        "query_string = dict(\n",
        "    page_size = 10\n",
        ")\n",
        "\n",
        "response = requests.get('{}/dicomMetadata'.format(idc_api_preamble, cohort_id),\n",
        "                      params=query_string, headers = head)\n",
        "\n",
        "# Check that there wasn't an error with the request\n",
        "if response.status_code != 200:\n",
        "    # Print the error code and message if something went wrong\n",
        "    print(response.json())\n",
        "\n",
        "print(json.dumps(response.json(), sort_keys=True, indent=4))"
      ],
      "execution_count": null,
      "outputs": []
    },
    {
      "cell_type": "markdown",
      "metadata": {
        "id": "yGDr8geIdq-K"
      },
      "source": [
        "Subsequent pages can be obtained using the /dicomMetadata/nextPage endpoint."
      ]
    },
    {
      "cell_type": "code",
      "metadata": {
        "id": "7RmMuv-teCGF"
      },
      "source": [
        "query_string = dict(\n",
        "    page_size = 10,\n",
        "    next_page = response.json()['next_page']\n",
        ")\n",
        "response = requests.get('{}/dicomMetadata/nextPage'.format(idc_api_preamble),\n",
        "                    params=query_string)\n",
        "\n",
        "# Check that there wasn't an error with the request\n",
        "if response.status_code != 200:\n",
        "  # Print the error code and message if something went wrong\n",
        "  print(response.json())\n",
        "\n",
        "print(json.dumps(response.json(), sort_keys=True, indent=4))\n",
        "\n"
      ],
      "execution_count": null,
      "outputs": []
    }
  ]
}
