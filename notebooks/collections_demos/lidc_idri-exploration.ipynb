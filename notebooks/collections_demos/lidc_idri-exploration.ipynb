{
  "cells": [
    {
      "cell_type": "markdown",
      "metadata": {
        "colab_type": "text",
        "id": "view-in-github"
      },
      "source": [
        "<a href=\"https://colab.research.google.com/github/ImagingDataCommons/IDC-Examples/blob/master/notebooks/collections_demos/lidc_idri-exploration.ipynb\" target=\"_parent\"><img src=\"https://colab.research.google.com/assets/colab-badge.svg\" alt=\"Open In Colab\"/></a>"
      ]
    },
    {
      "cell_type": "markdown",
      "metadata": {
        "id": "CEvbO9n3x9s_"
      },
      "source": [
        "# Exploration of the LIDC-IDRI analysis results"
      ]
    },
    {
      "cell_type": "markdown",
      "metadata": {
        "id": "hQhKMimOdvc6"
      },
      "source": [
        "# About\n",
        "\n",
        "The purpose of this notebook is to provide a demonstration of how standard DICOM objects containing annotations and evaluations of the nodules for the TCIA [LIDC-IDRI](https://wiki.cancerimagingarchive.net/display/Public/LIDC-IDRI) collection hosted on the Imaging Data Commons (IDC) can be examined using various standard tools and components provided by IDC and Google Cloud platform.\n",
        "\n",
        "Detailed description of the dataset is available in the open access article below.\n",
        "\n",
        "> Fedorov, A., Hancock, M., Clunie, D., Brochhausen, M., Bona, J., Kirby, J., Freymann, J., Pieper, S., J W L Aerts, H., Kikinis, R. & Prior, F. DICOM re-encoding of volumetrically annotated Lung Imaging Database Consortium (LIDC) nodules. Med. Phys. (2020). https://doi.org/10.1002/mp.14445\n",
        "\n",
        "**The latest version of the notebook is in this repository: https://github.com/ImagingDataCommons/IDC-Examples/blob/master/notebooks/LIDC_exploration.ipynb**"
      ]
    },
    {
      "cell_type": "markdown",
      "metadata": {
        "id": "7qwLub9hQAD9"
      },
      "source": [
        "## Prerequisites\n",
        "\n",
        "* To use Colab, and to access data in IDC, you will need a [Google Account](https://support.google.com/accounts/answer/27441?hl=en)\n",
        "* To perform queries against IDC BigQuery tables you will need a cloud project. You can get started with Google Cloud free project with the following steps (they are also illustrated in [this short video](https://youtu.be/i08S0KJLnyw)):\n",
        "  1. Go to https://console.cloud.google.com/, and accept Terms and conditions.\n",
        "  2. Click \"Select a project\" button in the upper left corner of the screen, and then click \"New project\".\n",
        "  3. Open the console menu by clicking the ☰ menu icon in the upper left corner, and select \"Dashboard\". You will see information about your project, including your Project ID. Insert that project ID in the cell below in place of `##MY_PROJECT_ID##`.\n",
        "\n",
        "Let's authenticate to be able to perform any queries, and import the packages we will be using to work with the data."
      ]
    },
    {
      "cell_type": "code",
      "execution_count": 1,
      "metadata": {
        "id": "L4l9YjcKsuI3"
      },
      "outputs": [],
      "source": [
        "myProjectID = \"##MY_PROJECT_ID##\""
      ]
    },
    {
      "cell_type": "code",
      "execution_count": 2,
      "metadata": {
        "id": "5yT4EWyCf1Ic"
      },
      "outputs": [],
      "source": [
        "from google.colab import auth\n",
        "auth.authenticate_user()"
      ]
    },
    {
      "cell_type": "code",
      "execution_count": 3,
      "metadata": {
        "id": "4HXBqT4fdvc7"
      },
      "outputs": [],
      "source": [
        "import pandas as pd\n",
        "import os, json\n",
        "import seaborn as sb\n",
        "import numpy as np\n",
        "import matplotlib.pyplot as plt\n",
        "\n",
        "%matplotlib notebook \n",
        "\n",
        "def get_idc_viewer_url(studyUID):\n",
        "  return \"https://viewer.imaging.datacommons.cancer.gov/viewer/\"+studyUID"
      ]
    },
    {
      "cell_type": "markdown",
      "metadata": {
        "id": "pSMi8Fejdvdf"
      },
      "source": [
        "# Data exploration\n",
        "\n",
        "To explore the data, we will query BigQuery tables maintained by IDC that contain all of the DICOM metadata for hosted content.\n",
        "\n",
        "You can learn about the organization of the IDC BQ tables here: https://learn.canceridc.dev/data/organization-of-data#bigquery-tables\n",
        "\n"
      ]
    },
    {
      "cell_type": "markdown",
      "metadata": {
        "id": "xK0xXC7Wdvdf"
      },
      "source": [
        "### CT Images\n",
        "\n",
        "IDC BQ tables contain one row per DICOM instance. Let's first subset all rows that correspond to the instances of CT modality from the `lidc_idri` collection, and get count the number of CT series for each patient.\n",
        "\n",
        "Note the syntax of the `%%bigquery` command: the last argument specifies the name of the pandas data frame that will contain the result of the query."
      ]
    },
    {
      "cell_type": "code",
      "execution_count": 5,
      "metadata": {
        "id": "OgxP53E-dvdg"
      },
      "outputs": [],
      "source": [
        "%%bigquery ct_series_counts --project=$myProjectID \n",
        "\n",
        "WITH\n",
        "  all_lidc_ct_series AS (\n",
        "  SELECT\n",
        "    DISTINCT(SeriesInstanceUID),\n",
        "    PatientID\n",
        "  FROM\n",
        "    `bigquery-public-data.idc_current.dicom_all`\n",
        "  WHERE\n",
        "    Modality = \"CT\"\n",
        "    AND collection_id = \"lidc_idri\")\n",
        "SELECT\n",
        "  PatientID,\n",
        "  COUNT(PatientID) AS ct_series_count\n",
        "FROM\n",
        "  all_lidc_ct_series\n",
        "GROUP BY\n",
        "  PatientID\n",
        "ORDER BY\n",
        "  ct_series_count DESC"
      ]
    },
    {
      "cell_type": "markdown",
      "metadata": {
        "id": "RiUL6l5agG8E"
      },
      "source": [
        "How many subjects do we have? Which subjects have more than one CT series?\n"
      ]
    },
    {
      "cell_type": "code",
      "execution_count": 6,
      "metadata": {
        "colab": {
          "base_uri": "https://localhost:8080/",
          "height": 352
        },
        "id": "sG9UQY5-dvdj",
        "outputId": "3fcca455-a1c4-4829-8cc4-f5fc5fec9c47"
      },
      "outputs": [
        {
          "name": "stdout",
          "output_type": "stream",
          "text": [
            "Total number of subjects: 1010\n",
            "\n",
            "Subjects with more than one CT series:\n"
          ]
        },
        {
          "data": {
            "text/html": [
              "\n",
              "  <div id=\"df-06fb8885-b4df-446c-90a7-0fca88e6b8d6\">\n",
              "    <div class=\"colab-df-container\">\n",
              "      <div>\n",
              "<style scoped>\n",
              "    .dataframe tbody tr th:only-of-type {\n",
              "        vertical-align: middle;\n",
              "    }\n",
              "\n",
              "    .dataframe tbody tr th {\n",
              "        vertical-align: top;\n",
              "    }\n",
              "\n",
              "    .dataframe thead th {\n",
              "        text-align: right;\n",
              "    }\n",
              "</style>\n",
              "<table border=\"1\" class=\"dataframe\">\n",
              "  <thead>\n",
              "    <tr style=\"text-align: right;\">\n",
              "      <th></th>\n",
              "      <th>PatientID</th>\n",
              "      <th>ct_series_count</th>\n",
              "    </tr>\n",
              "  </thead>\n",
              "  <tbody>\n",
              "    <tr>\n",
              "      <th>0</th>\n",
              "      <td>LIDC-IDRI-0132</td>\n",
              "      <td>2</td>\n",
              "    </tr>\n",
              "    <tr>\n",
              "      <th>1</th>\n",
              "      <td>LIDC-IDRI-0151</td>\n",
              "      <td>2</td>\n",
              "    </tr>\n",
              "    <tr>\n",
              "      <th>2</th>\n",
              "      <td>LIDC-IDRI-0484</td>\n",
              "      <td>2</td>\n",
              "    </tr>\n",
              "    <tr>\n",
              "      <th>3</th>\n",
              "      <td>LIDC-IDRI-0365</td>\n",
              "      <td>2</td>\n",
              "    </tr>\n",
              "    <tr>\n",
              "      <th>4</th>\n",
              "      <td>LIDC-IDRI-0355</td>\n",
              "      <td>2</td>\n",
              "    </tr>\n",
              "    <tr>\n",
              "      <th>5</th>\n",
              "      <td>LIDC-IDRI-0442</td>\n",
              "      <td>2</td>\n",
              "    </tr>\n",
              "    <tr>\n",
              "      <th>6</th>\n",
              "      <td>LIDC-IDRI-0332</td>\n",
              "      <td>2</td>\n",
              "    </tr>\n",
              "    <tr>\n",
              "      <th>7</th>\n",
              "      <td>LIDC-IDRI-0315</td>\n",
              "      <td>2</td>\n",
              "    </tr>\n",
              "  </tbody>\n",
              "</table>\n",
              "</div>\n",
              "      <button class=\"colab-df-convert\" onclick=\"convertToInteractive('df-06fb8885-b4df-446c-90a7-0fca88e6b8d6')\"\n",
              "              title=\"Convert this dataframe to an interactive table.\"\n",
              "              style=\"display:none;\">\n",
              "        \n",
              "  <svg xmlns=\"http://www.w3.org/2000/svg\" height=\"24px\"viewBox=\"0 0 24 24\"\n",
              "       width=\"24px\">\n",
              "    <path d=\"M0 0h24v24H0V0z\" fill=\"none\"/>\n",
              "    <path d=\"M18.56 5.44l.94 2.06.94-2.06 2.06-.94-2.06-.94-.94-2.06-.94 2.06-2.06.94zm-11 1L8.5 8.5l.94-2.06 2.06-.94-2.06-.94L8.5 2.5l-.94 2.06-2.06.94zm10 10l.94 2.06.94-2.06 2.06-.94-2.06-.94-.94-2.06-.94 2.06-2.06.94z\"/><path d=\"M17.41 7.96l-1.37-1.37c-.4-.4-.92-.59-1.43-.59-.52 0-1.04.2-1.43.59L10.3 9.45l-7.72 7.72c-.78.78-.78 2.05 0 2.83L4 21.41c.39.39.9.59 1.41.59.51 0 1.02-.2 1.41-.59l7.78-7.78 2.81-2.81c.8-.78.8-2.07 0-2.86zM5.41 20L4 18.59l7.72-7.72 1.47 1.35L5.41 20z\"/>\n",
              "  </svg>\n",
              "      </button>\n",
              "      \n",
              "  <style>\n",
              "    .colab-df-container {\n",
              "      display:flex;\n",
              "      flex-wrap:wrap;\n",
              "      gap: 12px;\n",
              "    }\n",
              "\n",
              "    .colab-df-convert {\n",
              "      background-color: #E8F0FE;\n",
              "      border: none;\n",
              "      border-radius: 50%;\n",
              "      cursor: pointer;\n",
              "      display: none;\n",
              "      fill: #1967D2;\n",
              "      height: 32px;\n",
              "      padding: 0 0 0 0;\n",
              "      width: 32px;\n",
              "    }\n",
              "\n",
              "    .colab-df-convert:hover {\n",
              "      background-color: #E2EBFA;\n",
              "      box-shadow: 0px 1px 2px rgba(60, 64, 67, 0.3), 0px 1px 3px 1px rgba(60, 64, 67, 0.15);\n",
              "      fill: #174EA6;\n",
              "    }\n",
              "\n",
              "    [theme=dark] .colab-df-convert {\n",
              "      background-color: #3B4455;\n",
              "      fill: #D2E3FC;\n",
              "    }\n",
              "\n",
              "    [theme=dark] .colab-df-convert:hover {\n",
              "      background-color: #434B5C;\n",
              "      box-shadow: 0px 1px 3px 1px rgba(0, 0, 0, 0.15);\n",
              "      filter: drop-shadow(0px 1px 2px rgba(0, 0, 0, 0.3));\n",
              "      fill: #FFFFFF;\n",
              "    }\n",
              "  </style>\n",
              "\n",
              "      <script>\n",
              "        const buttonEl =\n",
              "          document.querySelector('#df-06fb8885-b4df-446c-90a7-0fca88e6b8d6 button.colab-df-convert');\n",
              "        buttonEl.style.display =\n",
              "          google.colab.kernel.accessAllowed ? 'block' : 'none';\n",
              "\n",
              "        async function convertToInteractive(key) {\n",
              "          const element = document.querySelector('#df-06fb8885-b4df-446c-90a7-0fca88e6b8d6');\n",
              "          const dataTable =\n",
              "            await google.colab.kernel.invokeFunction('convertToInteractive',\n",
              "                                                     [key], {});\n",
              "          if (!dataTable) return;\n",
              "\n",
              "          const docLinkHtml = 'Like what you see? Visit the ' +\n",
              "            '<a target=\"_blank\" href=https://colab.research.google.com/notebooks/data_table.ipynb>data table notebook</a>'\n",
              "            + ' to learn more about interactive tables.';\n",
              "          element.innerHTML = '';\n",
              "          dataTable['output_type'] = 'display_data';\n",
              "          await google.colab.output.renderOutput(dataTable, element);\n",
              "          const docLink = document.createElement('div');\n",
              "          docLink.innerHTML = docLinkHtml;\n",
              "          element.appendChild(docLink);\n",
              "        }\n",
              "      </script>\n",
              "    </div>\n",
              "  </div>\n",
              "  "
            ],
            "text/plain": [
              "        PatientID  ct_series_count\n",
              "0  LIDC-IDRI-0132                2\n",
              "1  LIDC-IDRI-0151                2\n",
              "2  LIDC-IDRI-0484                2\n",
              "3  LIDC-IDRI-0365                2\n",
              "4  LIDC-IDRI-0355                2\n",
              "5  LIDC-IDRI-0442                2\n",
              "6  LIDC-IDRI-0332                2\n",
              "7  LIDC-IDRI-0315                2"
            ]
          },
          "execution_count": 6,
          "metadata": {},
          "output_type": "execute_result"
        }
      ],
      "source": [
        "num_subjects = ct_series_counts[\"PatientID\"].shape[0]\n",
        "print(f\"Total number of subjects: {num_subjects}\")\n",
        "\n",
        "print(\"\\nSubjects with more than one CT series:\")\n",
        "ct_series_counts[ct_series_counts[\"ct_series_count\"]>1]"
      ]
    },
    {
      "cell_type": "markdown",
      "metadata": {
        "id": "eL0CgyYxdvdm"
      },
      "source": [
        "We can use BQ to examine various aspects of the dataset, for example those related to the heterogeneity of acquisition in the data."
      ]
    },
    {
      "cell_type": "code",
      "execution_count": 7,
      "metadata": {
        "id": "SVkBw4bGk4IM"
      },
      "outputs": [],
      "source": [
        "%%bigquery slice_thickness --project=$myProjectID \n",
        "\n",
        "WITH\n",
        "  all_lidc_ct_series AS (\n",
        "  SELECT\n",
        "    DISTINCT(SeriesInstanceUID),\n",
        "    StudyInstanceUID,\n",
        "    PatientID,\n",
        "    SliceThickness\n",
        "  FROM\n",
        "    `bigquery-public-data.idc_current.dicom_all`\n",
        "  WHERE\n",
        "    Modality = \"CT\"\n",
        "    AND collection_id = \"lidc_idri\")\n",
        "  SELECT SliceThickness, StudyInstanceUID FROM\n",
        "    all_lidc_ct_series"
      ]
    },
    {
      "cell_type": "code",
      "execution_count": 8,
      "metadata": {
        "colab": {
          "base_uri": "https://localhost:8080/",
          "height": 490
        },
        "id": "Og5rXs-Ldvdn",
        "outputId": "15bb357b-773e-4aac-d8fd-4249f6e7a889"
      },
      "outputs": [
        {
          "name": "stderr",
          "output_type": "stream",
          "text": [
            "/usr/local/lib/python3.7/dist-packages/seaborn/distributions.py:2619: FutureWarning: `distplot` is a deprecated function and will be removed in a future version. Please adapt your code to use either `displot` (a figure-level function with similar flexibility) or `histplot` (an axes-level function for histograms).\n",
            "  warnings.warn(msg, FutureWarning)\n"
          ]
        },
        {
          "data": {
            "text/plain": [
              "count    1018.000000\n",
              "mean        1.918713\n",
              "std         0.728916\n",
              "min         0.600000\n",
              "25%         1.250000\n",
              "50%         2.000000\n",
              "75%         2.500000\n",
              "max         5.000000\n",
              "Name: SliceThickness, dtype: float64"
            ]
          },
          "execution_count": 8,
          "metadata": {},
          "output_type": "execute_result"
        },
        {
          "data": {
            "image/png": "[encoded data removed]",
            "text/plain": [
              "<Figure size 432x288 with 1 Axes>"
            ]
          },
          "metadata": {
            "needs_background": "light"
          },
          "output_type": "display_data"
        }
      ],
      "source": [
        "%matplotlib inline\n",
        "ax=sb.distplot(slice_thickness[\"SliceThickness\"].astype(float),kde=False)\n",
        "ax.set(xlabel=\"SliceThickness, mm\")\n",
        "slice_thickness[\"SliceThickness\"].astype(float).describe()"
      ]
    },
    {
      "cell_type": "markdown",
      "metadata": {
        "id": "hq-ZLENTDLIC"
      },
      "source": [
        "It is easy to view any study stored in IDC by using `StudyInstanceUID` and the IDC Viewer."
      ]
    },
    {
      "cell_type": "code",
      "execution_count": 9,
      "metadata": {
        "colab": {
          "base_uri": "https://localhost:8080/"
        },
        "id": "O8trtEdhDSqy",
        "outputId": "b16a698a-3a6d-43cd-e427-203188e6cf81"
      },
      "outputs": [
        {
          "name": "stdout",
          "output_type": "stream",
          "text": [
            "https://viewer.imaging.datacommons.cancer.gov/viewer/1.3.6.1.4.1.14519.5.2.1.6279.6001.310869628943317589181434675447\n"
          ]
        }
      ],
      "source": [
        "print(get_idc_viewer_url(slice_thickness[\"StudyInstanceUID\"][0]))"
      ]
    },
    {
      "cell_type": "code",
      "execution_count": 10,
      "metadata": {
        "id": "mmY23Ulxmcty"
      },
      "outputs": [],
      "source": [
        "%%bigquery pixel_spacing --project=$myProjectID \n",
        "\n",
        "WITH\n",
        "  all_lidc_ct_series AS (\n",
        "  SELECT\n",
        "    DISTINCT(SeriesInstanceUID),\n",
        "    PatientID,\n",
        "    ARRAY_TO_STRING(PixelSpacing,\"/\") as pixelSpacingStr\n",
        "  FROM\n",
        "    `bigquery-public-data.idc_current.dicom_all`\n",
        "  WHERE\n",
        "    Modality = \"CT\"\n",
        "    AND collection_id = \"lidc_idri\")\n",
        "  SELECT pixelSpacingStr FROM\n",
        "    all_lidc_ct_series"
      ]
    },
    {
      "cell_type": "code",
      "execution_count": 11,
      "metadata": {
        "colab": {
          "base_uri": "https://localhost:8080/",
          "height": 490
        },
        "id": "B-GoQV4Ldvdp",
        "outputId": "b1d04c6b-948c-4755-ec4b-08a8675865cf"
      },
      "outputs": [
        {
          "name": "stderr",
          "output_type": "stream",
          "text": [
            "/usr/local/lib/python3.7/dist-packages/seaborn/distributions.py:2619: FutureWarning: `distplot` is a deprecated function and will be removed in a future version. Please adapt your code to use either `displot` (a figure-level function with similar flexibility) or `histplot` (an axes-level function for histograms).\n",
            "  warnings.warn(msg, FutureWarning)\n"
          ]
        },
        {
          "data": {
            "text/plain": [
              "count    1018.000000\n",
              "mean        0.687689\n",
              "std         0.084851\n",
              "min         0.460938\n",
              "25%         0.625000\n",
              "50%         0.698609\n",
              "75%         0.742188\n",
              "max         0.976562\n",
              "Name: 0, dtype: float64"
            ]
          },
          "execution_count": 11,
          "metadata": {},
          "output_type": "execute_result"
        },
        {
          "data": {
            "image/png": "[encoded data removed]",
            "text/plain": [
              "<Figure size 432x288 with 1 Axes>"
            ]
          },
          "metadata": {
            "needs_background": "light"
          },
          "output_type": "display_data"
        }
      ],
      "source": [
        "xSpacing = pixel_spacing[\"pixelSpacingStr\"].str.split('/',n=1,expand=True)[0].astype(float)\n",
        "ax=sb.distplot(xSpacing, kde=False)\n",
        "ax.set(xlabel=\"PixelSpacing, mm\")\n",
        "xSpacing.describe()"
      ]
    },
    {
      "cell_type": "markdown",
      "metadata": {
        "id": "6ymmFRpEdvdu"
      },
      "source": [
        "### Segmentations\n",
        "\n",
        "LIDC collection includes segmentations stored as DICOM Segmentation objects. You can read more about what those are here: https://learn.canceridc.dev/dicom/derived-objects.\n",
        "\n",
        "Since most of the metadata related to segmentations is stored in DICOM sequences, and it is a bit cumbersome to query metadata located in sequences (which are stored in BigQuery RECORD data type), we will use the data views maintained by IDC that flatten some of that data to simplify access. \n",
        "\n",
        "You can read more about the data views that are maintained by IDC here: https://learn.canceridc.dev/data/organization-of-data#bigquery-tables.\n",
        "\n",
        "You can read in detail about the data organization in [this paper](https://doi.org/10.1002/mp.14445), but in a nutshell, a subset of CT series included in the LIDC collection contains lung nodules, which were annotated volumetrically by a group of readers. \n",
        "\n",
        "First, let's look at the overall summary of the annotations - number of annotations per nodule, and number of nodules per subject.\n",
        "\n",
        "In the query below, we take segmentation-specific attributes from the `segmentations` view, and join it with the selected attributes from the table that contains all of the DICOM metadata and collection-level metadata.\n",
        "\n",
        "One such collection metadata is the `Source_DOI`, which is the Digital Object Identifier (DOI) corresponding to the TCIA collection with the LIDC annotations stored in DICOM format. Since each primary collection can have multiple groups of analysis results associated with it, we use the DOI to subset just a single analysis results collections identified by DOI https://doi.org/10.7937/TCIA.2018.h7umfurq."
      ]
    },
    {
      "cell_type": "code",
      "execution_count": 12,
      "metadata": {
        "id": "5gW_O22EnwQy"
      },
      "outputs": [],
      "source": [
        "%%bigquery segmentations --project=$myProjectID \n",
        "\n",
        "with lidc_segmentations as (\n",
        "SELECT\n",
        "  collection_id, \n",
        "  all_attributes.PatientID,\n",
        "  all_attributes.SeriesDescription,\n",
        "  TrackingID,\n",
        "  TrackingUID,\n",
        "  all_attributes.StudyInstanceUID,\n",
        "  all_attributes.SOPInstanceUID,\n",
        "  all_attributes.Source_DOI\n",
        "FROM\n",
        "  `bigquery-public-data.idc_current.segmentations` AS seg_attributes\n",
        "JOIN\n",
        "  `bigquery-public-data.idc_current.dicom_all` AS all_attributes\n",
        "ON\n",
        "  seg_attributes.SOPInstanceUID = all_attributes.SOPInstanceUID)\n",
        "select * from lidc_segmentations\n",
        "# the below is needed since there are different sets of segmentations available the LIDC collection,\n",
        "# we select the specific collection as defined by the DOI below, which one can also read about by\n",
        "# resolving the DOI URL: \"https://dx.doi.org/\"+Source_DOI = https://dx.doi.org/10.7937/TCIA.2018.h7umfurq\n",
        "where Source_DOI = \"10.7937/TCIA.2018.h7umfurq\"\n",
        "  "
      ]
    },
    {
      "cell_type": "markdown",
      "metadata": {
        "id": "ImvpDII2V2mY"
      },
      "source": [
        "In the below, \"annotation\" corresponds to a segmentation of a nodule, with multiple segmentation potentially available for a given nodule. `TrackingUID` is a unique nodule identifier assigned by the dataset creators (details in the paper!) that can be used to associate individual annotation with a given nodule."
      ]
    },
    {
      "cell_type": "code",
      "execution_count": 13,
      "metadata": {
        "colab": {
          "base_uri": "https://localhost:8080/",
          "height": 386
        },
        "id": "T6ci6ouadvdv",
        "outputId": "ee0d6fcb-1fa6-4718-eefb-c31a4daf74f8"
      },
      "outputs": [
        {
          "name": "stdout",
          "output_type": "stream",
          "text": [
            "Total annotations: 6859\n",
            "Total nodules: 2651\n"
          ]
        },
        {
          "name": "stderr",
          "output_type": "stream",
          "text": [
            "/usr/local/lib/python3.7/dist-packages/seaborn/distributions.py:2619: FutureWarning: `distplot` is a deprecated function and will be removed in a future version. Please adapt your code to use either `displot` (a figure-level function with similar flexibility) or `histplot` (an axes-level function for histograms).\n",
            "  warnings.warn(msg, FutureWarning)\n"
          ]
        },
        {
          "data": {
            "text/plain": [
              "[Text(0.5, 0, 'annotations per nodule')]"
            ]
          },
          "execution_count": 13,
          "metadata": {},
          "output_type": "execute_result"
        },
        {
          "data": {
            "image/png": "[encoded data removed]",
            "text/plain": [
              "<Figure size 432x288 with 1 Axes>"
            ]
          },
          "metadata": {
            "needs_background": "light"
          },
          "output_type": "display_data"
        }
      ],
      "source": [
        "print(\"Total annotations: \"+str(segmentations.shape[0]))\n",
        "print(\"Total nodules: \"+str(segmentations.drop_duplicates(subset=\"TrackingUID\").shape[0]))\n",
        "\n",
        "annotationsPerNodule = segmentations[\"TrackingUID\"].value_counts()\n",
        "ax=sb.distplot(annotationsPerNodule,kde=False) #.set_title(\"Number of annotations per nodule\")\n",
        "ax.set(xlabel=\"annotations per nodule\")"
      ]
    },
    {
      "cell_type": "code",
      "execution_count": 14,
      "metadata": {
        "colab": {
          "base_uri": "https://localhost:8080/",
          "height": 506
        },
        "id": "tglvQGVNdvd1",
        "outputId": "dca2624a-b3c9-48bc-8f5c-61c966deba18"
      },
      "outputs": [
        {
          "name": "stderr",
          "output_type": "stream",
          "text": [
            "/usr/local/lib/python3.7/dist-packages/seaborn/distributions.py:2619: FutureWarning: `distplot` is a deprecated function and will be removed in a future version. Please adapt your code to use either `displot` (a figure-level function with similar flexibility) or `histplot` (an axes-level function for histograms).\n",
            "  warnings.warn(msg, FutureWarning)\n"
          ]
        },
        {
          "data": {
            "text/plain": [
              "count    875.000000\n",
              "mean       7.838857\n",
              "std        6.805594\n",
              "min        1.000000\n",
              "25%        4.000000\n",
              "50%        6.000000\n",
              "75%       10.000000\n",
              "max       49.000000\n",
              "Name: PatientID, dtype: float64"
            ]
          },
          "execution_count": 14,
          "metadata": {},
          "output_type": "execute_result"
        },
        {
          "data": {
            "image/png": "[encoded data removed]",
            "text/plain": [
              "<Figure size 432x288 with 1 Axes>"
            ]
          },
          "metadata": {
            "needs_background": "light"
          },
          "output_type": "display_data"
        }
      ],
      "source": [
        "# annotations per subject\n",
        "annotationsPerSubject=segmentations[\"PatientID\"].value_counts()\n",
        "sb.distplot(annotationsPerSubject,kde=False).set_title(\"Number of annotations per subject\")\n",
        "annotationsPerSubject.describe()"
      ]
    },
    {
      "cell_type": "markdown",
      "metadata": {
        "id": "pswLnH-lXCrH"
      },
      "source": [
        "Next we form a new table that will have a single row per nodule to look at some nodule-level statistics."
      ]
    },
    {
      "cell_type": "code",
      "execution_count": 15,
      "metadata": {
        "colab": {
          "base_uri": "https://localhost:8080/",
          "height": 490
        },
        "id": "cLkcxcmJdvdy",
        "outputId": "a6cb3785-a6e4-4287-d1c2-6c431e1f2336"
      },
      "outputs": [
        {
          "name": "stderr",
          "output_type": "stream",
          "text": [
            "/usr/local/lib/python3.7/dist-packages/seaborn/distributions.py:2619: FutureWarning: `distplot` is a deprecated function and will be removed in a future version. Please adapt your code to use either `displot` (a figure-level function with similar flexibility) or `histplot` (an axes-level function for histograms).\n",
            "  warnings.warn(msg, FutureWarning)\n"
          ]
        },
        {
          "data": {
            "text/plain": [
              "count    875.000000\n",
              "mean       3.029714\n",
              "std        2.680386\n",
              "min        1.000000\n",
              "25%        1.000000\n",
              "50%        2.000000\n",
              "75%        4.000000\n",
              "max       23.000000\n",
              "Name: PatientID, dtype: float64"
            ]
          },
          "execution_count": 15,
          "metadata": {},
          "output_type": "execute_result"
        },
        {
          "data": {
            "image/png": "[encoded data removed]",
            "text/plain": [
              "<Figure size 432x288 with 1 Axes>"
            ]
          },
          "metadata": {
            "needs_background": "light"
          },
          "output_type": "display_data"
        }
      ],
      "source": [
        "# nodules per case, case being \"patient\"\n",
        "oneAnnotationPerNodule=segmentations.drop_duplicates(subset=\"TrackingUID\")[\"PatientID\"].value_counts()\n",
        "ax=sb.distplot(oneAnnotationPerNodule,kde=False) #.set_title(\"Number of nodules per patient\")\n",
        "ax.set(xlabel=\"nodules per case\")\n",
        "oneAnnotationPerNodule.describe()"
      ]
    },
    {
      "cell_type": "markdown",
      "metadata": {
        "id": "y1SD4kbRdvd3"
      },
      "source": [
        "## Visualization of interesting cases\n",
        "\n",
        "If there is an interesting case or annotation, it is easy to visualize it using the IDC-maintained image viewer.\n",
        "\n",
        "Let's find a case that has the largest number of nodules."
      ]
    },
    {
      "cell_type": "code",
      "execution_count": 16,
      "metadata": {
        "colab": {
          "base_uri": "https://localhost:8080/"
        },
        "id": "38FcLIwedvd4",
        "outputId": "86a2271c-b87b-44ef-8d0f-53cdfeb15950"
      },
      "outputs": [
        {
          "data": {
            "text/plain": [
              "LIDC-IDRI-0583    23\n",
              "LIDC-IDRI-0686    21\n",
              "LIDC-IDRI-0855    16\n",
              "Name: PatientID, dtype: int64"
            ]
          },
          "execution_count": 16,
          "metadata": {},
          "output_type": "execute_result"
        }
      ],
      "source": [
        "# which case has the largest number of nodules?\n",
        "oneAnnotationPerNodule.head(3)"
      ]
    },
    {
      "cell_type": "markdown",
      "metadata": {
        "id": "QCgGXplxdvd7"
      },
      "source": [
        "Now that we know `PatientID`s for those, we can get `StudyInstanceUID` - and open the corresponding study in a viewer!"
      ]
    },
    {
      "cell_type": "code",
      "execution_count": 17,
      "metadata": {
        "colab": {
          "base_uri": "https://localhost:8080/",
          "height": 35
        },
        "id": "oIlhbjNJtGeu",
        "outputId": "368b4e4e-0c2c-438e-a331-94816040da61"
      },
      "outputs": [
        {
          "data": {
            "application/vnd.google.colaboratory.intrinsic+json": {
              "type": "string"
            },
            "text/plain": [
              "'1.3.6.1.4.1.14519.5.2.1.6279.6001.230901123329037029807195618747'"
            ]
          },
          "execution_count": 17,
          "metadata": {},
          "output_type": "execute_result"
        }
      ],
      "source": [
        "segmentations[segmentations[\"PatientID\"] == \"LIDC-IDRI-0583\"].drop_duplicates(subset=\"StudyInstanceUID\")[\"StudyInstanceUID\"].values[0]"
      ]
    },
    {
      "cell_type": "markdown",
      "metadata": {
        "id": "nB7Jlp8PthQs"
      },
      "source": [
        "To open the study in the viewer, just append the `StudyInstanceUID` value above (`1.3.6.1.4.1.14519.5.2.1.6279.6001.230901123329037029807195618747`) to the IDC viewer prefix:"
      ]
    },
    {
      "cell_type": "code",
      "execution_count": 18,
      "metadata": {
        "colab": {
          "base_uri": "https://localhost:8080/"
        },
        "id": "3TQfOeSigJE-",
        "outputId": "87f60426-a93f-4721-f0ee-3a4db32be43a"
      },
      "outputs": [
        {
          "name": "stdout",
          "output_type": "stream",
          "text": [
            "https://viewer.imaging.datacommons.cancer.gov/viewer/1.3.6.1.4.1.14519.5.2.1.6279.6001.230901123329037029807195618747\n"
          ]
        }
      ],
      "source": [
        "print(get_idc_viewer_url(\"1.3.6.1.4.1.14519.5.2.1.6279.6001.230901123329037029807195618747\"))"
      ]
    },
    {
      "cell_type": "markdown",
      "metadata": {
        "id": "-gNHbl8Vdvd-"
      },
      "source": [
        "## Evaluations and measurements\n",
        "\n",
        "Each annotation of the nodule is accompanied by its qualitative assessment performed by the reader, and quantitative measurements (volume and surface area) calculated based on the definition of the segmented region.\n",
        "\n",
        "All of those annotations are stored in DICOM Structured Reporting instances of SR teamplate TID 1500 (read more about it here: https://learn.canceridc.dev/dicom/derived-objects.), with each set of measurements associated with a single segmentation and stored in a single instance of the DICOM SR object.\n",
        "\n",
        "Similar to the segmentation objects, navigating the content of DICOM SR objects can be quite complex, and IDC provides table views that simplify access to the measurements contained in SR documents.\n",
        "\n",
        "Let's first get all the measurements, see what kinds of measurements are available for this collection, and how to access them."
      ]
    },
    {
      "cell_type": "code",
      "execution_count": 24,
      "metadata": {
        "id": "n4cK-TeRdvd_"
      },
      "outputs": [],
      "source": [
        "%%bigquery quantitative_measurements --project=$myProjectID \n",
        "\n",
        "SELECT\n",
        "  collection_id, \n",
        "  all_attributes.PatientID,\n",
        "  all_attributes.SeriesDescription,\n",
        "  trackingIdentifier,\n",
        "  trackingUniqueIdentifier,\n",
        "  Quantity.CodeMeaning as Quantity,\n",
        "  \"Units.CodeMeaning\" as Units,\n",
        "  Value,\n",
        "  all_attributes.StudyInstanceUID,\n",
        "  all_attributes.SOPInstanceUID,\n",
        "  all_attributes.Source_DOI\n",
        "FROM\n",
        "  `bigquery-public-data.idc_current.quantitative_measurements` AS measurements_attributes\n",
        "JOIN\n",
        "  `bigquery-public-data.idc_current.dicom_all` AS all_attributes\n",
        "ON\n",
        "  measurements_attributes.SOPInstanceUID = all_attributes.SOPInstanceUID\n",
        "# the below is needed since there are different sets of segmentations available the LIDC collection,\n",
        "# we select the specific collection as defined by the DOI below, which one can also read about by\n",
        "# resolving the DOI URL: \"https://dx.doi.org/\"+Source_DOI = https://dx.doi.org/10.7937/TCIA.2018.h7umfurq  \n",
        "WHERE \n",
        "  Source_DOI = \"10.7937/TCIA.2018.h7umfurq\""
      ]
    },
    {
      "cell_type": "code",
      "execution_count": 25,
      "metadata": {
        "colab": {
          "base_uri": "https://localhost:8080/"
        },
        "id": "pbzR8Oe2dveB",
        "outputId": "c692104e-9a5e-4829-f072-c6c57a5a29a8"
      },
      "outputs": [
        {
          "name": "stdout",
          "output_type": "stream",
          "text": [
            "Number of quantitative measurements: 20577\n"
          ]
        }
      ],
      "source": [
        "print(f\"Number of quantitative measurements: {quantitative_measurements.shape[0]}\")"
      ]
    },
    {
      "cell_type": "code",
      "execution_count": 26,
      "metadata": {
        "colab": {
          "base_uri": "https://localhost:8080/",
          "height": 353
        },
        "id": "02J4TZ4ZdveE",
        "outputId": "e221be83-1e4e-4fbc-b7fb-7d5fd6c89dda"
      },
      "outputs": [
        {
          "name": "stderr",
          "output_type": "stream",
          "text": [
            "/usr/local/lib/python3.7/dist-packages/seaborn/distributions.py:2619: FutureWarning: `distplot` is a deprecated function and will be removed in a future version. Please adapt your code to use either `displot` (a figure-level function with similar flexibility) or `histplot` (an axes-level function for histograms).\n",
            "  warnings.warn(msg, FutureWarning)\n"
          ]
        },
        {
          "data": {
            "text/plain": [
              "Text(0.5, 1.0, 'Annotation volume')"
            ]
          },
          "execution_count": 26,
          "metadata": {},
          "output_type": "execute_result"
        },
        {
          "data": {
            "image/png": "[encoded data removed]",
            "text/plain": [
              "<Figure size 432x288 with 1 Axes>"
            ]
          },
          "metadata": {
            "needs_background": "light"
          },
          "output_type": "display_data"
        }
      ],
      "source": [
        "volumes = quantitative_measurements[quantitative_measurements[\"Quantity\"]==\"Volume\"]\n",
        "sb.distplot(volumes[\"Value\"].astype(float).values,kde=False).set_title(\"Annotation volume\")\n",
        "#volumes[\"Value\"].astype(float).describe()"
      ]
    },
    {
      "cell_type": "markdown",
      "metadata": {
        "id": "Mj6kYdsoiJLR"
      },
      "source": [
        "Similar to the example above, we can easily find the largest annotation, and open it in a viewer."
      ]
    },
    {
      "cell_type": "code",
      "execution_count": 27,
      "metadata": {
        "colab": {
          "base_uri": "https://localhost:8080/"
        },
        "id": "1SRqG52vdveI",
        "outputId": "12602a94-4078-431d-c53d-513a9c9c1aec"
      },
      "outputs": [
        {
          "name": "stdout",
          "output_type": "stream",
          "text": [
            "LIDC-IDRI-0834\n",
            "Nodule 1\n",
            "https://viewer.imaging.datacommons.cancer.gov/viewer/1.3.6.1.4.1.14519.5.2.1.6279.6001.224985459390356936417021464571\n"
          ]
        }
      ],
      "source": [
        "# is that largest tumor an outlier?\n",
        "largest = volumes[volumes[\"Value\"].astype(float)==np.max(volumes[\"Value\"].astype(float).values)]\n",
        "subject = largest[\"PatientID\"].values[0]\n",
        "noduleUID = largest[\"trackingUniqueIdentifier\"].values[0]\n",
        "studyUID = pd.unique(largest[\"StudyInstanceUID\"])[0]\n",
        "#annotationLabel = segmentations[segmentations[\"TrackingUID\"]==noduleUID][\"SegmentLabel\"].values[0]\n",
        "\n",
        "print(subject)\n",
        "print(largest[\"trackingIdentifier\"].values[0])\n",
        "print(get_idc_viewer_url(studyUID))\n",
        "#print(annotationLabel)"
      ]
    },
    {
      "cell_type": "markdown",
      "metadata": {
        "id": "YI1Tjvjc7Ahe"
      },
      "source": [
        "## Qualitative evaluations\n",
        "\n",
        "First, retrieve qualitative measurements alongside some additional attributes from the `dicom_all` table."
      ]
    },
    {
      "cell_type": "code",
      "execution_count": 30,
      "metadata": {
        "id": "dzlI95R7fhuP"
      },
      "outputs": [],
      "source": [
        "%%bigquery qualitative_measurements --project=$myProjectID \n",
        "\n",
        "SELECT\n",
        "  collection_id, \n",
        "  all_attributes.PatientID,\n",
        "  all_attributes.SeriesDescription,\n",
        "  trackingIdentifier,\n",
        "  trackingUniqueIdentifier,\n",
        "  Quantity.CodeMeaning as Quantity,\n",
        "  \"Units.CodeMeaning\" as Units,\n",
        "  Value.CodeMeaning as Value,\n",
        "  all_attributes.StudyInstanceUID,\n",
        "  all_attributes.SOPInstanceUID,\n",
        "  all_attributes.Source_DOI\n",
        "FROM\n",
        "  `bigquery-public-data.idc_current.qualitative_measurements` AS measurements_attributes\n",
        "JOIN\n",
        "  `bigquery-public-data.idc_current.dicom_all` AS all_attributes\n",
        "ON\n",
        "  measurements_attributes.SOPInstanceUID = all_attributes.SOPInstanceUID\n",
        "# the below is needed since there are different sets of segmentations available the LIDC collection,\n",
        "# we select the specific collection as defined by the DOI below, which one can also read about by\n",
        "# resolving the DOI URL: \"https://dx.doi.org/\"+Source_DOI = https://dx.doi.org/10.7937/TCIA.2018.h7umfurq\n",
        "where Source_DOI = \"10.7937/TCIA.2018.h7umfurq\""
      ]
    },
    {
      "cell_type": "markdown",
      "metadata": {
        "id": "ZW-HA3jtxJB5"
      },
      "source": [
        "`Quantity` attribute can be used to figure out the type of evaluation."
      ]
    },
    {
      "cell_type": "code",
      "execution_count": 31,
      "metadata": {
        "colab": {
          "base_uri": "https://localhost:8080/"
        },
        "id": "FyN1Ean0dveT",
        "outputId": "f0cb29d1-61b7-444a-95ec-054209d8f17e"
      },
      "outputs": [
        {
          "data": {
            "text/plain": [
              "array(['Subtlety score', 'Internal structure', 'Calcification',\n",
              "       'Sphericity', 'Margin', 'Lobular Pattern', 'Spiculation',\n",
              "       'Texture', 'Malignancy'], dtype=object)"
            ]
          },
          "execution_count": 31,
          "metadata": {},
          "output_type": "execute_result"
        }
      ],
      "source": [
        "qualitative_measurements[\"Quantity\"].unique()"
      ]
    },
    {
      "cell_type": "markdown",
      "metadata": {
        "id": "pADrE2V7xWIZ"
      },
      "source": [
        "Here is a VERY busy plot summarizing all of the types and values of qualitative evaluations for our cohort."
      ]
    },
    {
      "cell_type": "code",
      "execution_count": 36,
      "metadata": {
        "colab": {
          "base_uri": "https://localhost:8080/",
          "height": 591
        },
        "id": "BexnsOS_dveZ",
        "outputId": "bdc23884-9a46-4d72-f827-23cfb1f7962b",
        "scrolled": false
      },
      "outputs": [
        {
          "data": {
            "text/plain": [
              "<seaborn.axisgrid.FacetGrid at 0x7f02c1808210>"
            ]
          },
          "execution_count": 36,
          "metadata": {},
          "output_type": "execute_result"
        },
        {
          "data": {
            "image/png": "[encoded data removed]",
            "text/plain": [
              "<Figure size 622.125x360 with 1 Axes>"
            ]
          },
          "metadata": {
            "needs_background": "light"
          },
          "output_type": "display_data"
        }
      ],
      "source": [
        "%matplotlib inline\n",
        "\n",
        "sb.catplot(y=\"Quantity\", hue=\"Value\", data=qualitative_measurements, kind=\"count\")\n",
        "\n",
        "#g = sb.FacetGrid(qualitative, col=\"subject\", col_wrap=3, height=2)\n",
        "#g.map(sb.countplot, \"conceptCode_CodeMeaning\", \"conceptValue_CodeMeaning\", color=\".3\");\n",
        "\n",
        "#g = sb.FacetGrid(qualitative, col=\"conceptCode_CodeMeaning\", col_wrap=3)\n",
        "#g.map(sb.countplot, \"conceptValue_CodeMeaning\", color=\".3\", orient=\"v\")\n",
        "#plt.figure(figsize=(10, 30))\n",
        "#sb.countplot(y=\"conceptCode_CodeMeaning\", hue=\"conceptValue_CodeMeaning\", data=qualitativeWithContext)\n"
      ]
    },
    {
      "cell_type": "code",
      "execution_count": 37,
      "metadata": {
        "colab": {
          "base_uri": "https://localhost:8080/"
        },
        "id": "7A-mZiRbdvec",
        "outputId": "70b1e200-e5a8-4a31-a9a0-53a76f4fa675"
      },
      "outputs": [
        {
          "data": {
            "text/plain": [
              "Soft tissue       6819\n",
              "Air                 27\n",
              "Fluid               11\n",
              "Adipose tissue       1\n",
              "Name: Value, dtype: int64"
            ]
          },
          "execution_count": 37,
          "metadata": {},
          "output_type": "execute_result"
        }
      ],
      "source": [
        "\n",
        "qualitative_measurements[qualitative_measurements[\"Quantity\"]==\"Internal structure\"][\"Value\"].value_counts()\n"
      ]
    }
  ],
  "metadata": {
    "colab": {
      "collapsed_sections": [],
      "include_colab_link": true,
      "name": "LIDC exploration",
      "provenance": [],
      "toc_visible": true
    },
    "kernelspec": {
      "display_name": "Python 3",
      "language": "python",
      "name": "python3"
    },
    "language_info": {
      "codemirror_mode": {
        "name": "ipython",
        "version": 3
      },
      "file_extension": ".py",
      "mimetype": "text/x-python",
      "name": "python",
      "nbconvert_exporter": "python",
      "pygments_lexer": "ipython3",
      "version": "3.6.3"
    }
  },
  "nbformat": 4,
  "nbformat_minor": 0
}
