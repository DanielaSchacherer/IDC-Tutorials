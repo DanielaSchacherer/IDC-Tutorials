{
  "cells": [
    {
      "cell_type": "markdown",
      "metadata": {
        "id": "view-in-github",
        "colab_type": "text"
      },
      "source": [
        "<a href=\"https://colab.research.google.com/github/fedorov/IDC-Examples/blob/reorg-intro/notebooks/getting_started/part2_searching_basics.ipynb\" target=\"_parent\"><img src=\"https://colab.research.google.com/assets/colab-badge.svg\" alt=\"Open In Colab\"/></a>"
      ]
    },
    {
      "cell_type": "markdown",
      "metadata": {
        "id": "KmXfYFZtja2F"
      },
      "source": [
        "# Getting started with IDC - Part 2: Basics of searching IDC data\n",
        "\n",
        "---\n",
        "\n",
        "\n",
        "## Summary\n",
        "\n",
        "This notebook is part of [the series](link) introducing NCI Imaging Data Commons to the users who want to interact with IDC programmatically.\n",
        "\n",
        "In Part 1 of this tutorial series, you learned how to complete the prerequisites that are required to be able to search IDC data using GCP BigQuery.\n",
        "\n",
        "In this notebook you will be introduced into how IDC organizes the metadata accompanying images available in IDC, and how that metadata can be used to define subsets of data.\n",
        "\n",
        "---\n",
        "Initial version: Nov 2022\n",
        "\n",
        "Updated: \n"
      ]
    },
    {
      "cell_type": "markdown",
      "source": [
        "## What is IDC?\n",
        "\n",
        "NCI Imaging Data Commons is ..."
      ],
      "metadata": {
        "id": "-z3XVLAgArvo"
      }
    },
    {
      "cell_type": "markdown",
      "source": [
        "## Prerequisites\n",
        "\n",
        "It is assumed that you completed tutorial 1 in the series. You will need to have a Google identity, Google Cloud activated for that account, and the ID of the project created under that account.\n",
        "\n",
        "Before doing **anything** you **must**  authorize Colab Runtime to act on your behalf, and initialize the variable pointing to your Google Cloud project ID.\n",
        "\n",
        "The following cell initializes project ID that is needed for all operations with the cloud. You should have project ID if you completed the [first tutorial]() in this series."
      ],
      "metadata": {
        "id": "a4Q-kRDW77Iy"
      }
    },
    {
      "cell_type": "code",
      "source": [
        "# initialize this variable with your Google Cloud Project ID!\n",
        "my_ProjectID = \"idc-tcia\"\n",
        "\n",
        "import os\n",
        "os.environ[\"GCP_PROJECT_ID\"] = my_ProjectID\n",
        "\n",
        "from google.colab import auth\n",
        "auth.authenticate_user()"
      ],
      "metadata": {
        "id": "bDGChJBK9ooq"
      },
      "execution_count": 1,
      "outputs": []
    },
    {
      "cell_type": "markdown",
      "source": [
        "## Why do I need to search?\n",
        "\n",
        "Think of IDC as a library. Image files are books, and we have ~45 TB of those. When you go to a library, you want to check out just the books that you want to read. In order to find a book in a large library you need a catalog. \n",
        "\n",
        "Just as in the library, IDC maintains a catalog that indexes a variety of metadata fields describing the files we curate. That metadata catalog is accessible in a large database table that you should be using to search and subset the images. Each row in that table corresponds to a file, and includes the location of the file alongside the metadata attributes describing that file.\n"
      ],
      "metadata": {
        "id": "zrbT7voq7yU5"
      }
    },
    {
      "cell_type": "markdown",
      "source": [
        "## What does it mean to search?\n",
        "\n",
        "When you search, or _query_ IDC catalog, you specify what criteria should the metadata describing the selected files satisfy. \n",
        "\n",
        "Queries can be as simple as \n",
        "\n",
        "* \"_everything in collection X_\", \n",
        "\n",
        "or as complex as \n",
        "\n",
        "* \"_files corresponding to CT images of female patients that are accompanied by annotations of lung tumors that are larger than 10 ml in volume_\".\n",
        "\n",
        "Although it would be very nice to just state what you need in free form, in practice queries need to be written in a formal way.\n",
        "\n",
        "IDC organizes all of the metadata into large tables, where each row corresponds to one image file (as of writing, IDC indexes ~42 millions of files) and each column represents a metadata attribute present in one or more files in IDC (currently, we have hundreds of such attributes). \n",
        "\n",
        "IDC metadata tables are maintained in [GCP BigQuery](https://cloud.google.com/bigquery),  with only a tiny subset of the attributes indexed in the catalog available via the [IDC Portal exploration page](https://imaging.datacommons.cancer.gov/explore/). IDC metadata can be queried using Standard Query Language (SQL), and does not require learning any IDC-specific API. "
      ],
      "metadata": {
        "id": "kZMMjky1898-"
      }
    },
    {
      "cell_type": "markdown",
      "source": [
        "## TODO - probably not - Searching using IDC portal\n",
        "\n",
        "IDC Portal is intended to serve as the interface to get basic understanding of the data available in IDC, and "
      ],
      "metadata": {
        "id": "Fkp7Pbu6ATfF"
      }
    },
    {
      "cell_type": "markdown",
      "source": [
        "## First query and BigQuery workspace\n",
        "\n",
        "To get started, let's build the queries that replicate the information about IDC data shown in the IDC Portal.\n",
        "\n",
        "As the very first query, let's get the list of all the image collections available in IDC. Here is that query:\n",
        "\n",
        "```sql\n",
        "SELECT \n",
        "  DISTINCT(collection_id) \n",
        "FROM \n",
        "  bigquery-public-data.idc_current.dicom_all\n",
        "```\n",
        "\n",
        "To run this query interactively, copy the query above to the clipboard, paste it into the Editor tab in the [BigQuery SQL workspace](https://console.cloud.google.com/bigquery), and hit the \"Run\" button. Within few moments you should be able to see the list of collections in IDC in the \"Query results\" section of the interface.\n",
        "\n",
        "![bq_run](https://www.dropbox.com/s/6ah98n6e9ik18if/bq_run.png?raw=1)\n",
        "\n",
        "Let's look into how this query works:\n",
        "* `SELECT` defines the list of columns that should be returned by the query,\n",
        "* `DISTINCT` indicates that we want to see the distinct values encountered in the selected column,\n",
        "* `FROM` defines which table should be queried.\n",
        "\n",
        "In this query we work with the [`dicom_all` table](https://console.cloud.google.com/bigquery?p=bigquery-public-data&d=idc_current&t=dicom_all&page=table), which contains the DICOM metadata extracted from IDC images along with collection-level metadata that does not originate from DICOM."
      ],
      "metadata": {
        "id": "pYEiJZYy_oZW"
      }
    },
    {
      "cell_type": "markdown",
      "source": [
        "## Same query using Python SDK\n",
        "\n",
        "BigQuery SQL workspace is a very convenient tool for exploring schemas of the tables, experimenting with writing and debugging queries, profiling their execution. But you can also run those queries programmatically, which is very convenient if you want to load the result the query into a pandas dataframe, or just perform your searches programmatically.\n",
        "\n",
        "BigQuery API is implemented in a variety of languages, with the python bindings available in the `google-cloud-bigquery` package. Conveniently, this package is pre-installed in Colab!\n",
        "\n",
        "HINT: SQL query syntax is not sensitive to indentation or capitalization - although those are quite helpful to make the query more readable!"
      ],
      "metadata": {
        "id": "9gE4aq0NLizR"
      }
    },
    {
      "cell_type": "code",
      "source": [
        "from google.cloud import bigquery\n",
        "\n",
        "# BigQuery client is initialized with the ID of the project\n",
        "# we specified in the beginning of the notebook!\n",
        "bq_client = bigquery.Client(my_ProjectID)"
      ],
      "metadata": {
        "id": "fZnwFMORZDNk"
      },
      "execution_count": 5,
      "outputs": []
    },
    {
      "cell_type": "code",
      "source": [
        "selection_query = \"\"\"\n",
        "SELECT \n",
        "  DISTINCT(collection_id) \n",
        "FROM \n",
        "  bigquery-public-data.idc_current.dicom_all\n",
        "\"\"\"\n",
        "\n",
        "selection_result = bq_client.query(selection_query)\n",
        "selection_df = selection_result.result().to_dataframe()\n",
        "\n",
        "selection_df"
      ],
      "metadata": {
        "id": "hfoS7obINKO7"
      },
      "execution_count": null,
      "outputs": []
    },
    {
      "cell_type": "markdown",
      "source": [
        "## Exploring other IDC portal attributes via SQL\n",
        "\n",
        "Next we will explore few other attributes that are available in the IDC portal (with the few exceptions, the mapping is pretty straightforward):\n",
        "\n",
        "![portal_filters](https://www.dropbox.com/s/qt3dhzara1ap7s3/portal_filters.png?raw=1)\n",
        "\n",
        "* \"Primary site location\" maps to the `tcia_tumorLocation` column\n",
        "* \"Body Part Examined\" -> `BodyPartExamined`\n",
        "* \"Modality\" -> `Modality`\n",
        "\n"
      ],
      "metadata": {
        "id": "7ofFg6oaNpHw"
      }
    },
    {
      "cell_type": "markdown",
      "source": [
        "### Exercise 1: Write the query to list all values for `tcia_tumorLocation`\n",
        "\n",
        "In the cell below, we pre-filled the code by copying the previous cell. All you need to do is write the query!"
      ],
      "metadata": {
        "id": "3kkHUgqaP2tl"
      }
    },
    {
      "cell_type": "code",
      "source": [
        "# Execution of this cell will fail unless you wrote the query below!\n",
        "selection_query = \"\"\"\n",
        "REPLACE THIS TEXT WITH YOUR QUERY!\n",
        "\"\"\"\n",
        "\n",
        "selection_result = bq_client.query(selection_query)\n",
        "selection_df = selection_result.result().to_dataframe()\n",
        "\n",
        "selection_df"
      ],
      "metadata": {
        "id": "5w9956q-P1YS"
      },
      "execution_count": null,
      "outputs": []
    },
    {
      "cell_type": "markdown",
      "source": [
        "## Combining multiple attributes in a single query\n",
        "\n",
        "With the understanding of the attributes that are available in IDC, you can use SQL to build queries that summarize those attributes to better understand the data.\n",
        "\n",
        "In the following, we use the earlier discussed attributes to list distinct values encountered for tumor locations, body parts examined and modalities for the individual collections."
      ],
      "metadata": {
        "id": "h9kC-9AAQkun"
      }
    },
    {
      "cell_type": "code",
      "source": [
        "# Execution of this cell will fail unless you wrote the query below!\n",
        "selection_query = \"\"\"\n",
        "SELECT\n",
        "  collection_id,\n",
        "  STRING_AGG(DISTINCT(Modality)) as modalities,\n",
        "  STRING_AGG(DISTINCT(tcia_tumorLocation)) as tumor_locations\n",
        "FROM\n",
        "  bigquery-public-data.idc_current.dicom_all\n",
        "GROUP BY\n",
        "  collection_id\n",
        "\"\"\"\n",
        "\n",
        "selection_result = bq_client.query(selection_query)\n",
        "selection_df = selection_result.result().to_dataframe()\n",
        "\n",
        "selection_df"
      ],
      "metadata": {
        "colab": {
          "base_uri": "https://localhost:8080/",
          "height": 655
        },
        "id": "8JLNMCp6XUqX",
        "outputId": "daff0f66-41b5-4286-e364-be567800db9a"
      },
      "execution_count": 7,
      "outputs": [
        {
          "output_type": "execute_result",
          "data": {
            "text/plain": [
              "                     collection_id         modalities tumor_locations\n",
              "0                       qiba_ct_1c       CT,PR,SR,SEG         Phantom\n",
              "1                        tcga_brca        MR,SR,SM,MG          Breast\n",
              "2                    mouse_mammary                 MR         Abdomen\n",
              "3                          cmb_mel           PT,CT,US         Various\n",
              "4                     naf_prostate              CT,PT        Prostate\n",
              "..                             ...                ...             ...\n",
              "123              pdmr_997537_175_t              SR,MR           Colon\n",
              "124              pdmr_292921_168_r              SR,MR         Abdomen\n",
              "125  acrin_contralateral_breast_mr              MR,CR          Breast\n",
              "126                    cptac_ccrcc  CT,CR,SR,SM,DX,MR          Kidney\n",
              "127            nsclc_radiogenomics          SEG,CT,PT           Chest\n",
              "\n",
              "[128 rows x 3 columns]"
            ],
            "text/html": [
              "\n",
              "  <div id=\"df-f7921553-d604-4781-a541-10ebfde2713c\">\n",
              "    <div class=\"colab-df-container\">\n",
              "      <div>\n",
              "<style scoped>\n",
              "    .dataframe tbody tr th:only-of-type {\n",
              "        vertical-align: middle;\n",
              "    }\n",
              "\n",
              "    .dataframe tbody tr th {\n",
              "        vertical-align: top;\n",
              "    }\n",
              "\n",
              "    .dataframe thead th {\n",
              "        text-align: right;\n",
              "    }\n",
              "</style>\n",
              "<table border=\"1\" class=\"dataframe\">\n",
              "  <thead>\n",
              "    <tr style=\"text-align: right;\">\n",
              "      <th></th>\n",
              "      <th>collection_id</th>\n",
              "      <th>modalities</th>\n",
              "      <th>tumor_locations</th>\n",
              "    </tr>\n",
              "  </thead>\n",
              "  <tbody>\n",
              "    <tr>\n",
              "      <th>0</th>\n",
              "      <td>qiba_ct_1c</td>\n",
              "      <td>CT,PR,SR,SEG</td>\n",
              "      <td>Phantom</td>\n",
              "    </tr>\n",
              "    <tr>\n",
              "      <th>1</th>\n",
              "      <td>tcga_brca</td>\n",
              "      <td>MR,SR,SM,MG</td>\n",
              "      <td>Breast</td>\n",
              "    </tr>\n",
              "    <tr>\n",
              "      <th>2</th>\n",
              "      <td>mouse_mammary</td>\n",
              "      <td>MR</td>\n",
              "      <td>Abdomen</td>\n",
              "    </tr>\n",
              "    <tr>\n",
              "      <th>3</th>\n",
              "      <td>cmb_mel</td>\n",
              "      <td>PT,CT,US</td>\n",
              "      <td>Various</td>\n",
              "    </tr>\n",
              "    <tr>\n",
              "      <th>4</th>\n",
              "      <td>naf_prostate</td>\n",
              "      <td>CT,PT</td>\n",
              "      <td>Prostate</td>\n",
              "    </tr>\n",
              "    <tr>\n",
              "      <th>...</th>\n",
              "      <td>...</td>\n",
              "      <td>...</td>\n",
              "      <td>...</td>\n",
              "    </tr>\n",
              "    <tr>\n",
              "      <th>123</th>\n",
              "      <td>pdmr_997537_175_t</td>\n",
              "      <td>SR,MR</td>\n",
              "      <td>Colon</td>\n",
              "    </tr>\n",
              "    <tr>\n",
              "      <th>124</th>\n",
              "      <td>pdmr_292921_168_r</td>\n",
              "      <td>SR,MR</td>\n",
              "      <td>Abdomen</td>\n",
              "    </tr>\n",
              "    <tr>\n",
              "      <th>125</th>\n",
              "      <td>acrin_contralateral_breast_mr</td>\n",
              "      <td>MR,CR</td>\n",
              "      <td>Breast</td>\n",
              "    </tr>\n",
              "    <tr>\n",
              "      <th>126</th>\n",
              "      <td>cptac_ccrcc</td>\n",
              "      <td>CT,CR,SR,SM,DX,MR</td>\n",
              "      <td>Kidney</td>\n",
              "    </tr>\n",
              "    <tr>\n",
              "      <th>127</th>\n",
              "      <td>nsclc_radiogenomics</td>\n",
              "      <td>SEG,CT,PT</td>\n",
              "      <td>Chest</td>\n",
              "    </tr>\n",
              "  </tbody>\n",
              "</table>\n",
              "<p>128 rows × 3 columns</p>\n",
              "</div>\n",
              "      <button class=\"colab-df-convert\" onclick=\"convertToInteractive('df-f7921553-d604-4781-a541-10ebfde2713c')\"\n",
              "              title=\"Convert this dataframe to an interactive table.\"\n",
              "              style=\"display:none;\">\n",
              "        \n",
              "  <svg xmlns=\"http://www.w3.org/2000/svg\" height=\"24px\"viewBox=\"0 0 24 24\"\n",
              "       width=\"24px\">\n",
              "    <path d=\"M0 0h24v24H0V0z\" fill=\"none\"/>\n",
              "    <path d=\"M18.56 5.44l.94 2.06.94-2.06 2.06-.94-2.06-.94-.94-2.06-.94 2.06-2.06.94zm-11 1L8.5 8.5l.94-2.06 2.06-.94-2.06-.94L8.5 2.5l-.94 2.06-2.06.94zm10 10l.94 2.06.94-2.06 2.06-.94-2.06-.94-.94-2.06-.94 2.06-2.06.94z\"/><path d=\"M17.41 7.96l-1.37-1.37c-.4-.4-.92-.59-1.43-.59-.52 0-1.04.2-1.43.59L10.3 9.45l-7.72 7.72c-.78.78-.78 2.05 0 2.83L4 21.41c.39.39.9.59 1.41.59.51 0 1.02-.2 1.41-.59l7.78-7.78 2.81-2.81c.8-.78.8-2.07 0-2.86zM5.41 20L4 18.59l7.72-7.72 1.47 1.35L5.41 20z\"/>\n",
              "  </svg>\n",
              "      </button>\n",
              "      \n",
              "  <style>\n",
              "    .colab-df-container {\n",
              "      display:flex;\n",
              "      flex-wrap:wrap;\n",
              "      gap: 12px;\n",
              "    }\n",
              "\n",
              "    .colab-df-convert {\n",
              "      background-color: #E8F0FE;\n",
              "      border: none;\n",
              "      border-radius: 50%;\n",
              "      cursor: pointer;\n",
              "      display: none;\n",
              "      fill: #1967D2;\n",
              "      height: 32px;\n",
              "      padding: 0 0 0 0;\n",
              "      width: 32px;\n",
              "    }\n",
              "\n",
              "    .colab-df-convert:hover {\n",
              "      background-color: #E2EBFA;\n",
              "      box-shadow: 0px 1px 2px rgba(60, 64, 67, 0.3), 0px 1px 3px 1px rgba(60, 64, 67, 0.15);\n",
              "      fill: #174EA6;\n",
              "    }\n",
              "\n",
              "    [theme=dark] .colab-df-convert {\n",
              "      background-color: #3B4455;\n",
              "      fill: #D2E3FC;\n",
              "    }\n",
              "\n",
              "    [theme=dark] .colab-df-convert:hover {\n",
              "      background-color: #434B5C;\n",
              "      box-shadow: 0px 1px 3px 1px rgba(0, 0, 0, 0.15);\n",
              "      filter: drop-shadow(0px 1px 2px rgba(0, 0, 0, 0.3));\n",
              "      fill: #FFFFFF;\n",
              "    }\n",
              "  </style>\n",
              "\n",
              "      <script>\n",
              "        const buttonEl =\n",
              "          document.querySelector('#df-f7921553-d604-4781-a541-10ebfde2713c button.colab-df-convert');\n",
              "        buttonEl.style.display =\n",
              "          google.colab.kernel.accessAllowed ? 'block' : 'none';\n",
              "\n",
              "        async function convertToInteractive(key) {\n",
              "          const element = document.querySelector('#df-f7921553-d604-4781-a541-10ebfde2713c');\n",
              "          const dataTable =\n",
              "            await google.colab.kernel.invokeFunction('convertToInteractive',\n",
              "                                                     [key], {});\n",
              "          if (!dataTable) return;\n",
              "\n",
              "          const docLinkHtml = 'Like what you see? Visit the ' +\n",
              "            '<a target=\"_blank\" href=https://colab.research.google.com/notebooks/data_table.ipynb>data table notebook</a>'\n",
              "            + ' to learn more about interactive tables.';\n",
              "          element.innerHTML = '';\n",
              "          dataTable['output_type'] = 'display_data';\n",
              "          await google.colab.output.renderOutput(dataTable, element);\n",
              "          const docLink = document.createElement('div');\n",
              "          docLink.innerHTML = docLinkHtml;\n",
              "          element.appendChild(docLink);\n",
              "        }\n",
              "      </script>\n",
              "    </div>\n",
              "  </div>\n",
              "  "
            ]
          },
          "metadata": {},
          "execution_count": 7
        }
      ]
    },
    {
      "cell_type": "markdown",
      "source": [
        "In the query above, we use the familiar operators `SELECT` and `FROM`, but also couple of new ones:\n",
        "\n",
        "* `GROUP BY` in the end of the query indicates that we want to get a single row per the distinct value of the `collection_id`\n",
        "* `STRING_AGG` and `DISTINCT` indicate how the values of the selected columns should be aggregated while combining into single row per `collection_id`: we take all the distinct values per individual `collection_id`, and the concatenate them into a single string\n",
        "\n"
      ],
      "metadata": {
        "id": "MO4Q2yGaZb-z"
      }
    },
    {
      "cell_type": "markdown",
      "source": [
        "### Exercise 2: Use multiple criteria to select image collections of interest\n",
        "\n",
        "In the previous query we learned how to get collection-level list of the modalities and tumor locations. In this exercise you task is to write a query that identifies all of the collections that include MR modality and \"Lung\" as a tumor location."
      ],
      "metadata": {
        "id": "p3Thd5reazOw"
      }
    },
    {
      "cell_type": "code",
      "source": [
        "# Execution of this cell will fail unless you wrote the query below!\n",
        "selection_query = \"\"\"\n",
        "SELECT \n",
        "  DISTINCT(collection_id)\n",
        "FROM\n",
        "  bigquery-public-data.idc_current.dicom_all\n",
        "WHERE\n",
        "  # write the selection criteria under this line!\n",
        "\"\"\"\n",
        "\n",
        "selection_result = bq_client.query(selection_query)\n",
        "selection_df = selection_result.result().to_dataframe()\n",
        "\n",
        "selection_df"
      ],
      "metadata": {
        "id": "kg9gKhfzbcmR"
      },
      "execution_count": null,
      "outputs": []
    },
    {
      "cell_type": "markdown",
      "source": [
        "## DICOM data model: Patients, studies, series and instances"
      ],
      "metadata": {
        "id": "Y53cny6PcAa4"
      }
    },
    {
      "cell_type": "markdown",
      "source": [
        "Up to now we searched the data at the granularity of the collections. In practice, we often want to know how many patients meet our search criteria, or what are the specific images that we need to download. \n",
        "\n",
        "IDC is using DICOM for data representation, and in the DICOM data model, patients (identified by `PatientID`) undergo imaging exams (or _studies_, in DICOM nomenclature). \n",
        "\n",
        "Each patient will have one or more studies, with each study identified uniquely by the attribute `StudyInstanceUID`. During each of the imaging studies one or more imaging _series_ will be collected. As an example, a Computed Tomography (CT) imaging study may include a volume sweep before and after administration of the contrast agent. Imaging series are uniqiely identified by `SeriesInstanceUID`. \n",
        "\n",
        "Finally, each imaging series contains one or more _instances_, where each instance corresponds to a file. Most often, one instance corresponds to a single slice from a cross-sectional image. Individual instances are identified by unique `SOPInstanceUID` values.\n",
        "\n",
        "In the following we will select all distinct segmentation series that are available within the `nsclc_radiomics` collection."
      ],
      "metadata": {
        "id": "r9JsFvdR8OUv"
      }
    }
  ],
  "metadata": {
    "language_info": {
      "name": "python"
    },
    "orig_nbformat": 4,
    "colab": {
      "provenance": [],
      "toc_visible": true,
      "include_colab_link": true
    },
    "kernelspec": {
      "name": "python3",
      "display_name": "Python 3"
    },
    "gpuClass": "standard"
  },
  "nbformat": 4,
  "nbformat_minor": 0
}