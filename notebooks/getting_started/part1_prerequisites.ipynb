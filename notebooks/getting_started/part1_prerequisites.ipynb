{
  "cells": [
    {
      "cell_type": "markdown",
      "metadata": {
        "id": "view-in-github",
        "colab_type": "text"
      },
      "source": [
        "<a href=\"https://colab.research.google.com/github/ImagingDataCommons/IDC-Tutorials/blob/master/notebooks/getting_started/part1_prerequisites.ipynb\" target=\"_parent\"><img src=\"https://colab.research.google.com/assets/colab-badge.svg\" alt=\"Open In Colab\"/></a>"
      ]
    },
    {
      "cell_type": "markdown",
      "metadata": {
        "id": "KmXfYFZtja2F"
      },
      "source": [
        "# Getting started with IDC - Part 1: Introduction\n",
        "\n",
        "This notebook is part of [the \"Getting started with IDC\" series](https://github.com/ImagingDataCommons/IDC-Examples/tree/master/notebooks/getting_started) introducing [NCI Imaging Data Commons](https://portal.imaging.datacommons.cancer.gov/explore) to the users who want to interact with IDC programmatically.\n",
        "\n",
        "This tutorial series is aimed at users of IDC that are interested in downloading files from IDC, preparing cohorts for the subsequent analysis, and overall streamlining their interaction with IDC.\n",
        "\n",
        "To complete the beginner components of this tutorial series all you will need is computer that has a web browser and an Internet connection. If you choose to complete the beginner component using Google Colab, you will also need to have a Google account.\n",
        "\n",
        "For the intermediate component of the tutorial you must have a Google account, which is required to set up Google Cloud project prerequisite. However, if this is the first time you are interacting with IDC, you can safely skip all of the intermediate-level tutorial sections. They are not essential for basic interactions with IDC!\n",
        "\n",
        "In this first part of the tutorial series we set up your computer for the subsequent components of the tutorial, and learn how to download items you can select in the IDC Portal to your computer.\n",
        "\n",
        "This tutorial consists of 2 sections:\n",
        "* Getting started with `idc-index`: this is the section that you should complete if you are a beginner user of IDC\n",
        "* Getting started with BigQuery: this section covers prerequisites for intermediate users. If you are a beginner, we recommend you skip this section and revisit it if you like after completing the beginner-level materials.\n",
        "\n",
        "---\n",
        "\n",
        "Initial version: Nov 2022\n",
        "\n",
        "Updated: May 2024"
      ]
    },
    {
      "cell_type": "markdown",
      "metadata": {
        "id": "r9udGNfCodXM"
      },
      "source": [
        "## Getting started with `idc-index`: beginner level\n",
        "\n",
        "`idc-index` is a python package that accompanies IDC and provides basic functionality around searching and accessing data from IDC.\n",
        "\n",
        "We will install `idc-index` using `pip`. Note that this package is under active development. We will use the `--upgrade` option to access the latest version. It should take around 1-2 minutes to install the dependencies and complete the next cell."
      ]
    },
    {
      "cell_type": "code",
      "execution_count": null,
      "metadata": {
        "id": "--TqvNmxDnmF",
        "outputId": "c161dbbc-9ddd-47d3-f02c-79ed1f59c864"
      },
      "outputs": [
        {
          "name": "stdout",
          "output_type": "stream",
          "text": [
            "Collecting idc-index\n",
            "  Downloading idc_index-0.5.6-py3-none-any.whl.metadata (7.6 kB)\n",
            "Requirement already satisfied: duckdb>=0.10.0 in /usr/local/Caskroom/miniconda/base/envs/idc-index/lib/python3.9/site-packages (from idc-index) (0.10.2)\n",
            "Requirement already satisfied: idc-index-data==18.0.1 in /usr/local/Caskroom/miniconda/base/envs/idc-index/lib/python3.9/site-packages (from idc-index) (18.0.1)\n",
            "Requirement already satisfied: packaging in /usr/local/Caskroom/miniconda/base/envs/idc-index/lib/python3.9/site-packages (from idc-index) (24.0)\n",
            "Collecting pandas<2.2 (from idc-index)\n",
            "  Using cached pandas-2.1.4-cp39-cp39-macosx_10_9_x86_64.whl.metadata (18 kB)\n",
            "Requirement already satisfied: psutil in /usr/local/Caskroom/miniconda/base/envs/idc-index/lib/python3.9/site-packages (from idc-index) (5.9.8)\n",
            "Requirement already satisfied: pyarrow in /usr/local/Caskroom/miniconda/base/envs/idc-index/lib/python3.9/site-packages (from idc-index) (16.0.0)\n",
            "Collecting requests (from idc-index)\n",
            "  Downloading requests-2.32.0-py3-none-any.whl.metadata (4.6 kB)\n",
            "Collecting s5cmd (from idc-index)\n",
            "  Using cached s5cmd-0.2.0.tar.gz (13 kB)\n",
            "  Installing build dependencies ... \u001b[?25ldone\n",
            "\u001b[?25h  Getting requirements to build wheel ... \u001b[?25ldone\n",
            "\u001b[?25h  Installing backend dependencies ... \u001b[?25ldone\n",
            "\u001b[?25h  Preparing metadata (pyproject.toml) ... \u001b[?25ldone\n",
            "\u001b[?25hRequirement already satisfied: tqdm in /usr/local/Caskroom/miniconda/base/envs/idc-index/lib/python3.9/site-packages (from idc-index) (4.66.2)\n",
            "Requirement already satisfied: numpy<2,>=1.22.4 in /usr/local/Caskroom/miniconda/base/envs/idc-index/lib/python3.9/site-packages (from pandas<2.2->idc-index) (1.26.4)\n",
            "Requirement already satisfied: python-dateutil>=2.8.2 in /usr/local/Caskroom/miniconda/base/envs/idc-index/lib/python3.9/site-packages (from pandas<2.2->idc-index) (2.9.0)\n",
            "Requirement already satisfied: pytz>=2020.1 in /usr/local/Caskroom/miniconda/base/envs/idc-index/lib/python3.9/site-packages (from pandas<2.2->idc-index) (2024.1)\n",
            "Requirement already satisfied: tzdata>=2022.1 in /usr/local/Caskroom/miniconda/base/envs/idc-index/lib/python3.9/site-packages (from pandas<2.2->idc-index) (2024.1)\n",
            "Collecting charset-normalizer<4,>=2 (from requests->idc-index)\n",
            "  Downloading charset_normalizer-3.3.2-cp39-cp39-macosx_10_9_x86_64.whl.metadata (33 kB)\n",
            "Collecting idna<4,>=2.5 (from requests->idc-index)\n",
            "  Using cached idna-3.7-py3-none-any.whl.metadata (9.9 kB)\n",
            "Collecting urllib3<3,>=1.21.1 (from requests->idc-index)\n",
            "  Using cached urllib3-2.2.1-py3-none-any.whl.metadata (6.4 kB)\n",
            "Collecting certifi>=2017.4.17 (from requests->idc-index)\n",
            "  Using cached certifi-2024.2.2-py3-none-any.whl.metadata (2.2 kB)\n",
            "Requirement already satisfied: six>=1.5 in /usr/local/Caskroom/miniconda/base/envs/idc-index/lib/python3.9/site-packages (from python-dateutil>=2.8.2->pandas<2.2->idc-index) (1.16.0)\n",
            "Downloading idc_index-0.5.6-py3-none-any.whl (17 kB)\n",
            "Using cached pandas-2.1.4-cp39-cp39-macosx_10_9_x86_64.whl (11.8 MB)\n",
            "Downloading requests-2.32.0-py3-none-any.whl (63 kB)\n",
            "\u001b[2K   \u001b[90m━━━━━━━━━━━━━━━━━━━━━━━━━━━━━━━━━━━━━━━━\u001b[0m \u001b[32m63.7/63.7 kB\u001b[0m \u001b[31m703.1 kB/s\u001b[0m eta \u001b[36m0:00:00\u001b[0m\u001b[36m0:00:01\u001b[0m\n",
            "\u001b[?25hUsing cached certifi-2024.2.2-py3-none-any.whl (163 kB)\n",
            "Downloading charset_normalizer-3.3.2-cp39-cp39-macosx_10_9_x86_64.whl (122 kB)\n",
            "\u001b[2K   \u001b[90m━━━━━━━━━━━━━━━━━━━━━━━━━━━━━━━━━━━━━━━\u001b[0m \u001b[32m122.5/122.5 kB\u001b[0m \u001b[31m817.5 kB/s\u001b[0m eta \u001b[36m0:00:00\u001b[0ma \u001b[36m0:00:01\u001b[0m\n",
            "\u001b[?25hUsing cached idna-3.7-py3-none-any.whl (66 kB)\n",
            "Using cached urllib3-2.2.1-py3-none-any.whl (121 kB)\n",
            "Building wheels for collected packages: s5cmd\n",
            "  Building wheel for s5cmd (pyproject.toml) ... \u001b[?25ldone\n",
            "\u001b[?25h  Created wheel for s5cmd: filename=s5cmd-0.2.0-py3-none-macosx_10_16_x86_64.whl size=4943011 sha256=6714b39be7c843d1fb1762cd5901289fc9c8c7235dd3b73a0d78b50543505fe0\n",
            "  Stored in directory: /Users/af61/Library/Caches/pip/wheels/97/58/18/8e066db8baf74e33db33b497cfd3490054d4fe0250cc474537\n",
            "Successfully built s5cmd\n",
            "Installing collected packages: urllib3, s5cmd, idna, charset-normalizer, certifi, requests, pandas, idc-index\n",
            "  Attempting uninstall: pandas\n",
            "    Found existing installation: pandas 2.2.2\n",
            "    Uninstalling pandas-2.2.2:\n",
            "      Successfully uninstalled pandas-2.2.2\n",
            "Successfully installed certifi-2024.2.2 charset-normalizer-3.3.2 idc-index-0.5.6 idna-3.7 pandas-2.1.4 requests-2.32.0 s5cmd-0.2.0 urllib3-2.2.1\n",
            "Note: you may need to restart the kernel to use updated packages.\n"
          ]
        }
      ],
      "source": [
        "pip install --upgrade idc-index"
      ]
    },
    {
      "cell_type": "markdown",
      "metadata": {
        "id": "G5Ag44i0DnmH"
      },
      "source": [
        "`idc-index` contains the two main components:\n",
        "* index: a table containing most important metadata attributes describing DICOM series contained in IDC\n",
        "* utility functions: these functions support basic operations such as download of the files, or search of the index\n",
        "\n",
        "Access to both index and utility functions is provided via the `IDCClient` class available in the package. We will always instantiate that class before doing anything else, as done in the following cell. It may take around 10-20 sec to initialize the client, since behind the scenes it initializes a database that wraps the index mentioned above. This is a one-time operation!"
      ]
    },
    {
      "cell_type": "code",
      "execution_count": null,
      "metadata": {
        "id": "nOFBo8J6DnmH"
      },
      "outputs": [],
      "source": [
        "from idc_index import index\n",
        "\n",
        "idc_client = index.IDCClient()"
      ]
    },
    {
      "cell_type": "markdown",
      "metadata": {
        "id": "6gs3Q__BDnmI"
      },
      "source": [
        "IDC data is versioned. When you work with `idc-index` it is important to take note of the IDC data release for the installed package.  If you check IDC Portal, you will see the current version of IDC data in the bottom left corner.\n",
        "\n",
        "<img src=\"https://github.com/ImagingDataCommons/IDC-Tutorials/releases/download/0.2.0/Tutorial-version.gif\" alt=\"select\" width=\"800\"/>\n"
      ]
    },
    {
      "cell_type": "markdown",
      "metadata": {
        "id": "yGXb8zPEDnmI"
      },
      "source": [
        "It is always a good idea to confirm the version of IDC data for the `idc-index` package!"
      ]
    },
    {
      "cell_type": "code",
      "execution_count": null,
      "metadata": {
        "id": "11L-clQFDnmJ",
        "outputId": "e552d78d-f63e-4ff9-b7bf-a38dd2911746"
      },
      "outputs": [
        {
          "data": {
            "text/plain": [
              "'v18'"
            ]
          },
          "execution_count": 3,
          "metadata": {},
          "output_type": "execute_result"
        }
      ],
      "source": [
        "idc_client.get_idc_version()"
      ]
    },
    {
      "cell_type": "markdown",
      "metadata": {
        "id": "AsvLbg0wDnmJ"
      },
      "source": [
        "Now that you have `idc-index` install, among many other things, you can download files corresponding to the individual collections, patients, or studies to your computer.\n",
        "\n",
        "To experiment with this functionality, let's proceed to the IDC Portal explore page, and select a sample DICOM study. Given the unique identifier of that study we will next download the files corresponding to that study using `idc-index`. Please open the [IDC Portal](https://portal.imaging.datacommons.cancer.gov/explore/) page in a new tab, and follow the demonstration below to copy the identifier of a sample series from IDC (you are welcome to experiment with picking a different series, but you should know that some of those can be as large as several hundreds of gigabytes!).\n",
        "\n",
        "<img src=\"https://github.com/ImagingDataCommons/IDC-Tutorials/releases/download/0.2.0/Tutorial-copy.gif\" alt=\"select\" width=\"800\"/>"
      ]
    },
    {
      "cell_type": "markdown",
      "metadata": {
        "id": "Z43rsoBfDnmK"
      },
      "source": [
        "If you followed the demo above precisely, you should have this string in your clipboard: `1.2.840.113654.2.55.68425808326883186792123057288612355322`. This identifier is all that is needed to fetch the files contained in that DICOM study with just a single function call using `idc-index`! In the following cell these files will be downloaded to the current directory.\n",
        "\n",
        "Note how the download progress is reported as the files are fetched from the cloud to your computer. The study referenced above takes around 314 MB on disk if you fetch it from the IDC data release v18."
      ]
    },
    {
      "cell_type": "code",
      "execution_count": null,
      "metadata": {
        "id": "O-ekzGMpDnmK",
        "outputId": "1ff56d0c-b783-42ad-d3d0-a978428c9c72"
      },
      "outputs": [
        {
          "name": "stderr",
          "output_type": "stream",
          "text": [
            "2024-05-20 15:46:47,084 - Total size of files to download: 314.45 MB\n",
            "2024-05-20 15:46:47,085 - Total free space on disk: 484.166537216GB\n",
            "2024-05-20 15:46:47,891 - \n",
            "Temporary download manifest is generated and is passed to self._s5cmd_run\n",
            "\n",
            "2024-05-20 15:46:47,892 - Not using s5cmd sync dry run as the destination folder is empty or sync dry or progress bar is not requested\n",
            "2024-05-20 15:46:47,934 - Inputs received for tracking download:\n",
            "2024-05-20 15:46:47,936 - size_MB: 314.45\n",
            "2024-05-20 15:46:47,938 - downloadDir: /Users/af61/github/IDC-Tutorials/notebooks/getting_started\n",
            "2024-05-20 15:46:47,939 - show_progress_bar: True\n",
            "2024-05-20 15:46:47,941 - Initial size of the directory: 0 bytes\n",
            "2024-05-20 15:46:47,944 - Approx. Size of the files need to be downloaded: 314450000.0 bytes\n",
            "Downloading data: 100%|██████████| 314M/314M [00:28<00:00, 10.8MB/s] \n",
            "2024-05-20 15:47:17,064 - Successfully downloaded files to /Users/af61/github/IDC-Tutorials/notebooks/getting_started\n"
          ]
        }
      ],
      "source": [
        "idc_client.download_from_selection(studyInstanceUID=\"1.2.840.113654.2.55.68425808326883186792123057288612355322\", downloadDir=\".\")"
      ]
    },
    {
      "cell_type": "markdown",
      "metadata": {
        "id": "8NfsIdtTDnmK"
      },
      "source": [
        "Once the download is completed, you can check the current directory to examine the content. Note that files are downloaded in to a folder hierarchy to make navigation easier. The default hierarchy is `collection_id` > `PatientID` > `StudyInstanceUID` > `Modality`_`SeriesInstanceUID`. You can configure this hierarchy - see documentation for the `download_from_selection()` function [here](https://idc-index.readthedocs.io/en/latest/api/idc_index.html#idc_index.index.IDCClient.download_from_selection).\n",
        "\n",
        "This is it - you are done with the first part of the tutorial! From here, if you are a beginner, you should proceed to the [Part 2](https://github.com/ImagingDataCommons/IDC-Tutorials/blob/master/notebooks/getting_started/part2_searching_basics.ipynb) of the Getting started tutorial and skip the following section."
      ]
    },
    {
      "cell_type": "markdown",
      "metadata": {
        "id": "bF4n45wRodXO"
      },
      "source": [
        "## Getting started with BigQuery: intermediate level\n",
        "\n",
        "`idc-index` package covered in the previous section provides access to the basic metadata attributes for the files stored in IDC. Those are sufficient for the basic needs.\n",
        "\n",
        "Over time, as you keep using IDC, your understanding of the data will grow along with your needs. With Google BigQuery it is possible to search _all_ of the metadata accompanying IDC files. In this section we will set up the prerequisites for using Google BigQuery. [Part 3](https://github.com/ImagingDataCommons/IDC-Tutorials/blob/master/notebooks/getting_started/part3_exploring_cohorts.ipynb) of this tutorial series will give you an introduction into how to work with BigQuery.\n",
        "\n",
        "To get started with BigQuery you need is a Google account (google identity) and a web browser. If you don't have a Google account, you can learn how to get one [here](https://accounts.google.com/signup/v2/webcreateaccount?dsh=308321458437252901&continue=https%3A%2F%2Faccounts.google.com%2FManageAccount&flowName=GlifWebSignIn&flowEntry=SignUp#FirstName=&LastName=). Note that you do NOT need a Gmail email account - [you can use your non-Gmail email address to create one instead](https://support.google.com/accounts/answer/27441?hl=en#existingemail).\n",
        "\n",
        "[!WARNING]\n",
        "\n",
        "The code cells in this section of the notebook should work if you run it in Google Colab. They will not work on your computer!\n",
        "\n",
        "[!WARNING]\n",
        "\n",
        "If you have a Google account that was provided by your organization, it may not be suitable for this tutorial if the organization managing your account has restrictions in place related to GCP! If you experience issues using your organization account, please switch to a personal one (you can create one just for the purposes of this tutorial, if you prefer)."
      ]
    },
    {
      "cell_type": "markdown",
      "metadata": {
        "id": "PPIHDykYodXO"
      },
      "source": [
        "The first step is to activate Google Cloud Platform product for the Google account you will be using.\n",
        "\n",
        "You do not need to connect your credit card, and you will not need any special permissions or credits to create a project and use it in the subsequent parts of this tutorial series.\n",
        "\n",
        "To activate Google Cloud Platform for your account, follow these steps.\n",
        "\n",
        "1.  Go to https://console.cloud.google.com/, and accept Terms and conditions.\n",
        "\n",
        "<img src=\"https://www.dropbox.com/s/d570wqaqt72zzaz/agreed.png?raw=1\" alt=\"agree\" width=\"400\"/>\n",
        "\n",
        "2. In the upper left corner of the GCP console click \"Select a project\"\n",
        "\n",
        "<img src=\"https://www.dropbox.com/s/hzty1pgfq6ll7hy/select.png?raw=1\" alt=\"select\" width=\"400\"/>\n",
        "\n",
        "3. In the project selector click \"Create new project\". If you already have a project, you may be able to reuse it for this tutorial.\n",
        "\n",
        "<img src=\"https://www.dropbox.com/s/ybhdloqsjnffdb1/new.png?raw=1\" alt=\"new\" width=\"400\"/>\n",
        "\n",
        "4. Open the GCP console menu by clicking the ☰ menu icon in the upper left corner, and select \"Dashboard\". You will see information about your project, including your Project ID. Insert that project ID in the cell below. Once you run this cell, it will also prompt you to give Colab permissions to act on your behalf."
      ]
    },
    {
      "cell_type": "code",
      "execution_count": null,
      "metadata": {
        "cellView": "form",
        "id": "SJ29fuYyodXP"
      },
      "outputs": [],
      "source": [
        "#@title Enter your Project ID\n",
        "# initialize this variable with your Google Cloud Project ID!\n",
        "my_ProjectID = \"\" #@param {type:\"string\"}\n",
        "\n",
        "import os\n",
        "os.environ[\"GCP_PROJECT_ID\"] = my_ProjectID\n",
        "\n",
        "from google.colab import auth\n",
        "auth.authenticate_user()"
      ]
    },
    {
      "cell_type": "markdown",
      "metadata": {
        "id": "Ty5tneoqodXQ"
      },
      "source": [
        "Next we will locate and bookmark `bigquery-public-data` project.\n",
        "\n",
        "`bigquery-public-data` is a public Google Cloud project that contains BigQuery tables with IDC metadata. To navigate those metadata tables you need to manually add this project to your workspace.\n",
        "\n",
        "1. Open the BigQuery console: https://console.cloud.google.com/bigquery, and click the `+ ADD DATA` button.\n",
        "\n",
        "<img src=\"https://www.dropbox.com/s/0ka4gpjo73bfi52/gcp_bq_add.png?raw=1\" alt=\"add data\" width=\"400\"/>\n",
        "\n",
        "2. Choose \"Star a project\" option from the list.\n",
        "\n",
        "<img src=\"https://www.dropbox.com/s/6688galhthr5vsn/star_a_project.png?raw=1\" alt=\"star a project\" width=\"400\"/>\n",
        "\n",
        "3. Type `bigquery-public-data` as the project name and click `STAR` button.\n",
        "\n",
        "<img src=\"https://www.dropbox.com/s/nzh7aybkre138g1/star.png?raw=1\" alt=\"star\" width=\"400\"/>\n",
        "\n",
        "In a few moments, `bigquery-public-data` project should appear in the list on the left hand side of the BigQuery console.\n",
        "\n",
        "<img src=\"https://www.dropbox.com/s/s2f6vpolbimnyb8/bqpd_added.png?raw=1\" alt=\"starred\" width=\"400\"/>\n",
        "\n",
        "`bigquery-public-data` is a Google Cloud project maintained by the Google Public Datasets Program, which contains numerous public datasets along with those curated by IDC. To find BigQuery datasets corresponding to the versioned IDC releases, expand the drop-down selector and scroll to the datasets that are named as `idc_v18` etc. The largest number will correspond to the latest data release.\n",
        "\n",
        "<img src=\"https://www.dropbox.com/scl/fi/m7v54jvyzstre326adfbl/idc_dataset_tables.png?rlkey=728247nsufcoo3tdab5wozine&raw=1\" alt=\"starred\" width=\"400\"/>\n"
      ]
    },
    {
      "cell_type": "markdown",
      "metadata": {
        "id": "-hM3oLGFodXQ"
      },
      "source": [
        "Finally, let's run a query to confirm that the setup is working for your account."
      ]
    },
    {
      "cell_type": "code",
      "execution_count": null,
      "metadata": {
        "id": "Ab9RyG2EodXR"
      },
      "outputs": [],
      "source": [
        "%%bigquery --project=$my_ProjectID\n",
        "\n",
        "SELECT COUNT(DISTINCT(collection_id)) as collections_cnt\n",
        "FROM bigquery-public-data.idc_current.dicom_all"
      ]
    },
    {
      "cell_type": "markdown",
      "metadata": {
        "id": "nxsmxh0WodXR"
      },
      "source": [
        "If the cell above completed without errors, you completed the prerequisites and can proceed to the next tutorial in the series, keeping the project ID handy - you will need it.\n",
        "\n",
        "Now that you've completed this section, you can proceed to [Part 2](https://github.com/ImagingDataCommons/IDC-Tutorials/blob/master/notebooks/getting_started/part2_searching_basics.ipynb) where you will learn how to use `idc-index` for basic operations working with IDC. If you already completed Part 2, and are done with the BigQuery prerequisites, continue to [Part 3](https://github.com/ImagingDataCommons/IDC-Tutorials/blob/master/notebooks/getting_started/part3_exploring_cohorts.ipynb) to practice advanced metadata search capabilities!"
      ]
    },
    {
      "cell_type": "markdown",
      "metadata": {
        "id": "zCabXb6kodXR"
      },
      "source": [
        "## Support\n",
        "\n",
        "You can contact IDC support by sending email to support@canceridc.dev or posting your question on [IDC User forum](https://discourse.canceridc.dev)."
      ]
    },
    {
      "cell_type": "markdown",
      "metadata": {
        "id": "us4PODapodXR"
      },
      "source": [
        "## Acknowledgments\n",
        "\n",
        "Imaging Data Commons has been funded in whole or in part with Federal funds from the National Cancer Institute, National Institutes of Health, under Task Order No. HHSN26110071 under Contract No. HHSN261201500003l.\n",
        "\n",
        "If you use IDC in your research, please support us by citing the following publication:\n",
        "\n",
        "> Fedorov, A., Longabaugh, W. J. R., Pot, D., Clunie, D. A., Pieper, S. D., Gibbs, D. L., Bridge, C., Herrmann, M. D., Homeyer, A., Lewis, R., Aerts, H. J. W., Krishnaswamy, D., Thiriveedhi, V. K., Ciausu, C., Schacherer, D. P., Bontempi, D., Pihl, T., Wagner, U., Farahani, K., Kim, E. & Kikinis, R. National Cancer Institute Imaging Data Commons: Toward Transparency, Reproducibility, and Scalability in Imaging Artificial Intelligence. RadioGraphics (2023). https://doi.org/10.1148/rg.230180"
      ]
    }
  ],
  "metadata": {
    "colab": {
      "provenance": [],
      "include_colab_link": true
    },
    "gpuClass": "standard",
    "kernelspec": {
      "display_name": "Python 3",
      "name": "python3"
    },
    "language_info": {
      "codemirror_mode": {
        "name": "ipython",
        "version": 3
      },
      "file_extension": ".py",
      "mimetype": "text/x-python",
      "name": "python",
      "nbconvert_exporter": "python",
      "pygments_lexer": "ipython3",
      "version": "3.9.19"
    },
    "orig_nbformat": 4
  },
  "nbformat": 4,
  "nbformat_minor": 0
}
