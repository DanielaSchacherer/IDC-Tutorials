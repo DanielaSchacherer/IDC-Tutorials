{
 "cells": [
  {
   "cell_type": "markdown",
   "metadata": {
    "id": "KmXfYFZtja2F"
   },
   "source": [
    "# Getting started with IDC - Part 1: Setting up the prerequisites\n",
    "\n",
    "## Summary\n",
    "\n",
    "This notebook is part of [the series](link) introducing NCI Imaging Data Commons to the users who want to interact with IDC programmatically.\n",
    "\n",
    "In this notebook you will learn how to set up your google account to be able to use Google Cloud Platform (GCP), which is the location of IDC data.\n",
    "\n",
    "Initial version: Nov 2022\n",
    "\n",
    "Updated: \n",
    "\n",
    "## Why Google Cloud Platform (GCP)?\n",
    "\n",
    "GCP is a cloud-based environment that provides access to a suite of tools and services that include compute, storage and database resources, to name a few.\n",
    "\n",
    "IDC is built upon the services provided by GCP, and stores its data within GCP. In order to fully leverage capabilities of IDC, you will need to activate GCP for your google account.\n",
    "\n",
    "## Is this free?\n",
    "\n",
    "Yes!\n",
    "\n",
    "None of the activities in this tutorial seris will require you to pay for use of any GCP services, to have cloud credits, or even to connect your credit card to your account.\n",
    "\n",
    "Egress of IDC data out of the cloud is free. While query of the data is not free, GCP [BigQuery free tier](https://cloud.google.com/bigquery/pricing#free-tier) includes 1 TB of query data per month.\n",
    "\n",
    "## What do I need to get started?\n",
    "\n",
    "All you need is a Google account and a web browser.\n",
    "\n",
    "WARNING: Note that if you have a Google account that was provided by your organization, it may not be suitable for this tutorial. Your organization may impose restrictins on "
   ]
  }
 ],
 "metadata": {
  "language_info": {
   "name": "python"
  },
  "orig_nbformat": 4
 },
 "nbformat": 4,
 "nbformat_minor": 2
}
