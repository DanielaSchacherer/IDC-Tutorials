{
  "cells": [
    {
      "cell_type": "markdown",
      "metadata": {
        "colab_type": "text",
        "id": "view-in-github"
      },
      "source": [
        "<a href=\"https://colab.research.google.com/github/ImagingDataCommons/IDC-Examples/blob/master/notebooks/getting_started/part3_exploring_cohorts.ipynb\" target=\"_parent\"><img src=\"https://colab.research.google.com/assets/colab-badge.svg\" alt=\"Open In Colab\"/></a>"
      ]
    },
    {
      "cell_type": "markdown",
      "metadata": {
        "id": "KmXfYFZtja2F"
      },
      "source": [
        "# Getting started with IDC - Part 3: Working with data cohorts\n",
        "\n",
        "---\n",
        "\n",
        "## Summary\n",
        "\n",
        "This notebook is part of [the \"Getting started with IDC\" notebook series](https://github.com/ImagingDataCommons/IDC-Examples/blob/master/notebooks/getting_started) introducing NCI Imaging Data Commons to the users who want to interact with IDC programmatically.\n",
        "\n",
        "In Part 1 of this tutorial series, you learned how to complete the prerequisites that are required to be able to search IDC data using GCP BigQuery.\n",
        "\n",
        "Part 2 introduced you to the basics of exploring IDC metadata and defining subsets of data.\n",
        "\n",
        "In this notebook you will learn what you can do with the subset, or cohort, that you defined based on the IDC metadata attributes.\n",
        "\n",
        "---\n",
        "Initial version: Nov 2022\n",
        "\n",
        "Updated: "
      ]
    },
    {
      "cell_type": "markdown",
      "metadata": {
        "id": "07dGiFgK12BQ"
      },
      "source": [
        "## What is IDC?\n",
        "\n",
        "[NCI Imaging Data Commons (IDC)](https://datacommons.cancer.gov/repository/imaging-data-commons) is a cloud-based repository of publicly available cancer imaging data co-located with the analysis and exploration tools and resources. IDC is a node within the broader NCI Cancer Research Data Commons (CRDC) infrastructure that provides secure access to a large, comprehensive, and expanding collection of cancer research data."
      ]
    },
    {
      "cell_type": "markdown",
      "metadata": {
        "id": "8kHfbIFLIei-"
      },
      "source": [
        "## Prerequisites\n",
        "\n",
        "It is assumed that you completed tutorial 1 in the series. You will need to have a Google identity, Google Cloud activated for that account, and the ID of the project created under that account.\n",
        "\n",
        "Before doing **anything** you **must**  authorize Colab Runtime to act on your behalf, and initialize the variable pointing to your Google Cloud project ID.\n",
        "\n",
        "The following cell initializes project ID that is needed for all operations with the cloud. You should have project ID if you completed the [first tutorial](https://github.com/ImagingDataCommons/IDC-Examples/blob/master/notebooks/getting_started/part1_prerequisites.ipynb) in this series."
      ]
    },
    {
      "cell_type": "code",
      "execution_count": 1,
      "metadata": {
        "id": "M3uMIzDYIirn"
      },
      "outputs": [],
      "source": [
        "# initialize this variable with your Google Cloud Project ID!\n",
        "my_ProjectID = \"REPLACE_ME_WITH_YOUR_PROJECT_ID\"\n",
        "\n",
        "import os\n",
        "os.environ[\"GCP_PROJECT_ID\"] = my_ProjectID\n",
        "\n",
        "from google.colab import auth\n",
        "auth.authenticate_user()"
      ]
    },
    {
      "cell_type": "markdown",
      "metadata": {
        "id": "Ds1JM0-cIyry"
      },
      "source": [
        "## What is \"cohort\"?\n",
        "\n",
        "In IDC, a _cohort_ is set of objects stored in IDC that share certain characteristics as defined by metadata.\n",
        "\n",
        "In the previous tutorial you learned how to use IDC metadata and SQL to filter IDC data and define subsets/cohorts based on such metadata characteristics as cancer location or image modality. You also learned about the hierarchy of data organization in IDC, whereas your \"cohorts\" can be defined at the level of collections, patients, imaging studies, series or individual images (files).\n",
        "\n",
        "In the following cells we will learn:\n",
        "1. How to visualize images from your cohort\n",
        "2. How to check the license(s) that cover the data included in your cohort, and how to make sure you comply with the usage terms\n",
        "3. How to download the files corresponding to your cohort"
      ]
    },
    {
      "cell_type": "markdown",
      "metadata": {
        "id": "Vpo2RqiuPnLn"
      },
      "source": [
        "## Let's define a cohort\n",
        "\n",
        "For the sake of this tutorial, let's use one of the queries from part 2 of the series, which selects DICOM identifiers of the studies that contain both CT and SEG modalities from collections where cancer primary site is Lung. Here's that query:"
      ]
    },
    {
      "cell_type": "code",
      "execution_count": null,
      "metadata": {
        "colab": {
          "base_uri": "https://localhost:8080/",
          "height": 424
        },
        "id": "sVBOII5GP9cw",
        "outputId": "5071f687-98ca-4894-cf01-de31d29dd207"
      },
      "outputs": [],
      "source": [
        "from google.cloud import bigquery\n",
        "\n",
        "# BigQuery client is initialized with the ID of the project\n",
        "# we specified in the beginning of the notebook!\n",
        "bq_client = bigquery.Client(my_ProjectID)\n",
        "\n",
        "selection_query = \"\"\"\n",
        "WITH\n",
        "  temp_result AS (\n",
        "  SELECT\n",
        "    StudyInstanceUID,\n",
        "    STRING_AGG(DISTINCT(collection_id)) AS collection_id,\n",
        "    STRING_AGG(DISTINCT(tcia_tumorLocation)) AS tcia_tumorLocation,\n",
        "    ARRAY_AGG(DISTINCT(Modality)) AS modalities\n",
        "  FROM\n",
        "    bigquery-public-data.idc_current.dicom_all\n",
        "  GROUP BY\n",
        "    StudyInstanceUID)\n",
        "SELECT\n",
        "  StudyInstanceUID,\n",
        "  ARRAY_TO_STRING(modalities,\",\") AS modalities,\n",
        "  collection_id\n",
        "FROM\n",
        "  temp_result\n",
        "WHERE\n",
        "  \"CT\" IN UNNEST(modalities)\n",
        "  AND \"SEG\" IN UNNEST(modalities)\n",
        "  AND tcia_tumorLocation = \"Lung\"\n",
        "\"\"\"\n",
        "\n",
        "selection_result = bq_client.query(selection_query)\n",
        "selection_df = selection_result.result().to_dataframe()\n",
        "\n",
        "selection_df"
      ]
    },
    {
      "cell_type": "markdown",
      "metadata": {
        "id": "ZmL8qyT6StGt"
      },
      "source": [
        "## Visualizing imaging studies from the cohort\n",
        "\n",
        "The cohort you selected consists of images stored in IDC. You can use the IDC image viewer to visualize individual studies - without having to download the images or install anything on your computer.\n",
        "\n",
        "All you have to do is append the value of `StudyInstanceUID` to the IDC radiology viewer prefix: `https://viewer.imaging.datacommons.cancer.gov/viewer/`.\n",
        "\n",
        "In the following cell we pick a random study from the dataframe that we created earlier, and print out the viewer URL to view that study. \n",
        "\n",
        "Execute the cell below multiple times and check for yourself if the studies we selected indeed contain the lung, and are accompanied by segmentations!"
      ]
    },
    {
      "cell_type": "code",
      "execution_count": null,
      "metadata": {
        "colab": {
          "base_uri": "https://localhost:8080/"
        },
        "id": "JVIqa3GWUV64",
        "outputId": "c88a6bdb-5431-465e-c8ba-3a146b2825f5"
      },
      "outputs": [],
      "source": [
        "import random\n",
        "\n",
        "print(\"https://viewer.imaging.datacommons.cancer.gov/viewer/\"+random.choice(selection_df[\"StudyInstanceUID\"].values))"
      ]
    },
    {
      "cell_type": "markdown",
      "metadata": {
        "id": "9Cl_ZOxqaaai"
      },
      "source": [
        "## Downloading the cohort\n",
        "\n",
        "While defining your cohort, you may be looking for subsets of collections, patients or studies that meet your search critieria. But when it comes to downloading the cohort, you will always need to get the URLs of the individual files from the cohort.\n",
        "\n",
        "The following cells uses the query from the above to get the list of study identifiers that meet our search critieria, and then selects all of the rows correspoing to the DICOM instances (files)that are included in those studies. The column that contains the URI that can be used to download the file is in the `gcs_url` column.\n",
        "\n",
        "As we learned in the part 2 of this tutorial series, each row of the IDC metadata table corresponds to a single DICOM file, and the attributes we mentioned above are assigned at the granularity of the individual files.\n",
        "\n",
        "Earlier, we queried for all of the DICOM studies that meet our search criteria. Studies consist of series, and series consist of instances (files). This time, let's retrieve all of the rows that are included in our cohort, and select `collection_id`, `license` and `source_url` columns. "
      ]
    },
    {
      "cell_type": "code",
      "execution_count": null,
      "metadata": {
        "colab": {
          "base_uri": "https://localhost:8080/",
          "height": 655
        },
        "id": "D4dkFpEVfDO1",
        "outputId": "44fe4e79-a930-4101-87b8-631717435e11"
      },
      "outputs": [],
      "source": [
        "from google.cloud import bigquery\n",
        "\n",
        "# BigQuery client is initialized with the ID of the project\n",
        "# we specified in the beginning of the notebook!\n",
        "bq_client = bigquery.Client(my_ProjectID)\n",
        "\n",
        "selection_query = \"\"\"\n",
        "SELECT\n",
        "  gcs_url\n",
        "FROM\n",
        "  bigquery-public-data.idc_current.dicom_all\n",
        "WHERE\n",
        "  StudyInstanceUID IN \n",
        "\n",
        "  # below is the same query we defined earlier\n",
        "  (\n",
        "  WITH\n",
        "    temp_result AS (\n",
        "    SELECT\n",
        "      StudyInstanceUID,\n",
        "      STRING_AGG(DISTINCT(collection_id)) AS collection_id,\n",
        "      STRING_AGG(DISTINCT(tcia_tumorLocation)) AS tcia_tumorLocation,\n",
        "      ARRAY_AGG(DISTINCT(Modality)) AS modalities\n",
        "    FROM\n",
        "      bigquery-public-data.idc_current.dicom_all\n",
        "    GROUP BY\n",
        "      StudyInstanceUID)\n",
        "  SELECT\n",
        "    StudyInstanceUID\n",
        "  FROM\n",
        "    temp_result\n",
        "  WHERE\n",
        "    \"CT\" IN UNNEST(modalities)\n",
        "    AND \"SEG\" IN UNNEST(modalities)\n",
        "    AND tcia_tumorLocation = \"Lung\"\n",
        "\n",
        "  # for the sake of demonstration, we select a single study\n",
        "  LIMIT\n",
        "    1\n",
        "  )\n",
        "\"\"\"\n",
        "\n",
        "selection_result = bq_client.query(selection_query)\n",
        "selection_df = selection_result.result().to_dataframe()\n",
        "\n",
        "selection_df"
      ]
    },
    {
      "cell_type": "markdown",
      "metadata": {
        "id": "ojgbk_nMhbv0"
      },
      "source": [
        "Now that we have URLs of the individual files, we can use `gsutil` command line tool from Google Cloud SDK to download them. When using Colab, Google Cloud SDK is pre-installed, but if you want to download files to your computer directly you will need to install SDK first!\n",
        "\n",
        "To download the files, we will first save GCS URLs into the manifest file, and then pass that manifest to `gsutil`."
      ]
    },
    {
      "cell_type": "code",
      "execution_count": null,
      "metadata": {
        "id": "8CVLUiMMijjE"
      },
      "outputs": [],
      "source": [
        "selection_df[\"gcs_url\"].to_csv(\"manifest.txt\", header=False, index=False)\n",
        "\n",
        "!rm -rf downloaded_cohort_files && mkdir downloaded_cohort_files\n",
        "!cat manifest.txt | gsutil -m cp -I downloaded_cohort_files"
      ]
    },
    {
      "cell_type": "markdown",
      "metadata": {
        "id": "9yJD5pUSjXo0"
      },
      "source": [
        "Once the cell above is done, you can expand the left-side \"Files\" panel in the Colab interface and confirm that `downloaded_cohort_files` is not empty."
      ]
    },
    {
      "cell_type": "markdown",
      "metadata": {
        "id": "7LjNNakzVKvV"
      },
      "source": [
        "## Checking licenses and attribution requirements\n",
        "\n",
        "IDC collects data from various data coordination centers and program. It is important to appreciate that different components of IDC data are covered by different licenses and have attribution requirements that you must follow when using the data!\n",
        "\n",
        "To get information about license and usage terms you will need to use couple more columns from the IDC `dicom_all` metadata index:\n",
        "* `license_short_name`, `license_long_name` and `license_url` contain short and long names of the license and URL where the license can be found\n",
        "* `source_doi` is the Digital Object Identifier (DOI) (note that not all of the collections have a DOI!)\n",
        "* `source_url` is the URL where you can learn more about the dataset, in particular about attribution requirements\n",
        "\n",
        "In the following cell we modify the query used earlier to get all distinct combinations of the license and source URL that are encountered for the files included in our cohort."
      ]
    },
    {
      "cell_type": "code",
      "execution_count": null,
      "metadata": {
        "colab": {
          "base_uri": "https://localhost:8080/",
          "height": 373
        },
        "id": "bW5ULTmfpa7g",
        "outputId": "9284996e-5599-456b-d028-95516d5bfcf1"
      },
      "outputs": [],
      "source": [
        "from google.cloud import bigquery\n",
        "\n",
        "# BigQuery client is initialized with the ID of the project\n",
        "# we specified in the beginning of the notebook!\n",
        "bq_client = bigquery.Client(my_ProjectID)\n",
        "\n",
        "selection_query = \"\"\"\n",
        "SELECT\n",
        "  DISTINCT(collection_id),\n",
        "  license_long_name,\n",
        "  license_url,\n",
        "  source_url\n",
        "FROM\n",
        "  bigquery-public-data.idc_current.dicom_all\n",
        "WHERE\n",
        "  StudyInstanceUID IN (\n",
        "  WITH\n",
        "    temp_result AS (\n",
        "    SELECT\n",
        "      StudyInstanceUID,\n",
        "      STRING_AGG(DISTINCT(collection_id)) AS collection_id,\n",
        "      STRING_AGG(DISTINCT(tcia_tumorLocation)) AS tcia_tumorLocation,\n",
        "      ARRAY_AGG(DISTINCT(Modality)) AS modalities\n",
        "    FROM\n",
        "      bigquery-public-data.idc_current.dicom_all\n",
        "    GROUP BY\n",
        "      StudyInstanceUID)\n",
        "  SELECT\n",
        "    StudyInstanceUID\n",
        "  FROM\n",
        "    temp_result\n",
        "  WHERE\n",
        "    \"CT\" IN UNNEST(modalities)\n",
        "    AND \"SEG\" IN UNNEST(modalities)\n",
        "    AND tcia_tumorLocation = \"Lung\"\n",
        "  )\n",
        "\"\"\"\n",
        "\n",
        "selection_result = bq_client.query(selection_query)\n",
        "selection_df = selection_result.result().to_dataframe()\n",
        "\n",
        "selection_df"
      ]
    },
    {
      "cell_type": "markdown",
      "metadata": {
        "id": "JkUqWsLVprGU"
      },
      "source": [
        "From the result of the query we see above, we can conclude that some of the files in our cohort are covered by a license that has restrictions on commercial use. We can check out the URLs for each of the components of the cohort to learn about the terms of use and attribution requirements."
      ]
    },
    {
      "cell_type": "code",
      "execution_count": null,
      "metadata": {
        "colab": {
          "base_uri": "https://localhost:8080/"
        },
        "id": "rmEGwPyUqrYr",
        "outputId": "16a1dc04-a1e0-4959-aea8-3c52e823acef"
      },
      "outputs": [],
      "source": [
        "selection_df['source_url']"
      ]
    },
    {
      "cell_type": "markdown",
      "metadata": {
        "id": "_tlbgnncq92y"
      },
      "source": [
        "You can observe that there are two rows for the collection `qin_lung_ct`, which highlights important point that `collection_id` should be treated as a label grouping together both the items released by the original contributors of what initially formed the collection, but also the analysis results of the data in the original collection that might be contributed later. \n",
        "\n",
        "![collection](https://www.dropbox.com/s/ot7dbz5umligji1/collection.png?raw=1)\n",
        "\n",
        "In the example above, [`qin_lung_ct` collection ](https://doi.org/10.7937/K9/TCIA.2015.NPGZYZBZ) was complemented by the [segmentations of the lung nodules](https://doi.org/10.7937/K9/TCIA.2015.PF0M9REI), with both images and segmentations becoming part of the same collection, but having distinct DOIs and attribution requirements."
      ]
    },
    {
      "cell_type": "markdown",
      "metadata": {
        "id": "gzMMpG4y6g-v"
      },
      "source": [
        "## Support\n",
        "\n",
        "You can contact IDC support by sending email to support@canceridc.dev or posting your question on [IDC User forum](https://discourse.canceridc.dev)."
      ]
    },
    {
      "cell_type": "markdown",
      "metadata": {
        "id": "NnuWgtK_vnWC"
      },
      "source": [
        "## Acknowledgments\n",
        "\n",
        "Imaging Data Commons has been funded in whole or in part with Federal funds from the National Cancer Institute, National Institutes of Health, under Task Order No. HHSN26110071 under Contract No. HHSN261201500003l.\n",
        "\n",
        "If you use IDC in your research, please cite the following publication:\n",
        "\n",
        "> Fedorov, A., Longabaugh, W. J. R., Pot, D., Clunie, D. A., Pieper, S., Aerts, H. J. W. L., Homeyer, A., Lewis, R., Akbarzadeh, A., Bontempi, D., Clifford, W., Herrmann, M. D., Höfener, H., Octaviano, I., Osborne, C., Paquette, S., Petts, J., Punzo, D., Reyes, M., Schacherer, D. P., Tian, M., White, G., Ziegler, E., Shmulevich, I., Pihl, T., Wagner, U., Farahani, K. & Kikinis, R. NCI Imaging Data Commons. Cancer Res. 81, 4188–4193 (2021). http://dx.doi.org/10.1158/0008-5472.CAN-21-0950"
      ]
    }
  ],
  "metadata": {
    "colab": {
      "include_colab_link": true,
      "provenance": [],
      "toc_visible": true
    },
    "gpuClass": "standard",
    "kernelspec": {
      "display_name": "Python 3",
      "name": "python3"
    },
    "language_info": {
      "name": "python"
    },
    "orig_nbformat": 4
  },
  "nbformat": 4,
  "nbformat_minor": 0
}
