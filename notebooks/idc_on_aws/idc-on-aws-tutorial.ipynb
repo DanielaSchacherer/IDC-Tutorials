{
 "cells": [
  {
   "cell_type": "markdown",
   "id": "db59bc4b-9271-4c15-9615-948194114128",
   "metadata": {
    "tags": []
   },
   "source": [
    "[![Licence](https://img.shields.io/badge/license-MIT-blue)](https://opensource.org/license/mit/)\n",
    "\n",
    "# IDC on AWS Turotial\n",
    "\n",
    "This notebook walk through how to study the [NCI Imaging Data Commons](https://portal.imaging.datacommons.cancer.gov/) data on [AWS Open Data repositry](https://registry.opendata.aws/nci-imaging-data-commons/) using native AWS services, including [Amazon SageMaker](https://aws.amazon.com/sagemaker/), [AWS HealthImaging](https://aws.amazon.com/healthimaging/), [Amazon Athena](https://aws.amazon.com/athena/), [Amazon Glue](https://aws.amazon.com/glue/), and so on.\n",
    "\n",
    "If you are not familiar with IDC data, please run through the existing [tutorials](https://github.com/ImagingDataCommons/IDC-Tutorials/tree/master/notebooks/getting_started) first."
   ]
  },
  {
   "cell_type": "markdown",
   "id": "325cda63-60b6-49b5-b4db-dd5ea2a62ed4",
   "metadata": {
    "tags": []
   },
   "source": [
    "[![Licence](https://img.shields.io/badge/license-MIT-blue)](https://opensource.org/license/mit/)\n",
    "\n",
    "# IDC on AWS Turotial\n",
    "\n",
    "This notebook walk through how to study the [NCI Imaging Data Commons](https://portal.imaging.datacommons.cancer.gov/) data on [AWS Open Data repositry](https://registry.opendata.aws/nci-imaging-data-commons/) using native AWS services, including [Amazon SageMaker](https://aws.amazon.com/sagemaker/), [AWS HealthImaging](https://aws.amazon.com/healthimaging/), [Amazon Athena](https://aws.amazon.com/athena/), [Amazon Glue](https://aws.amazon.com/glue/), and so on.\n",
    "\n",
    "Here is the architecture diagram of this tutorial:\n",
    "\n",
    "![arch diagram](img/arch_diagram.png)\n",
    "\n",
    "If you are not familiar with IDC data, please run through the existing [tutorials](https://github.com/ImagingDataCommons/IDC-Tutorials/tree/master/notebooks/getting_started) first.\n",
    "\n",
    "## Pre-requisites \n",
    "    \n",
    "1. Download the [CloudFormation tempalte](https://github.com/aws-solutions-library-samples/guidance-for-multi-modal-data-analysis-with-aws-health-and-ml-services/blob/main/cfn_template) and deploy the template to create [Amazon SageMaker Domain](https://aws.amazon.com/sagemaker/) and necessary [Amazon IAM](https://aws.amazon.com/iam/) roles\n",
    "\n",
    "<img src=\"img/deploy_template.png\" width=\"888\">\n",
    "\n",
    "2. Launch SageMaker Studio application. \n",
    "\n",
    "<img src=\"img/launch_studio.png\" width=\"888\">\n",
    "\n",
    "3. Setup notebook environment using \"PyTorch 1.12 Python 3.8 CPU optimized\" Kernel with \"t3.medium\" instance type. \n",
    "\n",
    "<img src=\"img/studio_setup.png\" width=\"800\">"
   ]
  },
  {
   "cell_type": "markdown",
   "id": "2c151601-50a5-49ac-b553-f3c5c0ea61bf",
   "metadata": {},
   "source": [
    "## Install and import libraries"
   ]
  },
  {
   "cell_type": "code",
   "execution_count": null,
   "id": "5809ca0d-d612-4a09-b596-908b507d3e93",
   "metadata": {
    "tags": []
   },
   "outputs": [],
   "source": [
    "%env PIP_DISABLE_PIP_VERSION_CHECK True\n",
    "%env PIP_ROOT_USER_ACTION ignore\n",
    "\n",
    "!pip install -q --upgrade pip\n",
    "!pip install -q --upgrade boto3 botocore \n",
    "!pip install -q tqdm nibabel pydicom numpy pylibjpeg-openjpeg AHItoDICOMInterface\n",
    "!pip install -q \"itk>=5.3rc4\" \"itkwidgets[all]>=1.0a23\"\n",
    "!pip3 install -q sqlalchemy==1.4.47 \n",
    "!pip3 install -q PyAthena[SQLAlchemy]==2.25.2 \n",
    "\n",
    "%load_ext autoreload\n",
    "%autoreload 2\n",
    "\n",
    "import warnings\n",
    "warnings.filterwarnings('ignore')"
   ]
  },
  {
   "cell_type": "code",
   "execution_count": null,
   "id": "a1971f92-2784-46f7-8528-47cdd530ae19",
   "metadata": {
    "tags": []
   },
   "outputs": [],
   "source": [
    "import pydicom\n",
    "from pydicom.sequence import Sequence\n",
    "from pydicom import Dataset , DataElement \n",
    "from pydicom.dataset import FileDataset, FileMetaDataset\n",
    "from pydicom.uid import UID\n",
    "from pydicom.pixel_data_handlers.util import convert_color_space , apply_color_lut\n",
    "from openjpeg import decode\n",
    "import array\n",
    "import json\n",
    "import logging\n",
    "import importlib  \n",
    "import boto3\n",
    "import sagemaker\n",
    "from sagemaker import get_execution_role\n",
    "import io\n",
    "import sys\n",
    "import time\n",
    "import os\n",
    "import pandas as pd\n",
    "from botocore.exceptions import ClientError\n",
    "logging.basicConfig( level=\"INFO\" )\n",
    "# logging.basicConfig( level=\"DEBUG\" )\n",
    "from Api import MedicalImaging \n",
    "medicalimaging = MedicalImaging()\n",
    "\n",
    "account_id = boto3.client(\"sts\").get_caller_identity()[\"Account\"]\n",
    "session = sagemaker.session.Session()\n",
    "region = boto3.Session().region_name\n",
    "bucket = sagemaker.Session().default_bucket()\n",
    "role = f\"arn:aws:iam::{account_id}:role/HealthImagingImportJobRole\"  ## use this role if you have deployed the CloudFormation template described above\n",
    "# role = get_execution_role()                ## use this role if you want to use SageMaker Execution role to import image into AWS HealthImaging\n",
    "print(f\"S3 Bucket is {bucket}\")\n",
    "print(f\"IAM role for image import job is {role}\")\n",
    "\n",
    "suffix = int(time.time())\n",
    "ahi_input_prefix = f'idc_tutorial_lidc_images_{suffix}/'\n",
    "ahi_output_prefix = f'idc_tutorial_importjobs_{suffix}/'\n",
    "dicom_header_prefix = f'dicom_headers_{suffix}/'\n",
    "\n",
    "print(f\"S3 prefix for input images is {ahi_input_prefix}\")\n",
    "print(f\"S3 prefix for import job outputs is {ahi_output_prefix}\")"
   ]
  },
  {
   "cell_type": "markdown",
   "id": "adae6b4b-b9c7-4886-ada9-0056614c96fc",
   "metadata": {},
   "source": [
    "## Download Sample Data from IDC\n",
    "\n",
    "We will use a subset of the IDC [Lung Image Database Consortium(LIDC)](https://wiki.cancerimagingarchive.net/pages/viewpage.action?pageId=1966254) dataset for the following experiments. You can select the lung nodule segmentations of CT scans from [the IDC portal](https://portal.imaging.datacommons.cancer.gov/explore/filters/?analysis_results_id=DICOM-LIDC-IDRI-Nodules), here is [a demo video](https://app.screencast.com/7QraNK83RLWTo) on how to download the S3 path of DICOM studies. You can download sample images to your own staging S3 bucket by running the following CLI commands (~2mins):"
   ]
  },
  {
   "cell_type": "code",
   "execution_count": null,
   "id": "986647a1-5171-4013-aa90-cc665ed29077",
   "metadata": {
    "tags": []
   },
   "outputs": [],
   "source": [
    "!aws s3 sync --quiet s3://idc-open-data/70e1a841-e82a-41db-84d6-4d6ab266569e/ s3://{bucket}/{ahi_input_prefix} \n",
    "!aws s3 sync --quiet s3://idc-open-data/173d42c3-4bc2-4cd6-aade-f931116576d2/ s3://{bucket}/{ahi_input_prefix} \n",
    "!aws s3 sync --quiet s3://idc-open-data/9fe8c918-31d4-4d7a-a06f-ee339f99ffeb/ s3://{bucket}/{ahi_input_prefix} \n",
    "!aws s3 sync --quiet s3://idc-open-data/f45a1e23-fd38-4750-bd73-e0c0f41eb744/ s3://{bucket}/{ahi_input_prefix} \n",
    "!aws s3 sync --quiet s3://idc-open-data/57dd6d89-d2c7-439c-b109-3bca4f647742/ s3://{bucket}/{ahi_input_prefix} \n",
    "!aws s3 sync --quiet s3://idc-open-data/85b44dd6-3a9e-441b-a371-4327e339f684/ s3://{bucket}/{ahi_input_prefix} \n",
    "!aws s3 sync --quiet s3://idc-open-data/b315752b-f2d5-4475-8ccf-76eb07399389/ s3://{bucket}/{ahi_input_prefix} \n",
    "!aws s3 sync --quiet s3://idc-open-data/98ad9818-baa3-4d58-ad63-5f502d3ff318/ s3://{bucket}/{ahi_input_prefix} \n",
    "!aws s3 sync --quiet s3://idc-open-data/54f1f220-1c97-4a46-8f65-d30923e629fe/ s3://{bucket}/{ahi_input_prefix} \n",
    "!aws s3 sync --quiet s3://idc-open-data/80ceded3-e2d3-4b67-90ad-4d195e1364d8/ s3://{bucket}/{ahi_input_prefix} \n",
    "!aws s3 sync --quiet s3://idc-open-data/8f0c16e8-9295-4e2b-8883-d52a0e4bc555/ s3://{bucket}/{ahi_input_prefix} \n",
    "!aws s3 sync --quiet s3://idc-open-data/9abe335e-2df9-46c2-9ef2-a16c4ee5693d/ s3://{bucket}/{ahi_input_prefix} \n",
    "!aws s3 sync --quiet s3://idc-open-data/af3d99bf-e941-4fb1-9854-38b7115d0880/ s3://{bucket}/{ahi_input_prefix} \n",
    "!aws s3 sync --quiet s3://idc-open-data/525ab988-fd90-46fc-9a81-ebce58e7acac/ s3://{bucket}/{ahi_input_prefix} \n",
    "!aws s3 sync --quiet s3://idc-open-data/2bbb3397-bcc2-4885-9acc-adf58c5defd0/ s3://{bucket}/{ahi_input_prefix} \n",
    "!aws s3 sync --quiet s3://idc-open-data/c31bf2ea-b506-4a11-8aac-d001331dd257/ s3://{bucket}/{ahi_input_prefix} \n",
    "!aws s3 sync --quiet s3://idc-open-data/417c3a82-87e8-4b23-a55c-406e7aa67f39/ s3://{bucket}/{ahi_input_prefix} \n",
    "!aws s3 sync --quiet s3://idc-open-data/bb965e17-15ca-42f8-9ae6-8b9990fe059d/ s3://{bucket}/{ahi_input_prefix} \n",
    "!aws s3 sync --quiet s3://idc-open-data/30ca7460-9213-44d0-9998-d8ef92ea1a3d/ s3://{bucket}/{ahi_input_prefix} \n",
    "!aws s3 sync --quiet s3://idc-open-data/2072ddb8-020b-4137-951b-b45148fc62e1/ s3://{bucket}/{ahi_input_prefix} \n",
    "!aws s3 sync --quiet s3://idc-open-data/4f0bd76f-485d-4ca1-8458-59844595ba8b/ s3://{bucket}/{ahi_input_prefix} \n",
    "!aws s3 sync --quiet s3://idc-open-data/739a1b6c-c11f-480b-a35e-7265c7c7406a/ s3://{bucket}/{ahi_input_prefix} \n",
    "!aws s3 sync --quiet s3://idc-open-data/8f2399ec-b1b7-427f-b5d1-a1b09a6b4f70/ s3://{bucket}/{ahi_input_prefix} \n",
    "!aws s3 sync --quiet s3://idc-open-data/417bcd53-295e-46ac-8cf4-ec2aa55949a6/ s3://{bucket}/{ahi_input_prefix} \n",
    "!aws s3 sync --quiet s3://idc-open-data/e0459c0c-8269-4044-ada4-6d96359dfeee/ s3://{bucket}/{ahi_input_prefix} \n",
    "!aws s3 sync --quiet s3://idc-open-data/cf86839f-5e89-4aab-927b-103c658290e8/ s3://{bucket}/{ahi_input_prefix} \n",
    "!aws s3 sync --quiet s3://idc-open-data/6949b1e0-7a1c-416b-87f6-d682398c8e1b/ s3://{bucket}/{ahi_input_prefix} "
   ]
  },
  {
   "cell_type": "markdown",
   "id": "14435482-9cea-43f7-a60b-a8114d497278",
   "metadata": {},
   "source": [
    "## Create an AWS HealthImaging (AHI) datastore"
   ]
  },
  {
   "cell_type": "code",
   "execution_count": null,
   "id": "fd781e6e-606e-4bad-aa36-c2a48fe7bd91",
   "metadata": {
    "tags": []
   },
   "outputs": [],
   "source": [
    "DatastoreName = \"IDCWorkshopDataStore\"\n",
    "\n",
    "datastoreList = medicalimaging.listDatastores()\n",
    "\n",
    "res_createstore = None\n",
    "for datastore in datastoreList[\"datastoreSummaries\"]:\n",
    "    if datastore[\"datastoreName\"] == DatastoreName:\n",
    "        res_createstore = datastore\n",
    "        break\n",
    "if res_createstore is None:        \n",
    "    res_createstore = medicalimaging.createDatastore(DatastoreName)\n",
    "\n",
    "datastoreId = res_createstore['datastoreId']\n",
    "res_getstore = medicalimaging.getDatastore(res_createstore['datastoreId'])    \n",
    "status = res_getstore['datastoreProperties']['datastoreStatus']\n",
    "while status!='ACTIVE':\n",
    "    time.sleep(30)\n",
    "    res_getstore = medicalimaging.getDatastore(res_createstore['datastoreId'])    \n",
    "    status = res_getstore['datastoreProperties']['datastoreStatus']\n",
    "    print(status)\n",
    "print(f\"datastoreId: {datastoreId}; status: {status}\")"
   ]
  },
  {
   "cell_type": "markdown",
   "id": "8eb13979-197e-4113-bfa1-160e3f1b998c",
   "metadata": {},
   "source": [
    "## Import DICOM studies from staging S3 buckets to AHI datastore\n",
    "\n",
    "A unique import JobId will be generated for a given combination of datastoreId, input S3 path, and output S3 path. The same combination of three variables will return the existing import JobId. The import job of 9 sample DICOM studies takes about 15mins"
   ]
  },
  {
   "cell_type": "code",
   "execution_count": null,
   "id": "ede3adfd-4f26-4ada-a75a-3cbff1ed9cc4",
   "metadata": {
    "tags": []
   },
   "outputs": [],
   "source": [
    "res_startimportjob = medicalimaging.startImportJob(\n",
    "    res_createstore['datastoreId'],\n",
    "    role,\n",
    "    f\"s3://{bucket}/{ahi_input_prefix}\", \n",
    "    f\"s3://{bucket}/{ahi_output_prefix}\"\n",
    ")\n",
    "\n",
    "jobId = res_startimportjob['jobId']\n",
    "jobstatus = medicalimaging.getImportJob(datastoreId, jobId)['jobProperties']['jobStatus']\n",
    "while jobstatus not in ['COMPLETED', 'FAILED']:\n",
    "    time.sleep(30)\n",
    "    jobstatus = medicalimaging.getImportJob(datastoreId, jobId)['jobProperties']['jobStatus']\n",
    "print(f\"jobstatus is {jobstatus}\")"
   ]
  },
  {
   "cell_type": "code",
   "execution_count": null,
   "id": "525b2359-60ec-4395-830a-639709af8614",
   "metadata": {
    "tags": []
   },
   "outputs": [],
   "source": [
    "imageSetIds = {}\n",
    "s3=boto3.client('s3')\n",
    "try:\n",
    "    response = s3.head_object(Bucket=bucket, Key=f\"{ahi_output_prefix}{datastoreId}-DicomImport-{jobId}/job-output-manifest.json\")\n",
    "    if response['ResponseMetadata']['HTTPStatusCode'] == 200:\n",
    "        data = s3.get_object(Bucket=bucket, Key=f\"{ahi_output_prefix}{datastoreId}-DicomImport-{jobId}/SUCCESS/success.ndjson\")\n",
    "        contents = data['Body'].read().decode(\"utf-8\")\n",
    "        for l in contents.splitlines():\n",
    "            isid = json.loads(l)['importResponse']['imageSetId']\n",
    "            if isid in imageSetIds:\n",
    "                imageSetIds[isid]+=1\n",
    "            else:\n",
    "                imageSetIds[isid]=1\n",
    "except ClientError:\n",
    "    pass\n",
    "\n",
    "\n",
    "print(\"Number of image sets imported: {}\".format(len(imageSetIds)))"
   ]
  },
  {
   "cell_type": "markdown",
   "id": "1f5a7471-e9ad-45ea-a96c-572a774a7529",
   "metadata": {},
   "source": [
    "## Save DICOM Header JSON to S3\n",
    "\n",
    "The DICOM header includes metadata for a given ImageSetId, which is equivalent to a DICOM series. The DICOM header can be retrieved through native AHI API as a nested JSON object. We will need to parse the JSON object and save each level of information (patient, study, series, instance) into seperate S3 folder."
   ]
  },
  {
   "cell_type": "code",
   "execution_count": null,
   "id": "58885cdc-a662-4e43-9f3c-d215719a7931",
   "metadata": {
    "tags": []
   },
   "outputs": [],
   "source": [
    "for s in imageSetIds.keys():\n",
    "    json_dicom_header = medicalimaging.getMetadata(datastoreId, s)\n",
    "    patient = json_dicom_header['Patient']['DICOM']\n",
    "    patient['datastoreid'] = datastoreId\n",
    "    patient['imagesetid'] = s\n",
    "    PatientID = patient[\"PatientID\"]\n",
    "    s3.put_object(\n",
    "        Body=json.dumps(patient),\n",
    "        Bucket=bucket,\n",
    "        Key=f'{dicom_header_prefix}json/patient/{s}.json'\n",
    "    )\n",
    "    study=json_dicom_header['Study']['DICOM']\n",
    "    study['datastoreid'] = datastoreId\n",
    "    study['imagesetid'] = s\n",
    "    study['PatientID'] = PatientID\n",
    "    StudyInstanceUID = study['StudyInstanceUID']\n",
    "    s3.put_object(\n",
    "        Body=json.dumps(study),\n",
    "        Bucket=bucket,\n",
    "        Key=f'{dicom_header_prefix}json/study/{s}.json'\n",
    "    )\n",
    "    for se in list(json_dicom_header['Study']['Series'].keys()):\n",
    "        series = json_dicom_header['Study']['Series'][se]['DICOM']\n",
    "        series['datastoreid'] = datastoreId\n",
    "        series['imagesetid'] = s\n",
    "        series['PatientID'] = PatientID\n",
    "        series['StudyInstanceUID'] = StudyInstanceUID\n",
    "        s3.put_object(\n",
    "            Body=json.dumps(series),\n",
    "            Bucket=bucket,\n",
    "            Key=f'{dicom_header_prefix}json/series/{s}.json'\n",
    "        )\n",
    "        for i in list(json_dicom_header['Study']['Series'][se]['Instances']):\n",
    "            instance = json_dicom_header['Study']['Series'][se]['Instances'][i]['DICOM']\n",
    "            instance['datastoreid'] = datastoreId\n",
    "            instance['imagesetid'] = s\n",
    "            instance['PatientID'] = PatientID\n",
    "            instance['StudyInstanceUID'] = StudyInstanceUID\n",
    "            instance['SeriesInstanceUID'] = se\n",
    "            instance['DICOMVRs'] = json_dicom_header['Study']['Series'][se]['Instances'][i]['DICOMVRs']\n",
    "            instance['ImageFrames'] = json_dicom_header['Study']['Series'][se]['Instances'][i]['ImageFrames']\n",
    "            s3.put_object(\n",
    "                Body=json.dumps(instance),\n",
    "                Bucket=bucket,\n",
    "                Key=f'{dicom_header_prefix}json/instances/{i}.json'\n",
    "            )"
   ]
  },
  {
   "cell_type": "markdown",
   "id": "00ad7543-b9c6-42a8-a895-bbc5ee930c7a",
   "metadata": {},
   "source": [
    "## Create Glue Data Catalogs using Crawler\n",
    "\n",
    "[Amazon Glue crawler can be used to produce data catalog](https://docs.aws.amazon.com/glue/latest/dg/catalog-and-crawler.html), which is used for interactive SQL query through Amazon Athena"
   ]
  },
  {
   "cell_type": "code",
   "execution_count": null,
   "id": "da5393a6-6b32-49ec-9764-a02749109790",
   "metadata": {
    "tags": []
   },
   "outputs": [],
   "source": [
    "glue_client = boto3.client('glue')\n",
    "glue_crawler_name = 'DICOMHeaderJSONCrawler'\n",
    "glue_database_name = 'idc_dicom_headers'\n",
    "\n",
    "try:\n",
    "    glue_client.get_crawler(Name=glue_crawler_name)\n",
    "except ClientError as err:\n",
    "    logging.info( \"Could not get crawler Here's why: %s: %s\", err.response['Error']['Code'], err.response['Error']['Message'])\n",
    "    logging.info(\"Creating Crawler\")\n",
    "    glue_client.create_crawler(\n",
    "        Name=glue_crawler_name,\n",
    "        Role=get_execution_role(),\n",
    "        DatabaseName=glue_database_name,\n",
    "        Targets={'S3Targets': [{'Path': f\"s3://{bucket}/{dicom_header_prefix}json/\"}]})\n",
    "\n",
    "try:\n",
    "    logging.info(\"Starting Crawler\")\n",
    "    glue_client.start_crawler(Name=glue_crawler_name)\n",
    "except ClientError as err:\n",
    "    logging.error(\n",
    "        \"Couldn't start crawler %s. Here's why: %s: %s\", name,\n",
    "        err.response['Error']['Code'], err.response['Error']['Message'])\n",
    "    raise\n",
    "\n",
    "jobstatus = glue_client.get_crawler(Name=glue_crawler_name)['Crawler']['State']\n",
    "while jobstatus != 'READY':\n",
    "    time.sleep(30)\n",
    "    jobstatus = glue_client.get_crawler(Name=glue_crawler_name)['Crawler']['State']\n",
    "print(f\"crawler jobstatus is {jobstatus}\")"
   ]
  },
  {
   "cell_type": "markdown",
   "id": "e4cbb491-3a88-4624-984a-e5fa37587ae0",
   "metadata": {},
   "source": [
    "## Query the DICOM header using Amazon Athena"
   ]
  },
  {
   "cell_type": "code",
   "execution_count": null,
   "id": "d93ded16-c534-4479-8e31-09641841efd2",
   "metadata": {
    "tags": []
   },
   "outputs": [],
   "source": [
    "import requests\n",
    "from pyathena import connect\n",
    "\n",
    "# This code uses the connect() function from the pyathena library to establish a connection to Amazon Athena. \n",
    "# s3_staging_dir: The S3 URL to the staging directory for query results.\n",
    "# region_name: The AWS region where the Athena resources are located.\n",
    "# work_group: The name of the workgroup to use for the connection.\n",
    "# schema_name: The name of the schema within Athena that you want to interact with.\n",
    "conn = connect(\n",
    "    s3_staging_dir=f's3://{bucket}/athena-results/',\n",
    "    region_name=region,\n",
    "    work_group='primary', #REPLACE WORKGROUP NAME IF ANY ERROR\n",
    "    schema_name=glue_database_name,\n",
    ")\n",
    "\n",
    "print(conn)"
   ]
  },
  {
   "cell_type": "code",
   "execution_count": null,
   "id": "c67a505f-171d-45a6-acf5-bd8852ad594f",
   "metadata": {
    "tags": []
   },
   "outputs": [],
   "source": [
    "## find Modality for a given ImageSetId\n",
    "sql = \"SELECT distinct series.studyinstanceuid, series.modality, count(series.imagesetid) as ImageSetCount from series GROUP BY 1,2 ORDER BY 3 DESC\"\n",
    "try:        \n",
    "    # Execute the SQL query using pd.read_sql() and the established connection (conn)\n",
    "    athen_result_df = pd.read_sql(sql, conn)\n",
    "\n",
    "except pd.io.sql.DatabaseError as e:\n",
    "    # Handle the exception if there's an error while executing the SQL query\n",
    "    logging.error( \"SQL query failed: \" + sql + \" Database error \" + str(e) )\n",
    "\n",
    "athen_result_df"
   ]
  },
  {
   "cell_type": "code",
   "execution_count": null,
   "id": "eec83a32-1451-465f-9dd5-5b42e57ff815",
   "metadata": {
    "tags": []
   },
   "outputs": [],
   "source": [
    "## find ImageFrameId for a given ImageSetId\n",
    "sql = \"SELECT distinct series.imagesetid, series.modality, count(element_at(ImageFrames, 1).id) as ImageFrameCounts from series join instances on series.imagesetid=instances.imagesetid GROUP BY 1,2 ORDER BY 3 DESC\"\n",
    "try:        \n",
    "    # Execute the SQL query using pd.read_sql() and the established connection (conn)\n",
    "    athen_result_df = pd.read_sql(sql, conn)\n",
    "\n",
    "except pd.io.sql.DatabaseError as e:\n",
    "    # Handle the exception if there's an error while executing the SQL query\n",
    "    logging.error( \"SQL query failed: \" + sql + \" Database error \" + str(e) )\n",
    "\n",
    "athen_result_df"
   ]
  },
  {
   "cell_type": "markdown",
   "id": "80e8bcea-7241-41a7-9b8b-6b8772235a5c",
   "metadata": {},
   "source": [
    "## Image Visualization\n",
    "\n",
    "We will use an open source library [Itkwidget](https://github.com/InsightSoftwareConsortium/itkwidgets) to visualize 3D CT scans, which has been described in this [blog post](https://aws.amazon.com/blogs/machine-learning/share-medical-image-research-on-amazon-sagemaker-studio-lab-for-free/). First install [imjoy-jupyter-extension](https://github.com/imjoy-team/imjoy-jupyter-extension) on Studio:\n",
    "\n",
    "![install imjoy](img/imjoy.png)"
   ]
  },
  {
   "cell_type": "code",
   "execution_count": null,
   "id": "db0f8146-ac39-4c85-85f0-3c0dd6182fb2",
   "metadata": {
    "tags": []
   },
   "outputs": [],
   "source": [
    "import itk\n",
    "from itkwidgets import view\n",
    "\n",
    "logging.basicConfig(level=logging.ERROR)\n",
    "# logging.basicConfig( level=logging.INFO )\n",
    "logging.getLogger('AHItoDICOMInterface').setLevel(logging.CRITICAL)\n",
    "\n",
    "\n",
    "import warnings\n",
    "warnings.filterwarnings('ignore')\n",
    "\n",
    "from AHItoDICOMInterface.AHItoDICOM import AHItoDICOM\n",
    "helper = AHItoDICOM()\n",
    "imagesets = helper.DICOMizeImageSet(datastore_id=datastoreId , image_set_id=athen_result_df['imagesetid'][0])"
   ]
  },
  {
   "cell_type": "code",
   "execution_count": null,
   "id": "fbcce770-610a-46ce-a05e-449f9d10273e",
   "metadata": {
    "tags": []
   },
   "outputs": [],
   "source": [
    "img = itk.image_view_from_array([ins.pixel_array for ins in imagesets])\n",
    "viewer = view(img).set_image_gradient_opacity(0.5)"
   ]
  },
  {
   "cell_type": "markdown",
   "id": "1b99d75c-f3a5-42f1-b4f8-b46f756dffbe",
   "metadata": {},
   "source": [
    "## Clean Up"
   ]
  },
  {
   "cell_type": "code",
   "execution_count": null,
   "id": "ec1c8cbb-8d90-4806-a873-655ccb9b20fa",
   "metadata": {
    "tags": []
   },
   "outputs": [],
   "source": [
    "## S3 bucket\n",
    "s3 = boto3.client('s3')\n",
    "try:\n",
    "    objects=s3.list_objects(Bucket=bucket, Prefix=dicom_header_prefix)\n",
    "    for object in objects['Contents']:\n",
    "        s3.delete_object(Bucket=bucket, Key=object['Key'])\n",
    "    s3.delete_object(Bucket=bucket, Key=dicom_header_prefix)\n",
    "    objects=s3.list_objects(Bucket=bucket, Prefix=ahi_input_prefix)\n",
    "    for object in objects['Contents']:\n",
    "        s3.delete_object(Bucket=bucket, Key=object['Key'])\n",
    "    s3.delete_object(Bucket=bucket, Key=ahi_input_prefix)\n",
    "    objects=s3.list_objects(Bucket=bucket, Prefix=ahi_output_prefix)\n",
    "    for object in objects['Contents']:\n",
    "        s3.delete_object(Bucket=bucket, Key=object['Key'])\n",
    "    s3.delete_object(Bucket=bucket, Key=ahi_output_prefix)\n",
    "except ClientError  as e:\n",
    "    logging.error(\n",
    "        \"Couldn't delete S3 folder %s. Here's why: %s: %s\", name, err.response['Error']['Code'], err.response['Error']['Message'])\n",
    "    raise\n",
    "\n",
    "\n",
    "## Glue Crawler and Database\n",
    "try:\n",
    "    glue_client.delete_database(Name=glue_database_name)\n",
    "    glue_client.delete_crawler(Name=glue_crawler_name)\n",
    "except ClientError as err:\n",
    "    logging.error(\n",
    "        \"Couldn't delete database and crawler %s. Here's why: %s: %s\", name, err.response['Error']['Code'], err.response['Error']['Message'])\n",
    "    raise\n",
    "\n",
    "## AHI Datastore images\n",
    "for s in imageSetIds.keys():\n",
    "    medicalimaging.deleteImageSet(datastoreId, s)\n",
    "# medicalimaging.deleteDatastore(datastoreId)"
   ]
  },
  {
   "cell_type": "code",
   "execution_count": null,
   "id": "9e0f85ba-73b2-4e42-93d5-820d99e5ee13",
   "metadata": {},
   "outputs": [],
   "source": []
  }
 ],
 "metadata": {
  "availableInstances": [
   {
    "_defaultOrder": 0,
    "_isFastLaunch": true,
    "category": "General purpose",
    "gpuNum": 0,
    "hideHardwareSpecs": false,
    "memoryGiB": 4,
    "name": "ml.t3.medium",
    "vcpuNum": 2
   },
   {
    "_defaultOrder": 1,
    "_isFastLaunch": false,
    "category": "General purpose",
    "gpuNum": 0,
    "hideHardwareSpecs": false,
    "memoryGiB": 8,
    "name": "ml.t3.large",
    "vcpuNum": 2
   },
   {
    "_defaultOrder": 2,
    "_isFastLaunch": false,
    "category": "General purpose",
    "gpuNum": 0,
    "hideHardwareSpecs": false,
    "memoryGiB": 16,
    "name": "ml.t3.xlarge",
    "vcpuNum": 4
   },
   {
    "_defaultOrder": 3,
    "_isFastLaunch": false,
    "category": "General purpose",
    "gpuNum": 0,
    "hideHardwareSpecs": false,
    "memoryGiB": 32,
    "name": "ml.t3.2xlarge",
    "vcpuNum": 8
   },
   {
    "_defaultOrder": 4,
    "_isFastLaunch": true,
    "category": "General purpose",
    "gpuNum": 0,
    "hideHardwareSpecs": false,
    "memoryGiB": 8,
    "name": "ml.m5.large",
    "vcpuNum": 2
   },
   {
    "_defaultOrder": 5,
    "_isFastLaunch": false,
    "category": "General purpose",
    "gpuNum": 0,
    "hideHardwareSpecs": false,
    "memoryGiB": 16,
    "name": "ml.m5.xlarge",
    "vcpuNum": 4
   },
   {
    "_defaultOrder": 6,
    "_isFastLaunch": false,
    "category": "General purpose",
    "gpuNum": 0,
    "hideHardwareSpecs": false,
    "memoryGiB": 32,
    "name": "ml.m5.2xlarge",
    "vcpuNum": 8
   },
   {
    "_defaultOrder": 7,
    "_isFastLaunch": false,
    "category": "General purpose",
    "gpuNum": 0,
    "hideHardwareSpecs": false,
    "memoryGiB": 64,
    "name": "ml.m5.4xlarge",
    "vcpuNum": 16
   },
   {
    "_defaultOrder": 8,
    "_isFastLaunch": false,
    "category": "General purpose",
    "gpuNum": 0,
    "hideHardwareSpecs": false,
    "memoryGiB": 128,
    "name": "ml.m5.8xlarge",
    "vcpuNum": 32
   },
   {
    "_defaultOrder": 9,
    "_isFastLaunch": false,
    "category": "General purpose",
    "gpuNum": 0,
    "hideHardwareSpecs": false,
    "memoryGiB": 192,
    "name": "ml.m5.12xlarge",
    "vcpuNum": 48
   },
   {
    "_defaultOrder": 10,
    "_isFastLaunch": false,
    "category": "General purpose",
    "gpuNum": 0,
    "hideHardwareSpecs": false,
    "memoryGiB": 256,
    "name": "ml.m5.16xlarge",
    "vcpuNum": 64
   },
   {
    "_defaultOrder": 11,
    "_isFastLaunch": false,
    "category": "General purpose",
    "gpuNum": 0,
    "hideHardwareSpecs": false,
    "memoryGiB": 384,
    "name": "ml.m5.24xlarge",
    "vcpuNum": 96
   },
   {
    "_defaultOrder": 12,
    "_isFastLaunch": false,
    "category": "General purpose",
    "gpuNum": 0,
    "hideHardwareSpecs": false,
    "memoryGiB": 8,
    "name": "ml.m5d.large",
    "vcpuNum": 2
   },
   {
    "_defaultOrder": 13,
    "_isFastLaunch": false,
    "category": "General purpose",
    "gpuNum": 0,
    "hideHardwareSpecs": false,
    "memoryGiB": 16,
    "name": "ml.m5d.xlarge",
    "vcpuNum": 4
   },
   {
    "_defaultOrder": 14,
    "_isFastLaunch": false,
    "category": "General purpose",
    "gpuNum": 0,
    "hideHardwareSpecs": false,
    "memoryGiB": 32,
    "name": "ml.m5d.2xlarge",
    "vcpuNum": 8
   },
   {
    "_defaultOrder": 15,
    "_isFastLaunch": false,
    "category": "General purpose",
    "gpuNum": 0,
    "hideHardwareSpecs": false,
    "memoryGiB": 64,
    "name": "ml.m5d.4xlarge",
    "vcpuNum": 16
   },
   {
    "_defaultOrder": 16,
    "_isFastLaunch": false,
    "category": "General purpose",
    "gpuNum": 0,
    "hideHardwareSpecs": false,
    "memoryGiB": 128,
    "name": "ml.m5d.8xlarge",
    "vcpuNum": 32
   },
   {
    "_defaultOrder": 17,
    "_isFastLaunch": false,
    "category": "General purpose",
    "gpuNum": 0,
    "hideHardwareSpecs": false,
    "memoryGiB": 192,
    "name": "ml.m5d.12xlarge",
    "vcpuNum": 48
   },
   {
    "_defaultOrder": 18,
    "_isFastLaunch": false,
    "category": "General purpose",
    "gpuNum": 0,
    "hideHardwareSpecs": false,
    "memoryGiB": 256,
    "name": "ml.m5d.16xlarge",
    "vcpuNum": 64
   },
   {
    "_defaultOrder": 19,
    "_isFastLaunch": false,
    "category": "General purpose",
    "gpuNum": 0,
    "hideHardwareSpecs": false,
    "memoryGiB": 384,
    "name": "ml.m5d.24xlarge",
    "vcpuNum": 96
   },
   {
    "_defaultOrder": 20,
    "_isFastLaunch": false,
    "category": "General purpose",
    "gpuNum": 0,
    "hideHardwareSpecs": true,
    "memoryGiB": 0,
    "name": "ml.geospatial.interactive",
    "supportedImageNames": [
     "sagemaker-geospatial-v1-0"
    ],
    "vcpuNum": 0
   },
   {
    "_defaultOrder": 21,
    "_isFastLaunch": true,
    "category": "Compute optimized",
    "gpuNum": 0,
    "hideHardwareSpecs": false,
    "memoryGiB": 4,
    "name": "ml.c5.large",
    "vcpuNum": 2
   },
   {
    "_defaultOrder": 22,
    "_isFastLaunch": false,
    "category": "Compute optimized",
    "gpuNum": 0,
    "hideHardwareSpecs": false,
    "memoryGiB": 8,
    "name": "ml.c5.xlarge",
    "vcpuNum": 4
   },
   {
    "_defaultOrder": 23,
    "_isFastLaunch": false,
    "category": "Compute optimized",
    "gpuNum": 0,
    "hideHardwareSpecs": false,
    "memoryGiB": 16,
    "name": "ml.c5.2xlarge",
    "vcpuNum": 8
   },
   {
    "_defaultOrder": 24,
    "_isFastLaunch": false,
    "category": "Compute optimized",
    "gpuNum": 0,
    "hideHardwareSpecs": false,
    "memoryGiB": 32,
    "name": "ml.c5.4xlarge",
    "vcpuNum": 16
   },
   {
    "_defaultOrder": 25,
    "_isFastLaunch": false,
    "category": "Compute optimized",
    "gpuNum": 0,
    "hideHardwareSpecs": false,
    "memoryGiB": 72,
    "name": "ml.c5.9xlarge",
    "vcpuNum": 36
   },
   {
    "_defaultOrder": 26,
    "_isFastLaunch": false,
    "category": "Compute optimized",
    "gpuNum": 0,
    "hideHardwareSpecs": false,
    "memoryGiB": 96,
    "name": "ml.c5.12xlarge",
    "vcpuNum": 48
   },
   {
    "_defaultOrder": 27,
    "_isFastLaunch": false,
    "category": "Compute optimized",
    "gpuNum": 0,
    "hideHardwareSpecs": false,
    "memoryGiB": 144,
    "name": "ml.c5.18xlarge",
    "vcpuNum": 72
   },
   {
    "_defaultOrder": 28,
    "_isFastLaunch": false,
    "category": "Compute optimized",
    "gpuNum": 0,
    "hideHardwareSpecs": false,
    "memoryGiB": 192,
    "name": "ml.c5.24xlarge",
    "vcpuNum": 96
   },
   {
    "_defaultOrder": 29,
    "_isFastLaunch": true,
    "category": "Accelerated computing",
    "gpuNum": 1,
    "hideHardwareSpecs": false,
    "memoryGiB": 16,
    "name": "ml.g4dn.xlarge",
    "vcpuNum": 4
   },
   {
    "_defaultOrder": 30,
    "_isFastLaunch": false,
    "category": "Accelerated computing",
    "gpuNum": 1,
    "hideHardwareSpecs": false,
    "memoryGiB": 32,
    "name": "ml.g4dn.2xlarge",
    "vcpuNum": 8
   },
   {
    "_defaultOrder": 31,
    "_isFastLaunch": false,
    "category": "Accelerated computing",
    "gpuNum": 1,
    "hideHardwareSpecs": false,
    "memoryGiB": 64,
    "name": "ml.g4dn.4xlarge",
    "vcpuNum": 16
   },
   {
    "_defaultOrder": 32,
    "_isFastLaunch": false,
    "category": "Accelerated computing",
    "gpuNum": 1,
    "hideHardwareSpecs": false,
    "memoryGiB": 128,
    "name": "ml.g4dn.8xlarge",
    "vcpuNum": 32
   },
   {
    "_defaultOrder": 33,
    "_isFastLaunch": false,
    "category": "Accelerated computing",
    "gpuNum": 4,
    "hideHardwareSpecs": false,
    "memoryGiB": 192,
    "name": "ml.g4dn.12xlarge",
    "vcpuNum": 48
   },
   {
    "_defaultOrder": 34,
    "_isFastLaunch": false,
    "category": "Accelerated computing",
    "gpuNum": 1,
    "hideHardwareSpecs": false,
    "memoryGiB": 256,
    "name": "ml.g4dn.16xlarge",
    "vcpuNum": 64
   },
   {
    "_defaultOrder": 35,
    "_isFastLaunch": false,
    "category": "Accelerated computing",
    "gpuNum": 1,
    "hideHardwareSpecs": false,
    "memoryGiB": 61,
    "name": "ml.p3.2xlarge",
    "vcpuNum": 8
   },
   {
    "_defaultOrder": 36,
    "_isFastLaunch": false,
    "category": "Accelerated computing",
    "gpuNum": 4,
    "hideHardwareSpecs": false,
    "memoryGiB": 244,
    "name": "ml.p3.8xlarge",
    "vcpuNum": 32
   },
   {
    "_defaultOrder": 37,
    "_isFastLaunch": false,
    "category": "Accelerated computing",
    "gpuNum": 8,
    "hideHardwareSpecs": false,
    "memoryGiB": 488,
    "name": "ml.p3.16xlarge",
    "vcpuNum": 64
   },
   {
    "_defaultOrder": 38,
    "_isFastLaunch": false,
    "category": "Accelerated computing",
    "gpuNum": 8,
    "hideHardwareSpecs": false,
    "memoryGiB": 768,
    "name": "ml.p3dn.24xlarge",
    "vcpuNum": 96
   },
   {
    "_defaultOrder": 39,
    "_isFastLaunch": false,
    "category": "Memory Optimized",
    "gpuNum": 0,
    "hideHardwareSpecs": false,
    "memoryGiB": 16,
    "name": "ml.r5.large",
    "vcpuNum": 2
   },
   {
    "_defaultOrder": 40,
    "_isFastLaunch": false,
    "category": "Memory Optimized",
    "gpuNum": 0,
    "hideHardwareSpecs": false,
    "memoryGiB": 32,
    "name": "ml.r5.xlarge",
    "vcpuNum": 4
   },
   {
    "_defaultOrder": 41,
    "_isFastLaunch": false,
    "category": "Memory Optimized",
    "gpuNum": 0,
    "hideHardwareSpecs": false,
    "memoryGiB": 64,
    "name": "ml.r5.2xlarge",
    "vcpuNum": 8
   },
   {
    "_defaultOrder": 42,
    "_isFastLaunch": false,
    "category": "Memory Optimized",
    "gpuNum": 0,
    "hideHardwareSpecs": false,
    "memoryGiB": 128,
    "name": "ml.r5.4xlarge",
    "vcpuNum": 16
   },
   {
    "_defaultOrder": 43,
    "_isFastLaunch": false,
    "category": "Memory Optimized",
    "gpuNum": 0,
    "hideHardwareSpecs": false,
    "memoryGiB": 256,
    "name": "ml.r5.8xlarge",
    "vcpuNum": 32
   },
   {
    "_defaultOrder": 44,
    "_isFastLaunch": false,
    "category": "Memory Optimized",
    "gpuNum": 0,
    "hideHardwareSpecs": false,
    "memoryGiB": 384,
    "name": "ml.r5.12xlarge",
    "vcpuNum": 48
   },
   {
    "_defaultOrder": 45,
    "_isFastLaunch": false,
    "category": "Memory Optimized",
    "gpuNum": 0,
    "hideHardwareSpecs": false,
    "memoryGiB": 512,
    "name": "ml.r5.16xlarge",
    "vcpuNum": 64
   },
   {
    "_defaultOrder": 46,
    "_isFastLaunch": false,
    "category": "Memory Optimized",
    "gpuNum": 0,
    "hideHardwareSpecs": false,
    "memoryGiB": 768,
    "name": "ml.r5.24xlarge",
    "vcpuNum": 96
   },
   {
    "_defaultOrder": 47,
    "_isFastLaunch": false,
    "category": "Accelerated computing",
    "gpuNum": 1,
    "hideHardwareSpecs": false,
    "memoryGiB": 16,
    "name": "ml.g5.xlarge",
    "vcpuNum": 4
   },
   {
    "_defaultOrder": 48,
    "_isFastLaunch": false,
    "category": "Accelerated computing",
    "gpuNum": 1,
    "hideHardwareSpecs": false,
    "memoryGiB": 32,
    "name": "ml.g5.2xlarge",
    "vcpuNum": 8
   },
   {
    "_defaultOrder": 49,
    "_isFastLaunch": false,
    "category": "Accelerated computing",
    "gpuNum": 1,
    "hideHardwareSpecs": false,
    "memoryGiB": 64,
    "name": "ml.g5.4xlarge",
    "vcpuNum": 16
   },
   {
    "_defaultOrder": 50,
    "_isFastLaunch": false,
    "category": "Accelerated computing",
    "gpuNum": 1,
    "hideHardwareSpecs": false,
    "memoryGiB": 128,
    "name": "ml.g5.8xlarge",
    "vcpuNum": 32
   },
   {
    "_defaultOrder": 51,
    "_isFastLaunch": false,
    "category": "Accelerated computing",
    "gpuNum": 1,
    "hideHardwareSpecs": false,
    "memoryGiB": 256,
    "name": "ml.g5.16xlarge",
    "vcpuNum": 64
   },
   {
    "_defaultOrder": 52,
    "_isFastLaunch": false,
    "category": "Accelerated computing",
    "gpuNum": 4,
    "hideHardwareSpecs": false,
    "memoryGiB": 192,
    "name": "ml.g5.12xlarge",
    "vcpuNum": 48
   },
   {
    "_defaultOrder": 53,
    "_isFastLaunch": false,
    "category": "Accelerated computing",
    "gpuNum": 4,
    "hideHardwareSpecs": false,
    "memoryGiB": 384,
    "name": "ml.g5.24xlarge",
    "vcpuNum": 96
   },
   {
    "_defaultOrder": 54,
    "_isFastLaunch": false,
    "category": "Accelerated computing",
    "gpuNum": 8,
    "hideHardwareSpecs": false,
    "memoryGiB": 768,
    "name": "ml.g5.48xlarge",
    "vcpuNum": 192
   },
   {
    "_defaultOrder": 55,
    "_isFastLaunch": false,
    "category": "Accelerated computing",
    "gpuNum": 8,
    "hideHardwareSpecs": false,
    "memoryGiB": 1152,
    "name": "ml.p4d.24xlarge",
    "vcpuNum": 96
   },
   {
    "_defaultOrder": 56,
    "_isFastLaunch": false,
    "category": "Accelerated computing",
    "gpuNum": 8,
    "hideHardwareSpecs": false,
    "memoryGiB": 1152,
    "name": "ml.p4de.24xlarge",
    "vcpuNum": 96
   }
  ],
  "instance_type": "ml.t3.medium",
  "kernelspec": {
   "display_name": "Python 3 (PyTorch 1.12 Python 3.8 CPU Optimized)",
   "language": "python",
   "name": "python3__SAGEMAKER_INTERNAL__arn:aws:sagemaker:us-east-1:081325390199:image/pytorch-1.12-cpu-py38"
  },
  "language_info": {
   "codemirror_mode": {
    "name": "ipython",
    "version": 3
   },
   "file_extension": ".py",
   "mimetype": "text/x-python",
   "name": "python",
   "nbconvert_exporter": "python",
   "pygments_lexer": "ipython3",
   "version": "3.8.16"
  }
 },
 "nbformat": 4,
 "nbformat_minor": 5
}
