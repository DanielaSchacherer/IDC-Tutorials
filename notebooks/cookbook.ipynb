{
  "nbformat": 4,
  "nbformat_minor": 0,
  "metadata": {
    "colab": {
      "name": "IDC Google Colab notebook cookbook",
      "provenance": [],
      "toc_visible": true,
      "authorship_tag": "ABX9TyP9KIcsQ2eq9EhP9fTUDKRc",
      "include_colab_link": true
    },
    "kernelspec": {
      "name": "python3",
      "display_name": "Python 3"
    },
    "language_info": {
      "name": "python"
    }
  },
  "cells": [
    {
      "cell_type": "markdown",
      "metadata": {
        "id": "view-in-github",
        "colab_type": "text"
      },
      "source": [
        "<a href=\"https://colab.research.google.com/github/ImagingDataCommons/IDC-Examples/blob/master/notebooks/cookbook.ipynb\" target=\"_parent\"><img src=\"https://colab.research.google.com/assets/colab-badge.svg\" alt=\"Open In Colab\"/></a>"
      ]
    },
    {
      "cell_type": "markdown",
      "source": [
        "# IDC Google Colab cookbook notebook\n",
        "\n",
        "The goal of this notebook is to serve as the source of various small bits that should be helpful in developing analysis notebooks by the IDC users.\n",
        "\n",
        "Please email Andrey Fedorov andrey dot fedorov at gmail dot com if you have any questions or suggestions!\n",
        "\n",
        "Prepared: Spring 2022"
      ],
      "metadata": {
        "id": "m_TcNSmCPUVC"
      }
    },
    {
      "cell_type": "markdown",
      "source": [
        "# Prerequisites\n",
        "\n",
        "* To use Colab, and to access data in IDC, you will need a [Google Account](https://support.google.com/accounts/answer/27441?hl=en)\n",
        "* Make sure your Colab instance has a GPU! For this check \"Runtime > Change runtime type\" and make sure to choose the GPU runtime.\n",
        "* To perform queries against IDC BigQuery tables you will need a cloud project. You can get started with Google Cloud free project with the following steps (they are also illustrated in [this short video](https://youtu.be/i08S0KJLnyw)):\n",
        "  1. Go to https://console.cloud.google.com/, and accept Terms and conditions.\n",
        "  2. Click \"Select a project\" button in the upper left corner of the screen, and then click \"New project\".\n",
        "  3. Open the console menu by clicking the ☰ menu icon in the upper left corner, and select \"Dashboard\". You will see information about your project, including your Project ID. Insert that project ID in the cell below in place of `REPLACE_ME_WITH_YOUR_PROJECT_ID`."
      ],
      "metadata": {
        "id": "40SRMJpLRbx3"
      }
    },
    {
      "cell_type": "code",
      "execution_count": 1,
      "metadata": {
        "id": "RJ-UxuUeQsuy"
      },
      "outputs": [],
      "source": [
        "# initialize this variable with your Google Cloud Project ID!\n",
        "my_ProjectID = \"REPLACE_ME_WITH_YOUR_PROJECT_ID\"\n",
        "my_ProjectID = \"idc-tcia\"\n",
        "\n",
        "import os\n",
        "os.environ[\"GCP_PROJECT_ID\"] = my_ProjectID"
      ]
    },
    {
      "cell_type": "markdown",
      "source": [
        "# Authentication"
      ],
      "metadata": {
        "id": "UAQruFrsTbHQ"
      }
    },
    {
      "cell_type": "code",
      "source": [
        "# you will need to authenticate with your Google ID to do anything meaningful with IDC\n",
        "from google.colab import auth\n",
        "auth.authenticate_user()"
      ],
      "metadata": {
        "id": "o8WdiIiBQwav"
      },
      "execution_count": 2,
      "outputs": []
    },
    {
      "cell_type": "markdown",
      "source": [
        "# Query\n",
        "\n",
        "First, instantiate the query client, which can next be configured to run the query."
      ],
      "metadata": {
        "id": "29H1Kp5dTYBb"
      }
    },
    {
      "cell_type": "code",
      "source": [
        "# python API is the most flexible way to query IDC BigQuery metadata tables\n",
        "from google.cloud import bigquery\n",
        "bq_client = bigquery.Client(my_ProjectID)"
      ],
      "metadata": {
        "id": "TLhEHQkNWkac"
      },
      "execution_count": 3,
      "outputs": []
    },
    {
      "cell_type": "markdown",
      "source": [
        "## Select by specific UID"
      ],
      "metadata": {
        "id": "44bcOU8zY1Gv"
      }
    },
    {
      "cell_type": "code",
      "source": [
        "# select rows corresponding to the specific DICOM instance, as defined by SOPInstanceUID value\n",
        "# similarly, you can select by specifying StudyInstanceUID, SeriesInstanceUID or SOPInstanceUID,\n",
        "# replacing the PatientID line below with the following (as examples): \n",
        "#   SOPInstanceUID = \\\"1.3.6.1.4.1.14519.5.2.1.6450.2626.226637977389233552278537838820\\\" \n",
        "#   SeriesInstanceUID = \\\"1.3.6.1.4.1.14519.5.2.1.4334.1501.312037286778380630549945195741\\\" \n",
        "#   StudyInstanceUID = \\\"\t1.3.6.1.4.1.14519.5.2.1.4334.1501.116796918629271881210561198785\\\" \n",
        "selection_query = f\"\\\n",
        "  SELECT  \\\n",
        "    StudyInstanceUID, \\\n",
        "    SeriesInstanceUID, \\\n",
        "    SOPInstanceUID, \\\n",
        "    gcs_url \\\n",
        "  FROM \\\n",
        "    `bigquery-public-data.idc_current.dicom_all` \\\n",
        "  WHERE \\\n",
        "    PatientID = \\\"R01-001\\\"\"\n",
        "\n",
        "selection_result = bq_client.query(selection_query)\n",
        "selection_df = selection_result.result().to_dataframe()"
      ],
      "metadata": {
        "id": "O3ChffvfQ5kK"
      },
      "execution_count": 7,
      "outputs": []
    },
    {
      "cell_type": "markdown",
      "source": [
        "## Select by availability of segmentations"
      ],
      "metadata": {
        "id": "fme0GjCkY4Dj"
      }
    },
    {
      "cell_type": "markdown",
      "source": [
        "What segmentations do we have anyway? Let's look at the distinct combinations of segmentation property category, type and anatomic location, which are the metadata attributes that describe segmentations."
      ],
      "metadata": {
        "id": "8mdR0ohfY-N5"
      }
    },
    {
      "cell_type": "code",
      "source": [
        "%%bigquery --project=$my_ProjectID\n",
        "\n",
        "SELECT\n",
        "  DISTINCT(SegmentedPropertyCategory.CodeMeaning) as SegmentedPropertyCategory_CodeMeaning,\n",
        "  SegmentedPropertyType.CodeMeaning as SegmentedPropertyType_CodeMeaning,\n",
        "  AnatomicRegion.CodeMeaning as AnatomicRegion_CodeMeaning\n",
        "FROM\n",
        "  `bigquery-public-data.idc_current.segmentations`"
      ],
      "metadata": {
        "colab": {
          "base_uri": "https://localhost:8080/",
          "height": 1000
        },
        "id": "I-e1GCFHZAti",
        "outputId": "e877db34-f54c-4a22-c960-5a7026838096"
      },
      "execution_count": null,
      "outputs": [
        {
          "output_type": "execute_result",
          "data": {
            "text/plain": [
              "   SegmentedPropertyCategory_CodeMeaning  \\\n",
              "0      Morphologically Altered Structure   \n",
              "1      Morphologically Altered Structure   \n",
              "2      Morphologically Altered Structure   \n",
              "3      Morphologically Altered Structure   \n",
              "4                   Anatomical Structure   \n",
              "5      Morphologically Altered Structure   \n",
              "6                   Anatomical Structure   \n",
              "7         Spatial and Relational Concept   \n",
              "8      Morphologically Altered Structure   \n",
              "9                   Anatomical Structure   \n",
              "10                  Anatomical Structure   \n",
              "11     Morphologically Altered Structure   \n",
              "12                  Anatomical Structure   \n",
              "13                  Anatomical Structure   \n",
              "14        Spatial and Relational Concept   \n",
              "15                  Anatomical Structure   \n",
              "16                  Anatomical Structure   \n",
              "17     Morphologically Altered Structure   \n",
              "18     Morphologically Altered Structure   \n",
              "19                                Tissue   \n",
              "20     Morphologically Altered Structure   \n",
              "21                                Tissue   \n",
              "22                       Physical Object   \n",
              "23                  Anatomical Structure   \n",
              "24     Morphologically Altered Structure   \n",
              "25    Morphologically abnormal structure   \n",
              "26     Morphologically Altered Structure   \n",
              "27                  Anatomical Structure   \n",
              "28                                Tissue   \n",
              "29     Morphologically Altered Structure   \n",
              "30      Morphological Abnormal Structure   \n",
              "31                  Anatomical Structure   \n",
              "32                  Anatomical Structure   \n",
              "33     Morphologically Altered Structure   \n",
              "34     Morphologically Altered Structure   \n",
              "35                                Tissue   \n",
              "36        Spatial and Relational Concept   \n",
              "\n",
              "            SegmentedPropertyType_CodeMeaning       AnatomicRegion_CodeMeaning  \n",
              "0                           Neoplasm, Primary                      hypopharynx  \n",
              "1                           Neoplasm, Primary                   base of tongue  \n",
              "2                                      Lesion  Peripheral zone of the prostate  \n",
              "3                           Neoplasm, Primary                    Head and Neck  \n",
              "4                                 Spinal cord                             None  \n",
              "5                         Neoplasm, Secondary      lymph node of head and neck  \n",
              "6                                        Lung                             None  \n",
              "7                            Reference Region                       Cerebellum  \n",
              "8                                       Edema                            Brain  \n",
              "9                                      Kidney                             None  \n",
              "10                          Prostatic Urethra                             None  \n",
              "11                          Neoplasm, Primary                       oropharynx  \n",
              "12  Anterior fibromuscular stroma of prostate                             None  \n",
              "13            Peripheral zone of the prostate                             None  \n",
              "14                           Reference Region                            Liver  \n",
              "15                Transition zone of prostate                             None  \n",
              "16                                   Prostate                             None  \n",
              "17                          Neoplasm, Primary                   pyriform sinus  \n",
              "18                           Enhancing Lesion                            Brain  \n",
              "19                                     Breast                           Breast  \n",
              "20                                       Mass                             None  \n",
              "21                                     Tissue                             None  \n",
              "22                                      Heart                  Physical Object  \n",
              "23                                  upper arm                             None  \n",
              "24                          Neoplasm, Primary                      nasopharynx  \n",
              "25                                   Neoplasm                             None  \n",
              "26                                   Necrosis                            Brain  \n",
              "27                Peripheral zone of prostate                             None  \n",
              "28                                     Tissue                           Tissue  \n",
              "29                          Neoplasm, Primary                             Lung  \n",
              "30                                     Nodule                             Lung  \n",
              "31                                      Heart                             None  \n",
              "32                                  Esophagus                             None  \n",
              "33                                   Neoplasm                      Entire body  \n",
              "34                          Neoplasm, Primary      pharyngeal tonsil (adenoid)  \n",
              "35                                     Normal  Peripheral zone of the prostate  \n",
              "36                           Reference Region                      Aortic arch  "
            ],
            "text/html": [
              "\n",
              "  <div id=\"df-0580aae7-021a-43dc-9476-f6b8510f5d60\">\n",
              "    <div class=\"colab-df-container\">\n",
              "      <div>\n",
              "<style scoped>\n",
              "    .dataframe tbody tr th:only-of-type {\n",
              "        vertical-align: middle;\n",
              "    }\n",
              "\n",
              "    .dataframe tbody tr th {\n",
              "        vertical-align: top;\n",
              "    }\n",
              "\n",
              "    .dataframe thead th {\n",
              "        text-align: right;\n",
              "    }\n",
              "</style>\n",
              "<table border=\"1\" class=\"dataframe\">\n",
              "  <thead>\n",
              "    <tr style=\"text-align: right;\">\n",
              "      <th></th>\n",
              "      <th>SegmentedPropertyCategory_CodeMeaning</th>\n",
              "      <th>SegmentedPropertyType_CodeMeaning</th>\n",
              "      <th>AnatomicRegion_CodeMeaning</th>\n",
              "    </tr>\n",
              "  </thead>\n",
              "  <tbody>\n",
              "    <tr>\n",
              "      <th>0</th>\n",
              "      <td>Morphologically Altered Structure</td>\n",
              "      <td>Neoplasm, Primary</td>\n",
              "      <td>hypopharynx</td>\n",
              "    </tr>\n",
              "    <tr>\n",
              "      <th>1</th>\n",
              "      <td>Morphologically Altered Structure</td>\n",
              "      <td>Neoplasm, Primary</td>\n",
              "      <td>base of tongue</td>\n",
              "    </tr>\n",
              "    <tr>\n",
              "      <th>2</th>\n",
              "      <td>Morphologically Altered Structure</td>\n",
              "      <td>Lesion</td>\n",
              "      <td>Peripheral zone of the prostate</td>\n",
              "    </tr>\n",
              "    <tr>\n",
              "      <th>3</th>\n",
              "      <td>Morphologically Altered Structure</td>\n",
              "      <td>Neoplasm, Primary</td>\n",
              "      <td>Head and Neck</td>\n",
              "    </tr>\n",
              "    <tr>\n",
              "      <th>4</th>\n",
              "      <td>Anatomical Structure</td>\n",
              "      <td>Spinal cord</td>\n",
              "      <td>None</td>\n",
              "    </tr>\n",
              "    <tr>\n",
              "      <th>5</th>\n",
              "      <td>Morphologically Altered Structure</td>\n",
              "      <td>Neoplasm, Secondary</td>\n",
              "      <td>lymph node of head and neck</td>\n",
              "    </tr>\n",
              "    <tr>\n",
              "      <th>6</th>\n",
              "      <td>Anatomical Structure</td>\n",
              "      <td>Lung</td>\n",
              "      <td>None</td>\n",
              "    </tr>\n",
              "    <tr>\n",
              "      <th>7</th>\n",
              "      <td>Spatial and Relational Concept</td>\n",
              "      <td>Reference Region</td>\n",
              "      <td>Cerebellum</td>\n",
              "    </tr>\n",
              "    <tr>\n",
              "      <th>8</th>\n",
              "      <td>Morphologically Altered Structure</td>\n",
              "      <td>Edema</td>\n",
              "      <td>Brain</td>\n",
              "    </tr>\n",
              "    <tr>\n",
              "      <th>9</th>\n",
              "      <td>Anatomical Structure</td>\n",
              "      <td>Kidney</td>\n",
              "      <td>None</td>\n",
              "    </tr>\n",
              "    <tr>\n",
              "      <th>10</th>\n",
              "      <td>Anatomical Structure</td>\n",
              "      <td>Prostatic Urethra</td>\n",
              "      <td>None</td>\n",
              "    </tr>\n",
              "    <tr>\n",
              "      <th>11</th>\n",
              "      <td>Morphologically Altered Structure</td>\n",
              "      <td>Neoplasm, Primary</td>\n",
              "      <td>oropharynx</td>\n",
              "    </tr>\n",
              "    <tr>\n",
              "      <th>12</th>\n",
              "      <td>Anatomical Structure</td>\n",
              "      <td>Anterior fibromuscular stroma of prostate</td>\n",
              "      <td>None</td>\n",
              "    </tr>\n",
              "    <tr>\n",
              "      <th>13</th>\n",
              "      <td>Anatomical Structure</td>\n",
              "      <td>Peripheral zone of the prostate</td>\n",
              "      <td>None</td>\n",
              "    </tr>\n",
              "    <tr>\n",
              "      <th>14</th>\n",
              "      <td>Spatial and Relational Concept</td>\n",
              "      <td>Reference Region</td>\n",
              "      <td>Liver</td>\n",
              "    </tr>\n",
              "    <tr>\n",
              "      <th>15</th>\n",
              "      <td>Anatomical Structure</td>\n",
              "      <td>Transition zone of prostate</td>\n",
              "      <td>None</td>\n",
              "    </tr>\n",
              "    <tr>\n",
              "      <th>16</th>\n",
              "      <td>Anatomical Structure</td>\n",
              "      <td>Prostate</td>\n",
              "      <td>None</td>\n",
              "    </tr>\n",
              "    <tr>\n",
              "      <th>17</th>\n",
              "      <td>Morphologically Altered Structure</td>\n",
              "      <td>Neoplasm, Primary</td>\n",
              "      <td>pyriform sinus</td>\n",
              "    </tr>\n",
              "    <tr>\n",
              "      <th>18</th>\n",
              "      <td>Morphologically Altered Structure</td>\n",
              "      <td>Enhancing Lesion</td>\n",
              "      <td>Brain</td>\n",
              "    </tr>\n",
              "    <tr>\n",
              "      <th>19</th>\n",
              "      <td>Tissue</td>\n",
              "      <td>Breast</td>\n",
              "      <td>Breast</td>\n",
              "    </tr>\n",
              "    <tr>\n",
              "      <th>20</th>\n",
              "      <td>Morphologically Altered Structure</td>\n",
              "      <td>Mass</td>\n",
              "      <td>None</td>\n",
              "    </tr>\n",
              "    <tr>\n",
              "      <th>21</th>\n",
              "      <td>Tissue</td>\n",
              "      <td>Tissue</td>\n",
              "      <td>None</td>\n",
              "    </tr>\n",
              "    <tr>\n",
              "      <th>22</th>\n",
              "      <td>Physical Object</td>\n",
              "      <td>Heart</td>\n",
              "      <td>Physical Object</td>\n",
              "    </tr>\n",
              "    <tr>\n",
              "      <th>23</th>\n",
              "      <td>Anatomical Structure</td>\n",
              "      <td>upper arm</td>\n",
              "      <td>None</td>\n",
              "    </tr>\n",
              "    <tr>\n",
              "      <th>24</th>\n",
              "      <td>Morphologically Altered Structure</td>\n",
              "      <td>Neoplasm, Primary</td>\n",
              "      <td>nasopharynx</td>\n",
              "    </tr>\n",
              "    <tr>\n",
              "      <th>25</th>\n",
              "      <td>Morphologically abnormal structure</td>\n",
              "      <td>Neoplasm</td>\n",
              "      <td>None</td>\n",
              "    </tr>\n",
              "    <tr>\n",
              "      <th>26</th>\n",
              "      <td>Morphologically Altered Structure</td>\n",
              "      <td>Necrosis</td>\n",
              "      <td>Brain</td>\n",
              "    </tr>\n",
              "    <tr>\n",
              "      <th>27</th>\n",
              "      <td>Anatomical Structure</td>\n",
              "      <td>Peripheral zone of prostate</td>\n",
              "      <td>None</td>\n",
              "    </tr>\n",
              "    <tr>\n",
              "      <th>28</th>\n",
              "      <td>Tissue</td>\n",
              "      <td>Tissue</td>\n",
              "      <td>Tissue</td>\n",
              "    </tr>\n",
              "    <tr>\n",
              "      <th>29</th>\n",
              "      <td>Morphologically Altered Structure</td>\n",
              "      <td>Neoplasm, Primary</td>\n",
              "      <td>Lung</td>\n",
              "    </tr>\n",
              "    <tr>\n",
              "      <th>30</th>\n",
              "      <td>Morphological Abnormal Structure</td>\n",
              "      <td>Nodule</td>\n",
              "      <td>Lung</td>\n",
              "    </tr>\n",
              "    <tr>\n",
              "      <th>31</th>\n",
              "      <td>Anatomical Structure</td>\n",
              "      <td>Heart</td>\n",
              "      <td>None</td>\n",
              "    </tr>\n",
              "    <tr>\n",
              "      <th>32</th>\n",
              "      <td>Anatomical Structure</td>\n",
              "      <td>Esophagus</td>\n",
              "      <td>None</td>\n",
              "    </tr>\n",
              "    <tr>\n",
              "      <th>33</th>\n",
              "      <td>Morphologically Altered Structure</td>\n",
              "      <td>Neoplasm</td>\n",
              "      <td>Entire body</td>\n",
              "    </tr>\n",
              "    <tr>\n",
              "      <th>34</th>\n",
              "      <td>Morphologically Altered Structure</td>\n",
              "      <td>Neoplasm, Primary</td>\n",
              "      <td>pharyngeal tonsil (adenoid)</td>\n",
              "    </tr>\n",
              "    <tr>\n",
              "      <th>35</th>\n",
              "      <td>Tissue</td>\n",
              "      <td>Normal</td>\n",
              "      <td>Peripheral zone of the prostate</td>\n",
              "    </tr>\n",
              "    <tr>\n",
              "      <th>36</th>\n",
              "      <td>Spatial and Relational Concept</td>\n",
              "      <td>Reference Region</td>\n",
              "      <td>Aortic arch</td>\n",
              "    </tr>\n",
              "  </tbody>\n",
              "</table>\n",
              "</div>\n",
              "      <button class=\"colab-df-convert\" onclick=\"convertToInteractive('df-0580aae7-021a-43dc-9476-f6b8510f5d60')\"\n",
              "              title=\"Convert this dataframe to an interactive table.\"\n",
              "              style=\"display:none;\">\n",
              "        \n",
              "  <svg xmlns=\"http://www.w3.org/2000/svg\" height=\"24px\"viewBox=\"0 0 24 24\"\n",
              "       width=\"24px\">\n",
              "    <path d=\"M0 0h24v24H0V0z\" fill=\"none\"/>\n",
              "    <path d=\"M18.56 5.44l.94 2.06.94-2.06 2.06-.94-2.06-.94-.94-2.06-.94 2.06-2.06.94zm-11 1L8.5 8.5l.94-2.06 2.06-.94-2.06-.94L8.5 2.5l-.94 2.06-2.06.94zm10 10l.94 2.06.94-2.06 2.06-.94-2.06-.94-.94-2.06-.94 2.06-2.06.94z\"/><path d=\"M17.41 7.96l-1.37-1.37c-.4-.4-.92-.59-1.43-.59-.52 0-1.04.2-1.43.59L10.3 9.45l-7.72 7.72c-.78.78-.78 2.05 0 2.83L4 21.41c.39.39.9.59 1.41.59.51 0 1.02-.2 1.41-.59l7.78-7.78 2.81-2.81c.8-.78.8-2.07 0-2.86zM5.41 20L4 18.59l7.72-7.72 1.47 1.35L5.41 20z\"/>\n",
              "  </svg>\n",
              "      </button>\n",
              "      \n",
              "  <style>\n",
              "    .colab-df-container {\n",
              "      display:flex;\n",
              "      flex-wrap:wrap;\n",
              "      gap: 12px;\n",
              "    }\n",
              "\n",
              "    .colab-df-convert {\n",
              "      background-color: #E8F0FE;\n",
              "      border: none;\n",
              "      border-radius: 50%;\n",
              "      cursor: pointer;\n",
              "      display: none;\n",
              "      fill: #1967D2;\n",
              "      height: 32px;\n",
              "      padding: 0 0 0 0;\n",
              "      width: 32px;\n",
              "    }\n",
              "\n",
              "    .colab-df-convert:hover {\n",
              "      background-color: #E2EBFA;\n",
              "      box-shadow: 0px 1px 2px rgba(60, 64, 67, 0.3), 0px 1px 3px 1px rgba(60, 64, 67, 0.15);\n",
              "      fill: #174EA6;\n",
              "    }\n",
              "\n",
              "    [theme=dark] .colab-df-convert {\n",
              "      background-color: #3B4455;\n",
              "      fill: #D2E3FC;\n",
              "    }\n",
              "\n",
              "    [theme=dark] .colab-df-convert:hover {\n",
              "      background-color: #434B5C;\n",
              "      box-shadow: 0px 1px 3px 1px rgba(0, 0, 0, 0.15);\n",
              "      filter: drop-shadow(0px 1px 2px rgba(0, 0, 0, 0.3));\n",
              "      fill: #FFFFFF;\n",
              "    }\n",
              "  </style>\n",
              "\n",
              "      <script>\n",
              "        const buttonEl =\n",
              "          document.querySelector('#df-0580aae7-021a-43dc-9476-f6b8510f5d60 button.colab-df-convert');\n",
              "        buttonEl.style.display =\n",
              "          google.colab.kernel.accessAllowed ? 'block' : 'none';\n",
              "\n",
              "        async function convertToInteractive(key) {\n",
              "          const element = document.querySelector('#df-0580aae7-021a-43dc-9476-f6b8510f5d60');\n",
              "          const dataTable =\n",
              "            await google.colab.kernel.invokeFunction('convertToInteractive',\n",
              "                                                     [key], {});\n",
              "          if (!dataTable) return;\n",
              "\n",
              "          const docLinkHtml = 'Like what you see? Visit the ' +\n",
              "            '<a target=\"_blank\" href=https://colab.research.google.com/notebooks/data_table.ipynb>data table notebook</a>'\n",
              "            + ' to learn more about interactive tables.';\n",
              "          element.innerHTML = '';\n",
              "          dataTable['output_type'] = 'display_data';\n",
              "          await google.colab.output.renderOutput(dataTable, element);\n",
              "          const docLink = document.createElement('div');\n",
              "          docLink.innerHTML = docLinkHtml;\n",
              "          element.appendChild(docLink);\n",
              "        }\n",
              "      </script>\n",
              "    </div>\n",
              "  </div>\n",
              "  "
            ]
          },
          "metadata": {},
          "execution_count": 23
        }
      ]
    },
    {
      "cell_type": "markdown",
      "source": [
        "Select all rows that correspond to the instances of segmentations of anything in the prostate."
      ],
      "metadata": {
        "id": "REDWrn5zY9as"
      }
    },
    {
      "cell_type": "code",
      "source": [
        "# select rows corresponding to cases that have segmentation of prostate tumor\n",
        "selection_query = f\"\\\n",
        "  SELECT  \\\n",
        "    dicom_all.StudyInstanceUID, \\\n",
        "    dicom_all.SeriesInstanceUID, \\\n",
        "    dicom_all.SOPInstanceUID, \\\n",
        "    gcs_url \\\n",
        "  FROM \\\n",
        "    `bigquery-public-data.idc_current.dicom_all` as dicom_all \\\n",
        "  JOIN \\\n",
        "    `bigquery-public-data.idc_current.segmentations` as segmentations \\\n",
        "  ON \\\n",
        "    dicom_all.SOPInstanceUID = segmentations.SOPInstanceUID \\\n",
        "  WHERE \\\n",
        "    segmentations.SegmentedPropertyType.CodeMeaning LIKE \\\"%prostate%\\\" OR \\\n",
        "    segmentations.AnatomicRegion.CodeMeaning LIKE \\\"%prostate%\\\"\"\n",
        "\n",
        "selection_result = bq_client.query(selection_query)\n",
        "selection_df = selection_result.result().to_dataframe()"
      ],
      "metadata": {
        "id": "e5pQVYyQWyea"
      },
      "execution_count": null,
      "outputs": []
    },
    {
      "cell_type": "code",
      "source": [
        "selection_df"
      ],
      "metadata": {
        "colab": {
          "base_uri": "https://localhost:8080/",
          "height": 424
        },
        "id": "iY1koAD2Xmz6",
        "outputId": "14f810b2-b395-471b-e4b3-05271a4e151f"
      },
      "execution_count": null,
      "outputs": [
        {
          "output_type": "execute_result",
          "data": {
            "text/plain": [
              "                                      StudyInstanceUID  \\\n",
              "0    1.3.6.1.4.1.14519.5.2.1.3671.4754.266963586071...   \n",
              "1    1.3.6.1.4.1.14519.5.2.1.3671.4754.266963586071...   \n",
              "2    1.3.6.1.4.1.14519.5.2.1.3671.4754.266963586071...   \n",
              "3    1.3.6.1.4.1.14519.5.2.1.7310.5101.130276529947...   \n",
              "4    1.3.6.1.4.1.14519.5.2.1.7310.5101.130276529947...   \n",
              "..                                                 ...   \n",
              "525  1.3.6.1.4.1.14519.5.2.1.7311.5101.726872428105...   \n",
              "526  1.3.6.1.4.1.14519.5.2.1.7311.5101.726872428105...   \n",
              "527  1.3.6.1.4.1.14519.5.2.1.7311.5101.236131511359...   \n",
              "528  1.3.6.1.4.1.14519.5.2.1.7311.5101.236131511359...   \n",
              "529  1.3.6.1.4.1.14519.5.2.1.7311.5101.236131511359...   \n",
              "\n",
              "                                     SeriesInstanceUID  \\\n",
              "0    1.2.276.0.7230010.3.1.3.1426846371.7356.151320...   \n",
              "1    1.2.276.0.7230010.3.1.3.1426846371.7356.151320...   \n",
              "2    1.2.276.0.7230010.3.1.3.1426846371.7356.151320...   \n",
              "3    1.2.276.0.7230010.3.1.3.1070885483.11412.15991...   \n",
              "4    1.2.276.0.7230010.3.1.3.1070885483.11412.15991...   \n",
              "..                                                 ...   \n",
              "525  1.2.276.0.7230010.3.1.3.1070885483.16388.15991...   \n",
              "526  1.2.276.0.7230010.3.1.3.1070885483.16388.15991...   \n",
              "527  1.2.276.0.7230010.3.1.3.1070885483.17072.15991...   \n",
              "528  1.2.276.0.7230010.3.1.3.1070885483.17072.15991...   \n",
              "529  1.2.276.0.7230010.3.1.3.1070885483.17072.15991...   \n",
              "\n",
              "                                        SOPInstanceUID  \\\n",
              "0    1.2.276.0.7230010.3.1.4.1426846371.7356.151320...   \n",
              "1    1.2.276.0.7230010.3.1.4.1426846371.7356.151320...   \n",
              "2    1.2.276.0.7230010.3.1.4.1426846371.7356.151320...   \n",
              "3    1.2.276.0.7230010.3.1.4.1070885483.11412.15991...   \n",
              "4    1.2.276.0.7230010.3.1.4.1070885483.11412.15991...   \n",
              "..                                                 ...   \n",
              "525  1.2.276.0.7230010.3.1.4.1070885483.16388.15991...   \n",
              "526  1.2.276.0.7230010.3.1.4.1070885483.16388.15991...   \n",
              "527  1.2.276.0.7230010.3.1.4.1070885483.17072.15991...   \n",
              "528  1.2.276.0.7230010.3.1.4.1070885483.17072.15991...   \n",
              "529  1.2.276.0.7230010.3.1.4.1070885483.17072.15991...   \n",
              "\n",
              "                                               gcs_url  \n",
              "0    gs://public-datasets-idc/2688dccd-cc69-4f4a-ae...  \n",
              "1    gs://public-datasets-idc/2688dccd-cc69-4f4a-ae...  \n",
              "2    gs://public-datasets-idc/2688dccd-cc69-4f4a-ae...  \n",
              "3    gs://public-datasets-idc/59a0d450-f21a-433d-8a...  \n",
              "4    gs://public-datasets-idc/59a0d450-f21a-433d-8a...  \n",
              "..                                                 ...  \n",
              "525  gs://public-datasets-idc/864543fe-9efe-4515-85...  \n",
              "526  gs://public-datasets-idc/864543fe-9efe-4515-85...  \n",
              "527  gs://public-datasets-idc/3fa71302-051c-4900-97...  \n",
              "528  gs://public-datasets-idc/3fa71302-051c-4900-97...  \n",
              "529  gs://public-datasets-idc/3fa71302-051c-4900-97...  \n",
              "\n",
              "[530 rows x 4 columns]"
            ],
            "text/html": [
              "\n",
              "  <div id=\"df-0682f6ab-1177-455d-8570-4d7130c3a4b4\">\n",
              "    <div class=\"colab-df-container\">\n",
              "      <div>\n",
              "<style scoped>\n",
              "    .dataframe tbody tr th:only-of-type {\n",
              "        vertical-align: middle;\n",
              "    }\n",
              "\n",
              "    .dataframe tbody tr th {\n",
              "        vertical-align: top;\n",
              "    }\n",
              "\n",
              "    .dataframe thead th {\n",
              "        text-align: right;\n",
              "    }\n",
              "</style>\n",
              "<table border=\"1\" class=\"dataframe\">\n",
              "  <thead>\n",
              "    <tr style=\"text-align: right;\">\n",
              "      <th></th>\n",
              "      <th>StudyInstanceUID</th>\n",
              "      <th>SeriesInstanceUID</th>\n",
              "      <th>SOPInstanceUID</th>\n",
              "      <th>gcs_url</th>\n",
              "    </tr>\n",
              "  </thead>\n",
              "  <tbody>\n",
              "    <tr>\n",
              "      <th>0</th>\n",
              "      <td>1.3.6.1.4.1.14519.5.2.1.3671.4754.266963586071...</td>\n",
              "      <td>1.2.276.0.7230010.3.1.3.1426846371.7356.151320...</td>\n",
              "      <td>1.2.276.0.7230010.3.1.4.1426846371.7356.151320...</td>\n",
              "      <td>gs://public-datasets-idc/2688dccd-cc69-4f4a-ae...</td>\n",
              "    </tr>\n",
              "    <tr>\n",
              "      <th>1</th>\n",
              "      <td>1.3.6.1.4.1.14519.5.2.1.3671.4754.266963586071...</td>\n",
              "      <td>1.2.276.0.7230010.3.1.3.1426846371.7356.151320...</td>\n",
              "      <td>1.2.276.0.7230010.3.1.4.1426846371.7356.151320...</td>\n",
              "      <td>gs://public-datasets-idc/2688dccd-cc69-4f4a-ae...</td>\n",
              "    </tr>\n",
              "    <tr>\n",
              "      <th>2</th>\n",
              "      <td>1.3.6.1.4.1.14519.5.2.1.3671.4754.266963586071...</td>\n",
              "      <td>1.2.276.0.7230010.3.1.3.1426846371.7356.151320...</td>\n",
              "      <td>1.2.276.0.7230010.3.1.4.1426846371.7356.151320...</td>\n",
              "      <td>gs://public-datasets-idc/2688dccd-cc69-4f4a-ae...</td>\n",
              "    </tr>\n",
              "    <tr>\n",
              "      <th>3</th>\n",
              "      <td>1.3.6.1.4.1.14519.5.2.1.7310.5101.130276529947...</td>\n",
              "      <td>1.2.276.0.7230010.3.1.3.1070885483.11412.15991...</td>\n",
              "      <td>1.2.276.0.7230010.3.1.4.1070885483.11412.15991...</td>\n",
              "      <td>gs://public-datasets-idc/59a0d450-f21a-433d-8a...</td>\n",
              "    </tr>\n",
              "    <tr>\n",
              "      <th>4</th>\n",
              "      <td>1.3.6.1.4.1.14519.5.2.1.7310.5101.130276529947...</td>\n",
              "      <td>1.2.276.0.7230010.3.1.3.1070885483.11412.15991...</td>\n",
              "      <td>1.2.276.0.7230010.3.1.4.1070885483.11412.15991...</td>\n",
              "      <td>gs://public-datasets-idc/59a0d450-f21a-433d-8a...</td>\n",
              "    </tr>\n",
              "    <tr>\n",
              "      <th>...</th>\n",
              "      <td>...</td>\n",
              "      <td>...</td>\n",
              "      <td>...</td>\n",
              "      <td>...</td>\n",
              "    </tr>\n",
              "    <tr>\n",
              "      <th>525</th>\n",
              "      <td>1.3.6.1.4.1.14519.5.2.1.7311.5101.726872428105...</td>\n",
              "      <td>1.2.276.0.7230010.3.1.3.1070885483.16388.15991...</td>\n",
              "      <td>1.2.276.0.7230010.3.1.4.1070885483.16388.15991...</td>\n",
              "      <td>gs://public-datasets-idc/864543fe-9efe-4515-85...</td>\n",
              "    </tr>\n",
              "    <tr>\n",
              "      <th>526</th>\n",
              "      <td>1.3.6.1.4.1.14519.5.2.1.7311.5101.726872428105...</td>\n",
              "      <td>1.2.276.0.7230010.3.1.3.1070885483.16388.15991...</td>\n",
              "      <td>1.2.276.0.7230010.3.1.4.1070885483.16388.15991...</td>\n",
              "      <td>gs://public-datasets-idc/864543fe-9efe-4515-85...</td>\n",
              "    </tr>\n",
              "    <tr>\n",
              "      <th>527</th>\n",
              "      <td>1.3.6.1.4.1.14519.5.2.1.7311.5101.236131511359...</td>\n",
              "      <td>1.2.276.0.7230010.3.1.3.1070885483.17072.15991...</td>\n",
              "      <td>1.2.276.0.7230010.3.1.4.1070885483.17072.15991...</td>\n",
              "      <td>gs://public-datasets-idc/3fa71302-051c-4900-97...</td>\n",
              "    </tr>\n",
              "    <tr>\n",
              "      <th>528</th>\n",
              "      <td>1.3.6.1.4.1.14519.5.2.1.7311.5101.236131511359...</td>\n",
              "      <td>1.2.276.0.7230010.3.1.3.1070885483.17072.15991...</td>\n",
              "      <td>1.2.276.0.7230010.3.1.4.1070885483.17072.15991...</td>\n",
              "      <td>gs://public-datasets-idc/3fa71302-051c-4900-97...</td>\n",
              "    </tr>\n",
              "    <tr>\n",
              "      <th>529</th>\n",
              "      <td>1.3.6.1.4.1.14519.5.2.1.7311.5101.236131511359...</td>\n",
              "      <td>1.2.276.0.7230010.3.1.3.1070885483.17072.15991...</td>\n",
              "      <td>1.2.276.0.7230010.3.1.4.1070885483.17072.15991...</td>\n",
              "      <td>gs://public-datasets-idc/3fa71302-051c-4900-97...</td>\n",
              "    </tr>\n",
              "  </tbody>\n",
              "</table>\n",
              "<p>530 rows × 4 columns</p>\n",
              "</div>\n",
              "      <button class=\"colab-df-convert\" onclick=\"convertToInteractive('df-0682f6ab-1177-455d-8570-4d7130c3a4b4')\"\n",
              "              title=\"Convert this dataframe to an interactive table.\"\n",
              "              style=\"display:none;\">\n",
              "        \n",
              "  <svg xmlns=\"http://www.w3.org/2000/svg\" height=\"24px\"viewBox=\"0 0 24 24\"\n",
              "       width=\"24px\">\n",
              "    <path d=\"M0 0h24v24H0V0z\" fill=\"none\"/>\n",
              "    <path d=\"M18.56 5.44l.94 2.06.94-2.06 2.06-.94-2.06-.94-.94-2.06-.94 2.06-2.06.94zm-11 1L8.5 8.5l.94-2.06 2.06-.94-2.06-.94L8.5 2.5l-.94 2.06-2.06.94zm10 10l.94 2.06.94-2.06 2.06-.94-2.06-.94-.94-2.06-.94 2.06-2.06.94z\"/><path d=\"M17.41 7.96l-1.37-1.37c-.4-.4-.92-.59-1.43-.59-.52 0-1.04.2-1.43.59L10.3 9.45l-7.72 7.72c-.78.78-.78 2.05 0 2.83L4 21.41c.39.39.9.59 1.41.59.51 0 1.02-.2 1.41-.59l7.78-7.78 2.81-2.81c.8-.78.8-2.07 0-2.86zM5.41 20L4 18.59l7.72-7.72 1.47 1.35L5.41 20z\"/>\n",
              "  </svg>\n",
              "      </button>\n",
              "      \n",
              "  <style>\n",
              "    .colab-df-container {\n",
              "      display:flex;\n",
              "      flex-wrap:wrap;\n",
              "      gap: 12px;\n",
              "    }\n",
              "\n",
              "    .colab-df-convert {\n",
              "      background-color: #E8F0FE;\n",
              "      border: none;\n",
              "      border-radius: 50%;\n",
              "      cursor: pointer;\n",
              "      display: none;\n",
              "      fill: #1967D2;\n",
              "      height: 32px;\n",
              "      padding: 0 0 0 0;\n",
              "      width: 32px;\n",
              "    }\n",
              "\n",
              "    .colab-df-convert:hover {\n",
              "      background-color: #E2EBFA;\n",
              "      box-shadow: 0px 1px 2px rgba(60, 64, 67, 0.3), 0px 1px 3px 1px rgba(60, 64, 67, 0.15);\n",
              "      fill: #174EA6;\n",
              "    }\n",
              "\n",
              "    [theme=dark] .colab-df-convert {\n",
              "      background-color: #3B4455;\n",
              "      fill: #D2E3FC;\n",
              "    }\n",
              "\n",
              "    [theme=dark] .colab-df-convert:hover {\n",
              "      background-color: #434B5C;\n",
              "      box-shadow: 0px 1px 3px 1px rgba(0, 0, 0, 0.15);\n",
              "      filter: drop-shadow(0px 1px 2px rgba(0, 0, 0, 0.3));\n",
              "      fill: #FFFFFF;\n",
              "    }\n",
              "  </style>\n",
              "\n",
              "      <script>\n",
              "        const buttonEl =\n",
              "          document.querySelector('#df-0682f6ab-1177-455d-8570-4d7130c3a4b4 button.colab-df-convert');\n",
              "        buttonEl.style.display =\n",
              "          google.colab.kernel.accessAllowed ? 'block' : 'none';\n",
              "\n",
              "        async function convertToInteractive(key) {\n",
              "          const element = document.querySelector('#df-0682f6ab-1177-455d-8570-4d7130c3a4b4');\n",
              "          const dataTable =\n",
              "            await google.colab.kernel.invokeFunction('convertToInteractive',\n",
              "                                                     [key], {});\n",
              "          if (!dataTable) return;\n",
              "\n",
              "          const docLinkHtml = 'Like what you see? Visit the ' +\n",
              "            '<a target=\"_blank\" href=https://colab.research.google.com/notebooks/data_table.ipynb>data table notebook</a>'\n",
              "            + ' to learn more about interactive tables.';\n",
              "          element.innerHTML = '';\n",
              "          dataTable['output_type'] = 'display_data';\n",
              "          await google.colab.output.renderOutput(dataTable, element);\n",
              "          const docLink = document.createElement('div');\n",
              "          docLink.innerHTML = docLinkHtml;\n",
              "          element.appendChild(docLink);\n",
              "        }\n",
              "      </script>\n",
              "    </div>\n",
              "  </div>\n",
              "  "
            ]
          },
          "metadata": {},
          "execution_count": 25
        }
      ]
    },
    {
      "cell_type": "markdown",
      "source": [
        "# Visualization"
      ],
      "metadata": {
        "id": "dN2nTuIiTUuF"
      }
    },
    {
      "cell_type": "code",
      "source": [
        "# helper function to view a study or a specific series hosted by IDC\n",
        "def get_idc_viewer_url(studyUID, seriesUID=None):\n",
        "  url = \"https://viewer.imaging.datacommons.cancer.gov/viewer/\"+studyUID\n",
        "  if seriesUID is not None:\n",
        "    url = url+\"?seriesInstanceUID=\"+seriesUID\n",
        "  return url\n",
        "\n",
        "my_StudyInstanceUID = selection_df[\"StudyInstanceUID\"][0]\n",
        "my_SeriesInstanceUID = selection_df[selection_df[\"StudyInstanceUID\"] == selection_df[\"StudyInstanceUID\"][0]][\"SeriesInstanceUID\"][0]\n",
        "\n",
        "print(\"URL to view the entire study:\")\n",
        "print(get_idc_viewer_url(my_StudyInstanceUID))\n",
        "print()\n",
        "print(\"URL to view the specific series:\")\n",
        "print(get_idc_viewer_url(my_StudyInstanceUID, my_SeriesInstanceUID))"
      ],
      "metadata": {
        "colab": {
          "base_uri": "https://localhost:8080/"
        },
        "id": "r-KhjcRaRBjb",
        "outputId": "7aa23fe5-fa14-4e98-c32b-c8f385bad79b"
      },
      "execution_count": 8,
      "outputs": [
        {
          "output_type": "stream",
          "name": "stdout",
          "text": [
            "URL to view the entire study:\n",
            "https://viewer.imaging.datacommons.cancer.gov/viewer/1.3.6.1.4.1.14519.5.2.1.4334.1501.116796918629271881210561198785\n",
            "\n",
            "URL to view the specific series:\n",
            "https://viewer.imaging.datacommons.cancer.gov/viewer/1.3.6.1.4.1.14519.5.2.1.4334.1501.116796918629271881210561198785?seriesInstanceUID=1.3.6.1.4.1.14519.5.2.1.4334.1501.208304249098874719086628767652\n"
          ]
        }
      ]
    },
    {
      "cell_type": "markdown",
      "source": [
        "# Downloading"
      ],
      "metadata": {
        "id": "L0JnG1ruTNYE"
      }
    },
    {
      "cell_type": "code",
      "source": [
        "import os\n",
        "os.environ[\"DOWNLOAD_DEST\"] = \"/content/IDC_downloads\"\n",
        "os.environ[\"MANIFEST\"] = \"/content/idc_manifest.txt\""
      ],
      "metadata": {
        "id": "jnof1qBGS_bg"
      },
      "execution_count": 13,
      "outputs": []
    },
    {
      "cell_type": "code",
      "source": [
        "!mkdir -p ${DOWNLOAD_DEST}\n",
        "!echo \"gsutil cp \\$* $DOWNLOAD_DEST\" > gsutil_download.sh\n",
        "!chmod +x gsutil_download.sh"
      ],
      "metadata": {
        "id": "40rKbm6tSAfc"
      },
      "execution_count": 14,
      "outputs": []
    },
    {
      "cell_type": "code",
      "source": [
        "# creating a manifest file for the subsequent download of files\n",
        "selection_df[\"gcs_url\"].to_csv(os.environ[\"MANIFEST\"], header=False, index=False)"
      ],
      "metadata": {
        "id": "bqSaXLu8RFzo"
      },
      "execution_count": 15,
      "outputs": []
    },
    {
      "cell_type": "code",
      "source": [
        "# download is this simple\n",
        "%%capture\n",
        "\n",
        "!cat ${MANIFEST} | gsutil -m cp -I ${DOWNLOAD_DEST}"
      ],
      "metadata": {
        "id": "82V-eaqZRKx7"
      },
      "execution_count": 16,
      "outputs": []
    },
    {
      "cell_type": "markdown",
      "source": [
        "If you want to download a non-trivial amount of data, you will want to parallelize downloads, as illustrated below."
      ],
      "metadata": {
        "id": "OpT8Z4xxUy-h"
      }
    },
    {
      "cell_type": "code",
      "source": [
        "!cat ${MANIFEST} | xargs -n 25 -P 10 ./gsutil_download.sh"
      ],
      "metadata": {
        "id": "GxwVnovcU9Hb"
      },
      "execution_count": null,
      "outputs": []
    },
    {
      "cell_type": "markdown",
      "source": [
        "# Sorting"
      ],
      "metadata": {
        "id": "JZPrcIz8RbiH"
      }
    },
    {
      "cell_type": "code",
      "source": [
        "%%capture\n",
        "!pip install pydicom\n",
        "!git clone https://github.com/pieper/dicomsort\n",
        "!sudo apt-get install dcmtk"
      ],
      "metadata": {
        "id": "Q3g4sN5gRg7A"
      },
      "execution_count": 9,
      "outputs": []
    },
    {
      "cell_type": "code",
      "source": [
        "import os\n",
        "os.environ[\"SORTED_DEST\"] = \"/content/IDC_sorted\"\n",
        "\n",
        "!mkdir -p $SORTED_DEST\n",
        "!rm -rf $SORTED_DEST/*\n",
        "!python dicomsort/dicomsort.py -k -u $DOWNLOAD_DEST ${SORTED_DEST}/%StudyInstanceUID/%SeriesInstanceUID/%SOPInstanceUID.dcm"
      ],
      "metadata": {
        "colab": {
          "base_uri": "https://localhost:8080/"
        },
        "id": "GugRJMkbRuTt",
        "outputId": "99634017-0628-44b7-ac23-fa8551ee4176"
      },
      "execution_count": 18,
      "outputs": [
        {
          "output_type": "stream",
          "name": "stdout",
          "text": [
            "100% 919/919 [00:04<00:00, 196.51it/s]\n",
            "Files sorted\n"
          ]
        }
      ]
    }
  ]
}