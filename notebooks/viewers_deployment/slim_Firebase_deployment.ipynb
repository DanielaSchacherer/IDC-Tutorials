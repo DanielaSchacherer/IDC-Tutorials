{
  "cells": [
    {
      "cell_type": "markdown",
      "metadata": {
        "id": "view-in-github",
        "colab_type": "text"
      },
      "source": [
        "<a href=\"https://colab.research.google.com/github/ImagingDataCommons/IDC-Tutorials/blob/master/notebooks/viewers_deployment/slim_Firebase_deployment.ipynb\" target=\"_parent\"><img src=\"https://colab.research.google.com/assets/colab-badge.svg\" alt=\"Open In Colab\"/></a>"
      ]
    },
    {
      "cell_type": "markdown",
      "metadata": {
        "id": "BF2Ld8z3L9y2"
      },
      "source": [
        "# Slim Deployment with Firebase and Google Cloud\n",
        "\n",
        "This notebook complements the tutorial available in this document:\n",
        "[Google Doc: Slim Deployment with Firebase and Google Cloud](https://tinyurl.com/idc-slim-gcp).\n",
        "You need to complete the steps discussed in that document before proceeding with this notebook! Please use the document above for providing feedback or asking questions.\n",
        "\n"
      ]
    },
    {
      "cell_type": "markdown",
      "source": [
        "# Prerequisites\n",
        "\n",
        "> **User interaction required**: In the following cell, set the variable gcpProjectID to your **Project ID**, gcpClientID to your **Client ID** and FirebaseProjectName to the **name of your Firebase project**."
      ],
      "metadata": {
        "id": "SZ_tCJBe9jK8"
      }
    },
    {
      "cell_type": "code",
      "source": [
        "gcpProjectID = 'your_project_id'\n",
        "gcpClientID = '\"your_client_id\"'\n",
        "FirebaseProjectName = 'your_firebase_project_name'"
      ],
      "metadata": {
        "id": "Sqx5N-6IWpzn"
      },
      "execution_count": null,
      "outputs": []
    },
    {
      "cell_type": "markdown",
      "source": [
        "## Install yarn"
      ],
      "metadata": {
        "id": "x4kfrOMzWgVc"
      }
    },
    {
      "cell_type": "code",
      "execution_count": null,
      "metadata": {
        "id": "zuh6aIdJvDZ-"
      },
      "outputs": [],
      "source": [
        "!npm install -g yarn"
      ]
    },
    {
      "cell_type": "markdown",
      "metadata": {
        "id": "wCun0-txsg01"
      },
      "source": [
        "## Install Firebase command line tools"
      ]
    },
    {
      "cell_type": "code",
      "execution_count": null,
      "metadata": {
        "id": "trY5UoYVtFLA"
      },
      "outputs": [],
      "source": [
        "!curl -sL https://firebase.tools | bash"
      ]
    },
    {
      "cell_type": "markdown",
      "source": [
        "## Clone Slim source code"
      ],
      "metadata": {
        "id": "F-kEfzuIhtAl"
      }
    },
    {
      "cell_type": "code",
      "execution_count": null,
      "metadata": {
        "id": "WsdHxTwGrsYK"
      },
      "outputs": [],
      "source": [
        "!git clone https://github.com/ImagingDataCommons/slim.git"
      ]
    },
    {
      "cell_type": "markdown",
      "metadata": {
        "id": "jfrvP4REGEg7"
      },
      "source": [
        "## Install the node version management library (n) to update the node version to match Slim's"
      ]
    },
    {
      "cell_type": "code",
      "execution_count": null,
      "metadata": {
        "id": "HwPYjxM0FA-R"
      },
      "outputs": [],
      "source": [
        "!npm install -g n"
      ]
    },
    {
      "cell_type": "markdown",
      "metadata": {
        "id": "Jt0P313tGOk8"
      },
      "source": [
        "## Install and use node 14 using n\n",
        "\n"
      ]
    },
    {
      "cell_type": "code",
      "execution_count": null,
      "metadata": {
        "id": "P5eGcOxFFG59"
      },
      "outputs": [],
      "source": [
        "!n install 14 && n 14"
      ]
    },
    {
      "cell_type": "markdown",
      "metadata": {
        "id": "usgnZ-IXPgJQ"
      },
      "source": [
        "# Configure and deploy Slim using Firebase\n"
      ]
    },
    {
      "cell_type": "markdown",
      "metadata": {
        "id": "ttW5D7mGGW_U"
      },
      "source": [
        "## Install Slim's dependencies using yarn\n",
        "\n"
      ]
    },
    {
      "cell_type": "code",
      "execution_count": null,
      "metadata": {
        "id": "KjJrQ1yNELPO"
      },
      "outputs": [],
      "source": [
        "!cd slim && yarn"
      ]
    },
    {
      "cell_type": "markdown",
      "metadata": {
        "id": "P9kpPeSSGchd"
      },
      "source": [
        "## Update Slim's configuration file\n",
        "> The following code snipped configures things like OpenID Connect (OIDC) and server settings.\n",
        "\n"
      ]
    },
    {
      "cell_type": "code",
      "execution_count": null,
      "metadata": {
        "id": "itSGBEkuv-dQ"
      },
      "outputs": [],
      "source": [
        "settings = \"\"\"\n",
        "window.config = {\n",
        "  // This must match the location configured for web server\n",
        "  path: '/',\n",
        "  servers: [\n",
        "    {\n",
        "      id: 'example',\n",
        "      // This must match the proxy location configured for the DICOMweb server\n",
        "      url:\"https://proxy.imaging.datacommons.cancer.gov/current/viewer-only-no-downloads-see-tinyurl-dot-com-slash-3j3d9jyp/dicomWeb\",\n",
        "      write: false\n",
        "    }\n",
        "  ],\n",
        " oidc: {\n",
        "    authority: \"https://accounts.google.com\",\n",
        "    clientId: %s,\n",
        "    scope: \"email profile openid https://www.googleapis.com/auth/cloud-healthcare\",\n",
        "    grantType: \"implicit\"\n",
        "  },\n",
        "  disableWorklist: false,\n",
        "  disableAnnotationTools: false,\n",
        "  enableServerSelection: true,\n",
        "  mode: 'light',\n",
        "  preload: true,\n",
        "  annotations: [\n",
        "    {\n",
        "      finding: {\n",
        "        value: '85756007',\n",
        "        schemeDesignator: 'SCT',\n",
        "        meaning: 'Tissue'\n",
        "      },\n",
        "      findingCategory: {\n",
        "        value: '91723000',\n",
        "        schemeDesignator: 'SCT',\n",
        "        meaning: 'Anatomical structure'\n",
        "      },\n",
        "      geometryTypes: ['polygon', 'freehandpolygon'],\n",
        "      style: {\n",
        "        stroke: {\n",
        "          color: [255, 255, 0, 1],\n",
        "          width: 2\n",
        "        },\n",
        "        fill: {\n",
        "          color: [255, 255, 255, 0.2]\n",
        "        }\n",
        "      },\n",
        "    },\n",
        "    {\n",
        "      finding: {\n",
        "        value: '108369006',\n",
        "        schemeDesignator: 'SCT',\n",
        "        meaning: 'Tumor'\n",
        "      },\n",
        "      findingCategory: {\n",
        "        value: '49755003',\n",
        "        schemeDesignator: 'SCT',\n",
        "        meaning: 'Morphologically abnormal structure'\n",
        "      },\n",
        "      geometryTypes: ['polygon', 'freehandpolygon'],\n",
        "      style: {\n",
        "        stroke: {\n",
        "          color: [255, 0, 255, 1],\n",
        "          width: 2\n",
        "        },\n",
        "        fill: {\n",
        "          color: [255, 255, 255, 0.2]\n",
        "        }\n",
        "      }\n",
        "    },\n",
        "    {\n",
        "      finding: {\n",
        "        value: '34823008',\n",
        "        schemeDesignator: 'SCT',\n",
        "        meaning: 'Tumor necrosis'\n",
        "      },\n",
        "      findingCategory: {\n",
        "        value: '49755003',\n",
        "        schemeDesignator: 'SCT',\n",
        "        meaning: 'Morphologically abnormal structure'\n",
        "      },\n",
        "      geometryTypes: ['polygon', 'freehandpolygon'],\n",
        "      style: {\n",
        "        stroke: {\n",
        "          color: [51, 204, 51, 1],\n",
        "          width: 2\n",
        "        },\n",
        "        fill: {\n",
        "          color: [255, 255, 255, 0.2]\n",
        "        }\n",
        "      }\n",
        "    },\n",
        "    {\n",
        "      finding: {\n",
        "        value: '369705002',\n",
        "        schemeDesignator: 'SCT',\n",
        "        meaning: 'Invasive tumor border'\n",
        "      },\n",
        "      findingCategory: {\n",
        "        value: '395557000',\n",
        "        schemeDesignator: 'SCT',\n",
        "        meaning: 'Tumor finding'\n",
        "      },\n",
        "      geometryTypes: ['line', 'freehandline'],\n",
        "      style: {\n",
        "        stroke: {\n",
        "          color: [51, 102, 255, 1],\n",
        "          width: 2\n",
        "        },\n",
        "        fill: {\n",
        "          color: [255, 255, 255, 0.2]\n",
        "        }\n",
        "      }\n",
        "    },\n",
        "    {\n",
        "      finding: {\n",
        "        value: '399721002',\n",
        "        schemeDesignator: 'SCT',\n",
        "        meaning: 'Tumor infiltration by lymphocytes present'\n",
        "      },\n",
        "      findingCategory: {\n",
        "        value: '395557000',\n",
        "        schemeDesignator: 'SCT',\n",
        "        meaning: 'Tumor finding'\n",
        "      },\n",
        "      geometryTypes: ['polygon', 'freehandpolygon'],\n",
        "      style: {\n",
        "        stroke: {\n",
        "          color: [51, 204, 204, 1],\n",
        "          width: 2\n",
        "        },\n",
        "        fill: {\n",
        "          color: [255, 255, 255, 0.2]\n",
        "        }\n",
        "      }\n",
        "    },\n",
        "    {\n",
        "      finding: {\n",
        "        value: '47973001',\n",
        "        schemeDesignator: 'SCT',\n",
        "        meaning: 'Artifact'\n",
        "      },\n",
        "      geometryTypes: ['polygon', 'freehandpolygon'],\n",
        "      style: {\n",
        "        stroke: {\n",
        "          color: [255, 80, 80, 1],\n",
        "          width: 2\n",
        "        },\n",
        "        fill: {\n",
        "          color: [255, 255, 255, 0.2]\n",
        "        }\n",
        "      }\n",
        "    }\n",
        "  ]\n",
        "}\n",
        "\"\"\"%(gcpClientID)\n",
        "\n",
        "with open(\"slim/public/config/example.js\", \"w\") as f:\n",
        "    f.write(settings)"
      ]
    },
    {
      "cell_type": "markdown",
      "metadata": {
        "id": "4-vfR5-sGiug"
      },
      "source": [
        "## Update SLIM's Firebase config to deploy configuration\n",
        "\n"
      ]
    },
    {
      "cell_type": "code",
      "execution_count": null,
      "metadata": {
        "id": "pIFozDye8AuU"
      },
      "outputs": [],
      "source": [
        "settings_firebase = \"\"\"\n",
        "{\n",
        "  \"hosting\": {\n",
        "    \"public\": \"build\",\n",
        "    \"ignore\": [\n",
        "      \"firebase.json\",\n",
        "      \"**/.*\",\n",
        "      \"**/node_modules/**\"\n",
        "    ],\n",
        "    \"rewrites\": [\n",
        "      {\n",
        "        \"source\": \"**\",\n",
        "        \"destination\": \"/index.html\"\n",
        "      }\n",
        "    ]\n",
        "  }\n",
        "}\n",
        "\"\"\"\n",
        "\n",
        "with open(\"slim/firebase.json\", \"w\") as f:\n",
        "  f.write(settings_firebase)"
      ]
    },
    {
      "cell_type": "markdown",
      "metadata": {
        "id": "ewDNeCh2Gt3s"
      },
      "source": [
        "## Build SLIM\n",
        "\n"
      ]
    },
    {
      "cell_type": "code",
      "execution_count": null,
      "metadata": {
        "id": "br6_9Ba_uTnc"
      },
      "outputs": [],
      "source": [
        "!cd slim && REACT_APP_CONFIG=example PUBLIC_URL='/' yarn build"
      ]
    },
    {
      "cell_type": "markdown",
      "metadata": {
        "id": "aSoV9UpbPyqx"
      },
      "source": [
        "## Login and initialize Firebase configuration\n",
        "\n",
        "  "
      ]
    },
    {
      "cell_type": "markdown",
      "metadata": {
        "id": "HYkfeov9Xe31"
      },
      "source": [
        "> **User interaction required**: In the next step we login to Firebase and configure the setup of Firebase on the VM. When prompted regarding error reporting information, double click next to the prompt, and type your selection. Next, follow the authorization URL to grant the necessary permissions to Firebase, then double-click next to the \"Paste authorization code\", paste the code and hit \"Enter\" to complete the process."
      ]
    },
    {
      "cell_type": "code",
      "execution_count": null,
      "metadata": {
        "id": "VDMPhLZ4tMDS"
      },
      "outputs": [],
      "source": [
        "!firebase login --no-localhost"
      ]
    },
    {
      "cell_type": "markdown",
      "source": [
        "> **User interaction required**: Here you need to login to your Google account where you will be prompted to follow an authorization URL to grant the necessary permissions. Afterwards, we set the default GCP project ID to the one you chose at the beginning of this notebook.   "
      ],
      "metadata": {
        "id": "Dkj8svvEk7-o"
      }
    },
    {
      "cell_type": "code",
      "execution_count": null,
      "metadata": {
        "id": "w9Eq1XDybHV-"
      },
      "outputs": [],
      "source": [
        "!gcloud auth login"
      ]
    },
    {
      "cell_type": "code",
      "source": [
        "!gcloud config set project $gcpProjectID\n",
        "!gcloud config get project"
      ],
      "metadata": {
        "id": "X_A2awjxh8C7"
      },
      "execution_count": null,
      "outputs": []
    },
    {
      "cell_type": "markdown",
      "source": [
        "> **User interaction required**: You should have created a Firebase project as a prerequisite step. Select a project or modify SLIM's .firebaserc file which sets the default firebase project."
      ],
      "metadata": {
        "id": "oQQyzyV5Ebdw"
      }
    },
    {
      "cell_type": "code",
      "execution_count": null,
      "metadata": {
        "id": "qA31ZvZ3b0CX"
      },
      "outputs": [],
      "source": [
        "!firebase projects:list"
      ]
    },
    {
      "cell_type": "code",
      "execution_count": null,
      "metadata": {
        "id": "6aAob39RvJci"
      },
      "outputs": [],
      "source": [
        "!cd slim && firebase use $FirebaseProjectName"
      ]
    },
    {
      "cell_type": "markdown",
      "metadata": {
        "id": "bz1Elip0V4HM"
      },
      "source": [
        "## Deploy\n",
        "> Finally, we deploy the app. Do not close the notebook, keep the tab open and return to the Google documentation."
      ]
    },
    {
      "cell_type": "code",
      "execution_count": null,
      "metadata": {
        "id": "XJA9WEQP2Pju"
      },
      "outputs": [],
      "source": [
        "!cd slim && firebase deploy"
      ]
    }
  ],
  "metadata": {
    "colab": {
      "provenance": [],
      "include_colab_link": true
    },
    "gpuClass": "standard",
    "kernelspec": {
      "display_name": "Python 3",
      "name": "python3"
    },
    "language_info": {
      "name": "python"
    }
  },
  "nbformat": 4,
  "nbformat_minor": 0
}
