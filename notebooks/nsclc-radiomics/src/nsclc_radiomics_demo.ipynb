{
  "nbformat": 4,
  "nbformat_minor": 0,
  "metadata": {
    "colab": {
      "name": "nsclc-radiomics_demo.ipynb",
      "provenance": [],
      "collapsed_sections": [
        "WBnxc_AqAEWD",
        "XWVnetEY_m45",
        "syN0HeMl_Nji",
        "PCaMbFT8hpP1"
      ],
      "toc_visible": true,
      "authorship_tag": "ABX9TyMozgH9KzE+C31VBj2nc+Oi",
      "include_colab_link": true
    },
    "kernelspec": {
      "name": "python3",
      "display_name": "Python 3"
    }
  },
  "cells": [
    {
      "cell_type": "markdown",
      "metadata": {
        "id": "view-in-github",
        "colab_type": "text"
      },
      "source": [
        "<a href=\"https://colab.research.google.com/github/ImagingDataCommons/IDC-Examples/blob/master/notebooks/nsclc-radiomics/src/nsclc_radiomics_demo.ipynb\" target=\"_parent\"><img src=\"https://colab.research.google.com/assets/colab-badge.svg\" alt=\"Open In Colab\"/></a>"
      ]
    },
    {
      "cell_type": "markdown",
      "metadata": {
        "id": "p3Svkudtu-HO"
      },
      "source": [
        "# <center> Exploring GCS-Buckets and Google Colab Integration </center>"
      ]
    },
    {
      "cell_type": "markdown",
      "metadata": {
        "id": "mrJdKHTeaCq9"
      },
      "source": [
        "## Environment Set Up and Data Download"
      ]
    },
    {
      "cell_type": "markdown",
      "metadata": {
        "id": "WBnxc_AqAEWD"
      },
      "source": [
        "### Environment Set Up"
      ]
    },
    {
      "cell_type": "markdown",
      "metadata": {
        "id": "kTlc5-q9xQ9R"
      },
      "source": [
        "N.B. To access a free GPU on Colab:\n",
        "`Edit > Notebooks Settings`\n",
        "\n",
        "From the dropdown menu under `Hardware accelerator`, select `GPU`."
      ]
    },
    {
      "cell_type": "markdown",
      "metadata": {
        "id": "WeGgHNfynXNZ"
      },
      "source": [
        "---\n",
        "Check whether the filesystem was wiped or not:"
      ]
    },
    {
      "cell_type": "code",
      "metadata": {
        "id": "zM5uMsiRkG12",
        "outputId": "84ff7207-b7d7-4f11-e4a2-cdd5cf1f35e5",
        "colab": {
          "base_uri": "https://localhost:8080/",
          "height": 34
        }
      },
      "source": [
        "!ls"
      ],
      "execution_count": null,
      "outputs": [
        {
          "output_type": "stream",
          "text": [
            "sample_data\n"
          ],
          "name": "stdout"
        }
      ]
    },
    {
      "cell_type": "markdown",
      "metadata": {
        "id": "nc2Erm9t6QI_"
      },
      "source": [
        "Check whether the instance is a GPU instance.\n",
        "\n",
        "This could be useful **for debug purposes** - e.g., to drive some operations in the following blocks (e.g., the install of the right version of Keras and import of TensorFlow)."
      ]
    },
    {
      "cell_type": "code",
      "metadata": {
        "id": "_mX8Lo5k6Ejo",
        "outputId": "9abedae0-764f-41a0-ca8d-5c88ce00bcc6",
        "colab": {
          "base_uri": "https://localhost:8080/",
          "height": 34
        }
      },
      "source": [
        "gpu_list = !nvidia-smi --list-gpus\n",
        "\n",
        "has_gpu = False if \"failed\" in gpu_list[0] else True\n",
        "\n",
        "has_gpu"
      ],
      "execution_count": null,
      "outputs": [
        {
          "output_type": "execute_result",
          "data": {
            "text/plain": [
              "False"
            ]
          },
          "metadata": {
            "tags": []
          },
          "execution_count": 1
        }
      ]
    },
    {
      "cell_type": "markdown",
      "metadata": {
        "id": "xoAk5Sdkxvxo"
      },
      "source": [
        "---\n",
        "<font size=\"+2\" color=\"orange\"><b>Be aware of Tensorflow/Keras compatibility problems.</b></font>\n",
        "\n",
        "Ahmed's model was compiled and saved in such a way that only old versions of Tensorflow supports it.\n",
        "\n",
        "Output of `pip3 freeze | grep tensor` on the IDC VM:\n",
        "```\n",
        "tensorflow-datasets==1.2.0\n",
        "tensorflow-estimator==1.15.1\n",
        "tensorflow-gpu==1.15.2\n",
        "tensorflow-hub==0.6.0\n",
        "tensorflow-io==0.8.1\n",
        "tensorflow-metadata==0.21.1\n",
        "tensorflow-probability==0.8.0\n",
        "tensorflow-serving-api-gpu==1.15.0\n",
        "```\n",
        "\n",
        "For `pip3 freeze | grep Keras`:\n",
        "```\n",
        "Keras==1.2.2\n",
        "Keras-Applications==1.0.8\n",
        "Keras-Preprocessing==1.1.0\n",
        "```\n",
        "\n",
        "While running `nvcc --version` gets us:\n",
        "```\n",
        "nvcc: NVIDIA (R) Cuda compiler driver\n",
        "Copyright (c) 2005-2018 NVIDIA Corporation\n",
        "Built on Sat_Aug_25_21:08:01_CDT_2018\n",
        "Cuda compilation tools, release 10.0, V10.0.130\n",
        "```\n",
        "\n",
        "<br>\n",
        "\n",
        "Google Colab's GPU instances come with CUDA 10.1 pre-installed:\n",
        "\n",
        "```\n",
        "nvcc: NVIDIA (R) Cuda compiler driver\n",
        "Copyright (c) 2005-2019 NVIDIA Corporation\n",
        "Built on Sun_Jul_28_19:07:16_PDT_2019\n",
        "Cuda compilation tools, release 10.1, V10.1.243\n",
        "```\n",
        "\n",
        "And, by default, newer versions of Tensorflow are installed (in which Keras is fully integrated in TF):\n",
        "\n",
        "```\n",
        "keras-vis==0.4.1\n",
        "\n",
        "tensorflow==2.3.0\n",
        "tensorflow-addons==0.8.3\n",
        "tensorflow-datasets==2.1.0\n",
        "tensorflow-estimator==2.3.0\n",
        "tensorflow-gcs-config==2.3.0\n",
        "tensorflow-hub==0.9.0\n",
        "tensorflow-metadata==0.24.0\n",
        "tensorflow-privacy==0.2.2\n",
        "tensorflow-probability==0.11.0\n",
        "```\n",
        "\n",
        "<br>\n",
        "\n",
        "Luckily, [it is possible to use the](https://colab.research.google.com/notebooks/tensorflow_version.ipynb) `%tensorflow_version 1.x` [magic to switch to an older version of TensorFlow](https://colab.research.google.com/notebooks/tensorflow_version.ipynb) (`1.15.2`). The magic command must be run before importing Tensorflow. Still, CUDA 10.1 is used (which probably means Tensorflow 1.15, not \"compatible by default\" with 10.1, was compiled from source)\n",
        "\n",
        "\n",
        "We then will need to install an old version of Keras for/by which Ahmed's model was formatted.\n",
        "\n",
        "---"
      ]
    },
    {
      "cell_type": "code",
      "metadata": {
        "id": "gmB-SjPv3SBi"
      },
      "source": [
        "# FIXME: useful for debug purposes\n",
        "if has_gpu:\n",
        "  !pip3 install --force-reinstall Keras==1.2.2"
      ],
      "execution_count": null,
      "outputs": []
    },
    {
      "cell_type": "code",
      "metadata": {
        "id": "8l1gGcYvwDZ5",
        "outputId": "dfef4b9c-42e1-4111-a1c5-54e00b712b82",
        "colab": {
          "base_uri": "https://localhost:8080/",
          "height": 360
        }
      },
      "source": [
        "# FIXME: parse from a GitHub repository\n",
        "requirements_list = [\"numpy\",\n",
        "                     \"pandas\",\n",
        "                     \"SimpleITK\",\n",
        "                     \"pydicom\",\n",
        "                     \"matplotlib\",\n",
        "                     \"seaborn\"]\n",
        "\n",
        "with open('requirements.txt', 'w') as fp:\n",
        "  for item in requirements_list:\n",
        "    fp.write(\"%s\\n\"%(item))\n",
        "\n",
        "!pip3 install -r requirements.txt"
      ],
      "execution_count": null,
      "outputs": [
        {
          "output_type": "stream",
          "text": [
            "Requirement already satisfied: numpy in /usr/local/lib/python3.6/dist-packages (from -r requirements.txt (line 1)) (1.18.5)\n",
            "Requirement already satisfied: pandas in /usr/local/lib/python3.6/dist-packages (from -r requirements.txt (line 2)) (1.1.2)\n",
            "Collecting SimpleITK\n",
            "\u001b[?25l  Downloading https://files.pythonhosted.org/packages/22/c6/0319c4efabb6e7f5650bbd41e1e5ec5c89ca0e857a9aaf287c29ac8c266c/SimpleITK-2.0.0-cp36-cp36m-manylinux1_x86_64.whl (44.9MB)\n",
            "\u001b[K     |████████████████████████████████| 44.9MB 85kB/s \n",
            "\u001b[?25hCollecting pydicom\n",
            "\u001b[?25l  Downloading https://files.pythonhosted.org/packages/d3/56/342e1f8ce5afe63bf65c23d0b2c1cd5a05600caad1c211c39725d3a4cc56/pydicom-2.0.0-py3-none-any.whl (35.4MB)\n",
            "\u001b[K     |████████████████████████████████| 35.5MB 121kB/s \n",
            "\u001b[?25hRequirement already satisfied: matplotlib in /usr/local/lib/python3.6/dist-packages (from -r requirements.txt (line 5)) (3.2.2)\n",
            "Requirement already satisfied: seaborn in /usr/local/lib/python3.6/dist-packages (from -r requirements.txt (line 6)) (0.11.0)\n",
            "Requirement already satisfied: pytz>=2017.2 in /usr/local/lib/python3.6/dist-packages (from pandas->-r requirements.txt (line 2)) (2018.9)\n",
            "Requirement already satisfied: python-dateutil>=2.7.3 in /usr/local/lib/python3.6/dist-packages (from pandas->-r requirements.txt (line 2)) (2.8.1)\n",
            "Requirement already satisfied: kiwisolver>=1.0.1 in /usr/local/lib/python3.6/dist-packages (from matplotlib->-r requirements.txt (line 5)) (1.2.0)\n",
            "Requirement already satisfied: pyparsing!=2.0.4,!=2.1.2,!=2.1.6,>=2.0.1 in /usr/local/lib/python3.6/dist-packages (from matplotlib->-r requirements.txt (line 5)) (2.4.7)\n",
            "Requirement already satisfied: cycler>=0.10 in /usr/local/lib/python3.6/dist-packages (from matplotlib->-r requirements.txt (line 5)) (0.10.0)\n",
            "Requirement already satisfied: scipy>=1.0 in /usr/local/lib/python3.6/dist-packages (from seaborn->-r requirements.txt (line 6)) (1.4.1)\n",
            "Requirement already satisfied: six>=1.5 in /usr/local/lib/python3.6/dist-packages (from python-dateutil>=2.7.3->pandas->-r requirements.txt (line 2)) (1.15.0)\n",
            "Installing collected packages: SimpleITK, pydicom\n",
            "Successfully installed SimpleITK-2.0.0 pydicom-2.0.0\n"
          ],
          "name": "stdout"
        }
      ]
    },
    {
      "cell_type": "code",
      "metadata": {
        "id": "4K-DE0R8rkO4",
        "outputId": "d0853311-96bd-4002-f197-0584afb7067a",
        "colab": {
          "base_uri": "https://localhost:8080/",
          "height": 85
        }
      },
      "source": [
        "import os\n",
        "import sys\n",
        "import numpy as np\n",
        "import pandas as pd\n",
        "import SimpleITK as sitk\n",
        "\n",
        "print(\"Python version      : \", sys.version.split('\\n')[0])\n",
        "print(\"Numpy version       : \", np.__version__)\n",
        "\n",
        "# FIXME: useful for debug purposes\n",
        "if has_gpu:\n",
        "  %tensorflow_version 1.x\n",
        "  import tensorflow as tf\n",
        "  import keras\n",
        "  print(\"TensorFlow version  : \", tf.__version__)\n",
        "  print(\"Keras version       : \", keras.__version__)\n",
        "  print(\"\\nThis Colab instance is equipped with a GPU.\")\n",
        "else:\n",
        "  print(\"\\nThis Colab instance IS NOT equipped with a GPU.\")\n",
        "\n",
        "\n",
        "# ----------------------------------------\n",
        "\n",
        "#everything that has to do with plotting goes here below\n",
        "import matplotlib\n",
        "matplotlib.use('agg')\n",
        "\n",
        "import matplotlib.pyplot as plt\n",
        "from matplotlib.colors import ListedColormap\n",
        "\n",
        "%matplotlib inline\n",
        "%config InlineBackend.figure_format = 'svg'\n",
        "\n",
        "## ----------------------------------------\n",
        "\n",
        "# create new colormap appending the alpha channel to the selected one\n",
        "# (so that we don't get a \\\"color overlay\\\" when plotting the segmask superimposed to the CT)\n",
        "cmap = plt.cm.Reds\n",
        "my_reds = cmap(np.arange(cmap.N))\n",
        "my_reds[:,-1] = np.linspace(0, 1, cmap.N)\n",
        "my_reds = ListedColormap(my_reds)\n",
        "\n",
        "cmap = plt.cm.jet\n",
        "my_jet = cmap(np.arange(cmap.N))\n",
        "my_jet[:,-1] = np.linspace(0, 1, cmap.N)\n",
        "my_jet = ListedColormap(my_jet)\n",
        "\n",
        "## ----------------------------------------\n",
        "\n",
        "import seaborn as sns"
      ],
      "execution_count": null,
      "outputs": [
        {
          "output_type": "stream",
          "text": [
            "Python version      :  3.6.9 (default, Jul 17 2020, 12:50:27) \n",
            "Numpy version       :  1.18.5\n",
            "\n",
            "This Colab instance IS NOT equipped with a GPU.\n"
          ],
          "name": "stdout"
        }
      ]
    },
    {
      "cell_type": "markdown",
      "metadata": {
        "id": "HzZAdA4Ku39L"
      },
      "source": [
        "---\n",
        "\n",
        "### Data Download\n",
        "\n",
        "[How to Mount GCS bucket on Colab:](https://gist.github.com/korakot/f3600576720206363c734eca5f302e38)\n",
        "\n",
        "First step is the authentication:"
      ]
    },
    {
      "cell_type": "code",
      "metadata": {
        "id": "1ZXwYFoEuRM6"
      },
      "source": [
        "from google.colab import auth\n",
        "auth.authenticate_user()"
      ],
      "execution_count": null,
      "outputs": []
    },
    {
      "cell_type": "markdown",
      "metadata": {
        "id": "iGukmH1aYoKf"
      },
      "source": [
        "Secondly, in order to run python functions while without a GitHub repository under IDC still, mount Google Drive's filesystem:"
      ]
    },
    {
      "cell_type": "code",
      "metadata": {
        "id": "qLio2yEsZJcs",
        "outputId": "e09e4fcd-0b37-49ea-abe0-49bc24db9285",
        "colab": {
          "base_uri": "https://localhost:8080/",
          "height": 34
        }
      },
      "source": [
        "from google.colab import drive\n",
        "\n",
        "mount_point = '/mnt/gdrive'\n",
        "\n",
        "if os.path.exists(mount_point):\n",
        "  drive.flush_and_unmount()\n",
        "\n",
        "drive.mount(mount_point)"
      ],
      "execution_count": null,
      "outputs": [
        {
          "output_type": "stream",
          "text": [
            "Mounted at /mnt/gdrive\n"
          ],
          "name": "stdout"
        }
      ]
    },
    {
      "cell_type": "markdown",
      "metadata": {
        "id": "gDBr8gO2ufU3"
      },
      "source": [
        "---\n",
        "\n",
        "#### Create a Dummy Manifesto for TCIA's NSCLC-radiomics.\n",
        "\n",
        "Let's start with `n_patients` patients:"
      ]
    },
    {
      "cell_type": "code",
      "metadata": {
        "id": "XhxeHxhmxwhu",
        "outputId": "71f60e50-f3a6-416c-bef4-888bca890c8e",
        "colab": {
          "base_uri": "https://localhost:8080/",
          "height": 187
        }
      },
      "source": [
        "n_patients = 10\n",
        "\n",
        "gsutil_output = !gsutil -u idc-sandbox-000 ls gs://idc-tcia-1-nsclc-radiomics/dicom | head -n $n_patients\n",
        "\n",
        "# get rid ot the rows in excess\n",
        "gsutil_output = gsutil_output[:n_patients]\n",
        "gsutil_output"
      ],
      "execution_count": 68,
      "outputs": [
        {
          "output_type": "execute_result",
          "data": {
            "text/plain": [
              "['gs://idc-tcia-1-nsclc-radiomics/dicom/1.3.6.1.4.1.32722.99.99.100645791623978861750505647044382842552/',\n",
              " 'gs://idc-tcia-1-nsclc-radiomics/dicom/1.3.6.1.4.1.32722.99.99.100855571832074152951605738408734618579/',\n",
              " 'gs://idc-tcia-1-nsclc-radiomics/dicom/1.3.6.1.4.1.32722.99.99.101385144304667221218962368127740145808/',\n",
              " 'gs://idc-tcia-1-nsclc-radiomics/dicom/1.3.6.1.4.1.32722.99.99.10144581065043339122451692100395007780/',\n",
              " 'gs://idc-tcia-1-nsclc-radiomics/dicom/1.3.6.1.4.1.32722.99.99.102719233427745502116416854281613435360/',\n",
              " 'gs://idc-tcia-1-nsclc-radiomics/dicom/1.3.6.1.4.1.32722.99.99.102758679895916452229843467594324423877/',\n",
              " 'gs://idc-tcia-1-nsclc-radiomics/dicom/1.3.6.1.4.1.32722.99.99.102978961983855858543476361768905978287/',\n",
              " 'gs://idc-tcia-1-nsclc-radiomics/dicom/1.3.6.1.4.1.32722.99.99.10331314816593639915006005461010274587/',\n",
              " 'gs://idc-tcia-1-nsclc-radiomics/dicom/1.3.6.1.4.1.32722.99.99.103863628921590543632414419591397821320/',\n",
              " 'gs://idc-tcia-1-nsclc-radiomics/dicom/1.3.6.1.4.1.32722.99.99.104324298752786706678094213253380791609/']"
            ]
          },
          "metadata": {
            "tags": []
          },
          "execution_count": 68
        }
      ]
    },
    {
      "cell_type": "code",
      "metadata": {
        "id": "6rICGtXanVAr",
        "outputId": "f488ac6a-9245-44d5-aca8-6990c590de97",
        "colab": {
          "base_uri": "https://localhost:8080/",
          "height": 359
        }
      },
      "source": [
        "# populate a dataframe starting from the gsutil command output\n",
        "manifesto_dict = {\"gs_uri\" : gsutil_output}\n",
        "manifesto_df = pd.DataFrame(manifesto_dict, columns = [\"gs_uri\"])\n",
        "\n",
        "manifesto_df"
      ],
      "execution_count": null,
      "outputs": [
        {
          "output_type": "execute_result",
          "data": {
            "text/html": [
              "<div>\n",
              "<style scoped>\n",
              "    .dataframe tbody tr th:only-of-type {\n",
              "        vertical-align: middle;\n",
              "    }\n",
              "\n",
              "    .dataframe tbody tr th {\n",
              "        vertical-align: top;\n",
              "    }\n",
              "\n",
              "    .dataframe thead th {\n",
              "        text-align: right;\n",
              "    }\n",
              "</style>\n",
              "<table border=\"1\" class=\"dataframe\">\n",
              "  <thead>\n",
              "    <tr style=\"text-align: right;\">\n",
              "      <th></th>\n",
              "      <th>gs_uri</th>\n",
              "    </tr>\n",
              "  </thead>\n",
              "  <tbody>\n",
              "    <tr>\n",
              "      <th>0</th>\n",
              "      <td>gs://idc-tcia-1-nsclc-radiomics/dicom/1.3.6.1....</td>\n",
              "    </tr>\n",
              "    <tr>\n",
              "      <th>1</th>\n",
              "      <td>gs://idc-tcia-1-nsclc-radiomics/dicom/1.3.6.1....</td>\n",
              "    </tr>\n",
              "    <tr>\n",
              "      <th>2</th>\n",
              "      <td>gs://idc-tcia-1-nsclc-radiomics/dicom/1.3.6.1....</td>\n",
              "    </tr>\n",
              "    <tr>\n",
              "      <th>3</th>\n",
              "      <td>gs://idc-tcia-1-nsclc-radiomics/dicom/1.3.6.1....</td>\n",
              "    </tr>\n",
              "    <tr>\n",
              "      <th>4</th>\n",
              "      <td>gs://idc-tcia-1-nsclc-radiomics/dicom/1.3.6.1....</td>\n",
              "    </tr>\n",
              "    <tr>\n",
              "      <th>5</th>\n",
              "      <td>gs://idc-tcia-1-nsclc-radiomics/dicom/1.3.6.1....</td>\n",
              "    </tr>\n",
              "    <tr>\n",
              "      <th>6</th>\n",
              "      <td>gs://idc-tcia-1-nsclc-radiomics/dicom/1.3.6.1....</td>\n",
              "    </tr>\n",
              "    <tr>\n",
              "      <th>7</th>\n",
              "      <td>gs://idc-tcia-1-nsclc-radiomics/dicom/1.3.6.1....</td>\n",
              "    </tr>\n",
              "    <tr>\n",
              "      <th>8</th>\n",
              "      <td>gs://idc-tcia-1-nsclc-radiomics/dicom/1.3.6.1....</td>\n",
              "    </tr>\n",
              "    <tr>\n",
              "      <th>9</th>\n",
              "      <td>gs://idc-tcia-1-nsclc-radiomics/dicom/1.3.6.1....</td>\n",
              "    </tr>\n",
              "  </tbody>\n",
              "</table>\n",
              "</div>"
            ],
            "text/plain": [
              "                                              gs_uri\n",
              "0  gs://idc-tcia-1-nsclc-radiomics/dicom/1.3.6.1....\n",
              "1  gs://idc-tcia-1-nsclc-radiomics/dicom/1.3.6.1....\n",
              "2  gs://idc-tcia-1-nsclc-radiomics/dicom/1.3.6.1....\n",
              "3  gs://idc-tcia-1-nsclc-radiomics/dicom/1.3.6.1....\n",
              "4  gs://idc-tcia-1-nsclc-radiomics/dicom/1.3.6.1....\n",
              "5  gs://idc-tcia-1-nsclc-radiomics/dicom/1.3.6.1....\n",
              "6  gs://idc-tcia-1-nsclc-radiomics/dicom/1.3.6.1....\n",
              "7  gs://idc-tcia-1-nsclc-radiomics/dicom/1.3.6.1....\n",
              "8  gs://idc-tcia-1-nsclc-radiomics/dicom/1.3.6.1....\n",
              "9  gs://idc-tcia-1-nsclc-radiomics/dicom/1.3.6.1...."
            ]
          },
          "metadata": {
            "tags": []
          },
          "execution_count": 8
        }
      ]
    },
    {
      "cell_type": "code",
      "metadata": {
        "id": "PscERtJLnVHa",
        "outputId": "ce6512d5-4bd5-4a2f-e619-0920d4754221",
        "colab": {
          "base_uri": "https://localhost:8080/",
          "height": 187
        }
      },
      "source": [
        "# generate a text file, which will be parsed by gsutil to download the selected patients:\n",
        "manifesto_df.to_csv(\"gcs_paths.txt\", header = False, index = False)\n",
        "\n",
        "# check everything went as expected\n",
        "!head /content/gcs_paths.txt"
      ],
      "execution_count": null,
      "outputs": [
        {
          "output_type": "stream",
          "text": [
            "gs://idc-tcia-1-nsclc-radiomics/dicom/1.3.6.1.4.1.32722.99.99.100645791623978861750505647044382842552/\n",
            "gs://idc-tcia-1-nsclc-radiomics/dicom/1.3.6.1.4.1.32722.99.99.100855571832074152951605738408734618579/\n",
            "gs://idc-tcia-1-nsclc-radiomics/dicom/1.3.6.1.4.1.32722.99.99.101385144304667221218962368127740145808/\n",
            "gs://idc-tcia-1-nsclc-radiomics/dicom/1.3.6.1.4.1.32722.99.99.10144581065043339122451692100395007780/\n",
            "gs://idc-tcia-1-nsclc-radiomics/dicom/1.3.6.1.4.1.32722.99.99.102719233427745502116416854281613435360/\n",
            "gs://idc-tcia-1-nsclc-radiomics/dicom/1.3.6.1.4.1.32722.99.99.102758679895916452229843467594324423877/\n",
            "gs://idc-tcia-1-nsclc-radiomics/dicom/1.3.6.1.4.1.32722.99.99.102978961983855858543476361768905978287/\n",
            "gs://idc-tcia-1-nsclc-radiomics/dicom/1.3.6.1.4.1.32722.99.99.10331314816593639915006005461010274587/\n",
            "gs://idc-tcia-1-nsclc-radiomics/dicom/1.3.6.1.4.1.32722.99.99.103863628921590543632414419591397821320/\n",
            "gs://idc-tcia-1-nsclc-radiomics/dicom/1.3.6.1.4.1.32722.99.99.104324298752786706678094213253380791609/\n"
          ],
          "name": "stdout"
        }
      ]
    },
    {
      "cell_type": "markdown",
      "metadata": {
        "id": "8E4hNYNDcvUG"
      },
      "source": [
        "---\n",
        "\n",
        "#### DICOM CT Series Download"
      ]
    },
    {
      "cell_type": "code",
      "metadata": {
        "id": "f_N47fkDnVPp"
      },
      "source": [
        "# if everything is allright, proceed with the download\n",
        "!mkdir -p nsclc-radiomics\n",
        "\n",
        "!cat gcs_paths.txt | gsutil -u idc-sandbox-000 -m cp -Ir ./nsclc-radiomics"
      ],
      "execution_count": null,
      "outputs": []
    },
    {
      "cell_type": "code",
      "metadata": {
        "id": "ATTQrJsghq5o",
        "outputId": "fde72d07-7f01-4295-eba9-92cea55b9001",
        "colab": {
          "base_uri": "https://localhost:8080/",
          "height": 224
        }
      },
      "source": [
        "data_base_path = \"./nsclc-radiomics\"\n",
        "\n",
        "dataset_csv_name = 'nsclc-radiomics_bigquery.csv'\n",
        "dataset_csv_path = os.path.join(\"/mnt/gdrive/My Drive/Colab Notebooks/data\",\n",
        "                                dataset_csv_name)\n",
        "\n",
        "cohort_df = pd.read_csv(dataset_csv_path)\n",
        "\n",
        "cohort_df.head()"
      ],
      "execution_count": 48,
      "outputs": [
        {
          "output_type": "execute_result",
          "data": {
            "text/html": [
              "<div>\n",
              "<style scoped>\n",
              "    .dataframe tbody tr th:only-of-type {\n",
              "        vertical-align: middle;\n",
              "    }\n",
              "\n",
              "    .dataframe tbody tr th {\n",
              "        vertical-align: top;\n",
              "    }\n",
              "\n",
              "    .dataframe thead th {\n",
              "        text-align: right;\n",
              "    }\n",
              "</style>\n",
              "<table border=\"1\" class=\"dataframe\">\n",
              "  <thead>\n",
              "    <tr style=\"text-align: right;\">\n",
              "      <th></th>\n",
              "      <th>PatientID</th>\n",
              "      <th>ctStudyInstanceUID</th>\n",
              "      <th>ctSeriesInstanceUID</th>\n",
              "      <th>rtstructStudyInstanceUID</th>\n",
              "      <th>rtstructSeriesInstanceUID</th>\n",
              "      <th>segStudyInstanceUID</th>\n",
              "      <th>segSeriesInstanceUID</th>\n",
              "    </tr>\n",
              "  </thead>\n",
              "  <tbody>\n",
              "    <tr>\n",
              "      <th>0</th>\n",
              "      <td>LUNG1-001</td>\n",
              "      <td>1.3.6.1.4.1.32722.99.99.2393413539117143687725...</td>\n",
              "      <td>1.3.6.1.4.1.32722.99.99.2989917765213423750108...</td>\n",
              "      <td>1.3.6.1.4.1.40744.29.2393413539117143687725971...</td>\n",
              "      <td>1.3.6.1.4.1.40744.29.2279381215866080725084441...</td>\n",
              "      <td>1.3.6.1.4.1.40744.29.2393413539117143687725971...</td>\n",
              "      <td>1.2.276.0.7230010.3.1.3.8323329.16296.15548365...</td>\n",
              "    </tr>\n",
              "    <tr>\n",
              "      <th>1</th>\n",
              "      <td>LUNG1-002</td>\n",
              "      <td>1.3.6.1.4.1.32722.99.99.2037150038059966416957...</td>\n",
              "      <td>1.3.6.1.4.1.32722.99.99.2329880015517990803358...</td>\n",
              "      <td>1.3.6.1.4.1.40744.29.2037150038059966416957653...</td>\n",
              "      <td>1.3.6.1.4.1.40744.29.2432675512669112458302594...</td>\n",
              "      <td>1.3.6.1.4.1.40744.29.2037150038059966416957653...</td>\n",
              "      <td>1.2.276.0.7230010.3.1.3.8323329.21133.15548295...</td>\n",
              "    </tr>\n",
              "    <tr>\n",
              "      <th>2</th>\n",
              "      <td>LUNG1-003</td>\n",
              "      <td>1.3.6.1.4.1.32722.99.99.2477262867958601216867...</td>\n",
              "      <td>1.3.6.1.4.1.32722.99.99.2389222799296192439904...</td>\n",
              "      <td>1.3.6.1.4.1.40744.29.2477262867958601216867965...</td>\n",
              "      <td>1.3.6.1.4.1.40744.29.2175894477461117410564218...</td>\n",
              "      <td>1.3.6.1.4.1.40744.29.2477262867958601216867965...</td>\n",
              "      <td>1.2.276.0.7230010.3.1.3.8323329.20958.15548278...</td>\n",
              "    </tr>\n",
              "    <tr>\n",
              "      <th>3</th>\n",
              "      <td>LUNG1-004</td>\n",
              "      <td>1.3.6.1.4.1.32722.99.99.2026036697036260886779...</td>\n",
              "      <td>1.3.6.1.4.1.32722.99.99.2809816144625926346520...</td>\n",
              "      <td>1.3.6.1.4.1.40744.29.2026036697036260886779831...</td>\n",
              "      <td>1.3.6.1.4.1.40744.29.1989243449739101957480841...</td>\n",
              "      <td>1.3.6.1.4.1.40744.29.2026036697036260886779831...</td>\n",
              "      <td>1.2.276.0.7230010.3.1.3.8323329.31481.15548267...</td>\n",
              "    </tr>\n",
              "    <tr>\n",
              "      <th>4</th>\n",
              "      <td>LUNG1-005</td>\n",
              "      <td>1.3.6.1.4.1.32722.99.99.7196186628043392557101...</td>\n",
              "      <td>1.3.6.1.4.1.32722.99.99.3490584753983772067630...</td>\n",
              "      <td>1.3.6.1.4.1.40744.29.7196186628043392557101987...</td>\n",
              "      <td>1.3.6.1.4.1.40744.29.1186162681418618501244963...</td>\n",
              "      <td>1.3.6.1.4.1.40744.29.7196186628043392557101987...</td>\n",
              "      <td>1.2.276.0.7230010.3.1.3.8323329.7097.155482712...</td>\n",
              "    </tr>\n",
              "  </tbody>\n",
              "</table>\n",
              "</div>"
            ],
            "text/plain": [
              "   PatientID  ...                               segSeriesInstanceUID\n",
              "0  LUNG1-001  ...  1.2.276.0.7230010.3.1.3.8323329.16296.15548365...\n",
              "1  LUNG1-002  ...  1.2.276.0.7230010.3.1.3.8323329.21133.15548295...\n",
              "2  LUNG1-003  ...  1.2.276.0.7230010.3.1.3.8323329.20958.15548278...\n",
              "3  LUNG1-004  ...  1.2.276.0.7230010.3.1.3.8323329.31481.15548267...\n",
              "4  LUNG1-005  ...  1.2.276.0.7230010.3.1.3.8323329.7097.155482712...\n",
              "\n",
              "[5 rows x 7 columns]"
            ]
          },
          "metadata": {
            "tags": []
          },
          "execution_count": 48
        }
      ]
    },
    {
      "cell_type": "markdown",
      "metadata": {
        "id": "A_hRQkcUA89V"
      },
      "source": [
        "---\n",
        "\n",
        "#### DICOM RTSTRUCT and RTSEG download\n",
        "\n",
        "Due to how the TCIA dataset is organised, we need to do a bit of stitching to download the RTSTRUCTs/RTSEGs corresponding to the downloaded CTs."
      ]
    },
    {
      "cell_type": "code",
      "metadata": {
        "id": "R2I_99YgHG9l",
        "outputId": "0f1c969c-80de-4463-ebe7-4840da6d1c57",
        "colab": {
          "base_uri": "https://localhost:8080/",
          "height": 187
        }
      },
      "source": [
        "os.listdir(data_base_path)"
      ],
      "execution_count": 66,
      "outputs": [
        {
          "output_type": "execute_result",
          "data": {
            "text/plain": [
              "['1.3.6.1.4.1.32722.99.99.101385144304667221218962368127740145808',\n",
              " '1.3.6.1.4.1.32722.99.99.102719233427745502116416854281613435360',\n",
              " '1.3.6.1.4.1.32722.99.99.10331314816593639915006005461010274587',\n",
              " '1.3.6.1.4.1.32722.99.99.103863628921590543632414419591397821320',\n",
              " '1.3.6.1.4.1.32722.99.99.102978961983855858543476361768905978287',\n",
              " '1.3.6.1.4.1.32722.99.99.100645791623978861750505647044382842552',\n",
              " '1.3.6.1.4.1.32722.99.99.102758679895916452229843467594324423877',\n",
              " '1.3.6.1.4.1.32722.99.99.100855571832074152951605738408734618579',\n",
              " '1.3.6.1.4.1.32722.99.99.104324298752786706678094213253380791609',\n",
              " '1.3.6.1.4.1.32722.99.99.10144581065043339122451692100395007780']"
            ]
          },
          "metadata": {
            "tags": []
          },
          "execution_count": 66
        }
      ]
    },
    {
      "cell_type": "code",
      "metadata": {
        "id": "mGqIfm7ohrFX"
      },
      "source": [
        "rt_gsutil_uri_list = list()\n",
        "\n",
        "for pat_StudyInstanceUID in os.listdir(data_base_path):\n",
        "\n",
        "  path_to_study_folder = os.path.join(data_base_path, pat_StudyInstanceUID)\n",
        "\n",
        "  pat_df = cohort_df[cohort_df[\"ctStudyInstanceUID\"] == pat_StudyInstanceUID]\n",
        "\n",
        "  pat_ctStudyInstanceUID = pat_df[\"ctStudyInstanceUID\"].values[0]\n",
        "  pat_rtstructStudyInstanceUID = pat_df[\"rtstructStudyInstanceUID\"].values[0]\n",
        "  pat_segStudyInstanceUID = pat_df[\"segStudyInstanceUID\"].values[0]\n",
        "\n",
        "  path_to_ct_folder = os.path.join(path_to_study_folder, pat_ctStudyInstanceUID)\n",
        "\n",
        "  # both DICOM RTSTRUCT and RTSEG should be found in the same folder\n",
        "  # path_to_rt_folder = path_to_seg_folder\n",
        "  path_to_rt_folder = os.path.join(path_to_study_folder, pat_rtstructStudyInstanceUID)\n",
        "\n",
        "  gsutil_uri = !gsutil -u idc-sandbox-000 ls gs://idc-tcia-1-nsclc-radiomics/dicom | grep $pat_rtstructStudyInstanceUID\n",
        "\n",
        "  rt_gsutil_uri_list.append(gsutil_uri)\n",
        "\n"
      ],
      "execution_count": 67,
      "outputs": []
    },
    {
      "cell_type": "code",
      "metadata": {
        "id": "8orEMK5d6rk2",
        "outputId": "2866f1b2-26bd-4be2-d24f-d21d2df6b8d6",
        "colab": {
          "base_uri": "https://localhost:8080/",
          "height": 34
        }
      },
      "source": [
        "!gsutil -u idc-sandbox-000 ls gs://idc-tcia-1-nsclc-radiomics/dicom | grep $pat_rtstructStudyInstanceUID"
      ],
      "execution_count": 65,
      "outputs": [
        {
          "output_type": "stream",
          "text": [
            "gs://idc-tcia-1-nsclc-radiomics/dicom/1.3.6.1.4.1.40744.29.101385144304667221218962368127740145808/\n"
          ],
          "name": "stdout"
        }
      ]
    },
    {
      "cell_type": "markdown",
      "metadata": {
        "id": "Ny5UgQzjnTxU"
      },
      "source": [
        "---\n",
        "\n",
        "Check the disk space after the download:"
      ]
    },
    {
      "cell_type": "code",
      "metadata": {
        "id": "32EwyULU5A39",
        "outputId": "bf5cc8a4-a1e1-4e95-fc06-8cb096ac85b7",
        "colab": {
          "base_uri": "https://localhost:8080/",
          "height": 37
        }
      },
      "source": [
        "\n",
        "sitk_reader = sitk.ImageSeriesReader()\n",
        "sitk_writer = sitk.ImageFileWriter()\n",
        "\n",
        "series_ids = sitk_reader.GetGDCMSeriesIDs(path_to_series_folder)\n",
        "\n",
        "path_to_series_folder"
      ],
      "execution_count": 58,
      "outputs": [
        {
          "output_type": "execute_result",
          "data": {
            "application/vnd.google.colaboratory.intrinsic+json": {
              "type": "string"
            },
            "text/plain": [
              "'./nsclc-radiomics/1.3.6.1.4.1.32722.99.99.101385144304667221218962368127740145808'"
            ]
          },
          "metadata": {
            "tags": []
          },
          "execution_count": 58
        }
      ]
    },
    {
      "cell_type": "code",
      "metadata": {
        "id": "8JrgIb1d471w",
        "outputId": "786baf1a-2ed9-4d50-f1e1-5d1ecdc9b85a",
        "colab": {
          "base_uri": "https://localhost:8080/",
          "height": 187
        }
      },
      "source": [
        "!df -h"
      ],
      "execution_count": null,
      "outputs": [
        {
          "output_type": "stream",
          "text": [
            "Filesystem      Size  Used Avail Use% Mounted on\n",
            "overlay         108G   31G   72G  31% /\n",
            "tmpfs            64M     0   64M   0% /dev\n",
            "tmpfs           6.4G     0  6.4G   0% /sys/fs/cgroup\n",
            "shm             5.9G     0  5.9G   0% /dev/shm\n",
            "tmpfs           6.4G   12K  6.4G   1% /var/colab\n",
            "/dev/sda1       114G   33G   82G  29% /etc/hosts\n",
            "tmpfs           6.4G     0  6.4G   0% /proc/acpi\n",
            "tmpfs           6.4G     0  6.4G   0% /proc/scsi\n",
            "tmpfs           6.4G     0  6.4G   0% /sys/firmware\n"
          ],
          "name": "stdout"
        }
      ]
    },
    {
      "cell_type": "code",
      "metadata": {
        "id": "wbc2RVQp52C9",
        "outputId": "c13b1a25-3823-4005-8581-a563feb3fdfd",
        "colab": {
          "base_uri": "https://localhost:8080/",
          "height": 34
        }
      },
      "source": [
        "!du -h ./nsclc-radiomics -d 0"
      ],
      "execution_count": null,
      "outputs": [
        {
          "output_type": "stream",
          "text": [
            "599M\t./nsclc-radiomics\n"
          ],
          "name": "stdout"
        }
      ]
    },
    {
      "cell_type": "markdown",
      "metadata": {
        "id": "WUrvOf3GZzh8"
      },
      "source": [
        "---\n",
        "\n",
        "## Python Preprocessing Pipeline Test"
      ]
    },
    {
      "cell_type": "markdown",
      "metadata": {
        "id": "XWVnetEY_m45"
      },
      "source": [
        "---\n",
        "\n",
        "### WIP (SITK Pre-processing Functions)"
      ]
    },
    {
      "cell_type": "code",
      "metadata": {
        "id": "e21IzZMtdl7p"
      },
      "source": [
        "def sitk_resample(sitk_data, sitk_interpolator, output_spacing):\n",
        "    \n",
        "  orig_spacing = sitk_data.GetSpacing()\n",
        "  orig_size = sitk_data.GetSize()\n",
        "\n",
        "  new_size = [int(orig_size[0] * orig_spacing[0] / output_spacing[0]), \n",
        "              int(orig_size[1] * orig_spacing[1] / output_spacing[1]), \n",
        "              int(orig_size[2] * orig_spacing[2] / output_spacing[2])]\n",
        "\n",
        "  res_filter = sitk.ResampleImageFilter()\n",
        "  \n",
        "  \"\"\"\n",
        "  arguments accepted by ResampleImageFilter():\n",
        "  - image data\n",
        "  - size\n",
        "  - transform\n",
        "  - interpolator\n",
        "  - outputOrigin\n",
        "  - outputSpacing\n",
        "  - outputDirection\n",
        "  - defaultPixelValue\n",
        "  - outputPixelType\n",
        "  \"\"\" \n",
        "    \n",
        "  proc_sitk_data = res_filter.Execute(sitk_data,  \n",
        "                                      new_size,  \n",
        "                                      sitk.Transform(), \n",
        "                                      sitk_interpolator,  \n",
        "                                      sitk_data.GetOrigin(), \n",
        "                                      output_spacing, \n",
        "                                      sitk_data.GetDirection(), \n",
        "                                      0, \n",
        "                                      sitk_data.GetPixelIDValue())\n",
        "\n",
        "  return proc_sitk_data"
      ],
      "execution_count": null,
      "outputs": []
    },
    {
      "cell_type": "code",
      "metadata": {
        "id": "2jQuytJTdzwj"
      },
      "source": [
        "def dcm_ct_to_nrrd(path_to_series_folder, output_file_path,\n",
        "                   resample_data = False, output_spacing = [1, 1, 1], interp = 'linear',\n",
        "                   compress_data = True):\n",
        "        \n",
        "  sitk_reader = sitk.ImageSeriesReader()\n",
        "  sitk_writer = sitk.ImageFileWriter()\n",
        "\n",
        "  series_ids = sitk_reader.GetGDCMSeriesIDs(path_to_series_folder)\n",
        "\n",
        "  # FIXME: only one series per folder is supported: generalise this?\n",
        "  if not len(series_ids) == 1:\n",
        "    print(\"ERROR: this function supports only one sequence per folder.\")\n",
        "    return 0\n",
        "\n",
        "  if not interp in [\"linear\", \"nn\"]:\n",
        "    print(\"Interpolation method unknown: falling back to 'linear'\")\n",
        "    interp = 'linear'\n",
        "\n",
        "  elif interp == 'linear':\n",
        "    sitk_interpolator = sitk.sitkLinear\n",
        "  elif interp == 'nn':\n",
        "    sitk_interpolator = sitk.sitkNearestNeighbor\n",
        "\n",
        "  file_list = sitk_reader.GetGDCMSeriesFileNames(path_to_series_folder,\n",
        "                                                  series_ids[0])\n",
        "  sitk_reader.SetFileNames(file_list)\n",
        "  sitk_vol = sitk_reader.Execute()\n",
        "\n",
        "\n",
        "  if resample_data:\n",
        "    sitk_vol = sitk_resample(sitk_data = sitk_vol,\n",
        "                             sitk_interpolator = sitk_interpolator,\n",
        "                             output_spacing = output_spacing)\n",
        "\n",
        "  if compress_data:\n",
        "    sitk_writer.UseCompressionOn()\n",
        "\n",
        "  sitk_writer.SetFileName(output_path)\n",
        "  sitk_writer.Execute(sitk_vol)"
      ],
      "execution_count": null,
      "outputs": []
    },
    {
      "cell_type": "markdown",
      "metadata": {
        "id": "syN0HeMl_Nji"
      },
      "source": [
        "---\n",
        "\n",
        "### Custom Library Functions\n",
        "\n",
        "Custom library functions - should be good as they are."
      ]
    },
    {
      "cell_type": "code",
      "metadata": {
        "id": "ElIThn5zYHRY"
      },
      "source": [
        "\"\"\"\n",
        "    ----------------------------------------\n",
        "    IDC Radiomics use case (Colab Demo)\n",
        "    \n",
        "    useful functions for data handling/proc\n",
        "    ----------------------------------------\n",
        "    \n",
        "    ----------------------------------------\n",
        "    Author: Dennis Bontempi\n",
        "    Email:  dennis_bontempi@dfci.harvard.edu\n",
        "    Modified: 01 OCT 20\n",
        "    ----------------------------------------\n",
        "    \n",
        "\"\"\"\n",
        "\n",
        "## ----------------------------------------\n",
        "\n",
        "# normalise the values of the volume between new_min_val and new_max_val\n",
        "def normalise_volume(input_volume, new_min_val, new_max_val, old_min_val = None, old_max_val = None):\n",
        "\n",
        "  \"\"\"\n",
        "  Normalise a numpy volume intensity in a range between two given values\n",
        "  \n",
        "  @params:\n",
        "    input_volume - required : numpy volume to rescale (intensity-wise) in the new range.\n",
        "    new_min_val  - required : the lower bound of the new intensity range.\n",
        "    new_max_val  - required : the upper bound of the new intensity range.\n",
        "    old_min_val  - optional : the lower bound of the old intensity range. Defaults to input_volume's np.min()\n",
        "    old_max_val  - optional : the lower bound of the old intensity range. Defaults to input_volume's np.max()\n",
        "    \n",
        "  \"\"\"\n",
        "  \n",
        "  # make sure the input volume is treated as a float volume\n",
        "  input_volume = input_volume.astype(dtype = np.float16)\n",
        "\n",
        "  # if no old_min_val and/or old_max_val are specified, default to the np.min() and np.max() of input_volume\n",
        "  \n",
        "  curr_min = np.min(input_volume) if old_min_val == None else old_min_val\n",
        "  curr_max = np.max(input_volume) if old_max_val == None else old_max_val\n",
        "\n",
        "\n",
        "  # normalise the values of each voxel between zero and one\n",
        "  zero_to_one_norm = (input_volume - curr_min)/(curr_max - curr_min)\n",
        "\n",
        "  # normalise between new_min_val and new_max_val\n",
        "  return (new_max_val - new_min_val)*zero_to_one_norm + new_min_val\n",
        "\n",
        "## ----------------------------------------\n",
        "## ----------------------------------------\n",
        "\n",
        "def compute_center_of_mass(input_mask):\n",
        "  \n",
        "  \"\"\"\n",
        "  Compute the center of mass (CoM) of a given binary 3D numpy segmask (fast version, numpy based).\n",
        "  The idea is the following:\n",
        "    - create a 4D vector starting from the 3D, populating each channel as follows:\n",
        "      (x pos, y pos, z pos, mask_value);\n",
        "    - keep only the nonzero values;\n",
        "    - compute an average of the position (CoM) using such triplets (x, y, z).\n",
        "  \n",
        "  @params:\n",
        "    input_mask - required : the 3D numpy vector (binary mask) to compute the center of mass of.\n",
        "    \n",
        "  @returns:\n",
        "    ctr_mass - a list of three elements storing the coordinates of the CoM\n",
        "               (the axes are the same as the input mask)\n",
        "    \n",
        "  \"\"\"\n",
        "  \n",
        "  # sanity check: mask should be binary (multi-class RT is taken care of during in the export function)\n",
        "  assert(len(np.unique(input_mask)) <= 2)\n",
        "  \n",
        "  # display and log warning\n",
        "  if len(np.unique(input_mask)) == 1:\n",
        "    print('WARNING: DICOM RTSTRUCT is empty.')\n",
        "    return [-1, -1, -1]\n",
        "  \n",
        "  # clip mask values between 0 and 1 (e.g., to cope for masks with max val = 255)\n",
        "  input_mask = np.clip(input_mask, a_min = 0, a_max = 1)\n",
        "  \n",
        "  segmask_4d = np.zeros(input_mask.shape + (4, ))\n",
        "\n",
        "  # create a triplet of grids that will serve as axis for the next step\n",
        "  y, x, z = np.meshgrid(np.arange(input_mask.shape[1]), \n",
        "                        np.arange(input_mask.shape[0]), \n",
        "                        np.arange(input_mask.shape[2]))\n",
        "  \n",
        "  # populate\n",
        "  segmask_4d[..., 0] = x \n",
        "  segmask_4d[..., 1] = y \n",
        "  segmask_4d[..., 2] = z \n",
        "  segmask_4d[..., 3] = input_mask\n",
        "  \n",
        "  # keep only the voxels belonging to the mask\n",
        "  nonzero_voxels = segmask_4d[np.nonzero(segmask_4d[:, :, :, 3])]\n",
        "\n",
        "  # average the (x, y, z) triplets\n",
        "  ctr_mass = np.average(nonzero_voxels[:, :3], axis = 0)\n",
        "    \n",
        "  return ctr_mass\n",
        "\n",
        "  \n",
        "## ----------------------------------------\n",
        "## ----------------------------------------\n",
        "\n",
        "def get_bbox_dict(int_center_of_mass, seg_mask_shape, bbox_size, z_first = True):\n",
        "\n",
        "  \"\"\"\n",
        "  Compute the crop bounding box indices starting from the CoM and the BBox size.\n",
        "  \n",
        "  @params:\n",
        "    int_center_of_mass - required : a list of integers (int(CoM)) where CoM is the output\n",
        "                                    of the function \"compute_center_of_mass()\"\n",
        "    bbox_size          - required : the size of the bounding box along each axis.\n",
        "    z_first            - optional : if True, returns the dict as (lon, cor, sag), i.e., (z, y, x),\n",
        "                                    as opposed to (sag, cor, lon), i.e., (x, y, z) (defaults to True).\n",
        "  \n",
        "  @returns:\n",
        "    bbox : a dictionary formatted as follows:\n",
        "      {\n",
        "       'lon': {'first': 89, 'last': 139}\n",
        "       'cor': {'first': 241, 'last': 291},\n",
        "       'sag': {'first': 150, 'last': 200}\n",
        "      }\n",
        "  \"\"\"\n",
        "  \n",
        "  assert len(int_center_of_mass) == 3\n",
        "  assert len(bbox_size) == 3\n",
        "    \n",
        "  bbox = dict()\n",
        "\n",
        "  bbox['cor'] = dict()\n",
        "  bbox['sag'] = dict()\n",
        "  bbox['lon'] = dict()\n",
        "\n",
        "  # take care of axes shuffling \n",
        "  cor_idx = 1\n",
        "  lon_idx = 0 if z_first else 2\n",
        "  sag_idx = 2 if z_first else 0\n",
        "  \n",
        "  \n",
        "  # bounding box if no exception is found\n",
        "  sag_first = int(int_center_of_mass[sag_idx] - np.round(bbox_size[sag_idx]/2))\n",
        "  sag_last = int(int_center_of_mass[sag_idx] + np.round(bbox_size[sag_idx]/2)) - 1\n",
        "  \n",
        "  cor_first = int(int_center_of_mass[cor_idx] - np.round(bbox_size[cor_idx]/2))\n",
        "  cor_last = int(int_center_of_mass[cor_idx] + np.round(bbox_size[cor_idx]/2)) - 1\n",
        "  \n",
        "  lon_first = int(int_center_of_mass[lon_idx] - np.round(bbox_size[lon_idx]/2))\n",
        "  lon_last = int(int_center_of_mass[lon_idx] + np.round(bbox_size[lon_idx]/2)) - 1\n",
        "  \n",
        "\n",
        "  # print out exceptions\n",
        "  if sag_last > seg_mask_shape[sag_idx] - 1 or sag_first < 0:\n",
        "    print('WARNING: the bounding box size exceeds volume dimensions (sag axis)')\n",
        "    print('Cropping will be performed ignoring the \"bbox_size\" parameter')\n",
        "    \n",
        "  if cor_last > seg_mask_shape[cor_idx] - 1 or cor_first < 0:\n",
        "    print('WARNING: the bounding box size exceeds volume dimensions (cor axis)')\n",
        "    print('Cropping will be performed ignoring the \"bbox_size\" parameter')\n",
        "    \n",
        "  if lon_last > seg_mask_shape[lon_idx] - 1 or lon_first < 0:\n",
        "    print('WARNING: the bounding box size exceeds volume dimensions (lon axis)')\n",
        "    print('Cropping will be performed ignoring the \"bbox_size\" parameter')\n",
        "    \n",
        "    \n",
        "  # take care of exceptions where bbox is bigger than the actual volume\n",
        "  sag_first = int(np.max([0, sag_first]))\n",
        "  sag_last = int(np.min([seg_mask_shape[sag_idx] - 1, sag_last]))\n",
        "  \n",
        "  cor_first = int(np.max([0, cor_first]))\n",
        "  cor_last = int(np.min([seg_mask_shape[cor_idx] - 1, cor_last]))\n",
        "  \n",
        "  lon_first = int(np.max([0, lon_first]))\n",
        "  lon_last = int(np.min([seg_mask_shape[lon_idx] - 1, lon_last]))\n",
        "  \n",
        "  \n",
        "  # populate the dictionary and return it\n",
        "  bbox['sag']['first'] = sag_first\n",
        "  bbox['sag']['last'] = sag_last\n",
        "\n",
        "  bbox['cor']['first'] = cor_first\n",
        "  bbox['cor']['last'] = cor_last\n",
        "\n",
        "  bbox['lon']['first'] = lon_first\n",
        "  bbox['lon']['last'] = lon_last\n",
        "    \n",
        "  return bbox\n",
        "  \n",
        "\n",
        "## ----------------------------------------\n",
        "## ----------------------------------------\n",
        "\n",
        "def get_input_volume(input_ct_nrrd_path):\n",
        "\n",
        "  \"\"\"\n",
        "  Should accept path to (ideally 150x150x150) NRRD volumes only, obtained\n",
        "  exploting the pipeline in \"lung1_preprocessing.ipynb\" using the functions above.\n",
        "  \n",
        "  FIXME: add as params also \"com_int\" and \"final_crop_size = (50, 50, 50)\"\n",
        "         (handling of volumes that are not 150x150x150?)\n",
        "  \n",
        "  \"\"\"\n",
        "  \n",
        "  sitk_ct_nrdd = sitk.ReadImage(input_ct_nrrd_path)\n",
        "  ct_nrdd = sitk.GetArrayFromImage(sitk_ct_nrdd)\n",
        "      \n",
        "  # volume intensity normalisation, as seen in:\n",
        "  # https://github.com/modelhub-ai/deep-prognosis/blob/master/contrib_src/processing.py\n",
        "  ct_nrdd_norm = normalise_volume(input_volume = ct_nrdd,\n",
        "                                  new_min_val = 0,\n",
        "                                  new_max_val = 1,\n",
        "                                  old_min_val = -1024,\n",
        "                                  old_max_val = 3071)\n",
        "    \n",
        "  # FIXME: handle exceptions for volumes that are not 150x150x150\n",
        "  ct_nrdd_norm_crop = ct_nrdd_norm[50:100, 50:100, 50:100]\n",
        "  \n",
        "  \"\"\"\n",
        "  # FIXME: debug\n",
        "  print(ct_nrdd.shape)\n",
        "  print(ct_nrdd_norm.shape)\n",
        "  print(min_x, max_x)\n",
        "  print(min_y, max_y)\n",
        "  print(min_z, max_z)\n",
        "  print(ct_nrdd_norm_crop.shape)\n",
        "  \"\"\"\n",
        "  \n",
        "  return ct_nrdd_norm_crop"
      ],
      "execution_count": 54,
      "outputs": []
    },
    {
      "cell_type": "markdown",
      "metadata": {
        "id": "PCaMbFT8hpP1"
      },
      "source": [
        "---\n",
        "\n",
        "### To Re-write (Plastimatch to SITK)\n",
        "\n",
        "Old scripts, exploiting Plastimatch. Re-write using SITK functions."
      ]
    },
    {
      "cell_type": "code",
      "metadata": {
        "id": "oO2_LrlActyb"
      },
      "source": [
        "def export_com_subvolume(ct_nrrd_path, rt_nrrd_path, crop_size, output_dir, subj_id,\n",
        "                         z_first = True, rm_orig = False):\n",
        "\n",
        "  \"\"\"\n",
        "  Main reason: save space\n",
        "  \n",
        "  Use plastimatch so that we don't need to load and then write NRRD through python (pynrrd)\n",
        "  \n",
        "  \"\"\"\n",
        "  \n",
        "  # sanity check\n",
        "  assert(os.path.exists(ct_nrrd_path))\n",
        "  assert(os.path.exists(rt_nrrd_path))\n",
        "  \n",
        "  sitk_seg = sitk.ReadImage(rt_nrrd_path)\n",
        "  seg = sitk.GetArrayFromImage(sitk_seg)\n",
        "  \n",
        "  # output dictionary contains info regarding CoM and the cropping op.s\n",
        "  out_log = dict()\n",
        "    \n",
        "  com = compute_center_of_mass(input_mask = seg)\n",
        "  com_int = [int(coord) for coord in com]\n",
        "  \n",
        "  out_log[\"com\"] = com\n",
        "  out_log[\"com_int\"] = com_int\n",
        "  \n",
        "  # if CoM calculation goes wrong, abort returning the out_log so far\n",
        "  if sum(com_int) < 0:\n",
        "    print('WARNING: CoM calculation resulted in an error, aborting... ')\n",
        "    return out_log\n",
        "  \n",
        "  # otherwise go on with the processing and the cropping\n",
        "  bbox = get_bbox_dict(com_int, seg_mask_shape = seg.shape, bbox_size = crop_size)\n",
        "  \n",
        "  # make sure no bounding box exceeds the dimension of the volume\n",
        "  # (should be taken care of already in the get_bbox_dict() function)\n",
        "  cor_idx = 1\n",
        "  lon_idx = 0 if z_first else 2\n",
        "  sag_idx = 2 if z_first else 0 \n",
        "  \n",
        "  # less and not leq at the second term --> the last slice of the volume is seg.shape[...] - 1\n",
        "  assert(bbox['sag']['first'] >= 0 and bbox['sag']['last'] < seg.shape[sag_idx])\n",
        "  assert(bbox['cor']['first'] >= 0 and bbox['cor']['last'] < seg.shape[cor_idx])\n",
        "  assert(bbox['lon']['first'] >= 0 and bbox['lon']['last'] < seg.shape[lon_idx])\n",
        "  \n",
        "  \n",
        "  # cropped nrrd files path\n",
        "  ct_nrrd_crop_path = os.path.join(output_dir, subj_id + '_ct_res_crop.nrrd')\n",
        "  rt_nrrd_crop_path = os.path.join(output_dir, subj_id + '_rt_res_crop.nrrd')\n",
        "  \n",
        "  if z_first:\n",
        "    xmin = str(bbox[\"sag\"][\"first\"]); xmax = str(bbox[\"sag\"][\"last\"])\n",
        "    ymin = str(bbox[\"cor\"][\"first\"]); ymax = str(bbox[\"cor\"][\"last\"])\n",
        "    zmin = str(bbox[\"lon\"][\"first\"]); zmax = str(bbox[\"lon\"][\"last\"])\n",
        "  else:\n",
        "    xmin = str(bbox[\"lon\"][\"first\"]); xmax = str(bbox[\"lon\"][\"last\"])\n",
        "    ymin = str(bbox[\"cor\"][\"first\"]); ymax = str(bbox[\"cor\"][\"last\"])\n",
        "    zmin = str(bbox[\"sag\"][\"first\"]); zmax = str(bbox[\"sag\"][\"last\"])\n",
        "    \n",
        "  \n",
        "  # crop the NRRD CT file to the crop_size subvolume\n",
        "  bash_command = list()\n",
        "  bash_command += [\"plastimatch\", \"crop\"]\n",
        "  bash_command += [\"--input\", ct_nrrd_path]\n",
        "  bash_command += [\"--output\", ct_nrrd_crop_path]\n",
        "  bash_command += [\"--voxels\", \"%s %s %s %s %s %s\"%(xmin, xmax, ymin, ymax, zmin, zmax)]\n",
        "\n",
        "  # print progress info\n",
        "  print(\"\\nCropping the resampled NRRD CT to bbox using plastimatch... \", end = '')\n",
        "  out_log['dcm_nrrd_ct_cropping'] = subprocess.call(bash_command)\n",
        "  print(\"Done.\")\n",
        "  \n",
        "  \n",
        "  # crop the NRRD RT file to the crop_size subvolume\n",
        "  bash_command = list()\n",
        "  bash_command += [\"plastimatch\", \"crop\"]\n",
        "  bash_command += [\"--input\", rt_nrrd_path]\n",
        "  bash_command += [\"--output\", rt_nrrd_crop_path]\n",
        "  bash_command += [\"--voxels\", \"%s %s %s %s %s %s\"%(xmin, xmax, ymin, ymax, zmin, zmax)]\n",
        "    \n",
        "  # print progress info\n",
        "  print(\"Cropping the resampled NRRD RTSTRUCT to bbox using plastimatch... \", end = '')\n",
        "  out_log['dcm_nrrd_rt_cropping'] = subprocess.call(bash_command)\n",
        "  print(\"Done.\")\n",
        "  \n",
        "  # log some useful information about the cropping\n",
        "  log_file_path = os.path.join(output_dir, subj_id + '_crop_log.json')\n",
        "  with open(log_file_path, 'w') as json_file:\n",
        "    json.dump(bbox, json_file, indent = 2)\n",
        "  \n",
        "  if rm_orig:\n",
        "    # clean up\n",
        "    print(\"\\nRemoving the resampled NRRD files... \", end = '')\n",
        "    os.remove(ct_nrrd_path)\n",
        "    os.remove(rt_nrrd_path)\n",
        "    print(\"Done.\")\n",
        "  \n",
        "  return out_log\n",
        "\n",
        "## ----------------------------------------\n",
        "## ----------------------------------------\n",
        "\n",
        "def export_res_nrrd_from_dicom(dicom_ct_path, dicom_rt_path, output_dir, subj_id,\n",
        "                               ct_interpolation = 'linear', output_dtype = \"int\"):\n",
        "  \n",
        "  \"\"\"\n",
        "  Convert DICOM CT and RTSTRUCT sequences to NRRD files and resample to 1-mm isotropic\n",
        "  exploiting plastimatch (direct call, bash-like).\n",
        "  \n",
        "  @params:\n",
        "    dicom_ct_path - required :\n",
        "    dicom_rt_path - required :\n",
        "    output_dir    - required : \n",
        "    subj_id       - required :\n",
        "    output_dtype  - optional : \n",
        "    \n",
        "  @returns:\n",
        "    out_log : \n",
        "    \n",
        "  \"\"\"\n",
        "  \n",
        "  out_log = dict()\n",
        "  \n",
        "  # temporary nrrd files path (DICOM to NRRD, no resampling)\n",
        "  ct_nrrd_path = os.path.join(output_dir, 'tmp_ct_orig.nrrd')\n",
        "  rt_folder = os.path.join(output_dir, subj_id  + '_whole_ct_rt')\n",
        "  \n",
        "  # log the labels of the exported segmasks\n",
        "  rt_struct_list_path = os.path.join(output_dir, subj_id + '_rt_list.txt')\n",
        "  \n",
        "  # convert DICOM CT to NRRD file - no resampling\n",
        "  bash_command = list()\n",
        "  bash_command += [\"plastimatch\", \"convert\"]\n",
        "  bash_command += [\"--input\", dicom_ct_path]\n",
        "  bash_command += [\"--output-img\", ct_nrrd_path]\n",
        "                   \n",
        "  # print progress info\n",
        "  print(\"Converting DICOM CT to NRRD using plastimatch... \", end = '')\n",
        "  out_log['dcm_ct_to_nrrd'] = subprocess.call(bash_command)\n",
        "  print(\"Done.\")\n",
        "  \n",
        "  \n",
        "  # convert DICOM RTSTRUCT to NRRD file - no resampling\n",
        "  bash_command = list()\n",
        "  bash_command += [\"plastimatch\", \"convert\"]\n",
        "  bash_command += [\"--input\", dicom_rt_path]\n",
        "  bash_command += [\"--referenced-ct\", dicom_ct_path]\n",
        "  bash_command += [\"--output-prefix\", rt_folder]\n",
        "  bash_command += [\"--prefix-format\", 'nrrd']\n",
        "  bash_command += [\"--output-ss-list\", rt_struct_list_path]\n",
        "  \n",
        "  # print progress info\n",
        "  print(\"Converting DICOM RTSTRUCT to NRRD using plastimatch... \", end = '')\n",
        "  out_log['dcm_rt_to_nrrd'] = subprocess.call(bash_command)\n",
        "  print(\"Done.\")\n",
        "  \n",
        "  # look for the labelmap for GTV\n",
        "  gtv_rt_file = [f for f in os.listdir(rt_folder) if 'gtv-1' in f.lower()][0]\n",
        "  rt_nrrd_path = os.path.join(rt_folder, gtv_rt_file)\n",
        "  \n",
        "  ## ----------------------------------------\n",
        "  \n",
        "  # actual nrrd files path \n",
        "  res_ct_nrrd_path = os.path.join(output_dir, subj_id + '_ct_resampled.nrrd')\n",
        "  res_rt_nrrd_path = os.path.join(output_dir, subj_id + '_rt_resampled.nrrd')\n",
        "  \n",
        "  # resample the NRRD CT file to 1mm isotropic\n",
        "  bash_command = list()\n",
        "  bash_command += [\"plastimatch\", \"resample\"]\n",
        "  bash_command += [\"--input\", ct_nrrd_path]\n",
        "  bash_command += [\"--output\", res_ct_nrrd_path]\n",
        "  bash_command += [\"--spacing\", \"1 1 1\"]\n",
        "  bash_command += [\"--interpolation\", ct_interpolation]\n",
        "  bash_command += [\"--output-type\", output_dtype]\n",
        "  \n",
        "  # print progress info\n",
        "  print(\"\\nResampling NRRD CT to 1mm isotropic using plastimatch... \", end = '')\n",
        "  out_log['dcm_nrrd_ct_resampling'] = subprocess.call(bash_command)\n",
        "  print(\"Done.\")\n",
        "  \n",
        "  # FIXME: log informations about the native volume\n",
        "  #out_log[\"shape_original\"] = list(tmp.)\n",
        "  \n",
        "  \n",
        "  # resample the NRRD RTSTRUCT file to 1mm isotropic\n",
        "  bash_command = list()\n",
        "  bash_command += [\"plastimatch\", \"resample\"]\n",
        "  bash_command += [\"--input\", rt_nrrd_path]\n",
        "  bash_command += [\"--output\", res_rt_nrrd_path]\n",
        "  bash_command += [\"--spacing\", \"1 1 1\"]\n",
        "  bash_command += [\"--interpolation\", \"nn\"]\n",
        "    \n",
        "  # print progress info\n",
        "  print(\"Resampling NRRD RTSTRUCT to 1mm isotropic using plastimatch... \", end = '')\n",
        "  out_log['dcm_nrrd_rt_resampling'] = subprocess.call(bash_command)\n",
        "  print(\"Done.\")\n",
        "\n",
        "  \n",
        "  # clean up\n",
        "  print(\"\\nRemoving temporary files (DICOM to NRRD, non-resampled)... \", end = '')\n",
        "  os.remove(ct_nrrd_path)\n",
        "  # FIXME: keep the RTSTRUCTs (latest LUNG1 has multiple structures --> additional checks afterwards)?\n",
        "  #os.remove(rt_nrrd_path)\n",
        "  print(\"Done.\")\n",
        "  \n",
        "\n",
        "  return out_log\n"
      ],
      "execution_count": null,
      "outputs": []
    }
  ]
}