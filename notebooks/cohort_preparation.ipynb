{
  "nbformat": 4,
  "nbformat_minor": 0,
  "metadata": {
    "colab": {
      "provenance": [],
      "collapsed_sections": [],
      "include_colab_link": true
    },
    "kernelspec": {
      "name": "python3",
      "display_name": "Python 3"
    },
    "widgets": {
      "application/vnd.jupyter.widget-state+json": {
        "1b6941338e5341f9897ef581cdd8967b": {
          "model_module": "@jupyter-widgets/controls",
          "model_name": "VBoxModel",
          "model_module_version": "1.5.0",
          "state": {
            "_dom_classes": [
              "widget-interact"
            ],
            "_model_module": "@jupyter-widgets/controls",
            "_model_module_version": "1.5.0",
            "_model_name": "VBoxModel",
            "_view_count": null,
            "_view_module": "@jupyter-widgets/controls",
            "_view_module_version": "1.5.0",
            "_view_name": "VBoxView",
            "box_style": "",
            "children": [
              "IPY_MODEL_caeb1c1aaae44b51a64d738d3f9f5f6e"
            ],
            "layout": "IPY_MODEL_02a2415bac1742f2a82e47e591796a78"
          }
        },
        "caeb1c1aaae44b51a64d738d3f9f5f6e": {
          "model_module": "@jupyter-widgets/output",
          "model_name": "OutputModel",
          "model_module_version": "1.0.0",
          "state": {
            "_dom_classes": [],
            "_model_module": "@jupyter-widgets/output",
            "_model_module_version": "1.0.0",
            "_model_name": "OutputModel",
            "_view_count": null,
            "_view_module": "@jupyter-widgets/output",
            "_view_module_version": "1.0.0",
            "_view_name": "OutputView",
            "layout": "IPY_MODEL_efb0d64fcc6e42bbb66d1e6257bd9375",
            "msg_id": "",
            "outputs": [
              {
                "output_type": "display_data",
                "data": {
                  "text/plain": "interactive(children=(IntSlider(value=0, description='Axial slice:', max=118), Output()), _dom_classes=('widge…",
                  "application/vnd.jupyter.widget-view+json": {
                    "version_major": 2,
                    "version_minor": 0,
                    "model_id": "cbbba8a18d7f4bc7bda3ba6fc67ad26b"
                  }
                },
                "metadata": {}
              }
            ]
          }
        },
        "02a2415bac1742f2a82e47e591796a78": {
          "model_module": "@jupyter-widgets/base",
          "model_name": "LayoutModel",
          "model_module_version": "1.2.0",
          "state": {
            "_model_module": "@jupyter-widgets/base",
            "_model_module_version": "1.2.0",
            "_model_name": "LayoutModel",
            "_view_count": null,
            "_view_module": "@jupyter-widgets/base",
            "_view_module_version": "1.2.0",
            "_view_name": "LayoutView",
            "align_content": null,
            "align_items": null,
            "align_self": null,
            "border": null,
            "bottom": null,
            "display": null,
            "flex": null,
            "flex_flow": null,
            "grid_area": null,
            "grid_auto_columns": null,
            "grid_auto_flow": null,
            "grid_auto_rows": null,
            "grid_column": null,
            "grid_gap": null,
            "grid_row": null,
            "grid_template_areas": null,
            "grid_template_columns": null,
            "grid_template_rows": null,
            "height": null,
            "justify_content": null,
            "justify_items": null,
            "left": null,
            "margin": null,
            "max_height": null,
            "max_width": null,
            "min_height": null,
            "min_width": null,
            "object_fit": null,
            "object_position": null,
            "order": null,
            "overflow": null,
            "overflow_x": null,
            "overflow_y": null,
            "padding": null,
            "right": null,
            "top": null,
            "visibility": null,
            "width": null
          }
        },
        "efb0d64fcc6e42bbb66d1e6257bd9375": {
          "model_module": "@jupyter-widgets/base",
          "model_name": "LayoutModel",
          "model_module_version": "1.2.0",
          "state": {
            "_model_module": "@jupyter-widgets/base",
            "_model_module_version": "1.2.0",
            "_model_name": "LayoutModel",
            "_view_count": null,
            "_view_module": "@jupyter-widgets/base",
            "_view_module_version": "1.2.0",
            "_view_name": "LayoutView",
            "align_content": null,
            "align_items": null,
            "align_self": null,
            "border": null,
            "bottom": null,
            "display": null,
            "flex": null,
            "flex_flow": null,
            "grid_area": null,
            "grid_auto_columns": null,
            "grid_auto_flow": null,
            "grid_auto_rows": null,
            "grid_column": null,
            "grid_gap": null,
            "grid_row": null,
            "grid_template_areas": null,
            "grid_template_columns": null,
            "grid_template_rows": null,
            "height": null,
            "justify_content": null,
            "justify_items": null,
            "left": null,
            "margin": null,
            "max_height": null,
            "max_width": null,
            "min_height": null,
            "min_width": null,
            "object_fit": null,
            "object_position": null,
            "order": null,
            "overflow": null,
            "overflow_x": null,
            "overflow_y": null,
            "padding": null,
            "right": null,
            "top": null,
            "visibility": null,
            "width": null
          }
        },
        "cbbba8a18d7f4bc7bda3ba6fc67ad26b": {
          "model_module": "@jupyter-widgets/controls",
          "model_name": "VBoxModel",
          "model_module_version": "1.5.0",
          "state": {
            "_dom_classes": [
              "widget-interact"
            ],
            "_model_module": "@jupyter-widgets/controls",
            "_model_module_version": "1.5.0",
            "_model_name": "VBoxModel",
            "_view_count": null,
            "_view_module": "@jupyter-widgets/controls",
            "_view_module_version": "1.5.0",
            "_view_name": "VBoxView",
            "box_style": "",
            "children": [
              "IPY_MODEL_10137eaa71e940389fefa5e84f876609",
              "IPY_MODEL_c85e7f83430f4b688b44095b86938e99"
            ],
            "layout": "IPY_MODEL_7909604e410e449095478423eaa385da"
          }
        },
        "10137eaa71e940389fefa5e84f876609": {
          "model_module": "@jupyter-widgets/controls",
          "model_name": "IntSliderModel",
          "model_module_version": "1.5.0",
          "state": {
            "_dom_classes": [],
            "_model_module": "@jupyter-widgets/controls",
            "_model_module_version": "1.5.0",
            "_model_name": "IntSliderModel",
            "_view_count": null,
            "_view_module": "@jupyter-widgets/controls",
            "_view_module_version": "1.5.0",
            "_view_name": "IntSliderView",
            "continuous_update": true,
            "description": "Axial slice:",
            "description_tooltip": null,
            "disabled": false,
            "layout": "IPY_MODEL_74f9850263e34a08abddc8de6dc53909",
            "max": 118,
            "min": 0,
            "orientation": "horizontal",
            "readout": true,
            "readout_format": "d",
            "step": 1,
            "style": "IPY_MODEL_5594bf0cbf7946d292d97b58fd8af8c8",
            "value": 44
          }
        },
        "c85e7f83430f4b688b44095b86938e99": {
          "model_module": "@jupyter-widgets/output",
          "model_name": "OutputModel",
          "model_module_version": "1.0.0",
          "state": {
            "_dom_classes": [],
            "_model_module": "@jupyter-widgets/output",
            "_model_module_version": "1.0.0",
            "_model_name": "OutputModel",
            "_view_count": null,
            "_view_module": "@jupyter-widgets/output",
            "_view_module_version": "1.0.0",
            "_view_name": "OutputView",
            "layout": "IPY_MODEL_9671a82e97cc441892747ead863eb379",
            "msg_id": "",
            "outputs": [
              {
                "output_type": "display_data",
                "data": {
                  "text/plain": "<Figure size 800x800 with 1 Axes>",
                  "image/png": "iVBORw0KGgoAAAANSUhEUgAAAx0AAAKMCAYAAACO1NXBAAAABHNCSVQICAgIfAhkiAAAAAlwSFlzAAAPYQAAD2EBqD+naQAAADh0RVh0U29mdHdhcmUAbWF0cGxvdGxpYiB2ZXJzaW9uMy4yLjIsIGh0dHA6Ly9tYXRwbG90bGliLm9yZy+WH4yJAAAgAElEQVR4nOy9eXwX1bn4/0x2srBDCGGtiaYQUIxSEaq1vqzWnWLRiwrW1ip+FYtg9QpG5bq17ljqUhcUrXipvfxay7XWagWBCxoRWUSD7AYiYCCBkPXz+f2BQ4fjWZ6zzHw+SZ7368WLZObMOc+cOXPOs52JF4/HgSAIgiAIgiAIIixSEi0AQRAEQRAEQRDtGzI6CIIgCIIgCIIIFTI6CIIgCIIgCIIIFTI6CIIgCIIgCIIIFTI6CIIgCIIgCIIIFTI6CIIgCIIgCIIIFTI6CIIgCIIgCIIIFTI6CIIgCIIgCIIIFTI6CIIgCIIgCIIIFTI6CIIgCIIgCIIIlYQaHZ7n/T/P87Z4ntfged4Kz/NGJlIegiAIgiAIgiDckzCjw/O8SwHgEQC4GwBOBIDVAPB3z/N6J0omgiAIgiAIgiDc48Xj8cQ07HkrAOCDeDx+wze/pwDAdgB4Ih6PP6C41gOAvgBQF7qgBEEQBEEQHZc8AKiKJ0phJNoNaYlo1PO8DAAoA4D7/WPxeDzmed7bADCKUz4TADIDhwoAYEPYchIEQRAEQRDQDwC+TLQQRNsmUelVPQEgFQCqmePVANCHU/4/AWB/4B8ZHARBtEkOB2oJgiDaFJRZQliTkEiHAffD4f0fPnkAsCNBshAE0YbgKfl+lkAiDADP88DzPOBlKvjyyLIYRNf6BO8tHo8fVWfwfilTgiAIgoiSRBkdewCgFQDymeP5ALCLLRyPxxsBoNH/nTyFBEHIEM0RrCKuUuDDAGMw2BK8v+Cx4P2SAUIQBEFESULSq+LxeBMAVADAmf6xbzaSnwkAyxMhE0EQbQdfgfb/paSkHPW7CF3lGuvg4Cn5YYG9Bx3ZRX2n6k+CIAiCwJLI9KpHAOBFz/M+BICVAPArAMgBgBcSKBNBEEmGK6WXF9Ww8fAH6xOlSrGpTsFzmPZNIjHYulXXB0lJSYF4PP6tFC2bdgiCIIiORcKMjng8/prneb0AYBYc3jz+MQCcE4/H2c3lBEG0c0T7Ltj0IPY4T+k3MS5EqUai63jKt3+cd42psSMzZnwZZPs22Ots4UVCgjLJ5CYIov1SUVGRB4e/LJrQPzpNRE4rAGwtKytrwhRO2N/psMHzvM5w+CtWBEG0EXQUZNH1/nW847xzweOitmQbrHnXeJ4HsVgsoWlHogiIaoM8JuIiM+5c0BbXHIIgoEs8Hq9lD1ZUVKQAwO2pqakTPc9LBwDKx+xYxGOx2O5YLDa2rKxM+UllMjoIgggVkeIe9NTr1GWr8NtuHjeR2eU8yxoFqtQuFl4EyfRrWbqGo6gOgiCSHpHRMTM9PX1ynz59mnJycuo9z6MXugMRi8W8HTt29Kivr/9bPB6/pqysLCYr31Y+mUsQRBuAjWbwzgHw06LYMrI2bOTDtiNC97owDA6XdSRC6Rftd0nE18QIgjCjoqKic2pq6sQ+ffo09e7de2+i5SESQ35+fu3WrVtPb21t7QEAu2VlKfeOIAhrgl85kqUxqbDd6O0y5clE+Q075QrbP1GkQ7m8V8z4IQgi6ejjeV56Tk5OfaIFIRJHRkZGk+d5aQDQTVWWIh0EQWiB3RsRZlu8cjqKdrJ503XkF+3lSNQfOlSdx2ysx9SbbM+MIAhIAQCPUqo6NoH5WhnIoEgHQRBSZH/HIVhGdEz2WVlVHaJyIo+/6g/vib4uZSMPljCNgkQYHKoN92wZWzDjkCAIgkheKNJBEMRRqBQ60d9qEO0VwKbNYNOvTBVOX1kN02OO+WvjIqMJK5vsi1KyOmzuXbRXR/Wp4rD6m/6qOkEkN5WVlRnV1dWR6Jj5+fktxcXFqE+2uuKzzz7LKCkpGbZ06dL1p5566iFX9RYWFg679tprq8vLy79yVacts2fP7jFjxoz+dXV1H9vWRUYHQRAAoP/Xt7FlVYq4brqWjeHhQjENS7G3Sa+yPYdtU3cPicgICf6tEf+4DiIDByMTQRDhUllZmTFs+PDSxoaGSEKSmVlZ8TWffLJWx/CoqqpKu+WWW/q+8847Xfbu3ZveuXPn1pKSkvry8vKqH/3oRwdV1x9zzDFNW7duXV1QUNBiJ70Zf/3rX/Meeuih/NWrV+c2NjZ6ffv2bfrhD3+4//bbb68ePHhwcyJkwkBGB0F0QGRfmTKB9dRj/76DrH3XKTS+jDqGge4nacNWdHmefVfRBJN6dMcQa7zYfokMYwDSF7EIIlqqq6vTGhsavNN+fnd9176DpZ9QtWVf1eaUxc/dmV1dXZ2mY3RceOGFxzQ3N3vPPPPMluOOO67xyy+/THvrrbc67969G6UXp6WlwYABAxJicDz44IM9b7vttoE/+clP9r788stfFBcXN27atClj7ty5Pe699978Z599dodJvQ0NDV5WVlaokyUZHQTRwQjjK0HJ8uUhnRSlRCmithEHlUff9N6S8WtdKlQGYaLlI4iOTNe+g2O9Bg9tTbQcLHv27EmtqKjIfeONNz4777zzDgAAHHvssU1nnHHGka9weZ5X9sADD2z729/+1nXlypV5PXv2bP6v//qvHT/72c9qAL6dXvXGG2/kXXDBBccuXLjw8xkzZvT74osvskpKSg7NnTt38/HHH98IALBu3brMKVOm9Pv4449zDx06lPKd73yn4Z577tlx8cUX12Fl/+KLL9JnzJgx4Kqrrvrqueee2+4fP+6445p+/OMfH9izZ0+qf2zu3Lld77nnnsJt27Zl9urVq/kXv/jFV3fffXe1f76wsHDYhAkT9mzcuDHzH//4R7ezzz675vXXX98ye/bsHvfff3/fffv2pY0ZM6b21FNPPWDX4/+GNpITRAcgig24LvZshAnmS0vsz2FGM7DPIwrFOYpnY/NFKlW54HmRIUKb0AmCAADo0qVLa3Z2duzPf/5zt0OHDgknhAceeKDvxRdfXLNy5cp148aN23vNNdd856OPPsqS1V1eXl74m9/8Zvv777//aWpqavxnP/vZYP9cbW1tyjnnnLP/zTff/GzFihXrzzzzzP2XXXZZcWVlZQZW9pdffrlbc3OzV15evot3vmfPnq0AAEuWLMn++c9/fszYsWO//vDDD9fdeuutVb/97W/7zp49u0ew/FNPPZU/fPjwQytWrFg/a9asne+8807O1KlTB/385z//asWKFetPP/30ukcffbQAK58KMjoIop2iq2Tp/pVt3eujSKXCbkZXGRM6Sq5LMP2g8wWuYL26/W+ioMvKi/aFYPpd9tU0npyYsUgGCEF0TNLT02HOnDmb//SnP/Xo1q3biBNPPLHkhhtuKFyxYkWnYLlzzz235uabb94zfPjwxscff7xq6NChBx955JHesrpnzZr15XnnnXegrKys4ZZbbtm1atWqnPr6eg8AYNSoUYduueWWPSeffHLDsGHDGh9//PGq/v37Ny5YsKALVvbKysqs3Nzc1oEDB0r3bTz44IP5p5xySu2DDz64c/jw4Y1TpkzZO2nSpN2zZ8/uEyx3yimn1N19993VQ4cObRw6dGjjo48+2vv73//+/nvuuad6+PDhjTNnzvzqtNNO+9ZfojeFjA6CaCeYeHNN/7q2ahMvTzZXcvDuT+eek0HhZDdSy0jUXzTHfBJXdg3bLi8Fj30Ous/ExAATyZboMUEQRHRcddVV+3bu3Ln61Vdf3XjmmWfuX7p0ad7o0aOHBCMBo0aNOmpD+UknnXSwsrJSGuk4+eSTj3zJql+/fk0AAF9++WU6AMD+/ftTfvnLX/b7zne+MzQvL++E7OzsEZs2bcratm1bJq+uCRMmDMjOzh7h/wPArwcbN27MOuWUU45KixozZsyBrVu3Zra0/HsryoknnniQua7TSSeddNSx733ve87Sq2hPB0G0YWy+4sRT3E3bcx0ZUH3VyqT+4KbisPZ0YL9sJfrUrOhTujrtmfaPrC7bvrLduK+L7QZ1n0SnBBIEER7Z2dnxsWPH1o4dO7YWAHZeeumlAx944IG+U6ZM2WtaZ0ZGxpFJw59LYrHDe+knT57cb8mSJZ3vvffeHSUlJY3Z2dmxSy655JimpibuhPXggw9W3X777dXBY8cee2zDgQMHUrdu3ZquinZgyMnJCXWjPwtFOgiiDYL9OpTqehvlLEyFzDZywisv+vKTKbqecUxal039KnSiTVF5/YN94iJq4RqKgBBEx+G73/1uw6FDh47oxf/3f/+XEzxfUVGRU1xc3GBa/4cffph72WWX7Z04ceK+kSNHHurfv3/zl19+KdzPUVhY2FJaWtro/wMAuPzyy2vS09Pjs2bN6sO7xt9IXlRU1PB///d/ucFz77//fu6gQYMa09LE8YaioqJDH3744VH3vXLlyhxReV0o0kEQbQxXX4py+cncqDFNC5Mdj+KLVqK9E64+f+sqkoPZE+G6r5J9LNKndwmifbBr167Uiy+++JiJEyfuKSsrO9SlS5fWZcuW5fzud7/rc9ZZZ+3zy/3tb3/r9thjjx384Q9/eOCFF17osWbNmpznnntui2m7gwYNanzjjTe6jR07dp/neTBjxozCeDyuNfEVFRU1z5o1a/vtt98+oK6uLmXSpEl7i4uLm7Zs2ZI+d+7cnjk5Oa1/+MMfdvz617+uPv300797yy23FFx55ZVfv/fee7kvvvhir9/85jfbZPX/6le/+upHP/pRSXl5ef5Pf/rTfX/96187v/fee+g9JyrI6CCINkBQmUwWkkmWRGH6aVpeahsmTcpF+y6IOl3KbzPRY842wkgQHYl9VZtDz6YxaaNLly6xsrKyg3PmzMnftm1bZktLi9enT5+myy+/fPe999670y936623Vi1YsKD7rbfeOrBnz57NTz/99KaysjLjSMcTTzyxfdKkSYPOPPPMkq5du7ZMmTJl14EDB1LVVx7NbbfdtrukpKTh4Ycf7jNhwoSixsbGlL59+zaeddZZ+/10rDFjxtQ/99xzX9xzzz2Fjz32WEGvXr2ab7nllipV6tiZZ5558OGHH97ywAMPFD744IN9R40aVTd16tSdjzzyiJMvWHltcfL0PK8zAOxPtBwEESaiL0S5/NKTSyUuWZTCqOY0XluY9tl+cikzG+kQRVFEyrOOLJjnrXtvyRxNEMmWrPIShGO6xOPxo75iVFFRUZKWlvZmcXHxgezs7CPKeFv4i+QqPM8re+mll7648sor96lLd2zq6+uzKisrc1taWs4pKyvbICtLkQ6CSDJkCqnOF5pUqUOy6Ekye3RFKUQmBo9McVYpwFgFlO1Lm/Q41XPx90XwymEjKar7Nv0Cluy8yR6dMD8IwEP1Od9kfFcIIhEUFxc3rfnkk7XV1dWR6Jj5+fktLg0OIjzI6CCIJMBEcREpbKIIiahNUd1BmVhDKBaLGX39SgeVJ92F15k1ADB/M0IFKzdmP4lp3Tx0NoybyBSWci0zIKL48pgJwefB9nuyyEgQiaC4uLiJDAGChYwOgkgQPCUFq6zKvqiD/eyqqRdaRzHFGCKiPQ6qunn95SukuilMLhXEoBIqMoxUG8pV18vqwconOx+mwixS1E2iK7IN+In6MECU7RMEEQ7xeLwi0TK0R+iTuQSRJIjScETldOp1rZxi6tNJBTMBa3SJjtm0jblet03djeQmbevKEXY0S7duF888DFTvaqL3OhEEQSQDZHQQRIT4BoCJQh/GHoCwkO0TwRD05rtov716nG0MNtP0Lp02dI4nC64N1GS/X4IgiKggo4MgIsA02mCLzRelsGlUGI98lB7fjqzkuR5nNsaa7v4kbLqfi/ZU6KYjYiNLiZoHCIIgkgEyOggiRHSUDJsNwGFch6kPc3++QhlULF3IZLJPxQWyfQhRK5SylCzbDedhEHb0A5saZps6qCOLKOqXkkLLL0EQHQua9QgiBFhl3JUCiPEI26IyDFwojsH0HtPPs+p8kcv2C0PY62z2Urjed6PyzCdik3WYbbLvnMwgM42amOxxMf0gBEEQRHuDjA6CcIhIicAoOWEoZDYbnXW9wbqbeaNKuTI1BMKKaCR607MM03HIu043HQljmGO/dhUWLva08Oqj1CuCIDoC9MlcgrAkSkVBty3TKIJNva7a0EX0+dSwFVW2ftk+GtEGbp4HPRFKNRudk32SVnatTjs+utGHoNEaNHrC+owt71rV+4XtM/aDD4l6/gThisrKygz644AECxkdBGEBZj9De/deJss9upYBq/Tx/iZIVG2bXItVaFUKMGuUuMDvS96YMklRZOuJamO8bnmekUyGB9FWqayszBg+bFhpQ2NjJAtDVmZm/JM1a9bqGB7jxo0btH///tS33377i+DxN954I++CCy44dvfu3R/37Nmz1b20h7n55pv7Llq0qOuGDRvWh9VGMkJGB0EYkgyKti3JYjC0dRLVj1EopWG1ITMsTD6vzCOqr6WF1UdsBIQg2gLV1dVpDY2N3iOjRtUXd+0SC7Otyn37U25evjy7uro6rS1EO2KxGLS2hmbLJD1kdBCEBhglRtcDHKbCGoUyLPJMJwsYT72r6ICPqD8S8fdSVPeOJZHPOB6PQ0pKyreeV7KOOSxYo4KMD6ItUty1S+z4Hj3atIb997//Pff2228vXLduXU7Xrl1bzjnnnJrZs2d/2blz5xgAwJw5c7o/+eST+Zs3b87q1KlTbNSoUbVPPfXU9sLCwhaAf0dOXnvttcq777678PPPP+/08MMPb3300UcLAAA8zysDAHj88ce3TJkyZW/i7jQaaCM5QSDR+cKUab2u9x+YfjUr2ZUbna9U2dyLynCIMpVKN4UL+2wTtT9HZ+zxIiLYqEgyfKgAe63uZnqCIMJj3bp1mWPHji2+6KKLaj744IN18+bN+2LlypW5V1999QC/THNzs1deXv7lBx98sO61117buGPHjswJEyYMYuu64447+t1zzz1ffvzxx+suuOCC2muuuaa6qKioYevWrau3bt26+uqrr/460ptLEBTpIAgBOkaGKE3ENA88ygiF6FwyY/PJWp2yqkiI6DOsOpuZTYxZrOy+kiqLdsi+3KX7BSqRDDJ4m6ix7am+zhb2vgg2WobZV8I7z/sZ+34mu4OAIJKVf/3rX12zs7NHBI/FYrEjL9esWbP6XHzxxV+Xl5d/BQAwbNiwxkcffXT7ueeee1x9ff3W7Ozs+K9+9asj0YkhQ4Y0Pf7449tOP/307+7fvz+lS5d/p5bdcccdVWPHjq31f8/NzY2lpqbGBwwY0BLuXSYXZHQQBIewv8Tjqm1eu9gvIam+tCSSzVT5i4IolTEXSqbqOK+u4DGVUu3COJPh4tmySjfv3nipcKp7lxlcKnQ326vqCpaXPTs2jcylrARBHM3IkSNrn3nmmW3BY0uWLMm5/vrrBwMArFu3Lvvzzz/vtHDhwu7++Xg8DrFYDDZs2JB54oknNixZsiT7zjvv7Pvpp592qq2tTYvFDtsZGzduzCgrK2vwrxs9evTBiG4rqSGjgyAChLGA6ypmptEOk1QpXYUR64kNlsd4ul0pWVEqX6p0J160wOReTSMjNmANIJN6VVEgkQy6e4dsjXddbFLeguex+4wIgrAjOzs7Vlpa2hg8tmXLlgz/5/r6+pQJEybsnj59+lfstUVFRU21tbUpF154YfH3v//92hdeeGFzfn5+y+bNmzPGjRtX3Mh8uSsvLy/UDfVtBTI6CIIhqtx110SlpPiKka6X17QdlihT0HiIPNRh4WojuE37qj00IkRphybtm9xvMivuLmWjdCuCcE9paWn9559/3ok1THw++OCDTvv27Ut75JFHdhQVFTUDACxfvjwbU3dGRkbMj4p0JGgjOUF8Q7LtY4jaU+sK030surh8Xq6fvchb7fpeo/jYgG450bVRj2fbvvENa6yB7QrbtpJtHiOItsqMGTN2rVq1KmfixIkDli1b1mnNmjWZL7/8cteJEycOAAA45phjmtLT0+MPPfRQ/vr16zNeeeWVLr/97W/7YuoeNGhQ044dOzKXLVvWaefOnWmHDh3qEC8uRTqIDo3LT1HKPMIYr7xLz32Yioeqr1y1bbLnxKYt12Wjjn6Ehc5+nWAKVPD5YZ8jL6Ih29PiCtVeKJsIjck1upEd3nPwjxNEoqjctz90x3aYbXzve9879Oabb352++23F5511lkl8Xgc+vfv3zh27NivAQD69u3b8sQTT2yZNWtW4QsvvNB7yJAh9ffdd9/2yy+/vEhV96RJk2oWLlzY9Zxzzjmurq4utaN8Mtdri5OS53mdAWB/ouUg2i6u9xkA2BsdhByblCKTa1kF2hTMxnKVoinbH8Lb85EMqVeu65al24X9boW9IZ13HYB4X4sIUZ+1xXWeSDq6xOPx2uCBioqKkrS0tDeLi4sPZGdnH9k03Rb+Ijnhjvr6+qzKysrclpaWc8rKyjbIylKkg+hQYJQTU2ND9iWjRBkctgqZC4WO3RxrWl9YipPpF6CC18vK6X4MQLaPxf/Z1rCI0jBxJauL/sW0BeAuLY4XrcN8dUtWnygaJBs3FPkgoqS4uLjpkzVr1lZXV0eiY+bn57eQwdE2IKODIAKYKDCYdAgdxcs0xULUrm77vOttwLbrKpLhSqGOKr1LdxMwL91I9jvveheGC0+WoAw2im6iIoM84y4RsHIAyA0HbBpYlMYm0bEpLi5uIkOAYKGN5ESHABttEG0cVS3UOmkx2HQHl8qBiWIaRtthpuLwfpYdw5zDtu3KyOHBGiUu5JW154K2sDcpKoKGv2maXzJ/NIEgCAILGR1Eu8ZkweZdk+iFGqNs6igzmE3trsD2nYkyFjZRb2LHeKqxG7LDJtmNFtMUpkQSlVyJTPkkCKLjQkYH0W5x+RUll9eZpnBhyrjKRW8LhGmkyMq6VtZMU+Bs5HBxD8mutPLkczUGgrh6x7B7g3QjeZg2CYIgooCMDqLdoePFCzOiYRpNECmftrKJPOrYVC+btByXSpFow75r5U9E1IZcMF/fpSLs0tvt2jAPnneRGseOXZ19Rrp7U2QflTAxKNjrbY0ptk5fXjJACIIIGzI6iHaFbv47JjKgq6BjCGuBFxlRsk2x7Jd1TMuEAU9u0TPCyI5tMxF7blRpViaGlW1KXrBN3hjgKay2HyzQ8eRj0tF02xcdE5UJ9oUvq8lzUs09YThEki2NlCCI9g0ZHUSbR+Sps/l6Dk/R1f2ajaq86pyO4qurfInqlnmCsfciU1JFYLzZNs8xmZQp9j5EiqtuPTxE943xurOy8T6GwKvHJIVJZXDZPj+T8Se6P9F1YXycga1f9jx165VFTZLpfSEIov1ARgfRLhEp41iPrI4iZbNA2252jSpiYnKta4XMxGsd1peawkpN0k11E4ExQmXvBvZ5iCIyGFSGL7aPMSlJyUCyyOGju4eIIAjCFvo7HUSbxlXKkE1bsvJRLeo2eyZcyBhU7tm+D/srRyql3dTwCEv2sL32AHZpVbb37OL+TFLiXKbXtTVPfzBS5jIFlIwSwpTKysoM+uOA0bNt27a0yy67bPCqVaty09LS4nV1dR8nWqYgZHQQbRKbjZOuMUltSMa0nzDAeORtnomOV911XydaKVO1b5IOqIssRctvP4rn2xHeI0z0KoyInt8+QWCprKzMGD5sWGlDY2MkL2ZWZmb8kzVr1uoYHuPGjRu0f//+1LfffvuLMGXTpbCwcNi1115bXV5e/pXJ9ffff3/+7t27M1auXLm+e/furW+88UbeBRdccOzu3bs/7tmzZ6treXUho4Noc7jcVxE1ySBPMH0lLCUFe9w1UbUffI6qVL6oFDbZ83TxrLFjl9c37HlfJlkdWPzICC8lUndfVKKUexVhGMwA+kYdGR8Ehurq6rSGxkbvkVGj6ou7domF2Vblvv0pNy9fnl1dXZ1G0Q6AzZs3Zw4bNuzgsGHDGgEAVq1alWiRjoKMDqLNYJreZOLxTUlJMfYiy9oNW/nGKESJ9tAHUSnJJkaarWHH6x9Z2hh2c69pv+sqz8Hrgtdj+0XUHm8si8qpNirL7kG0eV1WnhdVMYmS2KSuse1jIlGqeUbVBqYdvy3sfjbRNdi2CMKnuGuX2PE9eiTcu67D7Nmze8yYMaN/MC1p3rx5XSdOnHhMPB6vAAC4+eab+y5atKjrjTfeuOu+++4rrK2tTT399NNr582bt6Vbt24xAICampqUSZMmDfzHP/7RNTc3t/WGG27Y9be//a1baWlp/fPPP7/dVL6XX36563333VfwxRdfdOrVq1fzpZdeuueBBx7YmZ6eDoWFhcOqqqoyAAA8z+vxk5/8ZO+f//znHgAAvXr1OgEA4Cc/+cne119/fYtFF1lBG8mJpEeluMs2pJru28BschXJEovFuOdc4cJDLKvDRG6TfpalmJnuSdBRrFXGAqtAitpXKbqqiIgKWV8E+1CmPJvsk8DK5RsYJntmZM9At07Z84oCkcwq54QIXv+Y7lnCGsaYa8IYSwTR1ti+fXvmX/7yl24LFy6sXLBgwcYVK1bklpeXF/jnJ0+e3L+ioiJ3/vz5GxctWvT50qVL89avX59t0+abb76ZO3ny5EGTJ0/+atWqVWufeOKJrfPnz+952223FQAAfPDBB59+//vfrz333HNrtm7duvqZZ57ZPnfu3C8AAFavXr3WP2Z353ZQpINIaniKKXZRx54PwnpO2eMqJQDblus0K5f1ucztx5Q3VXx0jgfPmyjIonZ4ERAW155hjFffxOMPwDeusONKJ6onixaIokiJiBzy2pLJHgRjDMhgn6FppFd0TnRMx3FBUQ+ioxKLxWD+/Pmb/cjGuHHjvl68eHEewOEox+uvv97jmWee2XzRRRfVAQC8+uqrW/r16zfcps1Zs2b1veGGG3bdeOONewEAhgwZ0rRz584v77rrrn4PP/zwzr59+7ZkZGTEsrKyYgMGDGgBAOjxTaSpb9++LbSngyAkuE6RsWlb5ilURQ0wqSq2hKl8ReFBxsKQb2oAACAASURBVHh9w1BwVClCImwVQhtECqNOygy2PGZsm7wbYUfTwhgrquccZuqcyvgykUcnFUwmFxkeREeksLCwyTc4AAAKCgqa9u7dmw4AsGHDhsyWlhZvzJgxB/3zPXr0aB08eHCD//ttt93WZ/bs2UciI6tXr16n2pPy6aefdvroo49yH3/88SPXxWIxr7Gx0aurq0vJy8sLdf+MC8joIJISWyWurSyEOos2z8ONRUcxFu1fwOTim4JVvGyfa1iGS1tBJatsH0ZU71Qyv7uuZFNF3HSjFLq4dCSQ4UG0J1JSvr3roLm5+VsvSVpa2lGDXvc9mDp16u4rrriixv990KBByk3whw4dSp0+ffqXl1122T72XHZ2dtIbHABkdBBJRrIocKIJBJNOo4NJWpIojcPVPg1Z6oVu/ZhIkF9OBsaoMfG6q/buyLBRtkyulV3jUukzTZXTiQ7KzsvacWn4Yt9x3esTheuIGy+FTxW5Sqb+IAgTevfu3Xzw4MHU2tralM6dO8cAAFatWqW1F6OkpKQxLS0tvnTp0mw/erF3797ULVu2ZJ1yyikHAADy8/Nb8/PztdKdhgwZUv/5559nlZaWNmKvyczMjAEAtLS06DQVGmR0EEmF7sIZZmqLrlIRLG+buiDKX7dJ1XKllOnULdr7gJEp6A3GyOLK6BLJ4bIsZh+LbJ+Ga1SGQPA5sGCfDca77kKRt00V0nmfTNvkPVs2hUoFr81gPToGvc5xWbvJZogRhIy6urrUZcuWdQoeO+GEExqysrJiN910U+H06dO/WrJkSc5rr73WQ6febt26xcaNG7d35syZ/Xv06NFaUFDQPHPmzL4pKSmo+eXLL7/MYOUqLi5umjFjRtWll15aNG3atKb/+I//qElJSYEPP/yw09q1azvNnj27ildXUVFRk+d5sGDBgq7jxo3bn5OTE+vSJdzPGMsgo4NICtgFkrd4YRUXH12PanDBVinRsvbYspi9AS6iAbawSo+OweH/b5LDr1J6wjQqZe2zcmCOu3hGup724HvB/oyVKaiomqT1YN9FVVmMMeaXU0VSMJERmYw2RoSqHtlco4po+cq97JisPVUbfrlYLMaN6qocH2R4ED6V+/aH/oVUmzZWrlyZN3r06CHBY+PHj9/z9NNPb545c2a/+fPn9xw1alTdrbfeWjV9+vSBOnU/+eST2ydNmjRw/PjxRf4nc6uqqjKysrKUCv8zzzyT/8wzz+QHj82ZM2fz9ddf//Vrr7228d577+37+9//vk9aWlp88ODBDZMmTdojqmvw4MHN06ZNq5o1a1bhTTfdNGjs2LEJ/WSu1xYnB8/zOgPA/kTLQdiBVSLYa1ReQtU5kzQcG3heTJ5XM6yIhck1rtpQKSAuFRQTj7uLOsMEawi7StWSedtdGIEu3i/dd9o1POcHq6DzymHPBcsAmKUeBn/nyaYjB+8a7GfB26J+QQjpEo/Ha4MHKioqStLS0t4sLi4+kJ2dfWSTdFv4i+RRU1tbm1JYWDh81qxZO6ZOnSo0Etoi9fX1WZWVlbktLS3nlJWVbZCVpUgHkRRgUxts0osw5WVymCriGHlkER5e+bAxaUPXqDFB5QW2bdckzUV0rQjddK0wFDud6I5u2pGMsOoI+50IPjM2kiIbjyIDCYONsc4+P5fGs2osJNpQJxJPcXFx0ydr1qytrq6ORMfMz89vSTaDY+nSpZ3Wrl3bacyYMQdrampS77rrrgIAAN4m8I4EGR1EQgjTq2/STlh1YRWkqFKoosYkVcekPtO6EjE+dO8hijGhUqBN6gJoPwqorhFmmqaGwaRPTQ11m7ZM0vyI9kNxcXFTshkCUTN79uz8qVOnZqWnp8eHDh168J///OdnBQUFybGjO0GQ0UFEjirU70oRNK1LJzc6bGyVtrau9Jnk1ps+c5fe/LbW56oxrxP9M40UhUFY6ZIssjkt2caDKyNAVU+U8yRBJBujR48+tG7duk8TLUeyEfomH4II4i/A2IUq7ChH2Atj8D51039UURKd+sJIC4uCMOUwffYuxwwvDUZ33CZCuXOxLyMKXDowEnEti8o4dCGDidGITSMlCKJjQ0YHERnJuOiYbKI0rUtXUeQZZzKjBKuwYkjGZ4XBxmhln4/NXiGRwcjWK1LwMPs4ojQMdfYlJEIBdWVUJ4ORorqePRdMZRPBjjPXUQ5sv7XVeYUgCDeQ0UGETnCB8tMdRKkawfLs9aboLLLYhdv/XSWb6LzNV21418fj8SNflFG1janTpVIr8uCb1q+bbiWSiS2HjUph8uN5BoSqT7EeZp6SKTrmatN1lJ5+nU3uAObpbKbe/0QRVZoW1nmCnad4z8ulg4QgiLYDGR1EaAQXFoxCxVvMXHnlbDb5+jLwFH0d77RLRAYQr+9k0RJRna6VApHywftZJ2Kkc15mzLre+xME2/+i5yWqj2fMYN8d3QgQtk95x3hedtlYwMgTxGR+UDk+XICNZmKvlc1NOm1iUBndojGt65ghw4MgOhZkdBChwDMgTDxcNgu3K6L2ypkq1bZlVYQZmXCpOGEjEboeddv2fWQKvE5kIqr0Kpf9JLo/m+fvKoJm45gwLWcz1m0MNxWmzyBZ9oIRBJGckNFBhEp792S5TEFyWS6MOmzaTuZx4Coi4EKOqNqxiQ6I9qWI6hWl17DnXXvsMdECnQibi/Zd1x/sy2QYwyZQqhVBdBzok7mEc6JeQHxPaaIWLpu2Rdfyjgc9wjobOHVk090Yqgt7DzYGUFDW4H4h3XpkmOztsKGteIp1Fdww309MZEv3Wll5kzGWyKiU6X4X2fzDgrnHRM7RRPRUVlZmdOQ/DkjwIaODcIpLBRezSPllwl7MRLK4Uih0UiVcGgZRpUXwvNn+77J0I9awYOsL/my6R0QH1fO2VayiUlB5/Wkid/A67Lsqe5eCZVXtiRBFYfzfZX2sqj94r2xkRrTPgdeWy+dsU5fOc7c1wLHPra0Y3oSYysrKjGHDh5c2NjREYmVmZmXF13zyyVpdw2Pbtm1pd955Z8E///nPLtXV1Rm5ubmtAwcObLz00kv3vvzyyz3Xrl2bLbr2hBNOOLhly5bMyZMnV99333272PO33HJLwfPPP9+7qqrqk8zMzKMGdX19vXfllVcOXLNmTfamTZs6/eAHP9j39ttvf6Eje1uFjA7CKTqLmIu9C6ZRDl3PnEwxZsuyv7PnVG1jzutgomTJ+lRkCGCepyiVBrtvAGtwufKq8mRTeXxVmHjXdeTDnLMxcnXl53nMTetj37GUlBSUMiwas1hZWTlFBoZKDpUMQSeKbNxh78cV7LNSzQ/sOUx52b0TbYvq6uq0xoYG77Sf313fte/gmPoKc/ZVbU5Z/Nyd2dXV1Wk6Rsf69eszTj/99JK8vLzW8vLyL0888cRDWVlZsY8++ij72Wef7Xnttdd+deGFF+4HANi8eXPGD37wg+8uXLjw8xEjRhwCAMjMzIz/53/+Z98//vGPPVmjIxaLwfz583tccskle1mDAwCgpaXFy8rKil177bVfLVy4sJttH7QlyOggrHGdWqRbzsTwcOGZk8km8rqzbWO8/GEj8sTy5OB5jnn1qe4L69UWyeUKjBIlehZYr7iO0YI5jwVrjGDvw7R9kQJqYrxglHeRwm6CjoyylCTd9kXjzVWUUxUhls1ZmHpF9fGejW842hijRHLSte/gWK/BQ1sTLQePa6+9dmBqaip8/PHHn3bu3PmIYTRkyJCmK664Yl8sFoOUlMPbng8dOpQCANCrV6+WAQMGtPhlr7vuuj0vvPBC77///e+5Z5999gH/+KJFi/J27NiRed111+3htd25c+fYK6+8sg0AYNmyZbn79+9PDek2kw7aSE44xdRraVvOpaKhi63nl1efSOnQkUGW3iE6bqpsyOoQHTOtX0cBwip8GE8/+7Ppc0w2sPfO+13HWGEVZheKuE05XUzHqs592o5VmRxsHTKjQ4WvjOnKxhtPojFmIx9ByNi1a1fq0qVLO1999dVfBQ2OIKIxHmTkyJGHSktL65999tmewePPP/98jxEjRhwcMWJEgyOR2w1kdBDG6CiXUeBCYXaNrvFgismzMPE223haXSnhUY6xqJ6faf1hGm02bZjUlQzvqwzTdNCw78vGUNFJNdNpD3sdZg4iw4Nwzfr167Pi8TiUlJQcZRR069bt+Ozs7BHZ2dkjJk+eXIipa+LEibsXLVrUbf/+/SkAADU1NSn/+7//2+3KK6/kRjk6OmR0EKEh8qSLUnKI5CDK5xOFQqGTShc0jHQNLGwUJNnHOpsaqMqzN9kjwUuv0/WSuyrbVjBJ01LVZ1pWlronOm7zTMjwIKJg6dKln65cuXJ9UVHRocbGRpR+/POf//zrWCwGL7zwQjcAgBdeeKF7SkoKXH311V8DABQVFQ31DZnTTjutOEz52wK0p4OwIriYuNoDETa8nHb/uItcc945nb7h1Yfd1xIWJnsXgpjm8evgon7d8SxClIakks9l/0S1d8QW234Oez7R7SfX4xAg+giRaC+XaXsyg1X1MQCRTARhypAhQxo8z4MNGzZkMcebAACysrLQA6179+6xc845p2bevHk9f/WrX+19+eWXe5533nlfd+nSJQYAsGjRosqmpiYPACAnJyfUTfVtAYp0EGiCXk+eN5RXnkfUC4cqrcc2dxhzPyIZTPa18ORlFRSswqJqC0MYexdEOejYa3T39+js1RDV60LRFUUGMGV1wUYuMO8PBqzhLbqWl2Nt0wfYvsaO7aBhGRyvLt4/1fhX7YPA7pMwcbzI5h6/TtF1snM28yVByOjTp0/rqaeeWvvcc8/1rq2ttdaDf/GLX+z56KOPcl999dUuq1atyrnmmmuOpFYde+yxTaWlpY2lpaWNgwcPbrZtq61DRgeBwnVY33WqhI4n3tRraKo8qDZtygwI9jpM3+kYUWGkAYWhfNsqbrZGp8jo09ncjFGidNNYTPva1ouuY2yJ7l1HqQzWgR3fKuUZ29eqNnjX685x7Bzh0lGgYxSYOBB0DOVgO/79xmJ856+uM4sgdHj66ae3tba2eieccMJ3//CHP3T76KOPslavXp35+9//vvumTZuyUlNT0S/Cj3/84wMDBgxovO666wYPHjy44ayzzjqouqaioiJr2bJlnWpqatLq6upSly1b1mnZsmWd7O4q+aH0KgKFyivlaiHwFYVgncH/eeeCi5YoNQYrn+xeTCIAqjZUHnabiIWsXsw1pu3ppoZh6uOlm7gac8Exg1GO2TEoQlRf8Hjwf537YceNjaJoEk3RVagxdcowTenR7dMwFFrTCA9m/GDrwcgYZooTex0bFeKV98+7aJ9IDPuqNofu2DZtY+jQoY0VFRXry8vL+9x99939qqur0zMyMuLHHHPMoeuvv37XLbfcshtbV0pKCkyYMGHPAw88UDhlypSdmGsuvPDC4qqqqgz/99GjRw8BAIjH4xX6d9N28NriC+x5XmcA2J9oOToKUXqWeIsKq6Tppr8k4xgPevp0oz4mxo9JylAi+031zG3HgWqcYXBt+JjWpauc+scT9ZyTYXzpYjOPqO5Xd34zNTJFbfDksx3bwfZM3zWVo4uInC7xeLw2eKCioqIkLS3tzeLi4gPZ2dlHvgTVVv4iOeGG+vr6rMrKytyWlpZzysrKNsjKUqSDkJIMoWybBSZZF6dk6FcTwvIG89rxcZFioZO2ZBPhse0blRfbZd+LjDBsH4QRbfLbTzbCmkdkUVWdaIYKUf/KIgq68CJ4vLp16sOcS9Y5viNTXFzctOaTT9ZWV1dHomPm5+e3kMHRNiCjgxDCekQBxOlLMnSUE9kCwkuvMiWYlsVL/4hqIdP1rJvgKi3MpC5RHTb582E9G1d59LbpTtjyPAXPFJUn2n9fwjAygu0lo8FhC8aj7xMc41EZYq4iMC7aNCFZo9kdneLi4iYyBAgW2khOcHG5r0F2Dbu4YuTipdqY4HohN83JD6sNV5jmiYvqaUsKAjbPPTguXXqo2Xb8/7GRCBM5eO+krXcdU4+pd133ekz6Eg/XhqRqjmX/N0UmNxuRkBkgfhneHOxS8TdxbLVHY5Ug2iNkdBBHwS4o2CiHjRKNVRxUC6LOOd69mHjSsYs2Vi5eOZ7y4WKBFz1HTKqFriHiyhuvWw/2GoyCKBtLOs/dtp9MyohkDGPMyuRwqRxi+9GFgY/ZA2PiDFEZZsF339QRhE1PFBnPwTESjDbzZNaRUdaPWMOPjA2CaFuQ0UEcRZieSNv2TdoULZyu2hYpJjrXqXAdaeAdD/aNqQKuGjsuPLc6Cpaux1SmnMnqwvQZr64w4XmiMYomi6ny7upd00lNEqUpmdTJSy/j/YxFlE6GMfpk92L6Luk6cLDtBO+J/afrYBJ9Sjd4PduHZIQQRHJDRgcBAPaTta4SHZan3q9f1b4KrELAyuPq3oJyYI7Jjvuy8TyxKqXTJaL0KtdpGT469+UqfUhVPhlSy7ARLra8i0ibbhqOzKjHRrBsjQSsQqvjsBEZNKJ6MQ4DF8giYgC4eT44p7CREx3DSRWhYfswqnmMIAhzyOggjhDVpB1VigVbTqddmVdepvhg2+FFRbAKlYm33cRQkWEbFTKth+cxtZVL1Z4LwnyvXEYTddNgTDGNmibC0MNEqEz7wiQ1KmpcrAsmcxN7ThatY8snQ78RBPFtyOggEgJPgdBVEFzkbcuIMjWE/T3sRdNGGXOZ5uHS0A2rz9gIDWuQYvpSJ/UukXSEnHmdVDhX5UxIVN9HEfXDYhJda49jliDaC2R0dHB8pS+sRUOVtmGSN83mCqvKh0mUaUk2ZcLw0uq0b4Kpd9S0PMaYSkR6lE1aj05dJpFAF3XZtimKRKiiYrx6XHjkXaLas2KLKnIgk4fX72FHIF2NdYIgEgP9nQ4CAPQnaEzKAaZeWYpRmIgiLVgvKDafXAWvTfZY0LMuS5NSKZTBMraGZhSe++AGVPa4LlEqIKaGsOiZ8PbCYAyRMO8ZU7+LdDqsLC7KmxoVrp02mLlVFH3jyYOdG9j6dYxdlcxBAzBKwz3q9oh/U1lZmUF/HFDMzTff3HfRokVdN2zYsD7RskQJGR0dFB2FJLgAYRcjW4UnEZ75oGKuUvDDRMdb6LKvecqKTJ7guagjHaLnE4aSITMARf0fpadfp6xuiorMCBJhOyZ1rg8+b1kkRKQgiwxxbJqZ6VgzGacy5wT7M68ML1UJM8/aOpZEsoUBxggjwqeysjJj2PBhpY0NjZF4ezKzMuNrPlmzVsfwGDdu3KA///nPPdjjY8aMqV2yZEmlWwkJHzI6CCU8pStso0AHl4tKVItjsK2o6lBFlXS9o+w1UeLLJ9sXg1VedSIT2PtlU3swnnLRPcmuMQFzbZSefV79PEwMIFUZVhE3uTdTIys47kQGvwzevIyRU6duF885yvVA5BwjwyNaqqur0xobGr3Tbrqgvlv/nvJvH1tSs31PyuLH/5pdXV2dphvt+P73v1/78ssvbw4e69SpEw2UEKE9HR0Ml178qMPkojbb6mJicy88ZcklMq9xVNgoxgDfVspk94RNq8OkA7LGho6BLkqtY7ExOGzO65bDoOojU2R950qZxo4d2fW+TP4x07owx3ntuIzoRjUPRS0HYUa3/j1jvYr7tob5z8aoycjIiA0YMKAl+K9Xr16tsVgMbr755r4FBQXDMjIyTuzdu/fwq666qr9/3e7du1PHjh07qHPnzid06tRpxGmnnVa8Zs2aTP/87Nmze+Tl5Z0wb968rgMHDizNzMw8ccyYMcUbN25MZ2WYM2dO98LCwmF5eXknnH/++d+pqak5opf/6U9/6lxWVnZcXl7eCV27dj3hjDPOKFq3bl1m8Pp//OMfOSUlJUMyMzNPLC0t/e68efO6ep5XtmzZsk5BWYLX+GX835cvX97pe9/73rE5OTkjcnNzRwwdOvS7ixcvzjbtVxlkdHRQeJOybbhfB5mHWlY+rMXEReoKFhdRIkx6BKY9ExmSQRnRJVkNU54CHFUKiuuyPrpeZazinqzP0ASZom9yn7ppfmG9wy7nGtfRiUTPQUTb4cUXX+z2hz/8offjjz++dd26dWtfe+21jcOGDTvkn7/ssssGffLJJzn//d//vfGdd97ZEI/H4fzzzy9ubPx3OllDQ0PKb37zm4Lnnntu89tvv72htrY2dfz48ccE29m+fXvmX/7yl24LFy6sXLBgwcYVK1bklpeXF/jnDxw4kDJlypTq5cuXf7po0aLPPM+DsWPHHtPa2goAAF9//XXKT3/60+KSkpJDy5YtW19eXv7lHXfc0U/3fidOnPidgoKC5vfff//T5cuXr582bdqu9PT0UCZcSq/qQNCkKyYRURsTdNMGXN+XbSoJSxhpQiYyyq5R7d9w1Y6oPAbXKYa8PQ2uFcConBwYr75MJnavB7a+ZEA3TUtWxvV7moiUJ0qzIoL861//6pqdnT0ieGzKlCk7s7Ky4j169Gi56KKL6jIzM+PFxcVNZ5xxRj0AwJo1azLfeeedrm+99daGs8466yAAwIIFCzYNHjx4+CuvvNL16quvrgEAaGlp8WbPnr3thz/84UEAgBdffHHLiSeeOPTdd9/N9uuKxWIwf/78zd26dYsBAIwbN+7rxYsX5/myXHXVVfuCsr3yyitb+vbte/xHH32UdfLJJzc8++yzPTzPi//xj3/ckp2dHS8rK2vYsWPHrmnTpg3U6YedO3dmTJkyZdeIESMaAACGDRvWqNuXWCjSQRzBhUJlkh7kom0dbFNMRAuobj1R4VIBV13n6hrXioHsfmT3G3UUImxMI2NhpPBh2nVZr2n9wetcGhw6UU3eOAxrbKreFV1096pgytqMxWSZl4nEM3LkyNqVK1euD/6bOnXq7iuuuOLrxsZGb+DAgcMuu+yygS+99FLX5uZmAAD45JNPslJTU+NnnHHGQb+ePn36tA4aNKhx/fr1Wf6x1NTU+Omnn36kzIgRIxry8vJa165d28k/VlhY2OQbHAAABQUFTXv37j2SgrVmzZrMCy64YHC/fv2G5ebmjjjmmGOGAQBs2rQpEwDgs88+yzruuOMOZWdnH3lZRo8efaRNLL/85S+rp06dOvDUU0899vbbb+/DpnC5hIyODoBqHwdbtq2CXYht9wpgr4kqT91lmhvvfBjKlSqlxj9ncm86BoRKmTY95/IaAPVzMHm3ZXWq3qUw0hFNjH3s2DRVfMPERg6bvSQqMP1s2n5wHww7nnTqi8Xwafwm8w/RMcjOzo6VlpY2Bv/l5+e3FhUVNVdWVq595JFHtmZlZcWmTZs2YOTIkSXB9CkXpKWlHfVise/FhRdeWFRTU5M2Z86cLYsXL/508eLFnwIANDU1oeVISfm2mt/c3HzU9Y888kjVRx99tO7ss8/e99577+WNGDFi6EsvvdRV935Q8oRRKZE86KTi6NQlOm/Thm26BbuQyBYW3Vxn1wuUSOGTHdetE6uIypRP3mZXWV0iuUSyqryqpmlZPAUbE13TMVxNPLE2KSoieW3SjkyjfqZjQXVOt06sV140htnIhew8VibMdTqYKsj+vbhUsE0jPcG+ZX/m1WUyvkzGKhkehIjc3Nz4hAkT9s+dO3f722+//dnHH3+c88EHH3QaPnx4Q2trq/fuu+/m+GV37dqVumXLlsyhQ4c2+MdaW1u94Gbs1atXZ9bV1aWWlpYeYtvi8U2dWTNnztx50UUX1Z144okNe/fuPWpLxHHHHdfw2WefdTp06NCRgbxs2bKcYJnevXs3Hzx4MLW2tvaIvr9q1apvbRIfPnx445133vnV0qVLK88+++yauXPn9sTIqQvt6WjHRO0VD7YRVIbCyqO1iVjYGEayxQ17TkdZMfUUyxRvFwaoi2eKUQh4bZk8e0xanOy5YD39omcoGh+2+fKyOoJt6qRW8fpF9T5hrvHLmdwv5h7Z8qpjKiODd5417IOGu05fy+oN1m0KKwtvDGPOYWTVkUd0TCeShpkTTJ8F0XFoampK2bZt21F6cHp6OixYsKBLa2urN2bMmAM5OTmx559/vkdWVlasqKiosU+fPq1nnnnmvsmTJw+aM2fO1s6dO7feeuut/Xr37t08YcKEI3sw0tLS4jfddNOAxx57bHt6enr8xhtvHHD88ccf9PdzqOjVq1dr165dW5566qle/fr1a960aVPGjBkzjtok/otf/GLvfffdV3j55ZcPnDlz5q7NmzdnPPHEE/kA/x7/p59++sGsrKzYTTfdVDh9+vSvlixZkvPaa68d+fskBw4c8K6//vr+48ePrzn22GMbt2zZkr569eqc8847r8aia4WQ0dFOwaQqYLzBweMihUTVvq5HLCrvE9b77ZeVndc5h1m0RQqMCwUVc47Xvq4i6oqgNzSRnkns/crerbD6SxWh4ynLwfO8Mmz9sv7HziU285JN37nqd5kxqzM22fuM8j3CtOlanjAixa7KRTWPdURqtu8JPZvGpo0lS5Z0Hjhw4PHBY4MGDWqYNWvWlw899FCf8vLyfq2trd6xxx57aP78+Rv79OnTCgDw6quvbvnlL3/Z/5JLLilqaWnxTjrppANvvPFGZWZm5pGB9E1a1q5JkyYN/uqrrzLKysrqXnzxxa1Y2VJTU+GFF17YNG3atAFlZWVDBw0a1PDII49sO//884/zy3Tv3j22YMGCyhtuuGHgKaecMuTYY489dOutt+687rrrBmdnZ8cAAPLz81uffvrpzTNnzuw3f/78nqNGjaq79dZbq6ZPnz4QACAtLQ1qampSr7nmmkF79+5N79q1a8uPf/zjmocffrjKtF9leG3xZfM8rzMA7E+0HMmMSSqGyuiIAoyMAG4WsUQqsbae46j6IQyPp0k9bKqIq3lLxxuaLNEhF+gaHf412PGmMjpkxo3umDYdv5jzYZFoAzpqkm3sqyJaBJcu8Xi8A8qMtgAAIABJREFUNnigoqKiJC0t7c3i4uID2dnZR1KL2sJfJA+T2bNn95gxY0b/urq6j6Nu+8knn+w+ZcqUQTU1Natyc3MjGdj19fVZlZWVuS0tLeeUlZVtkJWlSEc7RLUA66T2iI7rLppYJVnlMdVpE6tw6CpSiVRUwgBj5Omec4FJdE1XJp3Ihe398iINAEcr4jaKKPZ6UQQtjDawaV8m6TRYdCOLtu1hZUomRVwHl30VhvGlitjpXkPoU1xc3LTmkzVrq6urI9Ex8/PzW5LF4Iia3/3udz2Ki4sbBw4c2PTBBx9k33XXXf3OPffcmqgMDl3I6GhniDw4rBJgG03QVdhNFxaTyIwupsoar5+wSrJqgdM1znRoK15WjOIQfCYu07B46S+mqXeqqFXwGEYutmzwXcTce7CveHXLwMqISdczrV/3GllqmGh+bC8KqMzo88+b1KmqXxedeROzLomO6V5LmFNcXNzUUQ2BKNm1a1fa/fff33fPnj3pPXv2bD7//PNrHnvssS8TLZcISq9qR2CVIt0FR6bQ2CjsUaRyiRYS3VQlk8XOZWREJw2Ih65nmW0b226iF26XSpAoPcjG4+7X7apekSEcPMeDp2yz50wJjnteW6b36fo6lYLqUg6XYGXA9rer+cnE6BeNQ1ldMoNd5qhISUn5VrTRH6f+J3ht59l2Djq9iuhY6KRX0Sdz2wHBBV52Pujx43n0TLzvOsqrK0+qi3aCbfH6T7So8RZAUZtsn+vKx5PHxWIougcXbcrKuqpH9zpMXdiog03/84xS9mfd+kVKlI4jICz8sY95JraRQYwMrDwiJwrvehVRRQ5151sXDhW/jKge7HzCgx2r7PORycJez3tW/u+swRGUk3dvbSESTBBtETI62iEyz17wPM8YkV2nK4NoocIsJirZZWDSYkyVCZniyGsDUw5LMOLkEtV4kaFTRjdigi2nKstTinQVJVd9LopEiIxaHXQMW964tom0sMdU7zh2TnBB0BDjKbmYa1Xlo/KMmz4n1TXYfhAZkDyF3lZx16lDNK5UTiHROV5dBEHYQ0ZHO0QV9RAds12Y2DpFHiiTBQnjsWPL2kQHXIXZbaNDrgijTVMDyNZrrToWFS7bdRlBAcClVmHKmiJTUhONbP4JS95kjISEXX8Uz97m/ddZUwiCcIO20eF53mme5/3V87wqz/PinuddzJz3PM+b5XneTs/zDnme97bnecVMme6e573ieV6t53n7PM97zvO8XNub6YjoKBem9eiUscFGSUl0aDzKNl0rc1EqhrYeUBf97Op+TWTRiSaG+Vx4jgCTNqNOPbJJHUtGAyhZsTHKwohoqgjDOUQQhHtMIh05ALAaAP6f4PyvAWAKAFwHAN8DgIMA8HfP87ICZV4BgKEAcBYAnA8ApwHAMwaydGhMJ0pRCNqlEmWqvLj0nrtSUE32BLiUQVSfK6PSVEFTpcO5Tl8w7UvMngLVdWEpJS7GLeb5uU7lUsnDvse2bdoqlWyapShqpprPdIxG3vVYZOl/2JRO12Dr1pEhkQ6A4LWid4iMEYJwi/Ync+Px+P8CwP8CcCdGDwB+BQD3xOPx/++bYxMBoBoALgaA+Z7nfRcAzgGAk+Px+IfflLkRABZ5njc9Ho+H8lcQ2zO8BTUlBW9PqvYKYBZjFr8+l4aMrKyOZ01XWTdR7m1Su3Ta8VH1tY7CwI4lk2doa7S4BNMvojQ49nnylGlTJUt334MNqnZFkQ9TeVx7xHl164xNjNFj0982KT4qo1H3HjH7M4LPW9fpIHpuwXpF71MyRZvYfghi844TBCHG9d/pGAwAfQDgbf9APB7f73neCgAYBQDzv/l/n29wfMPbABCDw5GR/2Er9TwvEwAyA4fyHMvd5lAtnrqKEEZp1fUGBeVQLZyYhZVXVywW08ofD8qra6joyMjK6QrWQNQ1Cnh9yHtOqjQW3XZNIzQu4MmKlZ3nDZf9rgPmvXFdN++cKsoYfF8w7zQ7Nl3eD8aYZ98P/5itNzwMeOMyOB/z5iqRQs+WE2Fq1GLeeRfRAVdKPlsPz6ESJHieHfOEPpWVlRn0xwHDweQvno8bN27Q/v37U99+++0vwpRNhesB0eeb/6uZ49WBc30A4KvgyXg83uJ53teBMiz/CQB3uhKyPWCrfAZRTbDJslirZGMVIlHfqBY0mZKqGxEKw0sWfPaY/hX1C1vGr5ut39Q44ymIGA+obXRJdD5Yt0uFWAdXkSRM3Tx0+kp0zkRZDcrHk9PGiGV/x7zfJpiMFd35wtSoTQZPPMZxha3HBJ6RwZ7ntSUa16K1hVBTWVmZcfzwYaWHGhojsdg6ZWXGV3+yZq2O4ZEsSjhLYWHhsKqqqgwAgKysrFj//v0br7vuuq9uvvnmPX6Zq6+++utx48Y5/1t1hYWFw6699trq8vLyr9SlzWgrf5H8fgB4JPB7HgDsSJAsCUWkNGAVGVVkwiU6igQ20iKa/EWLtck9YT38mEXNP267YKkMJ5nhiJWTd15HORV5oVX16SojpgqrbOzYGOw6RpnsmK0jAWPQReW55fULz4vMnjNFZCCr3gWZvLJ6eG3rohONihrZMwoa7ZjrXGPj3GGv1TGSyPDAU11dnXaoodGbO/P8+iGDe8bCbGv95j0pV93zRnZ1dXVae4l2TJ8+verGG2/cfeDAgZRXXnml+7Rp0wb269evafz48bUAALm5ufHc3NyWRMtpgutP5u765v985nh+4NwuAOgdPOl5XhoAdA+UOYp4PN4Yj8dr/X8AUOdO5LaDaLK0VUySAVsPbVjt8tCRwaW8tp5C3eOJwsbTqVMv1jB14b1V0ZbTOFTGRdRyyCJ5wbK6cpo862R7t1wh6jvfIGFx+Z7YHDd91jZOrI7MkME9Yyd/t6A1zH+ujZrZs2f3yMvLOyF4bN68eV09zyvzf7/55pv7lpSUDJkzZ073wsLCYXl5eSecf/7536mpqTmiU9fU1KRceOGFgzt16jSiV69ew+++++7eI0eOPO7qq6/ur5IhLy+vdcCAAS1Dhgxpuvfee3d16dKl9a233uosk/HXv/51Qffu3Y/PyckZcemllw68/vrrC0tKSoawdZeXl+f36tVreNeuXU+48sorBzQ2Ho5GjRw58riqqqqMO++8s7/neWXB+3WJa6NjMxw2HM70D3ie1xkO79VY/s2h5QDQlbmhH34jywrH8rQbdKITmIlRtDiYopPeEDUu01d4P+tcZ1MGg8o4C+vZRPHMbZ6jy/5w/e4A2Hm9ZbKEqQC6rsu0zbAVQZWDpz0qopgxjo0i8craEDR4/H+2dQHg3+v2+LwJfbZv3575l7/8pdvChQsrFyxYsHHFihW55eXlBf75yZMn96+oqMidP3/+xkWLFn2+dOnSvPXr12frtNHa2gpz587tWltbm5qRkSEcnE8++WT32bNnF9x55507li9fvr5///5N8+bN68WWW7FiRd4XX3yR+dZbb33+5JNPbv7Tn/7U43e/+10PAIC//vWvG/Pz85unT59etXXr1tVbt25drSMrFu30Ku/w39MoChwa7HneCQDwdTwe3+Z53mMAMNPzvEo4bIT8FwBUAcBCAIB4PP6p53lvAsAfPM+7DgDSAeB3ADA/Tl+uQuHCK+qHijF1YcsE6w7+79JLpFuXblqWK1ykxsjKmqQSyOrRSTsKjp3gMZXBw5NbR0b/dx5hRgpMxojoXnWvUV0XVcpHsB3MM2HP28ooSvfhyaSShx0rKtmwiqjMsPXPB+eisJ+dbXRY9k6FkSKHQcfQCZYRrQEi+YP3Z2vYEO2TWCwG8+fP39ytW7cYAMC4ceO+Xrx4cR7A4SjH66+/3uOZZ57ZfNFFF9UBALz66qtb+vXrNxxT9z333NPvgQceKGxqavJaW1u9Ll26tF5//fV7ROWfeuqp3uPHj99z00037QUAeOihh3a+++67nQ8ePJgaLNe5c+fWF198cVtaWhqMGDGiYd68efvffffdztOmTduTn5/fmpqaGvejLKb9osIk0nESAKz65h/A4b0WqwBg1je//xYAnoDDf3fjAwDIBYBz4vF4Q6COywFgAwD8EwAWAcD7APBLA1k6BLz8VQCxosgqhCIPTnAiNlVs2DzfYL2yMjywi7uoP2T16i68tvnKLgw5UX26Hkj/mMz4wrTPMyLZ5xFWapQtYXhaZWBSfILlZOVdpXeZGP8uDHXd90U2r/Hq5c15fp0ypVmWGiTyomMiZrL5FlOXCaKxJRtfvOPBe5Z9dp2t21WUg52nbKN4NgYDxugiOi6FhYVNvsEBAFBQUNC0d+/edACADRs2ZLa0tHhjxow56J/v0aNH6+DBg4/owbfddluf7OzsEf6/ysrKDP/cddddt2vlypXr33jjjc+HDx9+8J577tleWlraKJJl8+bNWSNHjjwYPDZixIiDbLni4uJDaWn/jjXk5+c379mzJ9K93SZ/p+NfACB84+KH3/ryb/6JynwNABN02+7osEpD0GPmw1MqeZ5JrKcSo/iwdfIma4yym5KSYrQQh+HJc7WIitpiF1XdyI0K1lPHe94qQ1J0vUw2nfO2nljd9m3qxRoaPOVZFclhy4t+D14je9cwbckI1okZK7qGLE9m2XzEOi10FEHZ+JddzxofOv2tcorYRE6C8wZ2bpaVkckWbMPUKaW6VlZWtG7pjjcbR4svk8iRE9acQyQOnrHd3Nz8rQGQlpZ21MPXHQ9Tp07dfcUVV9T4vw8aNOjIJviePXu2lJaWNpaWljYWFRV9MWLEiKGjRo06WFZW1sCvDQdP5lgsFqkF7XpPB+EQdsHDevl5ioALb7SIoHwir2NQLlU9URGld92Fx8y0/7DGRRSoFPAwvcEiWUwjR6pjovqxnnDR89ZR8HTHl+41JqjeBYzBr+oX1lDQbYetU9SujSdddr3IY88zvLDGqgmqaENQPpP3CFNvUBaZMcyexz7nMOQm2i69e/duPnjwYGptbe0R/XjVqlVaezFKSkoa09LS4kuXLj1y3d69e1O3bNmS5f+en5/f6hsWpaWljenp6dy6ioqKmi+44IKaX//614Wi9gYPHtzwwQcfHCXjqlWrcnRkBgBIT0+Pt7a2hjrg28onczs0Mm881ovqqk1VWdHCyJbvCB4izGJmovjo1IVtQ6TEmESsZOVYJSHYBsbLadJmIpEZJ6wn2VYp4/3OKt5h9JGJ0isb0zoGBfu7bj9iyptGRHmy6l7v16Eqi4nkhE0U7fKMMZ1IJA8yKjoudXV1qcuWLesUPHbCCSc0ZGVlxW666abC6dOnf7VkyZKc1157rYdOvd26dYuNGzdu78yZM/v36NGjtaCgoHnmzJl9U1JSjMbbtGnTqk8++eShixcvzj7ttNPq2fPf/B2PgSeddFL9D37wgwPz5s3r/vnnn3fq16+f1ieECwsLG99///3czZs3f52VlRUvKChwvreDjI4kxlQRSTQYwyNKOYIkQiZWDlF6CdZIk12vc38myifGaxj0NgblSvR44GGqhJvci00UQpdk6muRgaE7TjGpNTpRDB2ijgRi7tFFWzJFPMw+dFk/O+/JIowq41G3b8Mab+2F9Zv3hJ5NY9PGypUr80aPHn3UZ2XHjx+/5+mnn948c+bMfvPnz+85atSoultvvbVq+vTpA3XqfvLJJ7dPmjRp4Pjx44tyc3Nbb7jhhl1VVVUZWVlZ2p/4LSsraxg9enTtHXfc0fe9997byJ6fPHny15s2bcosLy/v19TUlHLeeed9fckll+zVjXbMmjWr6vrrrx9YUlIyrKmpyYvH4xW6sqrw2uLL4h3+DK/zv8aYTOgqkLqoPI0uxoWN91aWKsSLrIjq8a9x0TbmvAqRdx/jbQ2279qbGxbB++TJoTofLGcTyZHJFovFjAwI131qci8iOUQpOLJ9U2FFinhjXPQey95vldKIeR6q+nhRlOA96KDbn6q2XI4523mOd141b/tlwsTGieBfb0pb1KU06RI//HfSjlBRUVGSlpb2ZnFx8YHs7Owj+w3awl8kj5ra2tqUwsLC4bNmzdoxdepU4ZeoXHHqqacW9+7du2XhwoWbw26rvr4+q7KyMrelpeWcsrKyDbKyFOlIQliPjQqd8DKm7kQZHEHFQ3ReVwaZbK6MIp3UBlNvLyZNw/P4m3pFnkAdZduFwoNVjmW/865n28AqbcHfdZUOUV8Hz/PkU8mkg0opFCnQIhnZ/zGGsE5/6aKSH3tdojAxIGXozlmsgeUfY3/ntWtjyKscDKZ1ujjGk0vl7ODNk1EZUW2V4uLiptWfrFlbXV0diY6Zn5/fkmwGx9KlSzutXbu205gxYw7W1NSk3nXXXQUAAJdddtk+123V1dWlPPzww73OP//8/ampqfDSSy91X758eef/+Z//+dx1W7aQ0ZFE2ChAttgq4KzMJgoLRkGT/Y5V9GQymiiJIm8ppk91lOyg3CLvsYigwmISNREt1BhjSCUTrw3R2AhrsdfpA57BGZYHmtcm+wxF457tMxZb4960nOw69t3ERjpU8w7PoYF11IRN2Mab7DpM9DD4rvu/iwwV0XMw+TKhbD4XvSO8+ZRXJ3tMNI+JHDPJYtgmM8XFxU3JZghEzezZs/OnTp2alZ6eHh86dOjBf/7zn5+FsU/C87z4W2+91eWxxx4raGxs9AYPHtwwd+7cLy6++OI6123ZQkZHEhG29wSz2MvOyyZ/VmGUGQjBBUwHleeT16ZOOxivOm/x5C3SweNYJcvUi8n7nXdPosUTU7/oOpuFl1UmVR5JjFyqPtA5xyuDUYBFcmBlF3mleXWrFHETRQ9bv6oeVlbe76rjfl2xmDgNWmUA2yrqmD5MRiUUIw9vfrBx5piMe5lsuuWwzxq71urMDS7mRKL9MHr06EPr1q37NIq2cnNz48uWLUu6qAYP+mRukoHxXIs8TTr4dZhM7DZldTxutugqG2F4PnVkwEYtdOq2MWBNrnX1HGVjU3cMYaNvIkQRGFYht1HOg7/rer0x7zG2XpHCqXtvsmeBjUSydYnugWcQmo5DrJEkk1cXnUiQLarImEqBN4lquhqbKkTvA29eZdtUGfbBn8moIAhzyOhIElSToC66C7vomCtcLCyiaAJ7Tkcm3fKqUL8pvMVM1yB0+fxM67QxVGwVeBmY1BAMNp50HYVN1/CwLRMGYShoWK+2i7lUZ0y0J0UUG5l1aSi4QDRn6T4b2bsYvG9eH7SncYAkBgDxeDyemEmGSAoC4175ZS4yOpIATAiXLe9qwncZWYly8XVx/y4NFZMQv0k7IsIyhrC4NCjDaCeKvnDZBptqJUMnDc3EGeFfF9b7ImvPxLOu66HHEpXxFuZYDfap7rqje95EJhYX0Und+lytrx2EXfF4vPngwYNafzyPaF80NTVlxOPxFgCoUZWlPR1JAMbTK8qtFh33lQ6dyVNWFwad3F22bNATrSsz+3PYC4ZMRl4fyPqFV1ewvO49Ba+NyhCwRacvTVL3dMqI2jQ1An0FBqs8Y4wCX0lT1c2ew8gQxrsjeieC//v3o1JAE+lJDsrogmSoS9dAs4ksy+oyWXdUa58uwfpM6nARfW9rlJWV1VZUVLy0a9euyQDQIycnp97zvPZ/48QRYrGYV11d3TkWi70BAHtV5cnoSCKwk68oL5V3XlS/TBHAyBksz9aLuScdzxZmAXAVXVApZrw+5xkJ7HW8enTaxxg6WIVVp10MOv2m47l2vWirFHRsOazC72MarQii+x7x6tcdH2ybOoYvwL+//KNrcPGUNl1jHnMeS/CZhxHNssVGLuy17HgWOUuCZVR1yQxdmeIumodVbascPCL5g8+efe9Fa3FHMjwA4L7m5maoqqqa6HleNgBQmKhjEY/FYtvi8fidZWVlyvQq+uOACYSd5EyjEjaecdP2w8J0sk4W+bFg5cUahmF4qmVKp443WjRW2bLBZy9Tsk3vUWZoyxRenb5llVOMcalSZoJl2Gtk98rWo1L+U1JSjrpGVje2XllbJhGNKN7zoBHPjn/dPySpMlB1HCoYw173OhNEYxvzfqnAzAGiemXjUlYXe43MySe7VkRb1LEEfOuPAwapqKjIA4ACoLT9jkYLAGwrKytDfR6ZjI4EwlPiXCyoorpsDBuXYBSmoPKlo+zpyiBTfFWy2YB53qK2bBRyHSVA5RnEgIkaYNsOE1UkgWc0mdSHLStShEQKsWk7bFssNkqjrH2VEm76/LHRD6whjG1DR16dPmXXCOzcrqN089q0neN4xnIyOJJM5k7R+9lBDI0gUqODIDCQRZoksOFZ27p0juvWEzY8I8CmHLYt/3eXBoeNt9GkLdU1svvj1WcrE8bDKGs7qjGYqLHOA+NZ5cFTjEzHK6Y9Hqr3xwbMvYs87aI62HGGNShF7WPB9qvfnzKDg3dM1Q9hK8zsODCp09TodA2mv4Ow61IyzS0EkWjI6EgAbAg5zDYwsItD2F4al5OwqawmMtgYDrxF37QfVNdF4WVzacAmi8cQo0y6lEc0BtjjQe+8DBvZdL30KpLB06vjJLAxxHWuwUZSTNA11MNShrHvTFhRdBN4WQe2sM+dIAgyOhKGKGwuO+YKnheM136YuLg/XUU+EcZUVM8wKAMtcG6ViLAjhDrKiaknXlY/Rl6/TtepZaJ2eAp0WO+2C4MDI5vtOMK82zLDQ/VOyIwF7PM3iWrK6jHtO1PCXCNoXiYIMjoih11Edb1TLowD1nPqy4GpW8fjil0gRb9j0PFE69SPKWvrBVcpKqL6TPLHRfWoruU9I12DMUwPvX+9i/Q1nfHoIr1C5GwQtWcyXwSVN52ICatwsu2z9auOBes1SVOUIZMhKLv/u3+e15dhjVWd90bHwONdaxLd4c1lPIPP9J0QOWRE7we7hugYOzZrgAunjeqeCKIjQ0ZHEoBJsRCVNVEC2frZyZ+3SPMWa9X9mOSD657nyRpWWyZlwlDSsWVU5UyUv6Ay4iKawFPQMcqL6fNzEVXAGOhBOV2n+KjAKOGq60TPVqaomiIy3oPvjsxAlDlHVB7zYN2qvhG1w8PWOaRTnvdO8O5XNBZ5c5RqjPD6X/SsZMjK6yjuIkMN846HaQyY9AlBtGfI6IgY2cJlOmHLPCu6Co9uJMbUG+eqPla5cIGuxw6zQGMWUKyHnG3DRMFlZeShqk/mAeeV5cnMyqHycMoUK5Xy4ioiolJ8TMeiztiSySN7Z0UKvkw5El0T/Fk38iKqzy+jiqjotBu8L5mxoopK8drzrxHN4djoEIur+QyjhGMVdVHf6Tx7nYiEzEAStavTRrAO1TxnajQG50cXURSCaOuQ0REhmEUNg86CqzPJufBWYzANPasUZFsZVHWJFh+stxMjE9aA4inSYSxqtp5C1bPm3YfJWNCJwOkgM+p12zdFt14dRYtnGOsq3lhkCh7mnGkf894pk3lYxwnAOgN4bZjeC08mk7mGd61M2ffL6kQmgmCjKaxMMlmwyOZok7kD+475ZSnSQRCHIaMjImw8gbIyul5515Of68U7bJlNF+ngtabnefCUiCgXKYyioBtxYa8X1SuTw9QItek3E690FO+Yqk7XRgm2LC/iYYoLj7SoPh3Pt069OuVdGKTsu8gzHnmIxjTWgYLpe5Gxkgy4MCSx9REEIYeMjgiQKeaspyWKCc3UUyXChdKja4hgkS0YpgusS0QGZFj9ocL12LBB5oEMSx6RIiYbNzbGpkohNlVaXUUtw04JYec+XQMBaxTryCFry+S4TXRbZDCInBM6kUXZNf5x3vypa5hjcDHf2swVrqL1ZJAQhBwyOiJEtaCLJnmbNkyxnUBNPMRRKramKSTYlAATZc2lV5QF6+3U8VhilR7Z8WBdsnpl5YPHbAwAU2PCJmqGTTdxgepZm9yHbSRMVE7lnWaNFdmz4419rJefdz32Wtu+dRF146GTxuj3rQsDSkbYY19mzOrOG1E7QgiiPUFGR8iIwuEsMkVLZ0I3CRfz2rFJG8Eoz7yJH5vKoUNQFswiruq/WCyGbpe3mKnu0cUYwIJ9PiK5RBE6V95xlTJgkmrjIv0q6G3GtK3qG5mSjVE0Rf3NKouY8W7z3FTjN6js6kY7/euC/2OudaFMYsaPrG9t5q5gJDw4TnTnCdV7ajMOsPcXlVHNG1+s8WQrl8ooll0XdvSQIJIZMjoSgGiB4nkeXU9QsrrYkL3MO46ZdG2MJZ6yZoOLBccmeqFqj/es2fs3NUh4BpDsGaekpBj3t+4zE6VriDzewbGlit5gjQPTqJcK3vU8pREb1dE1SlXeXVvYZ6AbzRDVKYvIqMYFpj5dpw9WdhN0DFfMvKzTLs+ICR535QjCRK949ZoaAyoHkwvnk8zhgn23yfAgOiJkdIQINlogUtRce2Aw12EWCOzCa2N06CzuNgqUKNSOfXauFg4dRUqmTMrKy5QvnvKhg6y/VHWKzouUdpVHUyaXjvLDkxNjAATbkhkcvPdepHSLlByRce7fp6jvRMaCbH5yoezy6tZRRoMGtAvDiSXZFUHT+1atO37d7HGVk4qtSzQPsP/YsryfMTLLZJKdw455Vn5eGd47JnNyuXSmEURbg4yOkJApUCaTKVtWVF61KMmuk/1ugk4dNgoEdqHRkUXmSWfLugTjGQtb2TIxPFSKMGa8Yo26oGItM1ZlC79IVlXbYSIzeP3zMly9w67HF1YOm/nCRhk1wVV9IrkxBgFbNqz5ljV6ZWV4xzHHRAa46FrTiJPqGozRj22H/ceTwSaqQxBtETI6QgATmuX9rhOuDmITUVARhoIrq1e370zbcUVwEXRRFyYqIbrGhKiVNd02dMaJythw5SEWtW97XmZsYGTXiRr45Xk/834XHTMBY1iz5XlOABXsu4m5Poz5wlZ23chmWKja1ommYOrBGAj+/7r9oroG+76ZwBpYZHAQHQkyOiICM7HoelJE17mcxLB1hb0YyrzhYbchFOi5AAAgAElEQVTpuqzs+kQtQljvuihFIVg2yuiPLRjjAJNW4R8XeUp5v+sqwa4MXFbGsMeeyHOsQlQmeL2sDDaKgG1XdV4nwqdLFPNeUP6wo6m2RLkO6Bp+svXYdEwSRHuBjI6QkHlbXXgVXXh1RcqHCaaePJ5MsvK2kzPWe4Y9h/HkYWXmKZi830XKrah9Hjb9wIvIBOUxTQ+yvUY35UYXrKIsMkb8c6oxw1NeXRkcMmeFbPyp6mKx9QLLDLVgGV4UQaTs23rqVXMum04TfOYiTNN2sGVNy7H9LRob2Ki7LIJli6mxrHqOonKicSdrhyCIw5DR4RhWORBN2KoFXrXA+Z9utfFOstfyFhgTwvZMY5RurEcpjCiRaZ1YzyjPcyZSaIOwBqZKTpkHXKaIYOG17yKVRFSHruHKU4BlfZSSkvKt4zpthxVxCCrC2PKy331UhqlMFpmCr5qHZH2JUW5V0REbb79o3pbNRzzDnS0j+5133FWUhTeOTRxVOsaITn28d1O2PgTP894JjNMIM+51DVyX7ztBJDNkdDiGnfB4HmG2bLAci0xZ0F30sQqtS2+qSskyXdh5BlOwPVl/Yo5hZfBRKQ6Y+ti6sOXZa0RechYd5YEdvy4WSd67oLMYq/paZCzZGppB5VTlXGBlVXm9eWDuU4bOeOQZPr7cPDlk92QyB2GvkY1dbBuqd0PHCOYpvKZRDFmb2PkLY5AFDUAXhmaU8JR7duzqvte8NZvtG9U7zJOPNx+LniMZH0R7h4wOh+hOJjaTDMajolowdRcQbPQAWw/vHmw9XzrlWQVBhUphNFmQbRZxmeFh0p7uWLJV3lXXuq7PP27a56JxKjI+efIkSmkzMebYyIOL99XUwMdi61EPGiTBY6Yy6D5vXvuiutlyusanLKpjOk8EZdE1uFyhMv6DxzGOK/Z9wK4Xfh1kSBDEvyGjwyFYr5RoIsIaBlhPmko5iGIyVLVroji7kEnHi8le65dXPW+X9xL0SsralMlhqvhiohthjyVdY55FpFS5VIxMvPiienS991hMlSDsPGNz3D+nMhx0DChemyJFO3jM1uCNStHEjgvT8eNy3bA1ZLD1qyJFJvM+WwdWFgw2RipBtDXI6HAEqxQm2rPJQ0fp0bkeo4zZpIeo6g6zvA4uPf/YNlTwPHs63tFgPbqGWXskDGPA1lhxIQMmAiRzdJgYAmHel20EmZUjrPmLVw8vJUfWJi99x4UcuudEhBEZ5RH2fBuGMYlJgyOI9gQZHQ7AhsLZc5gUH18Z4C0ssnA573csLtIZ2PpE6TlhLpA8RBEKjCyq/nRpAGGV20SnMPAWZRvF3MQ7jimLMbRUjgLVcZ0IpgqZUmlSF3tvmFQxXvsyMIaHSnk3NYh57Zp6pF3MKbqYRHHCevdlnndMhN0vh40a6b7bYa1rmCibbltsWpYq8kIGB9HeIaPDASLDQTY5YxRdlfLG8xwFjRQTpR4zmauUINnkzU7ApqkSLtMFsHJgwveia3XkUbXPA+Ol5o0JkbGLIdgfrj3+YS2+PIWUVfiCv4siRDJEY0k3UhSmZ5gdA7K+9zyP+7U83ffQxsnA60NdZQ1bRuYEktVlGrGSjQ9RH7NKvc3989Yi2fqEnQdViOYPVb/L+svkHTWNZImeS/BnniOG1x7rgCSI9goZHZawk7NocpF5PFhjIXic1wZWJp4sqonSxeKtWhRE98teI5MV67Uy9ZBjFXwTL56p58+VF469RqVgsf0ouifRs8Eq7iqFQiR/8HfeOyZTjkTvIvsOse+vTBZdZJ55mXEgal/Xo4sdj7I5ildPUOkSzY/stTYKF699VRkWkznA/93mvZZdLzMIeGOUN05F76fMgFTdvysnAWvcY1AZRKJ2gter6mKvZf+p3ldZn7P9risPQbRVyOiwhKew+MeDv2MUA5kyzmtXRzGTKXSi47YKgGhRYD10IqVWNqmrFAodBRaDyksZRLUYY56bTLFn+wd7f6p7kI1JrOHA89jJFBtTVIqvSb9jy2CUW8x1sutZZVLn2dm8xzqKOs+5IasPo6Ri33md60XymOJSIeQZD+x53vyIcarw1hzV8wq2Efw/LNixLbunMGRRGU9Bo4D9h4Edu2RMEB0dMjosEU2YNoufaOJTlcMgmzDZBSmMCZLXPs9AMFFQRX3k4j5Eil9Yi7KoLZHCa+tpFLXLGs9sGZECpBpnst95cqnkxxhyGIVLZMDYjiHZmPdRRVB0FR5e3bK+Z+vGKJ6iemVedZWcOs+IbU9W1sXcxhqDNu+fSjbZeBU9K1k5G4eFDpi1T9VvLh1gMjlYhwqvTd1538RwD/7OGjoE0Z4go8MSk8kQM+G7UpR1wbbLq9uFJzvsidbUgxe2xw/TtsyLr1MP9pxKQXVZNw/Xij6mTlGUxrZd0fuikkUlA8bjbSqf6hpbWCNKV8mTKaamcyv2majq0UFUJ8aQ4p3j9avu+2kDxmDQ7TvX64LNuyeLPGLrl8F7JwiivUBGh0MwE6OJp0kUHcAQpSee530TKUUq+WWeYNsFyLRPVIqPTr2qhQujMGOVEtkipushdk1YnlZXxgLAt58xRmFR1YVVemwjWZhok0jp5RkDNhEsHaNC1o4L54YseqzT17bzOK/vMUpt8NooDQoZ2H6LwuEgQzfKwmJ6HUYmV/URRLJCRocFPE+Sv2DIUk5YT6qu4opddHUVTVFbpogUGF2lAevxDf7sesKOeqFkFQ+V0eZiwZcZxKo+5UVhRAqczFtsYjCIPOa89niIxqSNhzg4H6i841hnRfCfyijVHa8Y5ZnXPvuz6H50IzGy+2TLmkRugtfaRu2wiN4vXc82b70RnVPJIjtuYnypzpnOWzKwz4R9F2UOF5GjD3OfoigTb5yJ5hgyOIj2ChkdlvAWDJHSI1pIZR4u7MIhm8AwiqAI1ijCyMVer9M+ZjFUyWmiuGIWJNOIE9Y7LrrGbzcWiwkVMZUXWTTuREavrqfe8zxISUnhjkmRTFilVzWmMagMJpUSzz4LkWIRvM7Ua666ViQXrxxPLpXhr2Pkp6SkHPU772dZO8ExIjJ22XuSzZGm7xoWUZ/4/aC6RtUXPv4nik3ksVHkMbLywDgleGsJxshVHccY7Gw5E2NV5JiQIZonWPmD/cPKa7KeEUSyQkaHATJlhFeWVYiDi6xqEpMphTxFOzhx8epmFzPMIm2zsJl4bFTKsanMPNlk3kdd5UV0jLegyOpTKbM6dfDKs8oeT06s0sNrW/e4b0yJxi3vWfrXsPejas/UqBWVFXlFg+dlCqms7aDSwSsv8nDzfmev44130f2ojA+RIYDpa4xCJTM6RQaS6l0Rzb8m96pqx2QeYY1bmVzseV2lnFefSdmgHDp9JBqrvHdH9gzYdmRzHE9+kdwswbGlY6Sx18neQ7Z+k3WUIJKRtEQL0NbhTVqiRUTmueHVxWsDM8kFDZtgWYzxICrHwy8rk191XlSvDNGkj+0bLCqPalAG1ihix4FoEVYdtzE8eG2zMrJ1ivo2eD2vnOzeg3JgFFGV/JjnHIvFlO8m+56IlFDV/bL3gVF4TRVR7HW8CATA0R500bjgXSebFzAKEW8ekL1f7LVsGdaQV8097DHeNZi5QfXeYe4Jq0DqlBMZUTr1mKB6nzHzlOjZ6RqFvPdStb5h+gZ7jawtnXVVVB9BtAco0qGJauGXTVAiz0YY3gyZwqh7HQ+Vt1LmXdKVKViPjQdPpw2e0iVDVB77bGVjxhaeDCK5RPfOHv//2XuzGM2S7Dzsi7v9a26VVV3VVb1NT8/0LBxKBCmbHBOkIEoCJNAw/OAXvdh+8/LkFwN6sQHDgGEYkA3YhJ8M2PCrZfhBhGya3iQKQ1qixeFQM8Oe7um1qru2zMrMf72rH+5/Is6NPyJu3P//s7qa9R8gkZn3xnJiuRHnOyfOCf6//t4HWHQhU/nbCIiu/vUB5j7UBRTSM5fA31amSZC3fXeuObkroXUTZYZJC911vbXVb3rnM899y9TfX4egv81a0CXvrvchk2KIAyVbPp/5zskHoHTtw23WLD2/CQiZ5lvb+z3t6atMe0vHNZGvUKRrWds0im1Ckk3Dcx3AxkXXVc8mlpMuZet16O9s/Jjy+oyjntdVxy7IpQG0pbXx5PPMRT4C5bYAhvrXpA3uAl50Xn2AYVv5236TvsJxG8jwed/2rm0O63XZ2mEDGvr4tWnJXbSpkkPPv+m48zRd5sCmYMi3/G3Itx2+a3dXJU/X8n2o7XvfpA6fb9OmZNjlPrCnPX1ZtAcdG5ALIPhsuiaNmL6hbiPI+AiLu1qcTfz4ajW79p+e14c33zJNdbjq9REm+d+ufG1lbiKYmDZGmwbdRnoZNEeDIJC/OfH/bQJVm9DJ539Zlmv+HnQ8yEf7r5dvEyJsz9rS29pDz23luTS8tjJtc8/Vx23rQNv317VvTWV2Abmmd13nrM4LEe8Tn/XV9Z6XZ6JdK0NctO347ap+XwCv5+2qALCRDaSa0ul91KXerko+2/9dyNTHe/Cxp68q7UFHB7IJkLbNrYsA7dJ8tQmjvs9NaXzqcfFtI5ew4crbpd9cpAsuPhuQL3UpzyV40m89ny5g8rlBvgo2gdEkBNraYCIOLIIgQBRFCMOw8XcURYiiSKbR8xDR3wQUKK1eX57n8l1RFJK/qqqQpimKokBRFMjzXP5kWYaiKBrAxNUuG9mE5Tay9a0vAN9G+OmiSae/XUTziufz0bza6nStKT7fJc/n6mf9G+F/+yhebPzrfJry+6RzjbHvWHcB7ra+autnn2/G1l4fYN4GSHcNOEzPXf3uWrfb+NqU70329+cJZve0p+uiPejwpC6LlWlT0p+ZhEyXtrJNmPFZJF2aUlfbfDZ+/bmNbH3A+83VFl+Atwvgopftq2nWeTSVYRMS9H7Qy2oDHLweX2FCCIEoihDHMZIkQa/XQxzH6PV66Pf7EmSEYSjTAusgwjZ+vhu43geAilJFQjEHHmmaIk1T+Tf9Xi6XyPN8DZB0qdc3jQtUUJttY2YbW/qfv+NkA6i2sl1Kkra8XckGBNrKtn0ftrJdZdi+KxOvrjVkUz55Wv4d6/zx3zofbUoDU91tfWt63uXb2JZ8hGvTXHV9b132THrG10bbnHH1jWt9c8kEJj5MYKhtD9fXij3t6atE4qs4cYUQhwAuvqS6vTdT08LgEqpt2o8uQlsbby6QYcrXVQjjZNpwu/B9XeQDanw2DlNek2BHZJsPPuQjXHAeXGmCIEAYhkiSBIPBAP1+X/4Q4AjDUIIMbr3QN2xTe/Rwu9zSwf/n/Jjaa+tLekflFEUh+crzHMvlEsvlElmWSRBCP3mey/Q28tn0be/4XSW6gOAaf9d8sQk3LsVDl3Wdp9fvWvEpb1cCqUnw6yL82Xhx9fEm5Muj73OX8sFGXdrUdd751O+ibfL6lqN/T133LVedenk2oNLGl63f9edt+7OPvPCc6KiqqsvnXeme/mLRHnT41QdgM40Gz8fLM206z0PgtlGbANO20FLaXfNxneQaL1+QBPgLqV36VKcu2k8T0bEosmQMh0MMBgMMBgP0ej15hIoflzIJQq4LCm28dAG6RMQLF+A52fpQiPq4VlVVElwURYEsyzCfz7FcLrFYLBqghI5p6eWY6tXrN6XVtbQ28NBWl2t9cYEOvQz6oT7lY03AktKGYdgo31S2PibcGkW/6UgcL8dXQNb/N31rbQqa6yRX3SZhVadttdQ+e4yrPh/Ass3aeN3ku/aa8m2zj/nu77YyfL/XtrK/RNqDjj1tTfvjVR1o08W2q5a67ZnPu23JpI2x1WXbRDfhb5cArG0TcQmuPnzyOrpS183PR3AzCa1BECBJEgkyuEWj1+tJ3wy9jqIoEASB8TJJYP2+hy6A2/S/7QI9k+bdJMhywZmOf8Vx3Eg3GAxQlqU8lkXWDwIhdERLd1Y3kc93rAOEtvQ+QokpjQ6AuD8OHZuj32EYIo5j2U/8iJwOOvgYmwAvnwv8KBuBPDoGR/44BEQI5NnaR7yY+sC2RvI8m5ANMLrIBs71Mn2f83JdYNenDFd9m4C/LnVy/ne5R7WtJbso11Wma7/w+VbbFEdfNpjb056eB+1Bxw7JR2Bu036ZhKg2IbTrYuUraHMeNqlrUwDxPDVs25bpm98mGPkImqb0LuGMBM84jtHv9zEejzEejzEajaQAStpuYN1voqt22tQu/bltfnHLis1iwN/xfrD9rfcF5R0MBgCA0WgkBeE0TbFYLDCfzzGbzaQ1hIRkn5vZffvINmam8XcJ1iYhiQMN8s0hcJkkCZIkkaBDDwJA5dN4UB+aAKarbTSHqqqSjv4EPgjQZVmGxWLRACEm3xubgGlaF0152jT1umDMy3aBhS9bE+27PrQ924R8LTQ+QNGWz6Vg03npwoNPui5redse73rnU+fznld72tPzov3xqva6rItE1+c6mRZSH6FDByh6XW2LomsBb9u0bJrWNtpWG9mWv4tm1EZdNlUfQZGnNc0J05i28ezSlFFZHGwcHh7i8PAQ/X5/TYtts2LovJp49+lTbikhgKMDCBJ0y7I0+nyYImC1+Yjw9tj41POWZYn5fI7JZILJZILpdIrZbIblcmn81rYh0/j5PtOf0xEpDjRGoxHG43EjCIApqhiV4+q/LkKZbQ2k41Zk+eDH3MjqlKYpsiwzzktevuk79/nGbQCvTaPvoxBwldG2lrryb7JW+q5NtvLbgJct3abjQnld9XUFHLa8betz25rLy9t0bPS8Puu+a949Z/ltf7xqT1vTHnS019VpsyFyAQI9r00wNS2Itk2lC2+mvF21r67NzXfj6ko+GiYSlHah2TOV3YW3Nu10V6GjrT+DIMBwOMTR0RGOjo4k2KBySPijstrAJwcCPA2lIxBj20Q5oDDx6gseXO3VyyAyOau7yuc8kDb+6uoKZ2dnmEwmSNO0UyQsF20rLJCFIooi9Pt9DAYDjEYjjEajho9OW36gOc4uEMLnC6UJw9CanixptjlOVo4sy7BcLjGfzyXQm8/nsr85cXDuWmO6rD8uodm3vLZ9wEcZ1FXh4ZO+q8KF8viWYeKhC0i1lWHiw8RrW71t4FEvx8VLF2BpemfaC3yVdzZF03Xtsw7ag449bU170OGux1vjw8mlGdEXEJdg2bZZ+Wq12qhtwePkk27XAv+uqctm0VaGK20XAaGN2jbhXq+HGzdu4MaNGxiPx+j1eg1BmoMNW3nUDtf81I/ltBHngQMD/V4Iva0u7aPP90V1m9qkE/WNqZ7FYiGtH/P5vOGEbhO4beQjMOvpeVt0i8ZwOJQWjSRJnECDE/m86Dxw0A6YrUsm0n0/6P8wDBt9S+WQ8zof27Iskee5BHtkbZrP57Kv9b7hPOvkq4CwCYMuAc9UnmlMfdcS0xruysvr4muMnt9HQeOiTZQ3rnXRtedtq0izKexcaX3Bi099rrL1edVWL8/v05/PkfagY09b0x50OIifb9bqB+DWYm0qrLctem2La5vAtgntsqxteAD8NgIfsEbkuzHayrOBSPrf5AjtQ7xMW/4gCNDr9TAej3FycoKTkxP0+31ZJz+q4qPB4wIuf2Zz8m6jLiB4E2FNJ0pv8l2gNlDfUGQl8i0gHwQTL+R3wH1AFosFsiyT+ai/bf2sj6UtWhYJkBSymF/GSL4Z3EeDH50yWaU4SNTXK/7Dn9kAhm0euCwjHHSYhGQTMOTRxiaTCS4vLzGdTrFcLo11ta0Jvu+3Weds36sNHOt59DQ+6bvw1aVtXfeQbYX4NoWKT/0+Y+hql48CgKfrogTUy2lrry1fF36vifagY09b0x502OsA0C6guhYfX+Ch19MlvYunXYGFTct5kYGPbQOyaaq6aM98tWWm9Hp9JuIRqQ4ODnB0dCStG4C/ZYPq1wVALgS2ERda9fSujVLv367rkOnb4hGbyFme3zcCoOHjEEWRPE7Fj/XoEaz490TggwAdD89rSs/z8Wcm6woHD/wiRu4kzkEUWTb0cMcEVAh8ceBIfOshbakN+nOXRcqH+F0q+rjp5ekWtKIoJMibTCa4uLjAdDqVvh9dvjMbtQn6LoWTrV5XOfq35QIqbfx2oU1Ah29aok2Ubrb0bfm6jL2e1qYgspFpL2jjxbc9Xer2zXONtAcde9qa9tGrNiDfRdmkyeoqhG6rffuqUFs7r6stbYKyb922zcbVrq4gFKi1+HSs5uDgAOPxGMPhEHEcNwRKHQy42mWKIEXPfZ2MeZlckNL/5/2xrRZV9+fggjgXmOloF4/SRQAtSRJ53IgEbgISnAfqGwItvP1djlhxnmzELTP0v0lAJ7ChW3XoCFYURY18NDc4aOHCO7WdxqwsSwgh1gCSj0ClBwfgGndb2/l4EngaDAaNSywvLi4wmUxkiONtQFFbHls7TdYJaiP/7VNOV+HclabrWmNL39YnbQo5m5C/K567lLWJtcHFQxcAYqtzU9DwVVQQ72lPOu1Bh4V8NzGTUKT/3XWB89HAbCLIbkptlgBfclmG2tJtUu+urSNdy+eClq82zpaOhEk6SnV0dITBYCC12XQESAccOj96mTrY0IVFE58mQOMShDgvXLDk94O42s/L52VxgZYsASRIc409LzNNUwRBgMVigSiK5A3sVVXJ/giCwGiJMAmVJBzrPNluXecASCfbc5fFi26W51YNAkYEGPhPnuey7zm4ojZRGdyqY7LU6FYcfS65IpDx+crbSDzo4IOsNr1eD4PBABcXF7i6usJ0OsVisTDOeWpD1+/f53s2rU0+Gnm9nF1ZAzYhn7L0dunKBFN/+PJoA26AH9iw1ekCRW3WEZsVxAeEdbF2+Nar17OnPf1FoP3xqva6Gv+7FgdfkGLSlui/Tek3XRDbnnEygST92bbCvK2tXfnuAgxtgusmfPMytgUTejqdSOjq9/s4OjrCzZs3cXh4KC94qyrlc2C6Z8MkKNucwV1RpHh5XAuuAw4umHCBlFNbSFyXNpE09cQL/ZB2XwiBLMvW6uHzTecnSRIphJOTOJUBNI9k8fF3zSMS7jkRCNAdrHm7TeNm+u6LopA8EfjUo0XpR8EoHx8H3ifcwZy3gwNaTtQHurM472PTePK69fw24vfKUHSxy8tLnJ2d4erqCmmaOr8hne8u36NpDPR0beswT9O2Dun1tYFyW16qgwOETZVGPvtc171Q53Gbum15rkPp1LZ/2fhwATSb758NbJna9xxkuf3xqj1tTXvQYS4fgPusZldNmm3BsS0afKPwKa9LvbsADNvQJhvCpvW6+rAt3aZ9TOXRO1P5PhpCOkp1eHiIo6MjHB8fo9frSeHV5Lth4oGIH7fp4hRsaq/JEVoHGV20+SYyARL+P7/kkI4YkUaf8+r6nklAJiBA90VQGWQNoXtOdP71fietu82nhsCaPv4mAAc0hW0OMjkwImuN7pPDrRvEs00A5ce1dB7ogj8TQODH1lx9zNNz4kDZdkcH7ys+h6uqwmQywZMnT/D06VPM53PZ/5wHX6HVd52wpfd9Z2qXiVcfPkyA1LSPmHjSy+NjuMla27aub1Kuz7q2i3q6ltUG4rqMpaku0/xxKemeE+1Bx562pv3xKgOZBEWTQEq/fbRfvhoJvpiZNhT6nz9zgQpda9a2+dnAkEmAcL1v09p03RRs6dsWdxsfev912dxMbfQBEW1l8HfD4RA3btzAyclJIwSuzW/Dxjc/xqQDDpfwb/sGuPDMNeg2QcfEgx7alZfJn/E69HLarDL6fLT1t847P5rFfQuqqjIK3lzQ507ecRxb+9TFL/HA+5zAhX5Ei6wz5IfBLRXEKweILkGYwBAd1+LO90VRSCd7LtQLIRq82tYX3s6iKGRf8TYBaPiY8H7mZeZ5LtMGQYCjoyN5ESZZPebzuUzn0+c+AEF/16Yg8hFCNwUcJp5t+5TtGT23gRVbujZ+XPuDC4wQtdXjy0dbGtv+2aWMLn3tStO2RpkAh2vf2tOeXmTagw4HtS22NuDBgUOb4GoqSy/Hloc/a1vYtyEduLjIJKyaeG0rw7SRm9K0AQ5Xn+l/u8px8e+j2fPdoKIowng8xs2bN3F8fIzhcCiFdC70mnjQBX0u3NEzIh9rA3d6lvUWFX7t2wWKcnWkqyhRlAVA/Gh9EQQBBATCMEAQhKvfAc6/OMKfX84ax5boiAEXlE2Csb75mtJy8gGeujBt6gsOsjivnNrWC32MqGy9LhP/XAgngEAAiSJx8XQm/lxrEm+/CSjqyhC9Dj42uqDEQSQAIyjTj83xtujE2xjHMW7cuIF+v49nz57h8vISl5eXWCwW1jZy0ueT6XtvW7tM+Uz12vrfR0nhu27a8rmUaDa+df5Myqm2vaFtfdwEqNjIJ71t/ffd43hefVx99gIXvzbAoZdxHfv8nvb0PGgPOrYgH40Y0K5Z0fN00fxwci1srg2rDTD5aLpMvNjq9t2EXMBim0W3a3ueh0ZJCIEkSTAej3F6eoobN25I64YusJnmBwcY1If0znaUykRcy5znOd7uHyDqZSiKHHkGFFGBwb0P16wQZVkBoPEi3pq8kPAqRICj6Ahv/OwVxLFAFIUIgxCfPQOuxEwe9aF209/En+k7IUCiHzFqE/Z8iCxMHJhwIdMkcJJQbPJVMSkpdOGcl6UDHNWPzTyu8k1kEiTLspRhg4nKssRyuWxYT1yCs20NovGheaOnMx3Zc916Tn1MYZFHo5H0f+r1enj27FnD6mHrAxugsP2vrwdtwK7r2mFab9qUWJRPJxOfLlDVhUcTv665YQJEJtrmW92WfHl3pTfl57+7AiPbs+vek/a0p+ugPejwIF341bV4XcrYhgeq20SmBclH8NgF+WjINiUX8HjepGu42/rUt1+CIJBHROhWcf3ODR1o6ADN5BzOwYbeh7pvAtUTFSFOgh7yLEeeB7jzlz5E//RZIwLSfF6hLCtUVdyyD0cAACAASURBVPM4VFWtGTrWNHMkeAaHC7z2Vx43nLTnf/ANRJMewihEEIR4IqZr1gAf7X0Xwcwk7JvecyuHEKLxN58P9Lcu6HIe6YgR7xOyZpl8JvRvn/Ns01y3Cb02wdZ0fwe1R78bw1Su/t40LnxeuvjW+8hl9aiqCmEYot/vy4sU4zjG2dkZZrOZ8VZzV9/5rje2tL7rvUvBZFvzu2rkbfX5Utf+2JR85+m25Gt1aCvDJ09XhZspTRuY3NOevkq0Bx0ralvc2jZb/rxt0TBpwrYR3LtokXxIF6R8aVtgpQM7Xu6m5e2KeJ+4hAyfTVIX/ofDIY6Pj+VPr9eTIMAUVpQLY1SG6TiVXqfpXouiKBCmAaqsAooKA1Hhe3/7h8jzHFmWoyhyTCYlqqqUQKOuW0jQ0dQUBwD4tyL/Yn1ZsA02kEeu7v7yn+L1lUO4KEb4x7//OpIkQRrmEKFotMFkybABEr2/fUnvexJ6bSF1eT4eZYv7YPD/iS/S5uttInBDdXJLDufJBIRdApwOWDnpgIPfbWIKA6zPKZ0v/oy3S5/H+jjpvFG7dT4oD30rYRgijmPp6xHHMZ4+fYrJZNK418NGXPAzrUUucGvrex+Lgl5v25ruC2hM6+iXZUXYhNqALVFXgOfTF23reNe8PuChC4h5UZRxe9pTF9pHr2qW660x3Eb7ZNNat6XfxQZia0MXzVxXXm2k97dLYDKltz1r40MXfrjguulm3laPqV1hGOLw8BC3bt3C8fExBoOBFCD1C+p0Iu24CYCYSL8foixKGSL2r/7qGeLDixXIIIuGvX7VbwAHE7yt632hrCBNQRMIAgVAgkCsgEjt0Nzv9/CH//A7mMZLBKESrvVjZ3Qki0dgMmmyTcI2jV9ZljIqFIGKwWCA0Wgko1rpZZq0kyaHeA4M9QvtOE96mF96zttGY7xYLLBcLmXbKYKV3jZOHLTZvht67oosxfvYJcjrQQP0dlFZel08nT5eHAjpeSktRTbL8xwXFxc4OzvDs2fPMJlMvKOn+ZBL8GvbT3zS+givu9rDTfV1EYp3KQS3rettvNjytOXtCgJsfLnqdM2Xbeu4ZtpHr9rT1rS3dDDytWDoWjv9HZFNuLEJRKa6TOXo9W2iuTKVz8vy3fBM+Xz5crXdV8PVJpibyBYTva3tepltC79rnOM4xq1bt/DKK69gPB7LC+pIsHVpo4FmKFXdQdwGPOhc/mnRxy/9zfeQZRnSNEVapphf1tYMV1sA4oUfJxIg4KFrrnXiAEOlB0tfopb1KdRrhuVygV/8jX+OJEnw9Cfv4EePKnn7etv84oDe59vWy+PO06ZvXy+HAAEdnyLSx8fGt8lqYKqnLMu128ZN+U28c+qiqeVRpThw4v43nAcADb8T17qggwb+ferrKW+bfkSQj3OWZfJbODk5kaGnCXzMZjNr23V+Xe95vV2VQqY5Zdoj9LbZ5l+XfcAFMGy863zp7bXl91XSmHgxPfMBPqa+6zLffetx8eUDDvVxcAFPW51fAvjY0542pr2lA+4NxqWt2lTr0mVz4kJTl02lS3pdMNkExHThYRug5DtfN6nDB3RtQrwc8t84PT3F7du3MRqNpBCnC3bEi81BnJepa6El5cC/8itPkS5TLNMl0jRDFc4RjyerOiuUZdE6/gQ6hFBHpghA1DzbLRn1s3VrB/1w/whTnWFYC7aiGGD64FX88Uf1zdQ2wEBWAcXDumXL9A2TEzUdMSIQQXWRFUiPosWd2IFa4NU1/JSeHzsy8UX/62NKmnshhPx7Op1iuVw22swFfdN4mkATf8/vOeEAwxYxjRM/PkZ5qR90QOpS5Lic702WnLb7PahPyrKUlwo+fvwYl5eXjUsgbaTPFZMw6Xrm+qZepP23bZ9z7VE2sgneXfYmW1mucm1AxwVG2ua3ns4GvmzyQVtbTG1wUVe5ZQe0t3TsaWvaWzoM5KPFsD2zkS5I+pahawp9qYuwb9Nemd5vy0NXcm0KuyafsejCg56WLvs7OTnBzZs3JeAgwYnXwwGHDWzoxCMDAUCyjPDOvQmK/n3kIkUVZQh6xeoYkXkDbAO/9ftmu2yOwesbrQIsVEabVr/OU63uopii98onePfidYxGIX7yIEaVrPPM74Lw+W5tGmQu0NrK4UeBuOWJ95fOix6Rqe3eFJ6XzwcObHQ+XHPVNcb8h8h0XwbnjYdWpnL4zes6oNCd8nkf6MfQdPCmAz4OKkx+NryPCUBS8IIkSXB1dYXFYuGMcNVGm+4Npvm27ZrZJgj71uezJtje+5bbRl0Ubm37Kp8vNpDo4tEEjnU+9fJt32Bbf/mCOFe/vEhgdk974rQHHSvSTZxdBd1dbRi7ENS71knksyDT/9vw2SXv8+yPXWqH9HIoHO7JyYm88A/AmpZWF8JMgEPXgvP0AHBaDhGLFEF/ivHbf47pdIEsy0HO4LXAX1st2jZY/ZkpLf/h1po6PwlBTe0+WUGCwK5drf9W/5dlARHMcfM7H6Df7+Pu0+9CBH3EUYxlLvB5eSWFbpPFyEV6CGCehwu/pjJN48MBBncCJwHZZnFom390tIrXoUch08eE86W31wQI+DPTt0+Aif7mN55zfmgciqLA0bCPGyhQVvXdLlVVoVwd5wtEAFEJBGGIjye5BAVRFK1ZOPS1h74FAh8cePC5xMc1SRIcHx8jDEP0ej1cXV1hOp1aHc2fx3q3y7Xft5xdKZt03rsCHB8+tyXeTn19c61ztm/VRV0Al+070/PY3u/BxZ6+avTSgw4/za6bfDUxtgV+12DDZdFw8edLvtqn50nrWnXz5uFbzjaLuZ43iiIcHBzg9PQUx8fHGI1GAOA82qFrczmZBCN6Nkhj3PvaI4zf/AiLxQLT6XKlbQZ0CwWva513OkrVtFSY2qlr87nwyutQ/ytAUlXN29IJZHBA1AQxAnleYLFY4M1f+zMZGnVy/zYuf3hDHsW6xBxlVK5ZilxCtM3SwH0oTHNfHyd+zMkGUEzfjn4jtxCi4R9SVZUEPzqvJNxzXki7r1t8KC1ZIXTHd/5MByJlWSIKA8SBqO9uyXMgzyH4GNHfdL9JnuPg6hwPHk9WdZBFhPqkHvdeFCF47RaCAAiKCnEUIBIBgjDEPMtlW0xrjw58TVHOOBiKokhGiuv3+0iSBBcXF1gsFlbgYSO+ZmyyJvrm81nDfNZ91/6gK99ca2obL/p+Z9Lo297Z2uJqh8ui4yqv65jpPG8CCHytGfxZV+CzByR7ehFp79OBdUCg/+2z+Onl8ee+wMU37XWWYSrHtZjvEkD5bqq+c9YE9Ex5bUKkqz9t1h/9OTmy3r59Wwo5QA048jxfO4MP1CDFVS8958dyRCaQZim+/yuPIcaPsFgspDMtGr4YteC+7tBNbVZpmqBD5VHaOd5O0fClUP4PdaI4jqSwywU0ZZWohU/9JuxmHqyiWzUvG+Sa8fr/GD/43W9iKrLauhCFCHrB2rGmJp+ldOLnl84JIdDr9ZAkidTq09Ehys8jS1G7oiiSR3aofF3w1X+474HJ8kLtpXbM53Msl0vZP5QmjmMZzYoHHKiqSs477rvC5xLNp7IsJf9ZlqHIa4CR5zne6glcfPIEeV4YwCWVoWtw1TxaJw5eg9U8CFdjGeLGcIAHt29iNBqCIpu1hT42AUn9eyYgmWUZFosFzs/P8fjxY1xdXXUS7mnM9OdUJweCpnXDVB5/tw21rZdd12teni8gadtHNiVb/aa1+Dr21bZ931avqbw2nm15TLTL+aPR3qdjT1vTHnS46/FaWEzviWz5u5Lvgt0GmNrKseWhMnnZvvzuApTZ8ral3RTE2DYAV7v0/8MwxMnJCV577TUcHh42hF4S6LjAT4IUP8fe1kdVVSFaBviNv/UeptMZFos58rwAP0plclzW21g/azqKN4EKac9DlGXznL56F0jBn9pZFHVUrCiKUVWlFgpYARvq11qojhAEoqGJV8fCVD69bi68R1GMOI4QRTGWT27hB392jCRJGseb6NZ1AhK65p8sBMPhEMPhEADkUSJqJ40XByFZlmG5XCJNU9m2qqrWBGVd+NVBAoA10EHP0jSVvgg0l7hVh8ab3lOkMuKfyiXeiQfeL7dGPZQfftG4GLD+KRvgtB47NYfqum2R0JpjV6dVZdGc4/MyCALEcYx+v4finTdRoj4ipUfwMvUbOcE361Pzlo9dlmV49uwZHj16hPPz89aw1bJFFs00r8u1FtkESQ4k9Xe28trWd16WaT2w8WCiNkF4lwCjrX5fRZmrLN+90meP5M9Mz7sCDBffehnXKNPtQceetqaXHnTYBGDbZrHNQsYXG59Fqwu5tCdtfBERbzYhfBuy9YWpfhe1Ld629K4Nv0udvG4XH0mS4OjoCHfv3sXJyYlMx0EHFxJ1gVEvmwMTEhrf7id47Zfex3w+Qy6uVmfSuQC4Xk6zTQKALnzwNJQXIKEwikKjIMf9FvS2lGWFIBCy3aQFJxChC5jks0B+KKrvwPIp3qkuLpRzABIGEcJqvDpGE+OP/6+v40xMG2NC1gjTXRSj0Qij0UhaoKhOGgvKT4CD7vngDticT0qvE5VnOhLFj2sRmCBLFg+TTIBkNpthNpvhF7MMTy/nDaDIhUzeT3T5Yx3RrEReFkiLctXPYL9pbphCu/I5YyLlq6PykqVLyDQc7FbSChZimMTo9Xq4ee8GPgj7GA6HSJLECD6EEA3LGgeUvN+o/ZRvOp3i4cOH8jZz20WQbcK9a13Rx4GeufL7rFUu0vPb9pwuAnsXZVibssm1z7r2tzblkA9vpjp9edPL6AI29Dy2/UpP85zBBtEedOxpa3rpQYel/E4LYNsiY/tfJxdIaCvbVaaNN/2ZbVPS021L226em9QHmBdlnwXbpr0yPRNCoN/vNy7940dtTH3KBUwuoPIx4jykaYp3j4DjNz+FGJ5juVwaj+KYeFT11MdY1p3Y1x3MucDPQQcX9tc3TgG66I9+53nW0B7rfcGF4CAIVhaIEqap1xTYFADR+4GXF0UxkiTG4vFNVHkfl4+O8S+eLtYckDkFQYAkSWTUIw7MSaDlgIUf0frFV3o4uHUFVJBO08D6rd+8n3XeudUrCAJ89v5NPCjnxohXRVFgPp/j2bNn+PbVFFme4yrNsZBtq/uJBP56nOvxqS1Y5L+hLEs1f+v+PVRefaSshPnzUXXR/wQmmuOmxpT4qqS1o5Lzj+ZlEAQ46iU4HA4w6Pfx4a1T9Pv91mNX+riZABg/uvbs2TOcn5/j8vISy+WykzLG9B3rvNjuC+L5r4s2AQtd8hG5hGVenkvw991fr4t8wFkXpaFrzG1pbGDFVd410B507GlreukdyXXShT9bGptWygRIfBdGWx6XdmTTRddnU/MFQLui69pE2jSOLuq6sPf7fRwfH+PGjRvySBUPJUrl6NpsDhRsc7CqKiwWC7zVCzC69xHK3jNki3wlMFM63ZrRbKfa5EsAptCqFapKCaSqXKV1VmWby6c6igIQogQQIgyDFdAxW9OUTwOBFN3q0pzv9D4Mm3dDKD4gBeWiKFc/BbIsRXiwQBxFGMdHeGt6B2FYIQwiKXjq/fbeeQpAHYPi/hZFUeDVYISDUW3dyIP6WS5yDO9+huhohqoqEbK+DxtHlVS/6/2n+AmkwH1rkQKfvoovkEoeaX4tl0vMZjNMJhM8uJpJwKD6sAkC6rpLlGUAQIEuAgbNsVY8ciKAsE6V9jf/rnXAUTX+D4IQQO2LpECP6p+iKHE+X+BimaEXL3BvGOLT4gBJryd9ezig5/1Ez3UHfQ74wjDEYDCAEPWRt16vJy8UtIFTE/nsJa58tnddhUzTurrNvtGFB5sSy1Suz7v1NaC97jYFjItn37p8qQtwtaX7KiqK97Qnoj3o2BHpmi19sW2zMuhl+TwzlW3jy0YmbY0r/y40cD6anm1p0wXaJOi7+OJpkyTB4eEhTk5OcHBwgCRJ1iwcvCx+DIT+58+yLFPzKhM4QYzJPMWdX/kpCjFFmipHbaXFtm+y9d9g6XSNMz0nod2kYbRbeni9PDQvaXXJ4lE/V/Upv4JYOqtTu6hI8zg2QYadr/rvPFd8hmGIcJji3i+fSbAThoEU8uvjYHX6s997FyKNERW11SEvgCIvUZRAkVe4+a37OHn7IcqykECErB+zGQcTtSO8AhtmgUzvT3lMLAxx9NZDoBzg8/sDCUr08LW1NanZF7YpXFVAbamwRerjQqYuuGLtmepvwdI029qspjk31ZwjYNwsT80doChyzMsSn370EONvxOiJCKmIkKYp4jheC0hApEdZ42uFDjyiKEKv10Mcx3j69Cmm0+lWd3qoPnj+0YU2UepctyVhm/JdfeijHDP1xyZgypdMFh+f9rsA4x6A7OmrRnvQgaaAajNh2vIQ2TQwuobZlmcbvneVzsaPCXiY8rnStNWxKW8+tImm0UdDx5+HYYjDw0Ocnp7i8PAQ/X6fabPXwy/zqFV0LIT7RfCjOkiBgyrE9/7mj+RlZibHarJQsJasBEqzwKf4agrtXAuvhH5dWOSaasWD6jsVFrcs67P1SZJIv4GigBTC4zhGkiSNI0NVVWjlV406mgJj80iO0tSvHwuid1w4r48XNR3R66Mv9bvv/taPEceRPA5DEaBqcFEfR5pMKDpVE1DpdZNwr88pE4/8GTmu11YAReQDQ3eJ0KV3N8u6Hyd5iawRArZCZZjO3C+Ej6dOfD64SOW1g9Xme/U/P65F864e50oDH+TDkuHip5+g1+vh7tdu4/P+GGVZykhxpnttbBcr1paUQuaL41j+RFGEhw8fYjqdrl16uAvh3GZZ1tcOF3VZJ/m6bbMmdGnftvsZL4fIR+DWebTx0cXCwdP57neub3pT6tqOLwPM7mlPXeilBR384zQtWi7yMVfrlg9b3V8mcauMbcHuYhLfRGvj4kt/dh1mfVte22JvKisIAhwcHMiwuHEcN+rlQoMOLkhopCMh9G42m9XOvFmOu0Ef3/zNP8Hl5Wzlv8GtG02hjEgHE7w9/vO8lHVwTbcqm1tIKpRl0BD+FanbpWvBtloJuUCv18NgQJGhskYEKVVGteo7dQs3Cf1kleDtFAIgGVP/BrmlgTTpZUnO2QWEaFoWgiCGECq0blEUMnKUAhlUN/+m1q0LdGyMhwnm7TONScOnJOwhCmPEUa8xn6jMfr8PIepwvR8tFlgul/ilosSjqzkLj1shZ2CN807zm6xS1EdqPCsIEa76V4Er1ffGabTqE/qbj2l9bEqfhvx/sbKmcIscgQ++ftcBCgp8/N5neO3mId4/OJTg30YE/HlwBgK0ZKmib3Q0Gsk7YR4/foyLiwsZnYyPm6+wblvL+HzVAYfPOqYDFJMyrIuCqMvzNl43Ffr1vPrftvbaeGx759PPpjRt+6av1cW3301j+CLIFXvak4teekdyk6nTZ0Huks6HTAuyr+aoixXFtJHtUlvHSQd2vouuT7mUpysftrJM5bm0akRBEGA8HuPu3bu4efNmI1ys3q+6Jp3ABteyA/XZfLoh+dsnJU6/++eYz+fIstQq4OmgkY4MFUXtjE3HlkhI5+2i/tF5Nm3q9K7mtdZKUz7yPdDBGdU5GAyQJAmyLEeaLgEAg8EQSRJjNpvJuyO40EVCMD/+BECCMu7vsD62CgStWsvKrf/nwI2AAvUfjVMcJyswEsooXDQ+vBxKo44FmcBzIP1QOC9kkeJtjqII/X4doSkMQ/zRP/gmngazxlzh8xBo3qxOP4vFAovFArPZrPYJmqbIVw7jWo/BbJEQjTYR7woMKBCs5pZ63gShqs85sGnyYOBAgkkCHVSWOW0cJxgOBnh29xbG47EMl8z7ioj7XPFABPxb4E7mV1dXePr0Kc7Pz3F1dWW9o8O1JvsK4Kb9wLWWuYCMKY3tf9d6bFsTNlHW0XNTW7qU5QNEbEK6aZx0Hlzj5dMuXWnmGgOdR9/0pvw7lu/2juR72ppeOtDRtpC4+sO2OJnebUK7Xuy65Gl7d91kq3uTTdZGbenbBAA9L537vnPnDu7cuSOPueiXtZGwQ3/TERgSYjgIzLJMXvr2l9+YILn1KfJqKkPNEoskIPN2ccGCBOb6GFEB/TJAEpLLhtZ7/e4N27iQUAwARVEizzOYImJROcQTOeiSgEeO9nTJHbcc1HnXhcQgCFbRhLiVZ11IJP74mPiATyUg1AKx8vkIEccR4jhGnueYzxcoCrrDgnjb7PtR8yBAHNfzIzu/iT/6ZzcRx0l93C7IgWDdF4jzzfuK9wuF803TFFVZYD5f4N3ZFA/O6ahQqQn0fH6tH0/i4EGlVRHL9Ltmmvd8VHJ+kkVBATfTWqxreMHScytcc+4GQYCbowEevnobUZJgNBohjmPrfOZgQ/fboPGJ4xhVVQd0uLy8xJMnT3B+fo4sy9b63Xct9ZmTnAebgGrShD/Ptf7L3D9M5LIEuECHKd0mdfmU57veviBy2h507GlreumOV+nCmU5m7aRdeN/lYuACP5tYAmzv2gR8XQDbtI274NlVt6+2iIOGXY0ZHWc5OTnBjRs3JODQrQVcK02WjV6vPh5D6Ql85HmOxepYzC+8kiG5+dka4Gi2pwk8eL/Ugh7xsd5vglkA6P86LTl6Uyaz5rssK2lBqTX3UUP41usDlPDPo0DxELO6Npy3lwRiBZhsPgfKSsGjb3HA4aNF5XXWVDSOWNVjK1BVzYsX63au35XCNchcqOeAjHwHPv6jb+L8so8wjlH2JlgiRSXUt8T9L3TQqngo5fEh/hPHcT0GcYJnN09x8FqGLMuxXC6xWCwwuP8Ei1VY45pPcz8rgb8er9pXpelHs35fCx1bKuS84X2ibryn/tQnk25ZUc9VH6sxLIoSj65muCceYngwQjaM8WRRSP8h4ov6kluLoihi86AZ9Yq+fW65fPLkiQQeLs06/1+3kLQpwXzXQr0cvXwTP7byXiQQwakNUHFy7We2MtoUkfp7n37iddv4cIESV3k+z/e0pxeBXjrQ4UNc+KaNx7Rp6H/vcqF2LVAmHkzkAhe+9Bdt8dI3Z9/Nl5MQAr1eDwcHBzg5OcFgMACgwraSoKU7J5NQSfdC5HkuxzbPa8Evm6e4G4Q4ePvHWKYz7TI9Vb/S8K7zWws0FYKAO+S6fXWa7wUTAHmYW0AJ8bUzOBAiCJRvQZ67Q4oqwZMcsosGAFrXajf9L7A66mOyzpClQP1g5bju8x0J8GM+Kp36tquqtghUVdm4Y8Ek1DXLp2hYVL6yaoShmhsf/eBbiKIETyYBZv0UQVAgKIOG0KuH9OVCvS5I83c8D4HfsqqQVUAeCGQRsBA57r59G+l8gfDpBI9mS9b3CoiawV6zr+hbIP+QZl4CjgGCoMK6FQUAmv2v+szc1wo0N+dSVVV4cDlDPE/xWlrg6I07eLas0Ov1GlGsdGsa7y/dEZ1bPY6OjqRF8dmzZ/Iemm20/nzfMfHkEipNSiN6vgl1VRw9D4HXF3C4+DaVsc3+bSvPBC70+WH6nxN/ruex8bKnPb2o9NKBDpfWx2UF8RXgdwlATJtHV+q6+XVdqDctS0/T1Wph4q3L8zYyCeVEURRhNBrh+PgYBwcHqG/Pzhpjzh3GOeAgIWe5rH0aSPOcpimKWY6DPMTXf+tPMZlMG6FPzYKeXZNZH5cxR+FybdjcglALhSo9RWtS9SngQfdwBEGzXg5khBAsnGyFPM/kOwM3UJGK+Ng3LThcs855p3QcdJj6SglK6xwoP5jmRq+OBPH61N8kv9I84L4u1K8ENqrlEFefvoJ+v4/P0gAocoiegIA6gqb4WfflOD0cQQCYpgWyFYglXnVNvv4cgLS8FUWBXq+HLxYLTAPg7msD3P3iHHmW49GcjrLpwFW1vWl9Uv2uwiRzUlYrihxWW7oUj+vkjuBU80fj1Zw7VVUD3E/OLnA3zxG//QbSNJUWR0AdCaQ+JqDH1xxKQ9Gt6Ls+Pj6W83oymci1wAR2zd+qn6DcZT211dWFNgEQu9K82/YaH2tP1366jn2Np7MBD53a+LC923ac97Sn50kvHejgmmj6SPkznUwLBNdgbGpt2ITnXZJrIdyFhaRto9G1eT4b0yYLtS2NaUPwAS5CCAyHQxwfH+Po6AhJkjQuDCOQQYIehYOliFZ0tj7PcyRJAiHq+zjS2RKHeYjv/fUf4epqgizLsa7tbRJp6NXdFk2NsU0b5tbK0aWBKloU9z1Zr4OARyXDinLrjO7jQAK7jS/VLmojvWtad/RvlvqiqkgoVEdj7NYNBQyKYt0PhR9h4nlUeRSlijT5vExlyWgK/bWwWqUDhFUf00ev4kcPaq15ECtrmQ42gHouBUKoY1OBQPzzB8irEvfeuYcvwp7U2pdlicLg4GwCIvQ8DEPpuH61WODhzQBFnuPVh0+R5RlmOfk88Hwqv7KGqb6pWVCXV9b9VQMvOo6n5qltvlcSuNRplQXP9umreQOZL89z3L+Y4Pi9DzF/+w0ZEle/QJCDOwIfuoUJUEetwjDEzZs35bG7q6srpGkKnXRB1/bepcXmaX0FWRe1rfW70Pq72ur7XufH1N6uYMA3nwk0blKvyfLRxp8OTk2828rbBOztaU/XTS+dIzkrA0BToDAJFyZwoZs5TQIcL8eUryv5asPa6jOBLipzU22UnneTdtrAnf5OF6B8eNb5sY0X/c2Pzujl9/t9GalqOKRQr8rplB+nIi0yOUtTdCaqYzgcIk1TTCYT3BPAG7/6I0ynU+aU2jxPX1X83DsXurl1ggAICWcmx+D1uavPBSo3ikL0Vjc9V1WFxWLZcJ5WUY0C6RxPl+SpPlTpiC/bWFC7iV+KBqXnq4+P6TeX1+f4SdDnfWCvC40AADydzTGeEx+Hej427/0IwwhRFMp2kKD7z/7ht/FETKWze92mcg1sULlBEOC78wUeXEzZOJIgXmLdmgAsvnYPkrwvjwAAIABJREFUWZYbhTNde6+3ifpjuVxiPp/j8vIS37yc4PFs2XD81nJCWSTWj0fVVao0FD6ZgAfWfDU4z6qtik/+HqC7VYg/29yqwVUPi7deQ38wkKGGfYgAAfURjRGB7adPn0rncrJmAuvWpppn87rWBkhspO9VNmWZiY9d0i4076Y9tq2PXGVxvkxl+O7hXevUyaf/22SSNuLzYMfy3d6RfE9b0x50bLAQX9di3aW+TQGMjfddbBSmukw8u7RrbdaGrqBDaWDXAZINePHn/H0cx7h9+zbu3LmD0WgEIQTyPG8IhyRMxXGMfr+PKIrkvQ780rF+v48wDHFxcYFv35xi+Mb7WKZTeTSDhGluKbBZD3jfUtQgl8BtGmvXfEqSRAKPPC8wn88b1gSiMAylVUcIcjYvkGWp9PUgnrhgz1oh26zGIoAeTlZvB29D7UAdIQyDhhDvyqcc+Ukjr5zYTRfLEd9CQB4LovRE9XG6BEmS4PGP38IPPxUyPLIQApWopDzO55o+TmEY4vajMwBAWpSA0PuMyuBArn6fhGHdnkqlCcMAj+/cklp6E+mRpsjhfz6f4+rqCvfCAhcfPTYABeq3APyOFwU4wPq3GQyAR84SwgQoaF6XWnmqr+gWeTXniRcqW2UKghAHwwGKb7yJMogwGAzW/HRs34Q+D1WZ9Vy5urrCkydP8OjRIywWC1mezq9NycXrMZFtrW5bD03rWts+12WPsSmOttmndB719fw6aFfKQSIf5aMJLLrGWX9um6c7pj3o2NPW9NIdr7IJ27b/iZqCUveF2ker4cuzLqTYhHvf8niZu6BNQdm2PLjabVqouYNu29jSBYBk4aiFanV8hUeo6vV60lGVogKR9YLC5SZJgul0il98bYLw+CMs06m0mPC7NJoCCVkNTCAUUgg2AYzmnRXdjjtwh3dF62XQ0TFyVI4igTwXyPNMCsXmTVm1QWnQm9Ybt/ZXgRkuYJoAJW+/PieaDs/NqE/rwtS6UF1V6ob1fr+PJOnhkz/6Nu5fCfRHqg9NQKiuvwkCRsMB3nx8hkcEerSpya1MJktAugqF27CIVMDbT88RCIFnr9/B48kcwPqN5FyzTL/Jh+EyTXH8nTHmHzxYXVZZgn82TcFdj2imAB0dE6v7g/t01H3K82B1xKouE1CXCtLYcZ8i3gbIseF8lGWByXyOOz//FNnbd3ExKTAajaRVsk0458Iv9R+tAwcHB/L948ePV+Gd7YKk6W8+73w1/C6FjU3B4qJN1m8TcOY8uPiz1W1TArkE9U3J1Cdt+2kb0DOltQEPU736WLX15Z729CLTSwc62jSl2wjkbUKvTXDaZKEwLco+oOi6tEM+dXSt26QNBLpvYD582qwfQDM8Llk4lKCqznpHUa0xpXCay+Wyjki1sl7wOzqqosLXBjmSWx8jLSYoMgoZ2xS2TTwSwFh/7jKpK+2wj7ChgzOKyqPfv6BTfWdHLq0NUrNv+O5IKFwX4OrIW0pjrmu+dYsU7xcVYtcuhDWtRdSfpnP75vxcAJBcIQxrC9dgMMCP/4/vIIoTTKsQeS9FKLimvklUJwn9d8d9nEwmEJMrPJgtLDyUxr996NFsASEC3P38MW6Naz+QMgzwHsyWDyGEPIJGYGFZVbjxnbdwNZkg/fnnWFqilulDoABmu98CL4OAjV37T2MXQAgOQPlxr2a46aIo8cVkhnsff47g9ds4nwLj8VgCIe5cTv3A+0Txp45kEvAYDAY4PT2VR67Ix8NHIeTTL7sQLvl3uCthdVdrP6c2i4+rfB2YbAoeuqbftB/0edVWh77273Is97Sn66CXDnRwsmlldOqyYLoWuU0WXtMiYiqnq8Wjq2aoizC/S7Itoj4aP9cC7LM4U5t5tCq6HIxHsCFBrNfryWMaRVFgsVggTVMprPEjV1fPrnDzV8lpPFsdL1FCuOKBBLXmWXkOSK5DSNE3NO4s7xJyq6oGHVGUrxzqwzUNujlfs4yyDED4hocMtikFyBJE5gATj6R5V31n6k9uveCRsuwaavLhKedjPPrJmxgMB3iEHKGoEMVRq6aawM7dcR8BKhx8cYb7l7PVO10DHDT+9gEcNp+PB5czVBcTAEAkArz6jXv4Yp6vpeOWDvq/LEucpRUmVYSv3zvFxaMLXKUZ8/fgbSXrVYOrhqVRf7feBmqHqYXqWKMCJ3U5BDDrvlIWMaKiKHD/YoJXywrDN1/FdDrFaDQCoI5LcSuQbgGyWTziOMbh4aEMhX15eSktmbo1o9lXht64JiHSpqRoWxt3Ldj6AAGXJaSNuEBue6eXuel+t0nfdNmj2vpqDzz29KLTSw062qirYK5vQFRGF+3GJjz6amf1xZXz2nURJ7pOIGLrR97PJlDnu+C6FmfeL71eD0dHR9LKwTWgJOwQMInjGFmWNQAHUFtBCHBkywzzx1eYTCarNFSXqe0VKJoUF9zU5gKZlwQt0+Zps7LZnpny8WNBrj6ub0HP2TGryDBOuiBu4o+DEf6eC2vu9pjax390YbjpfK9/H8oKpQCHwPL8CGE1RnZ5E+9PQsRLIEzCtXbXIGbdiV4IgfFwgPyD+1gWBa4c7SEAYQIRprR1OcHaM/3vvCoxee9THHzjTWSr+VgUJRYrDT0J4BxA0nz+eBLhm68EGD2bYLZc4tkyk/2nxo2ACO/DcvW/0NLZgIgwzgchdEft5ntIHxJlNSEwTxaP+xcT3Hz/Uyxff1V+q3XZTfCtH4HjUa4oMhsPJnF8fIzFYoE8zzGbzdZuOqdy2/7WqctaZwM3LuXVLsm0drfVtys+tinHBVZM9fDfm5LeN13HeU97etHppQYdbZoNX6HUlsemWTG9M2nnfRbMtoXGZSXYdEEzaW5N7bHx5ruIu0CRT7+7rCSmNCbQmCQJxuMxjo+PpcMxoCwcZOUYjUbo9XpYLBaYz+dS0KAbuIfDIfr9PpaLJeYPr/BX/vqfYTZbyturdf4AsHcUxlaF7iT+awGqeWykC/Dg7W4K1soqoPPmmi4kWKdpKi0dFHa39jepAZTqawW2mmPB+8IEMM11N9uy3k7Vf7XfDPGrbpNX6em94qvZ8CAIEQUD/OSHb+NyUGIwGGA4jKwafN7/9fyp/46jGOH7nyA1CDgmXw0f0tO3/S+f/+xjuSm8eeMAPxkMG2CJ5rsQQs7tw8NDfJQkuAwi3IgFkg8/xzJbF65ZqxrjbJ+XnN/19/X3wQWzEmVJFzjKnHIMa0dzuqW+WWBVVXgymyP54DOcv/kqTk9PZeQ5ijgHNO9K4esGj2RF/UUWj9u3b6OqKjx9+hSTyaRh8fBVnLTNJ5+9YlcWUdu63KYA0wHcJvtbVyXZJhYLn7aZwJuPFcK1Buv1cD5ce66tj+jd3uqxpxeJXirQoX+ANu0//9+28LgWGDrfa1uYtgUSJn74MyrDd8HpKqTTM1tf6huLrU5bH+ntaNP48U1eL8fWVhcYI4rjGAcHBzg9PZVHLrjwJYSQWtHhcIjlconZbIblctnwgRiPxzg4OMBsNkN0NsNf+s0/xnQ6lxfMmfhbcdT4m9ij8+v0u/ZfKBrCu94/rj40v9PHhV9+J+QFgPwdv3chz3OkaYooihGGtXN9mqaNuUGAo35Ua7upX4MgXPG+zlkTtKzfw2HapGthMUQcR/L7rO8TKeVv3lYVmljv+zpNkiQYDof4g//1W6huCByw0Lcm3xAutALAdxZz3D+bWEZE1WU6GkXPrMDBE2Co92YQd//sCl/rL/HzG8dr76gdFLhgOBwiiqJam//Gqxh++sXq2GCzbAIZau5wsCw5QtMSBnAwTOOh+rhaAYN14EjtL0u6M4TKV+1QwBZI8xSDj+7jMgoxHI2l9ZL7eKjQ0HVULx4JjN+zQr+TJMHt27el1e/i4oKFxeZ946dYMa2ZbQqFtjVUL6NN4WYD9SbSQRovx5aXrxM8jb5X+eyBLt59lWU+z9p4MZFpz/MdX1N6Wx174LGnF4VeKtBh0x65BF/bwmISim3ARX9mSsfDNfqQS/NhSrMNuepqA3E26qKx0rVAJo2ZqWxbGyh/22I8Go1wcnKCw8ND6adB9dOYkRUjz3NMp1MJOOrQrSEODg5wcnKC2WyG0/QS4+/9KabT2cpHwqy91OeIrlmsqgpFoULLCgHn/LG10xyCt77NmW/o9W9IQGEO2UpzuxYYax4L5HnWuGBw/bI+0fib2hJFIQMlYm38CGzR//a2qrEKw0Dehg6ouyjW06+3jfqJAgEM+kP8o9/7JoIDgSC03/hd93OJXhLjlQePJI8Ps3XHazX2a682IhMwoWf8nau+s0WG1x/XIXsf37sjj1sBClyR5j5JEgRBgMUiqu/A+Og+sixF81sncMkBJ/Eg5JgTEehTAFRZKRQIAZR1g+agyl//6P2g7vXg5VVVfTzw+KP7yL/xBq7KEgcHBzIMdD2n88YdPPP5vDGvab7x0MO9Xg+np6cybPLZ2dmaj0cb6euAT16bYK6noTKbSoFu4MKltNLTdNmbTGlte6wJaJjymvY0W116mrayTelNbfYBIvqzPXjY01edXirQoZMLVABuEMH/7yI42551XUy2WSht7fHhwQS6dNoV2LGV67vx+gIfE/V6PRweHmI8HkvncQ44ABUeVwiB+Xy+0uwqH44kSXB4eIiqqnC7ukB4789RBJcoMnUfhI1PsyAAgPkZkDDepsW0z3MOJCidrlVfB2dNvwAqRwcS/Ebw5tETczsD6fCr7uko13jn/LpIb4t+5p54pChXijcFuqgKupk9jmNcfXIXP/7gNoaDIYJRulYn7zMAeH0YY/TwHOVlic9TConcReAy+27YrBccVLjy+R7XKqsKl6ujUm89OcPDV2/hfDpn9anIVgS0yR8i+uYbGP38Pi4WS+ZHQePf9Edat2ystQwqTC5/tuJTBhtQ5auy6+c8r3IsrxrPgqD28bhYprj7yQNkb9zBs4sSR0dHEjCQz1IQ1BdiVlUl7+FRzuxKkURzLkkSHBwcrPgtcXZ25rx40tgLwm65sK0FvvPNppTblnQw0zXvrskHcJjWXxdPrvSu+imvS5ZoG1PXXNiDlD29aPRSgw7Abra0ffxdgIZv/dclpNtoE3Prl8FnG5ksH6b3JnJZO4QQ8kgUhb/V09T+CoEUuCgsLjmQxnGM4XCIMAzx9OlTHJ9+AgyeIlvmgHZ8hNdLwjAX3Ou2oPGbBP2u2kgbNee2TfBbT2uqkwsY3OleHUEhTTcHr5UEHJSXrBDNutw3WDfHSfUjXVRY91lTGDW0cFWWWFk3Ytz/46+jLMYoMMRilKKIU2n90vvgnQSyguDzM9y/mpm68VpIv5djW+Jd//lkhteePcPpuI9lFOPTabpK0zz2QsBjPp/j+OuvIppOED6+wsPJAub+huG5zRqmg1b7WOpglUALWZN4VDQCMPWRxToC1xeTOV799CEOX7+Nq6srHBwcSItdlmXy+6fgEXy+8/r5d9rr9QDUx9LSNMVkMmkEaGizSGyyBnfVkm9aT5uSaxPqsldt03cuxV0X60ybQqzrWu0LOLZRYO5pT8+TXhrQsYmg3TVv18V628Whi9lcp11uKtdBXRZ5k4ndpwwuKHFBmXw5BoMB4jhupOd5oihCGIbyOBVp8/kFgPP5HMXDGeZH54izDCpkq40nsmAAurDVFLCafdDk0X0R4HqbVd2uLnf1bfNYQxN0kCBKDshK61w1yubCGRfgeLuJ56bA6OKX+NCFgSafin/VJrro7+Lnb+LzixHKMdDrFehFvRUPNX8Hwz56K7AUoMLjn33KeHD3Y/3/epSpbWkXgMNEnz2+AB5f4Nawj9PXbuPp6nJB0uxzS99gMMDDOTApY5y+eoo7D57i4WzJeFPgTuPeWHfdlzoA8V//aB7p8xbMX4R/S2VZ4sHlDHc+/gLRW/cwn89lSGxSNJCCIUkSeZyKR7jivmY07v1+vxHVarFYrF0YuUsrg897m8b/LxLp1haXAtFmVfchfX7ZFGK2ctss13va01eZXhrQYRJOido0GfbjKXbtgk0Y1q0lpiMZvm3oYjbfFJzwurqAjm0tI13Bm20MXZupbYzoTo5+v29sN1kzSOtJZ7MJhMRxjCiKkKYpLh9d4Bd+/YdYpJcoinUtqM5PzYO6E4ALx7rApLeP8qjjSdXKeXZ9jvF8/PZzG6ggCwFgHte6PCXAcbaqqnaoT5JEHkGry2uCrxoYEHjj91Gsf6OmyFomUnMboNDD6uiB6jPq9zBU0cGiKIJY3sRP7h8hPo7Ri+NG6Nhkdezu9bPzhlO4zhbnsyzrCF7qu9edvivZh+b3bmBoI987PXzp8WyBwQefIXntDgAgXWn+SXimPhqNRoiiCJfTKdK7ryD66AGyrNT6X29z8zf30aj/p/dkFTSBNQ4euFVMWTkIKMkc2u3ptUWtxOdXMxz+7GM8e+MegiBoRLVaLBYgCwZ3LNcvFtRB9WAwwCuvvII0TXF+fi5vdm+0oCMQcAm3XfPtmmz7R5sVxvXctg65yjTtwa4yffZk3/e28eE82Swjvnu4jbZRuu5pT7uklwZ0AFhbbFwfoUuDTvn587bFyrZgmPhpS+siXoYOatrK2EX9vmTaGHwWVhcwNJVv6gNT/fQ7iiKcnp5iPB43QuTqY0x/07GKeCWQClE7my6XSywvl/iXf+NP8ezZZAU4ROP4ED+21eSfzr/T/RwB6qMhbg0YaW2VkEW8B/LvZp81/ydh3ybQE5jgr3SBur4MMAQHJyTQc9CR58qvRY1RfSlg3daycctz3QaKjtWMNMX/55GjVCjcatU+k6Ch2hMEdVSqXq+HOEogygH+z396D8OjWPYPtacsS4zvP0JelrhvGA+lVSfhtTtgNx2T8vkEmz43xIPPJYL2OkxgZ14UGHxct77/zhu4mM4bIWbJx6PX66GqKvRQIg+j1TfD6xLst/Ll4e9NfLInIB8N/oxAMh9/dccJv+yyYumqxtjR+4v5EsnPP8X510qcnNzAYDCQ3/pisZCgWgghgQcFnuBgjAOP0WiEV199FUIInJ+fYz6fdxayN00HdBdEfdK7BGcTdVG62cq08WRS0GyrDNPLc/FkkxdceWzUBs5secz7y5729OXRSwU6iGxWiTZriOlZ1wXMtjDx8rtsMHqZLrBDZbvytNXvA17a3tvq2KRMHfSZxratfEoTBAHG4zFOTk7k7csuPshxlPKTs3KWZRguInz/N/8cV7Op8dy/jUclJNZhcPm9EpR2XfDm88d0E7drY1Y8kZWkLNf9ZFQ9PG/zpnECC/XzpmBPvhFhGK3C4RaoHbYBNI5blaDuor6NohhCAGUpUBRp43vVQStZVWqHX9I4k5a5GWVKD5MrRH1G/4s/eRcfTuvjcf1+s44bwx7K9z4BABRrPgTGLtb6cf2iPh0YkADtCxZcpPPksnjoaU1AYz1PXV70wWd44527+HSaSsGbWxGiKMJsucTy3isYfPxAgvW6DrJ68fVJ50VZKjQOVvMLLMwy3b1SrNrKL4Ssc9W88WhqpnWCO59XyLIU448/R9bvoyxLjEYjBEGANE2lozj9plDMFBpXD6lLa8fh4SGEqI/xnZ2dSR8PfZ31EeZ99i8b+QAK195g+h5NfNjeufiz8WZT+G1Tjw/5gCqbJcWXB1c/2vZBW3l7wLGnF4leOtDh0iRxahPWbQK8b/36Ytm2oLgWel/aVMPT1Fhvp0WzgbtNePPJY6rPli6OY5ycnMjoO3xT0/OTUMH/p58syxDMQ6TFVN5NwYV7onWAtP68/luFkhVCrMDNusDNeebPeTvs80U00ugChHlekkWk+U1UVSHz0H0d9Vl4gSgKEYYB8lyAhDrOElk8iqJCGEaIIoEwrEGMaqMCUnqb6v7PEceR5EHfyE1tieM69PH7//gX8CQXCEYBKnas51vZAunlHPnjCueaNtz1Caox5YCiaYngY6z3r418jkuZ0viCGB/AwamoSuDjh3j3zhF+mgl5jwX9BEGAOI5RFAXmr9/G6JPPscxzOf72uui4nosZZaUk4T7PsxXoWJUiLSmBzKP6vn4nazR+J/X7RZri1Y8/Q/HOG5hOIX086DJMXgZFtuJ3cvDjeTR/x+Ox5B8Arq6uDGvD+v7kY3VwkWn9MJVvUg618edLXQCD/mxTy4gP+e4Zu8jjk9YGKE1KS9/y97SnL4NeOtBBZPv4TYuvj5apK7UBFt9FdVs+TOXpgGrXC1ebxcK3vjYNWptGiP8dBAH6/T4ODw+dx6ooH53bJn7pMsCyLHGS9XDnzScyjCYXqlzzyzSUJISXZf2S+5Lw6E56u/TNqLZiBKsQsetnx1XdHHgQj2BlcS0wzROy9HCNcQ0qanCWoShyhGEi/V5q8GQfv1pIjawaVNvzegwKeZu4SqsE7maEoWB10d8AH/zB93CeC4ihsrKUZYnvhiUuzyYydGyXz2Gdv/X7InTtfZ1GWYuqqmrcpbJLh/NmvXysffOo9lymGeJHl3j3lUP8NF0vgC7SvExTVG+8gpP7j3G+zBr1rQNdmr8VaE5xflcpZfp6zgSryGIlqiqXafjRRjVXeZl8/dFD7CqA+HAyx2sf3Ufy1l2cz2vgAdRHLQlo0NEyCrfN7+zQj1sJUV+uCChr6Ww2W1uHm/1+vcLki6o5dykNfZVjXcGBTcA38eXa110KJ1Mek6KTp2krbw849vQiUqfdSwjxd4UQ/1QIcSWEeCSE+F+EEO9qafpCiN8RQjwVQkyEEH9fCHFbS/OGEOJ3hRCzVTn/hRDiuQAgkxDJn+uabZPwaRJ2tqUumqbrIJtWe9O2ujYHnUz9vUl9XfLq7Y3jGOPxWFo5XPHzSTCg4xP8Zus0TdGLUpy887Hx1mEb8Q3NtPmQ4FKWKiyv6e4LpVk3a7x40c1q1Ht+LGadz/qoFPl/NMfNvPFlWS6tQgSaqA6yFnBgU/sB9DEYDNDv91f+MiGUcKnSmjdqBQr1dvN5EoYhwmqAB//fu/jiT76DszJENVrdyRFFuDeI8PoowZPPn0nA0YV8pyNZbXh68mvg1p3u9Xe9A6J7HTo9XaSYPniGN8Y943u6TPMsqyBePcatQU8Ds1ywo/GtGs9M/BKICIJQ+eWsLvRT88Q0V9s0w+sdX5YF7l9MEXz0AKMyrW9hX60BBO6FEPIIFTme8/nKfY+qqj4SOBwOcXJyguPjY8n7pmTb57YhH+vndZNr//Zd/9sAiev/rvzZFCO+PLVZMlw8fhnjs6c9tVFXldlvAvgdAL8K4G8AiAH8nhBixNL8lwD+VQD/xir9XQD/M70UQoQAfhdAAuD7AP5NAP8WgP9koxa0kI+GaJOFZZuybADG15piS+9DXRbmNk3KNtRlQbxujQ0JBgcHB+j1etIHY/327CZP/PgIpUuyCBATLJdLZonw42N9rqqfslQ3aBPwoDPsNtLnVlt7ak03Ods2BXzOE0ARvNTdG1zrXAtepDWuhd8syyWQC8NoBTzUbeE038jxeDQaYjgcot/vS6FNOQLbv4u6fXSu32whIf6DYoTZ56/jo0WE9ydA2av7NY4inCQBLn/2GS5/9hkWuR1w6NYgGzV9OZr5Vb/rZZdG4GB7fp3URX6Z5Dmm7z/A8XiEw+GgceyIvrXxeIwPU4Hy9hFuDnrywsYagCrAwcGYCdgSYK2qsmH5o5DVFI2MA/T1b4AASSV/6iS2bwUoihyfPZsgfP8T5Is5QpQyAhUBawIiFFJXhYxWfaEDj/F4jJs3b2I8HhvBf1dBsg18uNZWm5KNyvTdr7qm4XxtsgdtK2yb9lcXH23KQb0f2/Z1yqOns/W7qa497elFJbGNQCeEuAXgEYDfrKrqHwkhjgA8BvB3qqr6n1ZpvgXgJwB+raqqPxRC/C0A/wDA3aqqHq7S/DsA/nMAt6qqSk11afUeArjowCcAf0BAads+YEpjS9ulDFcel4m9bUPpmud5lMXJV0PFBQbfOm1jov/f7/dx48YNvPbaaxiNRg3nTxIMTBFodCqzEt+9O8X4rffr+zlW0Wva5p+NT55cCBJOgTiuHbJJ0OKO6nyu6GXwIzomgSGKIkRRhKoClstF4xI/U9ogCCUPWZaDIk6RAMlvFB8MBjg4OEAQBMiyHIvFHLPZXOahforjWB5zS5IERVEiTZeYTqdYLBYyMpBpHBUgWneCp2NlxHsvHuHyw7fxoy9ieTymtuCEeK0f4vy9T2V/1+XrY7Y+jnqadR7LtTRtZap31Ef2NMSD7ydpAkym/Ho/+JZPQDl6+1U8ni7VISZR+/pMJhNMp1PcHkTAx48xX91js0qFdSsE1p5RuqqqLVeDwQDD4QBRFGO5XGIyuVp9hyoSWPP2ciH/praZxog/b7ZfXYaId9/G+PBQ3l4+mUxQFAX6/T7CMESWZfKHzw3dcbyqKjx48AD379/HfD5vBDzwFTpN+8ou1msXdbE2EE8ufnSQ2LZPdsnv4onn9yHbHq6XxdPpf+t1dgFYprXcBgi3VOAdVVV1uU0Be9rTtoeDj1a/z1a/fxm19eP3KUFVVT8F8AmAX1s9+jUAPyLAsaL/DcAhgO+aKhFC9IQQh/QD4KALk3zBdWkj9A/TJlzqC/immiRTXlNZPtqqXZuW9cV6E62bD0+mOm193tYPxJPNimSqiwvEdB7bVJbpuBXXoBZFgb/6/Sc4+vpHSNNUhsjl/CrNv/pxtWP9WZ0nz3MUhTquZBqbTTcXEuzIQkN9sN6vtfN1r6csEZSfNNJcSErTFGmasvsLwlWkrOat5cqSobTPRaGsSRwI8raSwBiGzaNnBDjqd+EK0Bzhix/+Zbx3PpYRiADg62cXGH3yAOfvfdool/qe/9i6V9eSklWi6TxeNX5sU1pFsQokgNuW9PtPan5sbVG3x/M0rvTNumqQlL5/H0efP8a3rtTt23QB5/HxMZ6kFZ68crwqg3+v+ndiqrgpvC+XS0yjtEF0AAAgAElEQVSnM3nhHkVSq8EGAQ76aQIOVX+ljXdtYSPrHuQxrXp8syzDdDpB/i/eQ3b1DBcXtT5sNBqhLEvp21VHQ+vLo1PNed8URm/evInT01N5V5Dqk3Vhkv/oa54am+Z+1Sbs6/nXen0nc7Hb/qHvD237Ht+/ugIO0zuX0qgNrLjkCJ6ny17O69PbaPt7T3v6smljPwpRr+b/FYB/UlXVn60e3wGQVlX1TEv+cPWO0jw0vAdLo9PfBfAfb8orJ9sHrS/K+oLNSd8gTGV2Wehc1hIfsmmAupZnW6i4wK9vaD6bV5f6Tf3gswjbwJu+sOuLepIkODg4kMcZTIIAp2aY1SaPi8USebxsRLXS26Nr4UnIV/OFNLdKGCXBS/1fC+IkgMdxrdU190XT2qH6RBc66zKFKNbmLh9z1a+1QNfv91CWCQBgNtOBmQpTWpYVlsulBGp1JKtIWoPqvq2dwPM8R57X1qY8z7BYzJGmKfK8kEes6nYpvwcOVGrgwnmuQU6/Xx/r+dPf/0VcRBmiKJLj+caTczxOm8eoVFvXtfv0vwIE64CD3lN/mUh9q6osWz27IFP5fH7wdpLA3eTDXrbpnSpb4PF0iXfLCh+cHMlIU1VVR3cqs1SOoelzr5+tWz/0uouiWIF+CmdNwQMqa94m76Lxm+Zv8xkfa+KvwnK5QO/HH+D422/iSVXh1q1b6PV6mM/nWCwW6Pf70qeFHMUpkhVfewCg1+vh1q1b8ojWYrGQ9djWVV0ZRs+oHfoz1Xbzett1bd8FEKFyXEJz257ZBgBM6Sitre22ekx7rYkvmzLRxIfOj23sdDnEh8897enLpm2ct38HwC8A+PUd8eKi/wzA32P/HwD4bBcFuz582ztd6+6j6eD5THVssii4FjIXbbIIuRboXVLbRqf3s1nQ060L5jx0YzL5DpDFgt51AT9ZlmG5XKISuVWrRfU3+dO1ler+AN0Ho6ltLhu80qVsOp/0Jzl/K9Ck3nPhUrforEeYqucOP66UJDGAagUWyHdDRQsigS/LcoRhttL0BuyMuwIy9V0cxQpk1I75y2W6ig5WXx5I7SkKXTNOwogSXIUQ8uK28XiMH/7v38MkKiCius4oDPHO+QU+T3PoQqnPJ6LuJdEvLtTnT8DeceGmWVZ7feuApyvPOl2nPEJzq6oqFFWF5Qos1++EjPCEUCCK63nkAgjm0LnKalEDcjrqF2pKBtFITwB4vQ6TH02zLap9zSNvV4slhj/7DDfeynGRJDg8PJRzeblcoqoqafHQ7+/RaTAY4OTkRH5XucG3yEebz5Utm4AFl5Jtl/uAbzlte2aX/deVt62/XPtDW12mPcrFty2/Lyi5jr16T3vahDYCHUKI/wbAbwP4jaqquPD/BYBECHGsWTtur95Rmn9JK/I2e7dGVVUtAUhV7i5Ru68ArgMQkzbmy/ywfRfUXWo9npf2xNa3tk3Qll8vIwxDjEYjjEYjGSOfnts2G9MiXxYl3h7EKMMJqpJuE2/yY9KW03t+FIiEoDrkp4rARMdcGvWWFYLArpXkgKNuHwnj5qM6VITugM3bwjXf5E8ShpF0lq3zrmvMqwrS96MGHAHT8Kpbo4Woo4DNZjMEQYiyVD4rdEO7siqst6EZQWh1J8jkAO//0ddwcHCAyzhHFVQIEGDY7+G1xQSfT2brA9OBfC7bq4FaDU7o/2YZenqzZWN93Wm/r+PLIiFozJQvFCdqSxRFyLISJ2/exOMPvgDdFr5ugaELBNdqkvOCLHvK/4qPjwpuQP47URSCW6PyvFjladZAFjMFJmvlgJYKVVXi4WSG4JOHuDEeIV9FxKMIVwCkdTJJEiwWi4YSBFC8U0S95XKJ5XKJy8tLJ3io+8l+h4ZrbXSRLkzb3tmetwnTPlYBSr+LPafN0tP2vI10ZViXctrG1vbM17qzpz192dQ1ZK5YAY5/HcBfq6rqQy3JHwPIAPwWy/MugDcA/GD16AcAvieEeIXl+xsALgH8uBv7m5GuFdoULJgWL5uAuwtqs2xcR727XpCJfDYrn3dtm6BLG5UkCUajUSM8pe1Yla1vJej4/nsQ8UK7A6Jp0fAhXg+fpxTpiWv5SNAiy4JL20lHmrgzOeezqRXjbeCWGOVvQSCi1uLWR6FqB/ewcR9C/YNVnvrOjvrejvpYVQ3wABLYiqIGHfP5HPP5rBFqt75YMFwdUVsfE1VfHQlo/sUdnL/3Dp59+DYeBhXul5m0cAySGLfLJT7/7KnfwLTQupBKlg+9n4O1H9XPzWc+dSlLSztPvmQSurcpk8+hogJuHwwb7+s5EODDFLhzPEDUmKO+Fa6DOLLG8fYIQd9SIKNMKR8gFYmNzyUCuNza0fwumt9PWRb44mqKpz/9GJeXl/JYFUDAu/5eer0eoijSvumm9aXf7+Po6AhHR0e1RUi2r/v62YW2Xd9N666PRaWt3m326rb9swv55tuVMrLNqqJTc+7ay9nTnp43dbV0/A6AvwPgXwNwJYQgH4yLqqrmVVVdCCH+OwB/TwhxhhpI/NcAflBV1R+u0v4eanDxPwoh/kPUfhz/KYDfWVk0rpX4ItBmvWgza/LfXa0e6yZ6uzbfVaatLaZ01D6bdcBkObDVvYuF1NZ3Jr5c+drM4Hpb6X9u5dD7x1QWFw7k87JCnIVIs3TtIkBOLu2d0uTzNPb5xK0ntaDO86xbKAAFTHj+5tEpsoLwzUxFvCJBa/UGVVUfl6I2kAAVhgGKQh2/UryQFlflIxBDQl5dVt0eAiVJ0kOvp8KN1vVmEozwvMoiE6CYHuPBz1/Hs16xOlqlwrbGcYTX8gW++OQxdkVK065IfU/NNLwv63fquBFPV+dvAgo+9mQ1MZHr8+T8uPKZ5rJNZnHPe7LwCCyKAuK9TyBee0Va8cjakSQJ/kSEeCeOcLHkQQwr1MeqKvk/WTdWtVjWxzod1a3zStZCoJCAt+ZJWUl4u+vyxSoAAlg6AiWVzFcUJaazGbKzM5ycnKDf72OxWMhjUlmWod/v1/4shqOUVG4QBPKY1XQ6xdOn6yDZJUi27UW+a6mex0d4Ne21PrzZLAXb8KXvJV33axN/rv3Jtqf58tmWjtdrk0n2tKcXkbqCjn939fv/1p7/2wD++9Xf/wHqVf7vA+ihjkz171HCqqoKIcRvA/hvUVs9pgD+BwD/UUdeOpFpUbUtDjaBnD/TFyp9ATAtHjyfS3PRxrfpfx9+bXW5tCbbLGC2dro0WrYNR09jy8vrcYG0JElwcnIiIy/p4M7VX0poLzEoevj+b/8Y5+eZMc36M2WhaDq5AkDTeZwXYZ6nCnDowqme33QenAu3gLpdnR/l4n/rm1pVFUjTciVE5cboX4wj+Zvu7VCAhgvZFCmoTh9FIfr9AeI4knWTA7p++SJZTvr9Af7fP3gL1UGJQV/dE0Ghdt95doUHF5NGXxEfOtmEaRcp53K6WVyVpVuahNSY6+BCzQ/OY/P9ejr+3s7f+jPeziYgWn9vo3quqDHlfOr10vdJlkG6rXw4HCKaLaH8ZOh7bAJk07dhAn6Unuqkb60o6DeFX6ZoWeawxu41Ww9vXQOki0WK/o9/hrOTE5yengKADKW9WCzQ6/UwHA5RlqWM7GZaf6MowsHBAU5PT3F1dYU0TRs8ufaxNsChr8WmvHq7fQCH777hUha5ymrbF2xrtq0+FzhyvfOp25WWp2+TC0xAyQZuTDzvwcieXgTqBDoqsxefnmYB4N9f/djSfAzgb3epe1syaSZcArG+EOjPiNosDHo9m3z4votul/eufG3ap7Y6XdozX22V3te+C77+nMrivAdBgPF4jIODg4Yvh41nUz1UZpZnq/sj6Ly2edNSbaoABKt04Uqjr4QlJdyRdleWYgVV6nnTyqHKrIx8UTq9n3SBsapU/XUaJUDW/hjkPF7Joyq1gNcsR4G1CkIU8j0Jg3RUKAzVUa1er4fBoAYdQggURYkoimQIXoAuSxQyMtD/8/vvYniSyAhJ/H6VN5+c48GieRVQU4Bt+kh0+YxqDXgTZJRloc2jgIEtHSiWjefECwngvFzOW1uELJ1MIEAHHOvlu60qNsHJBlzKslpzpE6SBMPhED8ZTPELosKj6WJV//r8VuURABEgi4qqs85HUazUXOZR5JTjOs1zHdRQWab1oNnn3IJVA4/lcoH0n/8Z8Nd+HUlCUd5mKIoC8/kc4/FY3hNDEaqa5RP4jnBycoLz83M8efJkrb/bFCUmatu7XGDEtubalEptWns9rYkH/qyrYO+qy7Y3uRRkbcK+qz5TWTbFnwtI+AA2/fkeeOzpy6bdxGH8ipJNG6JbJvQ0tkXIJOCa6ml7pwuUbZvDLhcS0+Lns8hTej2/abGz/e165qKuACsIAhweHtYXemF9Med/UxtM41qWJZaLxepOgPUL62z8kaBS+ylE2nse/pVAAeUz37JN6QB7P5A2vfmjhF99vnPtMQET1VfqDgXVpmoVYaqSZSrfDgWk6Ie03KTdVeFvy0ZfktZY3ZMQSgd08r8JwwBRFCPGCf7J730bg8MB4jhm4Kfu7689OcNFmqEJzsyCv+mdvW/53Rfm71WNIQcP6zeLm+q0RahSoFKV48Mzn1M+pGv/aew5qFVlk79DIN/p/NNYc98FGls6ZhVqN5Q3f1Rd9RyzNcZ2rr05j/lzsMsGm3OcALM6gsXL5ffDoHGUq8LlZIJHDx9iuVzKyFVCCHnUKooiOV+p/GZ/1j/9fh+3bt3CcDg0Rt2i9K7/9Wc+wnubso6XtYmyq4tVwkdp1YV869L3AJ+1Xt872hRZ/z97b9ZsyZGcB365nPUuVShsBfTK3kSJImkURZpmxsQxPo3JZPOD50Wa1TgPI8lkImkUm2wQjcZSAKpQy71ny20eIj3cwzMiMvLcU4XG7eNmZXVPZuwZi3/u4e6yLaFxj7UplkaXfaYzfVt0F5e533mKMdM+aUNIupFST4z0ZhSTbqRI/lMo5YAYAztjFNIaxDb4MYAWk+743vu0HIvFwsblkHNg6mF6Xa/wvZ98ba8uxb6h7p+R9hupqmEgiOkm6WyaFEszY3U99O5DTBYzhG60cg0qtKS6KNxx8rUBMFdV6rq29RDY0OAk1BdJJAknxsxcgct7m5DK8VJVliUOXz/Gr/77jzB7CKu9om+/mM/w01cv8cnuEAUZmlI0B/5rUQTkWtFff3pd1lTwwIBu2GZXU5KuCUmt15Qpn8t5I710cXDDrnOdIkj3uQZAFpYBp/LlnBW1ifpdY29qI1PK/iW1Kf7I7xJAdVZzx/1whUVG20Fg/NHHv0Z7eYG67x9d6zocDlYDQm6vfYFIARaWPHjwAFVV2WtWPM5pNKZJOEZrMkax9k0BF29aUh/Tdsg0QBqACY39lPFJFWLSmgmdRWc607dBv1OajjEgod8dQ9+GJOHY+k61gaeCF9+zENjwSyjvLq0hN7nr9dphZEJxOWJAZpa1eOef/9q5yz6k0J1pkugz80wepmS6GMnxMEbchXhGzJ3T8mAZod95nmE2m2E2m1vbCDe9KL1zjeJ1rAr5rYeSZC3hMxoKst0gt6H7/Q673b4HHuY61+2nH+LLj36EzSWsJzIpBcwBfPLVi5HRPB1RlzWYO66s47fomGer6e3wlT+84udLR3NBek/78bLArNfyyfVM2o68yO08iIEGBgI+V7pue9y/3XnpzntffQweXbCuwdYwf9u2+PjrF2huX+L29rZ3M23WKrmdBsKe86ifgPFmRVpa33oMScW/K2fSVPJJ+k9ZdoiOFQLG+I5YO0La9lD5vvxnOtNvA/1OgY4Q+ZhYn4pzbOGmvo+pQ1Pyv6mN9RTlTilfq4HvUq+Pssww0FdXV/ZqFT1PAU4SpMyrEqt5IzwxDd1njpVlrlIw6CH3nSRBlX2SmgrdxzwvrN9/cinLjF6u5vCwz3ygDb9bluX9lZcZiqLs20XMoNsnAIh54vGNDzPombffTdNgv99ju91is9ng9naD7XaLw6FC1xn7jhdfvIsviwaLxWLAuM3KElflUALP9Y+7qJXpUq4/Dd+HrvmY8u6ibXFBn18DkVLOqWgIJJkxl2P4za8+x6J3DkAaDgLes9kM3dUSD+ZFX6a8fmdrsv/7QQANTOb8M+Ml/5daF2kfIv8N+0N9Nf8bAQJfuxqu0bqu0D7/BvXhYG03aA+ga4lj+wZp966vr43BvbBHi51PUwVrx2o5htqo10tvoq67CiBTn08BFqn1+IR2Zy3Hmb5t+p25XiU3xBRVqcwn/w9dd9L5Qxv9XTZKHzDySeOn1HOKTSh07cdXvmxzqKyYWjilvbJs+bfxbLTE1dWVE8E7dgiE3v3eO8D7f/x3ePWKbASGXqn61MG5QLEBCCTIepmhiavuiVmazWYoy7L3hFOJNgzd13I5DGJ8Y0ZlS7sLMsD1S5UZeLj9GQbEk7E8zG8fM9/ZCOdmTpjxJOlwnufI2zUWizUWwoZA5n93UeDVf/8Yd7liFAMl8jrUXRl7be+RCobcfC6wnNqmbnBdi39LjZ6cI7G1QmXwd6b5yG2UGjrS2P23fYsfv30BfHoQZQAmOCCBA77KNByXUORwBiNyTTEIGbrMlW11+zVcB1rTQfO8aRp89dGX+FlW4jcPHqHrjJZOXqUai1BORNoOA74Pk/ZG6ocULvj2FrmGp5SXotmbKjxL0ThMqUP2eQzsyfMoVmconW99xMYqFajofW7quXimM31b9DsDOiTFFuldpDzH1OdLK8vzMd+pZcTaMQVsaKDgAwP64Iu1YUr79UaecmCFQJeJ13CJy8tLe9iPHdZ6zOi3sTeo7N1slpgCbTtkBPUYmbvr894rk0kv73MbO5G0g4TaQBHBs2xrrx8BHfIcaFv6hi3aNkeew4Kk2PiRDQX9Te9lWj1OklE1fzOjR8ayNJ+ov0MNj6lL33En6XCWZSauw3/4GfbXFdZrN+DccJz8THwKU+53SZtHyuT/JajKMr+tzpR6Y5Rl9O24/tgy972X3838z3YYuh6RK1i2BrxdV/Rz0K8NA2CNyUuYcSbPaLqNun7eG/zG40B4rVOwQCpHejyj3zQWWcbl+ZhNao9kOskt7na7wXZuvFWRZlNrFwEXhDPo5sCX19fX2Gw22O122O/3wX3Rd/b4GGP5LgVAuHvEUKgQqm+sbSn5ptQVExz5yomdkWPncKiuFMHb2Hnma/tYvjOd6beRfidBB+DfdMakymPPQoAhxKT5ypv6O/TMR6nSHZk+BDbGyg4dWCFAECLJtPnAh+5L6GAgd6rX19coy9IaJ4cOJH2QyjEwDISJTcHMiWHmqbjQQW5+M1ggBo6jJ3eDfD7QI991XYf9fm8lp8ww+t156r76vhn/3aLriAEKA2D/vMxRFDxuJo0bM8OXV0YcB2Bd4prrNwXy3IzTbDbDcrkCFj5NUYefZzWe/fJL0d4WPo3EmBYkRYshyyZwp0FdnvMd/CkG7b76iflNidFBbTBzLYfPUFmm0aAxVrZ+JtO7wSfpPTHunElL+K19U0YgwA1sOQS14bYRWGlbfs9G6gTCjWtjaWth5p68ciiN1UNxjzrRBnff6DojSNjv99hsNk5AUtkeGou2be1zAupyja7Xa1xeXuLm5gb7/V61I530/ubbYzXFGOZUxnuMQkBH/z5Weh9rs68Pod++PSylXTEg5Hsv64mBkLE6YwK9M53pTdDvLOiIkZZMy+eAX9JLf48xYj4gcmz7jqXUvLK/xwCFU0lhYpI3KU2M1Uceqy4vL0ela9JtpZRE0sFPBs5Sy9HnBsQ1K9lG3T4DDiq0bdPXG++//Aa+8SW//8S4kIbAPy6dwxBKTYT87UZcDs9tqsMAQ2ZuXTeiQFVVqKrK0V5QPmkUK5kto2WhmB+t870pHwWOk9+tbVvkaHEIeAJyx9evyaB3vvc8NkNvU1LbwIAxrc5YXXcl06Y2wJxjMG/NM5oL5jcBwOG1rnC9cmwYlBmGv65r53sTFUWBvDMBJJvGx2hJjQOAgfF35nlm0rnAnec3wME2TR1doFzZN7kOwoxdlhlg8/LrG/yLxRKfdFcA4ABAvV4JeMg09J6uiq7Xa7x69cqCldg+OKb1kP1J2e99Z59cnyl1jzHfuh5fG2PaibF2+8qLtWmMH/C1P5Vi303+HRL8yDJCmhiZ7gw4zvRt0O8M6AhJTmJSjWOYc9+7UzHfRGPljdU5tU2a6U1ty9jGF6JQXTHJW2wjzvMcq9UK6/XaRs0mg2Pft/cx1LLMuq7RFDXI85RkcDiZLtd9TsxO1zWCQXXrTz1ApbYDcK+0+A4lLTVzDyPqN+chpkmSBubWALhjzRTZmZCtSddRLA+nRU6fZSwOembsOjoLqAwQhAAdjWVkiX56MUPz2au+Tzk0SBijqZ6ffNqTKWBBBwQ8RVkMiOLpj+E9XNex+l18f6F58+PbG3xyeY2X290AcJg5QbE6tD2GXk8d4IAMDTh865zbCmuMntk1bdLrOB5DgcKwLWHg0XXAi/0BD19sUF/XNkaPBhWUB3BBCZdjxpdAx2KxwGazccqIMfgpwGLs+2mKaUiOZXBTz5ZTnK8pgIP+DgkdU+qYCrxidU0d0zPQONNvA/1OgI4p0puxcuSmr8v0SV7077tuUr40U8s9ZpM+duxi0qAUyY4vb0p9ksqyxGq1wmq1GlzTCpGOZC0Z7LeaNZaXX6jrIyGmBsE0WuPAzBGBAZNG9813EJH2ZQyYDd+7DBq/HkoqdRtkWXmeYz6f9+PW9VqOsn+WOddG2rZDXUuGmNcGMZsGrMx6rU2LLGtEX0298nqc7lf5+Td4stknAYdUpl5L7EM0nL9Iake4vNN5ntIgwTddQsvNtw7pkZ8ZjzM5n375EldXl3jVF0LOHUiSn7XDYICeHqn/9d9+ybbxoiXXhGvc7tRgJfhAWIPiktRwEaAhW5O6rlFVleNBT9YzVi6NKV0ZXa/XVssZS+/r27dJIUGRPCunnDtjmpyx82bq2JxiLGPCsjfdljOd6U3Q7wToiFFIyyEpBhq05HisfF+Zvt+xvGN0DACJHVhTNRyxMqaAj2PT6PYuFgtcXFxgsVg47QqVSW2W1z7kd/79P3yK8u1PsdtJKSQxFyR1tS0LtdjLyFNddW0YIX3wUh26/ebKEpUT7pOcx/SPjMxZWxMCHG77TV7SgmTWbS+NmbxaZYL4cdC37bYd3OXn72e0IkUhY5dwhGrqx/6bh+hUvwBA2tkMx8FvvzHFu5W034gBFp+UXNb3Oq5S+frhAp5hdHNq5xgA8Wk1YhRiorKMvzUZqNO8l5HmdV3unO8cL1i6reLp4Le8zmfmmgYS7hp2jf+HgDKFpBChrt3AfppSNEWAiUlDth3Pnz/3BikNMd3fhsTbdwbE2jH27q7CxKk3FE4tMPS1xVef7xymtRCqxwfYQgKjM53pTdK9Bx1joEBfNaFnMebYt/h96Y5pZyyvZhqnSGhCzH/Kpp/StrG6qTyWGrogLrYRjh3AmnnX7y8vL3FxcYHZbGafE3MTiv4rmXKKkEwSyrqqkAkmH6BI4u5vbvaQqfEBDoA93TAjqJkG+R3I4JoM0OMaNX5HgdpI65PZNjEQGYsPwUyj+a6mDYvF0jJpdP8fQM/kZZbZa9sO2+3G6acEITTWrL3JRLktiqLA//V/vIXFw1vMwN/V39Y4oAhFAR8DFSHthW8u688xNAw/xlOVz8A8DmR8wEECj6lLXOaT5ZhnQ+aSwVq/p/TvpD0OUT4ILgnhLIFBcqjdrp0Nt0lGPTfzVjs1yFQ+BjohkKPXK+95nLbr0Gv5Gmw2Gzx8+NC2R7uoTd1v5/M5Hjx4gKdPn+LVq1dOG6gdIaZ1jPGMaQm05nRMgDP1fax9On0MZPnaHXqn69fpx9rn0yanMPchMJCipRkDmL7+nwHHmb5NuvegAxiX2B+zEMc2Oj9T6VIsX4xpjB0eoc3prlKOVMZ/rIxQ2rtKq0K/F4sFHjx4gOVy6XiBSWnnfD43rjt7mwQA2O12qOoahcMg8dULYupIasuuNplxoTqG2q7WXjvS/ZGHCI+jBBzxg9RNQ8wfARzXgDX0nbS7V5m+bTscDoceOJgAhaSpcMlcw1qtlmiaupfO0jUzHqO6rnE4HGxbdNA/ozkpHS0UvX/81TM8GYxj6/07RGPXoVK8Wbm/GSiMpddg4hitSAhEhJnzlDFxf0tQKdPQ3JR5JBMu18jtr77AHz1+gL+Ga4hfliXytnK+r5kjZL/jXs/j+eoybTTf+5It4FitVmia2l73o+XsriHNsOl9lMHEcJ0Ov4FtY2fsr6RjCtnmMUZerkuyV3vrrbew2Wwc4K6FPfqZTKeZ3VSmPIUZHiMfQ38saTAyBP9xoV7Ku5hQZgw0+IDJWJt9NMa3jJ2Lut5QmjOd6dT0OwE6iKag/hgjp5kc3+buq9OXx1dfrD2+NCEJySkOhBSasllNSRsDdjGtiHx3cXGBy8tLx0UllRuT5s/nc6zXa8xmMwsciqJAXdeoewk8XcMgBsrUP+wrN4f+yNRvN4+cX75vXRQlyKuS71u7nqm0NJqY9w5NM/TM5JvDzFyFrgSaZxSHgKTIUqKsx4Te6fq4rUOQBWhNj0v2WpX6rDGjZ1+6YwMJshRfPovXRflCxu5mPPwubk+1jI91FSyBhB/MDN+ZOaNsY7oOUPMrz3PkIPe1NA7kytpdRwQsTBqXgZNriMDrfD7rY9qUOBwqGxXc7VNIwu38smtJ1sNaR/+4PdtX+JfbPZ4eDpjP58F9LqQh0EzvYrHAW2+9hadPn2Kz2Ywyvvq5j2LaiVQh19g5FKtb/x0CS6nl+N75ytQUEhZqAWHsPBp7HirHL5gKO3WR5WqhZ+i9L82ZzvQ66XcGdMQ2rakbxti78IE1LmEPlTElb6qx9CkodjjdNd/YYTDWx7IscXl5aQ92zciHrlcVRYH1eo3lcsXsCmUAACAASURBVGkNtEn6+icflpi981LKUweMstzwiVliZoglr77mp3xvE1vAjVyuGV16LuuXUl/ScOj2+teJLovbavKYfrVti+12Z8crzwvMZlUPPOhaVTNwmSvLovGkK2DcZ5ZiE0MzdgUsNHY+igX7C9HQbay2o2AQw2M4rGNqvZzPz+yfCpCkuvWN1aXfuQKaodcm+rttDRhx17j87RqYm/nma29m474Q6MjzAkVhxns2m9krfJpRkx7u5Pwzc5M1byZ/641LQm01+czcrtsOz/fGfbTeB2nv1l6rfP2SZ8TFxQWurq6w3+8tgNLMbEyQNoXGzs0pwCCW3x37aeWlgCadxsfk+2hMQzCFb0g5p7Wwcgx4yLp8Go8p4PNMZzo1He9S5TtEMY0GUUiiEfvtKyMVJKTUP0apqtXfRjqVtiX0jbLM2GKQlkPXO7z2wzSbzazReV3XjhT0nV/8BsVqT6UB0P7+qR3hNqce+qHvKK9EmfKo3BykyRgyeyzBJ8Ci63APIwyeSzATam9VHbDf7/t/O2y3W9zc3GC73WC/3+FwOKCqanENJHP+57XqMqEMNDo7Bj9+OMOqYecA9NzkGRqKT5lyYUNsf5oQZcouITVfvG1Utv/diZaWQ34D9dPXI5ntL1Hg3euFA3r1/GMgkXm+E9kBscaD1n3TuFHR+Ru5YNvVuBFgKezVQb2WU/ferm0t6DjFfj2fz3F9fW09yHEfpgm+plDqmekKYdL6qsHAGKVoiELtk3WkggIf0Jiyr8fGQoOt2DdM4Tl87UoBLWc60+ugew86QqrakPQodbOKpTnFxu5KBNM3h7H0IbXqFFB2V0lWrI4pkqwYKMyyDKvVChcXFwOAEQMcFF8iyzJrVyAlh3VTDxh+kqb65xSAgVta/zwZ+3ZyTmjPPf709q+BhJkZAbdstz3Duqm//NsFOaQZorHbbrfYbDa4ubnBZrPBdrvFfr8zsU76K2qGWeyE9sY9lInZlNLxruvw87/4JS7y0raP2tQewdTLq03+gH/Tt0qOvSHrCdfP3yKtrlg6Wc+3wVukLGMLZPY1Hl6uB++fvLjBJxdruFoNAMrQ253b3F8DChgY0Lpv2wZVVVkbJLa76hxAbmw9WjsnZGBDekf5OZ8LmJncSOxN2+F6OR94cDN9ig+etm8iJvv6+hrr9doJtOkrV+cNnZEhOkbYNXbWaE1MCsWY7FDZY+nH+uAra8oZ6Cs/BrCmaE3G6rqrhutMZzoF3evrVfIwCjHxIcnGmAo5Vp+uU1OKCle3wdfmmLTCV0dscx1TLev6TwU8dB9jEpmQ9Mc3DkVR4OLiAsvl0umbLl9fsSLQ0TSNMRqvKhRFgcVigZubG1RV7bimlQyNYUaYeTT9sq0EMSTMGDEYSQV9PE4s1eZ3oYCAxOANr1hQcEJm6uQY+7+1qc8wgoaRy5yyue+dZciyrAJJi03bOX2eZzagIX+n3NaX566dCpVLwCWb+9eq7FfKtaq4YXYr2jRu8xFaT6lLJe41i9vke6cNw/nbTgsyeJc2htJIIGzGJ8dnz2/x/r7G8+tLO27kKKDIzUfsOgb2+jsTMDBzpIOZm8yYU3kmb4vdbo+iqPsYMI2zbkIMKre7sWW7aV0Qr/NpAF93LRYffYb8D34R3NNSSM6xi4sLPHz4EIfDYRC3Z2xf1e9iZ0uKhsOXJ2V/n0JSgzIl/Vhdup2pgCVUxtg4TtU4jIE++f2O+VZnOtPrpHsNOkKMZiyt/J2SBxhuHmP1jTH4vrJSpToyb2yTD2l6UilFAjNlDEO/x+rzpc/z3BpXmujVYQNyqfWgfLPZDJvNxkb4Ji9Wu90OdVUBhd+lspSYmnGO9Tndv7rsZ4ix1gcO92ko1STQYIzrjeR37ICSAMeNpWBABLk87brO2nSw5LhF08gDn78nGZQbo/bOevQhQMNMqPSIlDmgg/JYEGOvUo0zxKnvhlG+j9N8xIHKULtivu00oDDmGjicLwyKXk9MEaosd771AGBD7oOs0TB/Z6od8pqLqz2jeZLnGeq6crQMNLeGEnkDYuSyy3O9PrseWGdOHhdEcD0mTWauV9U1Zp6+yzZo4Zm2h6L+5XmOR48eYb/fo2ka3N7eesd9jPk+FVM6JrWPnVO+s9QnfAqVnfpO1y/BZIh3GDvnQ3v1mNBPtyVEMUCoy04BP2c605ukew06gOEGO1Wa4jsIQ0Bg6uaWUu8YMxgDD6kMfSxvqO8xSpV6pdbvex8rjwzILy8vnTTEMDND7MYGII1G27b26sVsNrPxPZ4/f466qZHl3DauNnaQZ973DE78Bo2S/IzC+HzSkliZt2manpnX8zhHlvkYMgJXHYC2H0tXmyMN1IlYAu2WR5Hi1+s1drsdjMvgesBM8Th3zvOqqlDVFZrGjU7eCmDgs+0IPZsCJGR6n3cs879rWzNmmB3SoHQdGRinBCH0ly1/M8M+BBmpUddjFPLEpdvLdZs/pNaRrxB1Pail60zuPk7lu1eOMlsPz58WBATqWgME3X6tsfCBCBfYZFlrvzms4bjbFpmXwHlXVyh6189je11MS0B7yHq9xqNHj2ycG203knLu6LJTaEwoNgRz8bwhBl3vdylnUiyN75zz1THW3hCFQOTYfq/zjmlbfGOUcq7Enp/pTK+D7j3oAFwGXj8PpdUkN4sxyUyqhP8uEo1UyU7qYaPT+8qaCthS6xgjOebyf1+bSFvx4MEDGx1bj7WViNs73m1vHGoiaBu7A6PlKMsSs9kM+5s9/vyfvUQ2OyiwMWitaLece9ngGTMnvnkYvwboexaalz7mEoBl8If5/P3jJOY9gTaSyJdlAQNmfIbqUlLNZZoo5gtUVQV5bcUHPNw+Z8Z2pKrRthxhmr5pirR/aryO8atE8d+xsqn8VKN1DXB832sscCDnZ1e/U4DGuObGD/BCGijfWi7yjKCmTWOScWwNkxZ2/lAxrjcpBgiA3BejXQxQ7BoWg3qZnr6RZr7runbmtgXOrR43bqgEZz5GebVa4erqCpvNximf6kxh0o95FxOO+X6nnidTtRg+ZnssvxTwhfoYO/dTKEUY50s7Buh89UheJSX9mc70pujeG5LHaCpDP3XD1XmPYeCPYfQ1k3aXjfJNUypg07/pGUnPLy4uHAY2No50XYjicFDgLmlU/vLFC6wefw6ygQAIQMT+MSMgq3fbz9JWmRf2Xjobw3JZdwN/BjDwlRPJDLnMlDywXIaftUVdfz0LDiMkbTLcvsNJYxivyom/wGnyAaMmyUi+2RPWKed1SCsxluZNEHVTazhSp4UGKcdeGYuNUWpAQ2rHpmrw+3lj16K9wmdKAwDhrMH8ozmpDcahrkO5aajemHFxpv7W+6fphzQuN20Zeirj9g7JaOtqu0cVRWHsWHoAnaqZZqBt0pvgm0aDGHOa8W0QfaMUgCLznOJ5Srti7RkDL3c5a2Nlp94wSG3XqYSHZzrTMfQ7oekIqR71M0lamh667qPz6PSxOk5Nd9mcTkVTVbV3Ue368lFQv+VyGcynpYik4SiKAk1jPNsAsAxAfshwsa/7qwrUbrf9Y4cGzx9/+w0jKKWkmlnnqOecPqyR0+TO55BkXF4xoDSskaFyyD1p1xnvUwZwNDD36911Ffu2eZ6haVrs9/vejS4zcBRtnAANlUcS6ywzwOmtqwovqzXaZTzY49g1phSNRirISDXYTmHKQ5qBUy/zY2xUYpQ+Vmae3dYNDp89B95/BIAFAXkGdBmDDCg3uPQ3xBUo6WVKzlcAaNvMzin/OqHn7rzX2gKZP8vctAzWfVoP9wxq6toKOGjOA3Bi2WjyPc8yutrYWW3varVCWZbW+14qTdEsaA3kXfbzqcK+1yU88/EIvrrHxulYHiAGvlKB6DHvznSmN0G/XWKQ10THov27SFLuusEcU1bKZvk6SB/Ivr9T0vue+VTE+koBUVEUWC6XuLi4sFerJIWkfiRlzPPcCdhFWo5sW+Pn//a/oGla5DkxOsM263/aBSxdR+J/Oo10y8mG2cz8O632zml9XcA8942dKUNKjOXYhyW0JFl1v6F0H+r/7kOtCWk5TECzyjKq9B0Xi4VoLxkby7a2+Nm//RUeXzOzBQCP1kuUHiY61RjcB0C+Da2G9pb1uulUfZweyb2fj2JdExNugX+vqTDagJllqlerdR+bohh1hc0OEHguqZaANSauVoT6NQQfDEB4DVO/JGhxn9Er8jCVZZnt62w2w3K5HLjGpX74fmvNzWw2s8KXsXMvpHWQ/+Rztx/xOCVxjVI6+crxtc+XNnTGHNMuXz7d/5hWekw4NUYxTZGvnaca/zOd6VR0rzQdIUkAbQQx6YR850ufItEOlSef+doaKle2w/eOytEUa+uYpCpUTyh/LG+IUr5BqP4YzWYzXFxc4OLiwmotxtpHGg7yckV56PCvDhX2L7bYbree9kqmVH5bybS6Qe1EbpGHIiZrDcRQ4+FjIGLf2zd+rjbD77lFMkmyXPIiZbQScUmsW64LftAbnVcVxUAhg2C+YtJ13SDmAJdlCquq3gtRz0gCwC8fXuNnXYcnt/zNQvYSMSASAhwhTQYbak8zZA+1p+ta5LkxkDcBuqncYPYoud9Av3v9gENrm/xjyExVWZYosxZdf+0xyzLM53MslwuU5czOkcPhAKATHtBktHOeazJqOM1BNqzPnPlPGrzh+pHMrLtmfXt1yK2xm6Zz9qA8z7FcLtF1nbUtIyKtCK0xudakMXpZllgul1itVnj58uVkxlMLIfT+MiYs0uXQ364wJJ0BnwKWfOl03TrPFA3NGIgb4zNSytf8yJQ2hd6dwceZfhvoXoEOTVM3BF8+Sp+yQfqYN7nhpUg9UjbkKe9DjHyorVPqSQFxsc3cp8UI9UGX7aP1eo3Ly0ssl0srcacypNE4/SYXmuT5yMZ96JmboijwTtvh3b/8r3j+ounzS4YmNC7t4GAaCmGHri/D5VE5sG0YYzxTJGHybz0fhldE5FxpomMg20vMUJZpKbHxRGTiHrjB2w6HA3a7vaNR0h6wqN1VVWO322Gft05MFn+7OB6HBiEhT0+atM1CzDD9mOtYKW5t3bzhdL53oechz1kpcUzC9htuXSlG/HIe5nmOsshR9b+JkV6v15jNSmRZ3sfaqEHrSWrbaP4YYUKtPGPJbw+bbopkmAES7P9Nk0EDE3d9uWW8/dVzXH3vsQUbFFhzveZgifv93ikjdo2Q+pFlGRaLBa6urvDs2TMcDodB36Yw2jKPzpsCEGS6GPiInQdT2qfrHeunr94xEEVpxkCIThvrt29fntqelH74yjmDkjO9CbpXoEMv5rFF5JPmyHfy/RhY0WWFNpS7gglZZgpo0e1I2bh87+MS8/D91dg38IEJKa3zlRl6NpvNcHV1hdVqZQEFlecjkhiShBHge9R0vaeqKtze7vGgOog2+pgrai8z2lJjoK9j8Xj7QJ5kLN2rT6JGkP2ET2rqPwSZGfJJ9ty//W2Tmpnh4cl36SUTB/AVEko7HC/XjTFfMRseuO6aBJqmxo/+9CM8fvIL/N3T8UNzDHj40un8lPbUwfZM+VIbkYvrM62jLZNzKtYOuVxobmkQa377NUF6jHReSuOjqTwjg2q2yZDtL0ujfTTXpIqeyTeAVAf6c+dJi6Zxn5PAAcLuguoibZ6cc1mG3ltWCNB2fZvGmFvZ385GRp/PVyiKwsafqaoK8/nctkFrPFKoLEtcX1/j8vISz549G02fIgCSae8CEFLOUl/7ptaT0sapz6emibUjBtg035EyLjEQQu9j4OdMZ3rddK9AR0hq7wMXU6UTY/WmlHVMPcdoIGL1HyPNeFMSkBh40e3Q6ciWg+wAtJZDl03PyrJElmXWzoKuVRVFgVevXiF7tcV+v3NsFaSmwafN4U0dNj33h/NJSaz5X/aog9YymLI0E6yBG+V1iYdR2nUMXdv6mUp99RAgEMPS3gxt6wICmV6vEf2c6iiKHIABnhKs6LaYfP1an++QlbdomhmkxiREWuKeGiRw7GpQCo1pC/SyZkPpcB5fm3ie6Ty+cuJt85XL78bBxdRrZuG9jfd3MgY/HA42ArcBC24wUAKyVC5f1zOaMzm9XJChrzWStg4iP+VhQO/zPBX6m8DSYX9Avqxt+yi4X9M0KMsS8/m8v4pYBcbFP26k7bi8vMSLFy+iBuWxPT4k3ffV5ysnxtzK7+QrM5Q+lY4BBSn5fIIbfe74yp3SvjEAIdMM9+jxciW/dKYzvSm6V4bkMaZU0jEMu16cYwt16kI+lbTBt3GnSlmOpde5aYW0HpqMUanx1hIrRxIxqCxhZ88vdV3jcpPh6tFTVFVlGRdiln3NISZaMtWiBSAmmYzHZTs8pXmfkXTWl8XHAGpjdmKOuK3Ste3QfiTGCIQlb97Hg7yybJYy5wPXocO0rtaE43UwE3v4/jt4/2IVqNu9XjNsf9yr1BhQmUpxAJM52o4Q8/6mDd153oynOaZtvu8NdFYTcDgcsN/vsd/vLDNNmiF2rUuxZEx+ei4N031znuuneULPtOZQ/mbQMZuVmM9n1htVUXDEdQZ4tK+1eP/lc1zOS3Rdh7I0/1NgvzzPMZ/PrYYnddzoH7kQJ6cYku6iBfBRDHDE2jtWjwaDp6Zjzi93nvidm+jxDYGuY89Pn7DLd1769vEz2DjTt0X3CnT4yCeNuUt+wGWE9T/5PpRvSt3Haid0OaHfKQfFqTeoqWWNpS+Kor/nPbMgwpdHawl0dHJ53Wq32+HR20/x6BcfW4m7lMb5pPf6X7gfbFjulgHnb8mgyIPX5z2L82hGngP5MbhqvYcS/+0tPkim/E6MkStp5zHxMfshhk4zfeE75G3bIptt8aBZ2T78+rZC8WAIOlLAQgiU6Oc6TSgfa4/C3qjYpkPXmXmN6cfoTfIT+vpVSt1xmyC9l7KGkQDHbrc3tjx7Y6vAwT1p7jAYkABbzvM8N5o1es6aR9g0vAe3Tr+GTBxLmI0zhJkFN64AQe4dZh/47MlLXO5urGYDgO0naV+Nh67px3We57i4uLDXTjX59rDQ+9gzIt/ee1ewMDVv6DwOnSMhAHEXigEl3xj52qh5ixC4SdHK6PLOdKZvi+496CCaAgh8izO04GPlaApLhv1tC20Qp9JWhEDNXYHaMe0ItU2Tr790hYCkhD71ss/4UrqkJMAxm83Qti32L3eo6i3quhHfZ9hmeVBRGQxmiLnyXy8w5UrGxt9/YmhMWRpQUKbYgTl02ds07QCA+PrkBijUEltqiwyS5oIoKoMk0DJmgkxH40GGwdKFLmmJ9NgTtW2Liw+/xr/6i49tOW3bop0VWBa5M64psTF8FAMK8rcv9of+JMTApi5d49WINFns9jXW9mGdaXWlUsjtsAScx5XL7pfrPoaFnP8UR8doOcw1JNIuzGaldZ3LAT/L/h8BEr62Z1zwlpjNZv01S+kmd+j6We8tsp+63SYSOAN9HTiT/geMzdP+cEBVVVZwQnlIizOfz73AQwdT1O+7rsNqtcL19TXm83l0Lw9JxGXf9XNfGbHfqe9iFGPafeWnnNu8r50WcOjnsb2Wfk/hUYhSgUeMXvc5f6YzAffMpoNILlwfQ+1brD7JgW+T0Gl8JOtOWcihzS4FXPg2trE6Q2Og60nZrH1tSQVC1A45xqGxi7Xx6upqADroXcyQPPR8v9/jz/7kc1TzT7Hfh++z+9riSkc7dB0ZxsvMxERnzv9ZxmAC0N+VxqQZ1C3HigEzleMHs4b5GrabfrsS2WGfdZ+oTtJ0cDk+Q3o4ebMss5HNzW8TB6TryLFAeE2ZvC3qusKhNca29G3/7gB8+JMPkf3yN6r9MSl7OICgfO4j6elprB45rK5tBj83II1BngS0bdsE22LAidsH+Vu3jdLT/7G+DesagqxTxDaxTLwD2DkAHr0nIrBhXGW7RuNkHyGBjMmTW8917r4BUS4x8uyKV16PzDLSWrKHLL2f66uZrHEhu4AW+90Om80G77zzDlarlfWkR0BksVhguVw6BuXSda78m+qitTKbzfDw4UO8evXKGqnLdHKs9Degd6HzL/W88DHTMWFXCuMdKz92nmreIMboj1GoD34BU7htobGJjWXKNwmRTnsGHGd6U3QvQYdvgce0CTKdpDFmfIqkIaWtY5SyUaSAkKnamNQ2ShVwSh1jh1DsW8kD9cGDB1gsFt666HqCBB/6oCYJJTEym80Gu/0OXV71RuO+QGLDvpP3K20nQe/5W5D0n6SdxlMTS0SJCZJjRsCDmSLfQct1mDKZsQkbOLoMV9679yVvPFrjor0DyetY/m8u3QzrGCYS/MhyCYgNpct+5qWqaqDdoqoqx64ngz6Y4xoL35WpFFev8h0Bj1DelDKlZmk2m+H6+kEvQa9Q1020LTSEMc9bOn0o8nkorw9c6StiPE/DIMyNS+Lu03Vdo84l+HSBqdFOmPllPEDNew9XcwsW6rrGdrsVgIM0l+Syuuu/h6vdJq0cX9sye4WJCdLIHiDPybMVbNslgHHna6YApgHc3/zqCX7/90psHz/Ger3Gy5cvrfE4zWly4900jd3P6H8SsGg33FT35eUlHjx4gP1+PzBIDwnZfEytFnCknHsx4Z1sY4iRTjlnfXtCTNPgy596hvv23Fjbxt5NSRNrh36WIqi8C+A605mOoXsJOkJMdop2QpZBG5GPYQtJ4X1ljKWJka/+2MY7RSNzCtJjdOwGNnaY+EBjnudYr9e4urqydfsOTZlHSgOJySfAUNc12qbF//Qvb1Etv8G+akBaB1m+ZPyHwKBDjHmjdssAeAR6ZD3u2Lj/axqTcMW+yXBut2jb3DJzee6mcRkUQAINPRayTPn32Dp08w6/+1CQALRt4xjf+pgm2ZaYbYbb1mmucWMxN2jejMU4yXoNU1mWWCzmWCzmPbCqrJQ9TZsimdB4u8dicch0vr+HdY9rhcJ1sAtculA4ZKphARn6K1MmTSGMrjvsdrVltAmwuHUBtF4J2ANdDyIatG1nr2aRTQmE1ysCDnR1SwKnPgUgNJcEtA3lIA9y+6rCdrPF7e0tHj16ZMEFaTvm8zkWiwXm87nXC9XYGif3uZvNxl5PC1HqXpxKPrASa2uqxsPHPIe0ADGKpfed369DSzC+J8Z5jDEh39jZcAYeZ3pTdC9tOuRC8kl0fQsshv7HNB4x8kmRQu31tdOXRz6f2p5YG47ZeGIq9dS8sl2pbcgyI4UkI8mY1id2lUrewabfq/e/RpfRwc6SfLe9ksmOf7/hPETPTNT2GoUMfjcmMfMdgKEsw/EkTUvse7G2RNqAUMTnEBnNDTPNwdJH5lpM4qrHUzJx+eKAP3pvjq7R951dgHFKz1PDtk8L7hciAqZlOUNd1dhsNjgcDjYWRYrHKt+VrTE6xdhowDnWVmuk3XWOEEAG+nPTu3YSxtvZDLPZzAEc+/0B2+02CDiobnZp7RqgSy0orVWpwSDAwXM0NNBs80X/GDSy69zdboeXL18iyzLr+lvG7QBgXXwDLDQJ7W96DcrgqXo8ZZ7XLaiiOmRd+neMxiT4MQ1HqG75f+js9e3nvnS+co49X8cohZfRz15ne850pjG6l6ADGGfGU8BHiFK1HPLvKdKj173p++hNHDayLh+NAQ89prPZDBcXF44tR+wQ1kRSRMnc8EEebgM3g5kV3UYCJRKc8DsCO5UFHW7QOT+Acg9oWW/ou40fKm6ZuVO/e2C2PYNGd9rd8jXzMKwnLtlOIZ/WS47tbNHhB3/2EXIxHhvk+P6714nlDxnkWOyKqW53Y8vLlZzbp6jrCje3t9jtdo49wlg5sTpjfZpqhzEVpGjQ54y19VJl5tnVaoH3DjvQPJPzsW1ZWCDXD+UnwGE8QBHgyOw/Hhder6Z9mUjHAMc1LJflaKbZ7S/l0a6ghwbfLXabLa5g+rNcLh1NKO1PvrzUZ/94c4Pm8znW6zWWy+VRnrDGSAv45N+nOltOzSj7mPG7kg/EpfIAKRqJ2PkY2ofPAONMvy10765Xha76hJ7LDXEq4LhLGt2uqWXENhT9LkWtnUpTVcq+9ClajZCGh4iihl9eXlqJoLTVoPqk3YYuh8CGJD7gObq2f36QzYSW7IauRvkPN3k48LciT1Y0TtKo2/zNroH9YzeuDTPlhDQKujx3Dvnnm5vfHRszz/3ujMeuDvjSSokzehsZiouQ5zna/trKNzcbVJdXKL98HizD3+e060aniEoum9HZK1jGTuVwqLDb7axLZwlqTf26PXdqyskpdg1sYKQvwGLTNPheVuHrL1/ZMtxI5R2ABlV1QF1LrYEBGBTHQ9pYSWKmW64hc22NIpJL4GG+i9+5Aq0PcwUrR55L+5QOBE7YaD1D29YgbSKt9ye3O3zvl7/G/v3vYblcoixLu0cRuLqLRjnLMsznc1u2sU/hPlAaGt+pdaUK4Hx1Sho7Y3zrV++hel875uzT9cf2o5T8KfX5tCupeXX6U577ZzrTqejegA65WcpnobREd12QenMObRx+5jKcR+f1ASbdFx+dWnuhx3lsUw9J7UNAa2wciMqyxHq9xmoVCgDHVxBC9RATo9vYWneylN5tA6d3D0d37o1r2ELzQbrZ1VJZ8gQl45GQ9sHUaQyC9bUUd74R0+peHSODecMwtYO8DIi4Pk2SMXZBUtEzUI3otztO8ooZ9bURVuY+YETP6CpSURTIiwLINIPqSuUZkB0f6M+XV0cJl2njZblzgIyIyfWqDi7nq4/LCmk4+Nu7QPl4sBIyDpdaE6ndiBqz52y30TQNOsG8yzVLRHYWTXMAaePIvTBphWSEcAkCTMC+Am3b2OuNXQfkeVgA5NsrpAE8OYWgtDyXXW9bdHWMwA2lbRpgv9uhfvkS77//PmazmQ1MSlpZTQSeSFiivViRQIb+XiwWWK1WWC6XDujg/qRFBh+jMan+MXnlu1Rhlu/swcsEpgAAIABJREFU9dWRKkwb61do7FKFf6njHuMlZB13AS1nOtProHsDOsYkBGMbqd50QhuH753eUEIbQYx8m6KvjNgGc0yffGAt1ubYuOhnUw+eMQ0VEWk5rq+vMZvNvO0fI10u/c7z3F7z8PVF1mO8O9HB3kEakPvmgWaqZVs4X+u8d8FL1xt3m4BjEoAYe4u2Z8Sk4btmKIfGruS9B5BAyz3MCUAQAyX7SGVkGSzjI+sjoGLam9s85BKW29FBMrHMUDHA0e2j8em6DrvdFkCHw36PYlE638yU0fblDI3IQx6sTqPJkIy2X4Pi9of63fTj4AYH5Dwhpt/fjqnPJY0BGdcLVdwb2BiRZL/Oa4dpdPdGAMgsA59lmQUPhgFnL1c+0GLGm2yp3CuTricvl7nTQJKuYZq/nZFx1kbXtahrAijmf3mF0/xuUdUVXjx7hocPH/ZAurQAqq5r6D3Vp6mVQESv1dlsZj1Z3d7eWlA/xij73mlKOV9TSH9v37kbEtpNBQ0hAaGuN2UsYnxBSnvHxihlzDXg0vX58vvOqjOd6XXRvQEdkmKbg09SGmKaZVmhxTxFMpG6OUkJ7V028pS2pW7WqXXqsqYcBr5NUv5PZRRFgdVqZQ3I9fUpSqelfqF+6INBS0XD+dm7UZ4br0/apazuj+5zKE1mNQ4A4IIxw2TJSMtZL+FlJt7tQ7wdeky4XZmtG+qqiUxP7QXIPe7wGogbnZm/qYxh4IIyWZfPK5CtuWfYamtw++d/+hH+81/9FM0FxJWWFgbwAHnul7ZzvWGm2Zd2yHjTW9dF7piLW83QmnL9EeLvwh/Q3JL1jl8jSy3bjVUiKdx/TsuucVuLDbX2jOa13iOZoec5asAHe/syaU1MjaZhMN+3BO78lG0m8MxrUQNgc5WL1gBfySLDdp7DGbKsc+qi+pqmwYsXL7Db7VCWpRWqcPnD/Y7GSBPtf3qvI4HNs2fPcHt729c93A/puU8QpNNpGju7QpL6WFpf+XIOTCkzJGTTAix9xuvx8PEAISFVqE+xs0HWlwIMfW0JfdtQe850ptdJ99KQXDLtPklGbCGGpOa0uch/IUrVBnxXaGzMfOllulNsaLIMupdMsTmOHVtfu9xnGqDyNRFXij70PiUP5mEU77DBqdsXYq6GoFcGPKN4A2SoSteMdFtSxkNLGWkcOJq430MV/83tJSBB/9P1KpZGtypoW+MYzVJ68pxl8rnlmn/MWLVtiyp/hp//5HNcbs2Vru3hgOJnP/DsBS64mMIou+PGaTkQXzj9FLe08Xqnb9/H9jFcnr8ObYw/5r3q7eUMzU9/4BqHo7NzTu/pHKBvzPiW52OW+ZhzBhixsngvcMG8BIUucB47J3zPzbrY9YECSbMhI43rfVhHIY956qN8JLRZr9eBtolWeoR0vueybb69LPXslGWltisEGHzPpjDhPuAQY/Bjz+W46fmcQsfyFKnjPqUtZzrTXehegg5NIalEihQiVl7o+dTFG5IkjdX3Jmlqm6YAjZBmJCRloui85N3lWPJtxFmWIQ8yc36VuPZuIzdwfUjFGNLh/HEBio/Z4vqpvhxlWdigZrqPUw58AhY6oriU8Jp/Eoi5gIr/ll54tKcwaX/BbXDHlhjXoYRZt72uK6w+/A0ef/AUj+oFmqbF09tdoK93uzqVSjxGOXxTNtVo/a7kc6N7iu0ldK0qVWtU5Dm+ud3236/GD69XWH6z68uQGjAGmtLLnGb+5Rpy5yPN16GbWwmW3fSZAD+utk/mpfZx3rhEW7bFphHucw+Hg93z/MIAQwQ0hlcbdRtZKzCfz7FarQbp9V4Rk+jrsn3pTnlOpOQP7emh9P5vEgYxoXJ0mb7zPEX7EdqvfeApVnds3GNC2TOd6XXTvbpeFVvUIfWkzhvKp/P7yottaFpdmkqxTUEfQlPLDtUX6ufUskOH5JQ2aEY8z3MbJIuuYpycLLPgG1ufJM0wGPR/6jj5gAl1h4KNuemhnrGXK7JZMLYTDDp8B4s7F/Ngm5kpcg8puqpE+eRBGeJ5fBJI2S8JdIDhOh4C82FbKU/XmUB6j37xT+jqNb5+WXrW5rCcqQCEvvd4uuF1I5k3ZnA+7OfdbUw03XHLAACxBujK4dhVPrde+j5kMP3Wqxt8vt175nxMo0BrxvxjOyO37jShkt6vzZUoOVdFiZQzAOD8z7kZmZPGuPzdO3FHQqBjDHDQHik1JVlmHC+sVisURTHqhnnQG88ZMZbe9NcPaKbUFaOYhkE/S9V23JVeB08whc6g4ky/bXSvQEdoQfvep+QN5ZuyCU4BQBLgyHqkhOoU7fKRlKidoswUkCcBRUrfus4YQpL3FUonXeVObaOug68rDMeBmHRigiTjE9vb5VWgMYoPt26vbJsxVKV+UV9IOhs6fOX1Ff2O7SFcrYQxZjexot1y6fe4xs/NR2MYt2NyDbx9Adkk49bhcDigqm+R7R8AS+CtRYkXBzKcHZZ5KvJ7lCIj/XbkG8tyKC8z9CnkA1SyHP33VJKflcdRp+m8YyDfszCDhQd1XfexNdxYOfy9TRRv/ZzmHWsDGcC6wNI/N932uyDBtFVrhFiT4pblaikB12DcrUMy4b3xesZ7TVVVFiAQOJDe3HzkOz9Ca3+1WmGxWDhBD31anhClr++40OGY8n1ARr4bO7fucq6FyogJ6MbO6mOFor50oTk+lv5MZ3oTdK9Ah6SURa7/DqlhY8yxj2Lq3Jh0Y0yj4JeM/3Z4nUgBDr70ocNOppPvlsslVqsV5vP5qZruEDMxgMtAwD7vOgISrtF45tEYkPGnTBcaF998cNNq7cuQ2SMGwkg4KR21wU1sAAdrLGR6XacEHtQHl+HjdDEKSz0BgOeQ9DIULpOvfhGwY0YzQ13XePcPfoV3Xn4f/+UfHuPjdx7hx8+e48WhhtYukE3HFC2Cb9kxsCDjcU5r/rl1pICe0PKOGabHJOu+d1NAiCzfl0+7xdXt1Ew4XZWqKhOTxAT7c/fnrutQFDnKctYLBrJeu8eAg2yFzDxC7zI3t++11kRr13iuhdYn9ZfXCs0/eq5tu/qaILUhlJ7sf9w6WFig3eR2XTcKOnxCGKkllnvRcrnEer3GZrMZ7L8pgCLl3NHCLF+5KQAlRWORkicGVlLex/LIdvnaGiI9NlPOURaGhXkOWc6Uss90ptdB9xZ0aEpZmKHNI4U5DtU1pn0Zo7uAn1B5KRu/pFNJjo5Vy8s6ZERdecACzKiSEXXs2oAeB9uujIwzC2RZ0zM8xHDI9JJ5o+/iBvFzoxgP6/aNhQalruTSNFAy5HqOEmMiQR23QV4VcdvDGg13nptYArl4znlIK2SYLX9fY+Mu+ypdBRPzltu4DcTIGeaNXQXLOecrE9jv99i/usF2u8XFxQX+6dFD/MF2h89fbvp0rfP/sL0ueODnbhoqgxl713ZizMYhFO+CPCJJkkAm1N4xku3yMb+6Pt1fYupj7fLtNcy081z7weOH+Ot8hnq/x263w+9vdniyrQYCh7btUJYZZrOZDZzXda11NEDzSFYZ9l4HuGCAQaFvL6M9RRKvAQbddW2cHzAoI40GgR5a+1KgIfYV8Lrqus4KEeq6RlEUQdARilIur2ZpknYdritht4++fdjnLVD/HddaDtOlMO+Ufqx8X54pZ0+IUrURMdAz5XlK3aF6Q+N6Bhpn+jbp3oMOzeDFNAyS5IHn27T1+1j9lD5W35gEwvc+dJjE6NvccHwgTr+PbZDkdaUsS+fgk37pZZ4Ury6+esx1hhx1PbwCZv7PLcPB+VxDVsl4hcbCdyj4viuDh0Gr0XWuBJPmpdSwyHJNeX4w62sjS0uBpiEgRmvCvbuvx31srknm02hnyPidtTBa00PgTzM+vrVIZS/ffoY/X67x179eC8Y09arSaQyvh7Ya44EDx1zsxiiWxu1LGkAZ2qTIteaX1JpvmllX0l0nGUa2c2naBnWb4XA49FfiGrSOFpG1GIfDwX57cjLgv77k1/gQcDcup9nRAgMH/95vXD4TYDfpyG5KXkM8HA7W+5br2tZv6C7XdZYBeZFjuVw6e4DrpS4OMHxxO+halgQg9E9GPqd2yfeaZBofje3rIUHLMRqGVEGXry2+vTF0/pxC4BZqlzwTY+0O5Z2qHTkDjjN923SvvVfpBT0F+cc2Xp0mVK+PaNNOYchSpSrH0F21Lb40KZuzb5MNgTpNJJkry3IUxAF84PoAR7D/GfCf/7dfoL5dg7QCvjpIGyLd4R4jSdP9iIEU82p4iOZ53jM/JpiYvkbhlhn7BjmKQgKGrI8VMMdyucByubDMF7dn2E6S1BIzptuhwScxpHlumDsjyZ7ZiM2OJFiU41tLLsPYP8sqlA+/wm5H3pCOAw4h8oGYVFuRlEjlpy0v/C4lJkmoDq2RYK9SOfgKXGOBApXzweMH+M3lNZqmMYCjqoL7MeWR7qKbhjyakSaMQBLs3/ws69uT92ulEPFjCKRKD2vsWY1tTDqn/XSmyLIIKHHMkKG3IGqjWUs8/kVRYrFYBBn+2B7rRmvPB+DE9RJnyiKt0ZjgLaX+EIUY49AZMJXJD52noTPimH16KqW0MZRmqsYn9XmorLvyEmc60xS6l5qOkCRdvj8FhSQmsTpDbRvb0E+9OR47Bilt1BIYrS1IrUf3eT6fY7FYOIepZLBJ0jelb75x/RK3+H69RL4IBxdkpruwh3ls3vkOXp/ULdS2WJ/yPMdsNnOulUmvNodDhbquBvk0GCHAYWJi1ACMbQgxJWTMut3uBmBGa2hC4J7SEVOk7+8z8Oh6BlQGGmSpeuoap6x1fcAHWOBZ0+HV21d43LR4stmh61girodYSqDls7tuH6llkEbp2yRfzA15Jct8h2E+w3BnKIo5gAJdB3v1iDRk33vvGp+uL/FcuMql9evOLYA8R5EtFYHRrNdckNZvOFwZisJ16yzzkBaF20zrzsy1LHM1qPJ2kwEvxMjPLEghMOS2lcZz2D5yTmHWcWk9Vum9J0WwQ+0KkfRyRWtbCgdiNAYKUpnlMUo56+TeGQJMKe3Q55PMf0o+QbdlyjkYeh5r79j+mFLmmc70OujegY7Yoh4DBFPr8amaY2riuy7qU26Ep6apUpeYxiREy+XSHshE7KGps4zxXQ87ktJ34vqQO/bEkMi55jK5ukzNEHG5fgZU55PXMGQaE5fDuL8k4EHMDgXdK4o9djtXEirvrss5awBBhrrmK08UbJCiI2tvN+63lIGvMEhH/SGGhz3ydE6b/FL3NMBBaR2wgAq//5d/jb/6j3+IT7Y1fv7eNdpfbZ1yeVxFKQqQ+L6VtPuITT3JwKdeazo1DzB1aYzZuoTyGEbeAEbSTFbVobfV6fD+xRIfXVxht90DgJ2rWZYhz9huh/pv5hJpHVirob8dPWPtY26v6kly48MMbXa4fGOTYQDHECBnWY6mqa3Bd9u2HNzQYWbNniHroT5SOy/nM1xfX+LVfD7Yw6RwxUcEUlI8+BkD+8Lm03mOOcNiz/Q+o8sL0dh5N0Uj4muDD7SknFep58sUbfcYoPT1xfctfNoT+S71253pTK+L7h3oIIotxtimGisvZZPzpUuRAPny+JhC/f6YvoTqjgGBsY3Jp9m4C2lmNs9zrNdrlGU5qE+2M5W0hEtfTSiLAk3uL4/Ty6sRxCDJb+TamLjtNJLWUJPd9oXSmECA6/Ual5dXmM9ntj4Z6Zv8/e/3ewsYJFAC2h6kEHPD3nMA4zVoNuOtYr8/9G5NGzsWXcexRUJ37IlxBMxVlPl87oAkAD3DZrwOucwQu/f1jdFwDrvSy7btsN1uUW33yIoCXVZinmc4WHsSl8nl79q7Mg30x3z3od0H5fVpCWSeMaIyTxWbIwaQxqKG+5+H6qjRNAagkuMHw+gboPcPbz1AXjdWeyYB/7wskDcd2s4YXBsNRwup4eDvJL832xkZr1XDSN6mDY0AHFQOQICZNSFSy8IgmsataTLkOVBVNaqKgLgLtnm+kmaFqW0JcADzssTbjy7x95eXeNDvcXL+p2o4NPDwaUx0nhQNSuicGdvr5bo8pebAx3jHgIFOE9PU6rSpgCNFkDbG+IfO/JQz9S4aldQ6znSmu9K9Ax2+zUM+B46XVOiNIFWbMnWzlZud7EuI0Y5JZ2Kq59QDwQeAdN0xlXsI8IXe+Yik+cy8tDb4nT5AUiSCQ+0Fk2FaSqAoBkynDJYnmRN5xUqOlWTu5N9FkaNtpUvdzJbr9mPo6pPat1jMsVyamCXz+QxFUYI0HKYdueN1pygK1HWNum4go4I3jXvfm+68U6wL0qCYwIzGZXFdV2jb8BrxkSu5z1CWM6zXF5jNZjYCc1XV/RjNsVwuHUDozleOl0KMvFt/Nnh2OBzwP//7f8B/+49/gn/c7vHop98HfvlJsI3m/6GHJgk03bzsoWqqcXiINAgaozGtSwgg+cDWsdoY6Uq6qipst1uUZWndXDdNg8Vijq5jDQcBYgD4r7MCf1oWeHKzQ9tH6JbXBSGu2XG7M+uIQNpVuPFlGLjwWrU9EetZrjXYugzAyZxnpg2dAE4yjRybzslDa53asfrwAf4Gc7x3ceHsa1Q+/R/b23xupsf2utD1qrHfsl2xNKnvfOdb6HzynRkpgCOlLVPbPrUO3c+U81OWGdIWhQDHmCBxCqg505lOQfcOdADjTLVebFM2Sy2BD6XR76a0aYzB923CqZL/sc0wZfPTz2IbV6oEzUcy73w+t15diDH2SejG6vMxsFLKSmXmRQ4UBYoiR9N0Iq1757zriMmUEk7pvcrf3yzLMJvN0TS1bYNxueuCD/oNcbVoNpthsVhYT0+73b5n5BY2XV+b01cCIVnG8QR8rm67rusZHxMZmYDafD7vtSalE/G8rhvUdeUFgFSePgibxgSBK8uid0/szmFznWtuDYyHYMJ1BSz7rZlJoOuN0jvsdlvs93s0het6lJh0F3AM/w6R6zb3dFHDY9M5FIQwli8ERjTY8BnGa62Nm1cWmiPPucyqquzVqctZgS9/+AG6PvAdXUc6HA6Oq+dc1EMA38TloO9BzD1fqaQ5xsbfDFZkHqMIIOGBb5TkOiSw4QJmHge5N9D8pfko164LZmjcqMyiKLAoF4P4Q2NMKZHPkxvX4+bV16m0O+CYUE2ff2MMbopAS5Ylz6GYMC1EY0K6lLJSeIPUc2ssjT7XY+RrT6ifx4KIMwg50+umewk6iOTCiTH5Mu0Upj0GAmL5Un7LZyFmbiz/GIUA0VSKaQzGDo6xjZLKXiwWmM1mwbLGDrexNkhj6SzL8J/+6jG+/2GLqx/92suUcx/pma/8MPOn3ftKRtl3PclIcnMrMc6yzHHNCcBqJIy0t7CB0Wh8iAmTQIOuq5H2g+oBYJlAc5Wq6z0FsT0GeuNzw8wbTQX6a1DuvXunJ7b/+/3OMq907Ws2Mxqt1WrV97FCXTf2qhfEtanQvDXP6ZnbhsPhgF/84Wd48qsfo1Ytk9+QGEKKF0LvNXNOf5v3rkZsij1EbK74qOu1MKcIaOiWy33S/ZNpQvUSMJf10bd6fLnCl997H/V27wCOqqpsFHIA+Ffo8HzDUckZlMu14l6/M/ObPFkRWBn0XgCkbvC9+X99zSY0fi6zqEFrlvnnxqBVJuEoc3zq/RnAALDJ9LEz0ick89FUgZzvHE0BEGNnuY98GodY21PfheqKCRlje1noW4QEPGMUE2CewcaZXjfdW9ARY3jHFrlM41vwupxjD4NUep3ln2qTSS0n9l1CZWZZhvl8bhlkeibT+Q6z1LLllQz697x4hXo3S2DSdF8Mw8tMh19yxC443XR9DyCZZQIQRVFa7YKJVkygo7EgRPaHg/fJaz+dUzfNX7ruRaCDmBEGNoaZzPOsBzel1dIQaPNFktZ9Zwa+U/YlsG5M+cqHaUdZFgAI9MgYB8zUDkE8bBpJTdPg8r0vkX/0GG27tAz08LsOHgVp+pWplGtLp9OWTKWYBiWUjr+JjMLO8+7D6wt88/htvLjdWsBBUcj3+70NevfHlws8/eIFdlXtNfTWhs8MSKSkH2AthdPiQRp6zm3W8XdkGa4WcQhSTfwPmcbMywwmQKCs082bJ0qYY+dNyIg8FN+D1/7wetWYtuEYZteXPxUYTMlzDN0VRMTSpeQZAz4hrVMMMITexYRoZzrT66Z7ATpSJBU+abhPWqMZpbEF+boBx10opI7Vf4+pkY/dkMdA35hkjyjPc2t0rMvRv6e2lRhmaXDKAb/8h7TvN0s54/W784z6KO0TpDQ2s1G5SXsB0HUm1nKYdhjbE2LmaSxk1HDZbqn9kNJO+kdjTQCnbRtUFY8NRUemoGMGGHGUaMlcGckzawzcNqAHVKyZMdLv2l7jIq9Zpr0AAw+6kqYPZz+Ao3lXVRVWFxt0u4d49OgKnz57BRMojttL35TKGjKw4zQFOPjKjmtLqK3y+pBfE3NXmmqfIr911wEfXK3w/P238MWNiZNC1/VIwyFd5T79/IXw/uSWL+cyAQ1pEC6/l9sen4aiU785L4Ei3oJI+6c9Z1FeuQfo/ZaFCq4Gri+5v4qVF4XVtkrtZEiiPZXkuGmSQpdjGNApeVL2fN++PqUtPkGPfPY6wcsUCp3PU/urSc6fb7uPZzqTpnsBOnwbTWgjjD2XG77egGOSdN9mOWXB32VzCOVNARREx6qRU9XSsUNAttcvsTYMsLTn8NWXejDrQ4euKxVFgf1+b0GHLnMMmOlmyaSG+ee/9TjItHIeMjOfW0aIDMGN5yiAroJIz06GOSemnD1tiVpsGwi4GO1C2cfqyOw4UFNJi0EMYlkWaNsCdc2+/wmIyCsxbn2F00bzrHWek2Fx0zRYr9cDoGn670qhjSF57owjX1EbSv/atsXjP/4Im09K/M3nV/j+7R7Pq8YpU/+tP33s6hS9Tw3o5yPfNSd+BzVnpgOicL1AyFtXrH1yXst18taixNcfvoevX23sM9Jy0NWquq6R5zlWizma5qUFuVQWx5UwwJCMy12tCqDBJht+hyW7WlvB7+kfr0XzvBF55BzLRR5ui1nPVL67D5q52Gsb+iuL5F5YGr+neJiiMQppNfReRlT0YCfF1a4uL8bwTskXEuYcey766p8KpkIAKFT2Xc5vqidVCKcpNuZnLcaZftvoXoAOIF21SO9S1Nhj78YkJjHJ+BjFGHRJxwAK3+FzlzaOaVTGno+NIwW/I4bRR5RXHp6+tLKOLMusgTpgDF6pLiN19OeTz3guuAyMm4cD7+kx04cNPSdtggEAHHODJMLyqhnVNWToWcIpAwaSdkDWScxRUZQ9Y9daLcZ8PrfXq7Issy5tqQ1tK204zD/+zcyDYbD4b3NdK++1OQXkVZ2qqrHZbOy1OrLnaRr2zERARzJNPEaseTLjQn3MQdqO/W6H/X6Gj95+iHefPEXVuh6NtPZAUtfxXPO5xdXPTTm5bVuqJsIHOPRvf/vStRwsjTfasnTPVeQdregdCdBz83+eZfjs8buobrZ2bpJmoq5r7HY7e7VqvZjj+ounODQc44LmBQkBzBpo7HzVDNsQQNB6kOsLNo8EBP3bPg1pTlhrRm0aMsxy/DNVDmsy3L2EtAr9Wi4KzBcLLBdLq9WrqsquvxTSe512AR4i2kvGNB16jwppEaaeq1pIqPfnqdoAnWdMWKTz+voU64vcd1PHbypPMAY4dJn6XaxNsfP4DFjO9Dro3oAOn6bDt4HJNL78+u/YxqTfh+oL1Rlqe0gqpeu9q3RF1x/z5556KKRKqHzfw7cJSm2EfOYrf6q0Tl7bImaVjLHlZu77lv5N3mUKOR0x4QxCSDuh+0SAg/K3bdMz2oZZ812F0OBFxr3ous5qH+Bc4WL//VQWAY2yLGwbpN2Jud4FVNUBh4PtpbifX/eRmGkeyQORGP+hpx1ylUvjQe2vKvP84mJtA0MCQNMQsGDbE2J4aGzI8Jy/h6sNqqoa1z/5J/zFDx/j//5P7yce/i5zPkYafIS8P00hOcdiPIEGDilXtXTbWIshbYJkO4yWir9LYyN2l3mG5997H13diHJ5vUsQzVoPBhwUp4UAM60FAgQMqjP72x0PV0PhGpZLJhGQ84RAp7xuyW569Th5hxOwV/oyZVMl9xCKbZPj8IN38fEBeP+tNRaLhXUdzIEzj6exsw7g61X6fUjaH6tDn4djTHiq0GwKAxw6yyWl9C0ErEL8QQpAobLGzpNUoaNOP8a7hM7+1H6c6Ux3pXsDOjTFkL8mH9Or0+pNR0s5dHn6nWSMYlKalGepTH0qpWzAqeVpKdMpJDn62kEoOq+W7sUCYxFzLxkmKtv+s4cxMRF+TQW58gz1zZUAGuZXupyl9hCTRO1hRsr9PvK6lKzXMDH8gJk119CWtA/0N6Ulpq+uKQp5Do3jjAF7NRhXw0jKAG56HMJMtmlnI8AJpz8c9hYskAaqLEvUdWM9Z5mxgh0PIx13GVFi1vlamnHF29ZbNE2Dmx99iB9++RRf7yyaGnxT3zf2e3AKRx2XZWgPUdoYOjSn6LkGubF2HaNVkc+Jcaa6qV4pjScg/da8xGeP30Pbu8WVa4DmjbkmZ+bb48sVLj/9Cs+aGl1HTDBrGAC/BJ2ZOHdc+hZagEuRw/nK4aCkPi+9z5xyQpRllJcEExLkZf039X2Lzikjz3tNx5I1HQSmd7uds+fIfmvSV6zob7o+6dNI0F5HwEPmjQnq9LsQiEjROPhIzhtfuSlgKtTuUHkhhj0FxIy1I9SmKcJQX35f2rHzNKRtOtOZ3gTdG9Dh2zTGNqpjNrKxOnx5xp6Pbch6403VJoTyT61/rNxYeWNAL5aG3mlJXApJABEDHiQJlTECgF4LYoPiZX0AvRi4kOW6B4B7eALEWFPd0oUttWNc60QHlatJaFvWWoTKIK0JjUHbUqeMoTZJWLVti5ZQU35mEFrVT4Ck0JS2H6FIe2QfWRMyAbEtAAAgAElEQVRCbcnzoncZXGE+n6PrOmF4bKTLZA9AjDszgC26jtvaNEBevsIff9jhb5/UeP7DD/DhF1/js5e3Tn4fMRM+tOE4hQF36nI8YtkGyknzWCXrJbe1MgDdB5drPHn8NnbiSpUpi+c0fbO6rvGjizkWnz3FF7tDD5qJcSYAICOB8zUlXl/0N68H0QNb1tApBPXB9giw2ji/IwwJYAOjAr5OZdo6NDzntWbKzJD3ghWpxaQrT13XWZA/xhzqPc+3j7gCEEPac98UyboZj9Mw4ilMv37nex4CCVOY8RQG/hhmfcpZ6zvnp4zLWB/OYONM3wbdG9ABjEsA6O+pi3OszJQ2Td10dV1jUp8ULcVUkPQ6KLS5A2HQRwdp7Pv4bDlijLvMIxl06UGmEK5bgeE1h7H5MuwneVrSXngAZrCGUi85RsNgZ9QPaTAuYxsw481lc17D6GltHzGJ3QBAESCRc0kOAzNm7poaAue0MQRYu1KWM6xWMxunZLFYAuisAwDfvXtuT2cl3nne9nYoLbpyj3f/xUdoP/s5nt5sMXv8Nj7MM3z6zc0oQz8WCFCCFh+A8dmCjAXl+7YoFLNDAoMPH1zg+XsP8fTlVuQbSlVJq/j9yyWWv/4Cn93uIINusrZsqJXwTZcsgwWTui56F9NYwF69oz2G65VrJTYfMqt1YsCh11mW8W9dNse+gQX8xpbKjPt+v/eeXZrG9jyZjq9QMqBJPa/uQr7zNybMS2XUU8bnrhQ7Q919ZxqA0eX4zkUp4NFtmtLWsbrPdKbXSfcKdEgaY8KJOYmpTo/dgMOSsnGNQ+j9FDXrd4Fim7ROF7pzHPpNFNNySKJDl64Z0DMunzb8oe9/YhyIWZf9cbvE7m/zvFBajtbJE5puw2tS7ruhVNNto3+IyQ0t16uBhnTNS+XJNkrGmvOTNx83HolkBOm3bKNJN7w+1zQt6rpC0xjDcsM0mTEkYJhl5EKV+8Zj0Yh0LNVumgb7/R5XzRybpsEXNzs0772N9w81vtzsbHvC8TymX2M6lsYl7fR+OlAJxeEIvaPnbWvSvLee4+l7b+HJzc4r5JDPyGPV5dNv8JvbnfBURdooyfSHjYIzqzWUmo7UoHXD+Upr31zpGmoW3DVOGg1YwJJlrWiTC/pN24ZrBehwnbWYLea2vXVdW499y+XS2rw0TRPt0xjJc8kXs8Mn8NB0V8b0FGdWytmequGQaWKaA9/fqeeQHwwPhTKheesT1Pk0VmN1H6M9OtOZTk3H+3T8LaHQwmdJ77gaWC9M3wJMXeS+9snNJNS+KaptXVaMQhqSUB9j72PPddt0fTJ/7Dv4vtlsNhNuM/kqwNiVK7pu4COSLErXlARwuq5Du2tRVVtUIkhZeLyl29pBr/r6WGNjjF/dK1BS40H97jrDnHAU8dY7b4bjR2PHbXDH1LRZPqP2GU9Rc8znc8znrlE9pScbC9LYGBDFdiB0Jc0AFnm/XGpg/LYf1D4qn5lBAxDI6PxwOODVq1e4vd3gcDh4GWM9VnIM5T3//X6Pf/2//A1W1Qxoga9utvjsg/ew7iXPxwAJ3beUZR2zDwmV47s2JN/dxW1vjAzgMN9xVeT4/IP38OSGQNrQ3TR9AwJ5ndKYkYaDHBEMNWMu2KA5TOtpOMfl/tiJf9R+fk5rl8rSAgQGNr71Tesg6x0wlGLt6jWn54VZq9tff43H3cEBA6SJWCwWWCwWo3ud3B9lWhno0zeWXdc5Bv0xCgnDQt9a/g5/Gz/gCe1xvjr0u1C9dyHZz1BfY+l9+Smd/N9Xjn4/xtNM5QvOdKY3Sd95TYfWKoxtRrEFOSbZ0HWGKE3SNtx0UzeLmHZGp/Ft2GMbXKztx7Qx9F5v3pq5zbLMukuVmgHKqw0mgWkerKhMOnTpwN7v9/gf/vWXqBefYrs9KAN113CcmQktXQMgrk5IL0sksdT97UucdGAy89+i63LP2JNhLGsbTB7AxMcghsmMM/3Lsgx13WC/34nvQQweegbJRAs3oIM89Zh+EXPJnrNEi+yadbVJBHoo3kddNwLgmHGvqgP2+9Z6uyKNynC83INZutTldsJKkW9vN/g3/+5v8bf/4Y/wBFvcbnfYPn4b159+Jdodj71xVy0HS/p5TNz3si7/XM8yiDJaCzzSgxTKKOOcn37LYIQ0z548fgdtrxUC/AbNtM72+z1evXqFHzy/wee7fc/sMgg1Zcp1QRoF2s/cPYi9U1H7fcCAtQy0Luk3Ax5yt9yIa4qs3YTQFPJ+xfnLkgQjnZ27VB/1I7Ql0pVFMvgGyBNYY11GcwyckKbTf6XUF6/Ddz5MlZqHpO1j0v/YGTPGTKcIEFPO9xTQQOlCZ7Mex1B9qULEWHtj7ZP/j6WVvJLv+51ByJneBH3nQQcQXty+TequG1fK+xBpxjq08aeAlWM3PF2nBGxj9U0h3wEVek9pfOmyzHUhG/JcFSLfIU1laENu8o5kJOp71Fllr3647WYPNww+fIAjs5J/yuvOATe9BM7xb8vaBvNb3rdnzQm3y7SXAANpD2azsv87t6CDGBxDBxwOWT+OpjxKR16LyJuU8cZVWi1H27Y4HA5YrVbYbDbW7iIkHMjzHOv1Guv1GvP5HE3T4NWrV9jv94A1vDeG5HwlrbDjRga7DCbceoiZpetX1E6O23HAbrfDbrdDVVbWqxmPueuRakyDID9fioF5CHDI2B6+8scCB04hn5tdXYf8bOsyx9ffewyoNUZSemKUAdi4HDevXuHdz7/CCwU2uE+dqFdq/zpn3bJ20XeFkq/uEZDh/U4CDvc6JWtYOtEe1qqgvzZl9ilaVy2MW2ueD1ynHE/WunB/GZxVVYWq9/YFcJBMEgDENLZUhqbQ3u5jPGPnou988q3ju5yLoTJknanlh/ZP6QbZV1/o/AmVH2qP7xwfO2d13lgbNHiIUWg8Y/PiTGd6nfSdBx1aY+CjmJo2VFaMUsCBTJta7pRNOwWYUP2xZ2ObzF02IZ80Zewg1M9kYEDdD03yikHKVQFpnC4DzRkGoAbmkiEKb/LDQxoAMqsBIFey/D4HRUnWgINoqDmRwQT5mXmeO2VIya8f3MkxM8yU0cC0yPMWFI+DArH1JfWMmXEzvFqt7BjSuEnbG8N4GoAyn8+x2+1xOOz7+/wUTdrV8MxmJlDjYrGwbX3+/LkTqyDPM6zXF5jP59Y2wPXsEwLTGZbLBYoiF56umLEkkPTTP/k1rn/5e/ikqc24/uJHWP/qN7itwmBDe7CK2XloN7n6vSYaJz/zMyzXZZRDafyaDx/gGPbV/P/eeonPP3gX9XY/SKOZu91uh5ubG+RtjR88+QpfHCprjyMBh2vLI22QDICnsimd2RtKVFWNuq5AQIQZQgowKAGBqz1hpnt43c8FQ1IoQhoQXktDuycuj7WDBEi4PyT0OFSVAbxV1YPgCofDwa4FwA8sUg3HZf+1dDsUCyRFUOcDIKEzeYqQL7T/hfoky4qlm3J2hygEAnRb5G+fliFU9pTzeUob9bvQmXMGHmd6nfSdBx2pm0iMaQ2pUEN1yd9TJA2hv33lH7Mp+toTYuZPtQGPtUfXm5qW0hNDm1pOKlEZ0p6DwMrhcDBXoJS7S6mNCUmM9DyT7kSZ+CqJr99a2i3L85EriR4ajLtZmSGjq09ZBtR1hqKo0bYze9XMXJ1aYTabWSBG98yNB6lcBHFzr15RXdR2Ko+YKQ4Ex9Jl6gcZfK9Wa8uA8b1zDhLHV3P0+vXNJdgrbhTtmbQeWcbXrFYPv8H7P1th9vEP8ev6gJvtHlc/+QDvffIlvtoeBuXqb+Bn5n3fgUGKzseAgZjxFOFGehyOmIesoY0IXdthLdKH1xd49vht3PQ2HBJoSk0kraWbmxss0eCtL7/Cp7dbMNMP8Ldy54rRMPL6I4adQDq1ja/uZXas+NrdkHjNsSte6S1L9NxplzsmdLWK3nN/Ada6cbtYS6JKAs37uq5726TOliWvU91FixA7a0KAIYXBJ4oJ/saY2DFBTkq/T3V++ffiNHf2KW2JaRmmlpFCKSAiBEDOdKbXRd950EGkN83YgksFGFq6PSbNeF3Mu2zPMelCm3pMQpVCx0pFUr+LvL4DuG4etTZjii2HvDutJYV077xtW+QqngW3j69vxNXcMjaB+U1ahdBQp4xn6KBjbYgLPkLz10g42Zg3z0kLAMznRkNB40zXPwCgLGf9P7bnIDIggLzsdL1BOWur+CoWAw8K2Eeucauqska9l5eXfUwHc+Vtu92ZoH7WENkXv2DI4HWdsSlgyTaNDTGzna1/9e5XeC9f4OO/f4gsy/DZpsJPPnyE9z7/Bl9u9gOmPRzpm7UPVF+qbYXs0im3lXhk8iHg0Ok/uFrjxeNH1mgc8EvbaTxvb28xR4NHX36FT5/dgDQFolY7ZwF2aGDSyXKlBoHAf4YsM1L6oshtea4XusYCU24bAwet4SCgNwQbct6wloPmOa1rafNixlT3txPlcZ1NH7dE7iUyIrlcn3cBIPQv5jI3BiLGKAYgfBqBu5yZqWfiqeoL0V3LjOUf0/aExnQM6MmytebrTGd6nXRvQAcRM17MaPkW1diGdcy7MU1FSp2nBhfHUooEZGyDCh1gKZI3YAg6UmjKdQMdcCvLMhwOB5TbHF1WedtEWpGpEj/JbJj3Q8aY523nnb+aWZZ10jsJAIbzkdLSO/agRUyNARx8NYqubrG3LwJMpo2k6TBj04Himbh1m+tkZGxLGqz5nEEGMVjb7RZt21k7k4uLC5TlDECH3a5AXde4udlZZsw3pwwzacaRmMS2bbHZbCEl+uypiKX5dV2jqg5o2i1m+7dRL83Y/OOuxY8/fBtvffIVnu2GV4rGyDCoMY0CpdGAI3QVSs4B35Wu48BKGJBkeGc1x1cfvIunNyYOBzleqOvapiNtR13X2Gw2qPY7fP/JV/j0xW1ftt97D2sqOLgdBeXktBK8s+2HcYQws20qCqN5I2NsVyPC64zKoyaEgB4/dzUh7hxr7Jqi/si8UqPC343mKdD2oDjLjLe+3W5n2y9ByDGCIV8eugopAw+mCNNCe74WwIQY21Sm1neWppyvvvdTwMnUNvlAAD1P0TBMoSl5qP67nN9nOtProHsHOoB0NenYJhZ7npJGlx+TUkxth096FKo/tAHHDpOph8OUcdLjooEGAQdj7DyzoENf3UglHThQGqQS80oS+Lqq8Rf/7h/w/OUNDgf/QcwHqKyDroWQcalkQPQ4uQyJy+AMgQIBEWJqQowESV6zzHh6ynM2Kicmm8AJM9psM5Bl5gpUWc4wn89snraFdSXcdcYzT18jAAiXxm3fdzYS5vEp+rabv8kY3Y57L+klY+4sy/qI4+gBygx5XjhG+XocpGGu/E6GKUd/758YWxMgkIyS0V9zIW3H8u0v8W/+cof/8//5sa3n412Dd378Icq//zWazu0ffU/3W/oNw+kd/z38jvFy9fvhdSmpJdBXuGJ2KZooT5nn+OyD97ATgINIrtmuMy6Ib25u8M033+CnL27wxNp9kGvazJkfMlimjMiN/qoSBw6kKPDs3pm9Ow0jxLvurl3PW+wKWmooOKK4/G4aCLpAhda5BCBaw8HaEP6OyhuWWIfSRTiBjpRAp7S3uTGGXICnmX+61qXtOqbs/yEh35jgaqpAKtafsWe6vb52xfgD3Z9YOaG2jJUfShdL63t3DMi6i3brTGeaQt950DEmdU5VHYYWqmbSx6QXY5IgXxvvQimak7H8vjGKgZzYs1jbfGAjdECRNHw2M7Ei5N1mfZUqdM1Ku5HUPuz19QVimKrefkBLZXXbmZE0zIsEHH5GMEx6jslxoDvqs9msb7NrmE5AIstC3roK21b22JVb2whOR65zS8VUZpZBJ5uM29saXQfM53NcXKyxWq0AwBjgOx6lDBkDbjZSB3QMCXK129oxrKoKu90Wi8XC9k3acMhxM+PAGgtqA31zNwAkAw35nAFbb9fTbXB7e4vVamXff3WzxfLH38P8o994v6MGCL7lOfSE5S3KSSOJ0ks7C1k/2wwN552+MuUDQYP6kOHZB++g2+0HoF+u26qqsN1ucXNzg9vbW3z4/BYvum4QcNN8A2aoaU3neY75fI7lcoGynKGuK2w2W9ze3tr3XdehLEssl0usVit7BdDMj87a5pj5quP0DNczA3pXM0bjTJoIehfexzmdJAJHMgaJrofGhuZ0WfL687nC9TnKCLnMpfShdwQ6dCyi2Pk5RXAVEpD4SAMKXVaonjGtg0wXq8OXJ0YpZ+Ex53MMZIXqiPFAstzQGJ2BxpneFH3nQUeMyZcUW4BaJRzKN1VVeQpQcYzUInQo+H5L5i32Th4geqMaa1/oABsDReSeNQU8EcUkgloSqNtDTJO5W03MnesZSrbd9I2YGjkmeu65RtZDSTXnHx76RiJPjBkBMJ90PASQ+BoRM9nye0pGnoAYGY0bt7Rw3m23255R6TCblWia2jKD7p1zrhtwr36RhJncqhr7kAx53lhgBZhvQkyY0YRsrYcfCab02EpmVsZIYc2G/j65TWOAT4WuvMVf/NlX+H//v+8BS2bedocDmh99gPU/fY7W0SgMtRA+mnodKvzcr+2S/4fArwYY8jf9/eGDNf7x4QPTJ+HOFeCxIM3Q4XDAZrPBdQk8+voZqqrGc2sDVPbgQGr5WOtFgIE8kxmQl+FwqGwdpI0oihKr1UoAjkL0t7HjT/E2KLaIdF1rvlOLpiHNIWlQ9dp0AYfRFPq+BKdhbUZmr32RsCDL5HWvVgAa9POusXM0ZHMWI5/AxVeG/I5sGzV+tvnOTB/FzoMQw+wTOsXOlxhgCOUbex5rl+9dqB1TSNYzBkB8QrtQ+0PlnMHFmb5t+s6DjhhpdSg9CyH+Mcm9TCvr0OWlAoWUTTy2+YVobNOfInlK1RTF6kt950r3jWSfovHqu82A33g8xV2urE9qTuq6xna77bUfYe1NTGthxgw2f1iyKlX048DQgKK6Z9CGEZtlWve5+V9qR/jqFwEc9M9bOwZ1XdurT4Yp4/d8V75DXQP7/d5ehSKJuQQbw3aZMTDlcrBHHlsee6M52WK7NdHhd7ut1aAY5s29NgZx/Ywl6OzS1x07E9yQrvCRwbyRlBsmsLz4Bn/0o7fwy48fYjev7FzZH1o8+P0fYfXRb/B8X3nngvtNj4sMziDKV2YayAnVr7UdNHcf/vQxbvIZPmk77EXQP0kUR4K8U/2zrEbz/BaH3R5f3O7sGqLxorgwXQdru5BlmXBGYIDfarWyDHdZdpZpN3YjeR+he9nbBxWDcaHvVlXGIYS5YsWaQBpTrSl0wT4NqgtiTYwYYtBjeywgr1c1TW2BvdHWkGa06dvijqm0YZPCAEmhfU4HZKQ14HvedZ3jpjdFU0D/jwnZ9Fkakt7HKKSVGNNQpIAK3/NUzUeqZsVXVgxAhcYlVq4PAKUAjBC/kiIMPNOZ7kL3GnRIGlNz+n67jOEwzxQJg6+uVJBzCo1JCvkkWm+qbk3ankN6WyEizYX+O3Qgy/eSWMLdWHeqrkbCL60P2W1o8g3hEHCFJdqUnrxCuRG+5RUNOnzkN+zQtgB5eSLGXGpk5Dc2gREPljGUMTgAvls+1IxUKIrSjg9rWOT3kQAr6w2F+R4/t6lz2kjXPwjw+MdmKNWnd4a5czU61Lf5fI71eo3FYoG2ba1NyeFwsOPx1s8/wfdfrfDFNyvczPaWQf76Zosf/uBdvNc0mH1zi0+f30S/oY/uerZPr8+9XvX+xQrZ+w9MWXmOrm3xcZ1jd9h68nY90DQM/X6/x4/KFtfdHi8/f47nexeQDgE6gc3MfpemIRsfts/guti2y2jFcptGrkO+IsZAaL/f4XDg4J6kffCMoK2P0smrVtwPvRd2Ii9pGvl7dh07JqD0Etw5LRA/WYvnxhY5hgnUQhrJnJp9pMV+v3e8uqWcSWPCMd3eECAYAy6plApoYnX7NC1TaSoIOZZC/MoxdZ81IGd603SvQQcfGOOLNKUsyqsZ8inl+UBM6oZ3zIboU1enpJ+qXQnRMYDNMBjFwHPVWHsk8Egh6iN5cKr3Na7rBdquUQeZ/NZGEk9XN8YpbBfi/vbkzLSmidocZ1aJCeK8HdjrFLXJPWikB6quq205RZFb8McaJwIJXCePB12T4tgdLkgKtZlBTBi8ZY62gphBCTjk/GVbDheQ6DU8m82wXC4BmKtAklmj+fGDP/tHbP/3f47nFUui8zzHP23MWL333iN8KCTqX7zcosuYyWdmLOQdyj8uUjofSxcjreX44HJl+e/d47fwcd8HitbdthyPRF6jMp69zBXE/W6HqxL4/B+fWCBI2i2jeeK/GWSwDUtdN6jrqm9bhsVi7jgJYNsoBoiseXMBhxQaEODY7w8WcMg16O5r7nMmBhz8TmrTOJ0YZfWcgRV/O30eseE6+j5QrA7NIMv26X2O5nmKhleeiTIm0dQgg75y5f/672MY8tQzaCzNcB+NAw75d6hsn4bhlDSl7Clg8QwyzvRt070GHcC4FCS2uENSmxSQEAI8KZuCb1O8C+BITUvtTT04UmmqujbLMmvPoa8ajI0FHchjBuUDwFHXwK7F//i//hLPn/uvUJCEWDLHXQfLWGtpKDHFum/MhA3zyPHif3YEQIwSHx4MigiQ+OqCiC1A+XQ60oxQOumRS16Jmc1KAAsrxZXaDDL8l3YUhtGW49lZm422bfqI0iYWh7y+Qv0yQMCMfVVREDV5XUReG2PQKj1T0Tu6imX6VGG36/orO4uesZ1Zo/jDoerHwfQlLxp0tx1quFdgAODLmx2eXKzt758eKhyaFllWOt+kbVvcVA06J+ikO0dCACMMTIYBBq9m3D6OEG7K+LvrS55zm9pZF777/zQPd7sdXr58iVevXmFV5jh88Y0FfQQyy7JA15UWhJLNhXTNXNcNNptNDwpM+eYq5RKAAbV0TYryyL2UnhWFK80/HA44HPY4HCpHI2aSDNczvaPx7notIBvoS+k97Drqc4q/aWw5UrksO8s4vRnLTJTfr7O+HxQLR2r/9HXS2PfyUYx5r+vaKSOWNnQ+xc6rEN0FTEwBI6ntOBZAjGlWQm31nasp2qWQFin1fI2NyesAT2c6k6Z7DTpSGf5YOr1IfYtWb1hjG5GmEEDRZR8jnUjZ0HS79N/Haj+m1i3TLRYLLJdLe9ce8Ntw+O46h97TO1kfSXDrugbqVh3CzNgb5qGxm77817YZJENjQEjugAEJDriNHGtCjqtktNxxyZQxtjt+vnfuoUSMV2bLIqbH/a4d8rzsGUiKmGwMt5fLhfXm9P+z92axtixpetAXOa699nDmc++5devWXNVV3e2y3HbjBtTtxmALZB6QQEK8APKT4QHxBkIghJBaCMk8WfCCkEE88GAEgka4Xe42sq1q3PRY7arqrlu3qu54pj2vvYYceYj8I/74MyIz1z77DnXu+qWltVZmZMwZ8X//FFxCqsPsZh2zb8/8aJraCclJTuK630sjPefRkAi0RFGCPM+MnX/b6uhiy+USm83GYcgoRLB9X2xbeNs5s0eM6vn5Oeq6wWyWw57vYA8fTFOgaRS++itv4s53P4vf+bE1++HMIWlXAOCtu7dNGv4O1XWNL5yc4WRdmHoSQ+t//4e1G777WRTh3Qd3DVMqGdhIUaQwOlgvNgCcEwfn1pF/jc1mgzzKu2dqBjpsGRqQUsjb1oxpkiRGmk9MPjfX0hqnxtFYWE1KPxxsksCMmT7zpWJzCSDwygGvBbVSO0HtpvfOCg6sAIE/Q0ACSJKoA0sN3EMNbV2pvbwOlE/UjUHZOexz4E7kE6jQ9RANhdANPcvnM0+/DYM7tqeG7k0l3548haEOtWloX556PVS/sbr7fodoW9AQqqtvz91pP3b0UdBLBzokk8yv+xaboXQ+CY4sQ96j567DnBOzGcr3RaQwoTZN0WRMWWBD/eZbyMYkZYA++4GfiM03Wstkh0NHSvMDeZ8YRAIcdV0jarnUU44vl0D3tUGcIdFMWq9JpvyQpKoPWjVTQ9J5X71s/ay0m2tHJBAhBlyPl3XatptvBDpLQZ/HQUyntrtXKkJZVsiyzEQPIidhAOaUcQIkRVFiubwywENfJ/OZvikVMb9tC8xmidFCWJOm2DBldt5RIICyk6CTSZOVXhPI4hJsKrssS1xcnGOx0GeJ8L5umgar1cpEwZq9foVffWMPWZrj7//WZ5wVVDI2/FwZPmd+fO+OAxRCQo2h944/w0NKm7IZcxzSXtCzNoyyfXd42cTo3rlzB3meY7FYII+A5GJjfKAAG2WKwFqSpMZkisa1aRrs7WlhAvkvpKmOSKXHWUcz22zWuLi4xGaz7sDuzGg+9TtbYrOBcTQHdPS0+XyOLMtQVbZeBOroNHPSvNHc0fNE9eYjdQFf2/g6QIBDg5KI3Xe1IKTNkURAxoQGj2IDngioSZpiQjoUIpfKJZLABpgmhfdd9+1dcl3zrX0vKmEfE4r511Z/nXl+oXr6+ivEW/ju+3iFm2D4x/Lg9dgBjB19XPTSgY7QyzQEQELPbqO54AvTdRfRFwEuUxdwyRiNtW0bqdYUMCHz9vVfkiQOo0nXt4lMFdqc+YZMgIOYoQjEuIfnkK6va5et60djHxlmhTO2ksmkvpcMsChRgGh7p58fQCc4c0Zbp9VRokKMj/2mw9ssA8UjCzVNi9VKn+pttRE6vCdpIzabDeq6NgwT2dmv1xvwQxMlo8DrRs7p9E356TmgTAhWpexBanSGiFJRz/xK56nzJwBHZjA80haFWfU56hsJvqpQRhtUbYo//zMzpInW7rz/g/t4a700YJb6lD6+EKZSim2l6XZcp5A+n8Jl5vxg085J/t4RcKAIcTSu9L5RONyyLJHnOW7d0o7n2Z+9g6urK8x/8BOsqrJjwAkQ6khTBwcHaNu2M30qUBdR7ZgAACAASURBVJYl5nMd8pbqTE7kcazfd9I00YF9SWJBh88nhvqT5oiOdpWad7ttW3N2hzbpIjPJ/ntkiYCD7ScO5v2ggswueRq5xnJQqa9kn3uAdyqFvb3YzDOa//wjfTdC4ENqRIbWTbn2hJjjMcAQWsOm7AE3RUP75zZai9D/Ia3BWDt9JAVJY8JMnnYoX55W7q8hAceOdvRR0UsDOm7iBfJJK6ZK/33M4zaLgi//EFMu8wjlOZa/rz6y/A+Lhhh7CTo4Iyc30G2BCCeK2sLj1BN4GKqvZuj6Ukj9vBu+1c3DzT8kgdsW7PH/+tM/CwTMBt0PNm20KQ00LGABWocJorqTUzlFFiPmlBg/Mo0j+34JOGy/9Jk5bdKl/TdIEm9NfDao68powuwJzgp7e7PuIMKa9S9Jt13/Bls+1a1igASmrno8wO7ph7P7HxjH87tvLBG9f7sDY8D3nrdAbrUGBDx8awRd2yYIAiff++ADOcTQcufwzWYDhRZfuLpA07aIOtDw5OgWnl/pcLmr1QpfbwpUZYn3j26jiFMNJqIYZdPiIEtRiPC7VVX1TM+ovTqEcWrmGwFYqqs+RDJCns+QphnyPMd8PodSCnVNjuWJATjUNt6f+je9Iz5pMr2D9pRyl1rz3ddc0POuTxaF5rVghZtm8XeetC96vDZRira1QQxojMi/g8aNj68c921oyh41JBEfYrx9e+gQWLmugG5IexFisH00BAimCCZD11xh0fR9dQzc+fp527pNubejHX1Y9NKAjm1eICldHVr4tgERYwsGL3tKfr46TCn3uvRhAw3fRuYrj6JWhZiwqeYFYySZIdKmkGaA10/OF8lI9EHGcJhLeiZUVf9YcMmr/t9naKzPgs3L+pkAfZMrkrCTJsGGutUmKRxw8PwpX5Iwa3+LFZOUx4OMtr9fdL4k7S2KwqTXjFiFzWZtgA7lHYomZvtEa6C4OQnlq81warRt1NWLQAppKCzTScwiYEMLR1GE7P5jvPLgqdEUPf6NryGNEhRNgmJm/Vl8JpQ3SRxg0Df95sxqVVWYxwp5s0F8tcAP3zkxfRxFER7dvUJxOEfbtsjbAm+/8xxVXeNhU+P09j2s12vMZjMD3IE+46cd9demvLZt2dygeWPPWUEXWAAgBlyDGAqTawMX6LK0Zo9MuuxZGDw4BI2j7Q+YPHi93TWJ0oC1y6Yl0EBpLRCVGrJhqTh9x0kMlWSOdkn3X+U8RzQUEtxnbirD73LymVdty4iHKLQfTqUQiJFpqCxf+ZRmm7rz8ZkiOPSVSb99AhZfPUN8xpBwbqep2NFPI700oOM6NKSdCDHIU1StPL3M4zr1m7JY3hQjMwbAtgVe8vkpRA6nIcfxIVBxXWmxJdUx6LLvCWh0/8SGppkdK8n3ARqAS9D597hpgFNDxvTYutl8NCNnJc8WTLUmLZe8k/SZh7oF4BwESHlZDYju6yzTkug0TXF1dYW61owSBwG2Pa7UWDKCsr1k387fSdJ+KKW6s0Fiw8hTOFd9krX7XhMIkkyBrqtNS/0kT4u2vgAEigANVFqPDwnwlV/+Q+T5DO/9fz+Pp+sMZVqDrwfyPYmiCHv7exretBRZrcV6tcbefIbVco0sz9DUjZGAUxvkfOHjysug09/bVkeienR5hp+8f9wdwOiC6beflGgfn5pxoPyfPb7AwyTGW1crHB4e4vz8HLfK0ow79WddV12QgKprnzI+HvbASes7wt8hmldACmLcuckRpa8qrRUhM0kymbLAgxzQXW0I/22v0btrkoC0ZDydfc9c4AFw80W5RlrzN6vlsCAljmKg8xmicaI283Hh4yvJ51wufTuswMDOdxkMQfYPpzHp+pAGRP4fE8gN7Z1D9ZB95auDj8aY+7F8fOs1729ZFx9/MZbv1DrvaEefZHqpQIfvRR6TGoQWOZ86c1uJydgiPbZgD12fet9X320lVlOeDUleQovr0CbH4/HL50KgwjJqYVDCJYGS4bN20FaT0N8Y7QFfxNj5HMPtXzuH7Hxy29u29hrPI3RquJsOXZoGQATSfHDzL+7gqtuqQYl7bkWEOI4Yk1IzfxdrQsKjXHGwRP4exPxLh236bf0OVK8fbF3czVpHkSKTG+sb0TSNOU2Z0urQuzbkqDRt0tLv0hkzYiz72h/dJ0mSGuCl/WVo/jSsj22bqZyi0M+8/he+g6M3v44/etyPsCMdzd8qn6IpatM36a05XtnM8MPVY3xh9goub1W4pTKUH5S9tWhI4kpzu221poFOXS+rClHTIIkUajEP++uhHjdABwu46s4rWS6XqIsCm9KCDiIaLwKyGnBEzntGc0m3x5oQWS2WG+2MolPZMakdjUaXo8lTKR5al5zJ++9V29o5zc2+qN/csyzoHXfnsX6X+2GpXR8hDvr7YzUmyJpKY8IX3S+xcy4NtYO+h5hm330fkPC1YwrDTf0+Rr69zXdv2300JGwcy8+3p10HBPnymAJQQvuwvC/ruqMdfVT0UoEO+YKGFgouaZEkX0iXYXxx5j20EA4BkKFyXrQOQ/d80npf30np0nUWNj5mJDmXfTUlcouPpjhRcudfYnbcBbx1nuHPuqDU5M7KkZtRuA9sGitV923u/SG052sQI62UrS+BA5IygznNaw0AGDOnpcT6ntWUuOYfDaoK2Gw2aJrGMC/kX8HBiTvf+vOc2sPfM3fs0TGfZKJEJlHWH8f6MSjEsRsQwAUxtQAddIChNa+j/q+qxkTmoqhK1tG8ZemltJ6k8tpEpigL1LV7bkb1aoJnT09MdygAbQFTJyigPF/iJ/Ul4jjGjzZP8LXidVydL412hwNfThxw8bEBYP4fHBzgzarC5f0WsyTCYafVkMTBKM2jNE2QKR1AYDab4btliT+XKDxblYwZhdMnBMyktqkvVKA5QACYzsBRqGsCmkXPT4Xa7RMWkCkeTLjo1sw5XjwBK4rIRsIPAA7IsZHXTCsc4YEF5Dq/voDF7WM+74b2H+7XJslnViWJz08eBCIEdHwggZsHbrO2h677hE/bMOXblDeW/iaFgGOAYwpomUpDgOmmytjRjm6KXirQQSSZQR+FNr5tmWT+XIjxHqojX9ilxIiu+xZnX34yrymLr6/esp2++g618TqSOSJyDA5pOujakBPlWHSXUD2tmUH4mbbTLvgAmf5Nm7tmbmDsyem/22+WyVIiHxvOlp6VWgvKnwMTqj85R/c3PX2AG6Ul5lUDDcssc3BAYIWYOsu0N8buvG1Z6M84RppmALTWxDp19wEYtcc/B5XjM0IS77quTB9aTUyEOFbmOd0+G5lKjpcrwUc3TvSsrQcdiqjbH4ObjPF+5uCH+tnVHjWmH2XbdZ/aiFNt25ju134xLTN96/uiUf/43jsZOpr6bX9/H3me4+joCIvFAovXMyyXS3zhcoVNa9vfti3imCKy6TL29uY4UhkODw8xm81weHiIn6zX+HKxxOOnlwwUu+uj63Ohz1XhWjcbStkCFxrDOM5MW5ZLdMCjdeYK+Anfpn/6dXFJ9e5xcEpaD/6+0hk89tBLDjAoTze/7peorx7XOInRRu75G741XApdxrS6Ml3ILMtnXuXW2/2/DVM7theEmPPQPjSWhy/d1L14Sj2n1sknoAv1sRSu+coM7YNT6y/TDe35O9rRh0kvHeiQTDKXnPSlxdu/7DJt6NpUxnuoHlNISqMoz6llutLmsHnUTYKLoTorpQadyPlJwzdZFwDYqBL/8H/7Ir7+z5940vjryq/ZuWWe9Hy7fiI6n8gwN9JMx+bNa0SMFddsuFoY68CtnyDmXUvJdVncTAXgZiCcMaL69RkTktBqiWlsolURY10UJTabjTHTojxt+91+5NoH/Q1mAhKhba0vA+8LewK0y3RQeF1AOWZVvA1W6ssYfkhTSsvcR1Fi+lcDDe0D0jQ27K3O35qfRF1fJ0mC9Su6beeXlwbcEPCQJM3gqI+4jT4fBw3M+u+HZGZpHhCQzLIMq9UKUAqXtw5NZZouiIACcPTsEk3XH0kcYy/fM2drZFmGoijwtDzEo8N9PH/7uWyJmdPkj0P1coFvbc7XiOMYWZYjy+xZH1mWYn9/34xNURQmf/eAy9YpW/cbB5g+IQ09Z/cH7cti56NNK8EDzxcO8JH9IAGO6jRGrXLB6JDgTEYm4xpIYFjY4tOKTRVOufUOm/AMPT9Vwj+UbspeGwJMY+BDrkX0zIsI0kJljf3m5fvuhYDaFF5gBzR29HHRSwc6iIakCr4F3ceI8+eG/t9U/YbopheJENgZWuA+jIVK5imlwa5WYHp43G3SGoqB580lFFxTB/2b6tN/zGX6Tc15CsZYukwxBxqUB+VpmTJr7sXzkExU6KOZUc3g8FCy/LC+kCRYjweXwlqGl87LSNMMaZp0h7TpulxdXWG1WhnzKyrTNb1qve9k25IJh2IaL8uYusDF9rV29nZNtQgAuFJxt31pqg+Yo7MhuB+LZc6V6QcCUBzgcSBJdeWAJUkSzF6b4/GTx84cMDPEyzg1UJHCV155DYDC5mzjzGk+x+XzXMMiJd2cKSUTIvosFgvjK8NN0T7z2bso3z/DsqpRdX4U/NTsPM+xXq9xMcvx6ldnJqqXPvukRX6ywJPFxoyvvm8BgRtxqu0iVpGDvq0vHRpaloVxqOdaraZx3wvbl6QVVCAtJAERd1rod9UGhSAgClhto48x7JUIrnGhcqgsmvN3PnMbVw0QJ34BxnVom/C6vuhVvH78P6+fTDMGEoYY5DFNxE3QVLBznX6fAmi2LSO0D1+nXr68d6BjRx8XvXSgw6dq3Vb96JOkDEkMXkTKPlW1e90yfBvHlLzGgFeorG3qGZLqDOUxBUxM8fsIzQ3/JmyZo6H66m/fGRmU1n1OMuD8Wa79iGMtSZfMiMuot+xANQuAqExy3rU+CTAMNnrhfXU7yAaf/BasE67upzzPu0PbModxXa1WKMsSm83aRD7yAdyQtJnKIAfkttVO4kVRmrNBJFH/2fpbaTW1lZhTXga1QzOyFeq6Ql2T2Yz2X+B+LfobAFyG3+ZNjLplNpVSyPIMP3r82MyDviS11yS6ifWTtXfOU51kMAPZz4DLiMp5RMCLvq+urrBcLs1BjwDwJ5cbfPP2DHvLDU4ArNdrVFVlzmOhfIqiwOO6QVEXQAu0SFDWJe4+uIN75TM8uaLDI6se02qZfd1HNGd1SF0484L7hliQqceGwGc3M8y3fbfkHAS45lD/bpz0RNsxay3sYaGu6Re140d1jDtVjTTLvTkMaTkojxDJtG3betdP37s5la6zT9BzU8CV3JOn1m8qyJhKIS3IUPqp14f6f0o7xgSGU+u2ox19FPTSgQ6iqS99SJozdo/fn8JsT1FHT1ETh2gIME1JF9L6+MqR6W5S0kMSdOm8OgYkQpqbqenpGT/ocUOm+vLh9dXS73677Lc1B7EaCV0O3bOSUroWw9V2EDNkpe1SAsul9eSY75ZFZx240Zy49Ffb87vXlNKnTWvzmpnRBFjNjDXZ4r45dr7AqWvfrIszmMqc16HNaVrQVOCaBD4W/D+XVGtTrbRjbpuOCbNgyZ5azv0yYmzO94FWQbGy6qZGUzfIbl0hjpWpi43AZP1ApAmLXTeonP5BkyqJoPIUURwBl/21iOc55XwG7qgstSM0NqRFIL8cQB8MqJRClmX4/fUay7JC9PQUd27fRlNXqJQyoIMACJlrUZlFUeDk4gKL+7eRXD0RYZiVcWjWQKIFD6/rA5i8HyxIsMCVmHvbZ9T3/D+fa/oZO4aulhBonbnmzl/F8ujVsPet60ZjEmNvPveak46td9Jng1+fIpShfueMv3+ODu+BPH1IsBDaT4a0HPKeFCb66jdWz23S+tq07fNT0wz1/9QyfHm8iEZjpw3Z0YdFLxXo8DHAYy+OXBz5NZkm9N9Hfgbo+gvJkKp0an5DeV1H2jUEXPj9UHk+qb1lQNwDrTgT5duQreNn5GW4hjZiXg9zOnIp692vK5ENFRt3zHl/rO0Gb/PS7bKSXcAFPdw+n5geLQHm/R7eZGwEnsQw7zbiEeVJdbHtpPJpHCzDGqFtK8RxhNls1p0YnfTmIPkJ8LMVrOlSX8oqwSsxcKTp0I7jfT8GXZYLPNw+6AOSNE1M35ZlibIsUFUlsixjh9VFpuw4ivH3/tEDIOszelVV4S//4iHyB8f6/AyUaJsWcaxN2OI4QRInBthEDdc8uIEBONOqVIRHDx8A7210Wrht56ZT/Jvfo/TSBIszbXyukXmT7qMUR0dHSNMUZ2dnWCwWZj5kWYYvHeTYfPAc86s1zj73Ovb29pwxjSI9P2gcCIwkTYnig9POx0eXFUcxVGTXCT3nY/bONF2oYn2/KArjJ0R95QJvSTIIh9WOSKBAWg+dVHnuue9deJnkZ/pwjXvjlJmmKbIOdMi9YmgNDgEUn1mVvE/XKQKaPdxxOuMaAgmh9CEaAg6h/Cn9VIHgUH2H9iff3hTKi6cJ7aO+PIYEoCEa42tC9Z6S77bCwx3t6Dr0UoGObRYK30I6ZXGVC14ona8MX/oXfdGHng/1wZBkaSx/34bkkzxJxmYK+JPjx5mkMZJptvbn6MrkBxP6wkOG+lSbjKCTbMcsjd3gbChaDjhcpn9cgmfPlCDTDS75btsWSZJ2YV6tVJ9Oz7aMKpVtpcAEiuyZCtbZWFenNkxpnueOJJp3fxwn5pyFoijBTb5kv7nMoI+Z0HW0B6ZZkEamYnT+A+XHwZo2zXGZNFu+NYvSIKBFkmjm+ur9B/j2Hx8iyzIc3I0xm82glDJ9GEURyrLE73y3QV3fNYcWlqsSf+Wv/Rht22Jvb4Y3/9HP4d1qg3wvMgxn2/ZPhac58DO3PovlYom6Axyyz8YAtGQ2JfCgcQH0nOXzho8LaTuyLEOW6chW+sA+IElirJoGzy8W2P/Bj3HxudegosgAgSzLsLe3Z+Y9zaHVCjh+eAer1QqfX6xRNg1mbzxAlKSo3j1GUWywXm8cx/4k0RooHQigdbRertO8a9ZIYJT76FgAYkFYX9jETf7cseHvi7xH+dtrLqizZeh0syTByav3cK8DuKH1MaTRkDTmu8FN8Hie1I+htXeIpjDSvutDQrwQAJqyl/K6D5VDYz4kfAsJz6Yw8j7QONYP1wEccv5OJV+fDf3f0Y5ukl4q0MFpTMogf18nX8rbl/8QEJELo2/B5/fGgMlQHbaVOkmSgGIb6c3Qoh56Rmo4QnUB+iYkobrxjdhXP/4c17RMXdB5OzQjVPfGkfLj5zz4xlZK+/k93X4+DvYQNCLtgJt0jH+EujvB2nUM7rdBtpOfU2ClyQ0DIwkLpWrrqEGAPQ/E+o1QOjc9jKmLm8YCtVr0E0m9ed31mRr8/Ax9vTYaHaWU0bzQfR6NKopiJEmMP/1/voHjQiHfm+H23diAnTzPHf8JpZRh2Ojk9qzKsEpX+O1v/ZwxaWuSCoiBzXqDL81fxQ9Xj7u2aEn4/M4hXlnOTVsWFwtHIg0MhzWVxNNt4/vE5ygR+bvcvn3bjIVSCtqaqkVZljivKjx6+11kWYZndw/wo+Nz5HmOhw8fYj6fm7pT3nt7e6jrGmevHaJpGpysNVi/+9kHKL//Y6DzJarrGpvNBkWhuoMqNeigvrHmhDTWMHNIA1KaGzoNf5+6Fpu0XGthmW33kE97HwZo67zdNZDmp60TOcNTHRTu5QneeXgPR0dHxjTNN65Sg0E0FCqXnuPP0NjKyGak6Qj5ePiY5yEaAgohQdcQhfaKqWAotG+OAZkp9Rl7NgS+hvII3Zui1Rir79jzO6Cxo4+KXlrQMfQShaTy/P4Qgz8kqRmjscXzRRdnyvs6ddumTkN1GVvseR19eUvgITcfzlANbcChsRqaG1y6zyWAJJ0O9Y+tlwUULmPNwaEfcFA53a/utz2vgEukrYOqrQM/yV37VVRGAk9mFGMbnWZQlAmBa/00YMolB1/ebjdf5WgfQmTfBeukbvtZO69TuF06rND2J41Lg6bpSwDpvzU50Yf8aVBEDvoW4CRJiu//1s/gtI4Q34qRzbVzOTFlFI0JsEwgSfG5qUoURajyCogiFG1nutIFAbg8v8RXX3nNmbNN0eDi8jIo0eaBDag9U4QQkrjP0RTi6dI0xcHBgTFJy9qiA5QaxH5wuUSSFLi7WuHnUkCtKxycPsN76iEODg6cehKYrRr9rsSdadHZusTh5x4gfvcEOuCBBjUE5O2hfJbR10y8BLTyoFJXM9Fvv/Wz0M/5zfPoeduP/ed5Wl830/uSpikQxdjb2+ud28JpqkaLaIrfGycaz6E5NTRf+HrEr/me863FvjK33etC98feEV7/KXmP7Y3b5uNf+6/P+PvW8RfNc0c7+jDopQUdQ/QiL2To5fbR0P2pjLwv3Vi5vs3gJmjbOo+1nzOrYyBxCCyEIvtIrVKojvyaihTe/p0v4fAL3wGikt1zn2M5CYau3yYteSUTI389ZDmuRoMzPXRytnVeVgqONJlOFW9bew6HjHAk57HUNkkth47m05r7/MA0l2wayQTJ5P4xsO1EF+qWokmNCQPomwNTknTbc0oiVn+gKVK883ufQ5bnOG4ipEdpF5HLhv+1fjCuCQuVQ20lkEZ9TkwzP2/l7Ml5r848T0k+RjLUD2O2/aF3iPedTxBDPjrU1kUFvHJrhneeacd+0oA8XVZGmzQ7W2MRaTOrJNHaJNIIkW8IlUNlnS0b3M8yA/YJaPBAB3BMnKSWwX1X6Dr/9q8hVluikw3tC4rd9/XlwKPo+jJNMZ/PnTl2XUGRLXc7IRv95z4dnMaEMz6aIlkPCaJ84xMSkITqNQRerrMXDwGn6woeh4RyU57ZhnaAY0efRPpUgg6ioZd5G6ZdppWShpvQNnCaytRPLY/SX7fOvry2qY8cA190HXlviLg/xhDwCJXxvdMNfuHVOaKDKycN11y4IMQyLZJ5oP9umzTjYvO1zrBhKZgLfPj5HpSOmF1pMsHNm3xt5/+JeSbQofMlkxY6Mdo/Bi6IlGVNZwSoHlwz5NY3LJUl7QM3JeG+CXEc4+rxbTRlBkCh3szw5lWLvUZhditHnueGSZamXfSb8qbDEHk7kkSfV0IhZcfa6utDSkf9T9omHvFJ5jUlTDQ9K4GF76wPuS5w4HC63OD5/j7S55c9hpb6qKoqXF5e4t69e0jT1Pq8lKUZDx5qt2k6072TSwOS9aeG9eORGj5l5lmoa7n/ExEd+gfHhMq2Wym5JilvOv1tNSxun9E7YEFVFCkcZSlmt+aYz+fGv4aDUklTBFtUJjDs0yGJ1ooQcz/G5E9han3CjRDjPgQ46Np19rWhayFNw5Q9eKiOvj6le9fZW0Pl8euh/ttpPXb0SaJPBegYWtx8/33PyPSuZM1+X2exlIugj3EdksbctGRsm+d9def9wxdhufj5+ktGVKFrQ2YIUqIrpbtU7tQoVnRYXBvFXrAgnYB5KN0xqRRnon1j5wIEP0OumXIeolb3mfbbsKFzKS0xQLz/Q2NADCE5EhPjTRJs7XysIz5ZrYEdd3L6pZOlZd3deYCurm59rZZEoW1r71wbkppaEzMNCLIsQ57PkGUpmiLH9/7wMziNlsaMbn8/x/7+PgNZtQGtPh8j7mPBHbOpzCzLjOP5arXqASDqB7rOw9ly526+rnAA5BMOhKIVceIMLtWFp+dl8/bycqKo89dJkm5e9d/pJEmQd3OoKAptclZVWK/X2Gw2xteDQAfdq6oKGfPfGHqPCETQu9jX5Llp3RDDigFoWQb99717NIfB3qk+c2eFA3D6BlA4un+A7+dz3Mvz7kDK2qxL/BOa205NBZPJo/cRcS0s3ae8aDx8wOW6zDGvl0+Q5WOQQ0y6TCfvDVEITPC6hO7LNvho6JkQePG1KXRtbH+WaUIgh+5ddyx3tKObpk8F6BiSIPvSDl0fWozHJA2hMoY2mKGF40UWEt9i5ytjbAEN5TuWRo4F/SeGj6f1nTcADPtzcKdf+k95SckiryflmWUZqjjuwrW6EnefY7oFJa5GxHdYHwdkus/bXhn99nDthstIlGXlMPkWbAwzKkQ6bYQ0TRyNAD/sztrSt9hsClxdLQFox3Vqi46SVaIoNthsNijLyilDf9N46bza1pWAEiOvx0melwDTx0Dbm7v6v27LfD4zYXv1+RM64tZv/eaXUR5UmMM6b3OzKHf8fP3UD+5gwr+aCFv6PzchkvNamp/xNYozhgCCGg5ZT59fyJAGhNpAc56DHbnu0P841pG82gio4hh6fuix1H4yEeI4wXxvD7PZDIvFApeXWiNSVRWWy2V33gpweHgIpRTW6zVUW2P+k/dRVBWqqu7em77fEH/PeBvsfKB62zT63BX97rStdjKX64LsF/7Rfc37kq+JFjCyHLp8CJTQvNaHL87ncxwcHBgwRkAj5NTtE5r4tMG+eetb62g+LhYLB3T4BEPyN6+XLF/Wl5cv7/kECL69Zsoet239pjzH7/vq50vvA1jbgiZebzmmof0/NH9D+Y8Bmh3t6MOkTwXokC9ySFrI04YW4G3LnEJTwJAvPT0zBHDGNhFf28ekMzL/kNQnJFGSEjCeD4V35dqNELgY0lzIcfSlC0nflFLI0gwqTbwSex/pvNx8CWC46QAJLNy5pu8TA+X3nWgNQ07MCj/5m9KTNJczbu7YRt05G1Gn4UjNAXGk5aC8raO3duperVYArHScfpdlacxoZChOt439TV0zvqSlaE2Z7lj6+57Ai1IAhSV2wv62OX7z//4ykANRY+cN+RdQ/0kmlJtPhSKrUd/qsMkx66cGSZJgNpuhqipzwjfZ8kvijCSZt3FHX8588vTy+RDQ8L1Hkon1hW+lMSYtR5qmOLu6wuX9W7jz9Axp6pof0ZzcbDbmTA3SnqVJgs8cnyM6vcT+/hz4/KvYS4DoJ89x0TPdsww7f9c5YCMToVqtUgAAIABJREFUrLa1WggOaLsRMve0uVZtrkviZUlwSesRnXjO3zdaY2x0OHeuKqWw98YD/Gkyw4P9fezt7aEsyx7glQCTjwUHEHJd9TGash1cK1kUBa6urnpr2xDYGGLYffvA0L7ky5evUUMAZKhe25S/DaAJ7X++uvjqf91+ldd8AGMKjbVjRzv6qOhTATpCUhh+f0gCEGKc+bP899CiOVXiEirb1wYfQzlEQ4t06F6o38bK8OU5tLCSRNQnyRsCH8B0fw9epo+ZU0rh9/7fR/jsay323/hxz3QjRHJj6W8u9B3eoJUiKa0rwdX3KVKTEtcBfmYHZ0Lk3KcPnc6d51l3jaTUsamPNfewIIfubTZrtG2DsiyEhN+GBrbnIVAbrYM4byOZHJEmhwBXyBel38/Ur7oP6lqDojjWJjzl2R383h98Ee28BlrLfBPgGApbGnr3eQhkOaYSSPMQzCTl53lKZipNtTM7AZj1eu3V8BEwJOaSM5XcZAewjDq/TnnwdvA2h+YoaTuuFok52E4zr/YE+Krz3SBfjjRNcf/2EV794Bne6vpgVdd4+GaJJI5xsqm84+2uo4AFIcrMNRp33v92TtC8sNHluH+HjwHMsrQDKDYsr9sn9IytC6BQ15UZHwLBXSk6dZoiTbTpHR+zLMuMGZocg5AUOzRGEngSoOHzo2karNdrrNdrr2ZlCvnWsCGBl2/f9D0XarevrVPqeF0KtW0Kj7BtHUJ9wcd6aMx3tKOfJnqpQIdk6n2b5nUlHr6020oPPszFYsoiPQZMtl2kp6TfdtEl0DEkgZtSjg/cAa60V252nGlbZgVUc6CZ1i4KkX3GMsxTwOMYAOXjor81oxOSYPLwskQRO9XZSjctww/o07hJ8k/O4sRwS9I+HH3QQESHtFF/UnlZljrMLrWLgIkLmvvj4DL2Ck0j32N7joKVKhNzSRqepmO8U810NTmusg0SaGdo6gM6KZsz3kNjyMeJt883prxd9BzZ8PuEHFQ+MfRkerRcLie/l0Pmhr76UbmAX2soAQw3UbR+K5Y5t8C0RdPqU8m543iepni63Jgxq+saT5drAwrcZtJ7IOcxB3ruO0gMNQFaAilUlhxD2QfuekCmV7YufXM/XT+9VCnwcL72vu1LOveEzO6kBknWIURcsDWFEeVjDABlWWK5XGK9Xk8qa1tGW5Y7dm0b2ka49iLE+3es/b55NfScrxyibYWHofVmRzv6pNJLBTqm0pRFNLRByfTXWZDlhrHNAjWVtgVEHwf56qZ9FErjTD4EGgDXJjvEOPnKkGmMgywbi8vTA0Tv3Ud6//2e2ceQdEpeH5snPmDBgY1N60p09TWAmHeXMXKfI38NchCPorg73I+bhej+JrBBZijEEGoG05qrcUdoqlNVyXC1VG8KvavbRiDBBQqAlSzDPENtpnpo6a3/kEP+bikVYXNyC6c/ue8EIuCnztMz7pksfZtsyeCFHL597zXPh6TaUkPC1xvyq+HXpmrzfCZWQyZVvA+407HVDPTLo/7L8hya2SaG3s6jJk6cU9z1u4UuohcHby2iqOmAhT3dXo5t2/IxsPXS46rnDOVLjuKAYv1rncZJM0GAhpWCtlUoywo86hUBK/meUF9R//H/mty1J06szxSgQQcdOskpJEByAfs0JtMC8L5pldS6+fK+Lt30fubL+ybAR2gdl/99/b9NvXwgJpRXiO/w9elHAcB2tKObpJcKdEiJQYh84EJe9zEOMo3v/1QaW7yuC3ZCi6MEIR/FYnWddtCmSCZW0q+DGF7OhPlMRIDxaFW8jtyRlur29uYKd3/wEF965TEo+umQ9I5rF3zzhACBZWjcbxcsWDMQFxTZvAj8EFNEzJULOLSGg6I36f7UjJkOhUt+G41h6Hnf6n517dd5/rbO2mmewKJlqiNmUiXNvSJEEc9D9m2IIRiau8rUJ4oUnv74Hv70osB8rh3HyUmd2hLy0+CgideZ2hDSKoQYCw4G6DBBDtq47T350lBfSgDBzaN43vw+J66NGmKIeJ5ynkvTH5La38kTPCkr0HkaBFTbVpuV7e/vG18foPb4RxE46DPe/XlGfYruPaP3RuejxxNoGppX/Fn7XhAg4fnpdApNU5n2yvfT5+ehf1sTL5qbcg2OIu1EHnUhmYnh54KOoQAXdD00fvzb9Xfpz5X1eo3lcjnqqza2l/AyQ0IuCcR9z0/Zt6fsV9fZ23z199V1CCBMubYNTa3/WDlThZk72tFHSS8V6Bgi/gIOSQyGFpFQmiHJ1NSFcEjKxPMaW0iGNqVtNzNJ26Yb6pdQ3QCgKApsNhtQ5CF57gLgMlrcmdl3f0xKzB1ked2KokAOfe4Cj/LC682JpLA+CZkuZ9isg553Jdz21OssyzqwYA/8swcB9rUlcaxNXMg/QPeVZgyJEaS8OLAhR+d+JDE6xZuYIyv51UxahLblzJltJ/9vmbwGVWW1EnzOaMaQjxc/G0W3jUcGc8fTnqiepCmSJDbt46e203+SxvO8qG/lieB0jwNgGju6T/PR974R6KH8uCka9dtqtUJZlsaJnID10DsgTQZDc90XplcSfzb0vlK6P55leGNd4qpwT4yPuj6dz+emf5u6IZbczBPre6C1D1rjRH1tQTwfYq0doXws0KE5pP2CYtYOF8zzeajLsnOSgK72T1IdoHf7x+0zvqfQ6eR9jVcSx8izHHWeG18XH8AP0diazX045F7HBSubzQbr9bqn5ZDE8/et+xIoDe1fQ//l83J/G8vLNz+H9qkx4MbTDIGhsXr5SIJDeS/El2wLHHZgY0efZHopQUdIgs6/KR1dm/KSbiP5kYvoFIZ9GlPrr5Mv7ZB2QwIi3rYXkTaNpQvVlTNwZVmajZEDAa75kNFsrkvcppok0ACQ5znKskSmaiSJBT66LrINfU1YePPkz/ZD71qGS+erzaBixHHSmY3wswVIUq/QtooxlApJkmI204fd6boAdV11IW31ORucrFOuZfzIbIZMn5SyGgo9Dn3GWmpaLJNH/eLOAcuctyyNZt5cx2LLLPITrauqEgxDg7aNun5LkCZJB1BaB2QopZzzPJqm8TJinNGXGgcf00X9x68BMNo4Yv7SNEXbtgZc09wmhlSeVcOBtQ9Q+LR8/Dox+FITwsuQ7xQx3rIt/XWzNW2M4wyvHOzhT48OcFe5ZnjnqwIXD2/j9uOTzunavkuW8Xe1EhZoqq4cYup12rq2zutKWabbrmVW42YBQh/I6Dbr90g/Q/NRz0UOoG2fADaSlZuX21/AxaN7iIoGr3XvIw+W4RuDkKaJ5soQ02vf2dakpXyvrq6wWCwcf45QXkNMt5xvU4VrQ4z1dZly+Xss7VThmXxGtiMkWJNpppbBn/P9nkpDwlUqbwdKdvRx0UsJOsYWJ5k2tLBMpTHpytSXfOj5bZ8JSWZ8EjDf/W3rvg2FpEh0va5r5yAxDjpkSNMpdRwzsSJmlDQaBC5msxmerC7x9Ne/gm/8pd/vmKfxMfYBTnu9b1rgagXcEK0kGdeRokrDxJFkVTseW2k9Ma/8RHE3jG1jyuD14PXhDIutH5cQEyOj/UJ0H7cs3xakFQFc/w7OpFlmiKTa4c2W96E+gLDytgEs0tA//daXcNICak8/z7UM9M3DAo8R9e0QU8bHm5u2EMghojEiH6ZQW4fm9TZR23h+IZA+BOJJ68PrF0URvllUeNK0SJIYdz93H0+TfZztz/EA1nEe0EDx8PBQv2MHB9h7610U3cngBLTpNwcIw0wfEEWxmZsEPprGRmKjYaWoaDSvrd8Hf/d4/lz7wcGL+/7rfORz0ldEIeo0lRxUSlO7IaGTD6DYOvTP7+C/qZzVaoXLy0ssFovg2S9TBHBTJPI+EBIS+PnaO1bmGEM/BpxkXXx7YaiOUzUpQ3zFEGgMPRPKw9eWHe3ok0ovJeiQNPZCD2kL6HtIUxJK+1HQ2OJL9+WCOyal4WlfpHxOU8Ed2R1TjH9ytuROnCFn8KkMmCQCHnSyd9vqk6yTWYI1uO3/8KbsakKortYZWqa1fWcZFaoLBw6aqdcHsZEGQreZJOc29CtJ4cmEioCUtEmntIAN+6nLcsEGETF3StGcAgAXBLZMq9G10qS1jJ/tizE7dh+ReRhnBO3HjlNZKpR5hVk0c6TDXBo+FXBIouc5oPKZmtB1fn4HrwcxnQSKOPFIV+G+8Psx+d6DMTDjavNsXj7pO9XreKMdww8+ew/P0n1k+QxJmjmnu1NabR6oD8RL0wSVqY9bfx+Aa1la3fcAn2cuYLD+KXp+W/8oux5ys0Gb1/DaxLVxA8lMWg2glIqQd9G+CHRw0z1uLjmaq3hPhgAkd7av6xpXV1fO4Yw8z6lrOC976DoXqMi90bdv8vvy99Q6yLy3YdzlN39+DCD46jGWp69u/DnZVy8itAyVs6MdfRy0lV2KUupvKKX+SCl10X2+rZT6l9n9mVLqbymljpVSC6XU31FKvSLyeEMp9etKqaVS6qlS6r9WSn2o4CfE7PkWk9A9SUOSjimSjY+KriNBeZH8b4LatjUmVmRrPwasuPSV0zamVxRCFYCRRGZZhrQzyaGyrkNhCaLdmMh/gw7oo7qQFoEkojyKjs6b2hobyS+FtKWTwbkkVW70IV+TPugACBwR+CF/EqqnNYEhKTIBRQsMCeDofCQz6+8/3v+6/a4PAQEODcL6UaOkhkzmN4U4Q8zDnPL7IUdsAjacEePBC0gLs432YluAHQIjMi857j4pOvXfvVePcPvBAd6vY9QtMJvNtMM0629Xw6AB9cErhzhME8O86/uuMIQDcv0fkJpGre2w/j780EwrXLGhfuM4EvPdgm3dZikN5+8MFz7xOgzvF/dfPUKcpsbUUYZNJg3mGPG5x+eKJP5O0bwqyxKXl5dYLpdmTeV58rb4yr0O0xvaY0MU0kSM1UGCU8m8+z5DZY/VTZY7tX+m5u/Lz/9e+Ouzox19kmlbY/h3AfxHAH4BwJ8H8JsA/nel1M929/8bAP8qgH8DwK8AeA3A/0oPK6ViAL8OIAPwzwL4twH8OwD+i2u3YCJtKzXxpRkDJGMv/dCiOURDC5tPIvRRLjzbgI6pGwdgTYJIKicZGE6SmdrWx4NvUsTokyQyz3NknaZl6gZtmW5+vc9Q23KjjmEmDUdqJOMkBbWaiqZjrGweOnJQhbLU/bVeb7BarbBebzqtTZ+hkfNY/7Z+FD4GwMf0Wc1Pa37zDz9U0IID5TCK/j7sE9WX2u/rf6q/UgoNO+Gah8jl5QwxN/xeKKypBA/032eq1LbWtImnpW/bhj5zT9fH/Jh8zKtkUsfWIR71yEdcyv69EvjDqwIFO12bpyMTMinJ/86iwCzRWjYqm596T80mZp+DSp3elNJpMWwkKQLotq/4vNPAHOwcENYDskcM0OZTLSzEkhoQff2PNw3iJDWaHhm1TAYTCJFv3OQ4SYBH82u5XOLi4qJ3IKBcV6fsHVP3IVnGtjTE6A+V4ytvCiDyPcPbNQSKfOWEQMmLCup89dnRjn5aaCsNQ9u2/4e49J8opf4GgL+olHoXwF8H8G+1bfubAKCU+ncBfE8p9Rfbtv1tAH8FwDcA/Itt2z4B8AdKqf8UwH+llPrP27YdDqnxAjS0KEqSCwRJpaY882FI/uXGcF0tDN27ycVqqgTMt1EPLZ51XWOz2RhHW8twNs6GIe2Zh6JYhahpml6IXjIzyfMcan/fOVWa6s/bwc16Qm2SjBRd42BWM0XK2H3zA8fs5uXOTwlM+McPHmzd+xqc1tjB8zGyablGyQKHMYZF59WYdvPr9DylkdnYSFHaxMz2BzHUNDdIgpwAUIhUBECPY5ZlzhziZl3EpPlIRgPyzUPOnHDH6VB+0tY+TVMDrkNmUfKdliB7yJGclyfThsBOiKgu/IDJNE16Pgm8XgSe6R0ykdiKEjGAqqXyW5C/EBEBXZcB5MBEMnV2jmrwoaBUbDRgBO4BoCzluCuTn35eAdCHDRJwkcTDWvvetbbVoYPn87kzB6n/qN/lsyGBRkgbxvuaA444jlGWJU5OTrBYLBz/IVlGSKjSF070aUzwNYXpDoEMyfzz6776bSOIu+5+KsGFr64+AMKfny7ECtMOeOzop42uHfZHKRUrpf5NAPsAvg2t/UgBfIvStG37fQBvA/il7tIvAfhOBziI/i6AIwA/iwAppXKl1BF9ABwG0o0y3KH0IUnPtlKFKZKYoXRjjJsvj9BiFWrTkETopkhKjH1jI5k2fr+ua6xWKywWCxRFYbQAlB/fYDlNkQb76kq+HJypbNsWeZ7jYP8AaZoZaSuZa5BpBj/UjEtmiYjhcaXhlnGjqEVkf16WOsqUBh216Es+RyyjS3biOiQuj3DVNzngfc/HgqfVzLMNfWvPGLHSU2LEdHo/uKEDCHm+PoAu30V5+rPuo4i1XzkMGPUNPa+UPYyN+pnM57gTuaR+PRqn3RyE+CTMbWsd1uVc5M/xfMm2P/Q+6r72m9P4QIQv2ILvef4/9DuUB5nvrddrfOFyg8O9mRORiaKEkaM+jXkU6TDOR0dH+P0kxu07M6cMHuSAAIfPVIuItF4WjFvwTADQalms+eJsNuvmRuJoQizx3+78VsrWTf/3M5D0yZg/B9VJKasFon4L+QTpdrrCFt+6J99z6v/T01McHx/3wn77GGHfWkxp+bek0F7Dn6F5HMontB/wdSBUv1BdfPUaY/596UJlyHqP5TMFwAz1pSwvtK/uaEefVNoadCilfl4ptQCwAfDfAfjX2rb9LoBXARRt256JR55099B9P/HcB0vjo/8YwDn7vOtLNHWR8KUfW9B84GTK80OM/4sy/z7mgucfYkB8G8i2dRhaFCm/ULmcCfUxw0RFUZhoK5ZZj3obbIi2sXkn4EF9VlWVMUUoD4Df+r++1Gk63OhPZCbETUNkdCjbLjk3GsOUUSjboii68KiqN3Zy83aZfgIbxGCFN0ULmrikj5dj68eZOdvnqsfQ8TMz+u8KzIf3B28bhQXmfhL0DDF8cayl6tR2FwhEBsgRQKUzXqgcChDADwgke3qfnTxnkvhcIgbQp03g54BwIuaSmE05ttI/hI+3zzk85Pvh03DJ/Hha/pu33wc8KG89Xwuslkt8/mKJTVPj7pMTPExanJ2dYbVaoSgKLJdLnJyc4Pz8HKvVyvRbkiQ4ODjA/v5+FxK7V1RHrhbObZs1sXMZSji/XUBuTbzSVAPSPM+7IAwxew+sFpLl5tTLOqaTf1Fj3gO+DigF7O/vY39/3xlH6uuiKAaBAAe3Y/4+lDeP0rZcLvH48WMsFoueWZXcg3z7V2iPGhJk+T4SbPA9IERTAAblGdpPQvlOySvU1ql18JXp23PHAN2UOk7pqx0Y2dEnga7jwP0nAP4sgFsA/nUAf1sp9Ss3Wqs+/RqAv8n+H+IawAPom4wMPRsCH2PPhxbtqYuKjzgzN0S8nKHFT+Y9JT9fPlPbNVaGL6+mabDZbHB5eYk7d+4gSRKHASFzJw5GhsoP9R8x0EWhT65OkgSbzcYAgCRNMNvfM5FneH7EVHctYe3gUsu+/wJnDOUGojfofmhWvanocojR1nnxDQ/OM7wOPodx2yd8fFzGwNK0TcvHBCrlzr0+A9wiihpYZ2LOmDQdENOagTTNujq6p1brs0YaKBUZDQeZV4Xqx8/PkJqPqdJW6bcxNNeJ8eZ5cb8Hn2DEN6+nAGrO7FFeQ++KZG45k8vfPaKyqvD84W0cvfcMy6LE7Ecf4I08RX52jiRJUVUl7hQFqqrG+rW7OF4uHc1TnueINxV8Z2jAMZMCwEyq9P8+c2yfBeR81v1bmfGJ49z0Cb03um8oBG4r6mLL4esV1wDqy61TdhzHmHWmVQDMgZx0ACdpOXx7B82JIadxnlYCx6IocHx8jPPzcy+DOsagh4R0PuZ26N2ma746hGjKXszfIf6MvD5G/Xk0rvkYAk2+PCSIGSsz1J99kD0e4WoKwNvRjj4q2hp0tNrv4s3u7+8qpf4CgP8AwP8CIFNK3W5dbccrAB53vx8D+EWR5SvsXqjMDbRmBcCLIfahl1/mPyTNGStjDNDcBI1JM6fWY4rkZ6zNcjEcWwiH0lFeTaPPMFgsFlitVjg8POxJzjhtCzykPwgxBCSJplOh0zTF/v4ccZyATUP4fRSIcYocRtsFJ1x628IN3+luEKHxpG9+PobvvAsOOKwk146pT8rq2zAt4KHQt1EgrWX8XEAw9s5o+3sJvogRp29iqto2BNb0aeRv/sOv4rxsEc/t2RI+RmRofkqnb94WpZQBLDI/qWngzLusBwcuQ8zFVOJzug/sGq9GZUqeVGduAjSbzfDs2SWOuvF5tqygVhvE8cr0DTHVj9oGjz73Kk7Xa+R5boBMXMW9vuB1pyZw3yb5XtE1QK5BVlum55A1O6Q5ZMFe45TH8wwRgSB6pzTo5c/rQzr39mbOegLYMLbStIqI+wZNYdAprYxWdXZ25j30cmzvoHKn0ovub1OYZ0k+4DNlr5qad2gd9pU/1HchEOJbB8bqf51+3oGNHX2S6PpHObt55AB+F0AJ4C/TDaXU1wC8Ae3zge7755VSD9nz/xKACwDfvYG63AhNeUl9DNeYtGcKhRacm1hIPwwaWpSn9sFQuqqqcHV1hcvLS0fqF9qgQlJB2X8+MxIyxeBO48QU7O3tIU37GF3OA/pJjJGtJ2CloLzPQlI1m1dYSuVG/OFtdTe0Xm84aQmwTJGGuZtk35RQ1p2XL7UGRKS1CW3s8jkCcPSbR6zSmpAUTxcx1lnhANRQ+0LO35IR4GBDAhJeT3mKuQ+wcB8PAlO8D2XbfRQaqyEznOsCGR55qSxL856Q7wagmXrtG0Whmktj0vR4sUb87nPczWPzTkVRhPP9OV6Z58a3xWeeNvye0HXeT761iN6Txvhv8Tys6Rb1WX9+q06TMfU9yeIIr90/RJbljlCD1ijqRz5fqC4SRISI0vO0TdNguVzi/Pwci8WCAbNpfgcfBsl3iK4NSef5s/ITom33SV+ePhAc0rTw+752SaGd7IMXrb8sb0c7+qTTtud0/JpS6peVUp9X2rfj1wD8JQD/c9u25wD+ewB/Uyn1q0qpXwDwPwD4dqsjVwHAb0CDi/9JKfVNpdRfBfBfAvhbrdZmvDBNkchvm9fUhXKIpiyY16Gbym+K9mbsvpSaT81LMm68v5tGHxR4dnaGzWbjPMPLDdm8y3Ko7JBksSgKw0y1bWsYg3yWozh+YJjjKeMpmRn5DGfc/RvRNHW5W48wUxECJtttdCogmXU1ObacsfKjjtG05mJ2jFqgs5+XUXtI8yHLjOMYxck9RHHktM83ZiHwysvyXSfGOPSM1KAR08E1BnL+8v8+n4wxSStRyOGYgy+ZPqQZIUqSxHGEXq1WuLi4wHK5xMF8D4oBMFZjZ342TY0nixXUm+8Y08W2bfH25Rrnr9xmfRv3Tn3v14u0bj7Ts2nrDg9b6woGYNrC1wv9m5fhal58/beXxPhOlDgHAlKZAMzaQkRCD37NN8ZyfspgBUVR4OLiordmhsZ36vXt14rhPEOCI58G40XK871L2+zF2/IMvnb5QBe/N1Tf66zTn1Qh5Y52tK151UMA/yOAR9AO3X8E4K+2bfv3uvv/IYAGwN+B1n78XQD/Hj3ctm2tlPprAP5baK3HFYC/DeA/e4E2ODS0OfvujS14obz481NecL6BTaWhZySj4vvtyyfU3utIj8YkaFQXWSe+AIfy5EQRWG7fvt2ThHIpn4+IAaRvpZTzzcsl0HFwcIAkSYyUtqoqzGYz/OM/uo0/92dmUMky1FVdf7jAIDwnFeKYS+v55sNDukrNCTFAUsPSB33kNE6nolP9qEp2bnAg5I5tl9JItG17OAPhMm10jbeXzwU+9m5kJwL6rnkaP6NBR0Oypm08ryRJ8Q9+5zZmByWSKOlt2DKKlARvNC9kRCn6zaXJ3DE9BHi5rT2VwfuWX+c+Q1QW5SH7SwIF+X7JunDm1FdPKoePF68vOWJvNhucn5/j8vIS+/M5XjldYFXVZuzJjE/XsTVzq65bAAVWqxWurq4cc7IoTpBEEVpFDtp0kCLggghlyujfD71n9Jxk7NzoYRR8weaF3vjzvrXz2NbLkq0LhcklgGH7pnGcyH0BAHwBCSitXFtoXazrGufn5zg9PXW0HG6fhDXyfK0eWvenMrVT9tepAq+x/WLqPu/bi8bKHwITnPgaF6qHT/jigttpwjvfOI7t5756TeEBdrSjm6Jtz+n46yP31wD+/e4TSvMTAP/KNuW+KE19icfu+xY/vkCHpJMvInUILV6hcqcuzD4aW1y3lUDJzUsynWP14tfW6zWePn2KLMtw69YtJ8Y9jyYknWH5bw482rY1DB5Pu1wucXBw4JzXQfbnh4eHSOIYNQMufWrRttROf79Ipt3+7zt7634IjavOQ0arctM0HSNPz5N2wA15Kxkze7p31JsTxPRYsybaPPtttU7CPkZGM39FURhgxNO0LX+HarQt186Q07hlcpMkwd7eDLNZ7mWyqf4cEFJ5dF0y4nRNMt90T85j6puQf1FIi6KUQpqmRiJO9Zf18dVPjrsvKhU9G7o35gu1Xq9NCOuyLHH/1iFuPb1AZfwhuH8Dn2uuNuBiU+L+01M8vnto+vOHz8+wd2cfd56dB/rGglA9J+i+BCS++Q8o1Yr/9n4cR2ia2Ph1UP68bGpLXzDQnwM0TyiSWpZlPSAZRZEx8ZKng9PcJ7M1OUfIxI2DWa55Ozk5wZMnT3B+fu7MUzmeIRraz2SaUJ6+/XGovBBwGAI/Q4IrX3vH9r3Q81P7LsQT8Od8e59su+/61HpPeW4HOHb0cdN1ole91DQmzRiS/vA0ISZ928UklJevzmPXeP5DAGJoA5GL4jYL/DYLqu/Zi4sLnJycGABAwIBspak+JK3mDJUMhcp9PtxUAAAgAElEQVTzpbj5gGbM1uu1Cbfati2KokBVVTg4OECW59jUyyCD3/3qvvuHCQ5v+LZOoc1fghm9mfE8ZN9TPv28x4gz+HSwGgBUVckYqX5dJEjivzlTWdfuAX1u30gAT/n020fMnCqP8Ju//gU0eQM0NjIVMdT8jA7LHEZBAEn14feHpJeUhiTOvL38eR8g4QwpMZV8TlI9pHZO9q+PfEBc3pPXZFruB/GVe0eI3nmG86buIrxZPwj7/um5oPNpzb22bVGUOjw0tZfeNakV0u2y49WfU8rpex55Sqehsukdod8WSPL5RJHTuBaGhpvmtO/17dcNeLiX44e3D3C/i0xGggtuAiWjlfH5E1qfKS9uNkf9eHp6ig8++AAXFxc9nxWeh8yX15+/i1PWCR9wH+sf+ayPpgq0ZB34fVm3qcQFE1Pr4avDtqDg42D8d2BjRx81fapAh2/xkYuG775P4h/KRy46Uxk8H6PpAz5T89uWpiyGU8DXWP2uswERlWWJ8/NzzGYzE+ufJMcy7GRIqsuZTP4c1YvMHogRIsagLEvkeY5ZnqMuEviiTvX7yn/Yl5XQWeksTyI3zJC0zV7v+3T0Gf8+w0kMuWtaYutEgIzCzhrmXkWIohjcBKyv9dDtU6rPmNAzU+eKTefWjcojaW8a5Wjy1hlXfhAb7zPOXEpwEnqHpX+GL+IU9xEYah8vk/KkQyL5CfNEU4Ij+PpOPi/fi5B2UJZBbUuSBHnc4qSsDdi3Y03jbTURdJgmH/e6rvHNqsIP9+eoGz1eWefLUVUlqHryPdDfrgbMp93onoYbXc5q+GhOajM6e3K37RcL7F1AD5Zf/7+9HiFJE6DzRSLncWoHj1ol28cdx8cYWX7ezGq1wvPnz3F5eWnM/mx9xsPAhtb20D7n+z/lfebpfOVMZfjlfumr7xRQI8sJAQVfWT6Qs82eL+vjG7MpgCmUZluwtaMdfRR0E9GrPhXkY/6m0NiiPZR26nMfZl43vWgNlS0XcdnnbdtiuVzi4uLCmHkQ8ycBREiCC1jmim/alD+31ef5kuTw7d/7KsrLQ/BTjN0Tyof6zHWKpqbxdlo7eNvmMYYBwnTJhseFqR+dit49CWLC3PxdG/WmsaBEO7jWqCpuTuOWywEHSZ55PduW8vQ7nfd6y8krAg/7y/tdKYX1yRF+9Lufd8ZWt8F/cj0HDjLClCzfd133c98xnN8LRa7i9ykN/8/JF1VrW+KaEl97QiZWvL7EKFM6ftAeP5Sxz4S7PkA03x5fLPGltsTR/p5mxNsWDz57FxYs8DpwJlG+X1xCr8uwdZAMMqtVd8gnaTfsWuA+p8u2ZdF/Pg9t+Ra8c+d7Hu6ZBBu0xvTnuKuRlesf1wbRp6oqXF5e4vT0FJvNZnAcPw4KCU2G0mybpyTJwL9IH4Se41qhqWt2qB4yfaiPtmnHDnDs6JNInyrQMc68TX/+uuBhaEHi5GNkPq6Nw7egjvVFiNkKUei+XGgp/vzFxQWurq6M02/IVh5w7egl8OCbPLWL7Oq5NLsoCjRNg58UBcpLMu0a9rcRV7t7LgMly7ZgwN9P/vJIkxHyq+jnQWX5SKe39y1o0Aes2chRrXiG59FnNIjRc7Uq/Nt9nhgxyZTb08jte7E+O8RbqysnLf2m8u3p6ZbZI+3CmLRTMoZcMi3nqGQmQ0CE8iOAJCXBUgotmVKfZmKMiPkNkWRYae6vVius12tkcYTsaumcbcG1aO64+4Mp6LFo8PT9MzwqlkjjCEVR4k8K4NWDGSJITS8HHNIZnmsy+owmPQcTApe3Vc9JmgdpmjABQog46OXvf2sANZmMzWYzk0Ypq20jc01eTx/g1O1z1ye+fpFAZLVa4fj42KyH16Wpe5Okm9qXbgIcyfdO5ueCxHENQoiG1oip9bwp2oGLHf000afKvMpHPhX2UDr5+zpljDHp29Rpm8XLl36srCGJjcx3KqiTaYcAh48ohC5t7PP53EhxCSzItoYcaInh4D4hTaNPQp/P56auxCRkWYbZLEccxyjLqmtHA4CiLUW9uWIZPclMNuI/b3u/D0JzUKex/63DqwLnY4hpI6lwiPekPqDf5MTL29O2LoCy+beIIurvoXlOEmmtEbF+AboPLaBwfSJ03ehkaiulTtPUON/yCGfUTyRdJpDB+5CAgIyAxkGLBEFTNBBy/nIQK/1EuAM5PUu/dbQuG2mJ5muIwfSZFg7VS5pbyXpdXV1hvV6jrip8YbXCeyeXIKdrm7Yx85cz4rxMt1wNAp++c4wv3T/Ed5McKo7xh1mKL6clLkvuYB3Ktx/FzT7T9t4LWzwFe2g68zBrYqUPEKS562pUwmstN5OLsJelyA/2zCnkSikTxaooCqzXa+dpCUZDvjc0P2hu0zp1fHyM4+PjYKhd37ohQbKPxtLIdd+3pvvK+zBpSn15Ot/z24KvELAZqsdUmvL80N67ox190uhTDzok+V5o/j2WntKOaTt4ntddMKYu4iFgMXQ91O6p/XCdhZVLD32bFd2r6xpXV1qqnaYpXn31VSNF5NJAepaHzOVE17jZA30osgzdIxtsQAOPJMtQlhWahpjPFvacCf2fflsGua/d6Pena07i60/O9Nv/1p7Y9h2Vrwzg4IBES2VteFNTAxUhSSLUNTG7febDtoX7XUjmZswu2x+dyXX21n1eVdYkSwMS0uxokJGmlsGbz+fIcx3Bipg80ojxfpKaMX6dayEkI962rZlvnNGTJNsuz4bgAISbL/Hr9B9wtXQcDMm0oT7n853IF+qX3rGiKLBYLHBxcYGmafD1qxXeWZddeXbOuaF26Vdr5pdvPttyGnxwfIWvH7b4/sEcBwcHSNclVNWYOURp9Tfv39aYR/E0NlqVAgcP9Cyl13OexmTopHafZsP2mRU8AGma4O7nH+IH6T7m3YGKeZ4jyzKUZYnVauU4eVMeNB/42kXzhQMOAsdxHGO9XuPk5ATPnj3DarUaqL+dJ7yvJGDwgVGuMRhjxseEaduQu45tJ1gbE8aF5qIvzZTrEmwN8QShe76yfHWcUvch2gGUHX3ctAMdHY2Bh9Diw5+fsugO5SnTT9Ey+EjWRTLtY/nIZ6+zSI0t/KHyhwAZ/03A4/Hjx0iSBPfv3zeSar5hc9MZyWwRU0mME5di0yGBeZ47h3s1TYPf/u4+vrj/VTz85ne7azXbVDhzT/W2wIO33R1rzrCF+tRl9vW33xSnK6UrQ/bl8BwjJpGE+bxuLkjoM2AyT3ceSOmx1Sb4ojJxxsgyjHS/gVLajOXH3/4a3t4oqNhlukn70TSNI132SV05Q8c1CpzhklGDCPBw5pun55oL3zkynAmhtKSloWhRNI95urquHY0NB1BD7xzVPeQ4Ts+u12ssl0tcXV2hbWq8frYAADzbFA7Atc+ZX9QytC2BQ5fJ1WndPgKAp1drfLEB3rl3C+89vIefuVzg3bNFB3wbM+dlXXnf9Pu3rwnSj7WsDhQWWwMk96yMvk9FGNDpuZJ95Q28o1IczGZmHs1mMzMHN5sN6wvlrE++d4AAB7WZAlyQ4/izZ8+wWCy8/RLqH573mFBNPh8CX2M0Vfo/ZU8I5TFU56l5TwVVobrIOeJbl339F3ouVN8d7einlT51oCO08IwtFKFnpQTpunWYktZXju/amJTnuiBiLO+x8mTZU/ptCAzWdY3FYoEnT54gSRIcHR0hTVOTTkYAIvI5bPpMUsqy7KToeqMnv45WtUjSHHmeo6oqbDaNM2ckQzYmKbTM2DD10wxrqHTZ2jRKM1MAjFmT/s2Bi84DvYhE/OyQobkzJInT7e8zgdS/AHf6ttoU3hZJUaTNVtI0h6pKY0sPAJvNBlEUIcsyHB4e9kyX+Hvrm9uSUfG9d3Sdgy0eNSuUJ3+e9ycBDskMcudhDhwk+OB97fZTX7PhC6BA5jqLxQLL5RK39jK8+uQCT4vSaRuXJtv+64Ns0trp//0D93id67rC1WaDzWaDLMvw1p3beGMW4/33TwE04p3yrcM8P8ACiz4oovDPLgjX6aMoYmuGrTOvK9Whx0h+4RGWiDDvHMgBGI3YcrnEer12DgiUY0P/5RgTJUmCJEmMSRVFqwqdx8Hrxsf6RaXdL7J/bENT9ppQmm00EaF3lKeX+/xQP/ruTeUTfHXzzf3rjt8OtOzo46ZPHeiYKoH3bS7ymrwnF6ShOlA+Y/UY+j9EPoZqbMEJLXDXKX9ocRwCHtu2sa5rXFxcIM9zAMDBwYH5TYySPDNBmphQfYjhoI2fpM3SxCaOYzw+zdD87lfw8M98r4vsJO2pbbtCGgBfe4fGyTJz5go4YBifcy4YIrt2YhApz7Ylxs2tl05j/VDG5sfY3CNmiCTCLjCydQrNpTRN8c4/+RqeLRLEWWNAB4FNyn82m+Ho6AjL5dKMK49uJbUXVJYEkiFhhOwLzgTKPHwmTpTG59SulPYDIKLnOVDg5UtH8yFGlOdR17U5APCNpEGCCvWzKzxZbhzTHrmmkHmRa7rnktXCaBAs+1C/xw1WTYGvNyV+2KYo6hrv7x/iwWdaPH33BG1b9+a/C6J5n2mfjVC7CVzQuNu1Ukry+8w6rzP/Hccx1irBPMud8MxRFGGz2WifmBE/IAkOeRk0L6qqwtnZGY6Pj7FYLHrmfWPrvG/v4iQFFz4aeveHJPQyTUhAMZbvTQn4fH0g6+bb37fJf0raMUHOlLJ2tKOfFvrUgQ5JPkYitLlMyWuM8bvOwjEFMMj6842DSyan5iHLvw7Jeg9tSEPPhepC7SqKAqenp470kEvPAZcRpDw488fNqzgzRYCCnJSJzqMlquMc6rufx60v/4lx9uX9TgyOT0qmv/vai7FNzmXK6Xe/DBg7dM5I2WcJGGmA0T9w0P7n+fH/fZKM6fi85WZItj39tpMkmgPEGGma4Wyxh6t0g0jZk5k3m43xwVFKm6Ts7e0Zszn+Pkh7ed4WW7c+gz87uoPV+YnpSz6PJKig67re7nXKG7AhnHmfJUli5hYRBx4AHN8j3u++SFT04X4kBK7X6zUezhLg/RN8sNw4mg0OcGkeULt1IIAaQNP1uWb6CWRIrSLPj78TZV3jvQ9O8dpX9/GszbFYrlCke3j9zj4+OL4EhDbF5glBCqRZccmW6ZNYhxhe3n8+ibUC8OjBId7rfDd4YIK21Wf8cD8Ovs6EyDcvAODq6grHx8e4vLw0c1k+58uLt8nXBl87QzTleUo3Vjee55R0oWe2uSdp6r40bU0bzndYqDR8BthYfXe0o58G+tSADp8EM0RT748t8KFrPiAgNwa+cE9ZZLaV6EyhbRfZbfMdui9J1kNuUsvl0myocRzj6OgIURQZpg2wwIMkkUA4qhUxZXVd96IeAZpxuEzWePPdPfzSN/IuPn5rmPwh5lzXud9mH5PU76cpANIFGwD9tsygvUanNof6nf9WrI7jWrOx+0qh85Vxo3iZElqSIveZzTiOUJ4+hOrGhcaav1tVVWG9XiOOY6MBk6FKebl8/tB1Y8aUJIhi7R+iohjf+eE5vvIwAdAdLtjUjukMZ/CJfKZNPKpWlmXGb4gDoTRNHZBBZfC5S3M1xBhTWRKsNHWNJFaoNgVQV8CPn+NpF5XNXaP665Q2l+PvhW2TUq5PBx8XG/nKXWOobhdvPcb8y5/FKoqw3BT4fpbjbrwKOO33NX3yXfKDe+uorr/7Ee94npSvb84kcYx/GqV4Jc97ggttfmn9OGQQAGBYw0HpSWNyfHyMk5MTk6fbpnEgMfaMBGCh/KYwwlIIM7R+yzr4ypv6vI+m7tWheoT2/BBAmAJkQnur3P+n1HcHRHb000KfGtCx7UsZAgMyvynSnjEG2yd98gGTUB3H8p6SVtab12Go7LH7Y/d8/ejb2GU/+EAZAQ9ASwcPDw+9UYa4zbwkX8QgbmLFKYr0ycNZso8sWxvgoZNxCWpkGGjOEPmrQP1J5h62Tzgz0O83sp8n4CPj/lvNB6+/BiIteBhayp+fWaDDi1Jd+iYyruTYhrzlfeoyrC1I06EUOeLLzd2214bQ1WXNZjN8+x/fRzNbIkZsDmPjoWSVsmFFyR6ezw9iCjlDmKapMbOr6+5QxLrCafQQF0+eG6YZaPEnj5Wp2+ufu4f04gPjo0JO4HIdoP8U9pYCFMw6x2PyG+L9FMexseXndeVprq6usFwuHYl627YGjHGTQZpHTdPgC/sZrn70HFldI21bXHjWGxoLGxzBaur0IXc2XK6uG4FTO3fovh1jml9S89OgKApEm5UJ5hClKfayKyxMf9p3RP92/VMAO5d5PXjoZ9Ku2fkl5yafn0OhYxUOZjmq27fN3CGq69oc1sfBgw9sABYUcjMsmqdlWeLk5ARPnjwJRqoa22umEl9vt9mTxvbY0PodAslTyF2v/GMUAjFjefK0Y8w/vyffdcrDt16GgOCUsqbc39GOPmn0qQEdL0qhhUsyg5JCC6BvsRmSsvnyCpXlSrf95WwLFuSifl3p0tTyxu756tU0jbHbr+sar776Km53zAAxoMSUSqkjPS/Lb1sbPnRvbw9pmhqzhiiKUGQVvvWt1/Gr/8LaABSK809ZW7BB46Ovc5MYX3/xE731Ld986c8Z8pEgLQYBEWKiKL+2rdkz1qZdlwkHOLh9zpliFxjpvGIkiT1LgE5f9uQEkjLzoR5iatoWSJLYnPbcoDJagiiKTJQqPlerqjJjVhSFMXuxZzPUhjkHtBN6nKT4wTOFuo4AZACemfYSWTAFvP2jZ9i/9xD3Vu+haRpkWdY7T4PqVNe1E+KZwA6PWMX7gEAHgRQCDERXV1d49uwZ7ict8vdOe74cXEunwbc1qzsHZ7LhhKClsaa5546J6vJpUJY6TRwTiCCt2pBWub+26Tmo54x66wN8+fMP8FbRAFGEd27t4+GmQNnU4lkfIFCivrIsfhYHX2daJ62P8eZMpVIKrx7s4Z1XH+L2wUHXf41jVsXnmXQel8EBaK2hMggsEuB47733TKQqWR/TGwNru+xvTj5Bz9AzMt2YEE5SqP6ynG3ATUiAR/mMMfhSQBca/zGSQDXUzilt3dGOXjbagY4A+SQ8RNssQENM/LZ18YGSbRboF5GK+DQRIXIZ7OE6X2fT4dclY0OhKY+Pj9G2OgTp/v6+Yxolo1pJiSMvg5gCYviyLDMMhbG5TmP8g9/4Mv6ZX3wHSJ93zIa7afnbIvtGX6PmWDDSb7eV8kqgws+5sMwM1ccCGPvfjWTE6+KXSPK6+MACnevBP/4+sNGF9HW/1ouDNABIohx////8Ipq8QBqnyPPcmNFJSTHPi0zlyJFcR75KTRQopbTTdrp/hO8/blDXV129w9HF+Nksi+NTXOX3EBUKXzy4QJqmjm+RDGjA52Hbtliv1wYcKWXD93IHeQJR1Ia2bbFarfCNtMXp+2dYdw7d9lBFoKoaVFXpjK9vLdBntth5QHNFj0Hf8d3OX9IswIyhfl46zHMNFtA0QBRJoK+BT9PUWL53gm8+uI0fzObIsgxP2xZfuVjg+aoweQyvxf55JN8nO//kILdm/CXYiKIIn7l/iB/duoOjw0MnQAC9V6F5KE066ZsLc0gzV5Ylzs7OeqFxQ4IkqcWdKlwak97zZ3x9fl2G2VdXKYgZ24fH8qV85HocoiEAFZpvsh2+MqaWu6Mdvcy0Ax0TaEg6wv9vI3HaZpG+CeCybZkvQkOMwNBiPXRtKG+ZnkxqTk5OzOGBe3t7PVt92hx8Z3bwvLlTOTED9Lxh2PeAPJuhTFJjmtMyLUCI/ADNtUm3DJ250jFKxODoZ1zAwfPwqfmHpNB0YrOrmXGfD7XHnnsQx/akZ4ps1G+r/dbnJBCDR8yqK7EmLUedNYgj/ZtrOUizYAGQdeqVp3jz071Johwd3sMPT4B6dSKYWjkeFiTZxjdoVgu0KsLTo4d41J4CdW2AB/cporGyQNCvPaT/BDyImeVAUSmFtG6xabjGzAUG3I+C9y21jQBvFMXd81Pmbwseetampf+BI+8DB2BSXeh7U7dQlQUukfHfUWgagA4BdJlJ13zRZWBh0tt6KtDc474W/P1xy9H9/srrd/H48A724sRorXxaUwIQQ2ta6CyOuq5xfn6Ok5MTnJ+fD4bGvSnhUoimrNNDa8NU8DOlTAlKZNqQVmGoHvLeVI3RNvnvaEc70sf6furpRZjx0GJ/04vPR7GY3XQZ26ra5W/OjMlrY2UQ8Dg9PcXp6SlWq5VzrgGPAMRByNBGx0+Nlj4ecRzjrd/7HJZP73RS80lNH2Xg7ffwGR8kjSZpsm4PfeS89Ju+WGkwNzcJE5f80n90tv8EvAB7MJ5NHzll9CXPri8K1TOKFNrNAd769tehlEKe58YXgsySuB8F5UemU8Sw2/ysFoHMly6rGOvTE/S7mvehzdt3HwAunh5jkd1Bms8MSCAARmXz+Sejq1nG185NmruklaHfs9kMz46O8PBo1o2/rY/Owz2jhUv8OeCgucP7DsJ8yWXYpdbD1cb2wbK/L3kaFzABm02JL6Utvpi2+NmjGcoGsL5Gfm0fL0cypxKQ+bQctt0cSNk0j167jePDO2iUPgeGvwOcaIymAg7AXVeWyyXOzs5wfn6OzWYTzONFyLfGcgq1LZRXiLbdC7bdk/3jbO9Jzav8TC2D99XQvrSjHe3IT596TccU7YTveijtdVXOIYZ3SGqzbT5D9bqp8q9DU1XRY3WRWpCmabBYLHB8fGzu7e3t9Zxweb4ckMi8CcjkeW6YWR5t5ifFAvtntzC7f9yTqk+VAm471kRa8h1mImhzbZpxJsMylD6JNJfw98EJZ+qaBmiayJFOa7t9q53hfe+On1sGSYyb5SF+vFkjz3MzlhQhiJyouXaAHLuVUsYfgvtvADaamY3uxPtY9k8fdOj/bl+0LfDe28c4+uIdNNXShPPlRAwpgSXpiyHnMzGxWZaZ9gHAbDbD88UC7d0jRBcrMbbcH8iaT/FxJrBAAMcHFiQYsGCF8u2b6NFz/bz6GhT3mgVGx+sC8Y+eoKpqKAXUDfl++MAKPcs1OPa6C5D6YMOuBfS+unVUSuHR0Rzvzo+QQGHWRauyedl6+M5jkcTBJj1D/UgmomdnZ1itVs4cuK4U/iZobB2T65es91C+IZqqgeBl+YRVY2vrdTQ1HzZ9nGO9ox19GPSpAx1Skj5EIRWuXNxC10P5Dal+fSprmefUxTvM0PXrNJTflHIlXQesDNXRt9mGNCS83nVd4+zszGxCURRhPp8bUyr+kXHxOWggUxjyC+ChMbnZjGrmQDVHFFWi32x0KVlfzgxJSbJ9zukR8MPPKDSp2x6wfOwc0Gcq6PzoZGbZd9Q2CZqIaW0a3h6/lFH/bMwZErr/aicCkjuWPC+bD0nh4zhB1M7RVrdMpKrZbIaiKLDZbMwBepwJJAY9yzI0TWPSkIkcwE9fB1QUoawap+/14YnkHG37KPSbg7K2VaibBujmHQFR6l9ut1+WJebzOQA4Eajk+5dlmQOSAA06bt26hf22xOHBAkVR4KI7Rdytp50n+rpkiPnckfPTF8xAzx8J4u23XBfpGXvdfQ9sPUnbpf07KhOO2L5LEQB+YKCrcaH22Gsu6bzseyjf9SjSoJm39c5ehjdv38KtfGY0bLLdfLwkyOQkwyKTFozMqs7OznonjsuytiHfurnNXjiWbspeeh3hVWi/mgIg5DNDdZD77JR90Ve/bWhK/+8Ax45eNvrUgY4hptsHIAB3IQptmDydLz+6P1QXfs23ON6ExkEurmN5hurTZxi2ByZTyuKAQ7Zh6D8917baF4NsoquqwoMHD3BwcGBMaqRWQkqcARtml4MMX72+e6zw6PjL+OI/98dYrzewDGj/oDbJeHNmm7XGiSLF+50ctonRlUy8Tm/vEXOj71MEL/JzcU/llgfVceDkUgt9xgE5xNo66N/2dHANKvr9wCMduRJmCxTTNMHJ997A905SzOc5Dg4OUBQFVqtV78RuagN3FKdwsnme4/Dw0AkIAOjTzd9vHuLq6TMGUGPDnHIKTXH3dWbrSNcuiuRF/UumUXSYIdWD5iw3tSEGNYoiAzyWyyWKooBSCvv7+1hvNrh6/RGWyyVuvf+MnUli68Pnrus0zsPe0ri648TbpdNFDFC6flIWpLgaDCqT5omdp/31UOetUFXWrFGeg6HfWw1w+muP/7rVZoQDSOjnrMnlUZbi7Xu38eDePeOTQ/WhZ9w5POxXIM38eISxy8tLfPDBB17AsS356uBjwsf2Mv7cFIbbJywby2NISxIqb4oAb0wI6KtzqLyh/IbqM0TbCP5uIt2OdvRx0qcOdIzR2OLk++1bvIcWn7HFc8rCEVowp1Lo+euUfZ3yp+bv2wx5XeUmL5/lGg86xXez2eD111/HwcGBI40k6SMxhT7i+dF/kk4CWop+MNvDfL6PpmlRFJuOIXOZLF4/y7CYHuC90TnNun3hAo6+tkH/tnkRU0gMTpKkIH8P6/Tqnq+hmToOjtrOPKtfH+1PQoDCBU26T4cZPJ/Wg/olTVNjTjWfZ7h9+zaqqsJyueyZpxDzRs64TdNgtVqhLEukaYqjoyPs7++bKGc03kmS4JXmfSxee4gn752wtlkQNG2K03jYKEJ8vpIJF4+elSQJ1us1lsul8RHg5l9EBHwJrCRJgvPzc6N5m81myPMct27dwtM4xqPHz3BRVGbseHv4nOQAwT9GEQAOFi3TT2CKQAsHHEpRQADrK0TzPUlcoKLNoKi/eBQ2eT5NA232Z8un+1ZAQWXFkHORqO00cVIrYqN+2dPWHx3M8YM7t/Dg1i3keW7GkhOvI3+vATBw5B7+59NwLJdLvP/++zg/P++ZeFI5cq0eYq59eci0U7QU/Dnfb3nNJ7Tz5TkkuNpWqCfLnQo0pvbDmLCLz4Ep+YwBl20BxFDbdrSjTwrtQMcNkY/plcTvDzHpQ9IbeX8Ks6FK1KsAACAASURBVD/ExPN68cVuaCObUuZ1QIivHmMbiywvJFkDrHP58fExoijCo0ePjKkVPcudxbfZVMlcSymFd5cllr/18/jaL/8B6rrqpOm0sUm7euUw6/2xIk2FUwtzn+rsnoYeAscAQBoO2yehNupnXDMQt96uv4AGLQ0CfI6XSOLujrnNM8tSzOdzvPNP/n/23uznti27D/qt3Xdfc77znabqVuOq2HGVy46jWE7kIBoZRREKLzwgIf4BUMQDvCCaCF6QEEIKILB4Qgh4JTxhyaBAiBW5idy73FU5VRVX3XtPc79u9/3iYX9j7bHGHmPMudb+zrn33LOGdHS+vdacY47ZrDl/vzG7n8HVpoPTszbSNM1mLsguvn+DZjBonwcdIHBycoLT09NsqRW/bK/b7aLdbmPeqGdlTjbs7MzbrHlhiSztnu/22DTqdST3M2rcXip3WipGR/mmaZo7Kpff6cBn5Gq1GtrtNvr9fjbjQSC+0Wjg7OwM180GfuzqBi8ni8zWHenZbfLfA+A9ISHAzvO6y1fCwu3Kg8Ayv1V+32a3TB8JP4KXk4k86NuD9vtYbHaM2jnNsOXu9ki4jVR32jdMMy3Svjzh7n71CW7QwMedDh612tnsmHR8yPYg+w1OOOSFkXQHC5Holy9f4urqKneZKU/rcPaRla4CyL3+u+g4EjvWWGOh5+jSyi1GjgXVRRyAMWO3psNKyyIXod+xUhGOSj6LUpGOEuKRC8vrzt8fm3asHi+s5jELeV4+DbEGTitsyNsjj9N98uSJeZwuxdfSobC8HLNlJs0U18s1/vQffQs//i/+HjvJSZuFQU6XSIn9nweGtBdjvzF8C3nJHk9PkjfuHd7bs39n5f2wXPPAcVcOh2Bo5/WWecJBuF1+9oC81+vhL37zZzFCD42THQifTqc5YigJBy1X4qc+dTodnJ6eotlsZjMcBOIJ9NGsw548SM/44WxHHpTw8gG+/tVzNNYz4B6Yp2maESBKv9lsYjAYYLVaYblcZjeUU55oKRW/QC5N0+zOGJqtm81muXw1Gg20Ol1Mvn6C8+1+Nmi1WmKxWKL9o9e4nS/ZPSF7AijzsSeBuzIhYlGrJdnytXzb2JMUOoyAl6W2DIsTZgqb3s+WyLayi7fTv93Shnxk3wILeRB3b6M8JGH/Dbe++hStdhujpIFmrY5Wu5MdRnCoIw648z6FwtLhAmm6u2vl5uYG19fXueWC+/z6Mxpcr/zWte++qLNKe2f1t9LOQ4eFbrNlb1HbvPHOGx+8vj4k0v5Q2VVSyfsqFekoKLEdfygMF94hlpkB+byIRn6sGRgvvgYOuG4a5K+vr7NlLPxUK/JI8hkQKfTMvMW8ucHLxRrd3/7LePxTf4Q0XRxsTL232sxvHjTtPe77tOk4VGtWwwIZh8ej7uPoMzjWjAjF2d6fKnRYVnbd8eQl6UrujyN99QffxG3aQf1ktwxlsVhgsVjkNv3ThuxarZZ7T2m2Wi30ej2cnJwAQLZfghPN5XKJRqOBx601hs+f4Obj1wf59UT7zDvrKdbbdTYbwIkD93rTPpPJZJIRB14WlEc+Q0KzOd1uF/1+nxGm3clHtNxqtt2iVm9k7XK5STDerPD1Lz1G66NrvJousL+hm+rL6rP2MxC7WZj9nhNqT9Qm6P/DeqeLAfnyM9K9v5+Ft1vueMj3qXwmqobdHgy+UZ5ZngOyyNKq1+t42m1h09v1A41mA3+62GDQrKHbbWflqumx9EuhvPC7O/hRuvP5HMPhEDc3N5hMJgffZUi/FrYosI0hIiHy4Nni6dc8+zF5sGYKisYpOq5q/W0llVQSJxXpiBRvmjrUaYY60KIdeUi0WQwNiHs2x3rDLAlNHYc6f6vsig4wVnja40HrwvmpVgQIY4iHR0jq7Qb+fLxB7+MP0Hz8IWr1xUFewvnZLwPJk9k9+ORh+UZu+X5/Uzj33OdBXH4ZTYJ6vaYcs0sXJgJJwk8QypXCvf7DstnpErlkz+r1Ouq1BhYvP8D3xy2cPtp5hJfLZTbLQcCNZjj40bl8ORiF6XT23mp612g0spOviIgsR7f4Sq+Hydk5lne3AOTm9jjpPX6MZnOG5WKdLZ3iS6NoCVWS7O4boT0oALI80DIw2tNCewMof8vlMpvFGQwG2c3sSZJgNpsB2G1MpxO8iLQ1Gg38YDjE177wCJcf3+JqtrivA7C652QAoJOuqM3z/Rw7e7ZMhzZrwtv9nuDs00jY/7vwuzaxb0dcN7eXL7/avUvVNpl37Ozse9Jt4/b5I/zwbrKri1obp4MB+v1+8FK/WJGknd/ZQjeOX11dYTgcmreYS31a/x7qT2znhi5a/+nNuhR1mMWSK22skvF5eRQZI6xyiCVhsaLN5lSEpZL3USrScS/cmwboy1H4/xQnpJN7eWI89Vbn5HXaIUIhdWszB7HExxvw6G+rQ9Xe8fS8AaxMBy3rUpYvnWpFoODp06fodru541RDA6pVP5TXbreL3/n+Gj/XeILO0xfZsiDuXSYQRACX23+ot4Y9INvPfPDBViPHO0/wfqO4Vp67Z9wruTvBqV6vIU1rGSCi25t3oDPJAHLeo5lf2iLb2iH5wn16NTTqLdRXj/Fb37/AkyenGVimWQASIhNJkmC1WuUIiUyLvMm0XKnT6eRmO/jej9VsjK/3gD+bNJGu6e4P8uYDBGr5c07Uas0mvlS/wnKxI0L8Qsl2e7c3gP/fbrdzdqRpmluORTMatJRpvV5n9tIm+W63i06ng4uLCzQaDbx69SrTVa/XMRgMcHp6ivF4jDRN0Wg08M9vb/H0q8/Q+97H2GxqWGx2d3TwJW68De3b0o70EjHf10lysLRuX278O5KzKfu9HpzY5tuiNQNzSLT3cfczGnSsNLW3JEnQaTTwF4/PMJ0ssk34u8MKegf3axxDPvLEv5YR4TRNcXd3h1evXuH29vZgWVWsTm6j/V2H9VhjHum29MWMg8dImZkML57lJJTvrHG7CGEIOf9ipSIplXxepCId96J5SDRQrokHFK2/ZTqWPktvrHiEJARwY2cbvNkLLZxlTygeB5MxHXAoXpIkueN0kyTB8+fPc3chULuwyj9mMOr3+zg9WaHRG2I+n2eAkXTu/gEA3R1i5yV/ihAtFckTDxk/SYB6PX8yFfccc/0EoLfbbbbPQZJUunF8f7qVbGe8TvN2HJbPft1/rVZHq9XG/OOv4Hd+dIEvfvEZarVadkITgVs6narf7wNAdvITgWxuDwF3ek/xaT19kiS5mZJs6RWAHzud4Ac3rXvQfEgQkZ1sxWaG2h38pbMput0e5vN5dmIYEZ3Hjx+j3+9n4JNmC2gfCh2Jy++FoXzQrA6dVkWzJ7QpntLo9Xp4/vx5tj+AiEqj0cDz58+z07Pq9TruxmPcPnmE2WyGL43mAHAfPsV2SyRzR1j37Wu3SXy7XRnfRC27A2ZHTrRTmABgfxIVHZtM8QHcL9nTlw/m2xpfGkY23M821vPLwPhdKR9enACLZXazPRE3vomf8mydAuU5hCgOPyGNH0V9fX2Njz76CLe3t7m7WUIinWOaHfw74JvPQ/p4XCufsSTDGie8ODKc1efG9P8hp2GMbRYmsMpaxilSBp5oDslKKnkXpSId91LGS2TpKZO2la7s4Iqk5REVb8ZBexayMabsNK+R7LA9UmGB/yLeOW22ZbPZYDKZ4OXLl0iSBM+ePcuAKIEHfqmbFDnToOX3t/7oAj/59BSPf+rPMJ1O2Mbyw5kmbYDcrVXfgV9OVLwBj2YkaJnILi95G/enAXEv/i7carXKjnDNE489mJekTCN4ZNLh3Qx7IN9oNNDtdvHi976JD+c9PH16hlqthvF4fHCnAe1XaLVa2T4I7iUmoMXrdz6fI03T3D0YtGmbr6+ndJrNJk5PTlC7WxuXs+U970mSYPDkCX6sfYvz82fZsi1ObFqtVtbWJJClPPBlWNTugN2SK37ErgTDtLRsPB5nx+Y+efIE4/EYs9kMo9EI2+0Wz549w+Xl5cH3UK/XcdXp4Ms3Q0zSLer1GrOBwD8HXcje74kYsv93cXjb5G2Z2gC1ebD4vD0BaVrPtSkpVBe71/S3PP1qf9P6fmlbgmajiUazmV00SbNftBSN2jjVP98nxOvdsovPZNK+I3J0DIdD/PCHP8TNzY16F0dZBxXvcyxHmqfT8u6HpIjDKFas8PkZYj196SgJhbHS0/tiPXxZQhBLJirCUcnnQSrScS8P/UHLzq7stGoIpHvihXmI/MYMvpa3SQ5sIU+U1KcNlEVFIx6ffPIJer0ezs7OslOGvEGB1tl7YZIkQdpM8b2XbUxH38KX/8Yf3YP6PVDWyENe3WH58IGcvMoE1gh48w3IedAU2me0Lxd+hOsuzu7UoPzMSR7o5+3kxGxPbihedizub/5VDJMu+ue7fTWccFD6BJBploP2S2gkmsqG8s1JI3mdaVkTB5a0VKter+MbX+zizz5pYzOf5kgZlU+SJPjxr13gtL5Gp50g3Z5klxbKSydpVkJuzud7iKieOOGg8uQEiS9no3h8adZms8Hgfm9Cp9PBfD7HfD7Hy5cvcXl5ibOzs9yRvETwrp838cHrG7yaLrCvzj3JIjDPQW3+0yOgm7/RXpI0gJNTYH9K1T4ckRzZzqg89m2f9EM8Q65uqY12mw1MvvQEjQ0wGAyypVVE6qSzgeqL6yfhbV7WCQlvZ8vlMrekih+NK/WX8WzLbyBEUmQcLxyF9RxUGtHx4mmSb1u+EypGV+i5LCerrkP2eyQoRqqZjEreB6lIxwOL1bn6AO+4daPHkBpp37F6YkTOanAbQumHPGqa3pAdNMCt12uMRiNcXV2h0Whky2CA/LIMbyDziMeiucKraQv4p9/El37+jzCZAJvNOjfA8nrI6+JgTILA2j2oqeXK9nCzLyd7aimKdpCfHeGXnHkSIjP0egfGmvhn/+Sn8ej8ESb1DpLe7t10OsV8Ps/CcY88LYXhJ/2QbTp52z3jlz8CyJaI0TsChp1uD+NaD2lSwyYBknRyYPt9bvD1r13ivLFEvVZDs1HDfL7NloPxzeK8HVFb4nsiJMGguuKzMESuyFvPga0ETcvlEuPxGL1eD61WK9urtFgscHd3h5OTE3S73SwNmkG5vb3F+INLfOHFNV6M54zgHN4kDxzOPJIZ/KjbfdicBuxnKOTsmP19UR3kiUhNhNnvO+Fp7sp1i3qS4GYyx8XFBfr9fnZHC+2Z4W2IjlOu1WrqjIRWb/LCSqr71WqF0WiE6+tr3NzcuEuqyvTDsSQjJl5Zu/w+bCdaP28RjBDJ0XRr8bQxtohuL98x44FHnjydFQmp5PMmFelQJKbj1OIAx4P30HR0UW+R/JvSsLwyFnjXBgWtUw3ZxP8v0gEX6Xw9D5lmA/esLZdLXF9fZ6cF0VG6BBIBHBAPDsY1jzsvo1lziY8nDZz8+Y/j5OvfwXw+zzYNywv+Du+7APbkIw/OaKOsrA95qRx/t/s7VzrILxnaA7V9vF0YeaEfL0urbXHCU6vVUdt2MfzzH8N1q4G000Cn0wDubwqn5VBAfraF9i007i/coxkMSpvvgeB1TWnzGY19Oe+JQa1WQ73RxPWkhtHr6www7utxf3JYrZagvbjFattAq9/PlnGNx+PMu83JH68P2iDON+HLzct8FoLnjc/SWP0E2bLZbNDr9dDtdrO2PJ/PUa/X0ev1slOvFotFtin/+vYW9S88xgfXQ6wXK3w8nGK95nsr9u1knzaVtX27+d5MOlZ3Rxj47ATntBR+T2T27WgfRnqjeX0nGfkh27v1Gs7OOuj3++j1etm/VquVlRu1DWpXkuBZohEOarfr9Xo3k3RPOOh0sbzth0CcvwvNYnCC7XndrXGlDMCV31kM2Oc2xTpwYslObD40clKU4Eh9XruUdno2lcUOlVTyLkhFOhTxvNVWWAu4y/ieJ1bTXQTMa3bF2BZDHsp63iyx7IjVGdNBFxlsuV5aZkXeXyIgO2KwP/aUD7aSeHi2r1obfPujNv7mF56j3X6BNJ0dtAPajLt7Ts8AsD0XabZMaZvNRuz+P7z7Q7PjsN5T7I5GJS90ksvzYZ0dzr4QkORecAmGtosetqs+sH6M70/O8ez57sSl5XKZ25/By5GIB8100HIinicOzPlSJA74rfpJkiSbyZqOh3heq2N+cr5/n6bYLubYLOb5skgSTCbT7G6M1Wq3uZruDeFAlP4mskQbvCVZozIn+/lpamQr7RGg8Lwf4uVOG8lXq1W23Kper2f20i3tAHB1dZXFvR2P8VGni6TTwcl4n+ckoeVQeUJHkrKlUvl88TJnxDO752PfhqXs82c7Yux+jdJL0K4lOO238e16C8/PznB+fo7BYIBms5nbzM8JKJ8lpPzw2TFpJxc+IzUajfDJJ5/g5uYG4/FYtdUTjWBoz2N1yfYWChvSEdIj7fMcFT6p1G3WCJnmfArZrfWVXr60vGjkxxvLtbyUJYGVVPJZl4p0BCQGvEnxOvOQJ0X7W+vYYiWW0BTRaQ0EReyxvF8hD1HMYKPZpcW1Ovbtdpsdr5okCR4/fpx5Quk9kJ/h4F5pHkazPUkSJM0E/+R3HuNf/hsp6r1PdkefrlfY33ewxXbrzSxJmze5/2U+LU8jgbJ8MSTZ6UP5sAQ6Sdfe870H9rtNx/m0dv/X63W0mm185ze+gU+aCR49eoSnTwdI0xTj8Ti7n0KzkzzGtO5+tVplwJ57omk5DLBfPrUHtvs64CcUcYBJOrbbLb7UeJX/Rp48x/d+sKIpICS1Ov7sRYpvfOkE45tPkCRJ7lQtDlj39bRVCQfPKw9DewxoXwGPS8+pjiXJoXyv12tMp9Nso/rJyQlarVa21GqxWGAwGODk5ARJkqDX62E4HOL29hbz6fSeYB+2I3p2KPl+hYhKnuAmaDTqaDSaSNMtFoul0ifR8kBa2phkbW0XjF8aSGkAu9Os5HeYYPD0BH+cNvDs8jLbUL9er7Pb3Ilw0KZ/ABlpI9usyzLlEkZOeKfTKV68eIHr6+tsySAvH01C3nAZP6bvlOOIBW61PtR6VtYpFkN4iryXzqNYZ5QcA62y8JxdseNfERKhpVORkEo+D1KRjiMkRCqszjkHPhP9Xgurg/EGAS98yPZYfZ5+mS+rfCxPU8hWbZALDTYx+dLsXK/XuL6+zsDFkydPcjcTS7vlhmEpvEw4MPnHv3GJ9focX23V8dVf+KP7exfW2G8KT0R8gC9t0fSSbfts6SdLEViDuYYeLOz+GX+eD3dIhgCg2Wzc30nRwe//vz+L1WUNHwwGaDQamM1mBydUyTKlo2LphCEqu0Zjp1d6fSlvcjM26eXLzUg3XQpJ0mq10Ol0skvigN2a/JOv7pYipWmKZrNxD/pTNB89yuKuVqvsVnTNM873npC9sg3xePSbg10iHbVaLfPU03siYXK/wXa7zYBvr9fL8jWdTjEcDrHdbnF6eopHjx6h3W4jSRLcpFukCc1U7NsLb3d0MlR+5ou3kUOHwS6/ae5wA66TEyq+D2cXd28DzZAcEvv9s3q9hubXvoAfbWv48uUlPvjgAzx//jzb1D2dTjOiRhcptlqtjKTxtsnrQGtjtASQSMdischmOBaLxUFbDIF6KZojhZdbyBEmn5UFtzFjhAbYrb81mzyd1nMvbmic9QidfBZKy6q7WMdXKI1QvEoq+axKRToeWLxO0fLsa+vtH6pTkcDVAvjaoKV72HVQbxEJyyZLrIFB6n9IsfK0Wq1wd3cHYOdpv7i4OACQslxoiY634ZrXR71RR71Rx8fLFLN//FfxrV/8Q4zH49ydE3u7AOSWTuWPzSWdWvnmnyUZ6NvF2RMGrZzTdDfzQqSH7m3Yvduy/NDFcrs9H3T8aLM2wG/+f38ZJ6cnaD6po93ceYsnkwlms1k2M8HLjJ+YRQSDTuKiZTBURhygE2Dl9cCXJcl0aNaAjuAlPXQTuFzSNBgM0O12c0umtFOoCHySEHil9HhcvpSK54Xqki8V4+2PykYSLyoDSVhJaK8HLR8kzz6dGEZ3mqzXa6w3W0y/eInODz7CjnQcXprHiev+/f770NtUmpsZ2OWNSHX+VCiWGtOz3wO1C5sn2dttmrUb/KUPsG528JXLSzx9+hSPHj3CcrnE1dVVdqEkgIzY9no9rFYrzOfz3O3woe+alv9RuOVyiU8++QSvX7/OiKosA1k/0nmgCe+rNUCsxdX6cv5bpumlH0tKygBqqy/zxhZJDoo64UJERj6zCJyny9NH8bU6LaKrkkreBalIxxsUqwMJeVBidRcNp80YxHrHpCcxRjxvlhdHsyMEpmPzpOm27EvTNDtxptlsot1u4+TkJAf8rIHOAigyHHlzt7UtxosEf/KPfgbf+Ff+4H45DF9uRUtIOFA51H04IMs0iajswRvYTdLyJKB9GOQGRX6ZG+0jId21Wh3NZgM33/0KXnx0idOzM/SfJaixewpoTwYtMaIyo3T5cjV+mR+VOycD9Jzqyyt/bVkMX87U6XSyd6vVCrPZTAWH+Zu4D08x4gRnuVzmNo2HhC/Z43mifPJ0tBOyePr0TjoeqA6IvFH7plkTittut3d7EL76FCcffoIJ21BO5FIuw5Oya4P7PVEW8KPonGxR/B0BTVCr7ZeZ8bZNhJzIR5Lsyqv7E1/CstXDk6dPcXl5icFgkM1iTiaT3LK8druNXm93fBotueJ1zO3mM0tUVkQ66DLKm5sbvH79GpPJRJ1x0/quUL9lAW4vTGyfLWdNNAk5liSJsYiM1KORUg/ga/1umf7f6ve9cGGnTnHhbaGSSj7PUpGOElLWG1EGhB8jIa+M93cRKUoiLLu8wcLzRmllGuNF00QOaLTB9O7uLjs1iTaWAzjYZArsvdCxntEsXnOL0WKDV7//V/D0r/wharXZPVjdHVmqzVZYZcIBnHgL5JZT+fW/S5MTnJ03Oj9I7vNPS55uvvtVXL26xOxki9ZJDZ12Oyuvfby8R1v7m8pIXuAnTxjiurX8WF5hEiI/BLRJL3mo+R0M1C6obuWRvvSeAD2RDosMaGSBCy8zrp+XAc0C8fzwU70k6aD88EsSt9tttk+GTgmj9D/55BNcfOkCvfkSuJvh1ZTumElQq+0vfmSlD+DQe87rKw9KD4Eqta3dkdD7+BaZr9USbLc1XLTraD4eoNvv4+NWD1/4whdwcXGBXq+H9XqNu7u7bDaRlqfRDEej0cguVJRL/vYke5tra3xWjk6pur29xfX1NUajkUlcNADPPd5FxXNwael5JCNmjNOIgvY8JFqeQ+lLciPFIjJl7KukkkoeTirSUUK8Dq1MXKlDAgRPj9aRlh20PHkInZ4nKZQ2j6/pLCsxtmy3W0ynU7x+/RrNZhOXl5e5S8T4DJBmjwaU+AZmDhjTdoqPVitcvP4JLGYj1AYv0eyMsFqtsd1uMi+utvpkByYpP3tyIb2qO9lv8FU0ZXH3wm94luGTbDnV9KMvIe308OLFE4y7a/T7/ewWcLKFH0VKm7Y5GKXyIRJDsxxyhkl6h+mZ3OBvnb4lwc5ms8FisUCSJNmeBkpP3qchSRMRI8rPer3GfD7PZjiIBFC6/M4X+lvmQX7T8p4YAsV8Q337ntzRCWByvwE946expenulKvlcpmRDdrTQkuw6vU6Pr69xQQpnj3v4fnLG2zTFLV7W27mSyw28vCEw++Bl7n2LkkSPO21MV6tMVtvMx35/S27Nsfb1JNuc6//UR/f3dZx0T/HBx98gKdPn2Z7NGiDPBEOKjO6q2OxWGA0GuWWQ/E2JWer+HdMp1RdXV1lp1RZhMMS/p1Kh0rMrIYsz9h3RfvWImOVF0++iyEKMlyMQ0rTKe2OHZdi81pJJZUcSkU6SkqRDqqoPtnRap2n1/FJMGalVwSwa4NBiOhopOjQk2mnUcbrZ3kMZXl5A5WW5na7xWg0wqtXr9BoNHB+fo5Op5Mtp+AbezmQtDyzfEkMedgJBA0GA3z/ro/r62t8rXuOi5/8DpJkhOVy7+En8rG3GdiTBSqDw7Kk8Em2NEXOFHmkOK9zD7x3y14a6Rl+95+dodvvotnbotPqZN5fANkeBz4jwPVwosCXq/B/NPPE25E8OYi3Ab7kRdqtkUW636JWq6Hf72dLm/hMB/1rNptZPG7vYrHIAKc8YpmXrdxYTu2BtyOyjQNvbjff28EJLLU7bjdPk3QmSZKVHT82drfxv412u51dond6eorhcIjxeIzvXe721tASub/WbWG4WANpihTAbL25108kdYtaUkOnUcdsDdBeoFqthnqSoIH9d/Cngx5+er3CZjjD6n6TeK9xf2pUmmK1rQEJ0Eh2earX6/jjXhcp7g8AaHXw/Pwcl5eXeP78eTZ7MRqNMJlMsvZIxy/3ej00m03MZrPsDg3tm5X1yfftbDYb3N7eZpvGp9PpAbiVUqRvs8LFxNf6oJhZBPl9av2x/Oa0b1BLq+isQ1GQ740xoXFT2hcqC2uGSRvHvbQqqeR9kORdbPBJkpwCuPu07ZDyELMLsR2VDE/vQ518yE6LCJSdmo5J18trqH164UI2a2UVmomq1Wq4uLjINqTSEhRaosLBJdcjB37ysPKTh8imdruNwWB3lOxoNMLJeIUf+4Xfyjb57k7zIc8vJ0mStO3zmc/TfgO6Xt8EpJP7jeHb7HmScOBa250M1GwinV3gV//pk5x3nDzwBIqJBHAvOwfGvNxo2QsnFjSDsN1u0W63M7JHZU/1QKByn5+8cJLC0+Xe9Hq9jvPz88xDTken8pkOfo9Gq9VCvV7PncZF7StmHweVC9+jQemQjdnGaOSJE4HfVquVK3N+ZwmV3XK5zHTK43tJH5UF1SEdU0wb6xeLRZbP6XSabTyn2aBOq4nzlzcZuSV51u/g2502nlwNc0vTnl/28ZvTZVbnRFS/0Wvg7qM7nLbq+JNOmkdxFQAAIABJREFUK4vz17stpPUafne+zs3M0L9er4ezs7Ps4Ie7uztMJpPc4Qy1Wg2np6cYDAbYbreYzWYYjUaYz+e5foGTNmozfFYLQLZh/MWLFxiNRuohEFZbLCJFPOy8P6F4MTMJseON1+9KOz0AbjnWYvt9zTYvvFUGMWOr9s4jYjH5eMfkLE3T4adtRCXvtlSko7wNUZ0cEA/4i0oIIGvpec9jO+M3KZp9Xgcf0uWFtWY/QmVar9dxcnKCx48f48mTJxgMBgCQAWLSoZ/As7eLABItyeGbjeldp9NBkiaYjWd49foVPv7oI/ziL75E2hjfL7c6vFSQpQRa+mQNqloZSULDy4SnRcfgDr/3Vfz+P++i1sovFSPwXK/XM9DKQTWlTUuB+Ok/RNLoFCG+54JmmJbLZW7JCwFrnjcSWRd8IzDZwfdpEJi9uLgAgMxDzsPyvQ9JkmRLc/jmeC6SMGjklMqBz5jxvRty0/jhCVC1rO0QCSE9RC6IQGmkjW/0pvSazWb2m8gVsAPbk8kkW0bGiUfK2nNWzqC7U5JcfdJSKU5Os1O9KL+sXVC+qEzpbz5z0ev1UKvVMB6Ps9vtOZk9OTlBr9fLyAbdY8LbCm8j1obxxWKBV69e4cWLF5hOpzmC6YHot92vWlJkPLDikhRx7ngi+5oyDq8QqfHiyLS8MamMvMOEpCIdlRwt1fKqkhIzbRuacZDxvTBahxnTCcsO0+qEPaD9tgfIQxCsn0MfQ0aK2K+lKwc+YAecxuNx5v189uwZBoNBBrA5WNFAJf2mm6IJkNdqteyITjpKdrlcotvtonfWw5cHX8bgfIDv/t4X8eM/8UN0n350f5fABnTKFS2tkmUQynPexsN15VwHHdPa6XTw4W//JH5400Sjs5/l0dInzz9fdgbkTwDjJ0KlaZptwubLswgAa6dBaScE8f95W+B7MTj54Lrm8zlGoxFOT0+zdPmpWUmSZDNVtIGYvNzasiqPhMo64OG1jctk72q1Osg3zcxQHdHsB9lDgJzPftAeBjlLRCCbbKT8URvgZcGXsW02G3TY7AAH7/LkL7KLL1fiZUKzCpIMcaEDHugQAFomRvnhM1KDwQCdTgfj8RjD4TB3KSWfkeRtgs/Y1Wo1LJdLjMdjXF1dZUfvejNaDwU0y5IX2Zfxb0NzPhTt860ZDM1mTWRfrun24lp9t3QqWU44zx7tWVEiFZNmJZW8D1KRjgeSGMIBFPf6SH0hLzyFORaIh2x8U2SkiE4dMOvvixDAmPd0LCawB5bdbvdg3b1Xb5vNJrd5t9Fo5IAk9+TTca5Pnz7FuNfD3atTzL73RdQbt/jg576L5XJ1D5wOAcTOBNk+88uvQmSYAOgOuLXx3V/9JhqNDoZLYNVeqYSDCAZfksQ99vSMEw0OUAk0cg84xaNlQmQ790Zb5S2fkW0EbDUwMZ/Pc3VD9UEgtl6vZ7MxRIQkICa7Y78Z2W74JmapjwNjXn5EJmh/Cv9HlywS2W232+h0OtmeDglCNcBMf9MsFrVXqneaDeHHHMu8afWjlQ+ve2t/FCfuREb5/RqcKDcaDUwmEwyHQ8zn8xxBJOFxZZudzWYYDoe4ublx94DIvB0rXh9mfcOhbzsEyo+V2FkKj7R4+jQixWf+eBj5t2eTRxIr0lBJJeWlIh1vQIoQi9C0dpmp5bchRae6LQ9TrJ5jO/qQhyt2pokPcuTdTtPdCUIXFxcZ8eDeUi19ElqiQUtDaK8CgSYiILR06+zsDOfn55i2pljdbDC/amP4502Mx2M8/ekfYLtd3wNRAPf3FgD7S9ekpCnVz2F+dzbvT6bCqo+rP/4A3W4Xr7YJkC5Qa9dUwkHCwSaf+aHwBJr50jQNoBLI5nF4fXHQFwueJFDky7o4kZnP59nN5PzyPw62iQRJvRK4awBXtj1+mhUHvJJ4yDKS5Is2wVN6NDNDm79pTxEBciJSchaCl6+sGz5zxWeNZL61WR4+k0O/LfBuzRJRukQAicTymYvsksr7PULT6TTbvyG/db7PSJY/sCOhRDaGw+HBhnESbXZNShHnj0aIi8wmWOMK6eFtSOouavuxY4MWJiaeRaCKEK9KKqnkzUpFOh5IYjw1muebe2tjhcfROlbu6dHsiSE12kCkhYsZNIoQi5D3qewsUYxXS/7t6aP/N5sNhsNhDkjTngMOvjiQ5ACKe4hp6Uu/38+8zvyoVvr77OwsW7M/7o/xYtjAJ5Mank0+wGoxRXMwQtJcsE2wfn40wrFfSlLHdnaCdNrFevwY37mrozVrot7xZ5mscuMAlgNpeSeClPV6jSRJsFqtckttuEeb26+JnHXhhIb/T+9Jz3w+zzYp01G65OGfTCbZ7ID0xvM9LdR2Nc8sF202Jk3TA9spLJ8povLgfYsE8TR7NJvNsuVGtCyJ2i2/hDBJklwZ8xkq2peh5ZfbyO2ThJwDehlXWy4nyVqttrtXhZZ6cWJGbZhmdbbb3dHXVGfWPh8qb5mf+XyOq6srvHr1KreULiQeKYmJJ/unMjMaIfHiF3EQeeNISEKzCtZ4xn8XIR6a46lI2XpjYUVkKqlEl4p0FBAO9L1OxXungXmvs+JgRSMLWsfqgWjZaceAfOlV1fRr9lvEi95pRM3z3kmwFevR1nR577xB1irPu7u7bNbi4uICp6enaLVa2SwF9wBLbzdtmB6Px0iSBOfn52g2m5knlZ8+RICp2+2i2+2i3++j0+mg2+3iD7/fw2g0ws8+r+HJT/0Aq/Vucy+SdQaoZP5y/1BDLWncA086DamOb//2N/HxdrK74blbU/NvtWHp4SeR4DHkySUdfM8BkRXtaFrpNedeeaoHq03wMFQ3i8UCnU4H/X4/C0ebqDXCwzc3U175RnTvG+Wb6Ck/fEO4jCNnkPg7DuIpHrUFWt43nU6zDdo0I8A39RNxkCSGfnP91owGbyfyCGMu3HZORuR7yiedlMaXVfH4RDiWy2XulnFJ/Kk/oXecfG02G0wmE7x8+RKvX78+qHNNYvvB2JkMrYxCfb0lMSBajiteWB4nJDHjTyyB8vJgjY+WLbGEzRsLvfhavVbEpJL3UarTqx5QYrw6VmfteU1innsSMwAW1Vk0fEx86aUKedi0GZ3YtGNIiJeuJe12G2dnZ7i8vMyWW/ElG+RF5V5bDmCazSb6/T4uLi6QJAlmsxmm02kGdLhNtB6fvO/z+TwDwnQLdrJK8Hf+jQ/vAVkKumBwlz+gVqtjd89GDX/+qz+BPxtNc5fNWctagMPlMUVEOyGIRIJnDiZpMzkH8DHihZUERbOtXq/j4uICl5eXGAwGmE6n+PDDDzEajVTCRTNdXJckm1Y7k+nT8iAiMny5HS2V4kvcJPGQ5UBt0Euf76ORMx+aPk5k5P4aq3+T4s1WydkSfneL3OQP7L8N+oboQAKtrcp6pqVadKDD3d0dXr9+jZubm9ySNU1i+3EZhsf1+h9ed0VmIKywVtresyLpxohnm0zP+lvGkXZr4bznIXITK58zglGdXlXJ0VKRjrcgmmfqGPIQ6iSteNKWUDweXwOfWofqeYy8QUDTV6RtWgOjZbMl2mDm2UHheRgiDpeXl3j27Bm63S4A5JZJAchd5MbTqtVq6Ha72alJtByGvLRcOAAj0EeXtlF6ne3ulmoJBkkIXK6xwbaxP571IURre5KsSK+h9HZLIEtHDMfYSenzzc2cZHBvthS+/CtJEgwGAzx+/BgXFxe4ubnBhx9+uCN2AuSHyFjM3gVeNgT8qZ2kaZot7eEkItS2KV0tbV72sm/iMw4aoZHtX5sBKeJk0GYC6T0RAr7EjpMi2mvTaDSy78baoyLtpoMS0nS3lGo6neL29jbbv2HNzlj5o7RCMwUhB4gcM2T/5pWzBO48jOy7jp0p8STWgWSFD40dDyGeo68SABXpqOQBpFpe9RZE68zKeOe9gUrz8HgdMx9weLhYT5Y16BWxI5T/kHeU6+d2a3q9gd/LC//bIkmyLmkZFD179uxZtl6eh+cgi4PG7XZ3WVmapuh2u2i1Wuh2u2g0GtlRunJjL/fWcu90kiRY1fP3Rhys88d+DbznJS8jnhefh7HS5ORClhvl19OhAVM+A0F6QkKnlREopUvgYsuLAL+1/Ei+40u8yEbyslMZEAjmeSsjPA9y2REXvleCx5Xlpy0Bs9KVf2tlRGXBT6iS3ztfDgYgO02ML8fjttH3Qm2L/qVpivF4nBENuudDIxxaPxcLjmOJhjczETt+WOFCji8rL1o/W3QGJDZsGedcUX2xzsAyZKuSSirJS0U63rJonqcicYHiXh6vE+V/ezMimr3Wu7IDRexMiGWPN5iE0guFLTJDkqZpRjxoJuL8/DwjDpqnVYItIh7kaae19gCyOwjksi2eBwmqY9ub5cmOKYMY8ZZieTMEkljKvwk88n0bln4upENuACe9PBztu9lsNhkQ5eSO4spvyZvZsGyT4S3PvDX7IIkMJzCh2SEeTpLbGLHyG9MvaISDE0f5PkmS3AWBdOIb/z60/T1Ud3zD+Gq1wnQ6xfX1Na6urjCbzbIZQ080wPomwGnIsSJtkHFCErKfj10xjp5QXrzfVvhQOiGiRH+HxgVvdihkR0VOKqnElop0vCWxPOjH6tIkZobD8woXFUtniCSEROv0Lf3e7EpoINV+W+lp0/7agETEYzgcZiDn/Pwc/X4/26jLL04DdGBHt3HTTctEPIC955mWH6VpmgOi9Ded/MQBtkyPnyKk5bushAC39JpL+2R8q43xfTL0P4mcSSLRyl2Go+VdFJ5OFOOzTTJNPgMjy0Gb0eD50OLyje+WBzxWOBmRacq9Jh7hsL4FmQ5J7PfPSQD/X25Gp+Vy/N9isVD3bshlfPSdkEMgTffLqYhwTCaTg3yH+oSi8lDgNKRHe++RlpBei9TQ39ZYUCSvMY4yq6+PGWtDY0vMGBuju5JKKslLRTreIbE6R6+z1+KFpvzLeMpip9ctoBLyrmsePE9iB40ig6M1mHlp0ZG6dFnbxcUFzs7O0G63c2Ho1BwJerfbbQaklsslBoMBut1udiIPbRjnR84myX4PgATu1E4ItBWdldI8hh4QiCUcPL4G5vkeDArDgSlv/7I+aDaC28vjhOyk/FC6/NbxJNnfsi51ybLlJ0lZsynWDAG3w8qbJGfa/hCNCGgkh4eRaUqCYrUfXm/aTIyVJifA8pvgsx5Uj9vtNnc5o0ybkw3SoW0Wv7q6wu3tbXYEMheevmzjZTz+MSTB6hOlTd4MBdfFbZS2W7o1uz3yFduva3GttEO2xY5PVniPWGllVkkllZSXaiP5cXYU6qxDYYqGLdoJWoNTDFkok4b3Phbch/JPoMOzI+Sts3Rr+kJ6ve+p1Wrh9PQUl5eXuLy8RK/Xy2Yi+GZp6e0F9qCs0Wig2+3m9ojwk4N4WM028tLzo2ZDG595fA7uJeGwxNIfOwsiPfP8yNPYtiR18DqUR9lqgFXemk6y3W4zAMs951p+eZ55/RIZsMqCltjJ5UA8H2QbB93e7IkG+kNLvGQ8TsS8vSCaWPVFZcI3zmtCZRJa+sQ3tHPdNDNyfX2N6+tr3N3dZcdTW3aV9eDHzBiQlBmPPdIT02eFHD7ymdfHS4LjgX0vP5o9sWG09K3fMo4WPhT3PZJqI3klR0tFOo6zo3QHFAvwLXBhheOgUAtrvQsNSrGeKMv7pg3WWvwQAbJskZ5MT88xXivP06eFleVJpOHx48d4/vw5+v1+bumN3OAK2PcV8A2w3PNL7zhIp0vh+Fp3stHKJ08zprxiCSfPk0d6+KyGBLukh+dFW6rERdsPwIkU16N5yZvNJlqtFmq1GqbTaXapI1/iw0kwLwt55CsH7FbZWSCI4mv3TWhpcLGWknH7ZPvjs2XasjWtTHnaHgmWJJbrCdlJ73i6claHk3UiMmmaYjabZfduTKfTg6Nwvbrgz6zwPI7VR3lhvL5Tph8iAEVEazNFHGaWjpDu0Bgj41jkx/pmtLyE8hBK33r3OZaKdFRytFTLq46QN0U4pOcqZiDgA5oG4imcNbCHPFgewdLiWn/L/BQFtx7hKkLkrLx64EKWX8guTdbrdeZR3Ww2ePz4cXY0Ll+ywsG2Boa5SM83/0f6JKmx8qMBwFix4pDd2ilLknB43naPGEvPvoxL8SUYljZzoic3X9OFjHQ3BD/BitLlur0N2xI8E8i39q/wv2NmFiSZs2zhQN1Kt8gshtRHpJg/o2VNsp1ppDQmTbkcjH8/fAYqSZLsgIeXL1/i+vo6Ow3Oyjv/W+tLLQ87j6/1y1JCTh2rj/V0liEcmt1STyhd6Wzx7Cjbz8jxUdOn6fb6EC7HvtckVG6VVPI+SEU6PiMiBxUNmFuivS/auXmkhuwpMnjEeNkeqgN+0x35MQBcAx50+tH19TW2291Fb7RXg063kpvMuQddgjgLlFkzCEVBwDEzQ5Z93lIiIL+Bm9uh/fbAvQxvkXgP2CZJkl3OR+Sm0+lgsVjkSBzXo4F5slUrS0l25HPPxtAyNYobU058hkS2Yc82yx6+XJDEc15oz7T88dlBrpd/M3SfB4Wdz+cYj8e4urrC9fX1wVG4su+N9WhbbSqUv5h+SwPRWt0cIx5RssKX8fYXKZ/QLE7ISVYm/Tctn3b6lVTyWZCKdLxlie0ki3rFLMISskUbPGPtKzqzwO217AxNj2t2yDCxebcGuZj0rDzIOrDs2m73d3HQ8qc0TbMTqsgrq6UZs2a+SDgpkqw8BLB5CHtIyB4NSFtgX4bR/vZs5N5yANkt4cvlMgewpd6YspNLobQZjzTVL+jUQL2mn/8tCYEl2jeuLbMiGylOjISIktycr72n9LT6TJIkIxx0SeBoNMLNzQ1ub2+zby8kRRw+RfvE0Psi5MwTrR+ynAshPUXS18amouLFjckTf+/ZZ+mviEIllTysVKTjDYkGnLW/SbRZDS+85o2THrcQENfS0tLx8meJlTbZaHmqPFISGiwt0mWVn/bbWxrg6ZB/W/G4LUQ86GSq+XyeW25FtypbZV10825IinjVYzefa3FDYTyQzeupCOGQwL6o3RSf32pORETqstoQ2avt76BwGgmiOyisdmktw7NICumi2TNJRGTeZXpyH4WVhicxINTbiM9nNbTlXLSsipYz3tzcZBf+LRYLN13PU285GUJ5iu2PjgG52uy47Gv5+9CsZizJsBxKMj+abk2/HPdCfbfMU+zMk6bTS6siIJVUcrxUpOMNShnwz8UD5PRbpsE7XM/DFTvzUEYe0ksnwY43eMvZHk+0wTl2IIwRPlh6ZZqmKZbLZeZ9nc1mePbsGS4uLrL7PAhYyfqUnvUkSQ6AprdRWUqR9frcwx4DMuWmeJ5eLNnhdgDl22uR5WhECui0JMr3er3OwC2Vi7VJO2RLiBBZwMvaD8PJkQTlWjuWxEOzTxIlrksSnNjlf7EODqmXEw7+jhNDqrPRaIRXr17h5ubmYP8GT5Pr48BVsym23RXp6+SsYoj4WO9k2kWcPJZjSwvrERZrjAn1sZrtoXxq8ax0QmlbjkCrDcTaVUklleylIh1vSLRZBP7bm5EIdXJWXCs8jyMHITlQxJCQ0KCreZ5CIr1aRciQZ7sG/L3ys8gGiVz2Igd3LY414PNwNOtBMx50pwdtXCaPunYsrkVEvHxR+mRDzHp/qUOCXY3gWKcdxc5IeABEAmpPisywSCEbaJkOAX4Ovq36kHqsdqwd1crLTpISXvbeCVb8f23jvBaP4sjZD7mPwkvXOzo4BH41SdM0t9xQS6/RaGTltFqtcHt7ixcvXuD29jZbBmcBZw+oSjCrgWlup7Q7JNb4oIlml9Sh9TMagYohNjFjDXcGWeVllZXVN8q8ehJLDGPKxSsjjaBa+isCUkklulSk4y2J5pXX/tZ+ax1omU6tzEDP//ZAvdWh87AxYMyzKVQGHkGySJiWhmcDj+d58iTh4mE9L9lms8FoNMJ2u8V0OsWjR4+yTeYEjMnLzj2+Vj69WYQ0TbNjVzkgK+Kh9ZZAyXd8VoCLBXi1Nf3WPQresi9vmREH1xaJkeSQSAeVvbzvROrlemJmcrSlTtrJXzKM904jJ3LpFLdPliW1PVm+1uwIt9faI0T66DdviyS8jWv5kTpWq1W2nOr169cYjUa5izOL9AXcVi6yXVp7n7T+U5IG6awIkQmLQMQ6n7x3HiiPcTJxG6VOy5kUstF6bznsrHyEbA85jKS91thRRkLlW0klnyepSMdbFM+TanmqtIGIhwl51a3O2fsd8zwmT9Zvj4Bp8tCduUdEYvTJvHAC5oGXWE8YEQ46cefk5AQnJycYDAbodDq5Nf4SjEm9HijlewwIuBUhHKRf208g07ZmOGRcHobrlqBXs0PTq+1JSNNUBdRSuA5a1kNgd7PZYLVaYbVaRS1L88rV2n/BbeT1Km3X8q+lYaXLwaVlh0ZmYx0EscQIwAFB0MLQzAbt26Cwi8UCw+EQw+EQNzc3GI/HOX2ajRJUWo4M6WSRefTEctB4M08yLv+t5cN6Z0koTsjxFZtWDHEpMh554o2J1vMiY8+bIgYV4ajkfZKKdHwG5JhOJ6bzD4HrMh18jGidfVFQG5JYYhQS6YGMEc3zFTs4hwY8OlZ3s9lgsVhgMplgMBjg7OwMnU4nu6SO/nECwgGO5RmVS3csOzVQq4GnGJH5tWZJLOLCCZaMG0NGvCVkZJtMm9LkG/rpN120qHnRY8tEE1k32j4daz9NaI+Ntt9C7tGQohEzPptlpefN6lj7ViyiQUJLqOQMyXw+x93dHe7u7jAcDjGZTA72b0jxvr9YB5GmzwK58lnR2YoYohAigjEk41jyIu0t0qdq8WPJLQ9bdPakAv6VVPJ2pCIdb0mKdLzSAyffkcQMMGVBftFZgFgJTXWH0ilTjh5QiM2n1OXNWpQhgppst1ssl8tsychkMsFkMsHJyQl6vV5GPvht2HypFCciZLtHPijNGLFmCLT4sZvNAR/4aukDPhDkS1+0GQVt1kDbsCxnX2iGg3+rFkg69tvhbc77fvhGalqGFrNJX1tKpcUJeX25DoscSuHlpt2KzvPFl1RRmOVyiclkgtFohNvbW4xGI8zn86g9NiG75O9YImLNlhwr2mxLTN54Wcp+zOpPQ8DfKx/NGSNtKJLfIlKGSHrhytjA9XCbyhDZSir5vEnyLjb2JElOAdx92nbEiNV5hzqfmA461sPvdXpFvEoPLVpeQySBJFQ+Gjkoapd8xkF77AAaU+YxNnBPfLvdRq/Xy/71+/3sfg9+l0Sa7vcb8PjchljSoa21t7zdMUA3VrTlV1IkKKfwlHdg7yHXbNR0UXxgD4xpWQ/XbX0/1jKlmE3V2qwCB2/WcjQeV5IOrwy1ZVqy3LkNofS5zVZbJ2LC8yOF2jI/ppj00jHTd3d3uL6+xt3dHRaLRW45led95xILMC3gXcQJwnWV6Z88wqHp8xwiMeRFy2MRG7Q8a2IRH97uQzqsuFx/bFzNfsvOUJ5ChOsdIh1naZoOP20jKnm3pSIdb0g8rwYQ1+FbnqKiYhEZrXO1vLSWZ0vGl/GK2EC/ixAyywuspRPySIbyRd5W/k4OhjJu2QElBkDUajU0m010Oh2cnJzg7OwM/X4fnU7n4DQfDvK4rpAnWoo1a8GfE1gk0sPDcJFgNbTfw2v/HnjVdIWEA2Iejy9FInsojNxITmBZA/Kkg9eDXFYVkyerfR27zyS0XI3iS5vpnWUL967zsuXp1mq1A5JIcWm54Xg8xs3NDa6vrzGdTqP7DClWOXjfrffNa/nX9IX6csuuY73unj6t74rRGeM8CYFu+U5u1tfs9WzS0tZ0WONHKI03gZveAfJRkY5KjpaKdHwGJASmQmGLEgZ69iZnNWTaFmHg9si49HeZQcHTKUUSEUlQ5AwHAadjvh2PsHliha3X6xkB6fV6GAwG2b9Wq5WzW/MwUx7lbECZGQwZLkQeeP1qxECre28ZkCX87gpP5H6SGGIsCSj9kxv05X4KEm9DPenX6qbI0rVjRLNPm/2QwkmKtYyLyonIqmyHm80mW0ZF+zYmk8nBMiouUkfsNyb7Gu2752nwd156njfcA+LaM07cikqIhJURi4RZ5eE5vUgeemyy6rWIA+5dxEoPLBXpqORoqUjHWxYLcEkJedNC8hCkInZQeAjwbXmfjtVvifTkFiF3sd46y/6YsrMIpDzJSIZJkiRHQAaDAU5PT3F2doZWq5Wb/Viv1yp50kBDEbEAtDXTwWdGSPjf2n4OCSq9tK30Nf0xy5Hofcy3K/Vq9miEqwiRKDOLE5p1st5ZIuvOIyP81ClOyiTRWCwWuT0bo9EIs9kst5+GizWzYdWRRR4tx4jMpyberIlGTKSDI9RvF+0vHxo4e/G9cuN2hnQfM27FEBovjZhZqvdYKtJRydFSbSR/yxKadQh1bjEDYajzLyraAB0LvGN0axIaeB9q8Ax55fgzr5zlM81mqUcCDiu+Vp9am+EzGbTmfTabZaBNHrsrL3DTZnC8eggBXLnciEQDotbMkbWRmb+TYJWeaTMJMbMIsRKqa81WWWZeWBKt7GR+ioq3lE17D9jeag24a/tM6G+5IZynuVwusVgsMJvNMJ1Os3+LxQKr1ergCNyY7ydEDrl4ZMUCxTGzFZxYSXstfVr/YvVN9H+IxBzryPGcYKH+ydPHbYsRry5kGC1NS5+XlqajIiOVVFJMKtLxGZEYssH/LgJ4NV0xYYsSoJgOOIYwxHjTYtLxdMV4vzTvrUZSYmevNBss0MHTL1vHdKwrkQ8CcIPBIDv9iu780E69kgRJ2uCBXutkKQ3sel5xjfBq5cPBlgRGZTe2e3sm+AlRRUQC+9BeFW/De2hTOP8tSY8sTz5zwDfQW983EQurbOXSKXrG87vdbrHZbLLlU6vVCpPJBLPZDLPZDPP5PCMbXr1p7cOayfDiSClb2rDVAAAgAElEQVQCKD3PuewzNOAun4VmaqR9cjYl1M/G9tuxDp4YezV5aOeRJzGOrKLtwBpnYsu/Ii2VvG9SLa96y6J1RmU89zEe9Vg7Qh33MTMYDzHTIm2xvH3aIB4bv6wt0gbvvRZGbpi0ypryR+FDnmhN6vV6dvLV6ekpzs/PD069IuCiXdIm7S4Clq3N5/ydlmfLU8vf03MNsMl0LDLCdZBeDaDLcNp7i4zwZWESIFoSs3G/qBAhJT1kg7ffRANl1swTJxdyTwuFW61WWC6XmM/n2T+aleOnUMU4BzRveUz/U5TMWyRc++31Bbz++bsYoFqmD9bs8+LI2QpuZ6iPi4ljpVXETk1H0XCxcaV9sbZazsF3WKrlVZUcLRXpeIPypjpQ0n1M3YXAbUzYorpj4vB4MaBdS6uIF8/TSe9C4NADRhYY4uE8IG3VhwXIYr2SzWYT/X4fjx49yshHu93OQCJ5oaVd3MOtbQ738q2FkUuk+DutHYS815xQ8JkEDqrptyx3SSa0craIjSwn4HBDulVnXt44KfXyzd97hJvCWaeKWfs9PJLDT+riy6dIKN981m04HGZ7NBaLBdbrtUrWtLzJeqMy0kiRRVpj60ESgodwpoTaeCi9IuOEFT6WJFn9V9Gxx7M5tr+2bItJo4xtRcdYzRERO65Jez6jUpGOSo6WinS8YdFAV4z3LlYkICrb8VriDQghr49ni+U1tfIQQ0SKEDYtP/y9BjblIOR5EosSNCuO9d4jMXzg46BJgsYk2W06p5kPOu2q3++j2WzmyAQnHBJEewCWnnkbnT2PvTxxShIGSXi8/JdpjzQ7Qc84kSHAy+3hQFe2IQ6QZdoeoA/tReH59cAOF+9UMo90hE6conSJtK5WK8znc0ynU4zH42yJ33w+D94YzvMhy5j/X4QISj28nuT3HeNksJwRIWeDNx4UHSc0Qu/ZbOkLETH+t0XyrLS1scLKt2W3/Ja57lCf7qUVqvPQOBF6FqPrHZGKdFRytFSk44HE8lR5YWMGuIeUmA7xITw+MTo93XwgkYBBG+hCZaeBiaL5ifGQcpusOCFQoHlltXT50h8+qGtgN8bOWq2GVquFTqeDfr+Ps7MznJycoN1uo9FoHBAQ7X8SbfO3Vqf8t1UuRDq4WGWk2cLT53sV6H9acsXfbTYbrNfr3J4DrX5qtd09Kc1mE41GA41GIyNrHJzLspa2eWBXa0tUXkQCeH0XOQHLaieyfOVSOglwyX4qN9oIPhqNsqNtl8tlNpuhEXqtLDQgbbVBLQ8WydPyKXVqIDvGXquv0upfSzsGnFtxKc4x/Rvpi3FqhPR4dspnoe9YSyfWtlhi5dkV+j615963Xsamz4BUpKOSo6UiHZ+CaB3s2yAdMXZY72KlbF68QbmszrJkKeQxDdkS66GMeVdkgPcGdRmHP+dlT5cKttvtjIB0Op2MkBCwtu5UIDCs2aENyjxtDdxZJIoIAREH+kckQfubjgiWexdIv6bDO6IYQHYKGJGPZrOJdruNVquVHVFMMwJERPjflE8J9Pg/DXxzUuEBIwv0xh45axE8Kpv1ep2bzaC9GXTcLW0C5+l54MwCk9rfWnytrVjfieUokm1REmWpV5IVjaDEEMtjReubYvsrLUyI/IbE0lnEIVJGrPx4/bKWv6J1FOtQetP5f4NSkY5KjpaKdLxBKTIAPMQgFOtVO0ZfzICqved6YtINeTCP1cPBhXwmwz2EeGUQO0B6eq14sQOwrFcCygSem80mWq1WRkba7XZGPghYax5xizhY7Z0DOPJSc+JAv+lkLv4vTfcndnEiwgGyVg48TSIfHPRr5cXbNuW9Xq9n5UFlRr/5/7VaLfub4pNOnkeym7/n6QE4KH9+UpTMAz33+gmtXfByobInQkGbwBeLRY5okP3a9x8CuNKW2PC8nfF+KbYf1MJLImgRpNjvzsvHmxiLj3HY8P9jHS6xemOkDPDXdFC6nv0W6Ygdb2L6WGsMsPKpEehPWSrSUcnRUpGOB5Sig8xDpVnWw6XJQ+o6Nl0vLBBXlt7AFeMB1MQaPDxvppW+RwpivcAh0GiJRwh5GRPQpSVE7Xb7wJtPS4w4KNZOuLKArjzBiv4nskD/0z4B8rDTMw7W5clbXJfmwY8poxgAwXVzIkLlQESDEwV6ztOjPFA+eB3zciVdnBjyWRRtpobbweuXlxWvDz7zs1qtsk3fdPIUEQ1O9GQ5eU4JTTzvs4zHdWt1UuR79+yT32PIkaKla7UhmY8ytmnvYsFyqG6stn4MdvCcPVqdHpP+MeOX10a9tlWkbLR+mH+HZU+pewNSkY5KjpaKdDyAhAbPmOcWAAx1llbn91D1GurcvQEitmOOJQ+WnrL6pO2hfGq2yDDSBssbWmTQDHmBvfwmib7cKUYsLy6AnGefQDRfSsTBNoVPkuTghCJaJqSRDgLg2lIpGpB5eK9MPXIuw3F9PK4M6+0X0Mgut0H+0/JOYflRu2QP/U2kg5Z2UV3wsuP6+D4UIi7cTpox4iRutVrliB6vC+07kuXpkYZQuWt1FWrvPKx85/WVofrU2oRlc9E+OaaMtPCandK+EOmx+lbLlrIg3uqzrD6zLFEg8dKwnAVanWr6pHgOHKkj1O/z75X2SH1GpCIdlRwtFek4Uvjadk2KdFxSNOAi9Vidc5HBp6hdMl6ow/UGkCLAIjQQeR4zK6wWJjTweiRL6ihDLKz6scCvzIcHgLjEDOxaelIn6ZAnH0nAqYFJ/j4mnRB5sMrAA8YaGLK+PcuGEJkJgVkuUi+/tFHTKTetk43W/Sfy3g3ZtrTvWZ7ipaUn7Ze6tPxpz7Wyto7F5fm0yIosuxjwL4Vv0Od1ZqUZ0hsCxDH9cSifmi6rPmT5aH1jqI/ybLT64hiyZX1rIdIUK/K719KM+Z6t8SQUTz6nv1erFa6uriJz8VakIh2VHC3VjeRHSrvdznkLPSDCn3tAIzaOjGuRCw0QxXqVinicigwCXnpWeMsWL78Up+zAHhuHgJGWhxBh0XSFgFrIU1e0LrQyDJHTEMAJfQtefVqAxwKQHkDizzzC4oGzmHqzRILUEGGSeQj1FV5/EkvQQvmSZJLrsghdbD61PMQQFYsgcX0WoOT7hSh/FEfe78LTs2bqQqeF1ev1TDfFI5HPPD3WDfVSVyiuPDI55gJKvl+IdFAZ1Wo1LJdLM11Zjlb6nEDLcNKOUH/nlYX8Lnj9aO1K6w9CxNNyKFjfgQwfS+wqqeRdkop0HCmz2Qzn5+fodru5QSoWMEiRg7bVCXFgpnWGGpCg39IzqKXF9YUAv5VHaxCNAXkUP2ZwLCverdlyw613rwF/VhQwWDc/S+AjByQNVEoAHpMfuXSHwmoX/5HwwVnaYwm/byO2DqVOfms6B3/aoM+P2iU7ebrSHq0Na+0tRMooHW0jtwa+pN0h0GT1L7zONTIhy027dFASCHpWq9UOjg22AL6Mp6WhERV5maBFMqQOaYN8p7V7i2TTb1o6VqvV0G630e120W63cXNzg+VyqaZrgUkqB6098HzLOKHy1cqFi+wDtL5HA72aHs0uyhPt70qSBPP5PLcPicfneqyTzGR4j4xbZFcD+jEi41tklpeFFl8Lp+myCAf9o6WMlVTyeZOKdBwpNEhtNhsVoFEYDXiEOnn6LQdbem558zTQwXVpXhppL//b8uRY8ShdDQgkyeFyCK0sJAjh9ocGJO25VW7WKT+WZ04DjhxgyUHeIgoxZSYHYEkiZLlqerl92sCqpe8RSao/jXRobVGWuVdvWvvk7ykP3Bsp64rr4sIBuSRz8pQlCZA0XRIIat+MzKsEnySy7WhifdPcXqsda2RTA/mW3VYfYdkhy4M/03SG+hWpo0gY+Q1pIFX71jebDZrNJp4/f45vfvOb6PV6+JVf+RVMp1NXh/ZNUJvzyiBkf4xoer1vRPYzIX3y+22323j27Bm+9rWvAQB+7dd+DdPpVNUXSwpi8quVt9fvx5ZhTNvSwlntXutHLRvpf2p/oaO6K6nkXZWKdDyALBYLpGlq7u+Q4DA0OIeIghVOS0uTogOfFk4brGVYOdDzZ1p6FhDRSAeJdlqOZr8mEmBbcSxwLt+F7NDyrgFEmV9ph0YMvEGXgx4tXS9vWp4A/Z4HGUYD1ppeLZ5FSnh8SRQ04qDlk4f3JATKtHSIFGl1x0mulZ4sB/qtzUjF2qz1DVo+JOngOkPiETMvj5qNVj2HSJDUc4xst1vU63V0Oh1cXl6i0WhgsVhgPp+bNmj5IV3edyWlDOkoS1SKCqWz3W7RaDTQ6/Vwfn6etS1aYhWq46ISGjMpTFHdGvk6ZmwsUrfa84psVPJ5l4p0PIAsFgusVquDm5s1KTMghDxDIU+bFSf0vKyXSAMgselr8SwgpukOxZfvYwcWy84iA5AHlqwwRQcgSSCKpBFb17GDOycPobXollhgm4N7+s1tswgvty0mT3xzfAywI7t4GI3kewAnBIS0vGl2SPHAGr33SIcHGsuQDq1MNMKt6fK+k9h6tmzmv8fjMX70ox9hu91iPp9nd71o/bzVT0mybfXZHvGStkuJIbJlAbmnczKZ4PXr17n7cTTyH9JZhlSUIRkhnTz9WN0xY1AoftE0K6nkXZXq9KoHFO4p9gYkLR5J2frQPMV8cLM8n5bEDIQhMhDySFqDf9nBxQPZZQc6qbcokJfxQmVP77VlPVZ+LMAVAmYeCNLqL4b8xZRPzDvrtCLNLg2Qh8RqIx4QjSX01pIsnldNZ5rmZ6SsE6M0UiJ1eacsaW3H+h5DJFaSPE1CfQeX2O9ES0PTG+qHLBuo7PidKnQfiVYmms7Qt2B9Yxpptcpf6vG+SS1NWXehvkrWM93RA+xOW0qS5ODOFnkIQQz5tdKPFatde99M6Jv10ilqk3zGv9XPsFSnV1VytFSk44FFu5U5VrQO2RugQjqsQUM+88TrlL2wDyFFSEEs6fHEi2MBcm8At/LCw3KAw/OixeGARNqkpROqOw5uQvng+eXxPLBn2ejZJHWEQFRMPj2SppFyy4ZYgKL9zX/zNPkzTjpkuNglOlYfoj2PAWDymWyvXI+MI9PjeQuFjSG0kqBqZWGVidefaG2FH0wgw8T2GVzIZg3wW7YmSXKwTNH7FjQ7QjaH+hLeBng/QIcNEEGjODTzEbs8kKdn7evznnn6ypIYjWSWGT+93xXpqOR9kWp51QOLdma8B+C4aJ2OB4oskGwBAy0tDbBLXdrv2A6/KPCXNmpeN80GD7R43jWuJ2SL1B0LGDho1HRawEv7LfMvyyAEfrW0Qp43mV4I9Gg2WWRY0yHjSQm1PQ3MSf1SjxZGs91Kw4rLn3n1L8vUamNcF7chZB/PiyQ6GunU7LT+jqkPIN83yu9BIxTy29f6TS/t2H5N5snq47Tyj+lXtLS480CmL+3m9cjvXgn1a5Z+mU9rfNLCWHkmkkAnf3H7JQmRZRKyW7Nf6wO9+gb80+Cs/Gv2lBWr3B5CdyWVvCtSkY43JN5AGQvwAd8DYoHFGDKjxfNss3SFOktvwLDCW6BUy6MFiEgscGANtJrtHpgKDXQWwbTsLfsuFihKu2QYrZxkO/PyopWZ9i3IcJo9GmGX8a08WSBcAyuaxNjnxdfarFdvIZKkkQetjDQw6vUNIcIhbdXq3gJpXtlZ4b1y8L7vEOGxnsW2sdD3JAmJ9jzGNi39Y4GpRiJC6YaIBw+vtXUuREJiTgrk4vWvRb9/LZz1zXjtLradWf2FNWZXUsn7IhXpeEMiO7LYDrFsWrHvyqYdild0UH1I0bxfloQIT9G0vHjagC3jaANejBcw1s7Q0b2x+YhNT4rlNdbAoiwvemYBN62sQnbIZzEgSL7jACLGK+oBp1CbDZW9Rc68/Hoe8hAA1/q1IuDJAvkxJM/Kl/Ve1pUXj8fR7E0SfbbSA+QxNobSjukPQmFi2pD828uL1d9q7Vlr3/Kb995paVtpFJXYtltGf+z3XBGOSt43qUjHGxINqJTxylF8K/xDgX05aHrAJCRl4hXpjEMDmQaSQqAgtuwtYCD/lmFDg1sINBapF61deB5qaVeZNhULkEL6YryKVvii5KgMwQtdbCi/8zJkgtvkLQmReqz0PE+0Vh6xbTEkEiDGtpFQWy0iGvEIlZP8bf1vSZl2ZRFqrfy0uMeSkyIA3nIUaPq4fTwNqw2HSGBMPqz24x3OUUSXJt44YH2jFeGo5H2UinS8ZdG8o9YgHzuQxLwvAgatwS3W20hhNC9jyJOlPY8hJGV0ed5g/j5UD0WBdhGwHyPcTglWtHQoTsh7W9RGDbDKv4sOtNqmdauNxpB6zztb9FvT7AiRIO2bsOy06jMWuGv3hcTkLUSItLBam+btwSPrVnwrvNV/hr5Xj3hobV5rGyHQL9O2ykd+K7FtKcZuq20U7cPK6ElT/TAEGYbr8kixlrbsR6x2IdPU2o3MU1kiIOsz1F5DzotKKvm8SnV61VsSDQha4fjfReqnCFkJeae09L1BtYyEBk/LTikxnraYNCV4588tD1UIYMjwVno8bAw4iPEIanZJG0OkIwacewTAay8SAHrlr+Ul5ncoTIikaPEs/fJd6NsI6eDghLdBWSdeWRSxPWSPVpcWKQqVhaUvph1LW3lcXj6yzGKJD5W71KOBRQ9cevZq4UP5jukLvfAaydHKzNLj2WGVg5WO1GP1mVabCI1BoW86ZhzQ4ml/x4ylpJen/w5ir+r0qkqOlop0vGHhAxb9lp2xBAmyTmI7ttgBW4tjpe2l63XsEqhLndZAF0pb2uBJKP2Q7aG0QwRAI2xeGM2GGC9eSGJIqGd3rC7tWEw+yBa5ZE/7RiR41EC3tE/G874lC/hoZaOla4WV+fS+RY84aDo9QmnF1dpiiHwVab/HtFVpdwjwevWtxY/pmyicRbL4sbXWd6rlX5aflTcL4Fr6Y9qtJV5b9erPqiP+nZPQBZuyzGXf4JWXZptFFrzy4+G8MLKfkfFiiKI1lr/DUpGOSo6WinS8RbHAbBnQHUonBmxLIkRShMzw8LGdtDVIx8hDgPCQaOURUwYemPWAlAaeeTiuS7NVpiPzEQKIWl418OCVtdW2QnbzNLXfMaAhxr5Q+iGy4l22FzoGNNR+JBngbUG7KI5+87Rj0i1KdC07uS5LPD3c/iKgLPR98TAe8dDAqkcEtTQ9G63y1cJYwNmKW7TftNqeR3hi+ztph0U6pB1Fv2mrnWh9qkZKZD9r2S9t8erR6ltj4r6LmOteKtJRydFS7el4S6IRDgv0kxQFjJ4uTUdsJxjyeMl0rYGCx5FgXAPnnh1FO+6YstJAJ/1tEQAN1GnvPRAeAyAs2yVIteLEtgnN3hgJ1Ye0V8bT2qZFxCxdMq2QvTFkX6YX+iZlvrT0tLbBQXJIt/bea3vW3xZwlHqtPMcArDLPLNH6Fau9Wjfa83i8jcn+yxILAIdAvAyv2Rx65z3XdEj7ZPuS/W4RW7wyjcmDRcKkfius1h9redR0xpAJz1YtnvXbSqeSSt5XqUjHWxJrgJfgVv7teYViyYCVvrTD0xkCNZrXSYvrhS0C4rjuh+jIywzmsaLl16oPDfgU9Wq+6YHNAnIcxHlk7ti0PVuscg5JqO1a36Jmi0fwvG8mRAw1cBxDvKw0rfCazWXqzerrLBIfU3dl+giL6GpxeNmGnCCeeP0hvbfAc5E0SLyyDcXXSLAMF6vTa2uhMikqVtmFdHvxQmSokkoqOU4q0vEWpQgIKNrZxXqjQulqOjyvatF0uU7P+xojRQYuLw/0PlReVvoxHlItzVj7QuBEi1t0AJZgyyKZZUFYiOxq6cToLEIqjvXmWqDEIu0x9oUAn2WLReo84mC1mVC5W3kq4hCJzZdFymMImfbcIoL8ecjp4pWpl7eYtumVoSbHtHnr+5VlpcW3iG+MfVZZy3hePqStx5R5yCnitR1v7PPaWiWVVLKTinR8ShJLNCyiEtLFB5jQgE1/Wx1qWfJiDVhWPkis89QtkFrWw+XZrA2uMaBbAy98jXPsgOSBxJD9vJwtQMHfeUAxVLY8bpIk6oZQy05Nd4hsWaC0iMQQJ49IaDbI8ByQFgGfMQTAqjcvrmxLmg7P5hDwtvJh5dWqA2kbb88W+JPPrP6Gh9PIdYxotofq1/qOirRh2ZdLPbHtR7Zf2W69vFjxZD6tb9YiHh6hlumG+t7Y+tTSt74rb6y22pe2z6siH5VUUpGOT0VC3jsexvOmxQ7w3m+pO2Ywt8LJdDSwVsRT59nJ0/HCWuDRstnTa+nywHsMoLdsD+mw4vLBXdrmAQL5jI4Nld4/Tiy8I11JPIIRS26lPvo/RHg10dqhRSxCujWgJdueLL8YCRGLkIS+s5hvXivnGCJo5UGGL0rI5DMPyMfEt+o5ltyEfkvyI9MsQmA8YK7p1Noo/5vXAX8WO5Z4wNz6Li2SEmqnWl5iy8kTayz0+nOZjtXXFemzK6nkfZKKdLxlSdPUvRk1NKBZ70JeoFA6ZXRYoEIbXIt6j2I9RBbYCxEIbYCN8aRxfXLwttKywIUHbkLvtTQsT6IM5/2W+eO6uR0aeOFxtN/cthB4CBE8S6eWJ6uu5d+WzZbEkEtZlp6dUrTvR56ipYXX4mnkKGSrpVcTKw5PW4tjgVPvW9PS4L+1dibLpAh5k+lLm+Q7r1w1gsDDxJS1FIpLx9LyZ8DhCWg87Zhylfnnwh0QWt/uEW7vd6jNeHXo9fcaqeB6vXZcRGLJZCWVvG9SHZn7KYg2sMR4y6QUJQmkx4pndcb8f3ofAk6xoPehxOvgH7rzt8BmDNCScWJttNLh4T3QHZMHL33PHg8IlMkrf6eRmyIAVqZjkSQPfFlhpC2ebVKvBGMh2y0ibhGuGGAd6lu4vVynl5Z8ZpEKr5y8vs5q/6FvQssXfx9TbrFtMFQGmh5JgmV9W3kI1V2MeP2N9t4jSJxIyXwWHa+8MeahxhfLNuu7ku+1ePzdu4ivHKmOzK3kaKlmOj4F8Tpfa5C2dIR0FR1Q5DNrAAwN0hY4ke8eSkLAtEznb3nCYmyPBXyWh83TFRNWlr9nt0c2tTKQNniex2PqOtTuiqZhgYoQCdfia1IWYMSWz0MBmJjy0oCy1baseEUAcawTI7asvL7PIgJe+Xp9sBXW+h68b14jIZp4JE/rb0N50fTHjB88rKdfex+bR/k7pr/UykHqoN9yvJP/x9aV9X+MzZVU8r5IRTo+YyIH9CJAV9MV8zzkOSsrIQ/ZQ4tFPCwvVUgHlzKDhpVfDjzeVHlbXnHNHkssD20RiQVrWvlaJLIoYPR0lSWjMQAo1ikgQRjXHUsOYvIk25xVv1o9xIBPLa0YO4rEt9qC1aaKSgxA94C+pcerH62vSpLEXIbr2STTKUL8ioaR4Xmdavm1yskiMV7/KcX7rj3CIJ95BCQkWlxa8uZd4llJJe+TVKTjUxTPY8jDhMJ6YFLztoS8RFKXNxDHEhsrfpG0i84wWANRUc9y0ZkIGTcGtHl2S5BotQVJuuQz7bkHmC29IWBWBCiXJdRlJAa8xMQvYm/IS2qFlXVm1blXH1bde/VueWn5M41MxZJyC2B7YC+mv6F3HlHxALlFBLxyt2wIPfPKLUQyYvt6HsazP5bAybSL9ofe+1CZhfrXWJ1SYshiWUmSBPV6He12G2maYjqdPojeSip516UiHZ+ScA8IDW7WcaOxHWsIjFAYaxDjQDQW7HvAwRpcLe+WFjcE2L1BwvIueQO3RhJiiJUHvGPsjxnQeVirHi3AJkmGVsf8mSQGWhhpb4jIaOJ51638lEmHxCI6MeTH+t5iwbEHlGTZavWl6SlbBp49Uj953DUbPf08H1YYz6NNohEALa1QfrknXr63vl8eR+tPJLDXyLpFXix7rPzx8Nr3Skdz0/OixMBqj1YeLf1FSJpX/1adU1gZNzS+xJIv7V3Rb63dbuPs7AyDwQCLxaIiHZVUci/VRvJPUZrNJhqNBubzuduheR2e5nX09ADFPf6WLaF0ywC7UJpSbwzRChEXGc4aZEL5iQWzFqkpWjZafT7E9+yBUJIYYsjDSt3yHQdMMTpj34faXEwbtkieB4DLpKmVcygfnv0eYNMIpqUjFOahJFTWofL12oNsX/xvjdDGtC+uxwPOFli3+m4JkKXusn0oTzuUH26fFf6hsINWRvRc64NDfY2VF/6b6/N0SbH6bpJ6vY5+v48nT57g/PwcP/rRj/DixQszjXdMqo3klRwtFen4lKXZbOL09BSj0QjL5TIY3vLIcUnT9MDrZQFEr4P2RNPhkQH+3LLBGiBCwOkYUBkDiKXHy9NThGgVsU2LZxGjonpD9eOlawHxEODV9GlkR2u3seRSA2tanXI7rLihthBjj5W+Fo+nEfqGLTmm7XHbNBL0acgxaYcIYxGR8cvYVYTwWX2lbA+xbVDqfwgJfQ9WPuk5P9Y31I/EOAo0O7TnZduCLO9arYZGo4HBYIBnz55hMBjgO9/5DobD4edpP0dFOio5WqrlVZ+y1Ot1PHr0CI1GA3d3d1gulwfnqlsdsDXYaV7jEPiwQCZPKyQhb6w2iGrpxHjXPPAmy8iTY0CZpqsIuLHsDMXjN5xb+ui3Vr/erILnTZX2eoBGLhXkRFiG98CVlp9QvuXzEMn1xCN4lo6QfquuLVAk38WmZxEpqS8mjGfDQxKRInVThIh6fY58bpFqHqaIs8KS2DLz+jitHosC/pj685wq2vPYvlMj/FYfpI2HXlpennjfGFPfWnySWq2GdruNwWCAR48eodfrYTgcYj6ff54IRyWVPIjo6CVSkiT5j5IkSZMk+W/Zs06SJL+UJMlVkiTjJEn+QZIkz0S8ryRJ8stJkkyTJHmVJMl/nSTJe0mA1us1RqMRTk5OcHZ2hl6vh1arhXq9jiRJsr0f8m/tWa1Wy4CdDMc79tAzEu1ZzDst7EN4KC0JAcqi5MGKE0sgjgSKu40AACAASURBVEnLImZSLCAlgf4xdnH7LGBqhef/y79j0rPieOBGy6+ni4fheYwhC6Fw3ncTAo9emjH5CemLKQvLbo+4aHFj+wgtPSll+pBYAK6l74Ff75uI/VZkOGu2wrOd9gTG2OcRrZCExoHYcNrYY+XNex6yXysTqy3EkkRNf71eR6/Xw9nZGc7Pz9HpdDAej/Hq1SusVqtofZVU8r5IaaCfJMnPA/h3APyBePXfAPg7AP5N7JZA/Q8A/g8A/8J9vDqAXwbwAsDfBPAFAP8rgBWA/6SsPe+qrNdrvH79Gv1+H2dnZ2g0GphOp5jP51itViZAiZnFkJ26NVXNw1pA1SIOsZ4uabOmw4prhZPPQmAqdtA9BqhrREADIbEAVurxSFWofmMJTciOmDBFy1CrH41Aee3I0qUB5ocSizDGkBhPh/X9WHVcFNzL9hCKGzvLE/OO2+CFtwil1Y7Lgn35rqjDgb+X/az8P5bQhtLi7bnI91ak/RT5XvjMZhkHA/0tdfByK5JPr7/3RMuD1MUJR7fbxdnZGU5OTtBqtTCfz/Hq1Svc3Ny8kf6mkkredSm1pyNJkgGA3wHwdwH8PQC/l6bpv58kyRmA1wD+7TRN//f7sN8A8CcAfiFN099IkuRfA/B/AvhimqYv78P8uwD+KwBP0jQNbmxIPkd7Orh861vfQprujtcbj8eYTCYu8QhJqJOOGZiP9ZZ7YCIENLiOMnbE5r8oaCtLUkIEMkSgQuDUIjgynRibY8iR5in0QI2ML/OmESQtnKXT8maGCI1WFzKNWLHiaGCKA0erbq32QSCvrN7Y79IiJ7HfllUWEtTJdK24UkeMHRZRLUtGQ6SFp/tQIolMbJ+h6bFslb9jvlUtbetbs/q07XZ7sAeR3mmkw/pGve9Os9Ui0jH9V5Ik6Pf7ePToEc7OzpAkCcbjMT755BPc3t4e6P2cSLWno5KjpexMxy8B+OU0Tf9hkiR/jz3/OQBNAP+QHqRp+qdJkvwFgF8A8Bv3//8hEY57+b8A/I8AvgXgd2ViSZK0AbTZo5OSdn+m5fr6Ojtmr9VqodlsYjgcYrFYZJ2uN4hy0TpW2UHHDrqxXkMKqw0E0l5vsNRAScyAKnVrJ9ZYtocAvWUbhYspQ2tw9IiDHHQ1vaHfNLBr4TTgZoFTy+PHdYSAq5RQ/qx2rIWJietJCIR45RIS/q1ZBMurX61etW87xi6rPGRaEuQWIeZaWI+QUXheTlbZe/ZqgFWzzdIZ+pYt0K79DsW3bPP6GK29yLbl2Wp9b155h9qUFVbazo9eljZo7zgZ0dLm7YXieH2rVi6aPi7Ub/LyqdfrGAwGePr0Kfr9PubzOe7u7nB9fV0djVtJJQEpTDqSJPm3APw1AD+vvH4OYJmmqaT6L+/fUZiXynuwMFL+YwD/eVFb3zX5+OOPsVgscH5+jm63i8ePH6Pb7eL6+hqz2QybzSbo2eHPtUGf/w8cbvgt6p3zgKLlVeSdewjse54uK3+ebVY6RQB9DMng9vObhS1PXQgsxRBNqRPQN41r4WVaFFe+04icrM9YAKylW4RkSbDhtQcPNIfArfbcImAyjlavWvlYJCSGgFqgUwpvi0WJE0+Dh9fAokU2ipIW629NP08jBLYtifmmPeAb6pflO6u+YsoophwsPWl6eKgDPSfdHtmVEhpDrG+Pl5d3B4qWttU+Qn2k1dd5YUjosr/BYIDLy0u0Wi3c3Nzg5uYGk8kk6vTJSip536UQ6UiS5MsA/jsAfytN0/mbMUmV/xLA32e/TwD86C2m/9bk7u4Oq9UKJycnODk5wWAwQJIkuL29xXQ6PVhupQET7/hBHk8TbZAJdeCWd85LywPW1qAl4/IBPwS4pL2WDVZYKRb49sLy30VsCem3BtLQgGoBMgugeZ5Er840MCifW3rlbw1gSmBvtTePuFn50J5r5RMiB/y9bDuyrDxPrPzfInjyBDyZtkUUrLq3ys5ay+99j0UIT6hdyLx4tsrnsY4DT0J9n/Vtac9iALNHUqz25tkubbHihkhFbH1bBN8jQTE2Sd1ev6Q5TKyxkWxrNpvodDro9XoYDAYAkO3dWCwWWK/Xat4rqaSSvBSd6fg5AE8B/A77mOsA/qUkSf49AH8bQCtJkvM0P9vxDLuN47j//68Lvc/YuwNJ03QBYEG/YzrUd1U2mw3m8x2fS9MUp6en6Pf7SJIEzWYT0+kUy+USm80GgA+KYgYzC2TI96F3HtCNfRYKGwsUAX1A1+J7ni/Nm6yBQ2twjCl3L2wRTzSFt0CWJTEgU3vuEQXp/bbyVNRGrsMC/kWBitc+JJnh4bR0QqTNazvyXUiXzJ8Mz8lFjHjg2aojDbzR86KAWtPtfd88XWmLpiNWtHLw6tH7HjQ9kiDxNGW5hUiG9dz7nso4O2R8yoNlt9WGpW2WLmmflR8+g0xi/bbIDnC4P4re1Wo11Ot1NJvNbLlzkiTZcqrxeIzFYlEdi1tJJQWkKOn4fwD8jHj2PwP4U+w2gv8Qu1Oo/lUA/wAAkiT5SQBfAfDr9+F/HcB/miTJ0zRNX90/+1sAhgD+uGgGPo+yXq+z5VTb7RaPHj1Cu73b0lKr1TCfzw/u8/C8u0Dc0gFLlwfOy3oLY8FUUX1Sp6VLet40oqbZxj1ymqdN6tA8aTy8ByA4mAkBWUuHFkemrw36mn0xeYkF9R4I4GHoudSredg18KPZKe1LkvzyDo08ydkJ/u0VIR1eO40B7dJGWY5a2ysjElhre4JkWfO0tZkWrb1ZInVrwFCWA39mEQEvvVB5afnVvlPZt2j1bNVZzDIjroenbe1hs/oymd9Y0kJp0XHtdGyv9i1oz63yKPr9avdZ8fK2+hv5Tuqmd/V6PSMdSZJgtVphOp1iNBphPB5XR+JWUkkJKUQ60jQdAfg2f5YkyQTAVZqm377//T8B+PtJklxjRyT+ewC/nqbpb9xH+b+xIxf/W5Ik/yF2+zj+CwC/lO5mNN57SdMU6/Ua6/Uaq9UKm80m21ze6/XQaDSy2Q7qTOVgJUE0/9saVLRBk55bHjLubbLAvgcqNQ8ZT8MCuPK3NZBbg4sEmfLfdrvNnYFPeoqQDq0cNE+mVVba4CxtkuVmAdnNZqOWPwcQZB+lIUEiz48FLmQetHYiy8YC8FbdE9iR5cfBj9TH7dLyr4E9vpGV0qR4/NuT+dbAnwYMeTnxmQmt3WkAWn4vFrD04mh5lt+ClhevffA2ROXB4/P64xLql7w8asDfKhutDLS6s2y0AHGseJdkxnrNuQ6KU6/XMz38ndW+NVu4Pu9du91Go9Ewy14T6531jYbK2CKgZUTru3m/uFgsMBwOcXd3V20Wr6SSI+RNXMj3HwDYYjfT0cbuZKq/Sy/TNN0kSfKvY3da1a8DmAD4XwD8Z2/AlndeVqsVPvnkEwyHQwwGg+zywFarBWA/MFgA2QLiFhGwxCMOmsQOGBZw43mggY6IgPRwbTabXF6lDRrAoOVp/HJFLjwdCkf/a6SMfssBW+ZLDv6yjjjQlelzQCft4mlpvzWSpQ3wnHhoaWh5omcW8dD0eWUmbdZAkwWIZF1bOmPE0sXryCrHkC4eXiP0oe/TAuFFvmv5TXDyQ88scA5ALQPte9ZslKRL2qGFt4TbKb9Ni0zKMvDCSxLNw1h1H1svoXzJ35qDIUanR/Cs+FabJXIj/+b9alEJEUTNTiu+Zzt/7+mk+NvtFsvlMjvGfjabxWeqkkoqOZBS93R82pJ8Tu/piJFms5ltZut2uwedPqDPckiRIN3yaBbp6L0O3HofO8CQt2k+nwcHNs/bJtPUbPeAhNSteVc1+7X0NZCpee+KeIQ1/dJeemflpWjaHvDWgGsR8epKS1ObeZOESJJWqzw9uy2QxO2xALf8Pi3wzfVYOr1lR/LI0ZjlmJb3WLPHCmM9ixFLh/aNxJKVIo6SEMGxys7qx2LStfRr7cED55p4bcf6biWxkvbVajW0Wq1sJiA2b1a70fKVpvkZTasP4/9r5JP6ObKbdNLfMg/b7RabzQabzSZbabDdbrOVB+/5hvHqno5KjpY3MdNRyRuU9XqNyWSC9XqNxWKherdDSwRIZMdMf2sA2POMe8QjNDCGQC9/t1wuc5voi4gG3rRnnq3SXk+XF6eI/iISIluh9Kw6DYEwS58nRQG/BOvWcsIY27UwckZEAlaLgGht1roThdupvS9K2j1ALYlW2TR5GKs/8UheCOBrejRyJIm9Ro4tB0Go3/HyION4DoYY4mFJTF9rxfHaaBHSVUTW63UOsFt6Q2l5efPqwhKyqdFooF6vo9FooNFoZJvB6Xej0ciRjiRJMqIxn88xn88xHA5zTq5Qm66kkkrCUpGOd0T4wLLZbLJTM2izG+9g6/V6bmDkS6/oN/2jten8n0zXAy+ajSSeZ8sLZwl5oLzwnpdQ2hECXkXsLEo6rHASXIfskGEtMG6JBW488hmjLxZcawO5R0hiPOgWMLBAK30ToTxptstn2vMQseM2WfnzvM8hiSkzCmd9/zHEU9alF88D71ZcqTcEAMsCRCKhHiHm/8vn2jvLvhgbY+zwSFMR/R4Z5OFp/JBtNobgae9j42m2EXEgYtHpdNDpdLJlyM1mE81mMxsbtRkPYNd3rlYrLJdLjMfj7H9+QWAllVRynFSk4x0UIh4Ass3l7XY762DlBj++MZimiuWU8WazyTatcyJC6QHx4NySY8GkRYy0cFynfOaBBSsMhYshAp5+jwyFfmu2yHzFEj1Pl/aepxGrz3vv/SYhUFMmfe+dJB7/f3vvGiNbdt33/XdXV1d1d3XfqxlxhhyFHAiiLAeyXiYdkU4kO5aJWIiDyIDtGP4SAfkQOQ6cBAgEKQgS2TFgBBZoBSYRIIGSOIYifYgEBwqjSGCCQLZB0SaDkLZpUon4kDQczgxn5t5+VHd1dffJh+p1ZtW6a+299jnVj+peP6DR3eec/TrP9V9rPyxx5TF6aJtlNGl55oxpua1kPHoFRe4YKX5kfUtpNTGglWud75zxnKtHn/bk0N59peO1v617V6sf38fve6+DRJ5365yWHCKlez73zOTqp+VnXSfaV3pOKIIxGo0wGo2wvb3dCg4a6M4dcVxoUBlcNPHvH80cyR12QRD0J0THmmC9gMfjMR49eoTd3V2Mx+OlsDGAJcHBRYcUHmdnZ5jNZpjNZpjP55jP560Y4WuC1Bg5tZREiUdwUHrLuM/t4+VY+y1jv9QmLT+PYesRA9b/1jZPXnJfF8FYMtBrhKanvBIlsSH35cQEr0euLpbgtNJ4r3Vpu7ccbtzmrl/umfTWxxInOYGlPfc5Z4I01ukYmXcpYmW9M3L3hdVe62+rXF5G7t1lleWphxX187apy3ulVvDkrsvGxga2t7cxmUzab9/Ozg7G4/HSOEfqakVrbvC8+N+Xl5c4PT1tp8M9Pj7GdDrtPDA+CAKdEB1rzMbGBkajESaTCSaTCUajUTunOCE/EpoIoSgHCY/T01OcnJzg5OQER0dH7eA5y2tW8sJ5oPysLheWwWB5RnP1sowsmY+Vv/w7135pQHCDW5tFR9bb+shrhkrX8y/Phfa/bBNtt4wxj4jJGdJdDCHNm6zl6c1fO8YreDSjl/4ulZ8TtF0M3tzzUCMatGdRPreevDwOBOsZl22XeXUVUHyf1R6tbrl8LLT7tHSt+fu71L6SGObnzLofrfvcc9/yY3Nij2+TU2qXrtfW1haee+45PP/88+108hTJoHEZFxcXGAwG2Nraate5sr5bZ2dnePPNN/HNb36zXfRvPp+3x1N3u1gIMAj6EaJjzeAvzIuLC0ynUzx58gTn5+fY2dlpvT50jEwnZ7u6vLxsQ9T0P0U+jo+P8eabb+K1117D2dnZUl5eo9AyZnPe8a7Gi2WQaAuVaetG5Oqf+2B6P8SaUNDqbW3LHZsz+j3e0ZwAkwazlYeVD88jZ3BqhnpuClOrPE9EQdvniVxYZZTS1dShxiOcq3PuvuwiNC3Bn6tvTqSVHAqa4C4Ztlr+Vts8DgvZPs9zopWpHU9/a+c1J8o0YcWnlc4J09J7Idc+D7xuffJqmnfG1fD2pJQwGAzw6NEjvOtd78Ljx48xHA6fGZdxcnLSDnZvmqZ1xln31MHBAd544w289dZbmM2Wlwsbj8eYTCaYTqc4Pj52n4sgCJ4lRMeawT9wFxcXePLkCabTKba2tjCZTPDcc8/hhRdeaIUHpeEvbf6xGQwGz7yIaTAerQlyfn6ON99885npAqVX0CMo+P5c2+Q27RhtbRIOH+iofdxLBnLJCPO2gbZrdSl5072GgUek5AzLnMe1lK+sa+m8WecyZwRbeeS8ozXCTROmnnSyXKuOJZGbOy9S9GnPnDdPvp2fY+1ZKYn53DmWeOqhlZOj9AyWnu/S+0Orh1VHaxpm7T7OPdOaOM8JN8KKmmpwYWA9Z9YxOYFmnafS+yQnOklk8IjFZDLB888/j+eeew6j0eiZNZGAxXeNFkTlYzqAZyfb4N2LZXeq4XCIF198Ed/4xjdwenqabUcQBGVCdKwp9EKmcRenp6dtNGIymWA4HLZ9WDXPnmZkyYXyaED6+fk5RqMRTk5OcHZ21o73sAbaeT8ynjaWDExrm8dg94ib2jprAszy1JaMAylKKG1pbvyc8PEIvxrPJq+rrJMUTzkDSrZTEyDaNdGMppr7Syvf07baNDnRqhlaloAqGaDcCJbn3DKAS/endW2151Pe99o19whFj3FrPefe81W6fiXxwo/1OBN4/WRarf6yDbn3mqxzrq65dLLduXunJLZroPamlNrxF1tbW9je3l4aIE6zUo3HYwyHwzYy3zRNO/ibukbR9pQShsNhm54LEGrD5uYmxuNxO46Dtu/u7uKVV1556OtzBMHKCNGxxvCPQ9M0mM/nmM1mrfjgL3J6KdOYDXoh03E05SCfwxxAG8re2tpq18ng5Zyeni4NOpdjRvqiCQ653/MxlMdZ3luZ3uuplGV7jD2tvtJIygmLXLpc3bTtnvSy3rn8vceVjJSSkVRzj/W5H7vcY33EW26bJuZ4mZZY9XifS89TjYD2GMGe43ibSqJJprHyK9WnhlrR6zHMc/eRfF5LIsdbDpF718ryPWlzQjKltDTlO5/ylgQHzURFE6TQoO/j4+N2PCKNSaTvIC3qR3UdDAZtN6mdnR1sb29ja2urPXfj8Rh7e3uYz+cYDAa4vLzE5uYmptMp5vN53UkNgsAkRMeaw/vyyhc+DyefnZ3h5OQEBwcH7eBwbowMBoN2nnM5pzmAVozs7OwsjfughZS4IOFT8XrFR+7DRHTxNJfK4sflhEnOy+j9cJfEjFYnjZx4yJVfS8lbr9Wl1vD2XkOvAVvK05u+RoiVyrS88bwsub1LffvkYdHXs67Vx2OUW/XwXNtVn4/ceyL3bHjy9DgCrP3eY7V0fZ6RnJjLCRMuNPg3R5vyltbYoDGI9A2jRXHJcUY/PPounV9U3tbWFqbTKSaTCfb395dmfKRZIFNK7TduMBjgq1/9aufzFATBs4ToWHP4QkcUjuYva5rJ4+joCE+fPsXTp08xnU6XwsUU6SChQaKDtm1ubrYzY9EsIeSFmkwmSwKEPgj0N3mc5AKFOUpiwKKLZ9MyLkuCx5N3zmitMdZyHmqra4SWV633Vx5fMpS8hjU36nOCreY+0M51TuR522Dlzw1g7dx6BGCtocj/rxFEtaxC4NU84/xeKD2rsszraL923zbNswsGyvrUvqdK90ifaI1WP6tsq3xv/pQ+J9ZpP3WdIrFBk5/QdLd8UDhFL/h07nxad76mlBVh539r6bmzjSL6JGSm02n1OQmCIE+IjjXn/Pwcjx8/bgd+7+/vY2dnp42AHB8f4+2338bbb7+Np0+ftlMJSs/hxsYGZrNZu43/8I8ECRLyRNFCTNvb23j06FEb2j4+PsbR0VErPshLxb1QhGWUEtYHkj4wOWPAMtL5R5JTMqytOml5eLCMZcu41dKWzl+u/po30hudkHl4xU9JIOTqqx2rGVW5etQY7VJQ5O7NkgD1CJFcupyI0+qilSENQ47WTus5kelkHiWPuiYsPRGmWpGfEwne51S+b+S7k+eVe6fUwEWYdj6tcvgxuXzlb0vQaWXnnm2tvXRehsNh66zia2zQdLY0HoMcWNPp9JlvB1+0z8I6L03TLEVILi4u2igHOdlGoxEuLi7w9ttv4wtf+IJZRhAE3UjX4Sm6blJK+wCe3nY97hLvf//78dJLL2E0GmE8HmNjYwMHBwd4/fXX8eabb+Lg4GBpKkDyJgHPfvhpG/+fvFSaEJED/CjSQn1vT05OMJ1Ol37zrlclUcG3WdQaXvwYbb8mPmQZHmPCMnCkMWuVYaXJeUtzRrnXgOBp5TnlIq8kQKw8geVpi6Vx00XQWHXugmY48XpY23L3hNf45PnxAa9e0VK6770Cju+vKU8zbLU8Pe3RnhtZ35TKs4NJKI0sW3vvafXQ6mK1wzquts6yHpajIdcebVuuHbn0Whp+PH0naGbFR48eYW9vrzXygYXT7OTkZElkaJEMKrd0z5SEKv09GAyws7ODd73rXXjve9+Lx48ft/l/9atfxec+9zm1jQ+cR03THNx2JYL1JkTHPWFjYwPvfe978X3f931IabHY0auvvorXX3+9FRz8I6t56gjLcyzvFeraxbthUQRkZ2ennXKXjFT6wBwdHeHw8LCdDYt/WLTFr3LeWY72ocx92L3GqVWfEjnDVfOW8nRae0rl566nNPRyRoVV/5w3l/aXZtbS8q8xfjxYaax7qHRvWe2quX8A/4xSsk656+0RnSVKwiJncOeM8hzXIQxrj6mts9cBItHa2vVa1dbLK1RlmtK3wao37z5F0Yy9vT3s7+9ja2urjWaQA2o6nbaTkcixGFr5ufZoz7vVJmAxTnFvbw8vv/wyXnrpJWxsbOBzn/scfu/3fi9WItcJ0RH0JrpX3RMuLy/x6quv4uLiAh/84AdxenqKg4MDHB8ftyur8uiGxOsdk2U2zWJWrPPzc6SUcHJygsFggIODg3aAIEVDaI71nZ0d7O3t4fj4uF35nM+6ZRnrJbSPjux6lTs+ZxxoEYmSISgN9JIXjv9fU+8SOa9z7tx2Ma7437l65s6JdazM2xJFVr7WOc0Jn1LUwEMummAZRh7PMj+HXmFu0eU+KBl9lmDVjpXHlbbJ/Lu23ysktGfZ6/3PldtFFGhllMrXnpfSO8y6F61rsbm52QqNnZ0dTCaTNqpxfn6OJ0+eqF1uc2P+ZH1L71Nex5yDgb5bNAvWfD7H5z//eXzzm98MwREE10hEOu4Zw+EQL7/8Ml544QV85StfwZMnT9op/zTPqfywWB9VjvRuah8J+gjxgeh8dhIaczKfz9suWCRCzs7OllbX7UONR7Hk/S+JMUu0dBUJtXSNGNTWsWte0gCibdq9x4+3yImOmjr32V9zrbpGWvhxvC7a9pxhfJ3kBEeujlo+XtFh7feIAStfzaiV92jN/VlznOdYTx5aPrKM3P2s5WM96xTZIIfS3t4ednZ22jESNOtULqpB+Xvepbye2nmrcXSklNrF/1JKeOWVV2J63DwR6Qh6E5GOe8Z8Psfv/M7v4PHjx63xnvOE5jxX1sew5Emi3zSF7sbGRttnlwa80yxbw+FwaYDh4eEhjo+PVS9YF29mjTHt9e5pYqtUvvejT/u7Goze9vYxdHNpNY+qTM//72MU5+5b617n966MMpTIebk9Xnxevz5YbSiVfZ14IgVEbR1zz4OWF38+c4Z/KT/rmffes14B6D2uj8C1REjpWuTEBnWn5d2otre3AWBJaPBIttZ9SjrDcu2Xx8t6WXW3nhNyfH3961/PnocgCFZDiI57ipylCrC9jNJIywkOnia3n+dLXi0+fS9FPkiAkBiZTCY4PDzE0dFRO8CQPGOrMqg8RnOpvbVeNn6sx3BYteCQhqp1rfuUVfJge/OSxtIqrru8rjUio2Qw9zGorbLkPeURqTlDcxXnUYtIyfuoZOSX6lAT0fCk8eTpOdZyRlhpcwaxJcrledWiLjm062PVJydcc/mnlNrI9e7uLiaTSTsLVUoJp6enODw8XBqzR9Ozl96rWj09dbLOUem9TPdrrDYeBDdHdK+6x+zu7i51VeIGrxaq1sZ88Bd3Tnx4Iyi8LD5HOo3z2N/fx+bmJmazGY6Pj9sPGK0MK6dK5OXXRBO0NBY1UYG+nnueh8ew9xi8tdeIl18yvGu8vrm00nCo8QrzNJrxy8+rJjxqrlkpjbwfa/MuHe+ps3Zfe7zp2nWX+66Tvs+PlSch32We57/mXteEY+6ZrHmfanXp6vjgeIVgSu+s6r23t4fnnnsOk8kEo9EITdNgOp3iyZMnODg4wMnJSfZdLdtXanPuftbOY+7e16Zrz02/GywR3auC3oTouOfQ1IRA3ovqMTKkZ5PnIckZZZqXb2NjA8PhsA3T0wcNWCzqdHh4iKdPn+Lo6Gip65VFrUDK1dmqt5aHlo/Ha+016nNe5i6U8pHGu1ZHq01Wefz4HGQQeDz2HkPS2ldz/nIGuxQ0nvsld91lHt5zV2qndR/Wer4lOQPQeud42tfFoC4Z/ADMmdZqxF+ufiWHTY6SUS3PmxTf8rgu15SEBjmFJpMJHj9+jP39/bbL7NHRUftDYkPirYd8hq02aW3mx9B+rVx+/6+j7XPLhOgIehOi4wFA09oSHi9szUeyxlAplbmxsdH2E6aVamlg4tnZWbvoIB90Tmt+aHXKfZi6kPNQ5rzzdIwnjWWsyI8lFwI1HtWcUUppajz6Ml2N0VhjSMs2dREQNefDk95jaFv5aMdo27XzJw0qz3UqbfO8D1bxvbCuAXcieEWp51616lAjOmru977UCnOeRv6dS6c5nah9fMpb+qEJQCgCTTNRzefz1gmk1SPnrKipmwW/Dvx4rS78fgmq6NdnnAAAIABJREFUCdER9CZExwOBujPVGOAeQ6ZkbFuGc64cqistNkiDzGml9fPz86VVz4+PjzGbzZYWHPS2aZVGQ63xqtWHb6sRcrWGtqd+3jSl+q7SYOV5dsmv7/UueedLz1fJc91FsNSKjlIaC68BSMd2uUa19eJipVZ0dH0mSqKjVgSVnhuZZ87x4UXeb/TOpRW69/f3n1nIjwaHyzWWrJkGtWchJ3g9ToTc/aw9RzJdiI5ehOgIehMDyR8I1E1lFR/m6/TsNU3TeszklLpnZ2ftgoPb29sYDofY3d1dCu/zrlfaB8ZjEFgfQI9Q4N5Xuc1DFwM9Z7Rct+Coya+LR5rSy3RdDYe+7Vr1vV+ii2j37CuJGsuQ1o7V8utyfbqe267p+t6PufpogqRUXhenRV9oFipaS4mcO5PJpF3M7/T0dGlac5qkREY2tPZ4qX0/ds0rBEcQ3C4R6XhgDAaDZ7oVdIl4dPU05/LIfYxpLnge9RiPxxgOh+1K58fHx0tTNJ6fn7ezXnkMhVLb5DatiwgdZ3XHqKWrYURpSoLEmw+vS5e8Sh7pXB7aeb+tCFWuTrS9q1FpeYZznnTZnYQLXa2etXXSysxtr4mkroKuz1ZtPS0h4S3L+66z6rhKUkpL0WTqykpdqGgsHY3ZoK6ss9msXWi2z3X2itqmyS/uqqWXDiyZdwwa70VEOoLehOh4gPDB5YQ0unNI48YyJvk+vt8TQZEfNfoA0YBz8sxRf2PyytGsV/SxPD09dYmPXNlyu2ZAlIxNK99VPH+57h6WgcqRabTj5LXTjM2SyNHuE48RJ8+7db5zEYFc9w3teO04rZuHLLcvNUatZlh5xLN1/aw6lIQvPZv0d0mca2Vo+3PptfuOCwOZTrYzd15yAsHzPPG8rHZ52t7VsaMZ9LSNi42dnR3s7+/j0aNH2N7ebruuTqdTHB0d4eDgoH1/8vWSrGcwd3/k6rgKwZh799G+dbR17hghOoLehOh4oAwGA/OD4THEagyjUl7etPxDR9664XCInZ2dJU8diaqTk5N2xivqekVrfnjq5PkwanWsaZs0lLxYQqHG0166NpZRUVtX2UZtAK/X2JaCVxN/WtkeA9F77nLH8X25uubS8DK1Y+R+7/WwhKLcpxlvJSO5i/CqMaqtMqQI4NtKeVnt1/K2yqzF46woGelaPrn0fNVwmphjMplgf3+/jRRTlJiiGqenp7i8vGzflZ77X7sGmkjzOD7of6tbsPdZouMiwrESQnQEvQnR8UCxoh2WccOnLpVGS1+PnCetJQC4+KCuAiRCtra2sLm5ubQoIX1cuQfPylfbzvdZ9bcMe+tD3cVQrqVkWHu80/y4GoNLK5unl4ZFnzZ7xKGn7qs89x5y9wHQ3bAnvGKTlyn/9uYr9/ept4Un31zdSyKj9vqXBHrX92ONuJBpefcpWgOJxsQBi+5TBwcHODw8xOnp6TPj4WQ51vdBHmNt08SA9b3hx1jXIifYZP3X0c65g4ToCHoTouMBQ+M7PJ5WTo0BlzO2+TG0TX6MZFk5LywNiqTuV6PR6JnoBwmQw8PDtvsVRT/4Cu4l49Vqp9d49+Cph8fjl8P6cOdEQI0h6TGcuximmpEnjYuSh9oroLR7jtKVxIJnu6x/zbmQ912NOLDERa0wKxn3fUVHzrgsRSY877ObIvdusO5NC02QkNAYDoftoHCKAJPQoJn/+Bg4moWqJAZybcoJIi46vALAehb4u0l23dXyDsGxUkJ0BL2J2aseMPTS5oP1coaz5UXSjuFYXkDteEtYWOXz42hGlfPzc5ydneH09BSz2awd/zEajdoZr2hl3ZOTk7Y7AQ2UJAGiYdVNUutZt8qq3aedv5yn0MqjK10E2yqMQcv4KXmLS9epZLBoRo7c7n02PNfbqn/pHFr3RZe8rLxXQSlCwI1Oj8CvEVGeuuSiIPJadjmPtcfTD011S5He7e3t9n0HoJ2BiiIauchGzkmUE4BWHUuOnFzaXD1ydbDunyAIbpcQHQ+YpmmeGdxbG/UoYRl9pQ8Vr2MOTQRI8UFdr/jsV1x87O7uYjab4fT0tJ39Snr/SkZ7zmDr6r327isZk30pGe6yLrn/V2Wges5zqSyvV1mWYZVfk4eMAGn7ZZl9yRngNZGNmnqVIhES7f3T934uCdFaPI4G/lu+G0rXu0RKaWldDVrPaDKZtLP60bgpWs9oOp1iOp1iPp9jPp8vDQynPHNRDi64tPpoUReZvobcNZJ1yT1HQRDcLaJ7VQBgeYxHjejoE4K3Piw5j7P1MdMMFf7xpI80CRBa7Zx3vbq8vGxnbplOp23kg2a/ssZ/lOpstc/yjFofVYuc0WJdS+9zvyrj1yOWvFD9NeO85ImW+fDtpXsrd6ysg7feufvXk6dWX2/9uhi7lmFaKxDkucg5JnJtqSlTS79qZ0Dt+6wGEhskNMiJQpENepdRF9KTk5P2XcYX8rPekTXtLbWli6D35Mu3a+eb/o+B49dCdK8KehOiI2jRBpcT3u4M1nbLqLCMq5wnm6fPGe5anSg9zeYyHo+X+j8Ph0M0TYPZbNb2e6buV9rgc62s3LnRjMwuRpN17mqiU7kIiZYf/U3d8TQhU/KEljyqVv3kvVGKYFiio4/I4fnQ9tLxJVGRM6B4fha5+8C6Jn09/bIcmbcsv5QPpcvVT+ZXe2/X3D8a2jWV+619Wn1L50eej42NjWciGru7uxiNRtjY2MDl5SWOj4+X1tSg2fqshVJL95VFF+GlXb/cPZp7l8s85P4QHNdGiI6gNyE6giUGgwEA2wgofexzxnQfg7uUl/aBKn3Yad0Pbe2PnZ0dDIdDpJSWZr+i6XdlBCTXNs+584iFVRrTuTp1Nc6vE49o5fstT3zXsrX7y3MfW/eFJhCliC7lre3PGXI5ckIpV49V3iurEENElygG1aG2HCL3jvLcj3w/j2iMx+NWZOzv72NzcxOXl5ft2IzT09O2CxUfo8F/PCIt1wa+zyNIcmLKEhGeY3kaLZ91tGfWiBAdQW9CdATPsLGxsRRR4Hg/yk3zzoJhXdGERe4jmjNAc54zamtKaelDTz+j0aid/aVpmrbrwsnJSTv97tnZWdtPWtbfqlvJ0JHtLLWfn/PrfK5z59EbgdA8/DlvZwnLo6+VVWNglgSFNw9evmZ8agKmdD5zwp7n6alzyeueM/5qxHWuDjeBR9SV7kdvxEC7x63/U0pLYzRIZNAUtxSFns/nrciYzWZtRCPX/dMSzNJI9zhFcu23RDNPZwkvWcfScxeC41YI0RH0JkRHoEIRAE6Nx1VL5zEuuxokOU90rmy5L6XlQZo0BoTEx/b2NgaDAZpmMWB9Pp+3g89pADpFQGggOuVd8vDljCHN4PGKMS/yPGh1lGXXeEL7erIpf75mjFb3EjVGo1cAyGMso65kTGn1qRFltUI2ZxR6qC2vtL1UVl+xkhN5pbIsx0UpgiHh9xQfZ0ZODprgYnNzs33P0EQX1HXq/PxcHWum1WNVEaSSwPSUYQm3mjK1v9fRjllDQnQEvQnREaiQ8Z37yJc+wKV0WtquXugaD6TXgJTdr2ihra2trdb7SMKMumBR1IM8kDwCIj+OnjqUjl2lx7hGdOTqcl2ig6Dr7vXAr6Ic+j93f2qig9LxbSXRIfPvcl08xnTtcytJKT0z+10fugiyLvnlIhC59DmDueadwiMa5MgYj8fte4XGaMzn81ZsUISDnBr8XryOb7j3PvGKLM3h4rmXS/tCcNwoITqC3sSUuYEKedhojAew/MHp6hn1hPC1NNaH3kpb88G0DBPeXYo++tPpdGnxQTIY6IcW35KeSeoCUZoFS9ah5Gm32lDrmc+dn1yeuUhOKW1fEeIpzxOpWJXXvSQMayJSmtCwyugqsLzPcO6YklPCK5Y1gSb3lbzsfSMq8ljt/NSKcPrhC5fycRq0ngY5N2icBo0dI5FBUQ3LyK5tJ6+fzJNv95zTrt+BUj6eqEgIjiBYLyLSERSxBpcDfg+kFsWo9bp6DFtOScRIo7QE/1AOBoO2awRf/4O6RVAXrLOzs9aAoAUIeResUvTDa/B4z79lLFuiRTtHN/XOqBVa3EjJtYenrfWgS0OoRnxbkQEZFcl553maXP15lCbnZbbK7BJZWAU10QlP3eSx8hqUnBk8j1wamZ5HNUhk0DuCRzYoosEHhJOjwtN1SrbRc39qYlwTHaVZoOQ7otaJUDo29+wDMUvVLRCRjqA3IToCF4PBYMnrmjOOJZpHvRRl0PKoFR1WXlo9SoajZsTy3zSlJZ+GVy7UxefPp8W6+Cro9BHVjIBSe7oYYB6hp5VhnTPLM7mKKALPi8Z05ESJVa8ar/4q2qN5lbU23eR7uG90Q+7XnAe1jgP5LMo8avLV8uJpa6IXNY4MORZse3sbk8kEk8mkFRkpJVxcXODs7AzHx8c4PDxsu09RREObDY/XWztPVpu63qtae3PbPQLCm74kNuT7MbgxQnQEvQnREbjhXa0AdJqdyvrwS6yPXck7mTOkpbFsiSHr49g0+Rm5pIdzOBxiOBy2g0NpPAjlcXZ21s5+xSMhXISUPsZaW2uNZGkYe8qyoiYlagxUrVyeh4xc5OpeY0TX4okcWOmAZ7tfrapeVvo+10DiFX5yn1Wmdk74dm/5uTxrvnm5d0RK+oxT5HCgcV98vBf/oYinnPXOalfXiEIO7/su986V+7Vn06pvrk18wgie3zraLPeEEB1Bb0J0BFXwweXyN1HzccwZJjljScvHK0ZydajxREsxJOtI54oPRKexIBQN4auh01gQioJwDyh1xZJCxDpHHjFVI0Y858NDVwPdixWZqPXE1qZfBZbHt1Sv2nPoFfyrzNN7vLbd285cnl2RzziPZPAVweXUtufn561TgRwKcm0f+Sxrbbbq420Tfxdrs75ZabqUJ8UGT2/lUYquRITjThGiI+hNiI6gGk14cGqNSisi4RUdNUZhKSJiGe0aNcYZDRTlnlG+DshwOGy7sDVNszT7Fc3HT1EQzTua8wJK0ZGrt+ZZ9ESaavF4P/scvwo854zXy1sPLY3HCLeEuFavLudE81DfNCXRwbd50na9V3kkg55ZPnkErd1DQuPy8rLtHsUX7SOxwSOXHjGRu981A72rAPVEqmrPoebwyB2bc1Lx52QdbZV7RoiOoDchOoJq6ANhCQ+PcUv7eR6ah9pbn66iI/cBL9XFY5RahhLNZkOGDBkxJEB4BIQbMlJ8aJ7TWu8p7dOMjOswQL3eT1kv2nddRnEXQdXXUC+Jiq7p+oiO2n21dM3LG8Eq3V/W8Sm90zWSd4/kkcnRaLQ0VTawiGrQOj28iySPUHrKr61vn+uRu189wqeUb9/juBgPwXFnCNER9CZER9AZbeVyaQjljHdpGMkP4XV4Wkt5WnWSaWVdvSJGM1L5GBA50w1fD6RpmrZ/OE3JS9GQs7OzpSiIFfnweE9LdDFopcAs1Um7F0rGfSkaIo+tSW/lKdPQdbLa4clPo4+hXht51NL3EWS5+nTJK/eM1uQHYGktHpppSnaBpEHgg8GgXRCUnj/5LMqxWLm2WhEuj0iR91iunNL56nIuVxFVykVT+LO+jjbKPSVER9CbEB1Bb/jYBeBZY7uL95bweHC7eJlrP8Le6I2F9eGXXjwy8DQv6/b2NnZ3dzEcDpFSaqMgZPQcHR2pnlbubc09732iTbk8rHPQBc/59xphsq78Gltis0+9avBECb3lyXZdh5j31K3vOZLCQ26Tx9Jx/D1EP3JsBh+fsbu7i83NzTYPPj6Dpr/OTfggxbXlkPA4LLT2dME6R6XtNU6X0vUuORek0FhH2+SeE6Ij6E2IjmAlWFEPy8ixBIbmPbYiKfz3qg3DGmPPY8jl2suP4T8E7+5Bc/xzMbK1tYXhcIiNjY1WhNDc/zQ9L/fE8kHpWtty56OP4VjjdbcEmravFC2recd5j/cYu7XkPL/WMyT3leovy6gxGiVdoy9d8tDeC6V8gXciGZubm+1YKj74m54lOu7y8rKdzlbrMqWNzeBiRpafa7NskyaUvNzEd7xr1KskEK13YHDnCNER9CZER7AyKNrh+fiWRIU8hvb18aR7Ppp9DSmt/JJHURNS2t90fmW/c+oSQtN1Ur9zWqBQGxPCFyrkK6XztUIsg0hrp2Uwe6+HTJdLw/vTS4OlZJznvK85cZy7t/g+z/0jjU4PVhRKLjZoRQO8daulVshb7bbEowfu8JCTNZBIp+eCxk5RXejZoGeCiwy+bobWVn4PyW51uftQIycyPec4d/5qHDKyDqXrYDkCrG1WmRHhWAtCdAS9CdERrBT68NPf9LvWQ+4xcuX2mg9tzuj0GKa1HlfLwLTK0D6+0mCThhbNpsN/qJsWiRAyVC8uLlrRwX/P5/OlsSFy1fRSNKTW2Fkltca/TLMKakSHN13u3iml6XJOasrRyqU0Jc92lygU/5FjoeiHiwu+Lk7TNLi4uFhaN4OPh5Izw3GvOxfHmujI1bkkNuQ7bNXPTU6MW2LB++x0qYf2XqPf62iPPCBCdAS9CdERrBxNePB9QP3H1SMuPAavFECasa/VNXdMTqRYbciR++jLSASHR0B4n3UyxGhQOhcglBcZY9zzSwYZjQ3hBllusLrW3j7G1CojA10N3lpy3vxaQVQrOiyhXiuYu1JyMHhEGf2mHx7Zo3uYiw0e3aPngN/X8/m8FRcU7ZOL85XWzbDOp6dNJTzXptZxY6XXyi2VnauLJxqitY/nkTv3wZ0hREfQm83brkBw/+AGYt8PZZe0pW4I2t+e/3NGh9zexTNslcv3y24cHOoiNZ/Pl47nRhr/oXEh/G8qn48NIYONBIlc5MxauJDyyrVNGtXSmLEM9xKaEFzFvajVvbStT/5d6tG3Dqs6T6UIAP+b36858cx/cwFC5dE9SVEMvlYGv2/Pz8+fEc1aZEirL2+fdmzpvSGPkeXkhI8lMnNRWa1OMq33PpZRn1KdPXlEhCMIHg4hOoJr4fLycinaIT/wZDznvOG1kYPayIn1wc3h8UTyuuS8zjWee+kl5+JDE1L0IacZruha5MaEyK4p4/G4rR9fL4SMOdktRU7Zy39LI0M7J12RxotmbNVca0sA8W0Sz7X0ilTPfW+J59x9lRMmvK08spSrtzR2c+2Tf/MZ7/hgb94tkP6myRJo6miqH92TNA6D35OaOObjX/jzpLVXu18955i3MXc/es6/lbclxnMOiZIwsN7FmjCT+XkEh7z36GdjYwOz2UxNHwTB/SO6VwXXytbWVmsgENJTlvMMSpEisT6mJcPA+nDL8r3l8XReT2eubjydNOykIU1/y498qT38w0+/SYhw4cH7y/MuLCQqqFsW9yrLtUPkYHXeTUwTBCWBUHNdc9tLlISxVi9qk5xCupTGWwePeCoJD885KhnClledb9OEhRx/JO83q/sfj17wCRHo/uNdpWT9ZJ20upciG7Xwe5uXWSsqa8u08tSOSenZyQisfEv7c9soPR/oPxwO8fbbb9uNCe4a0b0q6E2IjuBGIM86fYi1j1hXoxB4NnLiEQaaISDzrY1EeMgJJVl3r/c853WUU+NqbZUGFzcWtW4u8keOFSGBwSMgZDDSNtnlRa55ILtr1RrvpXPniRDk7o8unnDpVa+ppyUItPbI8krllDzX1rPKRSsfT8GFBI9gjEajpYkNACxFxPi4C36P8HuFr/StiW2rnlIElI4p4RURpTxy94l1vHWveust87HakhOnlgjV7kl6d4zHY0ynU0yn02I9gztHiI6gNyE6ghtjc3MTk8mknY7SE+GwPsjaMTXGn0VtdGQVeI28kqFqPcuWUVYysDUhonmuyaDY3NxsPdU0axB1ieGrqpOByT3UXJyQUUnjSORgXzmzkGYsWxEh2V5peNVEq3LnzitaS+LXyssrqkvkni9+zeUgbRKhfKwQvw+0CQuoXrSqNx/gzccLyW5RdL9IgUH55Qxxq61dvPrWdbCeI/m3ls7zzuLlauk894+Wn+ees+quHSvz4VGN3d1dPHr0CK+88gqOj487R3KCWyVER9CbGNMR3BjUReL555/H8fFxu0aENBy5J5J/0GoMOs1wzlFrtEh4vb0e0JJ3PbfNMjpy5WhllrypOc8x/bYG//Lf3BjlxisJFA7vtsVn1SKDlUdG+I8UJfw35SvbyNuitbN0PnPH1wrUmnuvVJ52nei3HN/Dr6EmLuj60XZ+bXmkg99TJBr59aJJB7jApGvH/+bXjigZqV0cAjmxnyvPMuI1rDpp954WZck5Akp1k+fPe99q271tpPthc3OzXeV9d3cX+/v7+PKXv4yTk5MQHEHwgAnREdwYTdO0U1U+//zz7QBQboB48uB/rzLyYEUTSl5FWY+cgWh99EtCKufNLNVHy4sfV4qgaFEDLkjIQOSecRkR4VER7iWXXnEydlNKbRcdbeV03n2LhIYUH5oYsSIlVuREi6Jo/0s0469kqObOPT+vfJ8WlZDXQP6W55lHJOhayGsnIxaEdg1kBCN3Xaxznzuf1jmyjvWm42lL9agxnL3Ha5GMmrrL51SrOz82l6fldLDqwsXGeDxuV33f3d3Fzs4O3njjDTx58uSZZzkIgodFiI7gRmmaBm+88QZefPFFTCYTnJycYDqd4uTkZKnbFf/gcePNY2BbH+qc4eI1Ivp6XD2eRUsIeL2SXq9ozhiSERGvZ51fI01EamIkFx0hDzsXJdSNhwazk+deDk6XBjH98HtM/k/brPVIPIKE6uIVgfIcSjFB0Pni55GLARIWXDQA74yn4sfL31q0gkccuMjjQoImDOBCQq7pIs8TP9eaoas9C15xLs+jdmxJ+Ofo4uSojajURFm0ennaUSpXExzae0mKjZ2dHezt7WEymWBnZwfD4RDT6RRf+tKXinUKguD+E2M6glvjQx/6ELa2tjCdTnF6eoqjo6P27/l83na18FLyEFpRjNxHvMvzkSvbMg54ebmpL0vkvLzSuLPq6M0v1warbhqaxx54dnpf3iWLRAj/n++n47kxnROc/LxbooOO5R56+XeurTmDVRr9vAuUtZ8LC37uSEzI54euO2+XJia039pgf5mXPKf879J978V6vun6cTTBIv/WnBhWvT3IfEqODu97SqbRrquWryWwtLJkftZ5A94Zr0HRSBqzQYKDut49ffoUv/mbv6m2P1g7YkxH0JsQHcGt823f9m343u/9XpyenuLw8BAHBwfPRD8sr3nOkAXqDAePF9VbTu65Khk7HoOh9NzWtlmm9XSDqDlPOdFV8m5rZXKPP/fUy+5D/DcZ45bXn68DQXlzY5/vkwauhmYEy7YTufNNhj6l4wJHi97wcRL0P6WR4yZ4l6fcoG0emfAYrhLr2aoR97nnQbt/KI11n2rvj9L7omTEl/Cmr4m6lCIjWjmWMCk5GTY2NjAcDtuxGpPJpO1CRWLj8vISn/nMZ/DKK68U2xCsFSE6gt6E6AhunZQSHj16hB/6oR9C0yzGfVC3q+Pj4zYCQn3EuWc1Z6BaZXFqPdJdyHkuu3bt8EZ0cnlox1r1qTFMZLpcF5lcOTlDSUsr93EDmf8vowWEFhXJbePp5fXQzonsBsbbZUWZtDEoMqIif+Txsgz5W27T2pAT+Nb9kLvOufxk3lqeVv2s+zt3L9WWr13rLu2rFUR8u7yGUgzWftdlfvK5oAkftre3sb+/j8ePH2N3d7edCjmlhPl8jul0is9+9rM4PDysrkNw5wnREfQmREdwJ9jY2MBzzz2HH/iBH8Dm5mKoEc3bT+Lj8PAQ0+m0ncNfdu3wGBFez6KMRniNJCsPXoYlPKw6acZVjVjKGV48T8+58URYSgYT5cPL7Xtuc/vktcxdV0s0aP9rXn/eNv6/zMMSGdY1yt1HWkRCa1PufFnbPAJWLvzpzafmuc2Vz/OTQqCr6Mg9XyWBIYWuV6zVkHMWWPeeJdi0+nGhQWM1KKKxt7eH8Xjcjqk6OzvD8fExDg4O8LWvfQ2Hh4cxYPx+EqIj6E2IjuBO8fLLL2MwGOA973kPJpNJ289+Npu14oPGfdAKxTL6AZQ9o0TXiIlVhtzvfb48Br/Hk5mLZGht9LQ5ZzTJ/y1DnJcv03tEjxQL2n5ZjpVnzmj34r1e3utXI6JKWCLKMlStMrV6aulqREeNWC7Vjf72CrLSfV8SCTkhmTu3fb6xJcFaehZK9xQ/lo+honEa1I1qe3sb29vb7fo7l5eXOD09bZ1Bb731Fk5PT2OF8ftNiI6gNyE6gjvJ+973PrzwwguYTCYYj8ftwNjZbNYKEDnzlVzR2nNv9/E2AroXvaaLh8xLq59VnlUfLW3JG5ujdB5l9MJzTng6PnBeHl+KmGjUpC15oq08u0RnrHysMkv5dBG0pXS5+6HGSLeiMJ48cxMp1NyruXOdu8dKjgqrTtazagk+77Ot5eGN3JTuETmdNUU2aG2N7e1tjEajdrzTxcVFu6L44eFhOwbv6dP4HD8AQnQEvQnREdxZHj9+jG/91m/F/v4+9vb2sLOzg83NTTTNYuE4Eh9HR0c4Pj5uIx/edT80zzyf6nQV5Iz9Ujpez1Jaj0ffm9YyyHJecxlZyImOkuFdgkcytO1dIhhWFKhGlEnBlStLpi/VWYv2aPdFSTDwY73iNVevUnrrOsl8S8LIe4/UinSt3l3FpCUYamajK4ngUjRQ+1vLO6XUDgofjUZtFyrejYo7e+bzeTvD4JMnT3BwcNC+cz3rKwX3ghAdQW9CdAR3msFggMlkgv39fXzLt3wLJpNJG+anaRnPzs5wcnKC4+Pjpd8nJyft2I+cxzVnTHOsrgtdRUpK78wS5fWo5jynsq5ynyfyYe3P5cX/rzG6c6KoJlphXQfPObXOY05w1HqUNQ97TQSn5BXXBIgHjyi17pHc/cYjWLLrFTfCS/dw1+eqaxRM1rPP850T3aWohPf+8kSRJ+pHAAAfQ0lEQVQ7pGMlpdROKz0ejzGZTPDo0aM2oszXv6EJPfhkHvT7/Py88owE94AQHUFvQnQEawN54rhHjvoa8/A/fSwPDw/bMSB86l0yKLzGQImcsUiRE8vw5GVqQqDUzaSmK0htt5FcmZaB5BENtL1LhEOWY9XPSu9JZxn0Wj00ruOdKu8TrR6Wp13DEno1x/M03uibBx4xKl0v7bxQGhI4st4lYeyNJlh0fSZryy49e/z35uYmRqNRu1I4f38OBgMAaBd6pHemtm5S8KAJ0RH0JkRHsDaQMUKLUo3H41Z07O7uYjQaYWtrC8PhsJ0vfjab4fT0tO2HTF2waBVlOQbEMmBKBpnHc1obPSidi1KaklHqMYi6eNE97ejafabkBc5FYnJlWNc9V4aVf+68WfcB90iXzrf3fsndc5RP6X60/s6VWVNnS5Dn8stFxmQaLSomIzae6JL2f6msLs+1RY1I5wPC6T25v7/fviOHwyFSSjg/P28n5KAfel/SGDnuoAkePCE6gt6E6AjWEvlhHY1Gbd/k8XiMra2tdgAkRRxovAd9WKn7FXnxct2wSoaQhuVppb81g8tDbZqckWx1yagt2+uF1eph5atFgEqGnWYkl9qktc3Kw2P45QSKZbzL+8G6Lt7ycx5zi5I4rsErKnPXKHcPla5LTYTNimbVnoOSULlO6F3I34fcKbO1tQUAOD8/x9nZWSsyaP0jGgfHF4oMAkGIjqA3m7ddgSDoAl+JmT6i9MHlH93xeNyKj8Fg0P6/s7PTzoQ1m81wdnb2TBcsAM/87tplhMONaW9Xj1qPbg7ZJit/rS41HlcrfWmbrFMO7ZhS5Mo6h6Xycu22zktO3Gn/W+dDuw+90QcPJYFWe929EZtS1MTT3YjXuSZiVoqI1HKTEQ26V1J6Z0A4vdso4kvT225sbCxNM06RDHrv0bs0CILguolIR3DvSKwLlhYFoS4GwMLzx7sZ0MeYxIe2ujOVQXTxiGpoRpDWZcfbJcRb11xXIKvOlEaLMMg0VpTCg2y3xzPubWNNZKlkDJbamItgWPW0ypB5lo6zyqlJy8+/RyiU7lHPvVC6Tn0EVy5CZh1fc15lG/nf2nOt1UXLmwsNPs3taDTCZDLBaDRq0/PFVY+OjpZm94vxGUEHItIR9CZER3Dv4d5AvsIufaRJgDRN0w5CJwHCP9Ky+xXHYwB7u4BYhgvfXxvlsIyqkvG5isiO10jV9lltL3nPr6Nri9c47II3z5quU1qePPKjnV+NlFJ2KmnNwJbpLbzXtzaqw9unRbu0/3k6Kz/vfSWPoW6W1j1ttYGnT2kxIJyPZyNHyubmotMCiQyavY/eZefn5yt/HoIHR4iOoDchOoIHB0VCSIDwDzjNhAW80/9ZWwGdGw+5bhl9jN9cWk+kJWfAEdoaAjXREo/Htks3IMszbJVfyountQSOtk07h6Xr4u0iYxm/VvusenvvBeuYnBFsnQMvlnjwiCd+XpqmWTLcveRER66+8lrIOnvy8txrOUHEF+6jiO1kMmmntyUxOJvNcHR01M7WN5vNIpoRXAchOoLehOgIHjT0ceczvdB0kjQgnYwdS4BcXFy0H3jNcLTK7XNMzpjxRlSsvEpGWUmUeNLVtj1nDObykGXVisCuorFGdMjjuxrVVtmWEe+pb0kcWKKodN6065e7pl3uSe/+vscTljj1RE/ofxIa1CWUBoJTRHZjY6Mdw0Yz8p2cnLRRWW/0Kgg6EKIj6E2IjiDAcn9pmtOe/9BYEBIgfCwIdcni3bBKCxLKsjne7iPy+BrPsZUH/1/Lj7bx7jZdPOAlIVAywq2uQ7XvMxmNKUWqrCiAdnzJ+Jf5aKxC8KziHW/VPRd98ZwfbZ/nXHjaWDL2rWNqo3IeAazlT+8bWqxPrg6+tbWFwWCApmlwfn6O2WzWLnwqnR4hNoIbIERH0JuYvSoIsOz9pVmxTk9PW2OAumKRCKFBnPv7+7i4uGin4qU1QGgKSmsweq77UK3Rw9vA01v7Pdut+lBdc6Kgxmu+ii47Vj2stDmB5TFUrXp0NfZrPfs11LRF3p+lNF3Lt/b1jfAA9RGmVURAPFE+/rc2CJwEx3A4bBfrm8/n7ZS2FF2Vzo0QGkEQrBMhOoJA0DRN22Xq7Oys7X5FRgKJD24w0JgQioCQ+KD+1VKAUDnc2Kv1gHfZR+REjpXWqqs3SqLlZf3fBelh96bhaakutC3nXbfK99bTixU9saIzcnvpennL90TStHu7Szc3z3m3xLpWd096rewSJfFNP/wdQgKDvz8Gg0FbVxIbPKLB1xMKgiBYV6J7VRBUQN0haAzI1tZWuyL69vb2kqfy4uJiaW58PhOWjIBoaAa+1zjXPPelLjKWkarVy2OAy/y9aa38NAPWMvpk+2vKtYzkUv08+Xm6X2npLVGaqzM/TqtDLpqh1bPUDalPdym+jSY38EagrDxLgqDvt89yEpDI4FEN2VVza2vrmQkrKJJBYzXoXbGO3+jgXhLdq4LehOgIgo5wA4N3weKzYY1GIwwGg6UuWHJxLk2A0JiJnCHKqTnOIzq0tFoelnc35/H2UuOh52VY0ZguYofn762zdbwWmbAM+S5lyvKtKIjEOpbvy5Vj3Q8bGxtLi86V7llutMsyrLqX6qAdq9XBk7aUJ49mUFSUBoLv7OxgOBy2dZ3NZphOp8+M0YhoRnCHCdER9CZERxCsAO6Rld0odnZ2lmag4R5OHgWhrli5Ptsej3fOkNXSdTFutfwtwz4lfZ0Hb5cdq0yPQW2VpRmpNEmAJz8POeO5JoqS6wIk87bOtUxniYmaOuTQBJYUhqX8S9GsUn2tOnjyKXW74pEMcjjQbFMUyaCF+s7PzzGfz9tnnSIZ9LzH2IxgTQjREfQmREcQXANktPCuWHJ1dFoThGaouby8bI2Tk5MTdUC6JURq61XqdpTbzvPxUmMs5sr3lFETHeHHaem6tteqn7YuCuVfEk0aWmSk1N3JSu8t1xtBIgGUS18qq1SeFeHoE7ng6XlZ2rgMciqMx+N2uls+EQV1l9Km2F7Hb2/woAnREfQmREcQXDNaH2/yhPIBpdQtg4y1i4uL1ktKA9O1FdI1w45TMjSt/u6e7lVecsahFb2pLd+TpqZvvxZFkPWvgURHroxS/la3Ji29x8vvuY6yq5zMy7qGXNjKOpe6mWl0FUi1UQ16TvnifHxcBq0Avrm5uTSFNo3L4M8rX6ivNIYrCO44ITqC3sTsVUFwzTRNs9RPm8Z2nJycLE3JSwKE/ueLhJH3lM+MxaMgWiTEMrC9Bl6uu1QtWn65fLpGFmoFUU5wlLp2eUSMV0x56+2JEvTJyxIP3jqUhJklAuQ5rRF4lpApQWn4D0Ul6bkkBwFFKmmSCABLzyNfoE+LTgZBEAQhOoLgxiERcnFxgdls1nbb4N2wqF84/eZjQZqmWYqAcONHdt+gSIjl/SZWGdUoser8eL5WlzHZrcxbR278dhkHoNVPo7YbV19vuRR/vH21YrM2YtGlbrxelqjzdM+i/ymaQc8df/a0yCPlTw4DEhh8bZ4QGUEQBHlCdATBLUOGCo3n4ANU5VgQGqxKa4PwPuSUnq8NQtt5FEQa0N6+9HJbDTmD1uuVL9WhVjhZnn7PNi+eOmtRitqxF962aMdY3dtqyvcemxNeJAbkQPicsLCiejydjGTwNXesxflI2POF+WjwNwmMWKAvCIKgjhjTEQRrAO/6wceDUB9zuZoxjQfhM2SRAKHt2mrp0kguDdT10FewyLz6lp3r4sTxjrOQx1vjKEoGtzeSkhsTo+0rlUEGOVHT5UyW7RF+l5eXz4xtke3LdZmyurRxkUFjqPgzQ88NjyJSPWhKaz67FJ/G9vz8PARG8NCJMR1Bb0J0BMEaQoYVzX5FnlqtW9ZgMMDGxkZrOFE3LOoeMpvNlrpl5Qa9lrq4dKVLNy6PoODHeLo3aZTGIawCy3D3CCFPFKiUn2d8ilZWrv1WVMuKJtW2jZ4BuT4GdUUcj8fY2dlpF+IjgUFRRZpZip4BPiYjZpcKgmcI0RH0JkRHEKwx0rvLZ9uRXbP4YNiUEjY3N9vxJRT9kLNl0TbqnuVZRd2KItR20aktI5c+Z+zSfrlNS8u96qV3Z98ITxex4xl3YR3ruXY1osPKU+tSlqs/H4PBx2HQjFJcZJO44OOf6H6mmaVogU4tipG7t4PggROiI+hNjOkIgjWG92mnAazz+Xype8nGxkZrkPFxIrSNoiVkqAFYEhtckPAuWpoQsfrYW0Z9btDwKs5LF7SoQxfhsOpISCkaI5EGf5c2lLo2lZDdvqzoiSae6d7la2Pwe5ZPW0vrn5CAnk6nrajgEQw541uIjCAIgpsjIh1BcEepHVNQykt2ReEChAw66ppC0RDeD18TILw7Fhl8ZMzJqMhNGHirNPQtmqZpB/CvAit6YEVYaurZp+tbTjjKbdYq6FrESf7ICAbdg/yH7lnqIsW7SmlTSVN0I6avDYKVEZGOoDcR6QiCO0bOuOtqUJMXmAbMcnh/eO5R5l1W6Gc8Hj+TpxwrIr3J3ODThIi1avUqxEOui5PWbchznvsOCJfHy79X0T3NSpfLp9QlrZRW1p0EBf1N//NparWxGDRdLUU6ALSilosJOW2t7Aq4jg61IAiC+0yIjiC4Y3iNJa8QKRnCfM0QOp66ZvGB6rx7Cx+ozo1E4J2oiFxRnXfP4oJELmzoGexttd2KDGjHW8Z97fnTjtfK0kRNaSB2rq6lOmgioia9JTI0oUTd+Xi3Pilm5TgMHlGje4fE6vn5+dIaGDQDm+wi1Udc3ERULAiCIHiHEB1BsKZ4DaZaw4oMf5rlh+Deam5E8ugI/6F9JEp4v3suSuRUvmRQkjjRxo1Q/XLCq2ZGJm0/z9sacF4SLiWRoZWRq2uJUiQit40LNHlOuLjgYy20rlAyckFChODX/eTkZGniAhIWsvvexcVF1XnwEIIjCILgZokxHUEQdEIaqSmlZ/rf84XYrL76dByHdwc7Pz9XxQoXJXKaXz5IWBtTwn/LgeOayLC6HZWEQa5Lkla2PL/e9LyuWnpNUPDIBF0DHqXgP1xoyv+lcKJxFnIMEC2qx6MVclA3j1ys47cpCO4xMaYj6E1EOoLgHnOdXUg04/Di4iI7GxEXGbz7Fo+a8OP49Kej0WgpbxIXAJbGjPDuXWTMyt9k3HKhQmNLpFjh27T2879TSuYYFS2tFW3QtnFxR3nw6JMcnC0Hams/JBr4eaZ9VCbVlZ+fy8vLdsFJLi64UJSLUFqzneW61AVBEAT3hxAdQRCsjJwBqc1apIkSzbPOvfCbm5ttVAV4ZzwBn/KX14d+yzEjZERr40m4gS3Ty3ZqYiR3DiysQeVcaPDIAsGFgxbFkOMucnUgAcHPCwkLKeLkj5xGmQs77TytitIAeE+aIAiC4PoJ0REE95i7ZFiVPNrSwJZeeTn7kdbdR/Pg821UDuVPeKZSlRERuU/+L4+TYxvk8VZXKTkDlESKCTL4+cxPvP48OiSnPObiwRIUWoTouqMVpbE4nLt0zwdBEATvEKIjCO4h6+jtlYZrbvCw1qWo1J2Id9ni3bxkFIGnAbD0W4uwUH1ybZFiSoukEJao0bqTyUgMsLywI22XXZz4mBcZ6bnr3Z9ykRovd6k9QRAED4UQHUFwT/F0O5GzMeWOlfu6dGuprbMFN8C7lkMCg/9vRVvkdtont+fOMT/WGuQup4DVjH9LHFjH3wfkOZGD+bvce3dNdAdBENx3QnQEwT1EM6akQKBtOYM5l3duYHVXbsoIzHWV8uIZBO6pB/0OI3gZSxDL/7ueszjXQRAEN0uIjiB44NR0w+JRDk/aVXIbZebwiC4p7nLiYlXtWlfxIq8vv+e65reO5yEIguC+EqIjCB4gXmOsNPD5Jg276+y6dV3t0Dzyfcqxpt69Dm6yrFwZEckIgiC4H2yUDwmC4KEhxwjcVeQ4i9yUsJbn3DuN7XWjtUOOB7nu8m+ijNz/QRAEwf0lIh1BELhZRV96iy7dp7RxKrILGD/OM+Cbp9HqtMqoiGZ0ewxxORaHb+f59Ilo1aT1HGvN9CXLs67NXRa/QRAEQZkQHUEQmKza2MsZyFbZckyJTCuxxlZYgkkKFL5fi/RIMZIb8JxrX67+1vgGLV/rnJTGmGhl1lxrT5tyYsYztkVGf0KMBEEQrC8hOoIgMOkyDSml04zxnCGs7c+JhVJdrdm6PGk95Wn1lEYyz6dkIOeEUE4UaWm1+sn93nNrDYDPtYVPCyzroO3j+2uiaSE4giAI1ocQHUEQVOPxMHPj1jL6tT7+chrZVXizPQayt3uXt/sTP54b2laXLVlGKYJiCTmv2POe01VFPzz3S5frHdGOIAiC9SBERxAELqSxvIqpX0vdk25itilN5NSko7894yy0bZoo62t0a13G+mCd71UPBO9yTUNwBEEQrAdVs1ellH4mpdSIny+y/eOU0sdTSm+mlI5SSr+cUnpR5PG+lNInUkrTlNLrKaW/mVIK8RMEdxzeJabGANW60ljH1dTlOmY+6mPAcuFgjQnJzUbFRY+Wl0wnu19ZXbCuE9lO77UGYuaqIAiCh0YXY/+fAfiT7P9z9vffAvCvA/hzAJ4C+BiAXwHwLwNASmkA4BMAvgHgjwJ4D4D/EcAcwH/SoS5BENwSq440rBJvVymNXLcn2l+aicmLFuGoHaBdk8bTzUyjZixN6fiaY4IgCIL7Q6oM4/8MgB9rmub7lX2PALwB4C82TfM/X237gwD+OYAPN03zWymlHwXwvwJ4qWma166O+QkA/yWAdzVNc+asxz4WoiYIgjtCadzGqoxMT9eqkljgXcT4fk85uYhOqfxcXrmuZJ68cqziGsTYiSB40DxqmubgtisRrDddFgf8zpTS11NKX04p/UJK6X1X2z8AYAjgk3Rg0zRfBPC7AD58tenDAP4JCY4rfh3APoDvtgpMKY1SSvv0A2CvQ72DILhGrK41uS43uTEUvKuRxzgvUZodKTdbFMdqj9U1Ktd+vk+2t3RuLLT0pWuQy7MkWLR00XUqCIIgkNSKjk8D+HEAfwrAXwLw7QD+fkppD8C7AZw1TfNEpHntah+ufr+m7Ac7RuOnsYhs0M/vV9Y7CII7SGkMgGW0S4NcG88gx5/Iwd782Np68dmoZB2liNDqK9uhCSur7R4B4WkDP45+a6InohtBEATBKqga09E0za+xfz+fUvo0gK8B+PMATlZZMcHfAPBR9v8eQngEQXCFFbEozX7FjeqambJKYx804SHrlsvHylerW+64nGiwIhi1IqPrmI4gCILgYdGle1XLVVTjtwG8H4vB4VsppcfisBev9uHq94vKfrBjtHJmTdMc0A+Awz71DoJgfbCiBJ7xFlaXqtL4i1XhHXvSZfYnK79SdzVZt+tqf3SxCoIgCDi9REdKaQLgOwC8CuCzWMxC9SNs/3cBeB+AT11t+hSA70kpvcCy+QiAAwBf6FOXIAjWi5yBLPF447uMf7DqtEqDWet+1UVg5LphyfK0v7X8ao6vJaIdQRAEAaeqe1VK6WcB/CoWXapeAvBXAVwA+MWmaZ6mlH4ewEdTSm9hIST+NoBPNU3zW1dZ/AYW4uLvppR+EotxHH8dwMebppmtokFBEKwHJaO01O0J0KeOtWbP8kwZ26We1oxYfbsd1Qyez4kwbRxLl/oEQRAEQR9q1+n4FwD8IoDnsZge9x8A+FDTNG9c7f+PAFwC+GUAIyxmpvr3KHHTNBcppT8N4L/GIupxDODvAPjPerQhCIJ7SM0gZo9AKY3DoDJL+fC65abm7TMIWxNKOfHgyUurZyldiJIgCIJgVVSt03FXSLFORxAEClako2aQeG2eq1gDw0tu4Lisp1Yvr5CoFV9BENx7Yp2OoDddViQPgiC4dXLT5MrtMp13xqpcd62uWIa6x4AvjWXxrMvhLctDCI4gCILAS4iOIAjWkq4Gb+3aFaX03nrwtT261stK55m1i//fRdwEQRAEQR96zV4VBEGw7tRMM+vN76YJkRAEQRDcdUJ0BEHwoLkpg/26y9Gm5A2CIAiCu0KIjiAIHjy5Lk+rWKE7x6rXBAmCIAiCu0iIjiAIglskhEIQBEHwEFhX0bF32xUIgiAIgiB4IITdFfRmXdfpSAD+AIAvYrFg4eHt1ihYIXsAfh9xXe8bcV3vJ3Fd7ydxXe8nXa/rHoCvN+toMAZ3irWcMrdpmial9OrVv4exYM39gfVvj+t6j4jrej+J63o/iet6P+lxXeMeCFbCunavCoIgCIIgCIJgTQjREQRBEARBEATBtbLOomMG4K9e/Q7uD3Fd7ydxXe8ncV3vJ3Fd7ydxXYNbZS0HkgdBEARBEARBsD6sc6QjCIIgCIIgCII1IERHEARBEARBEATXSoiOIAiCIAiCIAiulRAdQRAEQRAEQRBcKyE6giAIgiAIgiC4VtZSdKSU/nJK6asppdOU0qdTSv/SbdcpsEkp/XBK6VdTSl9PKTUppR8T+1NK6a+llF5NKZ2klD6ZUvpOccxzKaVfSCkdpJSepJR+PqU0udmWBERK6adTSv84pXSYUno9pfT3UkrfJY4Zp5Q+nlJ6M6V0lFL65ZTSi+KY96WUPpFSml7l8zdTSps325qAk1L6Symlz189awcppU+llH6U7Y/ruuaklH7q6l38c2xbXNc1I6X0M1fXkf98ke2PaxrcKdZOdKSU/i0AH8Viruk/DOBzAH49pfTCrVYsyLGLxXX6y8b+nwTwVwD8BIAfBHCMxTUds2N+AcB3A/gIgD8N4IcB/DfXVeGgyB8D8HEAH8LimgwB/EZKaZcd87cA/BsA/tzV8S8B+BXamVIaAPgEgC0AfxTAvw3gxwH8teuvfpDh9wH8FIAPAPgggP8TwP+SUvruq/1xXdeYlNIfAfDvAvi82BXXdT35ZwDew37+FbYvrmlwt2iaZq1+AHwawMfY/xsAXgHwU7ddt/hxXb8GwI+x/xOAVwH8x2zbIwCnAP7C1f//4lW6D7Jj/hSASwAv3Xab4qcBgHddXaMfZtfwDMCfZcf8watjPnT1/48CuADwIjvmJwA8BbB1222Kn6Xr+xaAfyeu63r/AJgA+G0AfxLA/wXg5662x3Vdwx8APwPg/zH2xTWNnzv3s1aRjpTSFhbet0/StqZpLq/+//Bt1SvoxbcDeDeWr+lTLMQlXdMPA3jSNM1nWLpPYiE6fvCG6hnkeXT1+62r3x/AIvrBr+sXAfwulq/rP2ma5jWWz68D2MciqhXcMimlQUrpL2ARrfwU4rquOx8H8ImmaT4ptsd1XV++86rr8pevuiC/72p7XNPgzrFu/fa+FcAAwGti+2tYKPhg/Xj31W/tmr6bHfM639k0zXlK6S12THBLpJQ2APwcgH/YNM0/vdr8bgBnTdM8EYfL66pddyCu662SUvoeLETGGMARgD/TNM0XUkrfj7iua8mVePzDAP6Isjue1/Xk01h0h/oSFl2r/nMAfz+l9IcQ1zS4g6yb6AiC4O7xcQB/CMt9iYP15ksAvh+LCNafBfB3Ukp/7HarFHQlpfReAP8VgI80TXN62/UJVkPTNL/G/v18SunTAL4G4M8DOLmdWgWBzVp1rwLwTVz1PxTbXwTwjZuvTrAC6Lrlruk3ACxNFHA1u8ZziOt+q6SUPobFwP5/tWma32e7vgFgK6X0WCSR11W77kBc11ulaZqzpmn+v6ZpPts0zU9jMRHEf4C4ruvKB7B4h/7fKaXzlNI5FgOL/8rV368hruvacxXV+G0A70c8q8EdZK1ER9M0ZwA+C+BHaNtV144fwaIrQLB+fAWLlxu/pvtYjNWga/opAI9TSh9g6f4EFvfvp2+ongHjaprjjwH4MwD+RNM0XxGHfBbAHMvX9bsAvA/L1/V7xMxzHwFwAOAL11X3oBMbAEaI67qu/B8AvgeL6BX9fAaLWQHp77iua87VNPLfgcXkLPGsBneOdexe9VEsQv2fAfCPAPyHWAxy/O9vtVaBydWL8P1s07df9Q1/q2ma372aK/4/TSn9v1iIkP8CwNcB/D0AaJrmn6eU/ncA/21K6SewGBz3MQC/1DTN12+yLUHLxwH8RQD/JoDDlBL1/33aNM1J0zRPU0o/D+CjV2NvDgD8bQCfaprmt66O/Q0sPmx/N6X0k1j0If7rAD7eNM3sJhsTvENK6W8A+DUsBpzuYXGd/ziAfy2u63rSNM0hgH/Kt6WUjgG8SeOw4rquHymlnwXwq1h0qXoJi6UELgD8YjyrwZ3ktqfP6vID4N/H4iGbYeHp/sHbrlP8ZK/XH8dimj758z9c7U9YzAv+DSymyv0kgD8g8ngOwP8E4BCL6fz+OwCT227bQ/0xrmcD4MfZMWMsxMlbWKy98isA3i3yeRnA/wZgCuANAD8LYPO22/eQfwD8PICvXr1fX796Hj8S1/V+/YBNmRvXdT1/APwSFg66GRbr6/wSgO+Iaxo/d/UnNU3zrBIJgiAIgiAIgiBYEWs1piMIgiAIgiAIgvUjREcQBEEQBEEQBNdKiI4gCIIgCIIgCK6VEB1BEARBEARBEFwrITqCIAiCIAiCILhWQnQEQRAEQRAEQXCthOgIgiAIgiAIguBaCdERBEEQBEEQBMG1EqIjCIIgCIIgCIJrJURHEARBEARBEATXSoiOIAiCIAiCIAiulf8f8uocuRYeYp4AAAAASUVORK5CYII=\n"
                },
                "metadata": {
                  "needs_background": "light"
                }
              }
            ]
          }
        },
        "7909604e410e449095478423eaa385da": {
          "model_module": "@jupyter-widgets/base",
          "model_name": "LayoutModel",
          "model_module_version": "1.2.0",
          "state": {
            "_model_module": "@jupyter-widgets/base",
            "_model_module_version": "1.2.0",
            "_model_name": "LayoutModel",
            "_view_count": null,
            "_view_module": "@jupyter-widgets/base",
            "_view_module_version": "1.2.0",
            "_view_name": "LayoutView",
            "align_content": null,
            "align_items": null,
            "align_self": null,
            "border": null,
            "bottom": null,
            "display": null,
            "flex": null,
            "flex_flow": null,
            "grid_area": null,
            "grid_auto_columns": null,
            "grid_auto_flow": null,
            "grid_auto_rows": null,
            "grid_column": null,
            "grid_gap": null,
            "grid_row": null,
            "grid_template_areas": null,
            "grid_template_columns": null,
            "grid_template_rows": null,
            "height": null,
            "justify_content": null,
            "justify_items": null,
            "left": null,
            "margin": null,
            "max_height": null,
            "max_width": null,
            "min_height": null,
            "min_width": null,
            "object_fit": null,
            "object_position": null,
            "order": null,
            "overflow": null,
            "overflow_x": null,
            "overflow_y": null,
            "padding": null,
            "right": null,
            "top": null,
            "visibility": null,
            "width": null
          }
        },
        "74f9850263e34a08abddc8de6dc53909": {
          "model_module": "@jupyter-widgets/base",
          "model_name": "LayoutModel",
          "model_module_version": "1.2.0",
          "state": {
            "_model_module": "@jupyter-widgets/base",
            "_model_module_version": "1.2.0",
            "_model_name": "LayoutModel",
            "_view_count": null,
            "_view_module": "@jupyter-widgets/base",
            "_view_module_version": "1.2.0",
            "_view_name": "LayoutView",
            "align_content": null,
            "align_items": null,
            "align_self": null,
            "border": null,
            "bottom": null,
            "display": null,
            "flex": null,
            "flex_flow": null,
            "grid_area": null,
            "grid_auto_columns": null,
            "grid_auto_flow": null,
            "grid_auto_rows": null,
            "grid_column": null,
            "grid_gap": null,
            "grid_row": null,
            "grid_template_areas": null,
            "grid_template_columns": null,
            "grid_template_rows": null,
            "height": null,
            "justify_content": null,
            "justify_items": null,
            "left": null,
            "margin": null,
            "max_height": null,
            "max_width": null,
            "min_height": null,
            "min_width": null,
            "object_fit": null,
            "object_position": null,
            "order": null,
            "overflow": null,
            "overflow_x": null,
            "overflow_y": null,
            "padding": null,
            "right": null,
            "top": null,
            "visibility": null,
            "width": null
          }
        },
        "5594bf0cbf7946d292d97b58fd8af8c8": {
          "model_module": "@jupyter-widgets/controls",
          "model_name": "SliderStyleModel",
          "model_module_version": "1.5.0",
          "state": {
            "_model_module": "@jupyter-widgets/controls",
            "_model_module_version": "1.5.0",
            "_model_name": "SliderStyleModel",
            "_view_count": null,
            "_view_module": "@jupyter-widgets/base",
            "_view_module_version": "1.2.0",
            "_view_name": "StyleView",
            "description_width": "",
            "handle_color": null
          }
        },
        "9671a82e97cc441892747ead863eb379": {
          "model_module": "@jupyter-widgets/base",
          "model_name": "LayoutModel",
          "model_module_version": "1.2.0",
          "state": {
            "_model_module": "@jupyter-widgets/base",
            "_model_module_version": "1.2.0",
            "_model_name": "LayoutModel",
            "_view_count": null,
            "_view_module": "@jupyter-widgets/base",
            "_view_module_version": "1.2.0",
            "_view_name": "LayoutView",
            "align_content": null,
            "align_items": null,
            "align_self": null,
            "border": null,
            "bottom": null,
            "display": null,
            "flex": null,
            "flex_flow": null,
            "grid_area": null,
            "grid_auto_columns": null,
            "grid_auto_flow": null,
            "grid_auto_rows": null,
            "grid_column": null,
            "grid_gap": null,
            "grid_row": null,
            "grid_template_areas": null,
            "grid_template_columns": null,
            "grid_template_rows": null,
            "height": null,
            "justify_content": null,
            "justify_items": null,
            "left": null,
            "margin": null,
            "max_height": null,
            "max_width": null,
            "min_height": null,
            "min_width": null,
            "object_fit": null,
            "object_position": null,
            "order": null,
            "overflow": null,
            "overflow_x": null,
            "overflow_y": null,
            "padding": null,
            "right": null,
            "top": null,
            "visibility": null,
            "width": null
          }
        }
      }
    }
  },
  "cells": [
    {
      "cell_type": "markdown",
      "metadata": {
        "id": "view-in-github",
        "colab_type": "text"
      },
      "source": [
        "<a href=\"https://colab.research.google.com/github/ImagingDataCommons/IDC-Examples/blob/master/notebooks/cohort_preparation.ipynb\" target=\"_parent\"><img src=\"https://colab.research.google.com/assets/colab-badge.svg\" alt=\"Open In Colab\"/></a>"
      ]
    },
    {
      "cell_type": "markdown",
      "metadata": {
        "id": "jrA0sBb8CIdv"
      },
      "source": [
        "## **Preparing IDC Cohorts for Image Processing**\n",
        "\n",
        "This notebook is one of the examples that accompany NCI Imaging Data Commons. IDC example notebooks are located in this repository: https://github.com/ImagingDataCommons/IDC-Examples/tree/master/notebooks.\n",
        "\n",
        "In this example we show how to prepare a cohort for image processing, by converting the DICOM images into NRRD or NIfTI files. We also show how to visualise such data in a notebook, and how to convert the processing results, stored in one of the aforementioned formats, into DICOM SEG for more advanced purposes (with softwares like 3D slicer).\n",
        "\n",
        "To learn more about the [cohort definition through the IDC Portal](https://portal.imaging.datacommons.cancer.gov/) and the [cohort download](https://colab.research.google.com/github/ImagingDataCommons/IDC-Examples/blob/master/notebooks/Cohort_download.ipynb), you can refer to the [IDC User Guide](https://learn.canceridc.dev/) and the example notebooks provided with the [IDC-Examples repository](https://github.com/ImagingDataCommons/IDC-Examples)."
      ]
    },
    {
      "cell_type": "markdown",
      "metadata": {
        "id": "2tuVb1sCCjUV"
      },
      "source": [
        "---\n",
        "\n",
        "## **Init & Imports**\n",
        "\n",
        "In order to access the IDC resources, the user must complete at first the Google authentication process.\n",
        "\n",
        "To continue with the notebook, when prompted by the next code cell follow the generated link. After granting Google Cloud SDK access to the selected Google account, you will get a one-use login code. Copy the code, paste it in the blank space under the cell, and press enter to complete the authentication procedure."
      ]
    },
    {
      "cell_type": "code",
      "metadata": {
        "id": "RVxG6QvteybL"
      },
      "source": [
        "from google.colab import auth\n",
        "auth.authenticate_user()"
      ],
      "execution_count": null,
      "outputs": []
    },
    {
      "cell_type": "code",
      "metadata": {
        "colab": {
          "base_uri": "https://localhost:8080/"
        },
        "id": "A1yf7Iwq1yYs",
        "outputId": "66cf5a14-fd2c-4789-b09f-7dd523b5f239"
      },
      "source": [
        "# useful information\n",
        "\n",
        "curr_dir = !pwd\n",
        "curr_droid = !hostname\n",
        "curr_pilot = !whoami\n",
        "\n",
        "print(\"Current directory :\", curr_dir[-1])\n",
        "print(\"Hostname          :\", curr_droid[-1])\n",
        "print(\"Username          :\", curr_pilot[-1])"
      ],
      "execution_count": null,
      "outputs": [
        {
          "output_type": "stream",
          "name": "stdout",
          "text": [
            "Current directory : /content\n",
            "Hostname          : e3f10b17fa82\n",
            "Username          : root\n"
          ]
        }
      ]
    },
    {
      "cell_type": "markdown",
      "metadata": {
        "id": "jGUHf-T017MB"
      },
      "source": [
        "To proceed with the cells below you will also need to:\n",
        "* Initialize `myProjectID` in the cell below with a project ID that you can bill\n",
        "* Generate a table name `cohortBQTable` through IDC (be aware you will also need to paste this manually in the BigQuery download cell)"
      ]
    },
    {
      "cell_type": "code",
      "metadata": {
        "id": "M2tS_TUk4RkY"
      },
      "source": [
        "## INSERT YOUR OWN PROJECT-ID AND BIGQUERY TABLE NAME HERE!\n",
        "cohortBQTable = \"##COHORT_BQ_TABLE##\"\n",
        "myProjectID = \"##MY_PROJECT_ID##\""
      ],
      "execution_count": null,
      "outputs": []
    },
    {
      "cell_type": "markdown",
      "metadata": {
        "id": "B54Si4m612CF"
      },
      "source": [
        "Before continuing with the notebook, we need to set-up the Google Colab environment by installing the Python and system dependencies the pre-processing and processing pipeline rely on."
      ]
    },
    {
      "cell_type": "markdown",
      "metadata": {
        "id": "WIZYvK7F3LBC"
      },
      "source": [
        "### **Python Dependencies**\n",
        "\n",
        "Install and import all the Python dependencies.\n",
        "\n",
        "The main python packages we need to install are:\n",
        "\n",
        "* [pydicom](https://github.com/pydicom/pydicom), a Python package that lets the use read, modify, and write DICOM data in an easy \"pythonic\" way;\n",
        "* [itkwidgets](https://github.com/InsightSoftwareConsortium/itkwidgets), a Python package for interactive visualization of images, point sets, and meshes in notebook environments;\n",
        "* [SimpleITK](https://simpleitk.readthedocs.io/en/master/gettingStarted.html), a Python package which provides a simplified interface to ITK.\n",
        "\n"
      ]
    },
    {
      "cell_type": "code",
      "source": [
        "%%capture\n",
        "!pip install pyplastimatch\n",
        "!pip install ipywidgets"
      ],
      "metadata": {
        "id": "ZQ7_f_DCbpyQ"
      },
      "execution_count": null,
      "outputs": []
    },
    {
      "cell_type": "code",
      "metadata": {
        "colab": {
          "base_uri": "https://localhost:8080/"
        },
        "id": "Rq9mroMq7brf",
        "outputId": "083b907f-98ec-45b8-8684-3c51e29c836a"
      },
      "source": [
        "import os\n",
        "import sys\n",
        "import shutil\n",
        "\n",
        "import json\n",
        "import pprint\n",
        "import numpy as np\n",
        "import pandas as pd\n",
        "\n",
        "import pydicom\n",
        "import nibabel as nib\n",
        "import SimpleITK as sitk\n",
        "\n",
        "print(\"Python version               : \", sys.version.split('\\n')[0])\n",
        "print(\"Numpy version                : \", np.__version__)\n",
        "\n",
        "# ----------------------------------------\n",
        "\n",
        "#everything that has to do with plotting goes here below\n",
        "import matplotlib\n",
        "matplotlib.use(\"agg\")\n",
        "\n",
        "import matplotlib.pyplot as plt\n",
        "from matplotlib.colors import ListedColormap\n",
        "from matplotlib.patches import Patch\n",
        "\n",
        "%matplotlib inline\n",
        "%config InlineBackend.figure_format = \"png\"\n",
        "\n",
        "import ipywidgets as ipyw\n",
        "\n",
        "## ----------------------------------------\n",
        "\n",
        "# create new colormap appending the alpha channel to the selected one\n",
        "# (so that we don't get a \\\"color overlay\\\" when plotting the segmask superimposed to the CT)\n",
        "cmap = plt.cm.Reds\n",
        "my_reds = cmap(np.arange(cmap.N))\n",
        "my_reds[:, -1] = np.linspace(0, 1, cmap.N)\n",
        "my_reds = ListedColormap(my_reds)\n",
        "\n",
        "cmap = plt.cm.Greens\n",
        "my_greens = cmap(np.arange(cmap.N))\n",
        "my_greens[:, -1] = np.linspace(0, 1, cmap.N)\n",
        "my_greens = ListedColormap(my_greens)\n",
        "\n",
        "cmap = plt.cm.Blues\n",
        "my_blues = cmap(np.arange(cmap.N))\n",
        "my_blues[:, -1] = np.linspace(0, 1, cmap.N)\n",
        "my_blues = ListedColormap(my_blues)\n",
        "\n",
        "cmap = plt.cm.spring\n",
        "my_spring = cmap(np.arange(cmap.N))\n",
        "my_spring[:, -1] = np.linspace(0, 1, cmap.N)\n",
        "my_spring = ListedColormap(my_spring)\n",
        "## ----------------------------------------\n",
        "\n",
        "import seaborn as sns"
      ],
      "execution_count": null,
      "outputs": [
        {
          "output_type": "stream",
          "name": "stdout",
          "text": [
            "Python version               :  3.7.13 (default, Apr 24 2022, 01:04:09) \n",
            "Numpy version                :  1.21.6\n"
          ]
        }
      ]
    },
    {
      "cell_type": "markdown",
      "metadata": {
        "id": "IeGtChY2_big"
      },
      "source": [
        "### **System Dependencies**\n",
        "\n",
        "Install all the system dependencies. \n",
        "\n",
        "The only package we will need for this tutorial is [Plastimatch](https://plastimatch.org/index.html). Plastimatch is considered to be the swiss army knife of medical images processing: we will use it to convert DICOM (CT, RTSTRUCT) series to NRRD files - but it can be used for a multitude of other tasks, such as registration, resampling, cropping, and computing statistics to name a few. Plastimatch is also available as a 3DSlicer plug-in and can be used directly from the Slicer GUI.\n",
        "\n",
        "For the sake of clarity and simplicity, we will call Plastimatch from a very simple [Python wrapper](https://github.com/AIM-Harvard/pyplastimatch) written for the occasion (unfortunately, Plastimatch does not provide an official one) - more on this later."
      ]
    },
    {
      "cell_type": "code",
      "metadata": {
        "id": "puYrhVrI_gPl"
      },
      "source": [
        "%%capture\n",
        "!sudo apt update\n",
        "\n",
        "!sudo apt install plastimatch"
      ],
      "execution_count": null,
      "outputs": []
    },
    {
      "cell_type": "code",
      "metadata": {
        "colab": {
          "base_uri": "https://localhost:8080/"
        },
        "id": "U4eWOFB0_haP",
        "outputId": "3806a4fc-4858-4b72-bd9a-a46bc34a61f6"
      },
      "source": [
        "!echo $(plastimatch --version)"
      ],
      "execution_count": null,
      "outputs": [
        {
          "output_type": "stream",
          "name": "stdout",
          "text": [
            "plastimatch version 1.7.0\n"
          ]
        }
      ]
    },
    {
      "cell_type": "markdown",
      "metadata": {
        "id": "xC2tivti_mFP"
      },
      "source": [
        "We are also going to install subversion, a tool that will allow us to clone GitHub repositories only partially (to save time and space)."
      ]
    },
    {
      "cell_type": "code",
      "metadata": {
        "id": "VUNQaoGx_nKb"
      },
      "source": [
        "%%capture\n",
        "\n",
        "!sudo apt install subversion"
      ],
      "execution_count": null,
      "outputs": []
    },
    {
      "cell_type": "code",
      "metadata": {
        "colab": {
          "base_uri": "https://localhost:8080/"
        },
        "id": "QzHON37i_nRl",
        "outputId": "bf4e5169-b1cd-4b1f-a9af-3b97391f4457"
      },
      "source": [
        "!echo $(svn --version | head -n 2)"
      ],
      "execution_count": null,
      "outputs": [
        {
          "output_type": "stream",
          "name": "stdout",
          "text": [
            "svn, version 1.9.7 (r1800392) compiled Mar 28 2018, 08:49:13 on x86_64-pc-linux-gnu\n"
          ]
        }
      ]
    },
    {
      "cell_type": "markdown",
      "metadata": {
        "id": "6is-ni21Ac1_"
      },
      "source": [
        "---\n",
        "\n",
        "## **Cohort Download**\n",
        "\n",
        "As the Imaging Data Commons GCS buckets are \"[requester pays](https://cloud.google.com/storage/docs/requester-pays)\" buckets, it is not possible to [mount such buckets directly in Colab](https://gist.github.com/korakot/f3600576720206363c734eca5f302e38).\n",
        "\n",
        "Instead, what the users can do is to exploit the BigQuery table/manifest files associated with the dataset(s), select the cohort(s) of interest, and then download the files exploiting `gsutil`. BigQuery export of the cohort manifest is the recommended approach (see the [Cohort Download Notebook](https://colab.research.google.com/github/ImagingDataCommons/IDC-Examples/blob/master/notebooks/Cohort_download.ipynb) for a more detailed explanation).\n",
        "\n",
        "When exporting the manifest as a file, cohorts larger than 65,000 items will be exported as multiple files, and only up to 10 files for a multi-part cohort manifest can be exported. BigQuery manifest export does not have any limitations, and can be used in the same manner no matter how large or small is the cohort you want to export.\n",
        "\n",
        "**Note**: the cohort selection operation can be done through the graphic user interface at the [IDC Portal](https://portal.imaging.datacommons.cancer.gov/). If you want to learn more, please refer to the [IDC User Guide](https://learn.canceridc.dev/). A simple example is provided at the \"Cohort Download\" section of [this notebook tutorial](https://colab.research.google.com/github/ImagingDataCommons/IDC-Examples/blob/master/notebooks/lung_nodules_demo.ipynb#scrollTo=WwydG1e170xU)."
      ]
    },
    {
      "cell_type": "markdown",
      "metadata": {
        "id": "cYrLM85P5UdM"
      },
      "source": [
        "### **Downloading the Data from GCS**\n",
        "\n",
        "In the next cell, make sure to fill in the name of your GCP project and paste the query we obtained following the cells above.\n",
        "\n",
        "At the end, it should look like the following:\n",
        "\n",
        "```\n",
        "%%bigquery --project=my-gcp-project cohort_df\n",
        "\n",
        "SELECT * FROM `canceridc-user-data.user_manifests.manifest_cohort_222_20210811_071925`\n",
        "```\n",
        "\n",
        "In this tutorial, we are going to run the simple data preparation pipeline on CT scans of patients from the [Non-Small Cell Lung Cancer Radiomics (NSCLC-Radiomics)](https://wiki.cancerimagingarchive.net/display/Public/NSCLC-Radiomics) dataset.\n",
        "\n",
        "<br>\n",
        "\n",
        "If you are interested in processing cohorts with multiple modalities, or other types of data (e.g., RTDOSE data), you can still do so using the functions we provide in the Plastimatch wrapper, writing your own, or invoking Plastimatch from command line in this notebook using the `!` magic. If you seek advice for your specific use case or encounter difficulties (or bugs!) in the data preparation process, you are welcome to get in touch with us at the [IDC discussion forum](https://discourse.canceridc.dev/) - we will be happy to help!"
      ]
    },
    {
      "cell_type": "code",
      "metadata": {
        "id": "9rsNuDaMB6wO"
      },
      "source": [
        "## INSERT YOUR OWN PROJECT-ID AND BIGQUERY TABLE NAME HERE!\n",
        "%%bigquery --project=$myProjectID cohort_df\n",
        "\n",
        "SELECT * \n",
        "FROM `##COHORT_BQ_TABLE##`"
      ],
      "execution_count": null,
      "outputs": []
    },
    {
      "cell_type": "markdown",
      "metadata": {
        "id": "4DVKrlFR5mBJ"
      },
      "source": [
        "After populating the Pandas DataFrame with the result of the bigquery query, we can inspect it to make sure it looks ok.\n",
        "\n",
        "As you will see, each DICOM slice has its own entry (that's why one has to remove `LIMIT 1000` from the query to get the complete result) and a series of useful information:\n",
        "* on the dataset it belongs to - especially useful in the case multiple datasets are exported as part of an IDC cohort - such as the `collection_id` and the `source_DOI`;\n",
        "* on the patient, study, and series it belongs to, such as the `PatientID`, `StudyInstanceUID` and `SeriesInstanceUID`;\n",
        "* on the GCS bucket location and organisation, such as `gcs_url`, `crdc_instance_uuid`, and `crdc_series_uuid`.\n",
        "\n"
      ]
    },
    {
      "cell_type": "code",
      "metadata": {
        "colab": {
          "base_uri": "https://localhost:8080/",
          "height": 687
        },
        "id": "CK6P112euwqo",
        "outputId": "9e169d28-48ed-429d-9a6d-911d7673cbe4"
      },
      "source": [
        "cohort_df.head()"
      ],
      "execution_count": null,
      "outputs": [
        {
          "output_type": "execute_result",
          "data": {
            "text/plain": [
              "   PatientID    collection_id                     source_DOI  \\\n",
              "0  LUNG1-002  nsclc_radiomics  10.7937/K9/TCIA.2015.PF0M9REI   \n",
              "1  LUNG1-002  nsclc_radiomics  10.7937/K9/TCIA.2015.PF0M9REI   \n",
              "2  LUNG1-002  nsclc_radiomics  10.7937/K9/TCIA.2015.PF0M9REI   \n",
              "3  LUNG1-002  nsclc_radiomics  10.7937/K9/TCIA.2015.PF0M9REI   \n",
              "4  LUNG1-002  nsclc_radiomics  10.7937/K9/TCIA.2015.PF0M9REI   \n",
              "\n",
              "                                    StudyInstanceUID  \\\n",
              "0  1.3.6.1.4.1.32722.99.99.2037150038059966416957...   \n",
              "1  1.3.6.1.4.1.32722.99.99.2037150038059966416957...   \n",
              "2  1.3.6.1.4.1.32722.99.99.2037150038059966416957...   \n",
              "3  1.3.6.1.4.1.32722.99.99.2037150038059966416957...   \n",
              "4  1.3.6.1.4.1.32722.99.99.2037150038059966416957...   \n",
              "\n",
              "                                   SeriesInstanceUID  \\\n",
              "0  1.3.6.1.4.1.32722.99.99.2329880015517990803358...   \n",
              "1  1.3.6.1.4.1.32722.99.99.2329880015517990803358...   \n",
              "2  1.3.6.1.4.1.32722.99.99.2329880015517990803358...   \n",
              "3  1.3.6.1.4.1.32722.99.99.2329880015517990803358...   \n",
              "4  1.3.6.1.4.1.32722.99.99.2329880015517990803358...   \n",
              "\n",
              "                                      SOPInstanceUID  \\\n",
              "0  1.3.6.1.4.1.32722.99.99.1885589837633001625176...   \n",
              "1  1.3.6.1.4.1.32722.99.99.2176279587798300737446...   \n",
              "2  1.3.6.1.4.1.32722.99.99.5520085834678520978071...   \n",
              "3  1.3.6.1.4.1.32722.99.99.2048931361272395047520...   \n",
              "4  1.3.6.1.4.1.32722.99.99.7807413591260762594939...   \n",
              "\n",
              "                        crdc_study_uuid                      crdc_series_uuid  \\\n",
              "0  d5cb521c-8761-4e6d-a371-306fab5c956e  6e0f8b4e-a116-477d-822b-5adc13b764ae   \n",
              "1  d5cb521c-8761-4e6d-a371-306fab5c956e  6e0f8b4e-a116-477d-822b-5adc13b764ae   \n",
              "2  d5cb521c-8761-4e6d-a371-306fab5c956e  6e0f8b4e-a116-477d-822b-5adc13b764ae   \n",
              "3  d5cb521c-8761-4e6d-a371-306fab5c956e  6e0f8b4e-a116-477d-822b-5adc13b764ae   \n",
              "4  d5cb521c-8761-4e6d-a371-306fab5c956e  6e0f8b4e-a116-477d-822b-5adc13b764ae   \n",
              "\n",
              "                     crdc_instance_uuid  \\\n",
              "0  02904ce9-89a7-41a0-b4af-3b8d2ecdb5a7   \n",
              "1  029aa22a-b3d2-4dc7-95c8-822c8e2a1449   \n",
              "2  07610515-ec98-4852-bdd8-0dd5a91f5478   \n",
              "3  07cade33-bdd5-4ee9-bac0-b0223945aa7c   \n",
              "4  0c795f59-05ce-4b9a-b8c8-56a46eba2910   \n",
              "\n",
              "                                             gcs_url idc_version  access  \n",
              "0  gs://idc-open-cr/02904ce9-89a7-41a0-b4af-3b8d2...        10.0  Public  \n",
              "1  gs://idc-open-cr/029aa22a-b3d2-4dc7-95c8-822c8...        10.0  Public  \n",
              "2  gs://idc-open-cr/07610515-ec98-4852-bdd8-0dd5a...        10.0  Public  \n",
              "3  gs://idc-open-cr/07cade33-bdd5-4ee9-bac0-b0223...        10.0  Public  \n",
              "4  gs://idc-open-cr/0c795f59-05ce-4b9a-b8c8-56a46...        10.0  Public  "
            ],
            "text/html": [
              "\n",
              "  <div id=\"df-310ca3aa-f226-481d-9ab3-ad8d61d77108\">\n",
              "    <div class=\"colab-df-container\">\n",
              "      <div>\n",
              "<style scoped>\n",
              "    .dataframe tbody tr th:only-of-type {\n",
              "        vertical-align: middle;\n",
              "    }\n",
              "\n",
              "    .dataframe tbody tr th {\n",
              "        vertical-align: top;\n",
              "    }\n",
              "\n",
              "    .dataframe thead th {\n",
              "        text-align: right;\n",
              "    }\n",
              "</style>\n",
              "<table border=\"1\" class=\"dataframe\">\n",
              "  <thead>\n",
              "    <tr style=\"text-align: right;\">\n",
              "      <th></th>\n",
              "      <th>PatientID</th>\n",
              "      <th>collection_id</th>\n",
              "      <th>source_DOI</th>\n",
              "      <th>StudyInstanceUID</th>\n",
              "      <th>SeriesInstanceUID</th>\n",
              "      <th>SOPInstanceUID</th>\n",
              "      <th>crdc_study_uuid</th>\n",
              "      <th>crdc_series_uuid</th>\n",
              "      <th>crdc_instance_uuid</th>\n",
              "      <th>gcs_url</th>\n",
              "      <th>idc_version</th>\n",
              "      <th>access</th>\n",
              "    </tr>\n",
              "  </thead>\n",
              "  <tbody>\n",
              "    <tr>\n",
              "      <th>0</th>\n",
              "      <td>LUNG1-002</td>\n",
              "      <td>nsclc_radiomics</td>\n",
              "      <td>10.7937/K9/TCIA.2015.PF0M9REI</td>\n",
              "      <td>1.3.6.1.4.1.32722.99.99.2037150038059966416957...</td>\n",
              "      <td>1.3.6.1.4.1.32722.99.99.2329880015517990803358...</td>\n",
              "      <td>1.3.6.1.4.1.32722.99.99.1885589837633001625176...</td>\n",
              "      <td>d5cb521c-8761-4e6d-a371-306fab5c956e</td>\n",
              "      <td>6e0f8b4e-a116-477d-822b-5adc13b764ae</td>\n",
              "      <td>02904ce9-89a7-41a0-b4af-3b8d2ecdb5a7</td>\n",
              "      <td>gs://idc-open-cr/02904ce9-89a7-41a0-b4af-3b8d2...</td>\n",
              "      <td>10.0</td>\n",
              "      <td>Public</td>\n",
              "    </tr>\n",
              "    <tr>\n",
              "      <th>1</th>\n",
              "      <td>LUNG1-002</td>\n",
              "      <td>nsclc_radiomics</td>\n",
              "      <td>10.7937/K9/TCIA.2015.PF0M9REI</td>\n",
              "      <td>1.3.6.1.4.1.32722.99.99.2037150038059966416957...</td>\n",
              "      <td>1.3.6.1.4.1.32722.99.99.2329880015517990803358...</td>\n",
              "      <td>1.3.6.1.4.1.32722.99.99.2176279587798300737446...</td>\n",
              "      <td>d5cb521c-8761-4e6d-a371-306fab5c956e</td>\n",
              "      <td>6e0f8b4e-a116-477d-822b-5adc13b764ae</td>\n",
              "      <td>029aa22a-b3d2-4dc7-95c8-822c8e2a1449</td>\n",
              "      <td>gs://idc-open-cr/029aa22a-b3d2-4dc7-95c8-822c8...</td>\n",
              "      <td>10.0</td>\n",
              "      <td>Public</td>\n",
              "    </tr>\n",
              "    <tr>\n",
              "      <th>2</th>\n",
              "      <td>LUNG1-002</td>\n",
              "      <td>nsclc_radiomics</td>\n",
              "      <td>10.7937/K9/TCIA.2015.PF0M9REI</td>\n",
              "      <td>1.3.6.1.4.1.32722.99.99.2037150038059966416957...</td>\n",
              "      <td>1.3.6.1.4.1.32722.99.99.2329880015517990803358...</td>\n",
              "      <td>1.3.6.1.4.1.32722.99.99.5520085834678520978071...</td>\n",
              "      <td>d5cb521c-8761-4e6d-a371-306fab5c956e</td>\n",
              "      <td>6e0f8b4e-a116-477d-822b-5adc13b764ae</td>\n",
              "      <td>07610515-ec98-4852-bdd8-0dd5a91f5478</td>\n",
              "      <td>gs://idc-open-cr/07610515-ec98-4852-bdd8-0dd5a...</td>\n",
              "      <td>10.0</td>\n",
              "      <td>Public</td>\n",
              "    </tr>\n",
              "    <tr>\n",
              "      <th>3</th>\n",
              "      <td>LUNG1-002</td>\n",
              "      <td>nsclc_radiomics</td>\n",
              "      <td>10.7937/K9/TCIA.2015.PF0M9REI</td>\n",
              "      <td>1.3.6.1.4.1.32722.99.99.2037150038059966416957...</td>\n",
              "      <td>1.3.6.1.4.1.32722.99.99.2329880015517990803358...</td>\n",
              "      <td>1.3.6.1.4.1.32722.99.99.2048931361272395047520...</td>\n",
              "      <td>d5cb521c-8761-4e6d-a371-306fab5c956e</td>\n",
              "      <td>6e0f8b4e-a116-477d-822b-5adc13b764ae</td>\n",
              "      <td>07cade33-bdd5-4ee9-bac0-b0223945aa7c</td>\n",
              "      <td>gs://idc-open-cr/07cade33-bdd5-4ee9-bac0-b0223...</td>\n",
              "      <td>10.0</td>\n",
              "      <td>Public</td>\n",
              "    </tr>\n",
              "    <tr>\n",
              "      <th>4</th>\n",
              "      <td>LUNG1-002</td>\n",
              "      <td>nsclc_radiomics</td>\n",
              "      <td>10.7937/K9/TCIA.2015.PF0M9REI</td>\n",
              "      <td>1.3.6.1.4.1.32722.99.99.2037150038059966416957...</td>\n",
              "      <td>1.3.6.1.4.1.32722.99.99.2329880015517990803358...</td>\n",
              "      <td>1.3.6.1.4.1.32722.99.99.7807413591260762594939...</td>\n",
              "      <td>d5cb521c-8761-4e6d-a371-306fab5c956e</td>\n",
              "      <td>6e0f8b4e-a116-477d-822b-5adc13b764ae</td>\n",
              "      <td>0c795f59-05ce-4b9a-b8c8-56a46eba2910</td>\n",
              "      <td>gs://idc-open-cr/0c795f59-05ce-4b9a-b8c8-56a46...</td>\n",
              "      <td>10.0</td>\n",
              "      <td>Public</td>\n",
              "    </tr>\n",
              "  </tbody>\n",
              "</table>\n",
              "</div>\n",
              "      <button class=\"colab-df-convert\" onclick=\"convertToInteractive('df-310ca3aa-f226-481d-9ab3-ad8d61d77108')\"\n",
              "              title=\"Convert this dataframe to an interactive table.\"\n",
              "              style=\"display:none;\">\n",
              "        \n",
              "  <svg xmlns=\"http://www.w3.org/2000/svg\" height=\"24px\"viewBox=\"0 0 24 24\"\n",
              "       width=\"24px\">\n",
              "    <path d=\"M0 0h24v24H0V0z\" fill=\"none\"/>\n",
              "    <path d=\"M18.56 5.44l.94 2.06.94-2.06 2.06-.94-2.06-.94-.94-2.06-.94 2.06-2.06.94zm-11 1L8.5 8.5l.94-2.06 2.06-.94-2.06-.94L8.5 2.5l-.94 2.06-2.06.94zm10 10l.94 2.06.94-2.06 2.06-.94-2.06-.94-.94-2.06-.94 2.06-2.06.94z\"/><path d=\"M17.41 7.96l-1.37-1.37c-.4-.4-.92-.59-1.43-.59-.52 0-1.04.2-1.43.59L10.3 9.45l-7.72 7.72c-.78.78-.78 2.05 0 2.83L4 21.41c.39.39.9.59 1.41.59.51 0 1.02-.2 1.41-.59l7.78-7.78 2.81-2.81c.8-.78.8-2.07 0-2.86zM5.41 20L4 18.59l7.72-7.72 1.47 1.35L5.41 20z\"/>\n",
              "  </svg>\n",
              "      </button>\n",
              "      \n",
              "  <style>\n",
              "    .colab-df-container {\n",
              "      display:flex;\n",
              "      flex-wrap:wrap;\n",
              "      gap: 12px;\n",
              "    }\n",
              "\n",
              "    .colab-df-convert {\n",
              "      background-color: #E8F0FE;\n",
              "      border: none;\n",
              "      border-radius: 50%;\n",
              "      cursor: pointer;\n",
              "      display: none;\n",
              "      fill: #1967D2;\n",
              "      height: 32px;\n",
              "      padding: 0 0 0 0;\n",
              "      width: 32px;\n",
              "    }\n",
              "\n",
              "    .colab-df-convert:hover {\n",
              "      background-color: #E2EBFA;\n",
              "      box-shadow: 0px 1px 2px rgba(60, 64, 67, 0.3), 0px 1px 3px 1px rgba(60, 64, 67, 0.15);\n",
              "      fill: #174EA6;\n",
              "    }\n",
              "\n",
              "    [theme=dark] .colab-df-convert {\n",
              "      background-color: #3B4455;\n",
              "      fill: #D2E3FC;\n",
              "    }\n",
              "\n",
              "    [theme=dark] .colab-df-convert:hover {\n",
              "      background-color: #434B5C;\n",
              "      box-shadow: 0px 1px 3px 1px rgba(0, 0, 0, 0.15);\n",
              "      filter: drop-shadow(0px 1px 2px rgba(0, 0, 0, 0.3));\n",
              "      fill: #FFFFFF;\n",
              "    }\n",
              "  </style>\n",
              "\n",
              "      <script>\n",
              "        const buttonEl =\n",
              "          document.querySelector('#df-310ca3aa-f226-481d-9ab3-ad8d61d77108 button.colab-df-convert');\n",
              "        buttonEl.style.display =\n",
              "          google.colab.kernel.accessAllowed ? 'block' : 'none';\n",
              "\n",
              "        async function convertToInteractive(key) {\n",
              "          const element = document.querySelector('#df-310ca3aa-f226-481d-9ab3-ad8d61d77108');\n",
              "          const dataTable =\n",
              "            await google.colab.kernel.invokeFunction('convertToInteractive',\n",
              "                                                     [key], {});\n",
              "          if (!dataTable) return;\n",
              "\n",
              "          const docLinkHtml = 'Like what you see? Visit the ' +\n",
              "            '<a target=\"_blank\" href=https://colab.research.google.com/notebooks/data_table.ipynb>data table notebook</a>'\n",
              "            + ' to learn more about interactive tables.';\n",
              "          element.innerHTML = '';\n",
              "          dataTable['output_type'] = 'display_data';\n",
              "          await google.colab.output.renderOutput(dataTable, element);\n",
              "          const docLink = document.createElement('div');\n",
              "          docLink.innerHTML = docLinkHtml;\n",
              "          element.appendChild(docLink);\n",
              "        }\n",
              "      </script>\n",
              "    </div>\n",
              "  </div>\n",
              "  "
            ]
          },
          "metadata": {},
          "execution_count": 12
        }
      ]
    },
    {
      "cell_type": "code",
      "metadata": {
        "id": "inCth-_f6BDK"
      },
      "source": [
        "# create the directory tree\n",
        "!mkdir -p tutorial \n",
        "!mkdir -p tutorial/data tutorial/output\n",
        "!mkdir -p tutorial/data/tmp tutorial/data/dicom tutorial/data/processed"
      ],
      "execution_count": null,
      "outputs": []
    },
    {
      "cell_type": "code",
      "metadata": {
        "id": "bife6XMuhWTD"
      },
      "source": [
        "gs_file_path = \"tutorial/data/gcs_paths.txt\"\n",
        "\n",
        "# to speed up the process, download only a portion of the dataset\n",
        "pat_list = np.unique(cohort_df[\"PatientID\"].values)\n",
        "n_pat = len(pat_list)\n",
        "\n",
        "random_idxs = np.random.choice(n_pat, size = 5, replace = False)\n",
        "\n",
        "sliced_df = cohort_df[cohort_df[\"PatientID\"].isin(list(pat_list[random_idxs]))]\n",
        "sliced_df[\"gcs_url\"].to_csv(gs_file_path, header = False, index = False)"
      ],
      "execution_count": null,
      "outputs": []
    },
    {
      "cell_type": "code",
      "metadata": {
        "id": "5kXtIUh4hzO0"
      },
      "source": [
        "%%capture\n",
        "# https://cloud.google.com/storage/docs/gsutil/commands/cp\n",
        "!mkdir -p tutorial/data/tmp\n",
        "!cat $gs_file_path | gsutil -u $myProjectID -m cp -Ir tutorial/data/tmp"
      ],
      "execution_count": null,
      "outputs": []
    },
    {
      "cell_type": "markdown",
      "metadata": {
        "id": "87IVeT-8_HK6"
      },
      "source": [
        "As you will notice, for instance, by browsing the `tutorial/data/tmp` folder, the DICOM files will not be organised by default following patients, series, or studies.\n",
        "\n",
        "To organise the data in a more common (and human-understandable) fashion, we will make use of [DICOMSort](https://github.com/pieper/dicomsort). DICOMSort is an open source tool for custom sorting and renaming of dicom files based on their specific DICOM tags. In our case, we will exploit DICOMSort to organise the DICOM data by `PatientID`, `StudyInstanceUID`, and `SeriesInstanceUID` - so that the final directory will look like the following:\n",
        "\n",
        "```\n",
        "tutorial/data/dicom/$PatientID\n",
        " └─── $StudyInstanceUID\n",
        "       ├─── $SeriesInstanceUID_CT\n",
        "       │     ├─── $SOPInstanceUID_slice0.dcm\n",
        "       │     ├─── $SOPInstanceUID_slice1.dcm\n",
        "       │     ├───  ...\n",
        "       │\n",
        "       ├─── $SeriesInstanceUID_RTSTRUCT\n",
        "       │     └─── $SOPInstanceUID_RTSTRUCT.dcm\n",
        "       │\n",
        "       └─── $SeriesInstanceUID_RTSEG\n",
        "             └─── $SOPInstanceUID_RTSEG.dcm\n",
        "\n",
        "```\n",
        "\n",
        "Furthermore, to prepare the data for processing (e.g., data conversion from DICOM) we will make use of [PyPlastimatch](https://github.com/denbonte/pyplastimatch/), a very basic python wrapper for Plastimatch, written for the purpose of this tutorial. The wrapper also contains a very basic yet interactive visualisation function we will be using in the last part of the notebook to check the segmentation results."
      ]
    },
    {
      "cell_type": "code",
      "metadata": {
        "colab": {
          "base_uri": "https://localhost:8080/"
        },
        "id": "08BNhs-t_NAZ",
        "outputId": "53677ba8-7f32-485d-9e98-366d303fa052"
      },
      "source": [
        "# DICOMSORT - for re-organising DICOM files in folders\n",
        "!git clone https://github.com/pieper/dicomsort.git tutorial/dicomsort"
      ],
      "execution_count": null,
      "outputs": [
        {
          "output_type": "stream",
          "name": "stdout",
          "text": [
            "Cloning into 'tutorial/dicomsort'...\n",
            "remote: Enumerating objects: 130, done.\u001b[K\n",
            "remote: Counting objects: 100% (4/4), done.\u001b[K\n",
            "remote: Compressing objects: 100% (4/4), done.\u001b[K\n",
            "remote: Total 130 (delta 0), reused 1 (delta 0), pack-reused 126\u001b[K\n",
            "Receiving objects: 100% (130/130), 44.12 KiB | 564.00 KiB/s, done.\n",
            "Resolving deltas: 100% (63/63), done.\n"
          ]
        }
      ]
    },
    {
      "cell_type": "code",
      "metadata": {
        "colab": {
          "base_uri": "https://localhost:8080/"
        },
        "id": "keZVRv-vA-wz",
        "outputId": "13f338d2-3891-4173-8c86-01613b57b689"
      },
      "source": [
        "# run the DICOMSort command\n",
        "!python tutorial/dicomsort/dicomsort.py -u tutorial/data/tmp tutorial/data/dicom/%PatientID/%Modality/%SOPInstanceUID.dcm\n",
        "\n",
        "# get rid of the temporary folder, storing the unsorted DICOM data \n",
        "!rm -r tutorial/data/tmp"
      ],
      "execution_count": null,
      "outputs": [
        {
          "output_type": "stream",
          "name": "stdout",
          "text": [
            "100% 599/599 [00:07<00:00, 83.69it/s] \n",
            "Files sorted\n"
          ]
        }
      ]
    },
    {
      "cell_type": "markdown",
      "metadata": {
        "id": "uRTPs0H16N54"
      },
      "source": [
        "---\n",
        "\n",
        "## **Data Pre-processing**\n",
        "\n",
        "\n",
        "Using the simple Plastimatch wrapper, let's convert the DICOM CT series in both NRRD and NIfTI format. Furthermore, we are going to convert the DICOM RTSTRUCT Series into a NRRD volume as well.\n"
      ]
    },
    {
      "cell_type": "code",
      "source": [
        "import pyplastimatch as pypla\n",
        "\n",
        "from pyplastimatch.utils import viz as viz_utils"
      ],
      "metadata": {
        "id": "grLS3nzJdmmE"
      },
      "execution_count": null,
      "outputs": []
    },
    {
      "cell_type": "markdown",
      "metadata": {
        "id": "xry9FjIWCm_a"
      },
      "source": [
        "### **DICOM to NRRD/NIfTI Conversion**\n",
        "\n",
        "Let's use the functions from the simple wrapper to convert the data into the formats mentioned above exploiting Plastimatch."
      ]
    },
    {
      "cell_type": "code",
      "metadata": {
        "colab": {
          "base_uri": "https://localhost:8080/"
        },
        "id": "1z80zq-ABJv2",
        "outputId": "a4c3acc4-7238-4c32-87c8-6c53be65815c"
      },
      "source": [
        "from IPython.display import clear_output\n",
        "\n",
        "pat_list = list(np.unique(sliced_df[\"PatientID\"].values))\n",
        "\n",
        "for pat in pat_list:\n",
        "\n",
        "  # clear cell output before processing patient data \n",
        "  clear_output(wait=True)\n",
        "\n",
        "  # directories storing NRRD and NIfTI files\n",
        "  base_preproc_path = \"tutorial/data/processed\"\n",
        "\n",
        "  pat_dir_path_nrrd = os.path.join(base_preproc_path, \"nrrd\", pat)\n",
        "  pat_dir_path_nii = os.path.join(base_preproc_path, \"nii\", pat)\n",
        "    \n",
        "  # patient subfolder where all the preprocessed NRRDs will be stored\n",
        "  if not os.path.exists(pat_dir_path_nrrd): os.makedirs(pat_dir_path_nrrd)\n",
        "    \n",
        "  # patient subfolder where all the preprocessed NIfTIs will be stored\n",
        "  if not os.path.exists(pat_dir_path_nii): os.makedirs(pat_dir_path_nii)\n",
        "\n",
        "  # path to the directory where the DICOM CT file is stored\n",
        "  path_to_ct_dir = os.path.join(\"tutorial/data/dicom\", pat, \"CT\")\n",
        "\n",
        "  # path to the files where the NRRD and NIfTI CTs will be stored\n",
        "  ct_nrrd_path = os.path.join(pat_dir_path_nrrd, pat + \"_ct.nrrd\")\n",
        "  ct_nii_path = os.path.join(pat_dir_path_nii, pat + \"_ct.nii.gz\")\n",
        "\n",
        "\n",
        "  # path to the directory where the DICOM RTSTRUCT file is stored\n",
        "  path_to_rt_dir = os.path.join(\"tutorial/data/dicom\", pat, \"RTSTRUCT\")\n",
        "\n",
        "  # path to the files where the NRRD RTSTRUCTs will be stored\n",
        "  rt_folder = os.path.join(pat_dir_path_nrrd, \"RTSTRUCT\")\n",
        "  rt_list_path = os.path.join(pat_dir_path_nrrd, \"RTSTRUCT_content\")\n",
        "\n",
        "  verbose = True\n",
        "\n",
        "  # logfile for the plastimatch conversion\n",
        "  log_file_path_nrrd = os.path.join(pat_dir_path_nrrd, pat + '_pypla.log')\n",
        "  log_file_path_nii = os.path.join(pat_dir_path_nii, pat + '_pypla.log')\n",
        "    \n",
        "  # DICOM CT to NRRD conversion (if the file doesn't exist yet)\n",
        "  if not os.path.exists(ct_nrrd_path):\n",
        "    convert_args_ct = {\"input\" : path_to_ct_dir,\n",
        "                      \"output-img\" : ct_nrrd_path}\n",
        "    \n",
        "    # clean old log file if it exist\n",
        "    if os.path.exists(log_file_path_nrrd): os.remove(log_file_path_nrrd)\n",
        "    \n",
        "    pypla.convert(verbose = verbose, path_to_log_file = log_file_path_nrrd, **convert_args_ct)\n",
        "\n",
        "  # DICOM RTSTRUCT to NRRD conversion (if the file doesn't exist yet)\n",
        "  if not os.path.exists(rt_folder):\n",
        "    convert_args_rt = {\"input\" : path_to_rt_dir, \n",
        "                      \"referenced-ct\" : path_to_ct_dir,\n",
        "                      \"output-prefix\" : rt_folder,\n",
        "                      \"prefix-format\" : 'nrrd',\n",
        "                      \"output-ss-list\" : rt_list_path}\n",
        "    \n",
        "    # clean old log file if it exist\n",
        "    if os.path.exists(log_file_path_nrrd): os.remove(log_file_path_nrrd)\n",
        "    \n",
        "    pypla.convert(verbose = verbose, path_to_log_file = log_file_path_nrrd, **convert_args_rt)\n",
        "\n",
        "  # DICOM CT to NIfTI conversion (if the file doesn't exist yet)\n",
        "  if not os.path.exists(ct_nii_path):\n",
        "    convert_args_nii = {\"input\" : path_to_ct_dir, \n",
        "                        \"output-img\" : ct_nii_path}\n",
        "    \n",
        "    # clean old log file if it exist\n",
        "    if os.path.exists(log_file_path_nii): os.remove(log_file_path_nii)\n",
        "    \n",
        "    pypla.convert(verbose = verbose, path_to_log_file = log_file_path_nii, **convert_args_nii)"
      ],
      "execution_count": null,
      "outputs": [
        {
          "output_type": "stream",
          "name": "stdout",
          "text": [
            "\n",
            "Running 'plastimatch convert' with the specified arguments:\n",
            "  --input tutorial/data/dicom/LUNG1-422/CT\n",
            "  --output-img tutorial/data/processed/nrrd/LUNG1-422/LUNG1-422_ct.nrrd\n",
            "... Done.\n",
            "\n",
            "Running 'plastimatch convert' with the specified arguments:\n",
            "  --input tutorial/data/dicom/LUNG1-422/RTSTRUCT\n",
            "  --referenced-ct tutorial/data/dicom/LUNG1-422/CT\n",
            "  --output-prefix tutorial/data/processed/nrrd/LUNG1-422/RTSTRUCT\n",
            "  --prefix-format nrrd\n",
            "  --output-ss-list tutorial/data/processed/nrrd/LUNG1-422/RTSTRUCT_content\n",
            "... Done.\n",
            "\n",
            "Running 'plastimatch convert' with the specified arguments:\n",
            "  --input tutorial/data/dicom/LUNG1-422/CT\n",
            "  --output-img tutorial/data/processed/nii/LUNG1-422/LUNG1-422_ct.nii.gz\n",
            "... Done.\n"
          ]
        }
      ]
    },
    {
      "cell_type": "markdown",
      "metadata": {
        "id": "X5PyCE-ZJTC7"
      },
      "source": [
        "The folder `/content/tutorial/data/processed` now stores both NIfTI and NRRD files (storing both the CT and the RTSTRUCT data) ready to be ingested by your image processing pipeline.\n",
        "\n",
        "For further pre-processing operations, you can check out what we implemented in our basic [Plastimatch wrapper](https://github.com/AIM-Harvard/pyplastimatch) (a basic example of data resampling is provided [at this notebook](https://colab.research.google.com/github/ImagingDataCommons/IDC-Examples/blob/master/notebooks/lung_nodules_demo.ipynb#scrollTo=yWPkmQKuBGOO))."
      ]
    },
    {
      "cell_type": "markdown",
      "metadata": {
        "id": "220ZqzK2iyrl"
      },
      "source": [
        "---\n",
        "\n",
        "## **Data Visualisation**\n",
        "\n",
        "Simple interactive axial slice (and segmentation) visualisation."
      ]
    },
    {
      "cell_type": "code",
      "metadata": {
        "id": "VdyKEQlxjA3G"
      },
      "source": [
        "random_pat = pat_list[np.random.randint(len(pat_list))]\n",
        "\n",
        "pat_dir_path_nrrd = os.path.join(\"/content/tutorial/data/processed/nrrd/\", random_pat)\n",
        "\n",
        "assert os.path.exists(pat_dir_path_nrrd)\n",
        "\n",
        "ct_nrrd_path = os.path.join(pat_dir_path_nrrd, \"%s_ct.nrrd\"%(random_pat))\n",
        "ct_nrrd = sitk.GetArrayFromImage(sitk.ReadImage(ct_nrrd_path))\n",
        "\n",
        "rt_folder_path = os.path.join(pat_dir_path_nrrd, \"RTSTRUCT\")\n",
        "rt_list = os.listdir(rt_folder_path)\n",
        "\n",
        "segmask_dict = dict()\n",
        "segmask_cmap_dict = dict()\n",
        "\n",
        "cmap_list = [my_spring, my_reds, my_blues, my_greens]\n",
        "\n",
        "for rt_vol_name in rt_list:\n",
        "\n",
        "  structure_name = rt_vol_name.split(\".nrrd\")[0]\n",
        "\n",
        "  rt_vol_nrrd_path = os.path.join(pat_dir_path_nrrd, \"RTSTRUCT\", rt_vol_name)\n",
        "\n",
        "  segmask_dict[structure_name] = sitk.GetArrayFromImage(sitk.ReadImage(rt_vol_nrrd_path))\n",
        "  segmask_cmap_dict[structure_name] = cmap_list[np.random.randint(len(cmap_list))]"
      ],
      "execution_count": null,
      "outputs": []
    },
    {
      "cell_type": "code",
      "metadata": {
        "colab": {
          "base_uri": "https://localhost:8080/",
          "height": 701,
          "referenced_widgets": [
            "1b6941338e5341f9897ef581cdd8967b",
            "caeb1c1aaae44b51a64d738d3f9f5f6e",
            "02a2415bac1742f2a82e47e591796a78",
            "efb0d64fcc6e42bbb66d1e6257bd9375",
            "cbbba8a18d7f4bc7bda3ba6fc67ad26b",
            "10137eaa71e940389fefa5e84f876609",
            "c85e7f83430f4b688b44095b86938e99",
            "7909604e410e449095478423eaa385da",
            "74f9850263e34a08abddc8de6dc53909",
            "5594bf0cbf7946d292d97b58fd8af8c8",
            "9671a82e97cc441892747ead863eb379"
          ]
        },
        "id": "MBAAOwTFgb9b",
        "outputId": "b1fa70fd-fa03-48bd-edad-281d0dc57783"
      },
      "source": [
        "_ = viz_utils.AxialSliceSegmaskViz(ct_volume = ct_nrrd,\n",
        "                         segmask_dict = segmask_dict,\n",
        "                         segmask_cmap_dict = segmask_cmap_dict,\n",
        "                         dpi = 100, figsize = (8, 8))"
      ],
      "execution_count": null,
      "outputs": [
        {
          "output_type": "display_data",
          "data": {
            "text/plain": [
              "interactive(children=(Output(),), _dom_classes=('widget-interact',))"
            ],
            "application/vnd.jupyter.widget-view+json": {
              "version_major": 2,
              "version_minor": 0,
              "model_id": "1b6941338e5341f9897ef581cdd8967b"
            }
          },
          "metadata": {}
        }
      ]
    },
    {
      "cell_type": "code",
      "source": [],
      "metadata": {
        "id": "HAA65IM0f8y1"
      },
      "execution_count": null,
      "outputs": []
    }
  ]
}