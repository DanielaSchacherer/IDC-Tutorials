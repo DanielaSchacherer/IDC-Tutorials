{
  "nbformat": 4,
  "nbformat_minor": 0,
  "metadata": {
    "colab": {
      "name": "Cohort download",
      "provenance": [],
      "toc_visible": true
    },
    "kernelspec": {
      "name": "python3",
      "display_name": "Python 3"
    }
  },
  "cells": [
    {
      "cell_type": "markdown",
      "metadata": {
        "id": "jrA0sBb8CIdv"
      },
      "source": [
        "# Working with IDC cohorts\n",
        "\n",
        "In this example we show how a cohort manifest defined using the IDC Portal can be used to download the data to a cloud VM instance.\n",
        "\n",
        "This example was prepared using a pre-release version of IDC Portal, and it has not yet been tested using the publicly released version.\n",
        "\n",
        "To proceed with the cells below you will need to upload your manifest to the connected runtime file system, and replace `<MANIFEST_LOCAL_PATH>` in the examples below with the actual path to the uploaded manifest."
      ]
    },
    {
      "cell_type": "code",
      "metadata": {
        "id": "AJsGPSf6gWc9"
      },
      "source": [
        "!head <MANIFEST_LOCAL_FILE_PATH>\n"
      ],
      "execution_count": null,
      "outputs": []
    },
    {
      "cell_type": "markdown",
      "metadata": {
        "id": "q-D7_QONDbQ2"
      },
      "source": [
        "You can import IDC cohort manifest in CSV format as any other CSV file, but make sure you check the header to confirm how many lines need to be ignored. The header length may change leading to the public release of the portal."
      ]
    },
    {
      "cell_type": "code",
      "metadata": {
        "id": "f8_LJNP1e0Il"
      },
      "source": [
        "import pandas as pd\n",
        "\n",
        "def cohort_as_df(manifest_filename):\n",
        "  df = pd.read_csv(manifest_filename, header=5)\n",
        "  return df\n",
        "\n",
        "cohort_df = cohort_as_df(\"<MANIFEST_LOCAL_FILE_PATH>\")"
      ],
      "execution_count": null,
      "outputs": []
    },
    {
      "cell_type": "markdown",
      "metadata": {
        "id": "vDSBOmiUDpxV"
      },
      "source": [
        "The manifest will contain a Google Storage URI (`gs://`) for each of the files corresponding to the individual DICOM instances. Here we save the column containing those URIs to enable download."
      ]
    },
    {
      "cell_type": "code",
      "metadata": {
        "id": "bife6XMuhWTD",
        "outputId": "d39c5d9c-fd2e-4398-f656-0ddc0d091b13",
        "colab": {
          "base_uri": "https://localhost:8080/",
          "height": 527
        }
      },
      "source": [
        "print(cohort_df[\"gcs_path\"])\n",
        "cohort_df[\"gcs_path\"].to_csv(\"gcs_paths.txt\", header=False, index=False)"
      ],
      "execution_count": null,
      "outputs": [
        {
          "output_type": "stream",
          "text": [
            "0     gs://idc-tcia-lidc-idri/dicom/1.3.6.1.4.1.1451...\n",
            "1     gs://idc-tcia-lidc-idri/dicom/1.3.6.1.4.1.1451...\n",
            "2     gs://idc-tcia-lidc-idri/dicom/1.3.6.1.4.1.1451...\n",
            "3     gs://idc-tcia-lidc-idri/dicom/1.3.6.1.4.1.1451...\n",
            "4     gs://idc-tcia-lidc-idri/dicom/1.3.6.1.4.1.1451...\n",
            "5     gs://idc-tcia-lidc-idri/dicom/1.3.6.1.4.1.1451...\n",
            "6     gs://idc-tcia-lidc-idri/dicom/1.3.6.1.4.1.1451...\n",
            "7     gs://idc-tcia-lidc-idri/dicom/1.3.6.1.4.1.1451...\n",
            "8     gs://idc-tcia-lidc-idri/dicom/1.3.6.1.4.1.1451...\n",
            "9     gs://idc-tcia-lidc-idri/dicom/1.3.6.1.4.1.1451...\n",
            "10    gs://idc-tcia-lidc-idri/dicom/1.3.6.1.4.1.1451...\n",
            "11    gs://idc-tcia-lidc-idri/dicom/1.3.6.1.4.1.1451...\n",
            "12    gs://idc-tcia-lidc-idri/dicom/1.3.6.1.4.1.1451...\n",
            "13    gs://idc-tcia-lidc-idri/dicom/1.3.6.1.4.1.1451...\n",
            "14    gs://idc-tcia-lidc-idri/dicom/1.3.6.1.4.1.1451...\n",
            "15    gs://idc-tcia-lidc-idri/dicom/1.3.6.1.4.1.1451...\n",
            "16    gs://idc-tcia-lidc-idri/dicom/1.3.6.1.4.1.1451...\n",
            "17    gs://idc-tcia-lidc-idri/dicom/1.3.6.1.4.1.1451...\n",
            "18    gs://idc-tcia-lidc-idri/dicom/1.3.6.1.4.1.1451...\n",
            "19    gs://idc-tcia-lidc-idri/dicom/1.3.6.1.4.1.1451...\n",
            "20    gs://idc-tcia-lidc-idri/dicom/1.3.6.1.4.1.1451...\n",
            "21    gs://idc-tcia-lidc-idri/dicom/1.3.6.1.4.1.1451...\n",
            "22    gs://idc-tcia-lidc-idri/dicom/1.3.6.1.4.1.1451...\n",
            "23    gs://idc-tcia-lidc-idri/dicom/1.3.6.1.4.1.1451...\n",
            "24    gs://idc-tcia-lidc-idri/dicom/1.3.6.1.4.1.1451...\n",
            "25    gs://idc-tcia-lidc-idri/dicom/1.3.6.1.4.1.1451...\n",
            "26    gs://idc-tcia-lidc-idri/dicom/1.3.6.1.4.1.1451...\n",
            "27    gs://idc-tcia-lidc-idri/dicom/1.3.6.1.4.1.1451...\n",
            "28    gs://idc-tcia-lidc-idri/dicom/1.3.6.1.4.1.1451...\n",
            "Name: gcs_path, dtype: object\n"
          ],
          "name": "stdout"
        }
      ]
    },
    {
      "cell_type": "code",
      "metadata": {
        "id": "5kXtIUh4hzO0",
        "outputId": "2b43be53-3a8d-4fd4-b939-bf4a30173c99",
        "colab": {
          "base_uri": "https://localhost:8080/",
          "height": 207
        }
      },
      "source": [
        "!head /content/gcs_paths.txt"
      ],
      "execution_count": null,
      "outputs": [
        {
          "output_type": "stream",
          "text": [
            "gs://idc-tcia-lidc-idri/dicom/1.3.6.1.4.1.14519.5.2.1.6279.6001.299257181285137013436464151874/1.2.276.0.7230010.3.1.3.0.27811.1553311167.110292/1.2.276.0.7230010.3.1.4.0.27811.1553311167.110290.dcm#1592618476761048\n",
            "gs://idc-tcia-lidc-idri/dicom/1.3.6.1.4.1.14519.5.2.1.6279.6001.224985459390356936417021464571/1.2.276.0.7230010.3.1.3.0.57863.1553343874.661503/1.2.276.0.7230010.3.1.4.0.57863.1553343874.661501.dcm#1592617650034487\n",
            "gs://idc-tcia-lidc-idri/dicom/1.3.6.1.4.1.14519.5.2.1.6279.6001.299257181285137013436464151874/1.3.6.1.4.1.14519.5.2.1.6279.6001.251204142823446211001577555181/1.3.6.1.4.1.14519.5.2.1.6279.6001.216241658981991335900886782934.dcm#1592618477049520\n",
            "gs://idc-tcia-lidc-idri/dicom/1.3.6.1.4.1.14519.5.2.1.6279.6001.195975724868929317649402600442/1.3.6.1.4.1.14519.5.2.1.6279.6001.229343399861261429237689489892/1.3.6.1.4.1.14519.5.2.1.6279.6001.326198135487531412869380069525.dcm#1592617294291742\n",
            "gs://idc-tcia-lidc-idri/dicom/1.3.6.1.4.1.14519.5.2.1.6279.6001.195975724868929317649402600442/1.2.276.0.7230010.3.1.3.0.8183.1553291968.695561/1.2.276.0.7230010.3.1.4.0.8183.1553291968.695559.dcm#1592617293427367\n",
            "gs://idc-tcia-lidc-idri/dicom/1.3.6.1.4.1.14519.5.2.1.6279.6001.299257181285137013436464151874/1.2.276.0.7230010.3.1.3.0.27813.1553311169.853765/1.2.276.0.7230010.3.1.4.0.27813.1553311169.853763.dcm#1592618476782380\n",
            "gs://idc-tcia-lidc-idri/dicom/1.3.6.1.4.1.14519.5.2.1.6279.6001.299257181285137013436464151874/1.2.276.0.7230010.3.1.3.0.27802.1553311153.690627/1.2.276.0.7230010.3.1.4.0.27802.1553311153.690625.dcm#1592618476676801\n",
            "gs://idc-tcia-lidc-idri/dicom/1.3.6.1.4.1.14519.5.2.1.6279.6001.299257181285137013436464151874/1.2.276.0.7230010.3.1.3.0.27807.1553311160.925122/1.2.276.0.7230010.3.1.4.0.27807.1553311160.925120.dcm#1592618476713865\n",
            "gs://idc-tcia-lidc-idri/dicom/1.3.6.1.4.1.14519.5.2.1.6279.6001.195975724868929317649402600442/1.2.276.0.7230010.3.1.3.0.8182.1553291967.279064/1.2.276.0.7230010.3.1.4.0.8182.1553291967.279065.dcm#1592617293438417\n",
            "gs://idc-tcia-lidc-idri/dicom/1.3.6.1.4.1.14519.5.2.1.6279.6001.299257181285137013436464151874/1.2.276.0.7230010.3.1.3.0.27810.1553311165.857525/1.2.276.0.7230010.3.1.4.0.27810.1553311165.857526.dcm#1592618476755609\n"
          ],
          "name": "stdout"
        }
      ]
    },
    {
      "cell_type": "markdown",
      "metadata": {
        "id": "MUBm5K2TERvT"
      },
      "source": [
        "To download the files to the VM filesystem we can use the standard `gsutil` command, which is preinstalled on Colab instances."
      ]
    },
    {
      "cell_type": "code",
      "metadata": {
        "id": "TEDaQPTPiM8p",
        "outputId": "68d7811d-7b6a-472c-a4a1-cf4b36182b77",
        "colab": {
          "base_uri": "https://localhost:8080/",
          "height": 51
        }
      },
      "source": [
        "# https://cloud.google.com/storage/docs/gsutil/commands/cp\n",
        "!cat gcs_paths.txt | gsutil -m cp -I ./downloaded_cohort"
      ],
      "execution_count": null,
      "outputs": [
        {
          "output_type": "stream",
          "text": [
            "BadRequestException: 400 Bucket is requester pays bucket but no user project provided.\n",
            "CommandException: 1 file/object could not be transferred.\n"
          ],
          "name": "stdout"
        }
      ]
    },
    {
      "cell_type": "markdown",
      "metadata": {
        "id": "oqP67MonHBam"
      },
      "source": [
        "The command above will fail, since IDC-hosted data is stored in US multi-region [requester-pays Storage buckets](https://cloud.google.com/storage/docs/requester-pays). This means that you need to provide a project ID with billing configured to download the data. If you are using Google Colab from the US, the corresponding VM instance will likely be in the US, and data egress charges will be $0.01/GB (see  [GCP network egress charges](https://cloud.google.com/storage/pricing#network-buckets) for full details).\n",
        "\n",
        "Note that if you want to donwload the data to your own computer, the costs will be much higher.\n",
        "\n",
        "Before you can refer to a project that you own, you need to authenticate."
      ]
    },
    {
      "cell_type": "code",
      "metadata": {
        "id": "RVxG6QvteybL"
      },
      "source": [
        "from google.colab import auth\n",
        "auth.authenticate_user()"
      ],
      "execution_count": null,
      "outputs": []
    },
    {
      "cell_type": "code",
      "metadata": {
        "id": "BCjgz_DTnlgX",
        "outputId": "3252744c-0f3a-4864-914c-79c54180c20a",
        "colab": {
          "base_uri": "https://localhost:8080/",
          "height": 564
        }
      },
      "source": [
        "# https://cloud.google.com/storage/docs/gsutil/commands/cp\n",
        "!mkdir downloaded_cohort\n",
        "!cat gcs_paths.txt | gsutil -u my-first-project-289017 -m cp -I ./downloaded_cohort"
      ],
      "execution_count": null,
      "outputs": [
        {
          "output_type": "stream",
          "text": [
            "Copying gs://idc-tcia-lidc-idri/dicom/1.3.6.1.4.1.14519.5.2.1.6279.6001.299257181285137013436464151874/1.2.276.0.7230010.3.1.3.0.27811.1553311167.110292/1.2.276.0.7230010.3.1.4.0.27811.1553311167.110290.dcm#1592618476761048...\n",
            "/ [0 files][    0.0 B/115.9 KiB]                                                \rCopying gs://idc-tcia-lidc-idri/dicom/1.3.6.1.4.1.14519.5.2.1.6279.6001.224985459390356936417021464571/1.2.276.0.7230010.3.1.3.0.57863.1553343874.661503/1.2.276.0.7230010.3.1.4.0.57863.1553343874.661501.dcm#1592617650034487...\n",
            "/ [0 files][    0.0 B/293.8 KiB]                                                \rCopying gs://idc-tcia-lidc-idri/dicom/1.3.6.1.4.1.14519.5.2.1.6279.6001.299257181285137013436464151874/1.3.6.1.4.1.14519.5.2.1.6279.6001.251204142823446211001577555181/1.3.6.1.4.1.14519.5.2.1.6279.6001.216241658981991335900886782934.dcm#1592618477049520...\n",
            "Copying gs://idc-tcia-lidc-idri/dicom/1.3.6.1.4.1.14519.5.2.1.6279.6001.195975724868929317649402600442/1.3.6.1.4.1.14519.5.2.1.6279.6001.229343399861261429237689489892/1.3.6.1.4.1.14519.5.2.1.6279.6001.326198135487531412869380069525.dcm#1592617294291742...\n",
            "Copying gs://idc-tcia-lidc-idri/dicom/1.3.6.1.4.1.14519.5.2.1.6279.6001.195975724868929317649402600442/1.2.276.0.7230010.3.1.3.0.8183.1553291968.695561/1.2.276.0.7230010.3.1.4.0.8183.1553291968.695559.dcm#1592617293427367...\n",
            "Copying gs://idc-tcia-lidc-idri/dicom/1.3.6.1.4.1.14519.5.2.1.6279.6001.299257181285137013436464151874/1.2.276.0.7230010.3.1.3.0.27813.1553311169.853765/1.2.276.0.7230010.3.1.4.0.27813.1553311169.853763.dcm#1592618476782380...\n",
            "Copying gs://idc-tcia-lidc-idri/dicom/1.3.6.1.4.1.14519.5.2.1.6279.6001.299257181285137013436464151874/1.2.276.0.7230010.3.1.3.0.27802.1553311153.690627/1.2.276.0.7230010.3.1.4.0.27802.1553311153.690625.dcm#1592618476676801...\n",
            "Copying gs://idc-tcia-lidc-idri/dicom/1.3.6.1.4.1.14519.5.2.1.6279.6001.299257181285137013436464151874/1.2.276.0.7230010.3.1.3.0.27807.1553311160.925122/1.2.276.0.7230010.3.1.4.0.27807.1553311160.925120.dcm#1592618476713865...\n",
            "Copying gs://idc-tcia-lidc-idri/dicom/1.3.6.1.4.1.14519.5.2.1.6279.6001.195975724868929317649402600442/1.2.276.0.7230010.3.1.3.0.8182.1553291967.279064/1.2.276.0.7230010.3.1.4.0.8182.1553291967.279065.dcm#1592617293438417...\n",
            "Copying gs://idc-tcia-lidc-idri/dicom/1.3.6.1.4.1.14519.5.2.1.6279.6001.299257181285137013436464151874/1.2.276.0.7230010.3.1.3.0.27810.1553311165.857525/1.2.276.0.7230010.3.1.4.0.27810.1553311165.857526.dcm#1592618476755609...\n",
            "Copying gs://idc-tcia-lidc-idri/dicom/1.3.6.1.4.1.14519.5.2.1.6279.6001.224985459390356936417021464571/1.3.6.1.4.1.14519.5.2.1.6279.6001.273525289046256012743471155680/1.3.6.1.4.1.14519.5.2.1.6279.6001.286044116525230803426460277547.dcm#1592617651385543...\n",
            "Copying gs://idc-tcia-lidc-idri/dicom/1.3.6.1.4.1.14519.5.2.1.6279.6001.299257181285137013436464151874/1.2.276.0.7230010.3.1.3.0.27803.1553311155.903136/1.2.276.0.7230010.3.1.4.0.27803.1553311155.903137.dcm#1592618476696046...\n",
            "Copying gs://idc-tcia-lidc-idri/dicom/1.3.6.1.4.1.14519.5.2.1.6279.6001.224985459390356936417021464571/1.2.276.0.7230010.3.1.3.0.57866.1553343884.374361/1.2.276.0.7230010.3.1.4.0.57866.1553343884.374362.dcm#1592617650139769...\n",
            "Copying gs://idc-tcia-lidc-idri/dicom/1.3.6.1.4.1.14519.5.2.1.6279.6001.224985459390356936417021464571/1.2.276.0.7230010.3.1.3.0.57868.1553343890.658806/1.2.276.0.7230010.3.1.4.0.57868.1553343890.658807.dcm#1592617650099857...\n",
            "Copying gs://idc-tcia-lidc-idri/dicom/1.3.6.1.4.1.14519.5.2.1.6279.6001.299257181285137013436464151874/1.2.276.0.7230010.3.1.3.0.27809.1553311164.457207/1.2.276.0.7230010.3.1.4.0.27809.1553311164.457205.dcm#1592618476738209...\n",
            "Copying gs://idc-tcia-lidc-idri/dicom/1.3.6.1.4.1.14519.5.2.1.6279.6001.195975724868929317649402600442/1.2.276.0.7230010.3.1.3.0.8185.1553291972.389743/1.2.276.0.7230010.3.1.4.0.8185.1553291972.389741.dcm#1592617293453199...\n",
            "Copying gs://idc-tcia-lidc-idri/dicom/1.3.6.1.4.1.14519.5.2.1.6279.6001.224985459390356936417021464571/1.2.276.0.7230010.3.1.3.0.57862.1553343871.521768/1.2.276.0.7230010.3.1.4.0.57862.1553343871.521769.dcm#1592617650025540...\n",
            "Copying gs://idc-tcia-lidc-idri/dicom/1.3.6.1.4.1.14519.5.2.1.6279.6001.299257181285137013436464151874/1.2.276.0.7230010.3.1.3.0.27808.1553311163.107899/1.2.276.0.7230010.3.1.4.0.27808.1553311163.107900.dcm#1592618476736404...\n",
            "Copying gs://idc-tcia-lidc-idri/dicom/1.3.6.1.4.1.14519.5.2.1.6279.6001.195975724868929317649402600442/1.2.276.0.7230010.3.1.3.0.8184.1553291970.981181/1.2.276.0.7230010.3.1.4.0.8184.1553291970.981182.dcm#1592617293436364...\n",
            "Copying gs://idc-tcia-lidc-idri/dicom/1.3.6.1.4.1.14519.5.2.1.6279.6001.224985459390356936417021464571/1.2.276.0.7230010.3.1.3.0.57823.1553343864.578877/1.2.276.0.7230010.3.1.4.0.57823.1553343864.578878.dcm#1592617650019002...\n",
            "Copying gs://idc-tcia-lidc-idri/dicom/1.3.6.1.4.1.14519.5.2.1.6279.6001.224985459390356936417021464571/1.2.276.0.7230010.3.1.3.0.57864.1553343878.69423/1.2.276.0.7230010.3.1.4.0.57864.1553343878.69424.dcm#1592617650040380...\n",
            "Copying gs://idc-tcia-lidc-idri/dicom/1.3.6.1.4.1.14519.5.2.1.6279.6001.299257181285137013436464151874/1.2.276.0.7230010.3.1.3.0.27804.1553311157.291611/1.2.276.0.7230010.3.1.4.0.27804.1553311157.291609.dcm#1592618476710982...\n",
            "Copying gs://idc-tcia-lidc-idri/dicom/1.3.6.1.4.1.14519.5.2.1.6279.6001.224985459390356936417021464571/1.2.276.0.7230010.3.1.3.0.57865.1553343880.984878/1.2.276.0.7230010.3.1.4.0.57865.1553343880.984876.dcm#1592617650037912...\n",
            "Copying gs://idc-tcia-lidc-idri/dicom/1.3.6.1.4.1.14519.5.2.1.6279.6001.299257181285137013436464151874/1.2.276.0.7230010.3.1.3.0.27801.1553311152.203863/1.2.276.0.7230010.3.1.4.0.27801.1553311152.203864.dcm#1592618476683198...\n",
            "Copying gs://idc-tcia-lidc-idri/dicom/1.3.6.1.4.1.14519.5.2.1.6279.6001.299257181285137013436464151874/1.2.276.0.7230010.3.1.3.0.27806.1553311159.460872/1.2.276.0.7230010.3.1.4.0.27806.1553311159.460873.dcm#1592618476713331...\n",
            "Copying gs://idc-tcia-lidc-idri/dicom/1.3.6.1.4.1.14519.5.2.1.6279.6001.299257181285137013436464151874/1.2.276.0.7230010.3.1.3.0.27812.1553311168.483128/1.2.276.0.7230010.3.1.4.0.27812.1553311168.483129.dcm#1592618476782893...\n",
            "Copying gs://idc-tcia-lidc-idri/dicom/1.3.6.1.4.1.14519.5.2.1.6279.6001.224985459390356936417021464571/1.2.276.0.7230010.3.1.3.0.57869.1553343893.830064/1.2.276.0.7230010.3.1.4.0.57869.1553343893.830062.dcm#1592617650116142...\n",
            "Copying gs://idc-tcia-lidc-idri/dicom/1.3.6.1.4.1.14519.5.2.1.6279.6001.224985459390356936417021464571/1.2.276.0.7230010.3.1.3.0.57867.1553343887.314711/1.2.276.0.7230010.3.1.4.0.57867.1553343887.314709.dcm#1592617650121950...\n",
            "Copying gs://idc-tcia-lidc-idri/dicom/1.3.6.1.4.1.14519.5.2.1.6279.6001.224985459390356936417021464571/1.2.276.0.7230010.3.1.3.0.57861.1553343868.61434/1.2.276.0.7230010.3.1.4.0.57861.1553343868.61432.dcm#1592617650031897...\n",
            "- [29/29 files][  7.5 MiB/  7.5 MiB] 100% Done                                  \n",
            "Operation completed over 29 objects/7.5 MiB.                                     \n"
          ],
          "name": "stdout"
        }
      ]
    },
    {
      "cell_type": "markdown",
      "metadata": {
        "id": "6cWqQ1cjIEKt"
      },
      "source": [
        "Now the data is located in the file storage local to the VM, but all of the files are in the same directory, which is not the most convenient layout.\n",
        "\n",
        "You can use the DICOM metadata to organize those instances, or use one of the existing tools to do this. One such tool is used below to organize the flat list of DICOM files into the PatientID-StudyInstanceUID-SeriesInstanceUID-SOPInstanceUID hierarchy."
      ]
    },
    {
      "cell_type": "code",
      "metadata": {
        "id": "SFUQAR0ti9hL",
        "outputId": "1d26b71e-ba86-4d34-cd0e-0a21e367c919",
        "colab": {
          "base_uri": "https://localhost:8080/",
          "height": 867
        }
      },
      "source": [
        "!git clone https://github.com/pieper/dicomsort.git\n",
        "!pip install pydicom\n",
        "!python dicomsort/dicomsort.py --help"
      ],
      "execution_count": 1,
      "outputs": [
        {
          "output_type": "stream",
          "text": [
            "Cloning into 'dicomsort'...\n",
            "remote: Enumerating objects: 126, done.\u001b[K\n",
            "remote: Total 126 (delta 0), reused 0 (delta 0), pack-reused 126\u001b[K\n",
            "Receiving objects: 100% (126/126), 37.03 KiB | 1.61 MiB/s, done.\n",
            "Resolving deltas: 100% (63/63), done.\n",
            "Collecting pydicom\n",
            "\u001b[?25l  Downloading https://files.pythonhosted.org/packages/d3/56/342e1f8ce5afe63bf65c23d0b2c1cd5a05600caad1c211c39725d3a4cc56/pydicom-2.0.0-py3-none-any.whl (35.4MB)\n",
            "\u001b[K     |████████████████████████████████| 35.5MB 1.3MB/s \n",
            "\u001b[?25hInstalling collected packages: pydicom\n",
            "Successfully installed pydicom-2.0.0\n",
            "\n",
            "% dicomsort.py --help\n",
            "dicomsort [options...] sourceDir targetDir/<patterns>\n",
            "\n",
            " where [options...] can be:\n",
            "    [-z,--compressTargets] - create a .zip file in the target directory\n",
            "    [-d,--deleteSource] - remove source files/directories after sorting\n",
            "    [-f,--forceDelete] - remove source without confirmation\n",
            "    [-k,--keepGoing] - report but ignore dupicate target files\n",
            "    [-v,--verbose] - print diagnostics while processing\n",
            "    [-s,--symlink] - create a symlink to dicom files in sourceDir instead of copying them\n",
            "    [-t,--test] - run the built in self test (requires internet)\n",
            "    [-u,--unsafe] - do not replace unsafe characters with '_' in the path\n",
            "    [--help] - print this message\n",
            "\n",
            " where sourceDir is directory to be scanned or \"\" (null string) to read file list from stdin\n",
            "\n",
            " where targetDir/<patterns...> is a string defining the output file and directory\n",
            " names based on the dicom tags in the file.\n",
            "\n",
            "If patterns are not specified, the following default is used:\n",
            "\n",
            "  %PatientName-%Modality%StudyID-%StudyDescription-%StudyDate/%SeriesNumber_%SeriesDescription-%InstanceNumber.dcm\n",
            "\n",
            "Example 1:\n",
            "\n",
            "  dicomsort data sorted/%PatientName/%StudyDate/%SeriesDescription-%InstanceNumber.dcm\n",
            "\n",
            "  could create a folder structure like:\n",
            "\n",
            "  sorted/JohnDoe/2013-40-18/FLAIR-2.dcm\n",
            "\n",
            "Example 2:\n",
            "\n",
            "  find DicomSourceDir/ | grep \"IMA$\" | dicomsort -s \"\" DicomTargetDir\n",
            "\n",
            "  would scan DicomSourceDir for file pathnames ending in IMA and create an\n",
            "  output directory DicomTargetDir. The folder structure will be created using\n",
            "  the default pattern with symbolic links to the source dicom data files.\n",
            "\n"
          ],
          "name": "stdout"
        }
      ]
    },
    {
      "cell_type": "markdown",
      "metadata": {
        "id": "L_lE0c1FIvha"
      },
      "source": [
        "The command below will sort instances into folders based on the DICOM metadata stored in the corresponding files."
      ]
    },
    {
      "cell_type": "code",
      "metadata": {
        "id": "sADXT6tukTu2",
        "outputId": "d0010fc8-4573-485b-ed9f-1e8d74e630e2",
        "colab": {
          "base_uri": "https://localhost:8080/",
          "height": 51
        }
      },
      "source": [
        "!python dicomsort/dicomsort.py -u downloaded_cohort cohort_sorted/%PatientID/%StudyInstanceUID/%SeriesInstanceUID/%SOPInstanceUID.dcm"
      ],
      "execution_count": null,
      "outputs": [
        {
          "output_type": "stream",
          "text": [
            "100% 29/29 [00:02<00:00, 11.31it/s]\n",
            "Files sorted\n"
          ],
          "name": "stdout"
        }
      ]
    }
  ]
}