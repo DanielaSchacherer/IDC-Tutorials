{
  "nbformat": 4,
  "nbformat_minor": 0,
  "metadata": {
    "kernelspec": {
      "display_name": "Python 3",
      "language": "python",
      "name": "python3"
    },
    "language_info": {
      "codemirror_mode": {
        "name": "ipython",
        "version": 3
      },
      "file_extension": ".py",
      "mimetype": "text/x-python",
      "name": "python",
      "nbconvert_exporter": "python",
      "pygments_lexer": "ipython3",
      "version": "3.6.3"
    },
    "colab": {
      "name": "LIDC exploration",
      "provenance": [],
      "collapsed_sections": [],
      "toc_visible": true
    }
  },
  "cells": [
    {
      "cell_type": "markdown",
      "metadata": {
        "id": "CEvbO9n3x9s_"
      },
      "source": [
        "# Exploration of the LIDC-IDRI analysis results"
      ]
    },
    {
      "cell_type": "markdown",
      "metadata": {
        "id": "hQhKMimOdvc6"
      },
      "source": [
        "# About\n",
        "\n",
        "The purpose of this notebook is to provide a demonstration of how standard DICOM objects containing annotations and evaluations of the nodules for the TCIA [LIDC-IDRI](https://wiki.cancerimagingarchive.net/display/Public/LIDC-IDRI) collection hosted on the Imaging Data Commons (IDC) can be examined using various standard tools and components provided by IDC and Google Cloud platform.\n",
        "\n",
        "Detailed description of the dataset is available in the open access article below.\n",
        "\n",
        "> Fedorov, A., Hancock, M., Clunie, D., Brochhausen, M., Bona, J., Kirby, J., Freymann, J., Pieper, S., J W L Aerts, H., Kikinis, R. & Prior, F. DICOM re-encoding of volumetrically annotated Lung Imaging Database Consortium (LIDC) nodules. Med. Phys. (2020). https://doi.org/10.1002/mp.14445\n",
        "\n",
        "**The latest version of the notebook is in this repository: https://github.com/ImagingDataCommons/IDC-Examples/blob/master/notebooks/LIDC_exploration.ipynb**"
      ]
    },
    {
      "cell_type": "markdown",
      "metadata": {
        "id": "7qwLub9hQAD9"
      },
      "source": [
        "# Prerequisites\n",
        "\n",
        "This notebook assumes that you: \n",
        "* have internet access\n",
        "* have a Google identity\n",
        "* configured a project under Google Cloud Platform the following locally on your computer (**TODO: you can see how to complete this step in this tutorial**)\n",
        "* replace `##MY_PROJECT_ID##` in the cell below with the ID of the GCP project you have confugured under your account\n",
        "\n",
        "Let's authenticate to be able to perform any queries, and import the packages we will be using to work with the data."
      ]
    },
    {
      "cell_type": "code",
      "metadata": {
        "id": "L4l9YjcKsuI3"
      },
      "source": [
        "myProjectID = \"##MY_PROJECT_ID##\""
      ],
      "execution_count": 23,
      "outputs": []
    },
    {
      "cell_type": "code",
      "metadata": {
        "id": "5yT4EWyCf1Ic"
      },
      "source": [
        "from google.colab import auth\n",
        "auth.authenticate_user()"
      ],
      "execution_count": null,
      "outputs": []
    },
    {
      "cell_type": "code",
      "metadata": {
        "id": "4HXBqT4fdvc7",
        "outputId": "79e2cce3-000d-420e-cf9a-e3c5c7b8dfce",
        "colab": {
          "base_uri": "https://localhost:8080/",
          "height": 71
        }
      },
      "source": [
        "import pandas as pd\n",
        "import os, json\n",
        "import seaborn as sb\n",
        "import numpy as np\n",
        "import matplotlib.pyplot as plt\n",
        "\n",
        "%matplotlib notebook \n",
        "\n",
        "# TODO: update the viewer URL with the production instance\n",
        "def get_idc_viewer_url(studyUID):\n",
        "  return \"https://testing-viewer.canceridc.dev/viewer/\"+studyUID"
      ],
      "execution_count": null,
      "outputs": [
        {
          "output_type": "stream",
          "text": [
            "/usr/local/lib/python3.6/dist-packages/statsmodels/tools/_testing.py:19: FutureWarning: pandas.util.testing is deprecated. Use the functions in the public API at pandas.testing instead.\n",
            "  import pandas.util.testing as tm\n"
          ],
          "name": "stderr"
        }
      ]
    },
    {
      "cell_type": "markdown",
      "metadata": {
        "id": "pSMi8Fejdvdf"
      },
      "source": [
        "# Data exploration\n",
        "\n",
        "To explore the data, we will query BigQuery tables maintained by IDC that contain all of the DICOM metadata for hosted content.\n",
        "\n",
        "**TODO: You can learn about the organization of the IDC BQ tables here**\n",
        "\n"
      ]
    },
    {
      "cell_type": "markdown",
      "metadata": {
        "id": "xK0xXC7Wdvdf"
      },
      "source": [
        "### CT Images\n",
        "\n",
        "IDC BQ tables contain one row per DICOM instance. Let's first subset all rows that correspond to the instances of CT modality from the `lidc_idri` collection, and get count the number of CT series for each patient.\n",
        "\n",
        "Note the syntax of the `%%bigquery` command: the last argument specifies the name of the pandas data frame that will contain the result of the query.\n",
        "\n",
        "**NOTE**: you will need to replace the \"PROJECT_ID\" placeholdler with the ID of your GCP project!\n"
      ]
    },
    {
      "cell_type": "code",
      "metadata": {
        "id": "OgxP53E-dvdg"
      },
      "source": [
        "%%bigquery --project=$myProjectID ct_series_counts\n",
        "\n",
        "WITH\n",
        "  all_lidc_ct_series AS (\n",
        "  SELECT\n",
        "    DISTINCT(SeriesInstanceUID),\n",
        "    PatientID\n",
        "  FROM\n",
        "    `canceridc-data.idc_views.dicom_all`\n",
        "  WHERE\n",
        "    Modality = \"CT\"\n",
        "    AND collection_id = \"lidc_idri\")\n",
        "SELECT\n",
        "  PatientID,\n",
        "  COUNT(PatientID) AS ct_series_count\n",
        "FROM\n",
        "  all_lidc_ct_series\n",
        "GROUP BY\n",
        "  PatientID\n",
        "ORDER BY\n",
        "  ct_series_count DESC"
      ],
      "execution_count": 16,
      "outputs": []
    },
    {
      "cell_type": "markdown",
      "metadata": {
        "id": "RiUL6l5agG8E"
      },
      "source": [
        "How many subjects do we have? Which subjects have more than one CT series?\n"
      ]
    },
    {
      "cell_type": "code",
      "metadata": {
        "id": "sG9UQY5-dvdj",
        "outputId": "7c96898f-b0f8-4b36-a4e0-8069fdd44d43",
        "colab": {
          "base_uri": "https://localhost:8080/",
          "height": 348
        }
      },
      "source": [
        "num_subjects = ct_series_counts[\"PatientID\"].shape[0]\n",
        "print(f\"Total number of subjects: {num_subjects}\")\n",
        "\n",
        "print(\"\\nSubjects with more than one CT series:\")\n",
        "ct_series_counts[ct_series_counts[\"ct_series_count\"]>1]"
      ],
      "execution_count": null,
      "outputs": [
        {
          "output_type": "stream",
          "text": [
            "Total number of subjects: 1010\n",
            "\n",
            "Subjects with more than one CT series:\n"
          ],
          "name": "stdout"
        },
        {
          "output_type": "execute_result",
          "data": {
            "text/html": [
              "<div>\n",
              "<style scoped>\n",
              "    .dataframe tbody tr th:only-of-type {\n",
              "        vertical-align: middle;\n",
              "    }\n",
              "\n",
              "    .dataframe tbody tr th {\n",
              "        vertical-align: top;\n",
              "    }\n",
              "\n",
              "    .dataframe thead th {\n",
              "        text-align: right;\n",
              "    }\n",
              "</style>\n",
              "<table border=\"1\" class=\"dataframe\">\n",
              "  <thead>\n",
              "    <tr style=\"text-align: right;\">\n",
              "      <th></th>\n",
              "      <th>PatientID</th>\n",
              "      <th>ct_series_count</th>\n",
              "    </tr>\n",
              "  </thead>\n",
              "  <tbody>\n",
              "    <tr>\n",
              "      <th>0</th>\n",
              "      <td>LIDC-IDRI-0315</td>\n",
              "      <td>2</td>\n",
              "    </tr>\n",
              "    <tr>\n",
              "      <th>1</th>\n",
              "      <td>LIDC-IDRI-0365</td>\n",
              "      <td>2</td>\n",
              "    </tr>\n",
              "    <tr>\n",
              "      <th>2</th>\n",
              "      <td>LIDC-IDRI-0442</td>\n",
              "      <td>2</td>\n",
              "    </tr>\n",
              "    <tr>\n",
              "      <th>3</th>\n",
              "      <td>LIDC-IDRI-0355</td>\n",
              "      <td>2</td>\n",
              "    </tr>\n",
              "    <tr>\n",
              "      <th>4</th>\n",
              "      <td>LIDC-IDRI-0151</td>\n",
              "      <td>2</td>\n",
              "    </tr>\n",
              "    <tr>\n",
              "      <th>5</th>\n",
              "      <td>LIDC-IDRI-0484</td>\n",
              "      <td>2</td>\n",
              "    </tr>\n",
              "    <tr>\n",
              "      <th>6</th>\n",
              "      <td>LIDC-IDRI-0332</td>\n",
              "      <td>2</td>\n",
              "    </tr>\n",
              "    <tr>\n",
              "      <th>7</th>\n",
              "      <td>LIDC-IDRI-0132</td>\n",
              "      <td>2</td>\n",
              "    </tr>\n",
              "  </tbody>\n",
              "</table>\n",
              "</div>"
            ],
            "text/plain": [
              "        PatientID  ct_series_count\n",
              "0  LIDC-IDRI-0315                2\n",
              "1  LIDC-IDRI-0365                2\n",
              "2  LIDC-IDRI-0442                2\n",
              "3  LIDC-IDRI-0355                2\n",
              "4  LIDC-IDRI-0151                2\n",
              "5  LIDC-IDRI-0484                2\n",
              "6  LIDC-IDRI-0332                2\n",
              "7  LIDC-IDRI-0132                2"
            ]
          },
          "metadata": {
            "tags": []
          },
          "execution_count": 13
        }
      ]
    },
    {
      "cell_type": "markdown",
      "metadata": {
        "id": "eL0CgyYxdvdm"
      },
      "source": [
        "We can use BQ to examine various aspects of the dataset, for example those related to the heterogeneity of acquisition in the data."
      ]
    },
    {
      "cell_type": "code",
      "metadata": {
        "id": "SVkBw4bGk4IM"
      },
      "source": [
        "%%bigquery --project=$myProjectID slice_thickness\n",
        "\n",
        "WITH\n",
        "  all_lidc_ct_series AS (\n",
        "  SELECT\n",
        "    DISTINCT(SeriesInstanceUID),\n",
        "    PatientID,\n",
        "    SliceThickness\n",
        "  FROM\n",
        "    `canceridc-data.idc_views.dicom_all`\n",
        "  WHERE\n",
        "    Modality = \"CT\"\n",
        "    AND collection_id = \"lidc_idri\")\n",
        "  SELECT SliceThickness FROM\n",
        "    all_lidc_ct_series"
      ],
      "execution_count": null,
      "outputs": []
    },
    {
      "cell_type": "code",
      "metadata": {
        "id": "Og5rXs-Ldvdn",
        "outputId": "8fd8015c-29d0-4ab9-ccaf-314ad720e52d",
        "colab": {
          "base_uri": "https://localhost:8080/",
          "height": 430
        }
      },
      "source": [
        "%matplotlib inline\n",
        "ax=sb.distplot(slice_thickness[\"SliceThickness\"].astype(float),kde=False)\n",
        "ax.set(xlabel=\"SliceThickness, mm\")\n",
        "slice_thickness[\"SliceThickness\"].astype(float).describe()"
      ],
      "execution_count": null,
      "outputs": [
        {
          "output_type": "execute_result",
          "data": {
            "text/plain": [
              "count    1018.000000\n",
              "mean        1.918713\n",
              "std         0.728916\n",
              "min         0.600000\n",
              "25%         1.250000\n",
              "50%         2.000000\n",
              "75%         2.500000\n",
              "max         5.000000\n",
              "Name: SliceThickness, dtype: float64"
            ]
          },
          "metadata": {
            "tags": []
          },
          "execution_count": 16
        },
        {
          "output_type": "display_data",
          "data": {
            "image/png": "[encoded data removed]",
            "text/plain": [
              "<Figure size 432x288 with 1 Axes>"
            ]
          },
          "metadata": {
            "tags": [],
            "needs_background": "light"
          }
        }
      ]
    },
    {
      "cell_type": "code",
      "metadata": {
        "id": "mmY23Ulxmcty"
      },
      "source": [
        "%%bigquery --project=$myProjectID pixel_spacing\n",
        "\n",
        "WITH\n",
        "  all_lidc_ct_series AS (\n",
        "  SELECT\n",
        "    DISTINCT(SeriesInstanceUID),\n",
        "    PatientID,\n",
        "    ARRAY_TO_STRING(PixelSpacing,\"/\") as pixelSpacingStr\n",
        "  FROM\n",
        "    `canceridc-data.idc_views.dicom_all`\n",
        "  WHERE\n",
        "    Modality = \"CT\"\n",
        "    AND collection_id = \"lidc_idri\")\n",
        "  SELECT pixelSpacingStr FROM\n",
        "    all_lidc_ct_series"
      ],
      "execution_count": null,
      "outputs": []
    },
    {
      "cell_type": "code",
      "metadata": {
        "id": "B-GoQV4Ldvdp",
        "outputId": "8406754d-589d-4616-d17d-094afd806d7d",
        "colab": {
          "base_uri": "https://localhost:8080/",
          "height": 430
        }
      },
      "source": [
        "xSpacing = pixel_spacing[\"pixelSpacingStr\"].str.split('/',n=1,expand=True)[0].astype(float)\n",
        "ax=sb.distplot(xSpacing, kde=False)\n",
        "ax.set(xlabel=\"PixelSpacing, mm\")\n",
        "xSpacing.describe()"
      ],
      "execution_count": null,
      "outputs": [
        {
          "output_type": "execute_result",
          "data": {
            "text/plain": [
              "count    1018.000000\n",
              "mean        0.687689\n",
              "std         0.084851\n",
              "min         0.460938\n",
              "25%         0.625000\n",
              "50%         0.698609\n",
              "75%         0.742188\n",
              "max         0.976562\n",
              "Name: 0, dtype: float64"
            ]
          },
          "metadata": {
            "tags": []
          },
          "execution_count": 19
        },
        {
          "output_type": "display_data",
          "data": {
            "image/png": "[encoded data removed]",
            "text/plain": [
              "<Figure size 432x288 with 1 Axes>"
            ]
          },
          "metadata": {
            "tags": [],
            "needs_background": "light"
          }
        }
      ]
    },
    {
      "cell_type": "markdown",
      "metadata": {
        "id": "6ymmFRpEdvdu"
      },
      "source": [
        "### Segmentations\n",
        "\n",
        "LIDC collection includes segmentations stored as DICOM Segmentation objects. **TODO: You can read more about what those are here.**\n",
        "\n",
        "Since most of the metadata related to segmentations is stored in DICOM sequences, and it is a bit cumbersome to query metadata located in sequences (which are stored in BigQuery RECORD data type), we will use the data views maintained by IDC that flatten some of that data to simplify access. \n",
        "\n",
        "**TODO: you can read more about the data views that are maintained by IDC here**\n",
        "\n",
        "You can read in detail about the data organization in [this paper](https://doi.org/10.1002/mp.14445), but in a nutshell, a subset of CT series included in the LIDC collection contains lung nodules, which were annotated volumetrically by a group of readers. \n",
        "\n",
        "First, let's look at the overall summary of the annotations - number of annotations per nodule, and number of nodules per subject.\n",
        "\n",
        "In the query below, we take segmentation-specific attributes from the `segmentations` view, and join it with the selected attributes from the table that contains all of the DICOM metadata and collection-level metadata.\n",
        "\n",
        "One such collection metadata is the `Source_DOI`, which is the Digital Object Identifier (DOI) corresponding to the TCIA collection with the LIDC annotations stored in DICOM format. Since each primary collection can have multiple groups of analysis results associated with it, we use the DOI to subset just a single analysis results collections identified by DOI https://doi.org/10.7937/TCIA.2018.h7umfurq."
      ]
    },
    {
      "cell_type": "code",
      "metadata": {
        "id": "5gW_O22EnwQy"
      },
      "source": [
        "%%bigquery --project=$myProjectID segmentations\n",
        "\n",
        "with lidc_segmentations as (\n",
        "SELECT\n",
        "  collection_id, \n",
        "  all_attributes.PatientID,\n",
        "  all_attributes.SeriesDescription,\n",
        "  TrackingID,\n",
        "  TrackingUID,\n",
        "  all_attributes.StudyInstanceUID,\n",
        "  all_attributes.SOPInstanceUID,\n",
        "  all_attributes.Source_DOI\n",
        "FROM\n",
        "  `canceridc-data.idc_views.segmentations` AS seg_attributes\n",
        "JOIN\n",
        "  `canceridc-data.idc_views.dicom_all` AS all_attributes\n",
        "ON\n",
        "  seg_attributes.SOPInstanceUID = all_attributes.SOPInstanceUID)\n",
        "select * from lidc_segmentations\n",
        "where Source_DOI = \"10.7937/TCIA.2018.h7umfurq\"\n",
        "  "
      ],
      "execution_count": null,
      "outputs": []
    },
    {
      "cell_type": "markdown",
      "metadata": {
        "id": "ImvpDII2V2mY"
      },
      "source": [
        "In the below, \"annotation\" corresponds to a segmentation of a nodule, with multiple segmentation potentially available for a given nodule. `TrackingUID` is a unique nodule identifier assigned by the dataset creators (details in the paper!) that can be used to associate individual annotation with a given nodule."
      ]
    },
    {
      "cell_type": "code",
      "metadata": {
        "id": "T6ci6ouadvdv",
        "outputId": "3c2a9728-e821-4281-9db3-6b55f7b070d7",
        "colab": {
          "base_uri": "https://localhost:8080/",
          "height": 330
        }
      },
      "source": [
        "print(\"Total annotations: \"+str(segmentations.shape[0]))\n",
        "print(\"Total nodules: \"+str(segmentations.drop_duplicates(subset=\"TrackingUID\").shape[0]))\n",
        "\n",
        "annotationsPerNodule = segmentations[\"TrackingUID\"].value_counts()\n",
        "ax=sb.distplot(annotationsPerNodule,kde=False) #.set_title(\"Number of annotations per nodule\")\n",
        "ax.set(xlabel=\"annotations per nodule\")"
      ],
      "execution_count": null,
      "outputs": [
        {
          "output_type": "stream",
          "text": [
            "Total annotations: 6859\n",
            "Total nodules: 2651\n"
          ],
          "name": "stdout"
        },
        {
          "output_type": "execute_result",
          "data": {
            "text/plain": [
              "[Text(0.5, 0, 'annotations per nodule')]"
            ]
          },
          "metadata": {
            "tags": []
          },
          "execution_count": 22
        },
        {
          "output_type": "display_data",
          "data": {
            "image/png": "[encoded data removed]",
            "text/plain": [
              "<Figure size 432x288 with 1 Axes>"
            ]
          },
          "metadata": {
            "tags": [],
            "needs_background": "light"
          }
        }
      ]
    },
    {
      "cell_type": "code",
      "metadata": {
        "id": "tglvQGVNdvd1",
        "outputId": "9630ebfb-22fd-4641-9680-ec3a2c1c5ebf",
        "colab": {
          "base_uri": "https://localhost:8080/",
          "height": 446
        }
      },
      "source": [
        "# annotations per subject\n",
        "annotationsPerSubject=segmentations[\"PatientID\"].value_counts()\n",
        "sb.distplot(annotationsPerSubject,kde=False).set_title(\"Number of annotations per subject\")\n",
        "annotationsPerSubject.describe()"
      ],
      "execution_count": null,
      "outputs": [
        {
          "output_type": "execute_result",
          "data": {
            "text/plain": [
              "count    875.000000\n",
              "mean       7.838857\n",
              "std        6.805594\n",
              "min        1.000000\n",
              "25%        4.000000\n",
              "50%        6.000000\n",
              "75%       10.000000\n",
              "max       49.000000\n",
              "Name: PatientID, dtype: float64"
            ]
          },
          "metadata": {
            "tags": []
          },
          "execution_count": 24
        },
        {
          "output_type": "display_data",
          "data": {
            "image/png": "[encoded data removed]",
            "text/plain": [
              "<Figure size 432x288 with 1 Axes>"
            ]
          },
          "metadata": {
            "tags": [],
            "needs_background": "light"
          }
        }
      ]
    },
    {
      "cell_type": "markdown",
      "metadata": {
        "id": "pswLnH-lXCrH"
      },
      "source": [
        "Next we form a new table that will have a single row per nodule to look at some nodule-level statistics."
      ]
    },
    {
      "cell_type": "code",
      "metadata": {
        "id": "cLkcxcmJdvdy",
        "outputId": "bd3893e8-1956-4f04-f8d4-703aab34627a",
        "colab": {
          "base_uri": "https://localhost:8080/",
          "height": 430
        }
      },
      "source": [
        "# nodules per case, case being \"patient\"\n",
        "oneAnnotationPerNodule=segmentations.drop_duplicates(subset=\"TrackingUID\")[\"PatientID\"].value_counts()\n",
        "ax=sb.distplot(oneAnnotationPerNodule,kde=False) #.set_title(\"Number of nodules per patient\")\n",
        "ax.set(xlabel=\"nodules per case\")\n",
        "oneAnnotationPerNodule.describe()"
      ],
      "execution_count": null,
      "outputs": [
        {
          "output_type": "execute_result",
          "data": {
            "text/plain": [
              "count    875.000000\n",
              "mean       3.029714\n",
              "std        2.680386\n",
              "min        1.000000\n",
              "25%        1.000000\n",
              "50%        2.000000\n",
              "75%        4.000000\n",
              "max       23.000000\n",
              "Name: PatientID, dtype: float64"
            ]
          },
          "metadata": {
            "tags": []
          },
          "execution_count": 23
        },
        {
          "output_type": "display_data",
          "data": {
            "image/png": "[encoded data removed]",
            "text/plain": [
              "<Figure size 432x288 with 1 Axes>"
            ]
          },
          "metadata": {
            "tags": [],
            "needs_background": "light"
          }
        }
      ]
    },
    {
      "cell_type": "markdown",
      "metadata": {
        "id": "y1SD4kbRdvd3"
      },
      "source": [
        "## Visualization of interesting cases\n",
        "\n",
        "If there is an interesting case or annotation, it is easy to visualize it using the IDC-maintained image viewer.\n",
        "\n",
        "Let's find a case that has the largest number of nodules."
      ]
    },
    {
      "cell_type": "code",
      "metadata": {
        "id": "38FcLIwedvd4",
        "outputId": "224e9d1a-2127-460c-9609-4275b88117f3",
        "colab": {
          "base_uri": "https://localhost:8080/",
          "height": 84
        }
      },
      "source": [
        "# who has most nodules?\n",
        "oneAnnotationPerNodule.head(3)"
      ],
      "execution_count": null,
      "outputs": [
        {
          "output_type": "execute_result",
          "data": {
            "text/plain": [
              "LIDC-IDRI-0583    23\n",
              "LIDC-IDRI-0686    21\n",
              "LIDC-IDRI-0855    16\n",
              "Name: PatientID, dtype: int64"
            ]
          },
          "metadata": {
            "tags": []
          },
          "execution_count": 44
        }
      ]
    },
    {
      "cell_type": "markdown",
      "metadata": {
        "id": "QCgGXplxdvd7"
      },
      "source": [
        "Now that we know `PatientID`s for those, we can get `StudyInstanceUID` - and open the corresponding study in a viewer!"
      ]
    },
    {
      "cell_type": "code",
      "metadata": {
        "id": "oIlhbjNJtGeu",
        "outputId": "c432e51f-74ac-48fc-fc31-52b60399fa2e",
        "colab": {
          "base_uri": "https://localhost:8080/",
          "height": 35
        }
      },
      "source": [
        "segmentations[segmentations[\"PatientID\"] == \"LIDC-IDRI-0583\"].drop_duplicates(subset=\"StudyInstanceUID\")[\"StudyInstanceUID\"].values[0]"
      ],
      "execution_count": null,
      "outputs": [
        {
          "output_type": "execute_result",
          "data": {
            "application/vnd.google.colaboratory.intrinsic+json": {
              "type": "string"
            },
            "text/plain": [
              "'1.3.6.1.4.1.14519.5.2.1.6279.6001.230901123329037029807195618747'"
            ]
          },
          "metadata": {
            "tags": []
          },
          "execution_count": 49
        }
      ]
    },
    {
      "cell_type": "markdown",
      "metadata": {
        "id": "nB7Jlp8PthQs"
      },
      "source": [
        "To open the study in the viewer, just append the `StudyInstanceUID` value above (`1.3.6.1.4.1.14519.5.2.1.6279.6001.230901123329037029807195618747`) to the IDC viewer prefix:"
      ]
    },
    {
      "cell_type": "code",
      "metadata": {
        "id": "3TQfOeSigJE-",
        "outputId": "b67c3612-6db2-4244-a014-6828c2247ebe",
        "colab": {
          "base_uri": "https://localhost:8080/",
          "height": 34
        }
      },
      "source": [
        "print(get_idc_viewer_url(\"1.3.6.1.4.1.14519.5.2.1.6279.6001.230901123329037029807195618747\"))"
      ],
      "execution_count": 17,
      "outputs": [
        {
          "output_type": "stream",
          "text": [
            "https://viewer.imaging.datacommons.cancer.gov/viewer/1.3.6.1.4.1.14519.5.2.1.6279.6001.230901123329037029807195618747\n"
          ],
          "name": "stdout"
        }
      ]
    },
    {
      "cell_type": "markdown",
      "metadata": {
        "id": "-gNHbl8Vdvd-"
      },
      "source": [
        "## Evaluations and measurements\n",
        "\n",
        "Each annotation of the nodule is accompanied by its qualitative assessment performed by the reader, and quantitative measurements (volume and surface area) calculated based on the definition of the segmented region.\n",
        "\n",
        "All of those annotations are stored in DICOM Structured Reporting instances of SR teamplate TID 1500 (**TODO: read more about it here**), with each set of measurements associated with a single segmentation and stored in a single instance of the DICOM SR object.\n",
        "\n",
        "Similar to the segmentation objects, navigating the content of DICOM SR objects can be quite complex, and IDC provides table views that simplify access to the measurements contained in SR documents (**TODO: read more about those views here**).\n",
        "\n",
        "Let's first get all the measurements, see what kinds of measurements are available for this collection, and how to access them."
      ]
    },
    {
      "cell_type": "code",
      "metadata": {
        "id": "n4cK-TeRdvd_"
      },
      "source": [
        "%%bigquery --project=$myProjectID quantitative_measurements\n",
        "\n",
        "with lidc_measurements as (\n",
        "SELECT\n",
        "  collection_id, \n",
        "  all_attributes.PatientID,\n",
        "  all_attributes.SeriesDescription,\n",
        "  trackingIdentifier,\n",
        "  trackingUniqueIdentifier,\n",
        "  Quantity.CodeMeaning as Quantity,\n",
        "  \"Units.CodeMeaning\" as Units,\n",
        "  Value,\n",
        "  all_attributes.StudyInstanceUID,\n",
        "  all_attributes.SOPInstanceUID,\n",
        "  all_attributes.Source_DOI\n",
        "FROM\n",
        "  `canceridc-data.idc_views.quantitative_measurements` AS measurements_attributes\n",
        "JOIN\n",
        "  `canceridc-data.idc_views.dicom_all` AS all_attributes\n",
        "ON\n",
        "  measurements_attributes.SOPInstanceUID = all_attributes.SOPInstanceUID)\n",
        "select * from lidc_measurements\n",
        "where Source_DOI = \"10.7937/TCIA.2018.h7umfurq\""
      ],
      "execution_count": null,
      "outputs": []
    },
    {
      "cell_type": "code",
      "metadata": {
        "id": "pbzR8Oe2dveB",
        "outputId": "25382803-3270-4c3f-a7f9-70a0c673f334",
        "colab": {
          "base_uri": "https://localhost:8080/",
          "height": 34
        }
      },
      "source": [
        "print(f\"Number of quantitative measurements: {quantitative_measurements.shape[0]}\")"
      ],
      "execution_count": null,
      "outputs": [
        {
          "output_type": "stream",
          "text": [
            "Number of quantitative measurements: 20577\n"
          ],
          "name": "stdout"
        }
      ]
    },
    {
      "cell_type": "code",
      "metadata": {
        "id": "02J4TZ4ZdveE",
        "outputId": "ae27eae1-6593-45b7-8082-f379acafbae5",
        "colab": {
          "base_uri": "https://localhost:8080/",
          "height": 298
        }
      },
      "source": [
        "volumes = quantitative_measurements[quantitative_measurements[\"Quantity\"]==\"Volume\"]\n",
        "sb.distplot(volumes[\"Value\"].astype(float).values,kde=False).set_title(\"Annotation volume\")\n",
        "#volumes[\"Value\"].astype(float).describe()"
      ],
      "execution_count": null,
      "outputs": [
        {
          "output_type": "execute_result",
          "data": {
            "text/plain": [
              "Text(0.5, 1.0, 'Annotation volume')"
            ]
          },
          "metadata": {
            "tags": []
          },
          "execution_count": 31
        },
        {
          "output_type": "display_data",
          "data": {
            "image/png": "[encoded data removed]",
            "text/plain": [
              "<Figure size 432x288 with 1 Axes>"
            ]
          },
          "metadata": {
            "tags": [],
            "needs_background": "light"
          }
        }
      ]
    },
    {
      "cell_type": "markdown",
      "metadata": {
        "id": "Mj6kYdsoiJLR"
      },
      "source": [
        "Similar to the example above, we can easily find the largest annotation, and open it in a viewer."
      ]
    },
    {
      "cell_type": "code",
      "metadata": {
        "id": "1SRqG52vdveI",
        "outputId": "10dd5d2a-6337-4b51-af3a-f4812d256d1c",
        "colab": {
          "base_uri": "https://localhost:8080/",
          "height": 67
        }
      },
      "source": [
        "# is that largest tumor an outlier?\n",
        "largest = volumes[volumes[\"Value\"].astype(float)==np.max(volumes[\"Value\"].astype(float).values)]\n",
        "subject = largest[\"PatientID\"].values[0]\n",
        "noduleUID = largest[\"trackingUniqueIdentifier\"].values[0]\n",
        "studyUID = pd.unique(largest[\"StudyInstanceUID\"])[0]\n",
        "#annotationLabel = segmentations[segmentations[\"TrackingUID\"]==noduleUID][\"SegmentLabel\"].values[0]\n",
        "\n",
        "print(subject)\n",
        "print(largest[\"trackingIdentifier\"].values[0])\n",
        "print(get_idc_viewer_url(studyUID))\n",
        "#print(annotationLabel)"
      ],
      "execution_count": null,
      "outputs": [
        {
          "output_type": "stream",
          "text": [
            "LIDC-IDRI-0834\n",
            "Nodule 1\n",
            "https://testing-viewer.canceridc.dev/viewer/1.3.6.1.4.1.14519.5.2.1.6279.6001.224985459390356936417021464571\n"
          ],
          "name": "stdout"
        }
      ]
    },
    {
      "cell_type": "markdown",
      "metadata": {
        "id": "YI1Tjvjc7Ahe"
      },
      "source": [
        "## Qualitative evaluations\n",
        "\n",
        "First, retrieve qualitative measurements alongside some additional attributes from the `dicom_all` table."
      ]
    },
    {
      "cell_type": "code",
      "metadata": {
        "id": "dzlI95R7fhuP"
      },
      "source": [
        "%%bigquery --project=$myProjectID qualitative_measurements\n",
        "\n",
        "with lidc_measurements as (\n",
        "SELECT\n",
        "  collection_id, \n",
        "  all_attributes.PatientID,\n",
        "  all_attributes.SeriesDescription,\n",
        "  trackingIdentifier,\n",
        "  trackingUniqueIdentifier,\n",
        "  Quantity.CodeMeaning as Quantity,\n",
        "  \"Units.CodeMeaning\" as Units,\n",
        "  Value.CodeMeaning as Value,\n",
        "  all_attributes.StudyInstanceUID,\n",
        "  all_attributes.SOPInstanceUID,\n",
        "  all_attributes.Source_DOI\n",
        "FROM\n",
        "  `canceridc-data.idc_views.qualitative_measurements` AS measurements_attributes\n",
        "JOIN\n",
        "  `canceridc-data.idc_views.dicom_all` AS all_attributes\n",
        "ON\n",
        "  measurements_attributes.SOPInstanceUID = all_attributes.SOPInstanceUID)\n",
        "select * from lidc_measurements\n",
        "where Source_DOI = \"10.7937/TCIA.2018.h7umfurq\""
      ],
      "execution_count": 18,
      "outputs": []
    },
    {
      "cell_type": "markdown",
      "metadata": {
        "id": "ZW-HA3jtxJB5"
      },
      "source": [
        "`Quantity` attribute can be used to figure out the type of evaluation."
      ]
    },
    {
      "cell_type": "code",
      "metadata": {
        "id": "FyN1Ean0dveT",
        "outputId": "e494ad13-41ec-45da-98fd-55f197eea9a5",
        "colab": {
          "base_uri": "https://localhost:8080/",
          "height": 68
        }
      },
      "source": [
        "qualitative_measurements[\"Quantity\"].unique()"
      ],
      "execution_count": 19,
      "outputs": [
        {
          "output_type": "execute_result",
          "data": {
            "text/plain": [
              "array(['Subtlety score', 'Internal structure', 'Calcification',\n",
              "       'Sphericity', 'Margin', 'Lobular Pattern', 'Spiculation',\n",
              "       'Texture', 'Malignancy'], dtype=object)"
            ]
          },
          "metadata": {
            "tags": []
          },
          "execution_count": 19
        }
      ]
    },
    {
      "cell_type": "markdown",
      "metadata": {
        "id": "pADrE2V7xWIZ"
      },
      "source": [
        "Here is a VERY busy plot summarizing all of the types and values of qualitative evaluations for our cohort."
      ]
    },
    {
      "cell_type": "code",
      "metadata": {
        "scrolled": false,
        "id": "BexnsOS_dveZ",
        "outputId": "39eae7d3-7a74-4518-e48e-7cb1a2f33c58",
        "colab": {
          "base_uri": "https://localhost:8080/",
          "height": 596
        }
      },
      "source": [
        "%matplotlib inline\n",
        "\n",
        "sb.countplot(y=\"Quantity\", hue=\"Value\", data=qualitative_measurements)\n",
        "\n",
        "#g = sb.FacetGrid(qualitative, col=\"subject\", col_wrap=3, height=2)\n",
        "#g.map(sb.countplot, \"conceptCode_CodeMeaning\", \"conceptValue_CodeMeaning\", color=\".3\");\n",
        "\n",
        "#g = sb.FacetGrid(qualitative, col=\"conceptCode_CodeMeaning\", col_wrap=3)\n",
        "#g.map(sb.countplot, \"conceptValue_CodeMeaning\", color=\".3\", orient=\"v\")\n",
        "#plt.figure(figsize=(10, 30))\n",
        "#sb.countplot(y=\"conceptCode_CodeMeaning\", hue=\"conceptValue_CodeMeaning\", data=qualitativeWithContext)\n"
      ],
      "execution_count": 20,
      "outputs": [
        {
          "output_type": "execute_result",
          "data": {
            "text/plain": [
              "<matplotlib.axes._subplots.AxesSubplot at 0x7f5b9facc320>"
            ]
          },
          "metadata": {
            "tags": []
          },
          "execution_count": 20
        },
        {
          "output_type": "display_data",
          "data": {
            "image/png": "[encoded data removed]",
            "text/plain": [
              "<Figure size 432x288 with 1 Axes>"
            ]
          },
          "metadata": {
            "tags": [],
            "needs_background": "light"
          }
        }
      ]
    },
    {
      "cell_type": "code",
      "metadata": {
        "id": "7A-mZiRbdvec",
        "outputId": "d80e330c-1935-448b-83a7-2dcc8eb8424c",
        "colab": {
          "base_uri": "https://localhost:8080/",
          "height": 102
        }
      },
      "source": [
        "\n",
        "qualitative_measurements[qualitative_measurements[\"Quantity\"]==\"Internal structure\"][\"Value\"].value_counts()\n"
      ],
      "execution_count": 21,
      "outputs": [
        {
          "output_type": "execute_result",
          "data": {
            "text/plain": [
              "Soft tissue       6819\n",
              "Air                 27\n",
              "Fluid               11\n",
              "Adipose tissue       1\n",
              "Name: Value, dtype: int64"
            ]
          },
          "metadata": {
            "tags": []
          },
          "execution_count": 21
        }
      ]
    }
  ]
}