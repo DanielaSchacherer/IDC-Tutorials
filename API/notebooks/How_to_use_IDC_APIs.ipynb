{
  "nbformat": 4,
  "nbformat_minor": 0,
  "metadata": {
    "colab": {
      "name": "How_to_use_IDC_APIs.ipynb",
      "provenance": [],
      "toc_visible": true,
      "authorship_tag": "ABX9TyNkhe8dOoOgdOXjA8eQhTZx",
      "include_colab_link": true
    },
    "kernelspec": {
      "name": "python3",
      "display_name": "Python 3"
    }
  },
  "cells": [
    {
      "cell_type": "markdown",
      "metadata": {
        "id": "view-in-github",
        "colab_type": "text"
      },
      "source": [
        "<a href=\"https://colab.research.google.com/github/ImagingDataCommons/IDC-Examples/blob/master/API/notebooks/How_to_use_IDC_APIs.ipynb\" target=\"_parent\"><img src=\"https://colab.research.google.com/assets/colab-badge.svg\" alt=\"Open In Colab\"/></a>"
      ]
    },
    {
      "cell_type": "markdown",
      "metadata": {
        "id": "7r7hxORgipCk"
      },
      "source": [
        "# How to Use the IDC APIs"
      ]
    },
    {
      "cell_type": "markdown",
      "metadata": {
        "id": "-R7dcBPHjB9b"
      },
      "source": [
        "## Overview of this notebook\n",
        "This notebook is designed as a quick introduction to the IDC APIs and how to access them with Python.\n",
        "\n",
        "Topics covered:\n",
        "* Overviews of APIs, Swagger, JSON, endpoints\n",
        "* Use cases for IDC APIs\n",
        "* Examples of IDC API endpoints"
      ]
    },
    {
      "cell_type": "markdown",
      "metadata": {
        "id": "6BPfIN_KjVSP"
      },
      "source": [
        "### Overview of APIs\n",
        "An API or application-programming interface is a software intermediary that allows two applications to talk to each other. In other words, an API is the messenger that delivers your request to the provider that you’re requesting it from and then delivers the response back to you [(Wikipedia)](https://en.wikipedia.org/wiki/Application_programming_interface). Each action that an API can take is called an \"endpoint\".\n",
        "\n",
        "Some useful tutorials and quick start guides on APIs are:\n",
        "* [GDC's Getting Started guide for APIs](https://docs.gdc.cancer.gov/API/Users_Guide/Getting_Started/)\n",
        "* [API Integration in Python](https://realpython.com/api-integration-in-python/)\n",
        "* [Python API Tutorial: Getting Started with APIs](https://www.dataquest.io/blog/python-api-tutorial/)"
      ]
    },
    {
      "cell_type": "markdown",
      "metadata": {
        "id": "0pvtxR9piA8d"
      },
      "source": [
        "### What is an HTTP Message?\n",
        "\n",
        "Clients and the IDC API server communicate via HTTP messages. An overview of HTTP messaging can be found [here](https://developer.mozilla.org/en-US/docs/Web/HTTP/Messages)."
      ]
    },
    {
      "cell_type": "markdown",
      "metadata": {
        "id": "XwOE_7aXkIqD"
      },
      "source": [
        "### What is JSON?\n",
        "\n",
        "JSON  or JavaScript Object Notation is a lightweight data-interchange format that is easy for humans and machines to work with. More information can be found at [json.org](https://www.json.org/)."
      ]
    },
    {
      "cell_type": "markdown",
      "metadata": {
        "id": "xA89089NjvXG"
      },
      "source": [
        "### What is SwaggerUI?\n",
        "\n",
        "[SwaggerUI](https://swagger.io/tools/swagger-ui/) is a user interface that allows users to try out the APIs and view their documentation easily. You can access the IDC API SwaggerUI [here](https://api-dot-idc-dev.appspot.com/v1/swagger)."
      ]
    },
    {
      "cell_type": "markdown",
      "metadata": {
        "id": "BKVdyqJIj3Vv"
      },
      "source": [
        "### What is an endpoint?\n",
        "\n",
        "An endpoint is the *call* for a specific functionally of an API. For example, `/collections` at the end of the API request URL `https://api-dot-idc.appspot.com/v1/collections` is an endpoint that returns (or GETs) information about the available collections."
      ]
    },
    {
      "cell_type": "markdown",
      "metadata": {
        "id": "lUBjUmW0b4yM"
      },
      "source": [
        "###IDC API Documentation\n",
        "\n",
        "Detailed documentation on the IDC API can be found in the [API](https://learn.canceridc.dev/api/getting-started) section of the [IDC User Guide](https://learn.canceridc.dev/ps://)."
      ]
    },
    {
      "cell_type": "markdown",
      "metadata": {
        "id": "q2oDuqk-m_n9"
      },
      "source": [
        "### IDC API URL Preamble\n",
        "We define the IDC API URL preamble as a variable so that we can easily change it."
      ]
    },
    {
      "cell_type": "code",
      "metadata": {
        "id": "6YJby7wJnYE7"
      },
      "source": [
        "idc_api_preamble = 'https://api-dot-idc-dev.appspot.com/v1'"
      ],
      "execution_count": 1,
      "outputs": []
    },
    {
      "cell_type": "markdown",
      "metadata": {
        "id": "EwGFbzkqk--J"
      },
      "source": [
        "### Python library `requests`\n",
        "\n",
        "In this notebook, we use the Python Requests HTTP library to access IDC API endpoints."
      ]
    },
    {
      "cell_type": "code",
      "metadata": {
        "id": "TV37C4SrlHvD"
      },
      "source": [
        "# Install requests if needed\n",
        "# pip install requests\n",
        "\n",
        "# Import the requests library\n",
        "import requests"
      ],
      "execution_count": 2,
      "outputs": []
    },
    {
      "cell_type": "markdown",
      "metadata": {
        "id": "AcCF8X0mlLup"
      },
      "source": [
        "## Use cases for IDC APIs\n",
        "\n",
        "The IDC APIs can be used for a number of different tasks for interacting with the Google Cloud Platform and BigQuery. It can be used to subset data into cohorts or to access cohorts that have been created using the IDC WebApp. The location of the DICOM objects associated with a cohort can be obtained."
      ]
    },
    {
      "cell_type": "markdown",
      "metadata": {
        "id": "uCce3LIXmGgc"
      },
      "source": [
        "## Example: GET `/about` Endpoint\n",
        "\n"
      ]
    },
    {
      "cell_type": "markdown",
      "metadata": {
        "id": "kbA3GWUSmPlr"
      },
      "source": [
        "We are first going to explore the `about` endpoint using the 'GET' request to the API. This API will give you such information about the IDC API as links to the Swagger UI interface and to the IDC User Guide."
      ]
    },
    {
      "cell_type": "code",
      "metadata": {
        "id": "C3Ixom20mVrh"
      },
      "source": [
        "# First submit the 'get' request to the API\n",
        "about_req = requests.get('{}/about'.format(idc_api_preamble))"
      ],
      "execution_count": 3,
      "outputs": []
    },
    {
      "cell_type": "markdown",
      "metadata": {
        "id": "UicHIX71kLw3"
      },
      "source": [
        "Now that we have the request response, we are going to check that we didn't receive an error code or if the request was successful. If the request was successful, then the status code will come back as 200 but if something went wrong then the status code may be something 404 or 503. If you have recieved any error codes, you can check out Google's Troubleshooting response errors guide.\n",
        "\n"
      ]
    },
    {
      "cell_type": "code",
      "metadata": {
        "id": "3UORb5Pqoh0I"
      },
      "source": [
        "# Check that there wasn't an error with the request\n",
        "if about_req.status_code != 200:\n",
        "  # Print the error code if something went wrong\n",
        "  print(about_req.status_code)"
      ],
      "execution_count": 4,
      "outputs": []
    },
    {
      "cell_type": "markdown",
      "metadata": {
        "id": "2EtWVhfyoreK"
      },
      "source": [
        "Finally, we will print out the information that we have received from the API. This response returns as a dictionary though responses can also be a combination of dictionaries and lists depending on which endpoint is called. This means that you can access different data in the response the same way that you would access dictionaries and lists as demonstarted below."
      ]
    },
    {
      "cell_type": "code",
      "metadata": {
        "id": "VdfTOEQeouiL",
        "outputId": "3750f355-5923-4f22-d82e-16fc355a1f6d",
        "colab": {
          "base_uri": "https://localhost:8080/"
        }
      },
      "source": [
        "# Print the full response\n",
        "print(\"Full response:\\n\")\n",
        "print(about_req.json(), end='\\n\\n')\n",
        "\n",
        "# Print the message portion of the response\n",
        "print(\"Message:\\n\")\n",
        "print(about_req.json()['message'], end='\\n\\n')\n",
        "\n",
        "# Print the documentation portion of the response\n",
        "print(\"Documentation:\\n\")\n",
        "print(about_req.json()['documentation'])"
      ],
      "execution_count": 5,
      "outputs": [
        {
          "output_type": "stream",
          "text": [
            "Full response:\n",
            "\n",
            "{'code': 200, 'documentation': 'SwaggerUI interface available at <https://dev-api.canceridc.dev/v1/swagger/>. Documentation is available at <https://learn.canceridc.dev/>', 'message': 'Welcome to the NCI IDC API, Version 1'}\n",
            "\n",
            "Message:\n",
            "\n",
            "Welcome to the NCI IDC API, Version 1\n",
            "\n",
            "Documentation:\n",
            "\n",
            "SwaggerUI interface available at <https://dev-api.canceridc.dev/v1/swagger/>. Documentation is available at <https://learn.canceridc.dev/>\n"
          ],
          "name": "stdout"
        }
      ]
    },
    {
      "cell_type": "markdown",
      "metadata": {
        "id": "6_6wZG1ipAbZ"
      },
      "source": [
        "The requests library makes it easy to use the APIs! Next we will cover a few of the other informational APIs."
      ]
    },
    {
      "cell_type": "markdown",
      "metadata": {
        "id": "p6eV4z_IpZgH"
      },
      "source": [
        "## Example: GET `/versions` endpoint"
      ]
    },
    {
      "cell_type": "markdown",
      "metadata": {
        "id": "pil_CrXbpvIY"
      },
      "source": [
        "Over time, the set of data hosted by the IDC will change. For the most part, such changes will be due to new data having been added. The totality of IDC hosted data resulting from any such change is represented by a unique IDC data version ID. That is, each time that the set of publicly available data changes, a new IDC version is created that exactly defines the revised data set. \n",
        "\n",
        "The IDC data version is intended to enable the reproducibility of research results. For example, consider a patient in the DICOM data model. Over time, new studies might be performed on a patient and become associated with that patient, and the corresponding DICOM instances added to the IDC hosted data. Moreover, additional patients might well be added to the IDC data set over time. This means that the set of subjects defined by some filter set will change over time. Thus, for purposes of reproducibility, we define a cohort in terms of a filter set and an IDC data version.\n",
        "\n",
        "The `/versions` endpoint returns information about the defined IDC versions. This information includes the data sources (BQ tables) containing the data of each version, as well as the set of programs (sets of collections) belonging to a version. This endpoint returns a more complicated JSON object which has a combination of lists and dictionaries. We will first retrieve the request and then view if there was an error code within the response."
      ]
    },
    {
      "cell_type": "code",
      "metadata": {
        "id": "kEMvm_xwssF0"
      },
      "source": [
        "# Retrieve the response from the API endpoint\n",
        "versions_req = requests.get('{}/versions'.format(idc_api_preamble))\n",
        "\n",
        "# Check that there wasn't an error with the request\n",
        "if versions_req.status_code != 200:\n",
        "  # Print the error code and message if something went wrong\n",
        "  print(versions_req.json())  # Print the error code if something went wrong"
      ],
      "execution_count": 6,
      "outputs": []
    },
    {
      "cell_type": "markdown",
      "metadata": {
        "id": "tS006JqLtFDT"
      },
      "source": [
        "We are going to use the `json` library in order to view the response more easily."
      ]
    },
    {
      "cell_type": "code",
      "metadata": {
        "id": "fYsQegsStPED"
      },
      "source": [
        "# import pip json\n",
        "import json"
      ],
      "execution_count": 7,
      "outputs": []
    },
    {
      "cell_type": "code",
      "metadata": {
        "id": "rZ8g6HOYtXDD",
        "outputId": "7a4735fa-2e4a-4491-fa88-703b1c3af845",
        "colab": {
          "base_uri": "https://localhost:8080/"
        }
      },
      "source": [
        "# Create a variable with the JSON output\n",
        "versions_json = json.dumps(versions_req.json(), sort_keys=True, indent=4)\n",
        "\n",
        "# Print the versions JSON text\n",
        "print(versions_json)"
      ],
      "execution_count": 8,
      "outputs": [
        {
          "output_type": "stream",
          "text": [
            "{\n",
            "    \"code\": 200,\n",
            "    \"versions\": [\n",
            "        {\n",
            "            \"active\": false,\n",
            "            \"data_sources\": [\n",
            "                {\n",
            "                    \"data_type\": \"Clinical, Biospecimen, and Mutation Data\",\n",
            "                    \"name\": \"isb-cgc.TCGA_bioclin_v0.Biospecimen\"\n",
            "                },\n",
            "                {\n",
            "                    \"data_type\": \"Clinical, Biospecimen, and Mutation Data\",\n",
            "                    \"name\": \"isb-cgc.TCGA_bioclin_v0.clinical_v1\"\n",
            "                },\n",
            "                {\n",
            "                    \"data_type\": \"Image Data\",\n",
            "                    \"name\": \"idc-dev-etl.idc_v1.dicom_pivot_v1\"\n",
            "                }\n",
            "            ],\n",
            "            \"date_active\": \"2020-10-06\",\n",
            "            \"idc_data_version\": \"1.0\"\n",
            "        },\n",
            "        {\n",
            "            \"active\": true,\n",
            "            \"data_sources\": [\n",
            "                {\n",
            "                    \"data_type\": \"Clinical, Biospecimen, and Mutation Data\",\n",
            "                    \"name\": \"isb-cgc.TCGA_bioclin_v0.Biospecimen\"\n",
            "                },\n",
            "                {\n",
            "                    \"data_type\": \"Clinical, Biospecimen, and Mutation Data\",\n",
            "                    \"name\": \"isb-cgc.TCGA_bioclin_v0.clinical_v1\"\n",
            "                },\n",
            "                {\n",
            "                    \"data_type\": \"Image Data\",\n",
            "                    \"name\": \"idc-dev-etl.idc_v2.dicom_pivot_v2\"\n",
            "                }\n",
            "            ],\n",
            "            \"date_active\": \"2021-04-07\",\n",
            "            \"idc_data_version\": \"2.0\"\n",
            "        }\n",
            "    ]\n",
            "}\n"
          ],
          "name": "stdout"
        }
      ]
    },
    {
      "cell_type": "markdown",
      "metadata": {
        "id": "HnyYUezztRGU"
      },
      "source": [
        "The returned data is a combination of dictionaries and lists. We see  that, as of this writing, there is a single IDC version, \"1.0\", that was activated on 2020-10-06. Next we will iterate over the JSON object to neatly list the data sources and programs in each version."
      ]
    },
    {
      "cell_type": "code",
      "metadata": {
        "id": "z-Z_1ASllPq8",
        "outputId": "b2f83f8a-3454-4ccf-c552-de6ea3796327",
        "colab": {
          "base_uri": "https://localhost:8080/"
        }
      },
      "source": [
        "# Print out the number of IDC data versions\n",
        "print('Number of IDC data versions: {}'.format(len(versions_req.json()['versions'])))\n",
        "\n",
        "#...and for each version, print out the version's status, and the data sources in the version.\n",
        "for version in versions_req.json()['versions']:\n",
        "  print('version {} is {}'.format(version['idc_data_version'], 'active' if version['active'] else 'inactive'))\n",
        "  for data_source in version['data_sources']:\n",
        "    print('\\tData source: {}, Data type: {}'.format(data_source['name'],data_source['data_type']))\n"
      ],
      "execution_count": 12,
      "outputs": [
        {
          "output_type": "stream",
          "text": [
            "Number of IDC data versions: 2\n",
            "version 1.0 is inactive\n",
            "\tData source: isb-cgc.TCGA_bioclin_v0.Biospecimen, Data type: Clinical, Biospecimen, and Mutation Data\n",
            "\tData source: isb-cgc.TCGA_bioclin_v0.clinical_v1, Data type: Clinical, Biospecimen, and Mutation Data\n",
            "\tData source: idc-dev-etl.idc_v1.dicom_pivot_v1, Data type: Image Data\n",
            "version 2.0 is active\n",
            "\tData source: isb-cgc.TCGA_bioclin_v0.Biospecimen, Data type: Clinical, Biospecimen, and Mutation Data\n",
            "\tData source: isb-cgc.TCGA_bioclin_v0.clinical_v1, Data type: Clinical, Biospecimen, and Mutation Data\n",
            "\tData source: idc-dev-etl.idc_v2.dicom_pivot_v2, Data type: Image Data\n"
          ],
          "name": "stdout"
        }
      ]
    },
    {
      "cell_type": "markdown",
      "metadata": {
        "id": "e_Ex8JRly0QH"
      },
      "source": [
        "## Example: GET `/collections` endpoint"
      ]
    },
    {
      "cell_type": "markdown",
      "metadata": {
        "id": "Ol6C9O-JxYz1"
      },
      "source": [
        "A *collection* is a set of DICOM data provided by a single source. Collections are further categorized as Original collections or Analysis collections. \n",
        "\n",
        "Original collections are comprised primarily of DICOM image data that was obtained from some set of patients. Typically, the patients in an Original collection are related by a common disease.\n",
        "\n",
        "Analysis collections are comprised of derived DICOM data that was generated by analyzing other (typically Original) collections. Typically such analysis is performed by a different entity than that which provided the original collection(s) on which the analysis is based. Examples of data in analysis collections include segmentations, annotations and further processing of original images. Note that some Original collections include such data, though most of the data in Original collections are original images.\n",
        "Programs\n",
        "\n",
        "The programs that we listed above are sets of original collections. The collections in a program are produced by a single source. Some programs provide additional non-imaging data. For example, the TCGA program provides extensive ancillary clinical and genomics data about each of the patients in the program. \n",
        "\n",
        "The /collections endpoint returns data about collections in a specified program for some IDC data version. If no collection is specified, it returns data about about the collections in all programs for some IDC data version. If a version is not specified then /collections defaults to the current IDC data version.\n"
      ]
    },
    {
      "cell_type": "markdown",
      "metadata": {
        "id": "9YiST8hdpx9i"
      },
      "source": [
        "We will request the collection data for the TCGA program in IDC data version 1.0.\n",
        "\n",
        "The program and version are passed as *query parameters* in a *query string*. The requests library accepts a dictionary of query parameters."
      ]
    },
    {
      "cell_type": "code",
      "metadata": {
        "id": "AsmNpqYtyxl0"
      },
      "source": [
        "query_string = dict(\n",
        "    idc_data_version = \"1.0\"\n",
        "    )\n",
        "\n",
        "collections_req = requests.get('{}/collections'.format(idc_api_preamble),\n",
        "                    params=query_string)\n",
        "# Check that there wasn't an error with the request\n",
        "if collections_req.status_code != 200:\n",
        "  # Print the error code and message if something went wrong\n",
        "  print(collections_req.json())"
      ],
      "execution_count": 15,
      "outputs": []
    },
    {
      "cell_type": "code",
      "metadata": {
        "id": "03_j2L-Vo-nG",
        "outputId": "ea105117-bea3-4f76-da06-6bdb5a438eb6",
        "colab": {
          "base_uri": "https://localhost:8080/"
        }
      },
      "source": [
        "# Create a variable with the JSON output\n",
        "collections_json = json.dumps(collections_req.json(), sort_keys=True, indent=4)\n",
        "\n",
        "# Print the verscollectionsions JSON text\n",
        "print(collections_json)"
      ],
      "execution_count": 16,
      "outputs": [
        {
          "output_type": "stream",
          "text": [
            "{\n",
            "    \"code\": 200,\n",
            "    \"collections\": [\n",
            "        {\n",
            "            \"active\": true,\n",
            "            \"cancer_type\": \"Prostate Cancer\",\n",
            "            \"collection_id\": \"tcga_prad\",\n",
            "            \"date_updated\": \"2021-03-30\",\n",
            "            \"description\": \"<div>\\n\\t<strong>Note:&nbsp;This collection has special restrictions on its usage. See <a href=\\\"https://wiki.cancerimagingarchive.net/x/c4hF\\\" target=\\\"_blank\\\">Data Usage Policies and Restrictions</a>.</strong></p>\\n<div>\\n\\t&nbsp;</p>\\n<div>\\n\\t<span>The <a href=\\\"http://imaging.cancer.gov/\\\" target=\\\"_blank\\\"><u>Cancer Imaging Program (CIP)</u></a></span><span>&thinsp;</span><span> is working directly with primary investigators from institutes participating in TCGA to obtain and load images relating to the genomic, clinical, and pathological data being stored within the <a href=\\\"http://tcga-data.nci.nih.gov/\\\" target=\\\"_blank\\\">TCGA Data Portal</a>.&nbsp;Currently this image collection of prostate adenocarcinoma (PRAD) patients can be matched by each unique case identifier with the extensive gene and expression data of the same case from The Cancer Genome Atlas Data Portal to research the link between clinical phenome and tissue genome.&nbsp;<br />\\n\\t</span></p>\\n<div>\\n\\t&nbsp;</p>\\n<div>\\n\\t<span>Please see the <span><a href=\\\"https://wiki.cancerimagingarchive.net/x/tgpp\\\" target=\\\"_blank\\\">TCGA-PRAD</a></span> wiki page to learn more about the images and to obtain any supporting metadata for this collection.</span></p>\\n\",\n",
            "            \"doi\": \"10.7937/K9/TCIA.2016.YXOGLM4Y\",\n",
            "            \"idc_data_versions\": [\n",
            "                \"1.0\"\n",
            "            ],\n",
            "            \"image_types\": \"CT, PT, MR, Pathology\",\n",
            "            \"location\": \"Prostate\",\n",
            "            \"species\": \"Human\",\n",
            "            \"subject_count\": 14,\n",
            "            \"supporting_data\": \"Clinical Genomics\"\n",
            "        },\n",
            "        {\n",
            "            \"active\": true,\n",
            "            \"cancer_type\": \"Bladder Endothelial Carcinoma\",\n",
            "            \"collection_id\": \"tcga_blca\",\n",
            "            \"date_updated\": \"2021-03-30\",\n",
            "            \"description\": \"<p>\\n\\tThe Cancer Genome Atlas-Bladder Endothelial Carcinoma (TCGA-BLCA) data collection is part of a larger effort to enhance the TCGA http://cancergenome.nih.gov/ data set with characterized radiological images. The Cancer Imaging Program (CIP), with the cooperation of several of the TCGA tissue-contributing institutions, has archived a large portion of the radiological images of the genetically-analyzed BLCA cases.</p>\\n<p>\\n\\tPlease see the <a href=\\\"https://wiki.cancerimagingarchive.net/display/Public/TCGA-BLCA\\\" target=\\\"_blank\\\">TCGA-BLCA</a> wiki page to learn more about the images and to obtain any supporting metadata for this collection.</p>\\n\",\n",
            "            \"doi\": \"10.7937/K9/TCIA.2016.8LNG8XDR\",\n",
            "            \"idc_data_versions\": [\n",
            "                \"1.0\"\n",
            "            ],\n",
            "            \"image_types\": \"CT, CR, MR, PT, DX, Pathology\",\n",
            "            \"location\": \"Bladder\",\n",
            "            \"species\": \"Human\",\n",
            "            \"subject_count\": 120,\n",
            "            \"supporting_data\": \"Clinical, Genomics\"\n",
            "        },\n",
            "        {\n",
            "            \"active\": true,\n",
            "            \"cancer_type\": \"Uterine Corpus Endometrial Carcinoma\",\n",
            "            \"collection_id\": \"tcga_ucec\",\n",
            "            \"date_updated\": \"2021-03-30\",\n",
            "            \"description\": \"<p>\\n\\tThe Cancer Genome Atlas-Uterine Corpus Endometrial Carcinoma (TCGA-UCEC) data collection is part of a larger effort to enhance the TCGA http://cancergenome.nih.gov/ data set with characterized radiological images. The Cancer Imaging Program (CIP) with the cooperation of several of the TCGA tissue-contributing institutions are working to archive a large portion of the radiological images of the genetically-analyzed UCEC cases.</p>\\n<p>\\n\\tPlease see the <a href=\\\"https://wiki.cancerimagingarchive.net/display/Public/TCGA-UCEC\\\" target=\\\"_blank\\\">TCGA-UCEC</a> wiki page to learn more about the images and to obtain any supporting metadata for this collection.</p>\\n\",\n",
            "            \"doi\": \"10.7937/K9/TCIA.2016.GKJ0ZWAC\",\n",
            "            \"idc_data_versions\": [\n",
            "                \"1.0\"\n",
            "            ],\n",
            "            \"image_types\": \"CT, CR, MR, PT, Pathology\",\n",
            "            \"location\": \"Uterus\",\n",
            "            \"species\": \"Human\",\n",
            "            \"subject_count\": 65,\n",
            "            \"supporting_data\": \"Clinical, Genomics\"\n",
            "        },\n",
            "        {\n",
            "            \"active\": true,\n",
            "            \"cancer_type\": \"Head and Neck Squamous Cell Carcinoma\",\n",
            "            \"collection_id\": \"tcga_hnsc\",\n",
            "            \"date_updated\": \"2021-03-30\",\n",
            "            \"description\": \"<div>\\n\\t<span>The <a href=\\\"http://imaging.cancer.gov/\\\" target=\\\"_blank\\\"><u>Cancer Imaging Program (CIP)</u></a></span><span>&thinsp;</span><span> is working directly with primary investigators from institutes participating in TCGA to obtain and load images relating to the genomic, clinical, and pathological data being stored within the <a href=\\\"http://tcga-data.nci.nih.gov/\\\" target=\\\"_blank\\\">TCGA Data Portal</a>.&nbsp;Currently this large PET/CT&nbsp;multi-sequence image collection of </span><span>head and neck squamous cell carcinoma (HNSC) patients can be matched by each unique case identifier with the extensive gene and expression data of the same case from The Cancer Genome Atlas Data Portal to research the link between clinical phenome and tissue genome.&nbsp;</span></p>\\n<div>\\n\\t&nbsp;</p>\\n<div>\\n\\t<span>Please see the <a href=\\\"https://wiki.cancerimagingarchive.net/display/Public/TCGA-HNSC\\\" target=\\\"_blank\\\"><span>TCGA -HNSC</span></a> wiki page to learn more about the images and to obtain any supporting metadata for this collection.</span></p>\\n\",\n",
            "            \"doi\": \"10.7937/K9/TCIA.2016.LXKQ47MS\",\n",
            "            \"idc_data_versions\": [\n",
            "                \"1.0\"\n",
            "            ],\n",
            "            \"image_types\": \"CT, MR, PT, RTSTRUCT, RTPLAN, RTDOSE, Pathology\",\n",
            "            \"location\": \"Head-Neck\",\n",
            "            \"species\": \"Human\",\n",
            "            \"subject_count\": 227,\n",
            "            \"supporting_data\": \"Clinical, Genomics\"\n",
            "        },\n",
            "        {\n",
            "            \"active\": true,\n",
            "            \"cancer_type\": \"Lung Squamous Cell Carcinoma\",\n",
            "            \"collection_id\": \"tcga_lusc\",\n",
            "            \"date_updated\": \"2021-03-30\",\n",
            "            \"description\": \"<p>\\n\\tThe Cancer Genome Atlas-Lung Squamous Cell Carcinoma (TCGA-LUSC) data collection is part of a larger effort to enhance the TCGA http://cancergenome.nih.gov/ data set with characterized radiological images. The Cancer Imaging Program (CIP) with the cooperation of several of the TCGA tissue-contributing institutions are working to archive a large portion of the radiological images of the LUSC cases.</p>\\n<p>\\n\\tPlease see the <a href=\\\"https://wiki.cancerimagingarchive.net/display/Public/TCGA-LUSC\\\" target=\\\"_blank\\\">TCGA-LUSC</a> wiki page to learn more about the images and to obtain any supporting metadata for this collection.</p>\\n\",\n",
            "            \"doi\": \"10.7937/K9/TCIA.2016.TYGKKFMQ\",\n",
            "            \"idc_data_versions\": [\n",
            "                \"1.0\"\n",
            "            ],\n",
            "            \"image_types\": \"CT, NM, PT, Pathology\",\n",
            "            \"location\": \"Lung\",\n",
            "            \"species\": \"Human\",\n",
            "            \"subject_count\": 37,\n",
            "            \"supporting_data\": \"Clinical, Genomics\"\n",
            "        },\n",
            "        {\n",
            "            \"active\": true,\n",
            "            \"cancer_type\": \"Kidney Renal Papillary Cell Carcinoma\",\n",
            "            \"collection_id\": \"tcga_kirp\",\n",
            "            \"date_updated\": \"2021-03-30\",\n",
            "            \"description\": \"<div>\\n\\t<strong>Note:&nbsp;This collection has special restrictions on its usage. See <a href=\\\"https://wiki.cancerimagingarchive.net/x/c4hF\\\" target=\\\"_blank\\\">Data Usage Policies and Restrictions</a>.</strong></p>\\n<div>\\n\\t&nbsp;</p>\\n<div>\\n\\t<span>The <a href=\\\"http://imaging.cancer.gov/\\\" target=\\\"_blank\\\"><u>Cancer Imaging Program (CIP)</u></a></span><span>&thinsp;</span><span> is working directly with primary investigators from institutes participating in TCGA to obtain and load images relating to the genomic, clinical, and pathological data being stored within the <a href=\\\"http://tcga-data.nci.nih.gov/\\\" target=\\\"_blank\\\">TCGA Data Portal</a>.&nbsp;Currently this large CT and MR multi-sequence image collection of </span><span>kidney renal papillary cell carcinoma (KIRP) patients can be matched by each unique case identifier with the extensive gene and expression data of the same case from The Cancer Genome Atlas Data Portal to research the link between clinical phenome and tissue genome.&nbsp;<br />\\n\\t</span></p>\\n<div>\\n\\t&nbsp;</p>\\n<div>\\n\\tPlease see the <span><a href=\\\"https://wiki.cancerimagingarchive.net/x/M4G0\\\" target=\\\"_blank\\\">TCGA -KIRP</a> </span>wiki page to learn more about the images and to obtain any supporting metadata for this collection.</p>\\n<p>\\n\\t&nbsp;</p>\\n\",\n",
            "            \"doi\": \"10.7937/K9/TCIA.2016.ACWOGBEF\",\n",
            "            \"idc_data_versions\": [\n",
            "                \"1.0\"\n",
            "            ],\n",
            "            \"image_types\": \"CT, MR, PT, Pathology\",\n",
            "            \"location\": \"Renal\",\n",
            "            \"species\": \"Human\",\n",
            "            \"subject_count\": 33,\n",
            "            \"supporting_data\": \"Clinical, Genomics\"\n",
            "        },\n",
            "        {\n",
            "            \"active\": true,\n",
            "            \"cancer_type\": \"Thyroid Cancer\",\n",
            "            \"collection_id\": \"tcga_thca\",\n",
            "            \"date_updated\": \"2021-03-30\",\n",
            "            \"description\": \"<p>\\n\\tThe Cancer Genome Atlas-Thyroid Cancer (TCGA-THCA) data collection is part of a larger effort to enhance the TCGA http://cancergenome.nih.gov/ data set with characterized radiological images. The Cancer Imaging Program (CIP) with the cooperation of several of the TCGA tissue-contributing institutions are working to archive a large portion of the radiological images of the genetically-analyzed THCA cases.</p>\\n<p>\\n\\tPlease see the <a href=\\\"https://wiki.cancerimagingarchive.net/display/Public/TCGA-THCA\\\" target=\\\"_blank\\\">TCGA-THCA</a> wiki page to learn more about the images and to obtain any supporting metadata for this collection.</p>\\n\",\n",
            "            \"doi\": \"10.7937/K9/TCIA.2016.9ZFRVF1B\",\n",
            "            \"idc_data_versions\": [\n",
            "                \"1.0\"\n",
            "            ],\n",
            "            \"image_types\": \"CT, PT, Pathology\",\n",
            "            \"location\": \"Thyroid\",\n",
            "            \"species\": \"Human\",\n",
            "            \"subject_count\": 6,\n",
            "            \"supporting_data\": \"Clinical, Genomics\"\n",
            "        },\n",
            "        {\n",
            "            \"active\": true,\n",
            "            \"cancer_type\": \"Sarcomas\",\n",
            "            \"collection_id\": \"tcga_sarc\",\n",
            "            \"date_updated\": \"2021-03-30\",\n",
            "            \"description\": \"<p>\\n\\tThe Cancer Genome Atlas-Sarcoma Cancer (TCGA-SARC) data collection is part of a larger effort to enhance the TCGA http://cancergenome.nih.gov/ data set with characterized radiological images. The Cancer Imaging Program (CIP) with the cooperation of several of the TCGA tissue-contributing institutions are working to archive a large portion of the radiological images of the genetically-analyzed SARC cases.</p>\\n<p>\\n\\tPlease see the <a href=\\\"https://wiki.cancerimagingarchive.net/display/Public/TCGA-SARC\\\" target=\\\"_blank\\\">TCGA-SARC</a> wiki page to learn more about the images and to obtain any supporting metadata for this collection.</p>\\n\",\n",
            "            \"doi\": \"10.7937/K9/TCIA.2016.CX6YLSUX\",\n",
            "            \"idc_data_versions\": [\n",
            "                \"1.0\"\n",
            "            ],\n",
            "            \"image_types\": \"CT, MR, Pathology\",\n",
            "            \"location\": \"Chest-Abdomen-Pelvis, Leg, TSpine\",\n",
            "            \"species\": \"Human\",\n",
            "            \"subject_count\": 5,\n",
            "            \"supporting_data\": \"Clinical, Genomics\"\n",
            "        },\n",
            "        {\n",
            "            \"active\": true,\n",
            "            \"cancer_type\": \"Esophageal Carcinoma\",\n",
            "            \"collection_id\": \"tcga_esca\",\n",
            "            \"date_updated\": \"2021-03-30\",\n",
            "            \"description\": \"<p>\\n\\tThe Cancer Genome Atlas-Esophageal Carcinoma (TCGA-ESCA) data collection is part of a larger effort to enhance the <a href=\\\"http://cancergenome.nih.gov/\\\">TCGA&nbsp;</a> data set with characterized radiological images. The <a href=\\\"https://imaging.cancer.gov/\\\">Cancer Imaging Program (CIP)</a> with the cooperation of several of the TCGA tissue-contributing institutions are working to archive a large portion of the radiological images of the genetically-analyzed ESCA cases.</p>\\n<p>\\n\\tPlease see the <a href=\\\"https://doi.org/10.7937/K9/TCIA.2016.VPTNRGFY\\\" target=\\\"_blank\\\">TCGA-ESCA</a> page to learn more about the images and to obtain any supporting metadata for this collection.</p>\\n\",\n",
            "            \"doi\": \"10.7937/K9/TCIA.2016.VPTNRGFY\",\n",
            "            \"idc_data_versions\": [\n",
            "                \"1.0\"\n",
            "            ],\n",
            "            \"image_types\": \"CT, Pathology\",\n",
            "            \"location\": \"Esophagus\",\n",
            "            \"species\": \"Human\",\n",
            "            \"subject_count\": 16,\n",
            "            \"supporting_data\": \"Clinical, Genomics\"\n",
            "        },\n",
            "        {\n",
            "            \"active\": true,\n",
            "            \"cancer_type\": \"Cervical Squamous Cell Carcinoma and Endocervical Adenocarcinoma\",\n",
            "            \"collection_id\": \"tcga_cesc\",\n",
            "            \"date_updated\": \"2021-03-30\",\n",
            "            \"description\": \"<p>\\n\\tThe Cancer Genome Atlas-Cervical Squamous Cell Carcinoma and Endocervical Adenocarcinoma (TCGA-CESC) data collection is part of a larger effort to enhance the TCGA http://cancergenome.nih.gov/ data set with characterized radiological images. The Cancer Imaging Program (CIP) with the cooperation of several of the TCGA tissue-contributing institutions are working to archive a large portion of the radiological images of the genetically-analyzed CESC cases.</p>\\n<p>\\n\\tPlease see the <a href=\\\"https://wiki.cancerimagingarchive.net/display/Public/TCGA-CESC\\\" target=\\\"_blank\\\">TCGA-CESC</a> wiki page to learn more about the images and to obtain any supporting metadata for this collection.</p>\\n\",\n",
            "            \"doi\": \"10.7937/K9/TCIA.2016.SQ4M8YP4\",\n",
            "            \"idc_data_versions\": [\n",
            "                \"1.0\"\n",
            "            ],\n",
            "            \"image_types\": \"MR, Pathology\",\n",
            "            \"location\": \"Cervix\",\n",
            "            \"species\": \"Human\",\n",
            "            \"subject_count\": 54,\n",
            "            \"supporting_data\": \"Clinical, Genomics\"\n",
            "        },\n",
            "        {\n",
            "            \"active\": true,\n",
            "            \"cancer_type\": \"Stomach Adenocarcinoma\",\n",
            "            \"collection_id\": \"tcga_stad\",\n",
            "            \"date_updated\": \"2021-03-30\",\n",
            "            \"description\": \"<p>\\n\\tThe Cancer Genome Atlas-Stomach Adenoarcinoma (TCGA-STAD) data collection is part of a larger effort to enhance the TCGA http://cancergenome.nih.gov/ data set with characterized radiological images. The Cancer Imaging Program (CIP) with the cooperation of several of the TCGA tissue-contributing institutions are working to archive a large portion of the radiological images of the genetically-analyzed STAD cases.</p>\\n<p>\\n\\tPlease see the <a href=\\\"https://wiki.cancerimagingarchive.net/display/Public/TCGA-STAD\\\" target=\\\"_blank\\\">TCGA-STAD</a> wiki page to learn more about the images and to obtain any supporting metadata for this collection.</p>\\n\",\n",
            "            \"doi\": \"10.7937/K9/TCIA.2016.GDHL9KIM\",\n",
            "            \"idc_data_versions\": [\n",
            "                \"1.0\"\n",
            "            ],\n",
            "            \"image_types\": \"CT, Pathology\",\n",
            "            \"location\": \"Stomach\",\n",
            "            \"species\": \"Human\",\n",
            "            \"subject_count\": 46,\n",
            "            \"supporting_data\": \"Clinical, Genomics\"\n",
            "        },\n",
            "        {\n",
            "            \"active\": true,\n",
            "            \"cancer_type\": \"Colon Adenocarcinoma\",\n",
            "            \"collection_id\": \"tcga_coad\",\n",
            "            \"date_updated\": \"2021-03-30\",\n",
            "            \"description\": \"<p>\\n\\tThe Cancer Genome Atlas-Colon Adenocarcinoma (TCGA-COAD) data collection is part of a larger effort to enhance the TCGA http://cancergenome.nih.gov/ data set with characterized radiological images. The Cancer Imaging Program (CIP), with the cooperation of several of the TCGA tissue-contributing institutions, has archived a large portion of the radiological images of the COAD cases.</p>\\n<p>\\n\\tPlease see the <a href=\\\"https://wiki.cancerimagingarchive.net/display/Public/TCGA-COAD\\\" target=\\\"_blank\\\">TCGA-COAD</a> wiki page to learn more about the images and to obtain any supporting metadata for this collection.</p>\\n\",\n",
            "            \"doi\": \"10.7937/K9/TCIA.2016.HJJHBOXZ\",\n",
            "            \"idc_data_versions\": [\n",
            "                \"1.0\"\n",
            "            ],\n",
            "            \"image_types\": \"CT, Pathology\",\n",
            "            \"location\": \"Colon\",\n",
            "            \"species\": \"Human\",\n",
            "            \"subject_count\": 25,\n",
            "            \"supporting_data\": \"Clinical, Genomics\"\n",
            "        },\n",
            "        {\n",
            "            \"active\": true,\n",
            "            \"cancer_type\": \"Kidney Chromophobe\",\n",
            "            \"collection_id\": \"tcga_kich\",\n",
            "            \"date_updated\": \"2021-03-30\",\n",
            "            \"description\": \"<p>\\n\\tThe Cancer Genome Atlas-Kidney Chromophobe (TCGA-KICH) data collection is part of a larger effort to enhance the The Cancer Genome Atlas (TCGA) http://cancergenome.nih.gov/ data set with characterized radiological images. The Cancer Imaging Program (CIP) with the cooperation of several of the TCGA tissue-contributing institutions has archived a large portion of the radiological images of the genetically-analyzed KICH cases.</p>\\n<p>\\n\\tPlease see the <a href=\\\"https://wiki.cancerimagingarchive.net/display/Public/TCGA-KICH\\\" target=\\\"_blank\\\">TCGA-KICH</a> wiki page to learn more about the images and to obtain any supporting metadata for this collection.</p>\\n\",\n",
            "            \"doi\": \"10.7937/K9/TCIA.2016.YU3RBCZN\",\n",
            "            \"idc_data_versions\": [\n",
            "                \"1.0\"\n",
            "            ],\n",
            "            \"image_types\": \"CT, MR, Pathology\",\n",
            "            \"location\": \"Kidney\",\n",
            "            \"species\": \"Human\",\n",
            "            \"subject_count\": 15,\n",
            "            \"supporting_data\": \"Clinical, Genomics\"\n",
            "        },\n",
            "        {\n",
            "            \"active\": true,\n",
            "            \"cancer_type\": \"Rectum Adenocarcinoma\",\n",
            "            \"collection_id\": \"tcga_read\",\n",
            "            \"date_updated\": \"2021-03-30\",\n",
            "            \"description\": \"<p>\\n\\tThe Cancer Genome Atlas-Rectum Adenocarcinoma (TCGA-READ) data collection is part of a larger effort to enhance the TCGA http://cancergenome.nih.gov/ data set with characterized radiological images. The Cancer Imaging Program (CIP), with the cooperation of several TCGA tissue-contributing institutions, has archived a large portion of the radiological images of the genetically-analyzed READ cases.</p>\\n<p>\\n\\tPlease see the <a href=\\\"https://wiki.cancerimagingarchive.net/display/Public/TCGA-READ\\\" target=\\\"_blank\\\">TCGA-READ</a> wiki page to learn more about the images and to obtain any supporting metadata for this collection.</p>\\n\",\n",
            "            \"doi\": \"10.7937/K9/TCIA.2016.F7PPNPNU\",\n",
            "            \"idc_data_versions\": [\n",
            "                \"1.0\"\n",
            "            ],\n",
            "            \"image_types\": \"CT, MR, Pathology\",\n",
            "            \"location\": \"Rectum\",\n",
            "            \"species\": \"Human\",\n",
            "            \"subject_count\": 3,\n",
            "            \"supporting_data\": \"Clinical, Genomics\"\n",
            "        },\n",
            "        {\n",
            "            \"active\": true,\n",
            "            \"cancer_type\": \"Breast Cancer\",\n",
            "            \"collection_id\": \"ispy1\",\n",
            "            \"date_updated\": \"2021-03-30\",\n",
            "            \"description\": \"<p>\\n\\tISPY1/ACRIN 6657 was designed as a prospective study to test MRI for ability to predict response to treatment and risk-of-recurrence in patients with stage 2 or 3 breast cancer receiving neoadjuvant chemotherapy (NACT). ACRIN 6657 was conducted as a companion study to CALGB 150007, a correlative science study evaluating tissue-based biomarkers in the setting of neoadjuvant treatment of breast cancer. Collectively, CALGB 150007 and ACRIN 6657 formed the basis of the multicenter Investigation of Serial Studies to Predict Your Therapeutic Response with Imaging and moLecular Analysis (I-SPY TRIAL) breast cancer trial, a study of imaging and tissue-based biomarkers for predicting pathologic complete response (pCR) and recurrence-free survival (RFS).<br />\\n\\t<br />\\n\\tThe collection consists of 847 MR studies from 222 subjects.<br />\\n\\t<br />\\n\\tPlease see the <a href=\\\"https://wiki.cancerimagingarchive.net/display/Public/ISPY1\\\">ISPY1</a> wiki pageto learn more about the images and to obtain any supporting metadata for this collection.</p>\\n\",\n",
            "            \"doi\": \"10.7937/K9/TCIA.2016.HdHpgJLK\",\n",
            "            \"idc_data_versions\": [\n",
            "                \"1.0\"\n",
            "            ],\n",
            "            \"image_types\": \"MR, SEG\",\n",
            "            \"location\": \"Breast\",\n",
            "            \"species\": \"Human\",\n",
            "            \"subject_count\": 222,\n",
            "            \"supporting_data\": \"Clinical, Image Analyses\"\n",
            "        },\n",
            "        {\n",
            "            \"active\": true,\n",
            "            \"cancer_type\": \"Head and Neck Carcinomas\",\n",
            "            \"collection_id\": \"qin_headneck\",\n",
            "            \"date_updated\": \"2021-03-30\",\n",
            "            \"description\": \"<p>\\n\\tThis collection is a set of head and neck cancer patients each of whom has had multiple PET/CT FDG scans &ndash; before and after therapy &ndash; and with follow up scans where clinically indicated.&nbsp; The data were provided to help facilitate research activities of <a href=\\\"https://wiki.cancerimagingarchive.net/display/Public/Quantitative+Imaging+Network+Collections\\\" target=\\\"_blank\\\">NCI&#39;s Quantitative Imaging Network</a>.</p>\\n<p>\\n\\tPlease see the <a href=\\\"https://wiki.cancerimagingarchive.net/display/Public/QIN-HEADNECK\\\" target=\\\"_blank\\\">QIN-HeadNeck</a> wiki page to learn more about the images and to obtain any supporting metadata for this collection.</p>\\n\",\n",
            "            \"doi\": \"10.7937/K9/TCIA.2015.K0F5CGLI\",\n",
            "            \"idc_data_versions\": [\n",
            "                \"1.0\"\n",
            "            ],\n",
            "            \"image_types\": \"PT, CT, SR, SEG, RWV\",\n",
            "            \"location\": \"Head-Neck\",\n",
            "            \"species\": \"Human\",\n",
            "            \"subject_count\": 279,\n",
            "            \"supporting_data\": \"Clinical, Image Analyses\"\n",
            "        },\n",
            "        {\n",
            "            \"active\": true,\n",
            "            \"cancer_type\": \"Lung Cancer\",\n",
            "            \"collection_id\": \"lidc_idri\",\n",
            "            \"date_updated\": \"2021-03-30\",\n",
            "            \"description\": \"<p><span><strong>Note:&nbsp;This collection has special restrictions on its usage. See <a href=\\\"https://wiki.cancerimagingarchive.net/x/c4hF\\\" target=\\\"_blank\\\">Data Usage Policies and Restrictions</a>.</strong></span></p>\\n<p>&nbsp;</p>\\n<p><span> </span><span>The Lung Image Database Consortium (LIDC-IDRI) image collection consists of diagnostic and lung cancer screening thoracic CT scans with marked-up annotated lesions. It is a web-accessible international resource for development, training, and evaluation of computer-assisted diagnostic (CAD) methods for lung cancer detection and diagnosis. </span><span><br />\\n<br />\\nFor more information about the LIDC-IDRI images please visit the <a target=\\\"_blank\\\" href=\\\"https://wiki.cancerimagingarchive.net/x/rgAe\\\"><u>LIDC-IDRI</u></a> wiki page.&nbsp; For comprehensive information about utilizing the associated metadata please see the </span><span>Research Project page for the</span><span> <a target=\\\"_blank\\\" href=\\\"https://wiki.cancerimagingarchive.net/x/XwA2\\\">Lung Image Database Consortium</a>.</span></p>\",\n",
            "            \"doi\": \"10.7937/K9/TCIA.2015.LO9QL9SX\",\n",
            "            \"idc_data_versions\": [\n",
            "                \"1.0\"\n",
            "            ],\n",
            "            \"image_types\": \"CT, CR, DX\",\n",
            "            \"location\": \"Chest\",\n",
            "            \"species\": \"Human\",\n",
            "            \"subject_count\": 1010,\n",
            "            \"supporting_data\": \"Image Analyses, Clinical\"\n",
            "        },\n",
            "        {\n",
            "            \"active\": true,\n",
            "            \"cancer_type\": \"Lung Adenocarcinoma\",\n",
            "            \"collection_id\": \"tcga_luad\",\n",
            "            \"date_updated\": \"2021-03-30\",\n",
            "            \"description\": \"<div>\\n\\t<strong>Note:&nbsp;This collection has special restrictions on its usage. See <a href=\\\"https://wiki.cancerimagingarchive.net/x/c4hF\\\" target=\\\"_blank\\\">Data Usage Policies and Restrictions</a>.</strong></p>\\n<div>\\n\\t&nbsp;</p>\\n<div>\\n\\t<span>The <a href=\\\"http://imaging.cancer.gov/\\\" target=\\\"_blank\\\"><u>Cancer Imaging Program (CIP)</u></a></span><span>&thinsp;</span><span> is working directly with primary investigators from institutes participating in TCGA to obtain and load images relating to the genomic, clinical, and pathological data being stored within the <a href=\\\"http://tcga-data.nci.nih.gov/\\\" target=\\\"_blank\\\">TCGA Data Portal</a>.&nbsp;Currently this large CT multi-sequence image collection of lung adenocarcinoma (LUAD) patients can be matched by each unique case identifier with the extensive gene and expression data of the same case from The Cancer Genome Atlas Data Portal to research the link between clinical phenome and tissue genome.&nbsp;<br />\\n\\t</span></p>\\n<div>\\n\\t&nbsp;</p>\\n<div>\\n\\t<span>Please see the <span><a href=\\\"https://wiki.cancerimagingarchive.net/x/wgBp\\\" target=\\\"_blank\\\">TCGA-LUAD</a> </span>wiki page to learn more about the images and to obtain any supporting metadata for this collection.</span></p>\\n\",\n",
            "            \"doi\": \"10.7937/K9/TCIA.2016.JGNIHEP5\",\n",
            "            \"idc_data_versions\": [\n",
            "                \"1.0\"\n",
            "            ],\n",
            "            \"image_types\": \"CT, PT, NM, Pathology\",\n",
            "            \"location\": \"Chest\",\n",
            "            \"species\": \"Human\",\n",
            "            \"subject_count\": 69,\n",
            "            \"supporting_data\": \"Clinical, Genomics, Image Analyses\"\n",
            "        },\n",
            "        {\n",
            "            \"active\": true,\n",
            "            \"cancer_type\": \"Liver Hepatocellular Carcinoma\",\n",
            "            \"collection_id\": \"tcga_lihc\",\n",
            "            \"date_updated\": \"2021-03-30\",\n",
            "            \"description\": \"<div>\\n\\t<strong>Note:&nbsp;This collection has special restrictions on its usage. See <a href=\\\"https://wiki.cancerimagingarchive.net/x/c4hF\\\" target=\\\"_blank\\\">Data Usage Policies and Restrictions</a>.</strong></p>\\n<div>\\n\\t&nbsp;</p>\\n<div>\\n\\t<span>The <a href=\\\"http://imaging.cancer.gov/\\\" target=\\\"_blank\\\"><u>Cancer Imaging Program (CIP)</u></a></span><span>&thinsp;</span><span> is working directly with primary investigators from institutes participating in TCGA to obtain and load images relating to the genomic, clinical, and pathological data being stored within the <a href=\\\"http://tcga-data.nci.nih.gov/\\\" target=\\\"_blank\\\">TCGA Data Portal</a>.&nbsp;Currently this CT and MR multi-sequence image collection of liver hepatocellular carcinoma (LIHC) patients can be matched by each unique case identifier with the extensive gene and expression data of the same case from The Cancer Genome Atlas Data Portal to research the link between clinical phenome and tissue genome.&nbsp;<br />\\n\\t</span></p>\\n<div>\\n\\t&nbsp;</p>\\n<div>\\n\\t<span>Please see the <span><a href=\\\"https://wiki.cancerimagingarchive.net/x/PBBp\\\" target=\\\"_blank\\\">TCGA -LIHC</a> </span>wiki page to learn more about the images and to obtain any supporting metadata for this collection.</span></p>\\n<p>\\n\\t&nbsp;</p>\\n\",\n",
            "            \"doi\": \"10.7937/K9/TCIA.2016.IMMQW8UQ\",\n",
            "            \"idc_data_versions\": [\n",
            "                \"1.0\"\n",
            "            ],\n",
            "            \"image_types\": \"MR, CT, PT, Pathology\",\n",
            "            \"location\": \"Liver\",\n",
            "            \"species\": \"Human\",\n",
            "            \"subject_count\": 97,\n",
            "            \"supporting_data\": \"Clinical, Genomics, Image Analyses\"\n",
            "        },\n",
            "        {\n",
            "            \"active\": true,\n",
            "            \"cancer_type\": \"Breast Cancer\",\n",
            "            \"collection_id\": \"tcga_brca\",\n",
            "            \"date_updated\": \"2021-03-30\",\n",
            "            \"description\": \"<div>\\n\\t<span>The <a href=\\\"http://imaging.cancer.gov/\\\" target=\\\"_blank\\\"><u>Cancer Imaging Program (CIP)</u></a></span><span>&thinsp;</span><span> is working directly with primary investigators from institutes participating in TCGA to obtain and load images relating to the genomic, clinical, and pathological data being stored within the <a href=\\\"http://tcga-data.nci.nih.gov/\\\" target=\\\"_blank\\\">TCGA Data Portal</a>.&nbsp;Currently this MR multi-sequence image collection of breast invasive carcinoma patients can be matched by each unique case identifier with the extensive gene and expression data of the same case from The Cancer Genome Atlas Data Portal to research the link between clinical phenome and tissue genome.&nbsp;<br />\\n\\t</span></p>\\n<div>\\n\\t&nbsp;</p>\\n<div>\\n\\t<span>Please see the <span><a href=\\\"https://wiki.cancerimagingarchive.net/x/GQE2\\\" target=\\\"_blank\\\"><u>TCGA-BRCA</u></a></span> wiki page to learn more about the images and to obtain any supporting metadata for this collection.</span></p>\\n\",\n",
            "            \"doi\": \"10.7937/K9/TCIA.2016.AB2NAZRP\",\n",
            "            \"idc_data_versions\": [\n",
            "                \"1.0\"\n",
            "            ],\n",
            "            \"image_types\": \"MR, MG, Pathology\",\n",
            "            \"location\": \"Breast\",\n",
            "            \"species\": \"Human\",\n",
            "            \"subject_count\": 139,\n",
            "            \"supporting_data\": \"Clinical, Genomics, Image Analyses\"\n",
            "        },\n",
            "        {\n",
            "            \"active\": true,\n",
            "            \"cancer_type\": \"Ovarian Serous Cystadenocarcinoma\",\n",
            "            \"collection_id\": \"tcga_ov\",\n",
            "            \"date_updated\": \"2021-03-30\",\n",
            "            \"description\": \"<p>\\n\\tThe Cancer Genome Atlas-Ovarian Cancer (TCGA-OV) data collection is part of a larger effort to enhance the TCGA http://cancergenome.nih.gov/ data set with characterized radiological images. The Cancer Imaging Program (CIP) with the cooperation of several of the TCGA tissue-contributing institutions are working to archive a large portion of the radiological images of the genetically-analyzed OV cases.</p>\\n<p>\\n\\tPlease see the <a href=\\\"https://wiki.cancerimagingarchive.net/display/Public/TCGA-OV\\\" target=\\\"_blank\\\">TCGA-OV</a> wiki page to learn more about the images and to obtain any supporting metadata for this collection.</p>\\n\",\n",
            "            \"doi\": \"10.7937/K9/TCIA.2016.NDO1MDFQ\",\n",
            "            \"idc_data_versions\": [\n",
            "                \"1.0\"\n",
            "            ],\n",
            "            \"image_types\": \"CT, MR, Pathology\",\n",
            "            \"location\": \"Ovary\",\n",
            "            \"species\": \"Human\",\n",
            "            \"subject_count\": 143,\n",
            "            \"supporting_data\": \"Clinical, Genomics, Image Analyses\"\n",
            "        },\n",
            "        {\n",
            "            \"active\": true,\n",
            "            \"cancer_type\": \"Kidney Renal Clear Cell Carcinoma\",\n",
            "            \"collection_id\": \"tcga_kirc\",\n",
            "            \"date_updated\": \"2021-03-30\",\n",
            "            \"description\": \"<div>\\n\\t<span>The <a href=\\\"http://imaging.cancer.gov/\\\" target=\\\"_blank\\\"><u>Cancer Imaging Program (CIP)</u></a></span><span>&thinsp;</span><span> is working directly with primary investigators from institutes participating in TCGA to obtain and load images relating to the genomic, clinical, and pathological data being stored within the <a href=\\\"http://tcga-data.nci.nih.gov/\\\" target=\\\"_blank\\\">TCGA Data Portal</a>.&nbsp;Currently this large CT and MR multi-sequence image collection of kidney renal clear cell carcinoma (KIRC) patients can be matched by each unique case identifier with the extensive gene and expression data of the same case from The Cancer Genome Atlas Data Portal to research the link between clinical phenome and tissue genome.&nbsp;<br />\\n\\t</span></p>\\n<div>\\n\\t&nbsp;</p>\\n<div>\\n\\t<span>Please see the <span><a href=\\\"https://wiki.cancerimagingarchive.net/x/woFY\\\" target=\\\"_blank\\\">TCGA -KIRC</a> </span>wiki page to learn more about the images and to obtain any supporting metadata for this collection.</span></p>\\n\",\n",
            "            \"doi\": \"10.7937/K9/TCIA.2016.V6PBVTDR\",\n",
            "            \"idc_data_versions\": [\n",
            "                \"1.0\"\n",
            "            ],\n",
            "            \"image_types\": \"CT, MR, CR, Pathology\",\n",
            "            \"location\": \"Renal\",\n",
            "            \"species\": \"Human\",\n",
            "            \"subject_count\": 267,\n",
            "            \"supporting_data\": \"Clinical, Genomics, Image Analyses\"\n",
            "        },\n",
            "        {\n",
            "            \"active\": true,\n",
            "            \"cancer_type\": \"Low Grade Glioma\",\n",
            "            \"collection_id\": \"tcga_lgg\",\n",
            "            \"date_updated\": \"2021-03-30\",\n",
            "            \"description\": \"<div>\\n\\t<strong>Note:&nbsp;This collection has special restrictions on its usage. See <a href=\\\"https://wiki.cancerimagingarchive.net/x/c4hF\\\" target=\\\"_blank\\\">Data Usage Policies and Restrictions</a>.</strong></p>\\n<div>\\n\\t&nbsp;</p>\\n<div>\\n\\t<span>The <a href=\\\"http://imaging.cancer.gov/\\\" target=\\\"_blank\\\"><u>Cancer Imaging Program (CIP)</u></a></span><span>&thinsp;</span><span> is working directly with primary investigators from institutes participating in TCGA to obtain and load images relating to the genomic, clinical, and pathological data being stored within the <a href=\\\"http://tcga-data.nci.nih.gov/\\\" target=\\\"_blank\\\">TCGA Data Portal</a>.&nbsp;Currently this large MR multi-sequence image collection of low grade glioma patients can be matched by each unique case identifier with the extensive gene and expression data of the same case from The Cancer Genome Atlas Data Portal to research the link between clinical phenome and tissue genome.&nbsp;<br />\\n\\t</span></p>\\n<div>\\n\\t&nbsp;</p>\\n<div>\\n\\t<span>Please see the <span><a href=\\\"https://wiki.cancerimagingarchive.net/x/BANR\\\" target=\\\"_blank\\\">TCGA -LGG</a></span> wiki page to learn more about the images and to obtain any supporting metadata for this collection.</span></p>\\n\",\n",
            "            \"doi\": \"10.7937/K9/TCIA.2016.L4LTD3TK\",\n",
            "            \"idc_data_versions\": [\n",
            "                \"1.0\"\n",
            "            ],\n",
            "            \"image_types\": \"MR, CT, Pathology\",\n",
            "            \"location\": \"Brain\",\n",
            "            \"species\": \"Human\",\n",
            "            \"subject_count\": 199,\n",
            "            \"supporting_data\": \"Clinical, Genomics, Image Analyses\"\n",
            "        },\n",
            "        {\n",
            "            \"active\": true,\n",
            "            \"cancer_type\": \"Glioblastoma Multiforme\",\n",
            "            \"collection_id\": \"tcga_gbm\",\n",
            "            \"date_updated\": \"2021-03-30\",\n",
            "            \"description\": \"<div>\\n\\t<span>The <a href=\\\"http://imaging.cancer.gov/\\\" target=\\\"_blank\\\"><u>Cancer Imaging Program (CIP)</u></a></span><span>&thinsp;</span><span> is working directly with primary investigators from institutes participating in TCGA to obtain and load images relating to the genomic, clinical, and pathological data being stored within the <a href=\\\"http://tcga-data.nci.nih.gov/\\\" target=\\\"_blank\\\">TCGA Data Portal</a>.&nbsp;Currently this large MR multi-sequence image collection of glioblastoma patients can be matched by each unique case identifier with the extensive gene and expression data of the same case from The Cancer Genome Atlas Data Portal to research the link between clinical phenome and tissue genome.&nbsp;<br />\\n\\t</span></p>\\n<div>\\n\\t&nbsp;</p>\\n<div>\\n\\t<span>Please see the <span><a href=\\\"https://wiki.cancerimagingarchive.net/x/sgAe\\\" target=\\\"_blank\\\"><u>TCGA-GBM&nbsp;</u></a></span> wiki page to learn more about the images and to obtain any supporting metadata for this collection.</span></p>\\n\",\n",
            "            \"doi\": \"10.7937/K9/TCIA.2016.RNYFUYE9\",\n",
            "            \"idc_data_versions\": [\n",
            "                \"1.0\"\n",
            "            ],\n",
            "            \"image_types\": \"MR, CT, DX, Pathology\",\n",
            "            \"location\": \"Brain\",\n",
            "            \"species\": \"Human\",\n",
            "            \"subject_count\": 262,\n",
            "            \"supporting_data\": \"Clinical, Genomics, Image Analyses\"\n",
            "        },\n",
            "        {\n",
            "            \"active\": true,\n",
            "            \"cancer_type\": \"Lung Cancer\",\n",
            "            \"collection_id\": \"nsclc_radiomics\",\n",
            "            \"date_updated\": \"2021-03-30\",\n",
            "            \"description\": \"<p>\\n\\tThis collection contains images from 422 non-small cell lung cancer (NSCLC) patients. For these patients pretreatment CT scans and clinical outcome data are available. This dataset refers to the Lung1 dataset of the study published in Nature Communications</p>\\n<p>\\n\\tMore information may be found on the <a href=\\\"https://wiki.cancerimagingarchive.net/display/Public/NSCLC-Radiomics\\\" target=\\\"_blank\\\">NSCLC-Radiomics</a> wiki page<span>.</span></p>\\n\",\n",
            "            \"doi\": \"10.7937/K9/TCIA.2015.PF0M9REI\",\n",
            "            \"idc_data_versions\": [\n",
            "                \"1.0\"\n",
            "            ],\n",
            "            \"image_types\": \"CT, RTSTRUCT, SEG\",\n",
            "            \"location\": \"Lung\",\n",
            "            \"species\": \"Human\",\n",
            "            \"subject_count\": 422,\n",
            "            \"supporting_data\": \"Clinical, Image Analyses\"\n",
            "        }\n",
            "    ]\n",
            "}\n"
          ],
          "name": "stdout"
        }
      ]
    },
    {
      "cell_type": "markdown",
      "metadata": {
        "id": "z0EnRfsdX2WW"
      },
      "source": [
        "Metadata for original collections has been obtained from the [TCIA Data Collections page](https://www.cancerimagingarchive.net/collections/), and for analysis collections from the [TCIA Analysis Results page](https://www.cancerimagingarchive.net/tcia-analysis-results/). Not that the `idc_data_versions` component of each collection is a list because any particular collection will almost certainly be available in multiple IDC data versions."
      ]
    },
    {
      "cell_type": "markdown",
      "metadata": {
        "id": "MdZVwFTRdrHH"
      },
      "source": [
        "## Example: POST `/cohorts/preview/manifest` endpoint"
      ]
    },
    {
      "cell_type": "markdown",
      "metadata": {
        "id": "mC2NcjdtaGDy"
      },
      "source": [
        "The POST `/cohorts/preview/manifest` endpoint returns a manifest of *access_methods* for the objects in cohort cohort_id. Please refer to the [API](https://learn.canceridc.dev/api/getting-started) section of the [IDC User Guide](https://learn.canceridc.dev/ps://) for further information on manifests.\n",
        "\n",
        "The `/cohorts/preview/manifest` API does not actually create a cohort, but acts as if a cohort were created. Creating a cohort requires authenticating to the API; that process is addessed in a subsequent example describing the `/cohorts/{cohort_id}/manifest` API.\n",
        "\n",
        "A manifest is a list of *access methods*. Each access method describes how to access the study, series and/or instance DICOM objects in the cohort. A manifest can optionally include additional metadata per DICOM object. \n",
        "\n",
        "The objects in the preview cohort are defined by a *filters* object that is implicitly applied against the current (active) IDC data version\n",
        "A *filters* object is a list of *attribute*,*values* pairs, where *values* is a list of one or more values which must be satisfied by the associated attribute.\n",
        "\n",
        "In the following, we construct a dict, `cohortSpec`, containing the name and a description for the preview cohort, as well as a *filters* object that selects for subjects in either the TCGA-LUAD or TCGA-KIRC collections, having DICOM data with a CT or MR modality, and are Asian.\n",
        "\n"
      ]
    },
    {
      "cell_type": "code",
      "metadata": {
        "id": "NmLDCwyMrKIW"
      },
      "source": [
        "filters = {\n",
        "  \"collection_id\": [ \"TCGA-LUAD\", \"TCGA-KIRC\" ],\n",
        "  \"Modality\": [\"CT\", \"MR\"],\n",
        "  \"race\": [\"ASIAN\"]\n",
        "}\n",
        "\n",
        "cohortSpec = {\"name\": \"testcohort\",\n",
        "              \"description\": \"Test description\",\n",
        "              \"filters\": filters}\n",
        "\n"
      ],
      "execution_count": 31,
      "outputs": []
    },
    {
      "cell_type": "markdown",
      "metadata": {
        "id": "b9--y7MbtM3j"
      },
      "source": [
        "The query string selects additonal metadata to be return. In addition, the amount of data returned by each call can be limited. When this is done the API can be iteratively called until all data has been received. The params object below selects a limited set of data to be returned; refer to the API documention for details. In this example, we will limit the returned data to 2 rows."
      ]
    },
    {
      "cell_type": "code",
      "metadata": {
        "id": "j3YSHebRu37u"
      },
      "source": [
        "params = dict(\n",
        "    sql = False,\n",
        "    Collection_ID = True,\n",
        "    Patient_ID = True,\n",
        "    CRDC_Instance_GUID = True,\n",
        "    GCS_URL = True,\n",
        "    page_size = 2\n",
        ")"
      ],
      "execution_count": 50,
      "outputs": []
    },
    {
      "cell_type": "markdown",
      "metadata": {
        "id": "5v0RB-w-vCwo"
      },
      "source": [
        "We are now ready to call the endpoint. Note that /cohorts/preview/manifest is a POST method, so we call requests.post()"
      ]
    },
    {
      "cell_type": "code",
      "metadata": {
        "id": "Dk4HdufjvT-y"
      },
      "source": [
        "response = requests.post('{}/cohorts/preview/manifest'.format(idc_api_preamble),\n",
        "                    params=params, json=cohortSpec)\n",
        "\n",
        "# Check that there wasn't an error with the request\n",
        "if response.status_code != 200:\n",
        "  # Print the error code and message if something went wrong\n",
        "  print(response.json())"
      ],
      "execution_count": 51,
      "outputs": []
    },
    {
      "cell_type": "markdown",
      "metadata": {
        "id": "C-udN2bv--zN"
      },
      "source": [
        "We will prettyprint the results for easier comprehension:"
      ]
    },
    {
      "cell_type": "code",
      "metadata": {
        "id": "xvYVag8j7XIl",
        "outputId": "f1e3c389-1252-4cbd-bdef-55dcb16d193b",
        "colab": {
          "base_uri": "https://localhost:8080/"
        }
      },
      "source": [
        "print(json.dumps(response.json(), sort_keys=True, indent=4))"
      ],
      "execution_count": 52,
      "outputs": [
        {
          "output_type": "stream",
          "text": [
            "{\n",
            "    \"code\": 200,\n",
            "    \"cohort\": {\n",
            "        \"description\": \"Test description\",\n",
            "        \"filterSet\": {\n",
            "            \"filters\": {\n",
            "                \"Modality\": [\n",
            "                    \"CT\",\n",
            "                    \"MR\"\n",
            "                ],\n",
            "                \"collection_id\": [\n",
            "                    \"tcga_luad\",\n",
            "                    \"tcga_kirc\"\n",
            "                ],\n",
            "                \"race\": [\n",
            "                    \"ASIAN\"\n",
            "                ]\n",
            "            },\n",
            "            \"idc_data_version\": \"2.0\"\n",
            "        },\n",
            "        \"name\": \"testcohort\",\n",
            "        \"sql\": \"\"\n",
            "    },\n",
            "    \"manifest\": {\n",
            "        \"json_manifest\": [\n",
            "            {\n",
            "                \"CRDC_Instance_GUID\": \"dg.4DFC/000c8565-76f2-4bc8-9a34-33dd3d3924b3\",\n",
            "                \"Collection_ID\": \"tcga_kirc\",\n",
            "                \"GCS_URL\": \"gs://idc_dev/000c8565-76f2-4bc8-9a34-33dd3d3924b3.dcm\",\n",
            "                \"Patient_ID\": \"TCGA-B0-4821\"\n",
            "            },\n",
            "            {\n",
            "                \"CRDC_Instance_GUID\": \"dg.4DFC/002b13fe-8f12-415a-a5e8-401eedba2909\",\n",
            "                \"Collection_ID\": \"tcga_kirc\",\n",
            "                \"GCS_URL\": \"gs://idc_dev/002b13fe-8f12-415a-a5e8-401eedba2909.dcm\",\n",
            "                \"Patient_ID\": \"TCGA-BP-4970\"\n",
            "            }\n",
            "        ],\n",
            "        \"rowsReturned\": 2,\n",
            "        \"totalFound\": 1581\n",
            "    },\n",
            "    \"next_page\": \"gAAAAABgvQogAtTYC4hw81mvAcSRCO9BFEdXsnC-DctwUs8wf53u5rfh3BtRBmE7w1dM5FP6dlRGjI_I8nEerFTyI6mtjlPA3NsoY39tn1Hu1_E81DODLaxprwlsGIIy12iHAn1ZSVYTLUGF65qG3T6Ulg5hty26vrb5zLy-nXCHUJAXMuRxpGtEQ-7LRj4O0-5rd4NkesifibhrVLXUpFhxn059k2D3zOLbA-Ywc7rRSZxtp4Zonq_sqzpCGFfuTnNdekZy1A8HbLVhytKpl-ZNNOct8gWkcaVmnwiBSfw8kz93eXIXcqk5S-v1e9pmKSML4Tmg3_NU\"\n",
            "}\n"
          ],
          "name": "stdout"
        }
      ]
    },
    {
      "cell_type": "markdown",
      "metadata": {
        "id": "WraYhAri_NpR"
      },
      "source": [
        "The returned data includes the cohort name, description and filterset which we passed as parameters.  \n",
        "\n",
        "We can see that there are 1581 total rows, but only 2 were returned.\n",
        "\n",
        "We could also have requested that the BigQuery SQL that produced these results be returned.\n"
      ]
    },
    {
      "cell_type": "markdown",
      "metadata": {
        "id": "YBGPGzOdBVMh"
      },
      "source": [
        "## Paged results\n",
        "\n",
        "It can be seen that the above result includes a non-null `next_page` token. This token can be passed as a parameter in a subsequent invocation of /cohorts/preview/manifest to obtain additional data.\n",
        "\n",
        "When we pass a next_page value, all other parameters except page_size are ignored.\n"
      ]
    },
    {
      "cell_type": "code",
      "metadata": {
        "id": "RnkMCmYmJla_",
        "outputId": "507ad7b5-3262-4683-c65f-e6b471cad32b",
        "colab": {
          "base_uri": "https://localhost:8080/"
        }
      },
      "source": [
        "query_string = dict(\n",
        "    page_size = 10,\n",
        "    next_page = response.json()['next_page']\n",
        ")\n",
        "response = requests.post('{}/cohorts/preview/manifest'.format(idc_api_preamble),\n",
        "                    params=query_string, json=cohortSpec)\n",
        "\n",
        "# Check that there wasn't an error with the request\n",
        "if response.status_code != 200:\n",
        "  # Print the error code and message if something went wrong\n",
        "  print(response.json())\n",
        "\n",
        "print(json.dumps(response.json(), sort_keys=True, indent=4))\n",
        "\n"
      ],
      "execution_count": 53,
      "outputs": [
        {
          "output_type": "stream",
          "text": [
            "{\n",
            "    \"code\": 200,\n",
            "    \"cohort\": {},\n",
            "    \"manifest\": {\n",
            "        \"json_manifest\": [\n",
            "            {\n",
            "                \"CRDC_Instance_GUID\": \"dg.4DFC/00606631-64e6-4d1c-95dd-2373648aafb6\",\n",
            "                \"Collection_ID\": \"tcga_kirc\",\n",
            "                \"GCS_URL\": \"gs://idc_dev/00606631-64e6-4d1c-95dd-2373648aafb6.dcm\",\n",
            "                \"Patient_ID\": \"TCGA-B0-4821\"\n",
            "            },\n",
            "            {\n",
            "                \"CRDC_Instance_GUID\": \"dg.4DFC/0077877c-6172-488b-8754-bfa7df7589fd\",\n",
            "                \"Collection_ID\": \"tcga_kirc\",\n",
            "                \"GCS_URL\": \"gs://idc_dev/0077877c-6172-488b-8754-bfa7df7589fd.dcm\",\n",
            "                \"Patient_ID\": \"TCGA-B0-4821\"\n",
            "            },\n",
            "            {\n",
            "                \"CRDC_Instance_GUID\": \"dg.4DFC/00be9515-8b58-45c0-91ee-4c5022be2c00\",\n",
            "                \"Collection_ID\": \"tcga_kirc\",\n",
            "                \"GCS_URL\": \"gs://idc_dev/00be9515-8b58-45c0-91ee-4c5022be2c00.dcm\",\n",
            "                \"Patient_ID\": \"TCGA-CJ-4899\"\n",
            "            },\n",
            "            {\n",
            "                \"CRDC_Instance_GUID\": \"dg.4DFC/00bfdcd1-518d-4e1a-b105-6a08ff8b6556\",\n",
            "                \"Collection_ID\": \"tcga_kirc\",\n",
            "                \"GCS_URL\": \"gs://idc_dev/00bfdcd1-518d-4e1a-b105-6a08ff8b6556.dcm\",\n",
            "                \"Patient_ID\": \"TCGA-CJ-4899\"\n",
            "            },\n",
            "            {\n",
            "                \"CRDC_Instance_GUID\": \"dg.4DFC/00e0d3a5-36c1-400f-a901-44de946b2283\",\n",
            "                \"Collection_ID\": \"tcga_kirc\",\n",
            "                \"GCS_URL\": \"gs://idc_dev/00e0d3a5-36c1-400f-a901-44de946b2283.dcm\",\n",
            "                \"Patient_ID\": \"TCGA-B0-4821\"\n",
            "            },\n",
            "            {\n",
            "                \"CRDC_Instance_GUID\": \"dg.4DFC/00fc78b4-afc5-4518-bf28-ac4a2cfc7eca\",\n",
            "                \"Collection_ID\": \"tcga_kirc\",\n",
            "                \"GCS_URL\": \"gs://idc_dev/00fc78b4-afc5-4518-bf28-ac4a2cfc7eca.dcm\",\n",
            "                \"Patient_ID\": \"TCGA-B0-4821\"\n",
            "            },\n",
            "            {\n",
            "                \"CRDC_Instance_GUID\": \"dg.4DFC/0110057d-83ac-4cc6-a547-1bc2d1f91d5c\",\n",
            "                \"Collection_ID\": \"tcga_kirc\",\n",
            "                \"GCS_URL\": \"gs://idc_dev/0110057d-83ac-4cc6-a547-1bc2d1f91d5c.dcm\",\n",
            "                \"Patient_ID\": \"TCGA-CJ-4899\"\n",
            "            },\n",
            "            {\n",
            "                \"CRDC_Instance_GUID\": \"dg.4DFC/01856791-a91b-4ea1-992c-6eb1a19fe0a7\",\n",
            "                \"Collection_ID\": \"tcga_kirc\",\n",
            "                \"GCS_URL\": \"gs://idc_dev/01856791-a91b-4ea1-992c-6eb1a19fe0a7.dcm\",\n",
            "                \"Patient_ID\": \"TCGA-CJ-4899\"\n",
            "            },\n",
            "            {\n",
            "                \"CRDC_Instance_GUID\": \"dg.4DFC/018b5550-4258-4f31-ad96-b0c780482a63\",\n",
            "                \"Collection_ID\": \"tcga_kirc\",\n",
            "                \"GCS_URL\": \"gs://idc_dev/018b5550-4258-4f31-ad96-b0c780482a63.dcm\",\n",
            "                \"Patient_ID\": \"TCGA-BP-4970\"\n",
            "            },\n",
            "            {\n",
            "                \"CRDC_Instance_GUID\": \"dg.4DFC/01be03e9-fe11-4272-b90d-ff8f57cb26b4\",\n",
            "                \"Collection_ID\": \"tcga_kirc\",\n",
            "                \"GCS_URL\": \"gs://idc_dev/01be03e9-fe11-4272-b90d-ff8f57cb26b4.dcm\",\n",
            "                \"Patient_ID\": \"TCGA-BP-4970\"\n",
            "            }\n",
            "        ],\n",
            "        \"rowsReturned\": 10,\n",
            "        \"totalFound\": 1581\n",
            "    },\n",
            "    \"next_page\": \"gAAAAABgvQqNZ-qKKJuCCQFzc4xSfS-eIZ5tjaicB4khfL6Ln3Ve6vjxh4MROgvkSy6J4qb4Ej_XQIvAXGKctgB8i_6NvnUYQVXb26cDGX5rKjKSL_J4URPCUReKgP3FTMsdOEWcALgnyYZS7YLWFdr-bj2R-oaTEPvfA3XyHTrs7-XtIDjrqYTFe4AcQyIwh4dAlrM5Lb_vWFESUvELHQeEXFPNtkBCbyxxsibJyML6BBolv_3Vpdb89PtERqP0qikvwgkIUdI2A4E7xOo7JkkkmGlAv0VZDIGcWNkuLarZBQEhcRBbqtlAzUyjoofa34v0Ml4-k8S3\"\n",
            "}\n"
          ],
          "name": "stdout"
        }
      ]
    },
    {
      "cell_type": "markdown",
      "metadata": {
        "id": "CO40yJQ3BFrW"
      },
      "source": [
        "## Notes on Authorization and Credentials\n",
        "In the next section we will focus on the POST /cohorts/{cohort_id}/manifest endpoint. Unlike the /cohort/preview/manifest endpoint, the /cohorts/{cohort_id}/manifest returns a manifest against a cohort that was previously defined via the IDC POST /cohorts API or through the IDC webapp.\n",
        "\n",
        "In order to be able to create a cohort or access a previously defined cohort from the API, the user must authenticate their identity with the web app. This section will step through the authentication/authorization process. Perform the following steps steps on your local machine:\n",
        "\n",
        "1. Create a Credential File on your local machine by using the [idc_auth.py](https://github.com/ImagingDataCommons/IDC-API/tree/master/scripts/idc_auth.py) script from the [IDC-API Repository](https://github.com/ImagingDataCommons/IDC-API.git)\n",
        "  * This script can be run from the command line or from within Python but should be run on your local machine.\n",
        "2. Find the location of the Credential File on your local machine\n",
        "  * By default, the script will save the file in the user's home folder with the file name: \".idc_credentials\"\n",
        "\n",
        "We can now proceed to load the credential file into the cloud environment you are using:"
      ]
    },
    {
      "cell_type": "code",
      "metadata": {
        "id": "AQhPXCGZQwxc"
      },
      "source": [
        "# If you skipped earlier sections, you will need these two packages to run the\n",
        "# code below\n",
        "# Install requests if needed\n",
        "#pip install requests\n",
        "\n",
        "# Import json\n",
        "#import json\n",
        "\n",
        "# Import the requests library\n",
        "#import requests"
      ],
      "execution_count": null,
      "outputs": []
    },
    {
      "cell_type": "code",
      "metadata": {
        "id": "TYY9fUVRRCLY"
      },
      "source": [
        "# import os\n",
        "import os\n",
        "# Import files helper for Colab\n",
        "from google.colab import files"
      ],
      "execution_count": 54,
      "outputs": []
    },
    {
      "cell_type": "code",
      "metadata": {
        "id": "0H4QGZ3zQz7x",
        "outputId": "ed2dac6f-f819-4ab6-abd4-ba762dd7a5d6",
        "colab": {
          "resources": {
            "http://localhost:8080/nbextensions/google.colab/files.js": {
              "data": "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",
              "ok": true,
              "headers": [
                [
                  "content-type",
                  "application/javascript"
                ]
              ],
              "status": 200,
              "status_text": ""
            }
          },
          "base_uri": "https://localhost:8080/",
          "height": 90
        }
      },
      "source": [
        "# First delete any existing .idc_credentials. If we do not do this, file.upload() will name the new file \".idc_credentials (1)\"\n",
        "try:\n",
        "  os.remove('./.idc_credentials')\n",
        "except:\n",
        "  print('.idc_credentials not found')\n",
        "\n",
        "# Upload your credentials to the cloud environment\n",
        "uploaded = files.upload()"
      ],
      "execution_count": 55,
      "outputs": [
        {
          "output_type": "stream",
          "text": [
            ".idc_credentials not found\n"
          ],
          "name": "stdout"
        },
        {
          "output_type": "display_data",
          "data": {
            "text/html": [
              "\n",
              "     <input type=\"file\" id=\"files-6e7fb7a4-214b-4266-9065-a28590a710d0\" name=\"files[]\" multiple disabled\n",
              "        style=\"border:none\" />\n",
              "     <output id=\"result-6e7fb7a4-214b-4266-9065-a28590a710d0\">\n",
              "      Upload widget is only available when the cell has been executed in the\n",
              "      current browser session. Please rerun this cell to enable.\n",
              "      </output>\n",
              "      <script src=\"/nbextensions/google.colab/files.js\"></script> "
            ],
            "text/plain": [
              "<IPython.core.display.HTML object>"
            ]
          },
          "metadata": {
            "tags": []
          }
        },
        {
          "output_type": "stream",
          "text": [
            "Saving .idc_credentials to .idc_credentials\n"
          ],
          "name": "stdout"
        }
      ]
    },
    {
      "cell_type": "markdown",
      "metadata": {
        "id": "3PM9_7ZySBzC"
      },
      "source": [
        "Now that we have the Credentials file created and uploaded to the cloud environment, we can extract the ID token that identifies you for the purpose of authorization."
      ]
    },
    {
      "cell_type": "code",
      "metadata": {
        "id": "uj_jc3p6Wx_p"
      },
      "source": [
        "# Open the credentials file\n",
        "token = open(\".idc_credentials\", \"r\")\n",
        "# Create a json object from teh credential file\n",
        "token = json.loads(token.read())\n",
        "# Get Credentials from the token\n",
        "creds = token['token_response']['id_token']\n",
        "# Create a json object for requests header\n",
        "head = {'Authorization': 'Bearer ' + creds}"
      ],
      "execution_count": 56,
      "outputs": []
    },
    {
      "cell_type": "markdown",
      "metadata": {
        "id": "i0y9thsfXATV"
      },
      "source": [
        "**Note:** the credentials file will expire after 1 hour and a new one will need to be generated. If a new file is not generated with the idc_auth script, you can delete the original file and try running the script again."
      ]
    },
    {
      "cell_type": "markdown",
      "metadata": {
        "id": "RIkYHdLWXKAX"
      },
      "source": [
        "## Example: POST `/cohort/{cohort_id}/manifest` Endpoint\n",
        "We can now proceed to use the POST `/cohorts` endpoint to create a cohort. We will use the same cohort definition as previously."
      ]
    },
    {
      "cell_type": "code",
      "metadata": {
        "id": "Z8I4uplMUGMt",
        "outputId": "40001333-9676-4be6-d05a-806af2f6451d",
        "colab": {
          "base_uri": "https://localhost:8080/"
        }
      },
      "source": [
        "filters = {\n",
        "  \"collection_id\": [ \"TCGA-LUAD\", \"TCGA-KIRC\" ],\n",
        "  \"Modality\": [\"CT\", \"MR\"],\n",
        "  \"race\": [\"ASIAN\"]\n",
        "}\n",
        "  \n",
        "cohortSpec = {\"name\": \"testcohort\",\n",
        "              \"description\": \"Test description\",\n",
        "              \"filters\": filters}\n",
        "\n",
        "response = requests.post(f'{idc_api_preamble}/cohorts/',\n",
        "                      json=cohortSpec, headers = head)\n",
        "\n",
        "# Check that there wasn't an error with the request\n",
        "if response.status_code != 200:\n",
        "    # Print the error code and message if something went wrong\n",
        "    print(response.json())\n",
        "\n",
        "print(json.dumps(response.json(), sort_keys=True, indent=1))\n",
        "\n",
        "cohort_id = response.json()['cohort_properties']['cohort_id']"
      ],
      "execution_count": 61,
      "outputs": [
        {
          "output_type": "stream",
          "text": [
            "{\n",
            " \"code\": 200,\n",
            " \"cohort_properties\": {\n",
            "  \"cohort_id\": 146,\n",
            "  \"description\": \"Test description\",\n",
            "  \"filterSet\": {\n",
            "   \"filters\": {\n",
            "    \"Modality\": [\n",
            "     \"CT\",\n",
            "     \"MR\"\n",
            "    ],\n",
            "    \"collection_id\": [\n",
            "     \"TCGA-LUAD\",\n",
            "     \"TCGA-KIRC\"\n",
            "    ],\n",
            "    \"race\": [\n",
            "     \"ASIAN\"\n",
            "    ]\n",
            "   },\n",
            "   \"idc_data_version\": \"2.0\"\n",
            "  },\n",
            "  \"name\": \"testcohort\"\n",
            " }\n",
            "}\n"
          ],
          "name": "stdout"
        }
      ]
    },
    {
      "cell_type": "markdown",
      "metadata": {
        "id": "HKnhDeB-YyEp"
      },
      "source": [
        "Note that the response includes the cohort_id of the newly created cohort. We will use this ID when querying for the cohort's manifest. Note also that the response repeats the filter and other cohort metadata.\n",
        "\n",
        "This time we will return only series GUIDS and ."
      ]
    },
    {
      "cell_type": "code",
      "metadata": {
        "id": "jPlHkZocX7rd",
        "outputId": "2770a4c5-e88d-4893-cb7c-344fcb1fffd4",
        "colab": {
          "base_uri": "https://localhost:8080/"
        }
      },
      "source": [
        "query_string = dict(\n",
        "    CRDC_Series_GUID = True,\n",
        "    page_size = 10\n",
        ")\n",
        "\n",
        "response = requests.get('{}/cohorts/{}/manifest'.format(idc_api_preamble, cohort_id),\n",
        "                      params=query_string, headers = head)\n",
        "\n",
        "# Check that there wasn't an error with the request\n",
        "if response.status_code != 200:\n",
        "    # Print the error code and message if something went wrong\n",
        "    print(response.json())\n",
        "\n",
        "print(json.dumps(response.json(), sort_keys=True, indent=4))\n"
      ],
      "execution_count": 65,
      "outputs": [
        {
          "output_type": "stream",
          "text": [
            "{\n",
            "    \"code\": 200,\n",
            "    \"cohort\": {\n",
            "        \"cohort_id\": 146,\n",
            "        \"description\": \"Test description\",\n",
            "        \"filterSet\": {\n",
            "            \"filters\": {\n",
            "                \"Modality\": [\n",
            "                    \"CT\",\n",
            "                    \"MR\"\n",
            "                ],\n",
            "                \"collection_id\": [\n",
            "                    \"TCGA-LUAD\",\n",
            "                    \"TCGA-KIRC\"\n",
            "                ],\n",
            "                \"race\": [\n",
            "                    \"ASIAN\"\n",
            "                ]\n",
            "            },\n",
            "            \"idc_data_version\": \"2.0\"\n",
            "        },\n",
            "        \"name\": \"testcohort\",\n",
            "        \"sql\": \"\"\n",
            "    },\n",
            "    \"manifest\": {\n",
            "        \"json_manifest\": [\n",
            "            {\n",
            "                \"CRDC_Series_GUID\": \"dg.4DFC/099a1844-dc1c-44bd-91f8-e6f1860cbfce\"\n",
            "            },\n",
            "            {\n",
            "                \"CRDC_Series_GUID\": \"dg.4DFC/0cda1d25-1c66-4e45-bf4a-e77718debed8\"\n",
            "            },\n",
            "            {\n",
            "                \"CRDC_Series_GUID\": \"dg.4DFC/32305644-df68-4667-a22d-867725b63670\"\n",
            "            },\n",
            "            {\n",
            "                \"CRDC_Series_GUID\": \"dg.4DFC/3446f5bb-4a73-4460-8df8-30ef115a66bb\"\n",
            "            },\n",
            "            {\n",
            "                \"CRDC_Series_GUID\": \"dg.4DFC/3faa6ee2-a9e2-419a-b56f-679a26b1cd9c\"\n",
            "            },\n",
            "            {\n",
            "                \"CRDC_Series_GUID\": \"dg.4DFC/450c9725-a794-4712-a205-88bb31a5e5ca\"\n",
            "            },\n",
            "            {\n",
            "                \"CRDC_Series_GUID\": \"dg.4DFC/493f3664-d789-419f-a01a-954eb566c96a\"\n",
            "            },\n",
            "            {\n",
            "                \"CRDC_Series_GUID\": \"dg.4DFC/533d0601-2ca4-436b-b581-ae0a3be5fa36\"\n",
            "            },\n",
            "            {\n",
            "                \"CRDC_Series_GUID\": \"dg.4DFC/53bee101-08b8-44e7-acd7-6bf9744ac524\"\n",
            "            },\n",
            "            {\n",
            "                \"CRDC_Series_GUID\": \"dg.4DFC/562640ef-cced-4cef-9a06-d65cf402ae0d\"\n",
            "            }\n",
            "        ],\n",
            "        \"rowsReturned\": 10,\n",
            "        \"totalFound\": 26\n",
            "    },\n",
            "    \"next_page\": \"gAAAAABgvQ4sTbkuB3UQEB3s8_YQgouAwPST6bjJhbkYA2o6QTJXVDVfaByB40JIxNO_3mEEX_YqonVezZJNffj_PJWAGlMO92nw05dvrooqS0FGmRRWBnhzUBV3gvilzWjd4YUwv7ctj7p00sY4OR66dYjeQA7poYRwViS70c5IQTJNZnyXjbgMrJkJNBulo6hMa4BkZQPIR0IvVh0EnClSEKutX4TQ1k5Nr8PiBYdCJ2b5Pxy3xSp7x3H30yzbDNCW6pUTk0a48ab1bVlFop5DeClj1OoDWoQYq8VBqcH_jr0hvzNsVO8mMgaqnBbypu7ARhSF-MSCq0RtSzprBoutAhbaTKslEaK1zf80rVs3DKKjF8FNjsY=\"\n",
            "}\n"
          ],
          "name": "stdout"
        }
      ]
    },
    {
      "cell_type": "markdown",
      "metadata": {
        "id": "nEJtX2SpWsV6"
      },
      "source": [
        "As with POST `/cohorts/preview/manifest`, the returned next_page token can be used in subsequent calls to obtain additional data."
      ]
    },
    {
      "cell_type": "markdown",
      "metadata": {
        "id": "fU_0eXe_yEHL"
      },
      "source": [
        "A `guid` can be resolved to a GA4GH DrsObject. Please refer to the [API](https://learn.canceridc.dev/api/getting-started) section of the [IDC User Guide](https://learn.canceridc.dev/ps://) for further information on DrsObjects and access methods."
      ]
    },
    {
      "cell_type": "markdown",
      "metadata": {
        "id": "sABWUjc9HwcD"
      },
      "source": [
        "##Example: POST /cohorts/preview/query\n",
        "The POST /cohorts/preview/query API returns selected metadata for the elements in a specified cohort. Like the POST /cohorts/preview/manifest API, the `/cohorts/preview/query` API does not actually create a cohort, but acts as if a cohort were created.\n",
        "\n",
        "The values that can be queried are the Original and Derived values that define a filter. Currently these are:\n",
        "Modality, BodyPartExamined, StudyDescription, StudyInstanceUID, PatientID, SeriesInstanceUID, SOPInstanceUID, SeriesDescription, SliceThickness, SeriesNumber, StudyDate, SOPClassUID, collection_id, AnatomicRegionSequence, SegmentedPropertyCategoryCodeSequence, SegmentedPropertyTypeCodeSequence, FrameOfReferenceUID, SegmentNumber, SegmentAlgorithmType, SUVbw, Volume, Diameter, Surface_area_of, Total_Lesion, Standardized_Added_Metabolic, Percent_Within_First_Quarter_of_Intensity_Range, Percent_Within_Third_Quarter_of_Intensity_Range, Percent_Within_Fourth_Quarter_of_Intensity_Range, Percent_Within_Second_Quarter_of_Intensity_Range, Standardized_Added_Metabolic_Activity, Glycolysis_Within_First_Quarter_of_Intensity_Range, Glycolysis_Within_Third_Quarter_of_Intensity_Range, Glycolysis_Within_Fourth_Quarter_of_Intensity_Range, Glycolysis_Within_Second_Quarter_of_Intensity_Range, Internal, Sphericity, Calcification, Lobular, Spiculation, Margin, Texture, Subtlety, Malignancy \n",
        "\n"
      ]
    },
    {
      "cell_type": "markdown",
      "metadata": {
        "id": "vBa9k5lqDX62"
      },
      "source": [
        "In the following, the filter defines a cohort of LIDC_IDRC cases that have spiculation values of 4 or 5 out of 5. The queried values include the PatientID, SOPInstanceID, Modality and Spiculation. "
      ]
    },
    {
      "cell_type": "code",
      "metadata": {
        "id": "rZagke2Ej_8t",
        "outputId": "1b677567-4cc6-4fac-c0c1-6f594eb9ff4b",
        "colab": {
          "base_uri": "https://localhost:8080/"
        }
      },
      "source": [
        "filters = {\n",
        "  \"collection_id\": [\n",
        "    \"LIDC_IDRI\"\n",
        "   ],\n",
        "   \"Spiculation\": [\n",
        "     \"4 Out of 5\",\n",
        "     \"5 out of 5 (Marked spiculation)\"\n",
        "    ]\n",
        "}\n",
        "\n",
        "cohort_def = {\"name\": \"testcohort\",\n",
        "              \"description\": \"Test description\",\n",
        "              \"filters\": filters}\n",
        "\n",
        "queryFields = {\n",
        "    \"fields\": [\n",
        "      \"PatientID\",\"SOPInstanceUID\",\"Modality\",\"Spiculation\"\n",
        "    ]\n",
        "  }\n",
        "queryPreviewBody = {\"cohort_def\": cohort_def,\n",
        "                    \"queryFields\": queryFields}\n",
        "\n",
        "query_string = {\n",
        "    'sql': False,\n",
        "    'page_size': 10\n",
        "}\n",
        "\n",
        "response = requests.post(f'{idc_api_preamble}/cohorts/preview/query',\n",
        "                      json=queryPreviewBody, \n",
        "                      params=query_string)\n",
        "# Check that there wasn't an error with the request\n",
        "if response.status_code != 200:\n",
        "    # Print the error code and message if something went wrong\n",
        "    print(response.json())\n",
        "\n",
        "print(json.dumps(response.json(), sort_keys=True, indent=4))"
      ],
      "execution_count": 69,
      "outputs": [
        {
          "output_type": "stream",
          "text": [
            "{'code': 500, 'message': 'Encountered an error while attempting to get metadata.'}\n",
            "{\n",
            "    \"code\": 500,\n",
            "    \"message\": \"Encountered an error while attempting to get metadata.\"\n",
            "}\n"
          ],
          "name": "stdout"
        }
      ]
    },
    {
      "cell_type": "markdown",
      "metadata": {
        "id": "3IhRGsICEVYe"
      },
      "source": [
        "Like the manifest APIs, there is also a GET cohorts/{cohort_id}/query form of this API, that returns additional data about an existing cohort. Also like the manifest APIs, the query APIs are paged."
      ]
    },
    {
      "cell_type": "markdown",
      "metadata": {
        "id": "lg_IXJBmutPi"
      },
      "source": [
        "##Example: GET /dicomMetadata"
      ]
    },
    {
      "cell_type": "markdown",
      "metadata": {
        "id": "ncD5NxpEvGox"
      },
      "source": [
        "For completeness, this last section reviews the GET /dicomMetadata endpoint. This endpoint returns a fixed selection of DICOM metadata for all instances in IDC DICOM data. It is intended for use by other CRDC resources that might need such information for the purpose of aggregating imaging data with other data types.\n",
        "\n",
        "Because it returns metadata on all DICOM instances, paging must be used to obtain the complete set of results."
      ]
    },
    {
      "cell_type": "code",
      "metadata": {
        "id": "FO20f53qwFQf",
        "collapsed": true,
        "outputId": "85510237-a687-430d-89e1-12be67149f94",
        "colab": {
          "base_uri": "https://localhost:8080/"
        }
      },
      "source": [
        "query_string = dict(\n",
        "    page_size = 10\n",
        ")\n",
        "\n",
        "response = requests.get('{}/dicomMetadata'.format(idc_api_preamble, cohort_id),\n",
        "                      params=query_string, headers = head)\n",
        "\n",
        "# Check that there wasn't an error with the request\n",
        "if response.status_code != 200:\n",
        "    # Print the error code and message if something went wrong\n",
        "    print(response.json())\n",
        "\n",
        "print(json.dumps(response.json(), sort_keys=True, indent=4))"
      ],
      "execution_count": 71,
      "outputs": [
        {
          "output_type": "stream",
          "text": [
            "{\n",
            "    \"code\": 200,\n",
            "    \"next_page\": \"gAAAAABgvSBCkGcWUId1Qu6zsTe08jeIPzUZDYd46Yuw9e5m4LYtHEtRc7b5-4RJO6CKm1W9W_AuXDIJeE1EtEFQj0REHi6SNUq-6g9GZrCJk4U496cQgk7dAH5omjhREALz5mjuUWfV6VgfgQS5ku5T3liQEb-pfxg5yg6oNhvY8OoS2H7OOH9ObwMK1daA0vrXkB81QgYnCkQlwgTDMHd2XlQ7ygGO_3ip22teN9xpLTGYTUiY-RjfF2BqKJqfIjOmi6yG844abb34Dii6otjESdUKJvHfigbzhkyZf2a0BFBhTP3DGEWkZ_8YD6tT9t4yIS7wc74G\",\n",
            "    \"query_results\": {\n",
            "        \"json\": [\n",
            "            {\n",
            "                \"AdditionalPatientHistory\": null,\n",
            "                \"Allergies\": [],\n",
            "                \"BodyPartExamined\": \"BREAST\",\n",
            "                \"EthnicGroup\": null,\n",
            "                \"ImageType\": [\n",
            "                    \"DERIVED\",\n",
            "                    \"PRIMARY\",\n",
            "                    \"DCE\",\n",
            "                    \"SER\"\n",
            "                ],\n",
            "                \"LastMenstrualDate\": null,\n",
            "                \"MedicalAlerts\": [],\n",
            "                \"Modality\": \"MR\",\n",
            "                \"Occupation\": null,\n",
            "                \"PatientAge\": \"039Y\",\n",
            "                \"PatientComments\": null,\n",
            "                \"PatientID\": \"ISPY1_1001\",\n",
            "                \"PatientSize\": null,\n",
            "                \"PatientWeight\": \"47.174\",\n",
            "                \"PregnancyStatus\": null,\n",
            "                \"ReasonForStudy\": null,\n",
            "                \"RequestedProcedureComments\": null,\n",
            "                \"SOPClassUID\": \"1.2.840.10008.5.1.4.1.1.4\",\n",
            "                \"SOPInstanceUID\": \"1.3.6.1.4.1.14519.5.2.1.7695.1700.100920826712470157156434341897\",\n",
            "                \"SeriesInstanceUID\": \"1.3.6.1.4.1.14519.5.2.1.7695.1700.134282805412721876700374897836\",\n",
            "                \"SmokingStatus\": null,\n",
            "                \"Source_DOI\": \"10.7937/K9/TCIA.2016.HdHpgJLK\",\n",
            "                \"StudyID\": \"583413\",\n",
            "                \"StudyInstanceUID\": \"1.3.6.1.4.1.14519.5.2.1.7695.1700.118757564401397374205631727107\",\n",
            "                \"collection_id\": \"ispy1\",\n",
            "                \"crdc_instance_uuid\": \"dg.4DFC/c82678d0-a7ce-40e4-b521-d01cd1d0b5a5\",\n",
            "                \"crdc_series_uuid\": \"\",\n",
            "                \"crdc_study_uuid\": \"\",\n",
            "                \"gcs_bucket\": \"idc-tcia-ispy1\",\n",
            "                \"gcs_generation\": \"1592595873117117\",\n",
            "                \"gcs_url\": \"gs://idc-tcia-ispy1/dicom/1.3.6.1.4.1.14519.5.2.1.7695.1700.118757564401397374205631727107/1.3.6.1.4.1.14519.5.2.1.7695.1700.134282805412721876700374897836/1.3.6.1.4.1.14519.5.2.1.7695.1700.100920826712470157156434341897.dcm#1592595873117117\",\n",
            "                \"tcia_tumorLocation\": \"Breast\"\n",
            "            },\n",
            "            {\n",
            "                \"AdditionalPatientHistory\": null,\n",
            "                \"Allergies\": [],\n",
            "                \"BodyPartExamined\": \"BREAST\",\n",
            "                \"EthnicGroup\": null,\n",
            "                \"ImageType\": [\n",
            "                    \"DERIVED\",\n",
            "                    \"PRIMARY\",\n",
            "                    \"DCE\",\n",
            "                    \"SER\"\n",
            "                ],\n",
            "                \"LastMenstrualDate\": null,\n",
            "                \"MedicalAlerts\": [],\n",
            "                \"Modality\": \"MR\",\n",
            "                \"Occupation\": null,\n",
            "                \"PatientAge\": \"039Y\",\n",
            "                \"PatientComments\": null,\n",
            "                \"PatientID\": \"ISPY1_1001\",\n",
            "                \"PatientSize\": null,\n",
            "                \"PatientWeight\": \"47.174\",\n",
            "                \"PregnancyStatus\": null,\n",
            "                \"ReasonForStudy\": null,\n",
            "                \"RequestedProcedureComments\": null,\n",
            "                \"SOPClassUID\": \"1.2.840.10008.5.1.4.1.1.4\",\n",
            "                \"SOPInstanceUID\": \"1.3.6.1.4.1.14519.5.2.1.7695.1700.105352165972759705869159117777\",\n",
            "                \"SeriesInstanceUID\": \"1.3.6.1.4.1.14519.5.2.1.7695.1700.134282805412721876700374897836\",\n",
            "                \"SmokingStatus\": null,\n",
            "                \"Source_DOI\": \"10.7937/K9/TCIA.2016.HdHpgJLK\",\n",
            "                \"StudyID\": \"583413\",\n",
            "                \"StudyInstanceUID\": \"1.3.6.1.4.1.14519.5.2.1.7695.1700.118757564401397374205631727107\",\n",
            "                \"collection_id\": \"ispy1\",\n",
            "                \"crdc_instance_uuid\": \"dg.4DFC/4633a6c5-4b9e-4a6c-a648-574fef1a76b5\",\n",
            "                \"crdc_series_uuid\": \"\",\n",
            "                \"crdc_study_uuid\": \"\",\n",
            "                \"gcs_bucket\": \"idc-tcia-ispy1\",\n",
            "                \"gcs_generation\": \"1592595873136395\",\n",
            "                \"gcs_url\": \"gs://idc-tcia-ispy1/dicom/1.3.6.1.4.1.14519.5.2.1.7695.1700.118757564401397374205631727107/1.3.6.1.4.1.14519.5.2.1.7695.1700.134282805412721876700374897836/1.3.6.1.4.1.14519.5.2.1.7695.1700.105352165972759705869159117777.dcm#1592595873136395\",\n",
            "                \"tcia_tumorLocation\": \"Breast\"\n",
            "            },\n",
            "            {\n",
            "                \"AdditionalPatientHistory\": null,\n",
            "                \"Allergies\": [],\n",
            "                \"BodyPartExamined\": \"BREAST\",\n",
            "                \"EthnicGroup\": null,\n",
            "                \"ImageType\": [\n",
            "                    \"DERIVED\",\n",
            "                    \"PRIMARY\",\n",
            "                    \"DCE\",\n",
            "                    \"SER\"\n",
            "                ],\n",
            "                \"LastMenstrualDate\": null,\n",
            "                \"MedicalAlerts\": [],\n",
            "                \"Modality\": \"MR\",\n",
            "                \"Occupation\": null,\n",
            "                \"PatientAge\": \"039Y\",\n",
            "                \"PatientComments\": null,\n",
            "                \"PatientID\": \"ISPY1_1001\",\n",
            "                \"PatientSize\": null,\n",
            "                \"PatientWeight\": \"47.174\",\n",
            "                \"PregnancyStatus\": null,\n",
            "                \"ReasonForStudy\": null,\n",
            "                \"RequestedProcedureComments\": null,\n",
            "                \"SOPClassUID\": \"1.2.840.10008.5.1.4.1.1.4\",\n",
            "                \"SOPInstanceUID\": \"1.3.6.1.4.1.14519.5.2.1.7695.1700.115630854385035089808905348632\",\n",
            "                \"SeriesInstanceUID\": \"1.3.6.1.4.1.14519.5.2.1.7695.1700.134282805412721876700374897836\",\n",
            "                \"SmokingStatus\": null,\n",
            "                \"Source_DOI\": \"10.7937/K9/TCIA.2016.HdHpgJLK\",\n",
            "                \"StudyID\": \"583413\",\n",
            "                \"StudyInstanceUID\": \"1.3.6.1.4.1.14519.5.2.1.7695.1700.118757564401397374205631727107\",\n",
            "                \"collection_id\": \"ispy1\",\n",
            "                \"crdc_instance_uuid\": \"dg.4DFC/fcb5f912-93c6-40f0-89d4-b04f5be4255e\",\n",
            "                \"crdc_series_uuid\": \"\",\n",
            "                \"crdc_study_uuid\": \"\",\n",
            "                \"gcs_bucket\": \"idc-tcia-ispy1\",\n",
            "                \"gcs_generation\": \"1592595873122115\",\n",
            "                \"gcs_url\": \"gs://idc-tcia-ispy1/dicom/1.3.6.1.4.1.14519.5.2.1.7695.1700.118757564401397374205631727107/1.3.6.1.4.1.14519.5.2.1.7695.1700.134282805412721876700374897836/1.3.6.1.4.1.14519.5.2.1.7695.1700.115630854385035089808905348632.dcm#1592595873122115\",\n",
            "                \"tcia_tumorLocation\": \"Breast\"\n",
            "            },\n",
            "            {\n",
            "                \"AdditionalPatientHistory\": null,\n",
            "                \"Allergies\": [],\n",
            "                \"BodyPartExamined\": \"BREAST\",\n",
            "                \"EthnicGroup\": null,\n",
            "                \"ImageType\": [\n",
            "                    \"DERIVED\",\n",
            "                    \"PRIMARY\",\n",
            "                    \"DCE\",\n",
            "                    \"SER\"\n",
            "                ],\n",
            "                \"LastMenstrualDate\": null,\n",
            "                \"MedicalAlerts\": [],\n",
            "                \"Modality\": \"MR\",\n",
            "                \"Occupation\": null,\n",
            "                \"PatientAge\": \"039Y\",\n",
            "                \"PatientComments\": null,\n",
            "                \"PatientID\": \"ISPY1_1001\",\n",
            "                \"PatientSize\": null,\n",
            "                \"PatientWeight\": \"47.174\",\n",
            "                \"PregnancyStatus\": null,\n",
            "                \"ReasonForStudy\": null,\n",
            "                \"RequestedProcedureComments\": null,\n",
            "                \"SOPClassUID\": \"1.2.840.10008.5.1.4.1.1.4\",\n",
            "                \"SOPInstanceUID\": \"1.3.6.1.4.1.14519.5.2.1.7695.1700.116734087581184882555490712349\",\n",
            "                \"SeriesInstanceUID\": \"1.3.6.1.4.1.14519.5.2.1.7695.1700.134282805412721876700374897836\",\n",
            "                \"SmokingStatus\": null,\n",
            "                \"Source_DOI\": \"10.7937/K9/TCIA.2016.HdHpgJLK\",\n",
            "                \"StudyID\": \"583413\",\n",
            "                \"StudyInstanceUID\": \"1.3.6.1.4.1.14519.5.2.1.7695.1700.118757564401397374205631727107\",\n",
            "                \"collection_id\": \"ispy1\",\n",
            "                \"crdc_instance_uuid\": \"dg.4DFC/effb05ca-5ae0-4053-b8a2-a30ed236329e\",\n",
            "                \"crdc_series_uuid\": \"\",\n",
            "                \"crdc_study_uuid\": \"\",\n",
            "                \"gcs_bucket\": \"idc-tcia-ispy1\",\n",
            "                \"gcs_generation\": \"1592595873154004\",\n",
            "                \"gcs_url\": \"gs://idc-tcia-ispy1/dicom/1.3.6.1.4.1.14519.5.2.1.7695.1700.118757564401397374205631727107/1.3.6.1.4.1.14519.5.2.1.7695.1700.134282805412721876700374897836/1.3.6.1.4.1.14519.5.2.1.7695.1700.116734087581184882555490712349.dcm#1592595873154004\",\n",
            "                \"tcia_tumorLocation\": \"Breast\"\n",
            "            },\n",
            "            {\n",
            "                \"AdditionalPatientHistory\": null,\n",
            "                \"Allergies\": [],\n",
            "                \"BodyPartExamined\": \"BREAST\",\n",
            "                \"EthnicGroup\": null,\n",
            "                \"ImageType\": [\n",
            "                    \"DERIVED\",\n",
            "                    \"PRIMARY\",\n",
            "                    \"DCE\",\n",
            "                    \"SER\"\n",
            "                ],\n",
            "                \"LastMenstrualDate\": null,\n",
            "                \"MedicalAlerts\": [],\n",
            "                \"Modality\": \"MR\",\n",
            "                \"Occupation\": null,\n",
            "                \"PatientAge\": \"039Y\",\n",
            "                \"PatientComments\": null,\n",
            "                \"PatientID\": \"ISPY1_1001\",\n",
            "                \"PatientSize\": null,\n",
            "                \"PatientWeight\": \"47.174\",\n",
            "                \"PregnancyStatus\": null,\n",
            "                \"ReasonForStudy\": null,\n",
            "                \"RequestedProcedureComments\": null,\n",
            "                \"SOPClassUID\": \"1.2.840.10008.5.1.4.1.1.4\",\n",
            "                \"SOPInstanceUID\": \"1.3.6.1.4.1.14519.5.2.1.7695.1700.119451200478661605318821088041\",\n",
            "                \"SeriesInstanceUID\": \"1.3.6.1.4.1.14519.5.2.1.7695.1700.134282805412721876700374897836\",\n",
            "                \"SmokingStatus\": null,\n",
            "                \"Source_DOI\": \"10.7937/K9/TCIA.2016.HdHpgJLK\",\n",
            "                \"StudyID\": \"583413\",\n",
            "                \"StudyInstanceUID\": \"1.3.6.1.4.1.14519.5.2.1.7695.1700.118757564401397374205631727107\",\n",
            "                \"collection_id\": \"ispy1\",\n",
            "                \"crdc_instance_uuid\": \"dg.4DFC/5ba05ff8-8d0f-4708-a11e-922c39cd1b82\",\n",
            "                \"crdc_series_uuid\": \"\",\n",
            "                \"crdc_study_uuid\": \"\",\n",
            "                \"gcs_bucket\": \"idc-tcia-ispy1\",\n",
            "                \"gcs_generation\": \"1592595873161328\",\n",
            "                \"gcs_url\": \"gs://idc-tcia-ispy1/dicom/1.3.6.1.4.1.14519.5.2.1.7695.1700.118757564401397374205631727107/1.3.6.1.4.1.14519.5.2.1.7695.1700.134282805412721876700374897836/1.3.6.1.4.1.14519.5.2.1.7695.1700.119451200478661605318821088041.dcm#1592595873161328\",\n",
            "                \"tcia_tumorLocation\": \"Breast\"\n",
            "            },\n",
            "            {\n",
            "                \"AdditionalPatientHistory\": null,\n",
            "                \"Allergies\": [],\n",
            "                \"BodyPartExamined\": \"BREAST\",\n",
            "                \"EthnicGroup\": null,\n",
            "                \"ImageType\": [\n",
            "                    \"DERIVED\",\n",
            "                    \"PRIMARY\",\n",
            "                    \"DCE\",\n",
            "                    \"SER\"\n",
            "                ],\n",
            "                \"LastMenstrualDate\": null,\n",
            "                \"MedicalAlerts\": [],\n",
            "                \"Modality\": \"MR\",\n",
            "                \"Occupation\": null,\n",
            "                \"PatientAge\": \"039Y\",\n",
            "                \"PatientComments\": null,\n",
            "                \"PatientID\": \"ISPY1_1001\",\n",
            "                \"PatientSize\": null,\n",
            "                \"PatientWeight\": \"47.174\",\n",
            "                \"PregnancyStatus\": null,\n",
            "                \"ReasonForStudy\": null,\n",
            "                \"RequestedProcedureComments\": null,\n",
            "                \"SOPClassUID\": \"1.2.840.10008.5.1.4.1.1.4\",\n",
            "                \"SOPInstanceUID\": \"1.3.6.1.4.1.14519.5.2.1.7695.1700.128146882312741189192659414465\",\n",
            "                \"SeriesInstanceUID\": \"1.3.6.1.4.1.14519.5.2.1.7695.1700.134282805412721876700374897836\",\n",
            "                \"SmokingStatus\": null,\n",
            "                \"Source_DOI\": \"10.7937/K9/TCIA.2016.HdHpgJLK\",\n",
            "                \"StudyID\": \"583413\",\n",
            "                \"StudyInstanceUID\": \"1.3.6.1.4.1.14519.5.2.1.7695.1700.118757564401397374205631727107\",\n",
            "                \"collection_id\": \"ispy1\",\n",
            "                \"crdc_instance_uuid\": \"dg.4DFC/fe001f58-0951-47d4-bfcc-0b81bee7046c\",\n",
            "                \"crdc_series_uuid\": \"\",\n",
            "                \"crdc_study_uuid\": \"\",\n",
            "                \"gcs_bucket\": \"idc-tcia-ispy1\",\n",
            "                \"gcs_generation\": \"1592595873158368\",\n",
            "                \"gcs_url\": \"gs://idc-tcia-ispy1/dicom/1.3.6.1.4.1.14519.5.2.1.7695.1700.118757564401397374205631727107/1.3.6.1.4.1.14519.5.2.1.7695.1700.134282805412721876700374897836/1.3.6.1.4.1.14519.5.2.1.7695.1700.128146882312741189192659414465.dcm#1592595873158368\",\n",
            "                \"tcia_tumorLocation\": \"Breast\"\n",
            "            },\n",
            "            {\n",
            "                \"AdditionalPatientHistory\": null,\n",
            "                \"Allergies\": [],\n",
            "                \"BodyPartExamined\": \"BREAST\",\n",
            "                \"EthnicGroup\": null,\n",
            "                \"ImageType\": [\n",
            "                    \"DERIVED\",\n",
            "                    \"PRIMARY\",\n",
            "                    \"DCE\",\n",
            "                    \"SER\"\n",
            "                ],\n",
            "                \"LastMenstrualDate\": null,\n",
            "                \"MedicalAlerts\": [],\n",
            "                \"Modality\": \"MR\",\n",
            "                \"Occupation\": null,\n",
            "                \"PatientAge\": \"039Y\",\n",
            "                \"PatientComments\": null,\n",
            "                \"PatientID\": \"ISPY1_1001\",\n",
            "                \"PatientSize\": null,\n",
            "                \"PatientWeight\": \"47.174\",\n",
            "                \"PregnancyStatus\": null,\n",
            "                \"ReasonForStudy\": null,\n",
            "                \"RequestedProcedureComments\": null,\n",
            "                \"SOPClassUID\": \"1.2.840.10008.5.1.4.1.1.4\",\n",
            "                \"SOPInstanceUID\": \"1.3.6.1.4.1.14519.5.2.1.7695.1700.130766618722262955559575217907\",\n",
            "                \"SeriesInstanceUID\": \"1.3.6.1.4.1.14519.5.2.1.7695.1700.134282805412721876700374897836\",\n",
            "                \"SmokingStatus\": null,\n",
            "                \"Source_DOI\": \"10.7937/K9/TCIA.2016.HdHpgJLK\",\n",
            "                \"StudyID\": \"583413\",\n",
            "                \"StudyInstanceUID\": \"1.3.6.1.4.1.14519.5.2.1.7695.1700.118757564401397374205631727107\",\n",
            "                \"collection_id\": \"ispy1\",\n",
            "                \"crdc_instance_uuid\": \"dg.4DFC/c548f0d7-3d6b-4621-a403-21cacc775116\",\n",
            "                \"crdc_series_uuid\": \"\",\n",
            "                \"crdc_study_uuid\": \"\",\n",
            "                \"gcs_bucket\": \"idc-tcia-ispy1\",\n",
            "                \"gcs_generation\": \"1592595873139528\",\n",
            "                \"gcs_url\": \"gs://idc-tcia-ispy1/dicom/1.3.6.1.4.1.14519.5.2.1.7695.1700.118757564401397374205631727107/1.3.6.1.4.1.14519.5.2.1.7695.1700.134282805412721876700374897836/1.3.6.1.4.1.14519.5.2.1.7695.1700.130766618722262955559575217907.dcm#1592595873139528\",\n",
            "                \"tcia_tumorLocation\": \"Breast\"\n",
            "            },\n",
            "            {\n",
            "                \"AdditionalPatientHistory\": null,\n",
            "                \"Allergies\": [],\n",
            "                \"BodyPartExamined\": \"BREAST\",\n",
            "                \"EthnicGroup\": null,\n",
            "                \"ImageType\": [\n",
            "                    \"DERIVED\",\n",
            "                    \"PRIMARY\",\n",
            "                    \"DCE\",\n",
            "                    \"SER\"\n",
            "                ],\n",
            "                \"LastMenstrualDate\": null,\n",
            "                \"MedicalAlerts\": [],\n",
            "                \"Modality\": \"MR\",\n",
            "                \"Occupation\": null,\n",
            "                \"PatientAge\": \"039Y\",\n",
            "                \"PatientComments\": null,\n",
            "                \"PatientID\": \"ISPY1_1001\",\n",
            "                \"PatientSize\": null,\n",
            "                \"PatientWeight\": \"47.174\",\n",
            "                \"PregnancyStatus\": null,\n",
            "                \"ReasonForStudy\": null,\n",
            "                \"RequestedProcedureComments\": null,\n",
            "                \"SOPClassUID\": \"1.2.840.10008.5.1.4.1.1.4\",\n",
            "                \"SOPInstanceUID\": \"1.3.6.1.4.1.14519.5.2.1.7695.1700.143320353493226039294104486276\",\n",
            "                \"SeriesInstanceUID\": \"1.3.6.1.4.1.14519.5.2.1.7695.1700.134282805412721876700374897836\",\n",
            "                \"SmokingStatus\": null,\n",
            "                \"Source_DOI\": \"10.7937/K9/TCIA.2016.HdHpgJLK\",\n",
            "                \"StudyID\": \"583413\",\n",
            "                \"StudyInstanceUID\": \"1.3.6.1.4.1.14519.5.2.1.7695.1700.118757564401397374205631727107\",\n",
            "                \"collection_id\": \"ispy1\",\n",
            "                \"crdc_instance_uuid\": \"dg.4DFC/35656b72-8f23-4874-9ce6-35b5941d9bf2\",\n",
            "                \"crdc_series_uuid\": \"\",\n",
            "                \"crdc_study_uuid\": \"\",\n",
            "                \"gcs_bucket\": \"idc-tcia-ispy1\",\n",
            "                \"gcs_generation\": \"1592595873159027\",\n",
            "                \"gcs_url\": \"gs://idc-tcia-ispy1/dicom/1.3.6.1.4.1.14519.5.2.1.7695.1700.118757564401397374205631727107/1.3.6.1.4.1.14519.5.2.1.7695.1700.134282805412721876700374897836/1.3.6.1.4.1.14519.5.2.1.7695.1700.143320353493226039294104486276.dcm#1592595873159027\",\n",
            "                \"tcia_tumorLocation\": \"Breast\"\n",
            "            },\n",
            "            {\n",
            "                \"AdditionalPatientHistory\": null,\n",
            "                \"Allergies\": [],\n",
            "                \"BodyPartExamined\": \"BREAST\",\n",
            "                \"EthnicGroup\": null,\n",
            "                \"ImageType\": [\n",
            "                    \"DERIVED\",\n",
            "                    \"PRIMARY\",\n",
            "                    \"DCE\",\n",
            "                    \"SER\"\n",
            "                ],\n",
            "                \"LastMenstrualDate\": null,\n",
            "                \"MedicalAlerts\": [],\n",
            "                \"Modality\": \"MR\",\n",
            "                \"Occupation\": null,\n",
            "                \"PatientAge\": \"039Y\",\n",
            "                \"PatientComments\": null,\n",
            "                \"PatientID\": \"ISPY1_1001\",\n",
            "                \"PatientSize\": null,\n",
            "                \"PatientWeight\": \"47.174\",\n",
            "                \"PregnancyStatus\": null,\n",
            "                \"ReasonForStudy\": null,\n",
            "                \"RequestedProcedureComments\": null,\n",
            "                \"SOPClassUID\": \"1.2.840.10008.5.1.4.1.1.4\",\n",
            "                \"SOPInstanceUID\": \"1.3.6.1.4.1.14519.5.2.1.7695.1700.145474804409057204188015272651\",\n",
            "                \"SeriesInstanceUID\": \"1.3.6.1.4.1.14519.5.2.1.7695.1700.134282805412721876700374897836\",\n",
            "                \"SmokingStatus\": null,\n",
            "                \"Source_DOI\": \"10.7937/K9/TCIA.2016.HdHpgJLK\",\n",
            "                \"StudyID\": \"583413\",\n",
            "                \"StudyInstanceUID\": \"1.3.6.1.4.1.14519.5.2.1.7695.1700.118757564401397374205631727107\",\n",
            "                \"collection_id\": \"ispy1\",\n",
            "                \"crdc_instance_uuid\": \"dg.4DFC/3a6ecab6-b65d-47d6-ab45-df2b57e4c6a2\",\n",
            "                \"crdc_series_uuid\": \"\",\n",
            "                \"crdc_study_uuid\": \"\",\n",
            "                \"gcs_bucket\": \"idc-tcia-ispy1\",\n",
            "                \"gcs_generation\": \"1592595873192691\",\n",
            "                \"gcs_url\": \"gs://idc-tcia-ispy1/dicom/1.3.6.1.4.1.14519.5.2.1.7695.1700.118757564401397374205631727107/1.3.6.1.4.1.14519.5.2.1.7695.1700.134282805412721876700374897836/1.3.6.1.4.1.14519.5.2.1.7695.1700.145474804409057204188015272651.dcm#1592595873192691\",\n",
            "                \"tcia_tumorLocation\": \"Breast\"\n",
            "            },\n",
            "            {\n",
            "                \"AdditionalPatientHistory\": null,\n",
            "                \"Allergies\": [],\n",
            "                \"BodyPartExamined\": \"BREAST\",\n",
            "                \"EthnicGroup\": null,\n",
            "                \"ImageType\": [\n",
            "                    \"DERIVED\",\n",
            "                    \"PRIMARY\",\n",
            "                    \"DCE\",\n",
            "                    \"SER\"\n",
            "                ],\n",
            "                \"LastMenstrualDate\": null,\n",
            "                \"MedicalAlerts\": [],\n",
            "                \"Modality\": \"MR\",\n",
            "                \"Occupation\": null,\n",
            "                \"PatientAge\": \"039Y\",\n",
            "                \"PatientComments\": null,\n",
            "                \"PatientID\": \"ISPY1_1001\",\n",
            "                \"PatientSize\": null,\n",
            "                \"PatientWeight\": \"47.174\",\n",
            "                \"PregnancyStatus\": null,\n",
            "                \"ReasonForStudy\": null,\n",
            "                \"RequestedProcedureComments\": null,\n",
            "                \"SOPClassUID\": \"1.2.840.10008.5.1.4.1.1.4\",\n",
            "                \"SOPInstanceUID\": \"1.3.6.1.4.1.14519.5.2.1.7695.1700.146268306577008596846966942053\",\n",
            "                \"SeriesInstanceUID\": \"1.3.6.1.4.1.14519.5.2.1.7695.1700.134282805412721876700374897836\",\n",
            "                \"SmokingStatus\": null,\n",
            "                \"Source_DOI\": \"10.7937/K9/TCIA.2016.HdHpgJLK\",\n",
            "                \"StudyID\": \"583413\",\n",
            "                \"StudyInstanceUID\": \"1.3.6.1.4.1.14519.5.2.1.7695.1700.118757564401397374205631727107\",\n",
            "                \"collection_id\": \"ispy1\",\n",
            "                \"crdc_instance_uuid\": \"dg.4DFC/cb6f7ada-3ae3-454f-974b-58fbf840ef58\",\n",
            "                \"crdc_series_uuid\": \"\",\n",
            "                \"crdc_study_uuid\": \"\",\n",
            "                \"gcs_bucket\": \"idc-tcia-ispy1\",\n",
            "                \"gcs_generation\": \"1592595873222893\",\n",
            "                \"gcs_url\": \"gs://idc-tcia-ispy1/dicom/1.3.6.1.4.1.14519.5.2.1.7695.1700.118757564401397374205631727107/1.3.6.1.4.1.14519.5.2.1.7695.1700.134282805412721876700374897836/1.3.6.1.4.1.14519.5.2.1.7695.1700.146268306577008596846966942053.dcm#1592595873222893\",\n",
            "                \"tcia_tumorLocation\": \"Breast\"\n",
            "            }\n",
            "        ],\n",
            "        \"rowsReturned\": 10,\n",
            "        \"totalFound\": 3075233\n",
            "    }\n",
            "}\n"
          ],
          "name": "stdout"
        }
      ]
    }
  ]
}