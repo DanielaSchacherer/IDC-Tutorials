{
  "nbformat": 4,
  "nbformat_minor": 0,
  "metadata": {
    "colab": {
      "name": "How_to_use_IDC_APIs.ipynb",
      "provenance": [],
      "toc_visible": true,
      "authorship_tag": "ABX9TyO25xa0aHnxOPEINMol/G71",
      "include_colab_link": true
    },
    "kernelspec": {
      "name": "python3",
      "display_name": "Python 3"
    }
  },
  "cells": [
    {
      "cell_type": "markdown",
      "metadata": {
        "id": "view-in-github",
        "colab_type": "text"
      },
      "source": [
        "<a href=\"https://colab.research.google.com/github/ImagingDataCommons/IDC-Examples/blob/master/API/notebooks/How_to_use_IDC_APIs.ipynb\" target=\"_parent\"><img src=\"https://colab.research.google.com/assets/colab-badge.svg\" alt=\"Open In Colab\"/></a>"
      ]
    },
    {
      "cell_type": "markdown",
      "metadata": {
        "id": "7r7hxORgipCk"
      },
      "source": [
        "# How to Use the IDC APIs"
      ]
    },
    {
      "cell_type": "markdown",
      "metadata": {
        "id": "-R7dcBPHjB9b"
      },
      "source": [
        "## Overview of this notebook\n",
        "This notebook is designed as a quick introduction to the IDC APIs and how to access them with Python.\n",
        "\n",
        "Topics covered:\n",
        "* Overviews of APIs, Swagger, JSON, endpoints\n",
        "* Use cases for IDC APIs\n",
        "* Examples of IDC API endpoints"
      ]
    },
    {
      "cell_type": "markdown",
      "metadata": {
        "id": "6BPfIN_KjVSP"
      },
      "source": [
        "### Overview of APIs\n",
        "An API or application-programming interface is a software intermediary that allows two applications to talk to each other. In other words, an API is the messenger that delivers your request to the provider that you’re requesting it from and then delivers the response back to you [(Wikipedia)](https://en.wikipedia.org/wiki/Application_programming_interface). Each action that an API can take is called an \"endpoint\".\n",
        "\n",
        "Some useful tutorials and quick start guides on APIs are:\n",
        "* [GDC's Getting Started guide for APIs](https://docs.gdc.cancer.gov/API/Users_Guide/Getting_Started/)\n",
        "* [API Integration in Python](https://realpython.com/api-integration-in-python/)\n",
        "* [Python API Tutorial: Getting Started with APIs](https://www.dataquest.io/blog/python-api-tutorial/)"
      ]
    },
    {
      "cell_type": "markdown",
      "metadata": {
        "id": "0pvtxR9piA8d"
      },
      "source": [
        "### What is an HTTP Message?\n",
        "\n",
        "Clients and the IDC API server communicate via HTTP messages. An overview of HTTP messaging can be found [here](https://developer.mozilla.org/en-US/docs/Web/HTTP/Messages)."
      ]
    },
    {
      "cell_type": "markdown",
      "metadata": {
        "id": "XwOE_7aXkIqD"
      },
      "source": [
        "### What is JSON?\n",
        "\n",
        "JSON  or JavaScript Object Notation is a lightweight data-interchange format that is easy for humans and machines to work with. More information can be found at [json.org](https://www.json.org/)."
      ]
    },
    {
      "cell_type": "markdown",
      "metadata": {
        "id": "xA89089NjvXG"
      },
      "source": [
        "### What is SwaggerUI?\n",
        "\n",
        "[SwaggerUI](https://swagger.io/tools/swagger-ui/) is a user interface that allows users to try out the APIs and view their documentation easily. You can access the IDC API SwaggerUI [here](https://api-dot-idc-dev.appspot.com/v1/swagger)."
      ]
    },
    {
      "cell_type": "markdown",
      "metadata": {
        "id": "BKVdyqJIj3Vv"
      },
      "source": [
        "### What is an endpoint?\n",
        "\n",
        "An endpoint is the *call* for a specific functionally of an API. For example, `/collections` at the end of the API request URL `https://api-dot-idc.appspot.com/v1/collections` is an endpoint that returns (or GETs) information about the available collections."
      ]
    },
    {
      "cell_type": "markdown",
      "metadata": {
        "id": "lUBjUmW0b4yM"
      },
      "source": [
        "###IDC API Documentation\n",
        "\n",
        "Detailed documentation on the IDC API can be found in the [API](https://learn.canceridc.dev/api/getting-started) section of the [IDC User Guide](https://learn.canceridc.dev/ps://)."
      ]
    },
    {
      "cell_type": "markdown",
      "metadata": {
        "id": "q2oDuqk-m_n9"
      },
      "source": [
        "### IDC API URL Preamble\n",
        "We define the IDC API URL preamble as a variable so that we can easily change it."
      ]
    },
    {
      "cell_type": "code",
      "metadata": {
        "id": "6YJby7wJnYE7"
      },
      "source": [
        "idc_api_preamble = 'https://api-dot-idc-dev.appspot.com/v1'"
      ],
      "execution_count": 1,
      "outputs": []
    },
    {
      "cell_type": "markdown",
      "metadata": {
        "id": "EwGFbzkqk--J"
      },
      "source": [
        "### Python library `requests`\n",
        "\n",
        "In order to use the IDC APIs with Python, the `requests` library needs to be installed and then imported."
      ]
    },
    {
      "cell_type": "code",
      "metadata": {
        "id": "TV37C4SrlHvD"
      },
      "source": [
        "# Install requests if needed\n",
        "# pip install requests\n",
        "\n",
        "# Import the requests library\n",
        "import requests"
      ],
      "execution_count": 2,
      "outputs": []
    },
    {
      "cell_type": "markdown",
      "metadata": {
        "id": "AcCF8X0mlLup"
      },
      "source": [
        "## Use cases for IDC APIs\n",
        "\n",
        "The IDC APIs can be used for a number of different tasks for interacting with the Google Cloud Platform and BigQuery. It can be used to subset data into cohorts or to access cohorts that have been created using the IDC WebApp. The location of the DICOM objects associated with a cohort can be obtained."
      ]
    },
    {
      "cell_type": "markdown",
      "metadata": {
        "id": "uCce3LIXmGgc"
      },
      "source": [
        "## Example: GET `/about` Endpoint\n",
        "\n"
      ]
    },
    {
      "cell_type": "markdown",
      "metadata": {
        "id": "kbA3GWUSmPlr"
      },
      "source": [
        "We are first going to explore the `about` endpoint using the 'GET' request to the API. This API will give you such information about the IDC API as links to the Swagger UI interface and to the IDC User Guide."
      ]
    },
    {
      "cell_type": "code",
      "metadata": {
        "id": "C3Ixom20mVrh"
      },
      "source": [
        "# First submit the 'get' request to the API\n",
        "about_req = requests.get('{}/about'.format(idc_api_preamble))"
      ],
      "execution_count": 3,
      "outputs": []
    },
    {
      "cell_type": "markdown",
      "metadata": {
        "id": "UicHIX71kLw3"
      },
      "source": [
        "Now that we have the request response, we are going to check that we didn't receive an error code or if the request was successful. If the request was successful, then the status code will come back as 200 but if something went wrong then the status code may be something 404 or 503. If you have recieved any error codes, you can check out Google's Troubleshooting response errors guide.\n",
        "\n"
      ]
    },
    {
      "cell_type": "code",
      "metadata": {
        "id": "3UORb5Pqoh0I"
      },
      "source": [
        "# Check that there wasn't an error with the request\n",
        "if about_req.status_code != 200:\n",
        "  # Print the error code if something went wrong\n",
        "  print(about_req.status_code)"
      ],
      "execution_count": 4,
      "outputs": []
    },
    {
      "cell_type": "markdown",
      "metadata": {
        "id": "2EtWVhfyoreK"
      },
      "source": [
        "Finally, we will print out the information that we have received from the API. This response returns as a dictionary though responses can also be a combination of dictionaries and lists depending on which endpoint is called. This means that you can access different data in the response the same way that you would access dictionaries and lists as demonstarted below."
      ]
    },
    {
      "cell_type": "code",
      "metadata": {
        "id": "VdfTOEQeouiL",
        "colab": {
          "base_uri": "https://localhost:8080/"
        },
        "outputId": "61f03d2d-c94e-410b-f56c-3acbd445e356"
      },
      "source": [
        "# Print the full response\n",
        "print(\"Full response:\\n\")\n",
        "print(about_req.json(), end='\\n\\n')\n",
        "\n",
        "# Print the message portion of the response\n",
        "print(\"Message:\\n\")\n",
        "print(about_req.json()['message'], end='\\n\\n')\n",
        "\n",
        "# Print the documentation portion of the response\n",
        "print(\"Documentation:\\n\")\n",
        "print(about_req.json()['documentation'])"
      ],
      "execution_count": 5,
      "outputs": [
        {
          "output_type": "stream",
          "text": [
            "Full response:\n",
            "\n",
            "{'code': 200, 'documentation': 'SwaggerUI interface available at <https://api-dot-idc-dev.appspot.com/v1/swagger/>. Documentation is available at <https://learn.canceridc.dev/>', 'message': 'Welcome to the NCI IDC API, Version 1'}\n",
            "\n",
            "Message:\n",
            "\n",
            "Welcome to the NCI IDC API, Version 1\n",
            "\n",
            "Documentation:\n",
            "\n",
            "SwaggerUI interface available at <https://api-dot-idc-dev.appspot.com/v1/swagger/>. Documentation is available at <https://learn.canceridc.dev/>\n"
          ],
          "name": "stdout"
        }
      ]
    },
    {
      "cell_type": "markdown",
      "metadata": {
        "id": "6_6wZG1ipAbZ"
      },
      "source": [
        "The requests library makes it easy to use the APIs! Next we will cover a few of the other informational APIs."
      ]
    },
    {
      "cell_type": "markdown",
      "metadata": {
        "id": "p6eV4z_IpZgH"
      },
      "source": [
        "## Example: GET `/versions` endpoint"
      ]
    },
    {
      "cell_type": "markdown",
      "metadata": {
        "id": "pil_CrXbpvIY"
      },
      "source": [
        "Over time, the set of data hosted by the IDC will change. For the most part, such changes will be due to new data having been added. The totality of IDC hosted data resulting from any such change is represented by a unique IDC data version ID. That is, each time that the set of publicly available data changes, a new IDC version is created that exactly defines the revised data set. \n",
        "\n",
        "The IDC data version is intended to enable the reproducibility of research results. For example, consider a patient in the DICOM data model. Over time, new studies might be performed on a patient and become associated with that patient, and the corresponding DICOM instances added to the IDC hosted data. Moreover, additional patients might well be added to the IDC data set over time. This means that the set of subjects defined by some filter set will change over time. Thus, for purposes of reproducibility, we define a cohort in terms of a filter set and an IDC data version.\n",
        "\n",
        "The `/versions` endpoint returns information about the defined IDC versions. This information includes the data sources (BQ tables) containing the data of each version, as well as the set of programs (sets of collections) belonging to a version. This endpoint returns a more complicated JSON object which has a combination of lists and dictionaries. We will first retrieve the request and then view if there was an error code within the response."
      ]
    },
    {
      "cell_type": "code",
      "metadata": {
        "id": "kEMvm_xwssF0"
      },
      "source": [
        "# Retrieve the response from the API endpoint\n",
        "versions_req = requests.get('{}/versions'.format(idc_api_preamble))\n",
        "\n",
        "# Check that there wasn't an error with the request\n",
        "if versions_req.status_code != 200:\n",
        "  # Print the error code and message if something went wrong\n",
        "  print(versions_req.json())  # Print the error code if something went wrong"
      ],
      "execution_count": 6,
      "outputs": []
    },
    {
      "cell_type": "markdown",
      "metadata": {
        "id": "tS006JqLtFDT"
      },
      "source": [
        "We are going to use the `json` library in order to view the response more easily."
      ]
    },
    {
      "cell_type": "code",
      "metadata": {
        "id": "fYsQegsStPED"
      },
      "source": [
        "# Install requests if needed\n",
        "# pip install requests\n",
        "\n",
        "# install pip json\n",
        "import json"
      ],
      "execution_count": 7,
      "outputs": []
    },
    {
      "cell_type": "code",
      "metadata": {
        "id": "rZ8g6HOYtXDD",
        "colab": {
          "base_uri": "https://localhost:8080/"
        },
        "outputId": "03609007-9db6-40a3-b241-8e1035ecd084"
      },
      "source": [
        "# Create a variable with the JSON output\n",
        "versions_json = json.dumps(versions_req.json(), sort_keys=True, indent=4)\n",
        "\n",
        "# Print the versions JSON text\n",
        "print(versions_json)"
      ],
      "execution_count": 8,
      "outputs": [
        {
          "output_type": "stream",
          "text": [
            "{\n",
            "    \"code\": 200,\n",
            "    \"versions\": [\n",
            "        {\n",
            "            \"active\": true,\n",
            "            \"data_sources\": [\n",
            "                {\n",
            "                    \"data_type\": \"Clinical, Biospecimen, and Mutation Data\",\n",
            "                    \"name\": \"isb-cgc.TCGA_bioclin_v0.Biospecimen\"\n",
            "                },\n",
            "                {\n",
            "                    \"data_type\": \"Clinical, Biospecimen, and Mutation Data\",\n",
            "                    \"name\": \"isb-cgc.TCGA_bioclin_v0.clinical_v1\"\n",
            "                },\n",
            "                {\n",
            "                    \"data_type\": \"Image Data\",\n",
            "                    \"name\": \"idc-dev.metadata.dicom_pivot_wave1\"\n",
            "                }\n",
            "            ],\n",
            "            \"date_active\": \"2020-10-06\",\n",
            "            \"idc_data_version\": \"1.0\",\n",
            "            \"programs\": [\n",
            "                {\n",
            "                    \"description\": null,\n",
            "                    \"name\": \"The Cancer Genome Atlas\",\n",
            "                    \"short_name\": \"TCGA\"\n",
            "                },\n",
            "                {\n",
            "                    \"description\": null,\n",
            "                    \"name\": \"Quantitative Imagine Network\",\n",
            "                    \"short_name\": \"QIN\"\n",
            "                },\n",
            "                {\n",
            "                    \"description\": null,\n",
            "                    \"name\": \"I-SPY TRIAL\",\n",
            "                    \"short_name\": \"ISPY\"\n",
            "                },\n",
            "                {\n",
            "                    \"description\": null,\n",
            "                    \"name\": \"Lung Image Database Consortium\",\n",
            "                    \"short_name\": \"LIDC\"\n",
            "                },\n",
            "                {\n",
            "                    \"description\": null,\n",
            "                    \"name\": \"NSCLC-Radiomics\",\n",
            "                    \"short_name\": \"NSCLCR\"\n",
            "                }\n",
            "            ]\n",
            "        }\n",
            "    ]\n",
            "}\n"
          ],
          "name": "stdout"
        }
      ]
    },
    {
      "cell_type": "markdown",
      "metadata": {
        "id": "HnyYUezztRGU"
      },
      "source": [
        "The returned data is a combination of dictionaries and lists. We see  that, as of this writing, there is a single IDC version, \"1.0\", that was activated on 2020-10-06. Next we will iterate over the JSON object to neatly list the data sources and programs in each version."
      ]
    },
    {
      "cell_type": "code",
      "metadata": {
        "id": "z-Z_1ASllPq8",
        "colab": {
          "base_uri": "https://localhost:8080/"
        },
        "outputId": "8da4a465-f7b2-42f9-d08d-50907ecb5513"
      },
      "source": [
        "# Print out the number of IDC data versions\n",
        "print('Number of IDC data versions: {}'.format(len(versions_req.json()['versions'])))\n",
        "\n",
        "#...and for each version, print out a count of the version's programs, and a list of program names.\n",
        "for version in versions_req.json()['versions']:\n",
        "  print('version {} has {} programs:'.format(version['idc_data_version'], len(version['programs'])))\n",
        "  for program in version['programs']:\n",
        "    print('\\tProgram short name {}, full name {}'.format(program['short_name'],program['name']))\n"
      ],
      "execution_count": 9,
      "outputs": [
        {
          "output_type": "stream",
          "text": [
            "Number of IDC data versions: 1\n",
            "version 1.0 has 5 programs:\n",
            "\tProgram short name TCGA, full name The Cancer Genome Atlas\n",
            "\tProgram short name QIN, full name Quantitative Imagine Network\n",
            "\tProgram short name ISPY, full name I-SPY TRIAL\n",
            "\tProgram short name LIDC, full name Lung Image Database Consortium\n",
            "\tProgram short name NSCLCR, full name NSCLC-Radiomics\n"
          ],
          "name": "stdout"
        }
      ]
    },
    {
      "cell_type": "markdown",
      "metadata": {
        "id": "e_Ex8JRly0QH"
      },
      "source": [
        "## Example: GET `/collections` endpoint"
      ]
    },
    {
      "cell_type": "markdown",
      "metadata": {
        "id": "Ol6C9O-JxYz1"
      },
      "source": [
        "A *collection* is a set of DICOM data provided by a single source. Collections are further categorized as Original collections or Analysis collections. \n",
        "\n",
        "Original collections are comprised primarily of DICOM image data that was obtained from some set of patients. Typically, the patients in an Original collection are related by a common disease.\n",
        "\n",
        "Analysis collections are comprised of derived DICOM data that was generated by analyzing other (typically Original) collections. Typically such analysis is performed by a different entity than that which provided the original collection(s) on which the analysis is based. Examples of data in analysis collections include segmentations, annotations and further processing of original images. Note that some Original collections include such data, though most of the data in Original collections are original images.\n",
        "Programs\n",
        "\n",
        "The programs that we listed above are sets of original collections. The collections in a program are produced by a single source. Some programs provide additional non-imaging data. For example, the TCGA program provides extensive ancillary clinical and genomics data about each of the patients in the program. \n",
        "\n",
        "The /collections endpoint returns data about collections in a specified program for some IDC data version. If no collection is specified, it returns data about about the collections in all programs for some IDC data version. If a version is not specified then /collections defaults to the current IDC data version.\n"
      ]
    },
    {
      "cell_type": "markdown",
      "metadata": {
        "id": "9YiST8hdpx9i"
      },
      "source": [
        "We will request the collection data for the TCGA program in IDC data version 1.0.\n",
        "\n",
        "The program and version are passed as *query parameters* in a *query string*. The requests library accepts a dictionary of query parameters."
      ]
    },
    {
      "cell_type": "code",
      "metadata": {
        "id": "AsmNpqYtyxl0"
      },
      "source": [
        "query_string = dict(\n",
        "    program_name = \"TCGA\",\n",
        "    idc_data_version = \"1.0\"\n",
        "    )\n",
        "\n",
        "collections_req = requests.get('{}/collections'.format(idc_api_preamble),\n",
        "                    params=query_string)\n",
        "# Check that there wasn't an error with the request\n",
        "if collections_req.status_code != 200:\n",
        "  # Print the error code and message if something went wrong\n",
        "  print(collections_req.json())"
      ],
      "execution_count": 10,
      "outputs": []
    },
    {
      "cell_type": "code",
      "metadata": {
        "id": "03_j2L-Vo-nG",
        "colab": {
          "base_uri": "https://localhost:8080/"
        },
        "outputId": "5c354ebf-86d8-49e5-d7d9-78c798193a74"
      },
      "source": [
        "# Create a variable with the JSON output\n",
        "collections_json = json.dumps(collections_req.json(), sort_keys=True, indent=4)\n",
        "\n",
        "# Print the verscollectionsions JSON text\n",
        "print(collections_json)"
      ],
      "execution_count": 11,
      "outputs": [
        {
          "output_type": "stream",
          "text": [
            "{\n",
            "    \"code\": 200,\n",
            "    \"programs\": [\n",
            "        {\n",
            "            \"collections\": [\n",
            "                {\n",
            "                    \"active\": true,\n",
            "                    \"cancer_type\": \"Prostate Cancer\",\n",
            "                    \"collection_id\": \"tcga_prad\",\n",
            "                    \"collection_type\": \"Original\",\n",
            "                    \"date_updated\": \"2016-08-29\",\n",
            "                    \"description\": \"<div>\\n\\t<strong>Note:&nbsp;This collection has special restrictions on its usage. See <a href=\\\"https://wiki.cancerimagingarchive.net/x/c4hF\\\" target=\\\"_blank\\\">Data Usage Policies and Restrictions</a>.</strong></p>\\n<div>\\n\\t&nbsp;</p>\\n<div>\\n\\t<span>The <a href=\\\"http://imaging.cancer.gov/\\\" target=\\\"_blank\\\"><u>Cancer Imaging Program (CIP)</u></a></span><span>&thinsp;</span><span> is working directly with primary investigators from institutes participating in TCGA to obtain and load images relating to the genomic, clinical, and pathological data being stored within the <a href=\\\"http://tcga-data.nci.nih.gov/\\\" target=\\\"_blank\\\">TCGA Data Portal</a>.&nbsp;Currently this image collection of prostate adenocarcinoma (PRAD) patients can be matched by each unique case identifier with the extensive gene and expression data of the same case from The Cancer Genome Atlas Data Portal to research the link between clinical phenome and tissue genome.&nbsp;<br />\\n\\t</span></p>\\n<div>\\n\\t&nbsp;</p>\\n<div>\\n\\t<span>Please see the <span><a href=\\\"https://wiki.cancerimagingarchive.net/x/tgpp\\\" target=\\\"_blank\\\">TCGA-PRAD</a></span> wiki page to learn more about the images and to obtain any supporting metadata for this collection.</span></p>\\n\",\n",
            "                    \"doi\": \"10.7937/K9/TCIA.2016.YXOGLM4Y\",\n",
            "                    \"idc_data_versions\": [\n",
            "                        \"1.0\"\n",
            "                    ],\n",
            "                    \"image_types\": \"CT, PT, MR, Pathology\",\n",
            "                    \"location\": \"Prostate\",\n",
            "                    \"owner_id\": 1,\n",
            "                    \"species\": \"Human\",\n",
            "                    \"subject_count\": 14,\n",
            "                    \"supporting_data\": \"Clinical Genomics\"\n",
            "                },\n",
            "                {\n",
            "                    \"active\": true,\n",
            "                    \"cancer_type\": \"Bladder Endothelial Carcinoma\",\n",
            "                    \"collection_id\": \"tcga_blca\",\n",
            "                    \"collection_type\": \"Original\",\n",
            "                    \"date_updated\": \"2019-08-30\",\n",
            "                    \"description\": \"<p>\\n\\tThe Cancer Genome Atlas-Bladder Endothelial Carcinoma (TCGA-BLCA) data collection is part of a larger effort to enhance the TCGA http://cancergenome.nih.gov/ data set with characterized radiological images. The Cancer Imaging Program (CIP), with the cooperation of several of the TCGA tissue-contributing institutions, has archived a large portion of the radiological images of the genetically-analyzed BLCA cases.</p>\\n<p>\\n\\tPlease see the <a href=\\\"https://wiki.cancerimagingarchive.net/display/Public/TCGA-BLCA\\\" target=\\\"_blank\\\">TCGA-BLCA</a> wiki page to learn more about the images and to obtain any supporting metadata for this collection.</p>\\n\",\n",
            "                    \"doi\": \"10.7937/K9/TCIA.2016.8LNG8XDR\",\n",
            "                    \"idc_data_versions\": [\n",
            "                        \"1.0\"\n",
            "                    ],\n",
            "                    \"image_types\": \"CT, CR, MR, PT, DX, Pathology\",\n",
            "                    \"location\": \"Bladder\",\n",
            "                    \"owner_id\": 1,\n",
            "                    \"species\": \"Human\",\n",
            "                    \"subject_count\": 120,\n",
            "                    \"supporting_data\": \"Clinical, Genomics\"\n",
            "                },\n",
            "                {\n",
            "                    \"active\": true,\n",
            "                    \"cancer_type\": \"Uterine Corpus Endometrial Carcinoma\",\n",
            "                    \"collection_id\": \"tcga_ucec\",\n",
            "                    \"collection_type\": \"Original\",\n",
            "                    \"date_updated\": \"2018-10-26\",\n",
            "                    \"description\": \"<p>\\n\\tThe Cancer Genome Atlas-Uterine Corpus Endometrial Carcinoma (TCGA-UCEC) data collection is part of a larger effort to enhance the TCGA http://cancergenome.nih.gov/ data set with characterized radiological images. The Cancer Imaging Program (CIP) with the cooperation of several of the TCGA tissue-contributing institutions are working to archive a large portion of the radiological images of the genetically-analyzed UCEC cases.</p>\\n<p>\\n\\tPlease see the <a href=\\\"https://wiki.cancerimagingarchive.net/display/Public/TCGA-UCEC\\\" target=\\\"_blank\\\">TCGA-UCEC</a> wiki page to learn more about the images and to obtain any supporting metadata for this collection.</p>\\n\",\n",
            "                    \"doi\": \"10.7937/K9/TCIA.2016.GKJ0ZWAC\",\n",
            "                    \"idc_data_versions\": [\n",
            "                        \"1.0\"\n",
            "                    ],\n",
            "                    \"image_types\": \"CT, CR, MR, PT, Pathology\",\n",
            "                    \"location\": \"Uterus\",\n",
            "                    \"owner_id\": 1,\n",
            "                    \"species\": \"Human\",\n",
            "                    \"subject_count\": 65,\n",
            "                    \"supporting_data\": \"Clinical, Genomics\"\n",
            "                },\n",
            "                {\n",
            "                    \"active\": true,\n",
            "                    \"cancer_type\": \"Head and Neck Squamous Cell Carcinoma\",\n",
            "                    \"collection_id\": \"tcga_hnsc\",\n",
            "                    \"collection_type\": \"Original\",\n",
            "                    \"date_updated\": \"2018-08-30\",\n",
            "                    \"description\": \"<div>\\n\\t<span>The <a href=\\\"http://imaging.cancer.gov/\\\" target=\\\"_blank\\\"><u>Cancer Imaging Program (CIP)</u></a></span><span>&thinsp;</span><span> is working directly with primary investigators from institutes participating in TCGA to obtain and load images relating to the genomic, clinical, and pathological data being stored within the <a href=\\\"http://tcga-data.nci.nih.gov/\\\" target=\\\"_blank\\\">TCGA Data Portal</a>.&nbsp;Currently this large PET/CT&nbsp;multi-sequence image collection of </span><span>head and neck squamous cell carcinoma (HNSC) patients can be matched by each unique case identifier with the extensive gene and expression data of the same case from The Cancer Genome Atlas Data Portal to research the link between clinical phenome and tissue genome.&nbsp;</span></p>\\n<div>\\n\\t&nbsp;</p>\\n<div>\\n\\t<span>Please see the <a href=\\\"https://wiki.cancerimagingarchive.net/display/Public/TCGA-HNSC\\\" target=\\\"_blank\\\"><span>TCGA -HNSC</span></a> wiki page to learn more about the images and to obtain any supporting metadata for this collection.</span></p>\\n\",\n",
            "                    \"doi\": \"10.7937/K9/TCIA.2016.LXKQ47MS\",\n",
            "                    \"idc_data_versions\": [\n",
            "                        \"1.0\"\n",
            "                    ],\n",
            "                    \"image_types\": \"CT, MR, PT, RTSTRUCT, RTPLAN, RTDOSE, Pathology\",\n",
            "                    \"location\": \"Head-Neck\",\n",
            "                    \"owner_id\": 1,\n",
            "                    \"species\": \"Human\",\n",
            "                    \"subject_count\": 227,\n",
            "                    \"supporting_data\": \"Clinical, Genomics\"\n",
            "                },\n",
            "                {\n",
            "                    \"active\": true,\n",
            "                    \"cancer_type\": \"Lung Squamous Cell Carcinoma\",\n",
            "                    \"collection_id\": \"tcga_lusc\",\n",
            "                    \"collection_type\": \"Original\",\n",
            "                    \"date_updated\": \"2017-01-30\",\n",
            "                    \"description\": \"<p>\\n\\tThe Cancer Genome Atlas-Lung Squamous Cell Carcinoma (TCGA-LUSC) data collection is part of a larger effort to enhance the TCGA http://cancergenome.nih.gov/ data set with characterized radiological images. The Cancer Imaging Program (CIP) with the cooperation of several of the TCGA tissue-contributing institutions are working to archive a large portion of the radiological images of the LUSC cases.</p>\\n<p>\\n\\tPlease see the <a href=\\\"https://wiki.cancerimagingarchive.net/display/Public/TCGA-LUSC\\\" target=\\\"_blank\\\">TCGA-LUSC</a> wiki page to learn more about the images and to obtain any supporting metadata for this collection.</p>\\n\",\n",
            "                    \"doi\": \"10.7937/K9/TCIA.2016.TYGKKFMQ\",\n",
            "                    \"idc_data_versions\": [\n",
            "                        \"1.0\"\n",
            "                    ],\n",
            "                    \"image_types\": \"CT, NM, PT, Pathology\",\n",
            "                    \"location\": \"Lung\",\n",
            "                    \"owner_id\": 1,\n",
            "                    \"species\": \"Human\",\n",
            "                    \"subject_count\": 37,\n",
            "                    \"supporting_data\": \"Clinical, Genomics\"\n",
            "                },\n",
            "                {\n",
            "                    \"active\": true,\n",
            "                    \"cancer_type\": \"Kidney Renal Papillary Cell Carcinoma\",\n",
            "                    \"collection_id\": \"tcga_kirp\",\n",
            "                    \"collection_type\": \"Original\",\n",
            "                    \"date_updated\": \"2017-01-30\",\n",
            "                    \"description\": \"<div>\\n\\t<strong>Note:&nbsp;This collection has special restrictions on its usage. See <a href=\\\"https://wiki.cancerimagingarchive.net/x/c4hF\\\" target=\\\"_blank\\\">Data Usage Policies and Restrictions</a>.</strong></p>\\n<div>\\n\\t&nbsp;</p>\\n<div>\\n\\t<span>The <a href=\\\"http://imaging.cancer.gov/\\\" target=\\\"_blank\\\"><u>Cancer Imaging Program (CIP)</u></a></span><span>&thinsp;</span><span> is working directly with primary investigators from institutes participating in TCGA to obtain and load images relating to the genomic, clinical, and pathological data being stored within the <a href=\\\"http://tcga-data.nci.nih.gov/\\\" target=\\\"_blank\\\">TCGA Data Portal</a>.&nbsp;Currently this large CT and MR multi-sequence image collection of </span><span>kidney renal papillary cell carcinoma (KIRP) patients can be matched by each unique case identifier with the extensive gene and expression data of the same case from The Cancer Genome Atlas Data Portal to research the link between clinical phenome and tissue genome.&nbsp;<br />\\n\\t</span></p>\\n<div>\\n\\t&nbsp;</p>\\n<div>\\n\\tPlease see the <span><a href=\\\"https://wiki.cancerimagingarchive.net/x/M4G0\\\" target=\\\"_blank\\\">TCGA -KIRP</a> </span>wiki page to learn more about the images and to obtain any supporting metadata for this collection.</p>\\n<p>\\n\\t&nbsp;</p>\\n\",\n",
            "                    \"doi\": \"10.7937/K9/TCIA.2016.ACWOGBEF\",\n",
            "                    \"idc_data_versions\": [\n",
            "                        \"1.0\"\n",
            "                    ],\n",
            "                    \"image_types\": \"CT, MR, PT, Pathology\",\n",
            "                    \"location\": \"Renal\",\n",
            "                    \"owner_id\": 1,\n",
            "                    \"species\": \"Human\",\n",
            "                    \"subject_count\": 33,\n",
            "                    \"supporting_data\": \"Clinical, Genomics\"\n",
            "                },\n",
            "                {\n",
            "                    \"active\": true,\n",
            "                    \"cancer_type\": \"Thyroid Cancer\",\n",
            "                    \"collection_id\": \"tcga_thca\",\n",
            "                    \"collection_type\": \"Original\",\n",
            "                    \"date_updated\": \"2014-12-31\",\n",
            "                    \"description\": \"<p>\\n\\tThe Cancer Genome Atlas-Thyroid Cancer (TCGA-THCA) data collection is part of a larger effort to enhance the TCGA http://cancergenome.nih.gov/ data set with characterized radiological images. The Cancer Imaging Program (CIP) with the cooperation of several of the TCGA tissue-contributing institutions are working to archive a large portion of the radiological images of the genetically-analyzed THCA cases.</p>\\n<p>\\n\\tPlease see the <a href=\\\"https://wiki.cancerimagingarchive.net/display/Public/TCGA-THCA\\\" target=\\\"_blank\\\">TCGA-THCA</a> wiki page to learn more about the images and to obtain any supporting metadata for this collection.</p>\\n\",\n",
            "                    \"doi\": \"10.7937/K9/TCIA.2016.9ZFRVF1B\",\n",
            "                    \"idc_data_versions\": [\n",
            "                        \"1.0\"\n",
            "                    ],\n",
            "                    \"image_types\": \"CT, PT, Pathology\",\n",
            "                    \"location\": \"Thyroid\",\n",
            "                    \"owner_id\": 1,\n",
            "                    \"species\": \"Human\",\n",
            "                    \"subject_count\": 6,\n",
            "                    \"supporting_data\": \"Clinical, Genomics\"\n",
            "                },\n",
            "                {\n",
            "                    \"active\": true,\n",
            "                    \"cancer_type\": \"Sarcomas\",\n",
            "                    \"collection_id\": \"tcga_sarc\",\n",
            "                    \"collection_type\": \"Original\",\n",
            "                    \"date_updated\": \"2014-12-30\",\n",
            "                    \"description\": \"<p>\\n\\tThe Cancer Genome Atlas-Sarcoma Cancer (TCGA-SARC) data collection is part of a larger effort to enhance the TCGA http://cancergenome.nih.gov/ data set with characterized radiological images. The Cancer Imaging Program (CIP) with the cooperation of several of the TCGA tissue-contributing institutions are working to archive a large portion of the radiological images of the genetically-analyzed SARC cases.</p>\\n<p>\\n\\tPlease see the <a href=\\\"https://wiki.cancerimagingarchive.net/display/Public/TCGA-SARC\\\" target=\\\"_blank\\\">TCGA-SARC</a> wiki page to learn more about the images and to obtain any supporting metadata for this collection.</p>\\n\",\n",
            "                    \"doi\": \"10.7937/K9/TCIA.2016.CX6YLSUX\",\n",
            "                    \"idc_data_versions\": [\n",
            "                        \"1.0\"\n",
            "                    ],\n",
            "                    \"image_types\": \"CT, MR, Pathology\",\n",
            "                    \"location\": \"Chest-Abdomen-Pelvis, Leg, TSpine\",\n",
            "                    \"owner_id\": 1,\n",
            "                    \"species\": \"Human\",\n",
            "                    \"subject_count\": 5,\n",
            "                    \"supporting_data\": \"Clinical, Genomics\"\n",
            "                },\n",
            "                {\n",
            "                    \"active\": true,\n",
            "                    \"cancer_type\": \"Esophageal Carcinoma\",\n",
            "                    \"collection_id\": \"tcga_esca\",\n",
            "                    \"collection_type\": \"Original\",\n",
            "                    \"date_updated\": \"2014-12-09\",\n",
            "                    \"description\": \"<p>\\n\\tThe Cancer Genome Atlas-Esophageal Carcinoma (TCGA-ESCA) data collection is part of a larger effort to enhance the <a href=\\\"http://cancergenome.nih.gov/\\\">TCGA&nbsp;</a> data set with characterized radiological images. The <a href=\\\"https://imaging.cancer.gov/\\\">Cancer Imaging Program (CIP)</a> with the cooperation of several of the TCGA tissue-contributing institutions are working to archive a large portion of the radiological images of the genetically-analyzed ESCA cases.</p>\\n<p>\\n\\tPlease see the <a href=\\\"https://doi.org/10.7937/K9/TCIA.2016.VPTNRGFY\\\" target=\\\"_blank\\\">TCGA-ESCA</a> page to learn more about the images and to obtain any supporting metadata for this collection.</p>\\n\",\n",
            "                    \"doi\": \"10.7937/K9/TCIA.2016.VPTNRGFY\",\n",
            "                    \"idc_data_versions\": [\n",
            "                        \"1.0\"\n",
            "                    ],\n",
            "                    \"image_types\": \"CT, Pathology\",\n",
            "                    \"location\": \"Esophagus\",\n",
            "                    \"owner_id\": 1,\n",
            "                    \"species\": \"Human\",\n",
            "                    \"subject_count\": 16,\n",
            "                    \"supporting_data\": \"Clinical, Genomics\"\n",
            "                },\n",
            "                {\n",
            "                    \"active\": true,\n",
            "                    \"cancer_type\": \"Cervical Squamous Cell Carcinoma and Endocervical Adenocarcinoma\",\n",
            "                    \"collection_id\": \"tcga_cesc\",\n",
            "                    \"collection_type\": \"Original\",\n",
            "                    \"date_updated\": \"2014-12-09\",\n",
            "                    \"description\": \"<p>\\n\\tThe Cancer Genome Atlas-Cervical Squamous Cell Carcinoma and Endocervical Adenocarcinoma (TCGA-CESC) data collection is part of a larger effort to enhance the TCGA http://cancergenome.nih.gov/ data set with characterized radiological images. The Cancer Imaging Program (CIP) with the cooperation of several of the TCGA tissue-contributing institutions are working to archive a large portion of the radiological images of the genetically-analyzed CESC cases.</p>\\n<p>\\n\\tPlease see the <a href=\\\"https://wiki.cancerimagingarchive.net/display/Public/TCGA-CESC\\\" target=\\\"_blank\\\">TCGA-CESC</a> wiki page to learn more about the images and to obtain any supporting metadata for this collection.</p>\\n\",\n",
            "                    \"doi\": \"10.7937/K9/TCIA.2016.SQ4M8YP4\",\n",
            "                    \"idc_data_versions\": [\n",
            "                        \"1.0\"\n",
            "                    ],\n",
            "                    \"image_types\": \"MR, Pathology\",\n",
            "                    \"location\": \"Cervix\",\n",
            "                    \"owner_id\": 1,\n",
            "                    \"species\": \"Human\",\n",
            "                    \"subject_count\": 54,\n",
            "                    \"supporting_data\": \"Clinical, Genomics\"\n",
            "                },\n",
            "                {\n",
            "                    \"active\": true,\n",
            "                    \"cancer_type\": \"Stomach Adenocarcinoma\",\n",
            "                    \"collection_id\": \"tcga_stad\",\n",
            "                    \"collection_type\": \"Original\",\n",
            "                    \"date_updated\": \"2014-12-09\",\n",
            "                    \"description\": \"<p>\\n\\tThe Cancer Genome Atlas-Stomach Adenoarcinoma (TCGA-STAD) data collection is part of a larger effort to enhance the TCGA http://cancergenome.nih.gov/ data set with characterized radiological images. The Cancer Imaging Program (CIP) with the cooperation of several of the TCGA tissue-contributing institutions are working to archive a large portion of the radiological images of the genetically-analyzed STAD cases.</p>\\n<p>\\n\\tPlease see the <a href=\\\"https://wiki.cancerimagingarchive.net/display/Public/TCGA-STAD\\\" target=\\\"_blank\\\">TCGA-STAD</a> wiki page to learn more about the images and to obtain any supporting metadata for this collection.</p>\\n\",\n",
            "                    \"doi\": \"10.7937/K9/TCIA.2016.GDHL9KIM\",\n",
            "                    \"idc_data_versions\": [\n",
            "                        \"1.0\"\n",
            "                    ],\n",
            "                    \"image_types\": \"CT, Pathology\",\n",
            "                    \"location\": \"Stomach\",\n",
            "                    \"owner_id\": 1,\n",
            "                    \"species\": \"Human\",\n",
            "                    \"subject_count\": 46,\n",
            "                    \"supporting_data\": \"Clinical, Genomics\"\n",
            "                },\n",
            "                {\n",
            "                    \"active\": true,\n",
            "                    \"cancer_type\": \"Colon Adenocarcinoma\",\n",
            "                    \"collection_id\": \"tcga_coad\",\n",
            "                    \"collection_type\": \"Original\",\n",
            "                    \"date_updated\": \"2014-10-14\",\n",
            "                    \"description\": \"<p>\\n\\tThe Cancer Genome Atlas-Colon Adenocarcinoma (TCGA-COAD) data collection is part of a larger effort to enhance the TCGA http://cancergenome.nih.gov/ data set with characterized radiological images. The Cancer Imaging Program (CIP), with the cooperation of several of the TCGA tissue-contributing institutions, has archived a large portion of the radiological images of the COAD cases.</p>\\n<p>\\n\\tPlease see the <a href=\\\"https://wiki.cancerimagingarchive.net/display/Public/TCGA-COAD\\\" target=\\\"_blank\\\">TCGA-COAD</a> wiki page to learn more about the images and to obtain any supporting metadata for this collection.</p>\\n\",\n",
            "                    \"doi\": \"10.7937/K9/TCIA.2016.HJJHBOXZ\",\n",
            "                    \"idc_data_versions\": [\n",
            "                        \"1.0\"\n",
            "                    ],\n",
            "                    \"image_types\": \"CT, Pathology\",\n",
            "                    \"location\": \"Colon\",\n",
            "                    \"owner_id\": 1,\n",
            "                    \"species\": \"Human\",\n",
            "                    \"subject_count\": 25,\n",
            "                    \"supporting_data\": \"Clinical, Genomics\"\n",
            "                },\n",
            "                {\n",
            "                    \"active\": true,\n",
            "                    \"cancer_type\": \"Kidney Chromophobe\",\n",
            "                    \"collection_id\": \"tcga_kich\",\n",
            "                    \"collection_type\": \"Original\",\n",
            "                    \"date_updated\": \"2014-05-21\",\n",
            "                    \"description\": \"<p>\\n\\tThe Cancer Genome Atlas-Kidney Chromophobe (TCGA-KICH) data collection is part of a larger effort to enhance the The Cancer Genome Atlas (TCGA) http://cancergenome.nih.gov/ data set with characterized radiological images. The Cancer Imaging Program (CIP) with the cooperation of several of the TCGA tissue-contributing institutions has archived a large portion of the radiological images of the genetically-analyzed KICH cases.</p>\\n<p>\\n\\tPlease see the <a href=\\\"https://wiki.cancerimagingarchive.net/display/Public/TCGA-KICH\\\" target=\\\"_blank\\\">TCGA-KICH</a> wiki page to learn more about the images and to obtain any supporting metadata for this collection.</p>\\n\",\n",
            "                    \"doi\": \"10.7937/K9/TCIA.2016.YU3RBCZN\",\n",
            "                    \"idc_data_versions\": [\n",
            "                        \"1.0\"\n",
            "                    ],\n",
            "                    \"image_types\": \"CT, MR, Pathology\",\n",
            "                    \"location\": \"Kidney\",\n",
            "                    \"owner_id\": 1,\n",
            "                    \"species\": \"Human\",\n",
            "                    \"subject_count\": 15,\n",
            "                    \"supporting_data\": \"Clinical, Genomics\"\n",
            "                },\n",
            "                {\n",
            "                    \"active\": true,\n",
            "                    \"cancer_type\": \"Rectum Adenocarcinoma\",\n",
            "                    \"collection_id\": \"tcga_read\",\n",
            "                    \"collection_type\": \"Original\",\n",
            "                    \"date_updated\": \"2014-05-21\",\n",
            "                    \"description\": \"<p>\\n\\tThe Cancer Genome Atlas-Rectum Adenocarcinoma (TCGA-READ) data collection is part of a larger effort to enhance the TCGA http://cancergenome.nih.gov/ data set with characterized radiological images. The Cancer Imaging Program (CIP), with the cooperation of several TCGA tissue-contributing institutions, has archived a large portion of the radiological images of the genetically-analyzed READ cases.</p>\\n<p>\\n\\tPlease see the <a href=\\\"https://wiki.cancerimagingarchive.net/display/Public/TCGA-READ\\\" target=\\\"_blank\\\">TCGA-READ</a> wiki page to learn more about the images and to obtain any supporting metadata for this collection.</p>\\n\",\n",
            "                    \"doi\": \"10.7937/K9/TCIA.2016.F7PPNPNU\",\n",
            "                    \"idc_data_versions\": [\n",
            "                        \"1.0\"\n",
            "                    ],\n",
            "                    \"image_types\": \"CT, MR, Pathology\",\n",
            "                    \"location\": \"Rectum\",\n",
            "                    \"owner_id\": 1,\n",
            "                    \"species\": \"Human\",\n",
            "                    \"subject_count\": 3,\n",
            "                    \"supporting_data\": \"Clinical, Genomics\"\n",
            "                },\n",
            "                {\n",
            "                    \"active\": true,\n",
            "                    \"cancer_type\": \"Lung Adenocarcinoma\",\n",
            "                    \"collection_id\": \"tcga_luad\",\n",
            "                    \"collection_type\": \"Original\",\n",
            "                    \"date_updated\": \"2017-01-30\",\n",
            "                    \"description\": \"<div>\\n\\t<strong>Note:&nbsp;This collection has special restrictions on its usage. See <a href=\\\"https://wiki.cancerimagingarchive.net/x/c4hF\\\" target=\\\"_blank\\\">Data Usage Policies and Restrictions</a>.</strong></p>\\n<div>\\n\\t&nbsp;</p>\\n<div>\\n\\t<span>The <a href=\\\"http://imaging.cancer.gov/\\\" target=\\\"_blank\\\"><u>Cancer Imaging Program (CIP)</u></a></span><span>&thinsp;</span><span> is working directly with primary investigators from institutes participating in TCGA to obtain and load images relating to the genomic, clinical, and pathological data being stored within the <a href=\\\"http://tcga-data.nci.nih.gov/\\\" target=\\\"_blank\\\">TCGA Data Portal</a>.&nbsp;Currently this large CT multi-sequence image collection of lung adenocarcinoma (LUAD) patients can be matched by each unique case identifier with the extensive gene and expression data of the same case from The Cancer Genome Atlas Data Portal to research the link between clinical phenome and tissue genome.&nbsp;<br />\\n\\t</span></p>\\n<div>\\n\\t&nbsp;</p>\\n<div>\\n\\t<span>Please see the <span><a href=\\\"https://wiki.cancerimagingarchive.net/x/wgBp\\\" target=\\\"_blank\\\">TCGA-LUAD</a> </span>wiki page to learn more about the images and to obtain any supporting metadata for this collection.</span></p>\\n\",\n",
            "                    \"doi\": \"10.7937/K9/TCIA.2016.JGNIHEP5\",\n",
            "                    \"idc_data_versions\": [\n",
            "                        \"1.0\"\n",
            "                    ],\n",
            "                    \"image_types\": \"CT, PT, NM, Pathology\",\n",
            "                    \"location\": \"Chest\",\n",
            "                    \"owner_id\": 1,\n",
            "                    \"species\": \"Human\",\n",
            "                    \"subject_count\": 69,\n",
            "                    \"supporting_data\": \"Clinical, Genomics, Image Analyses\"\n",
            "                },\n",
            "                {\n",
            "                    \"active\": true,\n",
            "                    \"cancer_type\": \"Liver Hepatocellular Carcinoma\",\n",
            "                    \"collection_id\": \"tcga_lihc\",\n",
            "                    \"collection_type\": \"Original\",\n",
            "                    \"date_updated\": \"2017-01-30\",\n",
            "                    \"description\": \"<div>\\n\\t<strong>Note:&nbsp;This collection has special restrictions on its usage. See <a href=\\\"https://wiki.cancerimagingarchive.net/x/c4hF\\\" target=\\\"_blank\\\">Data Usage Policies and Restrictions</a>.</strong></p>\\n<div>\\n\\t&nbsp;</p>\\n<div>\\n\\t<span>The <a href=\\\"http://imaging.cancer.gov/\\\" target=\\\"_blank\\\"><u>Cancer Imaging Program (CIP)</u></a></span><span>&thinsp;</span><span> is working directly with primary investigators from institutes participating in TCGA to obtain and load images relating to the genomic, clinical, and pathological data being stored within the <a href=\\\"http://tcga-data.nci.nih.gov/\\\" target=\\\"_blank\\\">TCGA Data Portal</a>.&nbsp;Currently this CT and MR multi-sequence image collection of liver hepatocellular carcinoma (LIHC) patients can be matched by each unique case identifier with the extensive gene and expression data of the same case from The Cancer Genome Atlas Data Portal to research the link between clinical phenome and tissue genome.&nbsp;<br />\\n\\t</span></p>\\n<div>\\n\\t&nbsp;</p>\\n<div>\\n\\t<span>Please see the <span><a href=\\\"https://wiki.cancerimagingarchive.net/x/PBBp\\\" target=\\\"_blank\\\">TCGA -LIHC</a> </span>wiki page to learn more about the images and to obtain any supporting metadata for this collection.</span></p>\\n<p>\\n\\t&nbsp;</p>\\n\",\n",
            "                    \"doi\": \"10.7937/K9/TCIA.2016.IMMQW8UQ\",\n",
            "                    \"idc_data_versions\": [\n",
            "                        \"1.0\"\n",
            "                    ],\n",
            "                    \"image_types\": \"MR, CT, PT, Pathology\",\n",
            "                    \"location\": \"Liver\",\n",
            "                    \"owner_id\": 1,\n",
            "                    \"species\": \"Human\",\n",
            "                    \"subject_count\": 97,\n",
            "                    \"supporting_data\": \"Clinical, Genomics, Image Analyses\"\n",
            "                },\n",
            "                {\n",
            "                    \"active\": true,\n",
            "                    \"cancer_type\": \"Breast Cancer\",\n",
            "                    \"collection_id\": \"tcga_brca\",\n",
            "                    \"collection_type\": \"Original\",\n",
            "                    \"date_updated\": \"2014-12-30\",\n",
            "                    \"description\": \"<div>\\n\\t<span>The <a href=\\\"http://imaging.cancer.gov/\\\" target=\\\"_blank\\\"><u>Cancer Imaging Program (CIP)</u></a></span><span>&thinsp;</span><span> is working directly with primary investigators from institutes participating in TCGA to obtain and load images relating to the genomic, clinical, and pathological data being stored within the <a href=\\\"http://tcga-data.nci.nih.gov/\\\" target=\\\"_blank\\\">TCGA Data Portal</a>.&nbsp;Currently this MR multi-sequence image collection of breast invasive carcinoma patients can be matched by each unique case identifier with the extensive gene and expression data of the same case from The Cancer Genome Atlas Data Portal to research the link between clinical phenome and tissue genome.&nbsp;<br />\\n\\t</span></p>\\n<div>\\n\\t&nbsp;</p>\\n<div>\\n\\t<span>Please see the <span><a href=\\\"https://wiki.cancerimagingarchive.net/x/GQE2\\\" target=\\\"_blank\\\"><u>TCGA-BRCA</u></a></span> wiki page to learn more about the images and to obtain any supporting metadata for this collection.</span></p>\\n\",\n",
            "                    \"doi\": \"10.7937/K9/TCIA.2016.AB2NAZRP\",\n",
            "                    \"idc_data_versions\": [\n",
            "                        \"1.0\"\n",
            "                    ],\n",
            "                    \"image_types\": \"MR, MG, Pathology\",\n",
            "                    \"location\": \"Breast\",\n",
            "                    \"owner_id\": 1,\n",
            "                    \"species\": \"Human\",\n",
            "                    \"subject_count\": 139,\n",
            "                    \"supporting_data\": \"Clinical, Genomics, Image Analyses\"\n",
            "                },\n",
            "                {\n",
            "                    \"active\": true,\n",
            "                    \"cancer_type\": \"Ovarian Serous Cystadenocarcinoma\",\n",
            "                    \"collection_id\": \"tcga_ov\",\n",
            "                    \"collection_type\": \"Original\",\n",
            "                    \"date_updated\": \"2014-11-05\",\n",
            "                    \"description\": \"<p>\\n\\tThe Cancer Genome Atlas-Ovarian Cancer (TCGA-OV) data collection is part of a larger effort to enhance the TCGA http://cancergenome.nih.gov/ data set with characterized radiological images. The Cancer Imaging Program (CIP) with the cooperation of several of the TCGA tissue-contributing institutions are working to archive a large portion of the radiological images of the genetically-analyzed OV cases.</p>\\n<p>\\n\\tPlease see the <a href=\\\"https://wiki.cancerimagingarchive.net/display/Public/TCGA-OV\\\" target=\\\"_blank\\\">TCGA-OV</a> wiki page to learn more about the images and to obtain any supporting metadata for this collection.</p>\\n\",\n",
            "                    \"doi\": \"10.7937/K9/TCIA.2016.NDO1MDFQ\",\n",
            "                    \"idc_data_versions\": [\n",
            "                        \"1.0\"\n",
            "                    ],\n",
            "                    \"image_types\": \"CT, MR, Pathology\",\n",
            "                    \"location\": \"Ovary\",\n",
            "                    \"owner_id\": 1,\n",
            "                    \"species\": \"Human\",\n",
            "                    \"subject_count\": 143,\n",
            "                    \"supporting_data\": \"Clinical, Genomics, Image Analyses\"\n",
            "                },\n",
            "                {\n",
            "                    \"active\": true,\n",
            "                    \"cancer_type\": \"Kidney Renal Clear Cell Carcinoma\",\n",
            "                    \"collection_id\": \"tcga_kirc\",\n",
            "                    \"collection_type\": \"Original\",\n",
            "                    \"date_updated\": \"2014-10-09\",\n",
            "                    \"description\": \"<div>\\n\\t<span>The <a href=\\\"http://imaging.cancer.gov/\\\" target=\\\"_blank\\\"><u>Cancer Imaging Program (CIP)</u></a></span><span>&thinsp;</span><span> is working directly with primary investigators from institutes participating in TCGA to obtain and load images relating to the genomic, clinical, and pathological data being stored within the <a href=\\\"http://tcga-data.nci.nih.gov/\\\" target=\\\"_blank\\\">TCGA Data Portal</a>.&nbsp;Currently this large CT and MR multi-sequence image collection of kidney renal clear cell carcinoma (KIRC) patients can be matched by each unique case identifier with the extensive gene and expression data of the same case from The Cancer Genome Atlas Data Portal to research the link between clinical phenome and tissue genome.&nbsp;<br />\\n\\t</span></p>\\n<div>\\n\\t&nbsp;</p>\\n<div>\\n\\t<span>Please see the <span><a href=\\\"https://wiki.cancerimagingarchive.net/x/woFY\\\" target=\\\"_blank\\\">TCGA -KIRC</a> </span>wiki page to learn more about the images and to obtain any supporting metadata for this collection.</span></p>\\n\",\n",
            "                    \"doi\": \"10.7937/K9/TCIA.2016.V6PBVTDR\",\n",
            "                    \"idc_data_versions\": [\n",
            "                        \"1.0\"\n",
            "                    ],\n",
            "                    \"image_types\": \"CT, MR, CR, Pathology\",\n",
            "                    \"location\": \"Renal\",\n",
            "                    \"owner_id\": 1,\n",
            "                    \"species\": \"Human\",\n",
            "                    \"subject_count\": 267,\n",
            "                    \"supporting_data\": \"Clinical, Genomics, Image Analyses\"\n",
            "                },\n",
            "                {\n",
            "                    \"active\": true,\n",
            "                    \"cancer_type\": \"Low Grade Glioma\",\n",
            "                    \"collection_id\": \"tcga_lgg\",\n",
            "                    \"collection_type\": \"Original\",\n",
            "                    \"date_updated\": \"2014-09-04\",\n",
            "                    \"description\": \"<div>\\n\\t<strong>Note:&nbsp;This collection has special restrictions on its usage. See <a href=\\\"https://wiki.cancerimagingarchive.net/x/c4hF\\\" target=\\\"_blank\\\">Data Usage Policies and Restrictions</a>.</strong></p>\\n<div>\\n\\t&nbsp;</p>\\n<div>\\n\\t<span>The <a href=\\\"http://imaging.cancer.gov/\\\" target=\\\"_blank\\\"><u>Cancer Imaging Program (CIP)</u></a></span><span>&thinsp;</span><span> is working directly with primary investigators from institutes participating in TCGA to obtain and load images relating to the genomic, clinical, and pathological data being stored within the <a href=\\\"http://tcga-data.nci.nih.gov/\\\" target=\\\"_blank\\\">TCGA Data Portal</a>.&nbsp;Currently this large MR multi-sequence image collection of low grade glioma patients can be matched by each unique case identifier with the extensive gene and expression data of the same case from The Cancer Genome Atlas Data Portal to research the link between clinical phenome and tissue genome.&nbsp;<br />\\n\\t</span></p>\\n<div>\\n\\t&nbsp;</p>\\n<div>\\n\\t<span>Please see the <span><a href=\\\"https://wiki.cancerimagingarchive.net/x/BANR\\\" target=\\\"_blank\\\">TCGA -LGG</a></span> wiki page to learn more about the images and to obtain any supporting metadata for this collection.</span></p>\\n\",\n",
            "                    \"doi\": \"10.7937/K9/TCIA.2016.L4LTD3TK\",\n",
            "                    \"idc_data_versions\": [\n",
            "                        \"1.0\"\n",
            "                    ],\n",
            "                    \"image_types\": \"MR, CT, Pathology\",\n",
            "                    \"location\": \"Brain\",\n",
            "                    \"owner_id\": 1,\n",
            "                    \"species\": \"Human\",\n",
            "                    \"subject_count\": 199,\n",
            "                    \"supporting_data\": \"Clinical, Genomics, Image Analyses\"\n",
            "                },\n",
            "                {\n",
            "                    \"active\": true,\n",
            "                    \"cancer_type\": \"Glioblastoma Multiforme\",\n",
            "                    \"collection_id\": \"tcga_gbm\",\n",
            "                    \"collection_type\": \"Original\",\n",
            "                    \"date_updated\": \"2014-05-08\",\n",
            "                    \"description\": \"<div>\\n\\t<span>The <a href=\\\"http://imaging.cancer.gov/\\\" target=\\\"_blank\\\"><u>Cancer Imaging Program (CIP)</u></a></span><span>&thinsp;</span><span> is working directly with primary investigators from institutes participating in TCGA to obtain and load images relating to the genomic, clinical, and pathological data being stored within the <a href=\\\"http://tcga-data.nci.nih.gov/\\\" target=\\\"_blank\\\">TCGA Data Portal</a>.&nbsp;Currently this large MR multi-sequence image collection of glioblastoma patients can be matched by each unique case identifier with the extensive gene and expression data of the same case from The Cancer Genome Atlas Data Portal to research the link between clinical phenome and tissue genome.&nbsp;<br />\\n\\t</span></p>\\n<div>\\n\\t&nbsp;</p>\\n<div>\\n\\t<span>Please see the <span><a href=\\\"https://wiki.cancerimagingarchive.net/x/sgAe\\\" target=\\\"_blank\\\"><u>TCGA-GBM&nbsp;</u></a></span> wiki page to learn more about the images and to obtain any supporting metadata for this collection.</span></p>\\n\",\n",
            "                    \"doi\": \"10.7937/K9/TCIA.2016.RNYFUYE9\",\n",
            "                    \"idc_data_versions\": [\n",
            "                        \"1.0\"\n",
            "                    ],\n",
            "                    \"image_types\": \"MR, CT, DX, Pathology\",\n",
            "                    \"location\": \"Brain\",\n",
            "                    \"owner_id\": 1,\n",
            "                    \"species\": \"Human\",\n",
            "                    \"subject_count\": 262,\n",
            "                    \"supporting_data\": \"Clinical, Genomics, Image Analyses\"\n",
            "                }\n",
            "            ],\n",
            "            \"program_name\": \"TCGA\"\n",
            "        }\n",
            "    ]\n",
            "}\n"
          ],
          "name": "stdout"
        }
      ]
    },
    {
      "cell_type": "markdown",
      "metadata": {
        "id": "z0EnRfsdX2WW"
      },
      "source": [
        "Metadata for original collections has been obtained from the [TCIA Data Collections page](https://www.cancerimagingarchive.net/collections/), and for analysis collections from the [TCIA Analysis Results page](https://www.cancerimagingarchive.net/tcia-analysis-results/). Not that the `idc_data_versions` component of each collection is a list because any particular collection will almost certainly be available in multiple IDC data versions."
      ]
    },
    {
      "cell_type": "markdown",
      "metadata": {
        "id": "MdZVwFTRdrHH"
      },
      "source": [
        "## Example: POST `/cohorts/preview/manifest` endpoint"
      ]
    },
    {
      "cell_type": "markdown",
      "metadata": {
        "id": "mC2NcjdtaGDy"
      },
      "source": [
        "The POST `/cohorts/preview/manifest` endpoint returns a manifest of *access_methods* for the objects in cohort cohort_id. Please refer to the in the [API](https://learn.canceridc.dev/api/getting-started) section of the [IDC User Guide](https://learn.canceridc.dev/ps://) for further information on manifests. \n",
        "\n",
        "The `/cohorts/preview/manifest` API does not actually create a cohort, but acts as if a cohort were created. Creating a cohort requires authenticating to the API; that process is addessed in a subsequent example describing the `/cohorts/{cohort_id}/manifest` API.\n",
        "\n",
        "A manifest is a list of *access methods*. Each access method describes how to access the study, series or instance DICOM objects in the cohort. A manifest can optionally include addition metadata per DICOM object. \n",
        "\n",
        "A filterSet includes a filter and the IDC data version against which it is applied. Filter is a list of *attribute*,*values* pairs, where *values* is a list of one or more values which must be satisfied by the associated attribute.\n",
        "\n",
        "In the following, we construct a dict, `cohortSpec`, containing the name and a description for the cohort, as well as a filterSet that selects for subjects in either the TCGA-LUAD or TCGA-KIRC collections, having DICOM data with a CT or MR modality, and are Asian.\n",
        "\n"
      ]
    },
    {
      "cell_type": "code",
      "metadata": {
        "id": "NmLDCwyMrKIW"
      },
      "source": [
        "filterSet = {\n",
        "    \"idc_data_version\": \"1.0\",\n",
        "    \"filters\": {\n",
        "        \"collection_id\": [ \"TCGA-LUAD\", \"TCGA-KIRC\" ],\n",
        "        \"Modality\": [\"CT\", \"MR\"],\n",
        "        \"race\": [\"ASIAN\"]}}\n",
        "\n",
        "cohortSpec = {\"name\": \"testcohort\",\n",
        "              \"description\": \"Test description\",\n",
        "              \"filterSet\": filterSet}\n",
        "\n"
      ],
      "execution_count": 82,
      "outputs": []
    },
    {
      "cell_type": "markdown",
      "metadata": {
        "id": "b9--y7MbtM3j"
      },
      "source": [
        "The query string selects additonal metadata to be return. In addition, the amount of data returned by each call can be limited. When this is done the API can be iteratively called until all data has been received. In this example, we will limit the returned data to 10 rows."
      ]
    },
    {
      "cell_type": "code",
      "metadata": {
        "id": "j3YSHebRu37u"
      },
      "source": [
        "query_string = dict(\n",
        "    sql = False,\n",
        "    Collection_IDs = True,\n",
        "    Patient_IDs = True,\n",
        "    StudyInstanceUIDs = False,\n",
        "    SeriesInstanceUIDs = False,\n",
        "    SOPInstanceUIDs = False,\n",
        "    Collection_DOIs = False,\n",
        "    access_method =  'url',\n",
        "    page_size = 10\n",
        ")"
      ],
      "execution_count": 83,
      "outputs": []
    },
    {
      "cell_type": "markdown",
      "metadata": {
        "id": "5v0RB-w-vCwo"
      },
      "source": [
        "We are now ready to call the endpoint. Note that /cohorts/preview/manifest is a POST method, so we call requests.post()"
      ]
    },
    {
      "cell_type": "code",
      "metadata": {
        "id": "Dk4HdufjvT-y"
      },
      "source": [
        "response = requests.post('{}/cohorts/preview/manifest'.format(idc_api_preamble),\n",
        "                    params=query_string, json=cohortSpec)\n",
        "\n",
        "# Check that there wasn't an error with the request\n",
        "if response.status_code != 200:\n",
        "  # Print the error code and message if something went wrong\n",
        "  print(response.json())"
      ],
      "execution_count": 84,
      "outputs": []
    },
    {
      "cell_type": "markdown",
      "metadata": {
        "id": "C-udN2bv--zN"
      },
      "source": [
        "We will prettyprint the results for easier comprehension:"
      ]
    },
    {
      "cell_type": "code",
      "metadata": {
        "id": "xvYVag8j7XIl",
        "colab": {
          "base_uri": "https://localhost:8080/"
        },
        "outputId": "9367f53b-1833-464e-9795-59215f8a4d49"
      },
      "source": [
        "print(json.dumps(response.json(), sort_keys=True, indent=4))"
      ],
      "execution_count": 85,
      "outputs": [
        {
          "output_type": "stream",
          "text": [
            "{\n",
            "    \"code\": 200,\n",
            "    \"cohort\": {\n",
            "        \"description\": \"Test description\",\n",
            "        \"filterSet\": {\n",
            "            \"filters\": {\n",
            "                \"Modality\": [\n",
            "                    \"CT\",\n",
            "                    \"MR\"\n",
            "                ],\n",
            "                \"collection_id\": [\n",
            "                    \"tcga_luad\",\n",
            "                    \"tcga_kirc\"\n",
            "                ],\n",
            "                \"race\": [\n",
            "                    \"ASIAN\"\n",
            "                ]\n",
            "            },\n",
            "            \"idc_data_version\": \"1.0\"\n",
            "        },\n",
            "        \"name\": \"testcohort\",\n",
            "        \"sql\": \"\"\n",
            "    },\n",
            "    \"manifest\": {\n",
            "        \"json_manifest\": [\n",
            "            {\n",
            "                \"PatientID\": \"TCGA-CJ-4899\",\n",
            "                \"collection_id\": \"tcga_kirc\",\n",
            "                \"url\": \"gs://idc-tcia-tcga-kirc/dicom/1.3.6.1.4.1.14519.5.2.1.1706.4004.222390132567115084999595655241/1.3.6.1.4.1.14519.5.2.1.1706.4004.209568983417342975065810158572/1.3.6.1.4.1.14519.5.2.1.1706.4004.104452021937501750559914839064.dcm#1592634614253420\"\n",
            "            },\n",
            "            {\n",
            "                \"PatientID\": \"TCGA-CJ-4899\",\n",
            "                \"collection_id\": \"tcga_kirc\",\n",
            "                \"url\": \"gs://idc-tcia-tcga-kirc/dicom/1.3.6.1.4.1.14519.5.2.1.1706.4004.222390132567115084999595655241/1.3.6.1.4.1.14519.5.2.1.1706.4004.209568983417342975065810158572/1.3.6.1.4.1.14519.5.2.1.1706.4004.107363797844322661259092907261.dcm#1592634614264953\"\n",
            "            },\n",
            "            {\n",
            "                \"PatientID\": \"TCGA-CJ-4899\",\n",
            "                \"collection_id\": \"tcga_kirc\",\n",
            "                \"url\": \"gs://idc-tcia-tcga-kirc/dicom/1.3.6.1.4.1.14519.5.2.1.1706.4004.222390132567115084999595655241/1.3.6.1.4.1.14519.5.2.1.1706.4004.209568983417342975065810158572/1.3.6.1.4.1.14519.5.2.1.1706.4004.110075768201297410604933308356.dcm#1592634614308887\"\n",
            "            },\n",
            "            {\n",
            "                \"PatientID\": \"TCGA-CJ-4899\",\n",
            "                \"collection_id\": \"tcga_kirc\",\n",
            "                \"url\": \"gs://idc-tcia-tcga-kirc/dicom/1.3.6.1.4.1.14519.5.2.1.1706.4004.222390132567115084999595655241/1.3.6.1.4.1.14519.5.2.1.1706.4004.209568983417342975065810158572/1.3.6.1.4.1.14519.5.2.1.1706.4004.111988340710193068794564346298.dcm#1592634614283923\"\n",
            "            },\n",
            "            {\n",
            "                \"PatientID\": \"TCGA-CJ-4899\",\n",
            "                \"collection_id\": \"tcga_kirc\",\n",
            "                \"url\": \"gs://idc-tcia-tcga-kirc/dicom/1.3.6.1.4.1.14519.5.2.1.1706.4004.222390132567115084999595655241/1.3.6.1.4.1.14519.5.2.1.1706.4004.209568983417342975065810158572/1.3.6.1.4.1.14519.5.2.1.1706.4004.113578885717891630644827788739.dcm#1592634614284048\"\n",
            "            },\n",
            "            {\n",
            "                \"PatientID\": \"TCGA-CJ-4899\",\n",
            "                \"collection_id\": \"tcga_kirc\",\n",
            "                \"url\": \"gs://idc-tcia-tcga-kirc/dicom/1.3.6.1.4.1.14519.5.2.1.1706.4004.222390132567115084999595655241/1.3.6.1.4.1.14519.5.2.1.1706.4004.209568983417342975065810158572/1.3.6.1.4.1.14519.5.2.1.1706.4004.120453603630462034168825541089.dcm#1592634614295235\"\n",
            "            },\n",
            "            {\n",
            "                \"PatientID\": \"TCGA-CJ-4899\",\n",
            "                \"collection_id\": \"tcga_kirc\",\n",
            "                \"url\": \"gs://idc-tcia-tcga-kirc/dicom/1.3.6.1.4.1.14519.5.2.1.1706.4004.222390132567115084999595655241/1.3.6.1.4.1.14519.5.2.1.1706.4004.209568983417342975065810158572/1.3.6.1.4.1.14519.5.2.1.1706.4004.121254695740808741395608492304.dcm#1592634614286488\"\n",
            "            },\n",
            "            {\n",
            "                \"PatientID\": \"TCGA-CJ-4899\",\n",
            "                \"collection_id\": \"tcga_kirc\",\n",
            "                \"url\": \"gs://idc-tcia-tcga-kirc/dicom/1.3.6.1.4.1.14519.5.2.1.1706.4004.222390132567115084999595655241/1.3.6.1.4.1.14519.5.2.1.1706.4004.209568983417342975065810158572/1.3.6.1.4.1.14519.5.2.1.1706.4004.125187096678883873118802829533.dcm#1592634614290494\"\n",
            "            },\n",
            "            {\n",
            "                \"PatientID\": \"TCGA-CJ-4899\",\n",
            "                \"collection_id\": \"tcga_kirc\",\n",
            "                \"url\": \"gs://idc-tcia-tcga-kirc/dicom/1.3.6.1.4.1.14519.5.2.1.1706.4004.222390132567115084999595655241/1.3.6.1.4.1.14519.5.2.1.1706.4004.209568983417342975065810158572/1.3.6.1.4.1.14519.5.2.1.1706.4004.127187520494186254656518606705.dcm#1592634614306386\"\n",
            "            },\n",
            "            {\n",
            "                \"PatientID\": \"TCGA-CJ-4899\",\n",
            "                \"collection_id\": \"tcga_kirc\",\n",
            "                \"url\": \"gs://idc-tcia-tcga-kirc/dicom/1.3.6.1.4.1.14519.5.2.1.1706.4004.222390132567115084999595655241/1.3.6.1.4.1.14519.5.2.1.1706.4004.209568983417342975065810158572/1.3.6.1.4.1.14519.5.2.1.1706.4004.134481124544196550279531737808.dcm#1592634614314093\"\n",
            "            }\n",
            "        ],\n",
            "        \"rowsReturned\": 10,\n",
            "        \"totalFound\": 1581\n",
            "    },\n",
            "    \"next_page\": \"gAAAAABf4TGnmmR7tIjKNB79iL5HUSGMesmRa9y8-ESX2ppHnofa-srPqfpmwOtDd0v97Mg6T7tLp0wHDNG9R3OZORgCywK07nSoonBKiXktuAuDmCJY1tpv_MHSBvbo9wKvW70RsejaLZ7ElW2OuA-V45SgWDucC110--cOdBjlJmH5Z7SkJy1sw0kHj5EY_wJffxOfj_Lmdol1nPHX0Q05PIGnNw3bKzRhl8nOBT5ZtvR5Rz4er4t-HNby4KxBs5IlA9FpSHVayp6yHUVykhR4u7X_1w0TAVx0Nu48Gw5nV86EB5rxjm9LCqRilaKW0ougAwaAyW_G\"\n",
            "}\n"
          ],
          "name": "stdout"
        }
      ]
    },
    {
      "cell_type": "markdown",
      "metadata": {
        "id": "WraYhAri_NpR"
      },
      "source": [
        "The returned data includes the cohort name, description and filterset which we passed as parameters.  \n",
        "\n",
        "We can see that there are 1581 total rows, but only 10 were returned.\n",
        "\n",
        "We could also have requested that the BigQuery SQL that produced these results be returned.\n"
      ]
    },
    {
      "cell_type": "markdown",
      "metadata": {
        "id": "YBGPGzOdBVMh"
      },
      "source": [
        "### Paged results\n",
        "\n",
        "It can be seen that the above results includes a non-null `next_page` token. This token can be passed as a parameter in a subsequent invocation of /cohorts/preview/manifest to obtain additional data.\n",
        "\n",
        "When we pass a next_page value, all other parameters except page_size are ignored.\n"
      ]
    },
    {
      "cell_type": "code",
      "metadata": {
        "id": "RnkMCmYmJla_",
        "colab": {
          "base_uri": "https://localhost:8080/"
        },
        "outputId": "c90230dc-c977-497b-cad1-b8ea5dfa5224"
      },
      "source": [
        "query_string = dict(\n",
        "    page_size = 10,\n",
        "    next_page = response.json()['next_page']\n",
        ")\n",
        "response = requests.post('{}/cohorts/preview/manifest'.format(idc_api_preamble),\n",
        "                    params=query_string, json=cohortSpec)\n",
        "\n",
        "# Check that there wasn't an error with the request\n",
        "if response.status_code != 200:\n",
        "  # Print the error code and message if something went wrong\n",
        "  print(response.json())\n",
        "\n",
        "print(json.dumps(response.json(), sort_keys=True, indent=4))\n",
        "\n"
      ],
      "execution_count": 87,
      "outputs": [
        {
          "output_type": "stream",
          "text": [
            "{\n",
            "    \"code\": 200,\n",
            "    \"cohort\": {},\n",
            "    \"manifest\": {\n",
            "        \"json_manifest\": [\n",
            "            {\n",
            "                \"PatientID\": \"TCGA-CJ-4899\",\n",
            "                \"collection_id\": \"tcga_kirc\",\n",
            "                \"url\": \"gs://idc-tcia-tcga-kirc/dicom/1.3.6.1.4.1.14519.5.2.1.1706.4004.222390132567115084999595655241/1.3.6.1.4.1.14519.5.2.1.1706.4004.209568983417342975065810158572/1.3.6.1.4.1.14519.5.2.1.1706.4004.214212115005456573927153866312.dcm#1592634614427958\"\n",
            "            },\n",
            "            {\n",
            "                \"PatientID\": \"TCGA-CJ-4899\",\n",
            "                \"collection_id\": \"tcga_kirc\",\n",
            "                \"url\": \"gs://idc-tcia-tcga-kirc/dicom/1.3.6.1.4.1.14519.5.2.1.1706.4004.222390132567115084999595655241/1.3.6.1.4.1.14519.5.2.1.1706.4004.209568983417342975065810158572/1.3.6.1.4.1.14519.5.2.1.1706.4004.216153614447829865047126869441.dcm#1592634614446319\"\n",
            "            },\n",
            "            {\n",
            "                \"PatientID\": \"TCGA-CJ-4899\",\n",
            "                \"collection_id\": \"tcga_kirc\",\n",
            "                \"url\": \"gs://idc-tcia-tcga-kirc/dicom/1.3.6.1.4.1.14519.5.2.1.1706.4004.222390132567115084999595655241/1.3.6.1.4.1.14519.5.2.1.1706.4004.209568983417342975065810158572/1.3.6.1.4.1.14519.5.2.1.1706.4004.217615522002900927521459883977.dcm#1592634614434555\"\n",
            "            },\n",
            "            {\n",
            "                \"PatientID\": \"TCGA-CJ-4899\",\n",
            "                \"collection_id\": \"tcga_kirc\",\n",
            "                \"url\": \"gs://idc-tcia-tcga-kirc/dicom/1.3.6.1.4.1.14519.5.2.1.1706.4004.222390132567115084999595655241/1.3.6.1.4.1.14519.5.2.1.1706.4004.209568983417342975065810158572/1.3.6.1.4.1.14519.5.2.1.1706.4004.225391358673912102323663677630.dcm#1592634614475536\"\n",
            "            },\n",
            "            {\n",
            "                \"PatientID\": \"TCGA-CJ-4899\",\n",
            "                \"collection_id\": \"tcga_kirc\",\n",
            "                \"url\": \"gs://idc-tcia-tcga-kirc/dicom/1.3.6.1.4.1.14519.5.2.1.1706.4004.222390132567115084999595655241/1.3.6.1.4.1.14519.5.2.1.1706.4004.209568983417342975065810158572/1.3.6.1.4.1.14519.5.2.1.1706.4004.228579455653721126808447045356.dcm#1592634614513194\"\n",
            "            },\n",
            "            {\n",
            "                \"PatientID\": \"TCGA-CJ-4899\",\n",
            "                \"collection_id\": \"tcga_kirc\",\n",
            "                \"url\": \"gs://idc-tcia-tcga-kirc/dicom/1.3.6.1.4.1.14519.5.2.1.1706.4004.222390132567115084999595655241/1.3.6.1.4.1.14519.5.2.1.1706.4004.209568983417342975065810158572/1.3.6.1.4.1.14519.5.2.1.1706.4004.229351246329530411336679779270.dcm#1592634614455260\"\n",
            "            },\n",
            "            {\n",
            "                \"PatientID\": \"TCGA-CJ-4899\",\n",
            "                \"collection_id\": \"tcga_kirc\",\n",
            "                \"url\": \"gs://idc-tcia-tcga-kirc/dicom/1.3.6.1.4.1.14519.5.2.1.1706.4004.222390132567115084999595655241/1.3.6.1.4.1.14519.5.2.1.1706.4004.209568983417342975065810158572/1.3.6.1.4.1.14519.5.2.1.1706.4004.241960078356785857652059675054.dcm#1592634614454452\"\n",
            "            },\n",
            "            {\n",
            "                \"PatientID\": \"TCGA-CJ-4899\",\n",
            "                \"collection_id\": \"tcga_kirc\",\n",
            "                \"url\": \"gs://idc-tcia-tcga-kirc/dicom/1.3.6.1.4.1.14519.5.2.1.1706.4004.222390132567115084999595655241/1.3.6.1.4.1.14519.5.2.1.1706.4004.209568983417342975065810158572/1.3.6.1.4.1.14519.5.2.1.1706.4004.242563376112047425836737900516.dcm#1592634614457331\"\n",
            "            },\n",
            "            {\n",
            "                \"PatientID\": \"TCGA-CJ-4899\",\n",
            "                \"collection_id\": \"tcga_kirc\",\n",
            "                \"url\": \"gs://idc-tcia-tcga-kirc/dicom/1.3.6.1.4.1.14519.5.2.1.1706.4004.222390132567115084999595655241/1.3.6.1.4.1.14519.5.2.1.1706.4004.209568983417342975065810158572/1.3.6.1.4.1.14519.5.2.1.1706.4004.244022271277334932306694256937.dcm#1592634614512652\"\n",
            "            },\n",
            "            {\n",
            "                \"PatientID\": \"TCGA-CJ-4899\",\n",
            "                \"collection_id\": \"tcga_kirc\",\n",
            "                \"url\": \"gs://idc-tcia-tcga-kirc/dicom/1.3.6.1.4.1.14519.5.2.1.1706.4004.222390132567115084999595655241/1.3.6.1.4.1.14519.5.2.1.1706.4004.209568983417342975065810158572/1.3.6.1.4.1.14519.5.2.1.1706.4004.253124189789259069748059220873.dcm#1592634614513563\"\n",
            "            }\n",
            "        ],\n",
            "        \"rowsReturned\": 10,\n",
            "        \"totalFound\": 1581\n",
            "    },\n",
            "    \"next_page\": \"gAAAAABf4THkIuqecTkXf2g2xFrP3H3qjh3X9IuwzxbEoBdCBTVFOFeKGUYrCT_2JoQEV0pfRdobgbg1-9rxfz5MU1kq1NJeWTTCP6HfzNS5SnPn5ftc1b9RmzzcCRfNxgLNg7fMxTUVLMP3ztnk2l5YpmPLmGjcRG1yyXkVWCiytJ6rvY-cV5VbW1Nf8wIUZO64nGXsYkazOEvd_6tyVJMOhPBnaWdZByr_nLm9XncQd43DaiqVn_P3HbtIF9RvA8x1dZNch6Aj7dFL_I0dlP2lPMIOK1OyQoP9dl5emz3hVGKUJfvsu0kMHOVhLjy1ke1_f0LJfDF1\"\n",
            "}\n"
          ],
          "name": "stdout"
        }
      ]
    },
    {
      "cell_type": "markdown",
      "metadata": {
        "id": "VokPDxpw9EEa"
      },
      "source": [
        "## Example: POST `/cohort/{cohort_id}/manifest` Endpoint\n",
        "\n",
        "This section will focus on the POST `/cohorts/{cohort_id}/manifest` endpoint. Unlike the /cohort/preview/manifest endpoint, the `/cohorts/{cohort_id}/manifest` returns a manifest against a cohort that was previously defined via the IDC POST /cohorts API or through the IDC webapp.\n",
        "\n",
        "In order to be able to save a cohort definition in the IDC webapp via the API, the user must authenticate their identity with the web app. his section will first step through the authentication/authorization process when working with the IDC API.\n"
      ]
    },
    {
      "cell_type": "markdown",
      "metadata": {
        "id": "CO40yJQ3BFrW"
      },
      "source": [
        "### Notes on Authorization and Credentials\n",
        "The following steps are required to use an API that Requires Authorization:\n",
        "\n",
        "1. Create a Credential File on your local machine by using the [idc_auth.py](https://github.com/ImagingDataCommons/IDC-API/tree/master/scripts/idc_auth.py) script from the [IDC-API Repository](https://github.com/ImagingDataCommons/IDC-API.git)\n",
        "  * This script can be run from the command line or from within Python but should be run on your local machine.\n",
        "2. Find the location of the Credential File on your local machine\n",
        "  * By default, the script will save the file in the user's folder with the file name: \".idc_credentials\"\n",
        "3. Load the Credential file into the cloud environment you are using."
      ]
    },
    {
      "cell_type": "code",
      "metadata": {
        "id": "AQhPXCGZQwxc"
      },
      "source": [
        "# If you skipped earlier sections, you will need these two packages to run the\n",
        "# code below\n",
        "# Install requests if needed\n",
        "#pip install requests\n",
        "\n",
        "# Install pip json\n",
        "#import json\n",
        "\n",
        "# Import the requests library\n",
        "#import requests"
      ],
      "execution_count": 88,
      "outputs": []
    },
    {
      "cell_type": "code",
      "metadata": {
        "id": "TYY9fUVRRCLY"
      },
      "source": [
        "# import os\n",
        "import os\n",
        "# Import files helper for Colab\n",
        "from google.colab import files"
      ],
      "execution_count": 89,
      "outputs": []
    },
    {
      "cell_type": "code",
      "metadata": {
        "colab": {
          "resources": {
            "http://localhost:8080/nbextensions/google.colab/files.js": {
              "data": "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",
              "ok": true,
              "headers": [
                [
                  "content-type",
                  "application/javascript"
                ]
              ],
              "status": 200,
              "status_text": ""
            }
          },
          "base_uri": "https://localhost:8080/",
          "height": 73
        },
        "id": "0H4QGZ3zQz7x",
        "outputId": "05c66c5d-7dd3-40a8-8ec9-ff4be0f6a7db"
      },
      "source": [
        "# First delete any existing .idc_credentials. Otherwise file.upload() will name the new file .idc_credentials (1)\n",
        "try:\n",
        "  os.remove('./.idc_credentials')\n",
        "except:\n",
        "  print('.idc_credentials not found')\n",
        "\n",
        "# Upload your credentials to the cloud environment\n",
        "uploaded = files.upload()"
      ],
      "execution_count": 90,
      "outputs": [
        {
          "output_type": "display_data",
          "data": {
            "text/html": [
              "\n",
              "     <input type=\"file\" id=\"files-34225a33-a9f8-4082-978e-9795457f9a4e\" name=\"files[]\" multiple disabled\n",
              "        style=\"border:none\" />\n",
              "     <output id=\"result-34225a33-a9f8-4082-978e-9795457f9a4e\">\n",
              "      Upload widget is only available when the cell has been executed in the\n",
              "      current browser session. Please rerun this cell to enable.\n",
              "      </output>\n",
              "      <script src=\"/nbextensions/google.colab/files.js\"></script> "
            ],
            "text/plain": [
              "<IPython.core.display.HTML object>"
            ]
          },
          "metadata": {
            "tags": []
          }
        },
        {
          "output_type": "stream",
          "text": [
            "Saving .idc_credentials to .idc_credentials\n"
          ],
          "name": "stdout"
        }
      ]
    },
    {
      "cell_type": "markdown",
      "metadata": {
        "id": "3PM9_7ZySBzC"
      },
      "source": [
        "Now that we have the Credentials file created and uploaded to the cloud environment, we can open the file to create the header information need for the API to verify that you have Authorization."
      ]
    },
    {
      "cell_type": "code",
      "metadata": {
        "id": "uj_jc3p6Wx_p"
      },
      "source": [
        "# Open the credentials file\n",
        "token = open(\".idc_credentials\", \"r\")\n",
        "# Create a json object from teh credential file\n",
        "token = json.loads(token.read())\n",
        "# Get Credentials from the token\n",
        "creds = token['token_response']['id_token']\n",
        "# Create a json object for requests header\n",
        "head = {'Authorization': 'Bearer ' + creds}"
      ],
      "execution_count": 91,
      "outputs": []
    },
    {
      "cell_type": "markdown",
      "metadata": {
        "id": "i0y9thsfXATV"
      },
      "source": [
        "**Note:** the credentials file will expire after 1 hour and a new one will need to be generated. If a new file is not generated with the idc_auth script, you can delete the original file and try running the script again."
      ]
    },
    {
      "cell_type": "markdown",
      "metadata": {
        "id": "RIkYHdLWXKAX"
      },
      "source": [
        "We can now proceed to create a cohort. The POST `/cohorts` endpoint creates a cohort. We will use the same cohort definition as previously."
      ]
    },
    {
      "cell_type": "code",
      "metadata": {
        "colab": {
          "base_uri": "https://localhost:8080/"
        },
        "id": "Z8I4uplMUGMt",
        "outputId": "deb9480e-1418-4b40-9ea0-1c7064b5d0d1"
      },
      "source": [
        "filterSet = {\n",
        "  \"idc_data_version\": \"1.0\",\n",
        "  \"filters\": {\n",
        "      \"collection_id\": [ \"TCGA-LUAD\", \"TCGA-KIRC\" ],\n",
        "      \"Modality\": [\"CT\", \"MR\"],\n",
        "      \"race\": [\"ASIAN\"]}}\n",
        "  \n",
        "cohortSpec = {\"name\": \"testcohort\",\n",
        "              \"description\": \"Test description\",\n",
        "              \"filterSet\": filterSet}\n",
        "\n",
        "response = requests.post('{}/cohorts/'.format(idc_api_preamble),\n",
        "                      json=cohortSpec, headers = head)\n",
        "\n",
        "# Check that there wasn't an error with the request\n",
        "if response.status_code != 200:\n",
        "    # Print the error code and message if something went wrong\n",
        "    print(response.json())\n",
        "\n",
        "print(json.dumps(response.json(), sort_keys=True, indent=1))\n",
        "\n",
        "cohort_id = response.json()['cohort_properties']['cohort_id']"
      ],
      "execution_count": 93,
      "outputs": [
        {
          "output_type": "stream",
          "text": [
            "{\n",
            " \"code\": 200,\n",
            " \"cohort_properties\": {\n",
            "  \"cohort_id\": 94,\n",
            "  \"description\": \"Test description\",\n",
            "  \"filterSet\": {\n",
            "   \"filters\": {\n",
            "    \"Modality\": [\n",
            "     \"CT\",\n",
            "     \"MR\"\n",
            "    ],\n",
            "    \"collection_id\": [\n",
            "     \"TCGA-LUAD\",\n",
            "     \"TCGA-KIRC\"\n",
            "    ],\n",
            "    \"race\": [\n",
            "     \"ASIAN\"\n",
            "    ]\n",
            "   },\n",
            "   \"idc_data_version\": \"1.0\"\n",
            "  },\n",
            "  \"name\": \"testcohort\"\n",
            " }\n",
            "}\n"
          ],
          "name": "stdout"
        }
      ]
    },
    {
      "cell_type": "markdown",
      "metadata": {
        "id": "HKnhDeB-YyEp"
      },
      "source": [
        "Note that the response includes the cohort_id of the newly created cohort. We will use this ID when querying for the cohort's manifest. Note also that the response repeats the filterSet and other cohort metadata.\n",
        "\n",
        "This time we will return doi access methods."
      ]
    },
    {
      "cell_type": "code",
      "metadata": {
        "colab": {
          "base_uri": "https://localhost:8080/"
        },
        "id": "jPlHkZocX7rd",
        "outputId": "e8f7561b-eb4c-45b5-f6cc-8fb9e9c09408"
      },
      "source": [
        "query_string = dict(\n",
        "    access_method =  'doi',\n",
        "    Collection_DOIs = True,\n",
        "    page_size = 10\n",
        ")\n",
        "\n",
        "response = requests.get('{}/cohorts/{}/manifest'.format(idc_api_preamble, cohort_id),\n",
        "                      params=query_string, headers = head)\n",
        "\n",
        "# Check that there wasn't an error with the request\n",
        "if response.status_code != 200:\n",
        "    # Print the error code and message if something went wrong\n",
        "    print(response.json())\n",
        "\n",
        "print(json.dumps(response.json(), sort_keys=True, indent=4))\n"
      ],
      "execution_count": 98,
      "outputs": [
        {
          "output_type": "stream",
          "text": [
            "{\n",
            "    \"code\": 200,\n",
            "    \"cohort\": {\n",
            "        \"cohort_id\": 94,\n",
            "        \"description\": \"Test description\",\n",
            "        \"filterSet\": {\n",
            "            \"filters\": {\n",
            "                \"Modality\": [\n",
            "                    \"CT\",\n",
            "                    \"MR\"\n",
            "                ],\n",
            "                \"collection_id\": [\n",
            "                    \"TCGA-LUAD\",\n",
            "                    \"TCGA-KIRC\"\n",
            "                ],\n",
            "                \"race\": [\n",
            "                    \"ASIAN\"\n",
            "                ]\n",
            "            },\n",
            "            \"idc_data_version\": \"1.0\"\n",
            "        },\n",
            "        \"name\": \"testcohort\",\n",
            "        \"sql\": \"\"\n",
            "    },\n",
            "    \"manifest\": {\n",
            "        \"json_manifest\": [\n",
            "            {\n",
            "                \"doi\": \"dg.4DFC/000c8565-76f2-4bc8-9a34-33dd3d3924b3\",\n",
            "                \"source_DOI\": \"10.7937/K9/TCIA.2016.V6PBVTDR\"\n",
            "            },\n",
            "            {\n",
            "                \"doi\": \"dg.4DFC/002b13fe-8f12-415a-a5e8-401eedba2909\",\n",
            "                \"source_DOI\": \"10.7937/K9/TCIA.2016.V6PBVTDR\"\n",
            "            },\n",
            "            {\n",
            "                \"doi\": \"dg.4DFC/00606631-64e6-4d1c-95dd-2373648aafb6\",\n",
            "                \"source_DOI\": \"10.7937/K9/TCIA.2016.V6PBVTDR\"\n",
            "            },\n",
            "            {\n",
            "                \"doi\": \"dg.4DFC/0077877c-6172-488b-8754-bfa7df7589fd\",\n",
            "                \"source_DOI\": \"10.7937/K9/TCIA.2016.V6PBVTDR\"\n",
            "            },\n",
            "            {\n",
            "                \"doi\": \"dg.4DFC/00be9515-8b58-45c0-91ee-4c5022be2c00\",\n",
            "                \"source_DOI\": \"10.7937/K9/TCIA.2016.V6PBVTDR\"\n",
            "            },\n",
            "            {\n",
            "                \"doi\": \"dg.4DFC/00bfdcd1-518d-4e1a-b105-6a08ff8b6556\",\n",
            "                \"source_DOI\": \"10.7937/K9/TCIA.2016.V6PBVTDR\"\n",
            "            },\n",
            "            {\n",
            "                \"doi\": \"dg.4DFC/00e0d3a5-36c1-400f-a901-44de946b2283\",\n",
            "                \"source_DOI\": \"10.7937/K9/TCIA.2016.V6PBVTDR\"\n",
            "            },\n",
            "            {\n",
            "                \"doi\": \"dg.4DFC/00fc78b4-afc5-4518-bf28-ac4a2cfc7eca\",\n",
            "                \"source_DOI\": \"10.7937/K9/TCIA.2016.V6PBVTDR\"\n",
            "            },\n",
            "            {\n",
            "                \"doi\": \"dg.4DFC/0110057d-83ac-4cc6-a547-1bc2d1f91d5c\",\n",
            "                \"source_DOI\": \"10.7937/K9/TCIA.2016.V6PBVTDR\"\n",
            "            },\n",
            "            {\n",
            "                \"doi\": \"dg.4DFC/01856791-a91b-4ea1-992c-6eb1a19fe0a7\",\n",
            "                \"source_DOI\": \"10.7937/K9/TCIA.2016.V6PBVTDR\"\n",
            "            }\n",
            "        ],\n",
            "        \"rowsReturned\": 10,\n",
            "        \"totalFound\": 1581\n",
            "    },\n",
            "    \"next_page\": \"gAAAAABf4TXa-IHzvz2TS6Z3DXVRpFcI9wyQgErmcKkS5CsEWJVlys0jeE645G48ueA7x38Ae2F37X38-T25vJllp_6A89U6XHteR3ECpEQ5lOPept3IC0kBZCSFXrafYEuvlaAiY_fUjRkQFW0hkDWH6tHJny0N4uT3zZngfTm7_zwHc-bRBK7XX-kz6Q4rrdWWq7ODHBxXoj0_2y-5XcWaoR7liW9AJzyu3QpUMYu8wVxqmAdP5B200IGpEeeSxmzdQxUpo2BYq4cmdqZssHHMuP0xiIT0q0cHlaG4pQo8gRf0zWgSSE02NhhJh_eyAd14W5LfQq60NWV75u3MPAFwffd7vE2avUgM9nkEuQGmpMDzFJFHi_Q=\"\n",
            "}\n"
          ],
          "name": "stdout"
        }
      ]
    },
    {
      "cell_type": "markdown",
      "metadata": {
        "id": "nEJtX2SpWsV6"
      },
      "source": [
        "As with POST `/cohorts/preview/manifest`, the returned next_page token can be used in subsequent calls to obtain additional data."
      ]
    },
    {
      "cell_type": "markdown",
      "metadata": {
        "id": "fU_0eXe_yEHL"
      },
      "source": [
        "Do not confuse the `source_DOI` returned value with the `doi` returned value. A `source_DOI` is the DOI of a TCIA page that describes the collection. A `source_DOI` can be resolved at https://doi.org.\n",
        "\n",
        "A `doi` can be resolved to a GA4GH DrsObject. Please refer to the [API](https://learn.canceridc.dev/api/getting-started) section of the [IDC User Guide](https://learn.canceridc.dev/ps://) for further information on DRSObjects and access methods."
      ]
    },
    {
      "cell_type": "markdown",
      "metadata": {
        "id": "lg_IXJBmutPi"
      },
      "source": [
        "##Example: GET /dicomMetadata"
      ]
    },
    {
      "cell_type": "markdown",
      "metadata": {
        "id": "ncD5NxpEvGox"
      },
      "source": [
        "For completeness, this last section reviews the GET /dicomMetadata endpoint. This endpoint returns a fixed selection of DICOM metadata for all instances in IDC DICOM data. It is intended for use by other CRDC resources that might need such information for the purpose of aggregating imaging data with other data types.\n",
        "\n",
        "Because it returns metadata on all DICOM instances, paging must be used to obtain the complete set of results."
      ]
    },
    {
      "cell_type": "code",
      "metadata": {
        "id": "FO20f53qwFQf",
        "outputId": "6bfb7834-00d0-4c30-addd-3e63b62f85d1",
        "colab": {
          "base_uri": "https://localhost:8080/"
        }
      },
      "source": [
        "query_string = dict(\n",
        "    page_size = 10\n",
        ")\n",
        "\n",
        "response = requests.get('{}/dicomMetadata'.format(idc_api_preamble, cohort_id),\n",
        "                      params=query_string, headers = head)\n",
        "\n",
        "# Check that there wasn't an error with the request\n",
        "if response.status_code != 200:\n",
        "    # Print the error code and message if something went wrong\n",
        "    print(response.json())\n",
        "\n",
        "print(json.dumps(response.json(), sort_keys=True, indent=4))"
      ],
      "execution_count": 99,
      "outputs": [
        {
          "output_type": "stream",
          "text": [
            "{\n",
            "    \"code\": 200,\n",
            "    \"next_page\": \"gAAAAABf4Te5KwsExgBRPjm0CF9leLi6R7o85yhYKfx3AEaEHyAmnf5HDa8lUGIizAsDwB_4vIIhkOqtGGnZWeIzBTcqCvPOEWrgFTF_3J4Ma9lBDj2XvLiY9YjQ4306K02de3sx0Qua9d7SGvNuKSZXqrQv8GH90qyaNcDbq3gs5QPnbnXRVXact0T22VvME_fFrgm6rNu8eWUaxfwiMY884hCr-0KxHuuLXMIC-TgGeyi5oGy97S8QIPDu8aHhh0ZFyi2qo0IqHKiOWmT4adzIMp4HSevwaYtnYPh6mGAH1AGUhnfGlx9me1e-pgm4f1LY8qaYDV8e\",\n",
            "    \"query_results\": {\n",
            "        \"json\": [\n",
            "            {\n",
            "                \"AdditionalPatientHistory\": \"rectal cancer 1.07 creatinine\",\n",
            "                \"Allergies\": [\n",
            "                    \"Facility APCFG\"\n",
            "                ],\n",
            "                \"BodyPartExamined\": \"RECTUM\",\n",
            "                \"EthnicGroup\": null,\n",
            "                \"ImageType\": [\n",
            "                    \"ORIGINAL\",\n",
            "                    \"PRIMARY\",\n",
            "                    \"M\",\n",
            "                    \"DIS2D\"\n",
            "                ],\n",
            "                \"LastMenstrualDate\": null,\n",
            "                \"MedicalAlerts\": [],\n",
            "                \"Modality\": \"MR\",\n",
            "                \"Occupation\": null,\n",
            "                \"PatientAge\": \"073Y\",\n",
            "                \"PatientComments\": null,\n",
            "                \"PatientID\": \"TCGA-BM-6198\",\n",
            "                \"PatientSize\": null,\n",
            "                \"PatientWeight\": \"181.43697108\",\n",
            "                \"PregnancyStatus\": \"4\",\n",
            "                \"ReasonForStudy\": \"rectal cancer 1.07 creatinine\",\n",
            "                \"RequestedProcedureComments\": null,\n",
            "                \"SOPClassUID\": \"1.2.840.10008.5.1.4.1.1.4\",\n",
            "                \"SOPInstanceUID\": \"1.3.6.1.4.1.14519.5.2.1.8421.4018.251602976666680072585660240398\",\n",
            "                \"SeriesInstanceUID\": \"1.3.6.1.4.1.14519.5.2.1.8421.4018.206096527423871496086339173610\",\n",
            "                \"SmokingStatus\": null,\n",
            "                \"Source_DOI\": \"10.7937/K9/TCIA.2016.F7PPNPNU\",\n",
            "                \"StudyID\": null,\n",
            "                \"StudyInstanceUID\": \"1.3.6.1.4.1.14519.5.2.1.8421.4018.304030957341830836628192929917\",\n",
            "                \"collection_id\": \"tcga_read\",\n",
            "                \"crdc_instance_uuid\": \"dg.4DFC/e95d7029-8597-46d7-83f5-dee63bf103bf\",\n",
            "                \"crdc_series_uuid\": \"\",\n",
            "                \"crdc_study_uuid\": \"\",\n",
            "                \"gcs_bucket\": \"idc-tcia-tcga-read\",\n",
            "                \"gcs_generation\": \"1592638262481853\",\n",
            "                \"gcs_url\": \"gs://idc-tcia-tcga-read/dicom/1.3.6.1.4.1.14519.5.2.1.8421.4018.304030957341830836628192929917/1.3.6.1.4.1.14519.5.2.1.8421.4018.206096527423871496086339173610/1.3.6.1.4.1.14519.5.2.1.8421.4018.251602976666680072585660240398.dcm#1592638262481853\",\n",
            "                \"tcia_tumorLocation\": \"Rectum\"\n",
            "            },\n",
            "            {\n",
            "                \"AdditionalPatientHistory\": \"THYROID CA\",\n",
            "                \"Allergies\": [],\n",
            "                \"BodyPartExamined\": \"THYROID\",\n",
            "                \"EthnicGroup\": null,\n",
            "                \"ImageType\": [\n",
            "                    \"DERIVED\",\n",
            "                    \"PRIMARY\",\n",
            "                    \"AXIAL\",\n",
            "                    \"CT_SOM5 SPI\"\n",
            "                ],\n",
            "                \"LastMenstrualDate\": null,\n",
            "                \"MedicalAlerts\": [],\n",
            "                \"Modality\": \"CT\",\n",
            "                \"Occupation\": null,\n",
            "                \"PatientAge\": \"052Y\",\n",
            "                \"PatientComments\": null,\n",
            "                \"PatientID\": \"TCGA-DE-A4MA\",\n",
            "                \"PatientSize\": null,\n",
            "                \"PatientWeight\": \"52.664\",\n",
            "                \"PregnancyStatus\": null,\n",
            "                \"ReasonForStudy\": \"THYROID CA\",\n",
            "                \"RequestedProcedureComments\": null,\n",
            "                \"SOPClassUID\": \"1.2.840.10008.5.1.4.1.1.2\",\n",
            "                \"SOPInstanceUID\": \"1.3.6.1.4.1.14519.5.2.1.8421.4019.166905859420077357922821185550\",\n",
            "                \"SeriesInstanceUID\": \"1.3.6.1.4.1.14519.5.2.1.8421.4019.325979970509091323558351270599\",\n",
            "                \"SmokingStatus\": null,\n",
            "                \"Source_DOI\": \"10.7937/K9/TCIA.2016.9ZFRVF1B\",\n",
            "                \"StudyID\": null,\n",
            "                \"StudyInstanceUID\": \"1.3.6.1.4.1.14519.5.2.1.8421.4019.282236827957743962330338017769\",\n",
            "                \"collection_id\": \"tcga_thca\",\n",
            "                \"crdc_instance_uuid\": \"dg.4DFC/32fc8c09-fac2-4f52-a074-6c0c02056bd3\",\n",
            "                \"crdc_series_uuid\": \"\",\n",
            "                \"crdc_study_uuid\": \"\",\n",
            "                \"gcs_bucket\": \"idc-tcia-tcga-thca\",\n",
            "                \"gcs_generation\": \"1592638433181415\",\n",
            "                \"gcs_url\": \"gs://idc-tcia-tcga-thca/dicom/1.3.6.1.4.1.14519.5.2.1.8421.4019.282236827957743962330338017769/1.3.6.1.4.1.14519.5.2.1.8421.4019.325979970509091323558351270599/1.3.6.1.4.1.14519.5.2.1.8421.4019.166905859420077357922821185550.dcm#1592638433181415\",\n",
            "                \"tcia_tumorLocation\": \"Thyroid\"\n",
            "            },\n",
            "            {\n",
            "                \"AdditionalPatientHistory\": \"R/O INTRABD  ABSCESS / BOWEL O BSTR\",\n",
            "                \"Allergies\": [\n",
            "                    \"Facility NSH\"\n",
            "                ],\n",
            "                \"BodyPartExamined\": \"COLON\",\n",
            "                \"EthnicGroup\": null,\n",
            "                \"ImageType\": [\n",
            "                    \"ORIGINAL\",\n",
            "                    \"PRIMARY\",\n",
            "                    \"AXIAL\",\n",
            "                    \"CT_SOM5 SPI\"\n",
            "                ],\n",
            "                \"LastMenstrualDate\": null,\n",
            "                \"MedicalAlerts\": [],\n",
            "                \"Modality\": \"CT\",\n",
            "                \"Occupation\": null,\n",
            "                \"PatientAge\": \"051Y\",\n",
            "                \"PatientComments\": null,\n",
            "                \"PatientID\": \"TCGA-AY-4070A\",\n",
            "                \"PatientSize\": null,\n",
            "                \"PatientWeight\": null,\n",
            "                \"PregnancyStatus\": \"4\",\n",
            "                \"ReasonForStudy\": \"R/O INTRABD  ABSCESS / BOWEL O BSTR\",\n",
            "                \"RequestedProcedureComments\": null,\n",
            "                \"SOPClassUID\": \"1.2.840.10008.5.1.4.1.1.2\",\n",
            "                \"SOPInstanceUID\": \"1.3.6.1.4.1.14519.5.2.1.8421.4017.230645598801813623691307916598\",\n",
            "                \"SeriesInstanceUID\": \"1.3.6.1.4.1.14519.5.2.1.8421.4017.787305079077841007172123472811\",\n",
            "                \"SmokingStatus\": null,\n",
            "                \"Source_DOI\": \"10.7937/K9/TCIA.2016.HJJHBOXZ\",\n",
            "                \"StudyID\": null,\n",
            "                \"StudyInstanceUID\": \"1.3.6.1.4.1.14519.5.2.1.8421.4017.206944705526266221852495854472\",\n",
            "                \"collection_id\": \"tcga_coad\",\n",
            "                \"crdc_instance_uuid\": \"dg.4DFC/3cabc901-9a11-4031-9edf-65a5df628caf\",\n",
            "                \"crdc_series_uuid\": \"\",\n",
            "                \"crdc_study_uuid\": \"\",\n",
            "                \"gcs_bucket\": \"idc-tcia-tcga-coad\",\n",
            "                \"gcs_generation\": \"1592632033027261\",\n",
            "                \"gcs_url\": \"gs://idc-tcia-tcga-coad/dicom/1.3.6.1.4.1.14519.5.2.1.8421.4017.206944705526266221852495854472/1.3.6.1.4.1.14519.5.2.1.8421.4017.787305079077841007172123472811/1.3.6.1.4.1.14519.5.2.1.8421.4017.230645598801813623691307916598.dcm#1592632033027261\",\n",
            "                \"tcia_tumorLocation\": \"Colon\"\n",
            "            },\n",
            "            {\n",
            "                \"AdditionalPatientHistory\": \"THYROID CANCER\",\n",
            "                \"Allergies\": [],\n",
            "                \"BodyPartExamined\": \"THYROID\",\n",
            "                \"EthnicGroup\": null,\n",
            "                \"ImageType\": [\n",
            "                    \"ORIGINAL\",\n",
            "                    \"PRIMARY\",\n",
            "                    \"AXIAL\"\n",
            "                ],\n",
            "                \"LastMenstrualDate\": null,\n",
            "                \"MedicalAlerts\": [],\n",
            "                \"Modality\": \"CT\",\n",
            "                \"Occupation\": null,\n",
            "                \"PatientAge\": \"079Y\",\n",
            "                \"PatientComments\": null,\n",
            "                \"PatientID\": \"TCGA-DE-A4MB\",\n",
            "                \"PatientSize\": null,\n",
            "                \"PatientWeight\": null,\n",
            "                \"PregnancyStatus\": null,\n",
            "                \"ReasonForStudy\": \"THYROID CANCER\",\n",
            "                \"RequestedProcedureComments\": null,\n",
            "                \"SOPClassUID\": \"1.2.840.10008.5.1.4.1.1.2\",\n",
            "                \"SOPInstanceUID\": \"1.3.6.1.4.1.14519.5.2.1.8421.4019.188391955652557268203682166609\",\n",
            "                \"SeriesInstanceUID\": \"1.3.6.1.4.1.14519.5.2.1.8421.4019.308375101980760067068641099801\",\n",
            "                \"SmokingStatus\": null,\n",
            "                \"Source_DOI\": \"10.7937/K9/TCIA.2016.9ZFRVF1B\",\n",
            "                \"StudyID\": null,\n",
            "                \"StudyInstanceUID\": \"1.3.6.1.4.1.14519.5.2.1.8421.4019.187141514354542547139832712859\",\n",
            "                \"collection_id\": \"tcga_thca\",\n",
            "                \"crdc_instance_uuid\": \"dg.4DFC/e7b1f776-247d-4a86-b887-1b6e639e4cff\",\n",
            "                \"crdc_series_uuid\": \"\",\n",
            "                \"crdc_study_uuid\": \"\",\n",
            "                \"gcs_bucket\": \"idc-tcia-tcga-thca\",\n",
            "                \"gcs_generation\": \"1592638422459494\",\n",
            "                \"gcs_url\": \"gs://idc-tcia-tcga-thca/dicom/1.3.6.1.4.1.14519.5.2.1.8421.4019.187141514354542547139832712859/1.3.6.1.4.1.14519.5.2.1.8421.4019.308375101980760067068641099801/1.3.6.1.4.1.14519.5.2.1.8421.4019.188391955652557268203682166609.dcm#1592638422459494\",\n",
            "                \"tcia_tumorLocation\": \"Thyroid\"\n",
            "            },\n",
            "            {\n",
            "                \"AdditionalPatientHistory\": null,\n",
            "                \"Allergies\": [],\n",
            "                \"BodyPartExamined\": null,\n",
            "                \"EthnicGroup\": null,\n",
            "                \"ImageType\": [],\n",
            "                \"LastMenstrualDate\": null,\n",
            "                \"MedicalAlerts\": [],\n",
            "                \"Modality\": \"SR\",\n",
            "                \"Occupation\": null,\n",
            "                \"PatientAge\": \"029Y\",\n",
            "                \"PatientComments\": null,\n",
            "                \"PatientID\": \"ISPY1_1137\",\n",
            "                \"PatientSize\": null,\n",
            "                \"PatientWeight\": null,\n",
            "                \"PregnancyStatus\": null,\n",
            "                \"ReasonForStudy\": null,\n",
            "                \"RequestedProcedureComments\": null,\n",
            "                \"SOPClassUID\": \"1.2.840.10008.5.1.4.1.1.88.33\",\n",
            "                \"SOPInstanceUID\": \"1.3.6.1.4.1.5962.1.1.0.0.0.1548529146.50549.761\",\n",
            "                \"SeriesInstanceUID\": \"1.3.6.1.4.1.5962.1.1.0.0.1548529146.50549.761\",\n",
            "                \"SmokingStatus\": null,\n",
            "                \"Source_DOI\": \"10.7937/TCIA.2019.wgllssg1\",\n",
            "                \"StudyID\": null,\n",
            "                \"StudyInstanceUID\": \"1.3.6.1.4.1.14519.5.2.1.7695.1700.309950789848351610152790014305\",\n",
            "                \"collection_id\": \"ispy1\",\n",
            "                \"crdc_instance_uuid\": \"dg.4DFC/84f8072f-5e73-44c7-8426-45e75f743559\",\n",
            "                \"crdc_series_uuid\": \"\",\n",
            "                \"crdc_study_uuid\": \"\",\n",
            "                \"gcs_bucket\": \"idc-tcia-ispy1\",\n",
            "                \"gcs_generation\": \"1592598550465101\",\n",
            "                \"gcs_url\": \"gs://idc-tcia-ispy1/dicom/1.3.6.1.4.1.14519.5.2.1.7695.1700.309950789848351610152790014305/1.3.6.1.4.1.5962.1.1.0.0.1548529146.50549.761/1.3.6.1.4.1.5962.1.1.0.0.0.1548529146.50549.761.dcm#1592598550465101\",\n",
            "                \"tcia_tumorLocation\": \"Breast\"\n",
            "            },\n",
            "            {\n",
            "                \"AdditionalPatientHistory\": null,\n",
            "                \"Allergies\": [],\n",
            "                \"BodyPartExamined\": \"CHEST\",\n",
            "                \"EthnicGroup\": null,\n",
            "                \"ImageType\": [\n",
            "                    \"DERIVED\",\n",
            "                    \"PRIMARY\"\n",
            "                ],\n",
            "                \"LastMenstrualDate\": null,\n",
            "                \"MedicalAlerts\": [],\n",
            "                \"Modality\": \"SEG\",\n",
            "                \"Occupation\": null,\n",
            "                \"PatientAge\": null,\n",
            "                \"PatientComments\": null,\n",
            "                \"PatientID\": \"LIDC-IDRI-0571\",\n",
            "                \"PatientSize\": null,\n",
            "                \"PatientWeight\": null,\n",
            "                \"PregnancyStatus\": null,\n",
            "                \"ReasonForStudy\": null,\n",
            "                \"RequestedProcedureComments\": null,\n",
            "                \"SOPClassUID\": \"1.2.840.10008.5.1.4.1.1.66.4\",\n",
            "                \"SOPInstanceUID\": \"1.2.276.0.7230010.3.1.4.0.38229.1553322316.335005\",\n",
            "                \"SeriesInstanceUID\": \"1.2.276.0.7230010.3.1.3.0.38229.1553322316.335004\",\n",
            "                \"SmokingStatus\": null,\n",
            "                \"Source_DOI\": \"10.7937/TCIA.2018.h7umfurq\",\n",
            "                \"StudyID\": null,\n",
            "                \"StudyInstanceUID\": \"1.3.6.1.4.1.14519.5.2.1.6279.6001.314071149857693870088107222867\",\n",
            "                \"collection_id\": \"lidc_idri\",\n",
            "                \"crdc_instance_uuid\": \"dg.4DFC/0525cd27-24d2-4eca-b3de-2857a8843f6e\",\n",
            "                \"crdc_series_uuid\": \"\",\n",
            "                \"crdc_study_uuid\": \"\",\n",
            "                \"gcs_bucket\": \"idc-tcia-lidc-idri\",\n",
            "                \"gcs_generation\": \"1592618652338560\",\n",
            "                \"gcs_url\": \"gs://idc-tcia-lidc-idri/dicom/1.3.6.1.4.1.14519.5.2.1.6279.6001.314071149857693870088107222867/1.2.276.0.7230010.3.1.3.0.38229.1553322316.335004/1.2.276.0.7230010.3.1.4.0.38229.1553322316.335005.dcm#1592618652338560\",\n",
            "                \"tcia_tumorLocation\": \"Chest\"\n",
            "            },\n",
            "            {\n",
            "                \"AdditionalPatientHistory\": \"RT NECK MASS\",\n",
            "                \"Allergies\": [],\n",
            "                \"BodyPartExamined\": \"THYROID\",\n",
            "                \"EthnicGroup\": null,\n",
            "                \"ImageType\": [\n",
            "                    \"ORIGINAL\",\n",
            "                    \"PRIMARY\",\n",
            "                    \"AXIAL\"\n",
            "                ],\n",
            "                \"LastMenstrualDate\": null,\n",
            "                \"MedicalAlerts\": [],\n",
            "                \"Modality\": \"CT\",\n",
            "                \"Occupation\": null,\n",
            "                \"PatientAge\": \"071Y\",\n",
            "                \"PatientComments\": null,\n",
            "                \"PatientID\": \"TCGA-DE-A4MD\",\n",
            "                \"PatientSize\": null,\n",
            "                \"PatientWeight\": null,\n",
            "                \"PregnancyStatus\": null,\n",
            "                \"ReasonForStudy\": \"RT NECK MASS\",\n",
            "                \"RequestedProcedureComments\": null,\n",
            "                \"SOPClassUID\": \"1.2.840.10008.5.1.4.1.1.2\",\n",
            "                \"SOPInstanceUID\": \"1.3.6.1.4.1.14519.5.2.1.8421.4019.121918127271410228275358342582\",\n",
            "                \"SeriesInstanceUID\": \"1.3.6.1.4.1.14519.5.2.1.8421.4019.142014692176660224675018662578\",\n",
            "                \"SmokingStatus\": null,\n",
            "                \"Source_DOI\": \"10.7937/K9/TCIA.2016.9ZFRVF1B\",\n",
            "                \"StudyID\": null,\n",
            "                \"StudyInstanceUID\": \"1.3.6.1.4.1.14519.5.2.1.8421.4019.291746741815681058731047886323\",\n",
            "                \"collection_id\": \"tcga_thca\",\n",
            "                \"crdc_instance_uuid\": \"dg.4DFC/a9cbaff5-371c-4dae-aa44-215ab15e83b6\",\n",
            "                \"crdc_series_uuid\": \"\",\n",
            "                \"crdc_study_uuid\": \"\",\n",
            "                \"gcs_bucket\": \"idc-tcia-tcga-thca\",\n",
            "                \"gcs_generation\": \"1592638438832857\",\n",
            "                \"gcs_url\": \"gs://idc-tcia-tcga-thca/dicom/1.3.6.1.4.1.14519.5.2.1.8421.4019.291746741815681058731047886323/1.3.6.1.4.1.14519.5.2.1.8421.4019.142014692176660224675018662578/1.3.6.1.4.1.14519.5.2.1.8421.4019.121918127271410228275358342582.dcm#1592638438832857\",\n",
            "                \"tcia_tumorLocation\": \"Thyroid\"\n",
            "            },\n",
            "            {\n",
            "                \"AdditionalPatientHistory\": \"THYROID CA\",\n",
            "                \"Allergies\": [],\n",
            "                \"BodyPartExamined\": \"THYROID\",\n",
            "                \"EthnicGroup\": null,\n",
            "                \"ImageType\": [\n",
            "                    \"DERIVED\",\n",
            "                    \"PRIMARY\",\n",
            "                    \"AXIAL\",\n",
            "                    \"CT_SOM5 SPI\"\n",
            "                ],\n",
            "                \"LastMenstrualDate\": null,\n",
            "                \"MedicalAlerts\": [],\n",
            "                \"Modality\": \"CT\",\n",
            "                \"Occupation\": null,\n",
            "                \"PatientAge\": \"052Y\",\n",
            "                \"PatientComments\": null,\n",
            "                \"PatientID\": \"TCGA-DE-A4MA\",\n",
            "                \"PatientSize\": null,\n",
            "                \"PatientWeight\": \"52.664\",\n",
            "                \"PregnancyStatus\": null,\n",
            "                \"ReasonForStudy\": \"THYROID CA\",\n",
            "                \"RequestedProcedureComments\": null,\n",
            "                \"SOPClassUID\": \"1.2.840.10008.5.1.4.1.1.2\",\n",
            "                \"SOPInstanceUID\": \"1.3.6.1.4.1.14519.5.2.1.8421.4019.759336039910105247868434192355\",\n",
            "                \"SeriesInstanceUID\": \"1.3.6.1.4.1.14519.5.2.1.8421.4019.731935796752482583351630785383\",\n",
            "                \"SmokingStatus\": null,\n",
            "                \"Source_DOI\": \"10.7937/K9/TCIA.2016.9ZFRVF1B\",\n",
            "                \"StudyID\": null,\n",
            "                \"StudyInstanceUID\": \"1.3.6.1.4.1.14519.5.2.1.8421.4019.282236827957743962330338017769\",\n",
            "                \"collection_id\": \"tcga_thca\",\n",
            "                \"crdc_instance_uuid\": \"dg.4DFC/872c7d5f-2037-448b-9063-0a7c161edbf5\",\n",
            "                \"crdc_series_uuid\": \"\",\n",
            "                \"crdc_study_uuid\": \"\",\n",
            "                \"gcs_bucket\": \"idc-tcia-tcga-thca\",\n",
            "                \"gcs_generation\": \"1592638437646848\",\n",
            "                \"gcs_url\": \"gs://idc-tcia-tcga-thca/dicom/1.3.6.1.4.1.14519.5.2.1.8421.4019.282236827957743962330338017769/1.3.6.1.4.1.14519.5.2.1.8421.4019.731935796752482583351630785383/1.3.6.1.4.1.14519.5.2.1.8421.4019.759336039910105247868434192355.dcm#1592638437646848\",\n",
            "                \"tcia_tumorLocation\": \"Thyroid\"\n",
            "            },\n",
            "            {\n",
            "                \"AdditionalPatientHistory\": \"Colon Ca\",\n",
            "                \"Allergies\": [\n",
            "                    \"Facility NSH\"\n",
            "                ],\n",
            "                \"BodyPartExamined\": \"COLON\",\n",
            "                \"EthnicGroup\": null,\n",
            "                \"ImageType\": [\n",
            "                    \"ORIGINAL\",\n",
            "                    \"PRIMARY\",\n",
            "                    \"AXIAL\",\n",
            "                    \"CT_SOM5 SPI\"\n",
            "                ],\n",
            "                \"LastMenstrualDate\": null,\n",
            "                \"MedicalAlerts\": [],\n",
            "                \"Modality\": \"CT\",\n",
            "                \"Occupation\": null,\n",
            "                \"PatientAge\": \"060Y\",\n",
            "                \"PatientComments\": null,\n",
            "                \"PatientID\": \"TCGA-AY-6197A\",\n",
            "                \"PatientSize\": null,\n",
            "                \"PatientWeight\": null,\n",
            "                \"PregnancyStatus\": \"4\",\n",
            "                \"ReasonForStudy\": \"Colon Ca\",\n",
            "                \"RequestedProcedureComments\": null,\n",
            "                \"SOPClassUID\": \"1.2.840.10008.5.1.4.1.1.2\",\n",
            "                \"SOPInstanceUID\": \"1.3.6.1.4.1.14519.5.2.1.8421.4017.118320496016675068414629483860\",\n",
            "                \"SeriesInstanceUID\": \"1.3.6.1.4.1.14519.5.2.1.8421.4017.245658957426059350316298922271\",\n",
            "                \"SmokingStatus\": null,\n",
            "                \"Source_DOI\": \"10.7937/K9/TCIA.2016.HJJHBOXZ\",\n",
            "                \"StudyID\": null,\n",
            "                \"StudyInstanceUID\": \"1.3.6.1.4.1.14519.5.2.1.8421.4017.278867284926847514966204150415\",\n",
            "                \"collection_id\": \"tcga_coad\",\n",
            "                \"crdc_instance_uuid\": \"dg.4DFC/f38b361f-9d90-47c8-acfe-6e8e6054b712\",\n",
            "                \"crdc_series_uuid\": \"\",\n",
            "                \"crdc_study_uuid\": \"\",\n",
            "                \"gcs_bucket\": \"idc-tcia-tcga-coad\",\n",
            "                \"gcs_generation\": \"1592632034184581\",\n",
            "                \"gcs_url\": \"gs://idc-tcia-tcga-coad/dicom/1.3.6.1.4.1.14519.5.2.1.8421.4017.278867284926847514966204150415/1.3.6.1.4.1.14519.5.2.1.8421.4017.245658957426059350316298922271/1.3.6.1.4.1.14519.5.2.1.8421.4017.118320496016675068414629483860.dcm#1592632034184581\",\n",
            "                \"tcia_tumorLocation\": \"Colon\"\n",
            "            },\n",
            "            {\n",
            "                \"AdditionalPatientHistory\": \"rectal cancer 1.07 creatinine\",\n",
            "                \"Allergies\": [\n",
            "                    \"Facility APCFG\"\n",
            "                ],\n",
            "                \"BodyPartExamined\": \"RECTUM\",\n",
            "                \"EthnicGroup\": null,\n",
            "                \"ImageType\": [\n",
            "                    \"ORIGINAL\",\n",
            "                    \"PRIMARY\",\n",
            "                    \"M\",\n",
            "                    \"DIS2D\"\n",
            "                ],\n",
            "                \"LastMenstrualDate\": null,\n",
            "                \"MedicalAlerts\": [],\n",
            "                \"Modality\": \"MR\",\n",
            "                \"Occupation\": null,\n",
            "                \"PatientAge\": \"073Y\",\n",
            "                \"PatientComments\": null,\n",
            "                \"PatientID\": \"TCGA-BM-6198\",\n",
            "                \"PatientSize\": null,\n",
            "                \"PatientWeight\": \"181.43697108\",\n",
            "                \"PregnancyStatus\": \"4\",\n",
            "                \"ReasonForStudy\": \"rectal cancer 1.07 creatinine\",\n",
            "                \"RequestedProcedureComments\": null,\n",
            "                \"SOPClassUID\": \"1.2.840.10008.5.1.4.1.1.4\",\n",
            "                \"SOPInstanceUID\": \"1.3.6.1.4.1.14519.5.2.1.8421.4018.279169637741858872928333459258\",\n",
            "                \"SeriesInstanceUID\": \"1.3.6.1.4.1.14519.5.2.1.8421.4018.301320830844520665152702137480\",\n",
            "                \"SmokingStatus\": null,\n",
            "                \"Source_DOI\": \"10.7937/K9/TCIA.2016.F7PPNPNU\",\n",
            "                \"StudyID\": null,\n",
            "                \"StudyInstanceUID\": \"1.3.6.1.4.1.14519.5.2.1.8421.4018.304030957341830836628192929917\",\n",
            "                \"collection_id\": \"tcga_read\",\n",
            "                \"crdc_instance_uuid\": \"dg.4DFC/6d34fbd1-a41a-46d3-b798-d83b1c270d10\",\n",
            "                \"crdc_series_uuid\": \"\",\n",
            "                \"crdc_study_uuid\": \"\",\n",
            "                \"gcs_bucket\": \"idc-tcia-tcga-read\",\n",
            "                \"gcs_generation\": \"1592638269062080\",\n",
            "                \"gcs_url\": \"gs://idc-tcia-tcga-read/dicom/1.3.6.1.4.1.14519.5.2.1.8421.4018.304030957341830836628192929917/1.3.6.1.4.1.14519.5.2.1.8421.4018.301320830844520665152702137480/1.3.6.1.4.1.14519.5.2.1.8421.4018.279169637741858872928333459258.dcm#1592638269062080\",\n",
            "                \"tcia_tumorLocation\": \"Rectum\"\n",
            "            }\n",
            "        ],\n",
            "        \"rowsReturned\": 10,\n",
            "        \"totalFound\": 3075233\n",
            "    }\n",
            "}\n"
          ],
          "name": "stdout"
        }
      ]
    }
  ]
}