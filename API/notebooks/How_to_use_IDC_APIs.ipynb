{
  "nbformat": 4,
  "nbformat_minor": 0,
  "metadata": {
    "colab": {
      "name": "How_to_use_IDC_APIs.ipynb",
      "provenance": [],
      "authorship_tag": "ABX9TyPAVUsw2ZidtCcT4g41Hre6",
      "include_colab_link": true
    },
    "kernelspec": {
      "name": "python3",
      "display_name": "Python 3"
    }
  },
  "cells": [
    {
      "cell_type": "markdown",
      "metadata": {
        "id": "view-in-github",
        "colab_type": "text"
      },
      "source": [
        "<a href=\"https://colab.research.google.com/github/ImagingDataCommons/IDC-Examples/blob/master/API/notebooks/How_to_use_IDC_APIs.ipynb\" target=\"_parent\"><img src=\"https://colab.research.google.com/assets/colab-badge.svg\" alt=\"Open In Colab\"/></a>"
      ]
    },
    {
      "cell_type": "markdown",
      "metadata": {
        "id": "7r7hxORgipCk"
      },
      "source": [
        "# How to Use the IDC APIs"
      ]
    },
    {
      "cell_type": "markdown",
      "metadata": {
        "id": "-R7dcBPHjB9b"
      },
      "source": [
        "## Overview of this notebook\n",
        "This notebook is designed as a quick introduction to the IDC APIs and how to access them with Python.\n",
        "\n",
        "Topics covered:\n",
        "* Overviews of APIs, Swagger, JSON, endpoints\n",
        "* Use cases for IDC APIs\n",
        "* Examples of IDC API endpoints"
      ]
    },
    {
      "cell_type": "markdown",
      "metadata": {
        "id": "6BPfIN_KjVSP"
      },
      "source": [
        "### Overview of APIs\n",
        "An API or application-programming interface is a software intermediary that allows two applications to talk to each other. In other words, an API is the messenger that delivers your request to the provider that you’re requesting it from and then delivers the response back to you [(Wikipedia)](https://en.wikipedia.org/wiki/Application_programming_interface). Each action that an API can take is called an \"endpoint\".\n",
        "\n",
        "Some useful tutorials and quick start guides on APIs are:\n",
        "* [GDC's Getting Started guide for APIs](https://docs.gdc.cancer.gov/API/Users_Guide/Getting_Started/)\n",
        "* [API Integration in Python](https://realpython.com/api-integration-in-python/)\n",
        "* [Python API Tutorial: Getting Started with APIs](https://www.dataquest.io/blog/python-api-tutorial/)"
      ]
    },
    {
      "cell_type": "markdown",
      "metadata": {
        "id": "0pvtxR9piA8d"
      },
      "source": [
        "### What is an HTTP Message?\n",
        "\n",
        "Clients and the IDC API server communicate via HTTP messages. An overview of HTTP messaging can be found [here](https://developer.mozilla.org/en-US/docs/Web/HTTP/Messages)."
      ]
    },
    {
      "cell_type": "markdown",
      "metadata": {
        "id": "XwOE_7aXkIqD"
      },
      "source": [
        "### What is JSON?\n",
        "\n",
        "JSON  or JavaScript Object Notation is a lightweight data-interchange format that is easy for humans and machines to work with. More information can be found at [json.org](https://www.json.org/)."
      ]
    },
    {
      "cell_type": "markdown",
      "metadata": {
        "id": "xA89089NjvXG"
      },
      "source": [
        "### What is SwaggerUI?\n",
        "\n",
        "[SwaggerUI](https://swagger.io/tools/swagger-ui/) is a user interface that allows users to try out the APIs and view their documentation easily. You can access the IDC API SwaggerUI [here](https://api-dot-idc-dev.appspot.com/v1/swagger)."
      ]
    },
    {
      "cell_type": "markdown",
      "metadata": {
        "id": "BKVdyqJIj3Vv"
      },
      "source": [
        "### What is an endpoint?\n",
        "\n",
        "An endpoint is the *call* for a specific functionally of an API. For example, `/collections` at the end of the API request URL `https://api-dot-idc.appspot.com/v1/collections` is an endpoint that returns (or GETs) information about the available collections."
      ]
    },
    {
      "cell_type": "markdown",
      "metadata": {
        "id": "lUBjUmW0b4yM"
      },
      "source": [
        "###IDC API Documentation\n",
        "\n",
        "Detailed documentation on the IDC API can be found in the [API](https://learn.canceridc.dev/api/getting-started) section of the [IDC User Guide](https://learn.canceridc.dev/ps://)."
      ]
    },
    {
      "cell_type": "markdown",
      "metadata": {
        "id": "q2oDuqk-m_n9"
      },
      "source": [
        "### IDC API URL Preamble\n",
        "We define the IDC API URL preamble as a variable so that we can easily change it."
      ]
    },
    {
      "cell_type": "code",
      "metadata": {
        "id": "6YJby7wJnYE7"
      },
      "source": [
        "idc_api_preamble = 'https://api-dot-idc-dev.appspot.com/v1'"
      ],
      "execution_count": 2,
      "outputs": []
    },
    {
      "cell_type": "markdown",
      "metadata": {
        "id": "EwGFbzkqk--J"
      },
      "source": [
        "### Python library `requests`\n",
        "\n",
        "In order to use the IDC APIs with Python, the `requests` library needs to be installed and then imported."
      ]
    },
    {
      "cell_type": "code",
      "metadata": {
        "id": "TV37C4SrlHvD"
      },
      "source": [
        "# Install requests if needed\n",
        "# pip install requests\n",
        "\n",
        "# Import the requests library\n",
        "import requests"
      ],
      "execution_count": 3,
      "outputs": []
    },
    {
      "cell_type": "markdown",
      "metadata": {
        "id": "AcCF8X0mlLup"
      },
      "source": [
        "## Use cases for IDC APIs\n",
        "\n",
        "The IDC APIs can be used for a number of different tasks for interacting with the Google Cloud Platform and BigQuery. It can be used to subset data into cohorts or to access cohorts that have been created using the IDC WebApp. The location of the DICOM objects associated with a cohort can be obtained."
      ]
    },
    {
      "cell_type": "markdown",
      "metadata": {
        "id": "uCce3LIXmGgc"
      },
      "source": [
        "## Example: GET `/about` Endpoint\n",
        "\n"
      ]
    },
    {
      "cell_type": "markdown",
      "metadata": {
        "id": "kbA3GWUSmPlr"
      },
      "source": [
        "We are first going to explore the `about` endpoint using the 'GET' request to the API. This API will give you such information about the IDC API as links to the Swagger UI interface and to the IDC User Guide."
      ]
    },
    {
      "cell_type": "code",
      "metadata": {
        "id": "C3Ixom20mVrh"
      },
      "source": [
        "# First submit the 'get' request to the API\n",
        "about_req = requests.get('{}/about'.format(idc_api_preamble))"
      ],
      "execution_count": 4,
      "outputs": []
    },
    {
      "cell_type": "markdown",
      "metadata": {
        "id": "UicHIX71kLw3"
      },
      "source": [
        "Now that we have the request response, we are going to check that we didn't receive an error code or if the request was successful. If the request was successful, then the status code will come back as 200 but if something went wrong then the status code may be something 404 or 503. If you have recieved any error codes, you can check out Google's Troubleshooting response errors guide.\n",
        "\n"
      ]
    },
    {
      "cell_type": "code",
      "metadata": {
        "id": "3UORb5Pqoh0I"
      },
      "source": [
        "# Check that there wasn't an error with the request\n",
        "if about_req.status_code != 200:\n",
        "  # Print the error code if something went wrong\n",
        "  print(about_req.status_code)"
      ],
      "execution_count": 5,
      "outputs": []
    },
    {
      "cell_type": "markdown",
      "metadata": {
        "id": "2EtWVhfyoreK"
      },
      "source": [
        "Finally, we will print out the information that we have received from the API. This response returns as a dictionary though responses can also be a combination of dictionaries and lists depending on which endpoint is called. This means that you can access different data in the response the same way that you would access dictionaries and lists as demonstarted below."
      ]
    },
    {
      "cell_type": "code",
      "metadata": {
        "id": "VdfTOEQeouiL",
        "colab": {
          "base_uri": "https://localhost:8080/"
        },
        "outputId": "b1af2e62-0e46-47fb-bd42-4c251d410285"
      },
      "source": [
        "# Print the full response\n",
        "print(\"Full response:\\n\")\n",
        "print(about_req.json(), end='\\n\\n')\n",
        "\n",
        "# Print the message portion of the response\n",
        "print(\"Message:\\n\")\n",
        "print(about_req.json()['message'], end='\\n\\n')\n",
        "\n",
        "# Print the documentation portion of the response\n",
        "print(\"Documentation:\\n\")\n",
        "print(about_req.json()['documentation'])"
      ],
      "execution_count": 7,
      "outputs": [
        {
          "output_type": "stream",
          "text": [
            "Full response:\n",
            "\n",
            "{'code': 200, 'documentation': 'SwaggerUI interface available at <https://api-dot-idc-dev.appspot.com/v1/swagger/>.Documentation available at <https://https://app.gitbook.com/login/imagingdatacommons/idc-user-guide>', 'message': 'Welcome to the NCI IDC API, Version 1'}\n",
            "\n",
            "Message:\n",
            "\n",
            "Welcome to the NCI IDC API, Version 1\n",
            "\n",
            "Documentation:\n",
            "\n",
            "SwaggerUI interface available at <https://api-dot-idc-dev.appspot.com/v1/swagger/>.Documentation available at <https://https://app.gitbook.com/login/imagingdatacommons/idc-user-guide>\n"
          ],
          "name": "stdout"
        }
      ]
    },
    {
      "cell_type": "markdown",
      "metadata": {
        "id": "6_6wZG1ipAbZ"
      },
      "source": [
        "The requests library makes it easy to use the APIs! Next we will cover a few of the other informational APIs."
      ]
    },
    {
      "cell_type": "markdown",
      "metadata": {
        "id": "p6eV4z_IpZgH"
      },
      "source": [
        "## Example: GET `/versions` endpoint"
      ]
    },
    {
      "cell_type": "markdown",
      "metadata": {
        "id": "pil_CrXbpvIY"
      },
      "source": [
        "Over time, the set of data hosted by the IDC will change. For the most part, such changes will be due to new data having been added. The totality of IDC hosted data resulting from any such change is represented by a unique IDC data version ID. That is, each time that the set of publicly available data changes, a new IDC version is created that exactly defines the revised data set. \n",
        "\n",
        "The IDC data version is intended to enable the reproducibility of research results. For example, consider a patient in the DICOM data model. Over time, new studies might be performed on a patient and become associated with that patient, and the corresponding DICOM instances added to the IDC hosted data. Moreover, additional patients might well be added to the IDC data set over time. This means that the set of subjects defined by some filter set will change over time. Thus, for purposes of reproducibility, we define a cohort in terms of a filter set and an IDC data version.\n",
        "\n",
        "The `/versions` endpoint returns information about the defined IDC versions. This information includes the data sources (BQ tables) containing the data of each version, as well as the set of programs (sets of collections) belonging to a version. This endpoint returns a more complicated JSON object which has a combination of lists and dictionaries. We will first retrieve the request and then view if there was an error code within the response."
      ]
    },
    {
      "cell_type": "code",
      "metadata": {
        "id": "kEMvm_xwssF0"
      },
      "source": [
        "# Retrieve the response from the API endpoint\n",
        "versions_req = requests.get('{}/versions'.format(idc_api_preamble))\n",
        "\n",
        "# Check that there wasn't an error with the request\n",
        "if versions_req.status_code != 200:\n",
        "  # Print the error code and message if something went wrong\n",
        "  print(versions_req.json())  # Print the error code if something went wrong"
      ],
      "execution_count": 13,
      "outputs": []
    },
    {
      "cell_type": "markdown",
      "metadata": {
        "id": "tS006JqLtFDT"
      },
      "source": [
        "We are going to use the `json` library in order to view the response more easily."
      ]
    },
    {
      "cell_type": "code",
      "metadata": {
        "id": "fYsQegsStPED"
      },
      "source": [
        "# Install requests if needed\n",
        "# pip install requests\n",
        "\n",
        "# install pip json\n",
        "import json"
      ],
      "execution_count": 14,
      "outputs": []
    },
    {
      "cell_type": "code",
      "metadata": {
        "id": "rZ8g6HOYtXDD",
        "colab": {
          "base_uri": "https://localhost:8080/"
        },
        "outputId": "5e9c71d8-a7ba-4c89-c176-8ffb1c681800"
      },
      "source": [
        "# Create a variable with the JSON output\n",
        "versions_json = json.dumps(versions_req.json(), sort_keys=True, indent=4)\n",
        "\n",
        "# Print the versions JSON text\n",
        "print(versions_json)"
      ],
      "execution_count": 15,
      "outputs": [
        {
          "output_type": "stream",
          "text": [
            "{\n",
            "    \"code\": 200,\n",
            "    \"versions\": [\n",
            "        {\n",
            "            \"active\": true,\n",
            "            \"data_sources\": [\n",
            "                {\n",
            "                    \"data_type\": \"Clinical, Biospecimen, and Mutation Data\",\n",
            "                    \"name\": \"isb-cgc.TCGA_bioclin_v0.Biospecimen\"\n",
            "                },\n",
            "                {\n",
            "                    \"data_type\": \"Clinical, Biospecimen, and Mutation Data\",\n",
            "                    \"name\": \"isb-cgc.TCGA_bioclin_v0.clinical_v1\"\n",
            "                },\n",
            "                {\n",
            "                    \"data_type\": \"Image Data\",\n",
            "                    \"name\": \"idc-dev.metadata.dicom_pivot_wave1\"\n",
            "                }\n",
            "            ],\n",
            "            \"date_active\": \"2020-10-06\",\n",
            "            \"idc_data_version\": \"1.0\",\n",
            "            \"programs\": [\n",
            "                {\n",
            "                    \"description\": null,\n",
            "                    \"name\": \"The Cancer Genome Atlas\",\n",
            "                    \"short_name\": \"TCGA\"\n",
            "                },\n",
            "                {\n",
            "                    \"description\": null,\n",
            "                    \"name\": \"Quantitative Imagine Network\",\n",
            "                    \"short_name\": \"QIN\"\n",
            "                },\n",
            "                {\n",
            "                    \"description\": null,\n",
            "                    \"name\": \"I-SPY TRIAL\",\n",
            "                    \"short_name\": \"ISPY\"\n",
            "                },\n",
            "                {\n",
            "                    \"description\": null,\n",
            "                    \"name\": \"Lung Image Database Consortium\",\n",
            "                    \"short_name\": \"LIDC\"\n",
            "                },\n",
            "                {\n",
            "                    \"description\": null,\n",
            "                    \"name\": \"NSCLC-Radiomics\",\n",
            "                    \"short_name\": \"NSCLCR\"\n",
            "                }\n",
            "            ]\n",
            "        }\n",
            "    ]\n",
            "}\n"
          ],
          "name": "stdout"
        }
      ]
    },
    {
      "cell_type": "markdown",
      "metadata": {
        "id": "HnyYUezztRGU"
      },
      "source": [
        "The returned data is a combination of dictionaries and lists. We see  that, as of this writing, there is a single IDC version, \"1.0\", that was activated on 2020-10-06. Next we will iterate over the JSON object to neatly list the data sources and programs in each version."
      ]
    },
    {
      "cell_type": "code",
      "metadata": {
        "id": "z-Z_1ASllPq8",
        "colab": {
          "base_uri": "https://localhost:8080/"
        },
        "outputId": "05c62436-f3c7-4b6b-b562-e100100a1bd2"
      },
      "source": [
        "# Print out the number of IDC data versions\n",
        "print('Number of IDC data versions: {}'.format(len(versions_req.json()['versions'])))\n",
        "\n",
        "#...and for each version, print out a count of the version's programs, and a list of program names.\n",
        "for version in versions_req.json()['versions']:\n",
        "  print('version {} has {} programs:'.format(version['idc_data_version'], len(version['programs'])))\n",
        "  for program in version['programs']:\n",
        "    print('\\tProgram short name {}, full name {}'.format(program['short_name'],program['name']))\n"
      ],
      "execution_count": 16,
      "outputs": [
        {
          "output_type": "stream",
          "text": [
            "Number of IDC data versions: 1\n",
            "version 1.0 has 5 programs:\n",
            "\tProgram short name TCGA, full name The Cancer Genome Atlas\n",
            "\tProgram short name QIN, full name Quantitative Imagine Network\n",
            "\tProgram short name ISPY, full name I-SPY TRIAL\n",
            "\tProgram short name LIDC, full name Lung Image Database Consortium\n",
            "\tProgram short name NSCLCR, full name NSCLC-Radiomics\n"
          ],
          "name": "stdout"
        }
      ]
    },
    {
      "cell_type": "markdown",
      "metadata": {
        "id": "e_Ex8JRly0QH"
      },
      "source": [
        "## Example: GET `/collections` endpoint"
      ]
    },
    {
      "cell_type": "markdown",
      "metadata": {
        "id": "Ol6C9O-JxYz1"
      },
      "source": [
        "A *collection* is a set of DICOM data provided by a single source. Collections are further categorized as Original collections or Analysis collections. \n",
        "\n",
        "Original collections are comprised primarily of DICOM image data that was obtained from some set of patients. Typically, the patients in an Original collection are related by a common disease.\n",
        "\n",
        "Analysis collections are comprised of derived DICOM data that was generated by analyzing other (typically Original) collections. Typically such analysis is performed by a different entity than that which provided the original collection(s) on which the analysis is based. Examples of data in analysis collections include segmentations, annotations and further processing of original images. Note that some Original collections include such data, though most of the data in Original collections are original images.\n",
        "Programs\n",
        "\n",
        "The programs that we listed above are sets of original collections. The collections in a program are produced by a single source. Some programs provide additional non-imaging data. For example, the TCGA program provides extensive ancillary clinical and genomics data about each of the patients in the program. \n",
        "\n",
        "The /collections endpoint returns data about collections in a specified program for some IDC data version. If no collection is specified, it returns data about about the collections in all programs for some IDC data version. If a version is not specified then /collections defaults to the current IDC data version.\n"
      ]
    },
    {
      "cell_type": "markdown",
      "metadata": {
        "id": "9YiST8hdpx9i"
      },
      "source": [
        "We will request the collection data for the TCGA program in IDC data version 1.0.\n",
        "\n",
        "The program and version are passed as *query parameters* in a *query string*. The requests library accepts a dictionary of query parameters."
      ]
    },
    {
      "cell_type": "code",
      "metadata": {
        "id": "AsmNpqYtyxl0"
      },
      "source": [
        "query_string = dict(\n",
        "    program_name = \"TCGA\",\n",
        "    idc_data_version = \"1.0\"\n",
        "    )\n",
        "\n",
        "collections_req = requests.get('{}/collections'.format(idc_api_preamble),\n",
        "                    params=query_string)\n",
        "# Check that there wasn't an error with the request\n",
        "if collections_req.status_code != 200:\n",
        "  # Print the error code and message if something went wrong\n",
        "  print(collections_req.json())"
      ],
      "execution_count": 17,
      "outputs": []
    },
    {
      "cell_type": "code",
      "metadata": {
        "id": "03_j2L-Vo-nG",
        "colab": {
          "base_uri": "https://localhost:8080/"
        },
        "outputId": "68cc821b-222f-45ec-e0ba-e95e8c92dc38"
      },
      "source": [
        "# Create a variable with the JSON output\n",
        "collections_json = json.dumps(collections_req.json(), sort_keys=True, indent=4)\n",
        "\n",
        "# Print the verscollectionsions JSON text\n",
        "print(collections_json)"
      ],
      "execution_count": 18,
      "outputs": [
        {
          "output_type": "stream",
          "text": [
            "{\n",
            "    \"code\": 200,\n",
            "    \"programs\": [\n",
            "        {\n",
            "            \"collections\": [\n",
            "                {\n",
            "                    \"active\": true,\n",
            "                    \"cancer_type\": \"Prostate Cancer\",\n",
            "                    \"collection_id\": \"tcga_prad\",\n",
            "                    \"collection_type\": \"Original\",\n",
            "                    \"date_updated\": \"2016-08-29\",\n",
            "                    \"description\": \"<div>\\n\\t<strong>Note:&nbsp;This collection has special restrictions on its usage. See <a href=\\\"https://wiki.cancerimagingarchive.net/x/c4hF\\\" target=\\\"_blank\\\">Data Usage Policies and Restrictions</a>.</strong></p>\\n<div>\\n\\t&nbsp;</p>\\n<div>\\n\\t<span>The <a href=\\\"http://imaging.cancer.gov/\\\" target=\\\"_blank\\\"><u>Cancer Imaging Program (CIP)</u></a></span><span>&thinsp;</span><span> is working directly with primary investigators from institutes participating in TCGA to obtain and load images relating to the genomic, clinical, and pathological data being stored within the <a href=\\\"http://tcga-data.nci.nih.gov/\\\" target=\\\"_blank\\\">TCGA Data Portal</a>.&nbsp;Currently this image collection of prostate adenocarcinoma (PRAD) patients can be matched by each unique case identifier with the extensive gene and expression data of the same case from The Cancer Genome Atlas Data Portal to research the link between clinical phenome and tissue genome.&nbsp;<br />\\n\\t</span></p>\\n<div>\\n\\t&nbsp;</p>\\n<div>\\n\\t<span>Please see the <span><a href=\\\"https://wiki.cancerimagingarchive.net/x/tgpp\\\" target=\\\"_blank\\\">TCGA-PRAD</a></span> wiki page to learn more about the images and to obtain any supporting metadata for this collection.</span></p>\\n\",\n",
            "                    \"doi\": \"10.7937/K9/TCIA.2016.YXOGLM4Y\",\n",
            "                    \"idc_data_versions\": [\n",
            "                        \"1.0\"\n",
            "                    ],\n",
            "                    \"image_types\": \"CT, PT, MR, Pathology\",\n",
            "                    \"location\": \"Prostate\",\n",
            "                    \"owner_id\": 1,\n",
            "                    \"species\": \"Human\",\n",
            "                    \"subject_count\": 14,\n",
            "                    \"supporting_data\": \"Clinical Genomics\"\n",
            "                },\n",
            "                {\n",
            "                    \"active\": true,\n",
            "                    \"cancer_type\": \"Bladder Endothelial Carcinoma\",\n",
            "                    \"collection_id\": \"tcga_blca\",\n",
            "                    \"collection_type\": \"Original\",\n",
            "                    \"date_updated\": \"2019-08-30\",\n",
            "                    \"description\": \"<p>\\n\\tThe Cancer Genome Atlas-Bladder Endothelial Carcinoma (TCGA-BLCA) data collection is part of a larger effort to enhance the TCGA http://cancergenome.nih.gov/ data set with characterized radiological images. The Cancer Imaging Program (CIP), with the cooperation of several of the TCGA tissue-contributing institutions, has archived a large portion of the radiological images of the genetically-analyzed BLCA cases.</p>\\n<p>\\n\\tPlease see the <a href=\\\"https://wiki.cancerimagingarchive.net/display/Public/TCGA-BLCA\\\" target=\\\"_blank\\\">TCGA-BLCA</a> wiki page to learn more about the images and to obtain any supporting metadata for this collection.</p>\\n\",\n",
            "                    \"doi\": \"10.7937/K9/TCIA.2016.8LNG8XDR\",\n",
            "                    \"idc_data_versions\": [\n",
            "                        \"1.0\"\n",
            "                    ],\n",
            "                    \"image_types\": \"CT, CR, MR, PT, DX, Pathology\",\n",
            "                    \"location\": \"Bladder\",\n",
            "                    \"owner_id\": 1,\n",
            "                    \"species\": \"Human\",\n",
            "                    \"subject_count\": 120,\n",
            "                    \"supporting_data\": \"Clinical, Genomics\"\n",
            "                },\n",
            "                {\n",
            "                    \"active\": true,\n",
            "                    \"cancer_type\": \"Uterine Corpus Endometrial Carcinoma\",\n",
            "                    \"collection_id\": \"tcga_ucec\",\n",
            "                    \"collection_type\": \"Original\",\n",
            "                    \"date_updated\": \"2018-10-26\",\n",
            "                    \"description\": \"<p>\\n\\tThe Cancer Genome Atlas-Uterine Corpus Endometrial Carcinoma (TCGA-UCEC) data collection is part of a larger effort to enhance the TCGA http://cancergenome.nih.gov/ data set with characterized radiological images. The Cancer Imaging Program (CIP) with the cooperation of several of the TCGA tissue-contributing institutions are working to archive a large portion of the radiological images of the genetically-analyzed UCEC cases.</p>\\n<p>\\n\\tPlease see the <a href=\\\"https://wiki.cancerimagingarchive.net/display/Public/TCGA-UCEC\\\" target=\\\"_blank\\\">TCGA-UCEC</a> wiki page to learn more about the images and to obtain any supporting metadata for this collection.</p>\\n\",\n",
            "                    \"doi\": \"10.7937/K9/TCIA.2016.GKJ0ZWAC\",\n",
            "                    \"idc_data_versions\": [\n",
            "                        \"1.0\"\n",
            "                    ],\n",
            "                    \"image_types\": \"CT, CR, MR, PT, Pathology\",\n",
            "                    \"location\": \"Uterus\",\n",
            "                    \"owner_id\": 1,\n",
            "                    \"species\": \"Human\",\n",
            "                    \"subject_count\": 65,\n",
            "                    \"supporting_data\": \"Clinical, Genomics\"\n",
            "                },\n",
            "                {\n",
            "                    \"active\": true,\n",
            "                    \"cancer_type\": \"Head and Neck Squamous Cell Carcinoma\",\n",
            "                    \"collection_id\": \"tcga_hnsc\",\n",
            "                    \"collection_type\": \"Original\",\n",
            "                    \"date_updated\": \"2018-08-30\",\n",
            "                    \"description\": \"<div>\\n\\t<span>The <a href=\\\"http://imaging.cancer.gov/\\\" target=\\\"_blank\\\"><u>Cancer Imaging Program (CIP)</u></a></span><span>&thinsp;</span><span> is working directly with primary investigators from institutes participating in TCGA to obtain and load images relating to the genomic, clinical, and pathological data being stored within the <a href=\\\"http://tcga-data.nci.nih.gov/\\\" target=\\\"_blank\\\">TCGA Data Portal</a>.&nbsp;Currently this large PET/CT&nbsp;multi-sequence image collection of </span><span>head and neck squamous cell carcinoma (HNSC) patients can be matched by each unique case identifier with the extensive gene and expression data of the same case from The Cancer Genome Atlas Data Portal to research the link between clinical phenome and tissue genome.&nbsp;</span></p>\\n<div>\\n\\t&nbsp;</p>\\n<div>\\n\\t<span>Please see the <a href=\\\"https://wiki.cancerimagingarchive.net/display/Public/TCGA-HNSC\\\" target=\\\"_blank\\\"><span>TCGA -HNSC</span></a> wiki page to learn more about the images and to obtain any supporting metadata for this collection.</span></p>\\n\",\n",
            "                    \"doi\": \"10.7937/K9/TCIA.2016.LXKQ47MS\",\n",
            "                    \"idc_data_versions\": [\n",
            "                        \"1.0\"\n",
            "                    ],\n",
            "                    \"image_types\": \"CT, MR, PT, RTSTRUCT, RTPLAN, RTDOSE, Pathology\",\n",
            "                    \"location\": \"Head-Neck\",\n",
            "                    \"owner_id\": 1,\n",
            "                    \"species\": \"Human\",\n",
            "                    \"subject_count\": 227,\n",
            "                    \"supporting_data\": \"Clinical, Genomics\"\n",
            "                },\n",
            "                {\n",
            "                    \"active\": true,\n",
            "                    \"cancer_type\": \"Lung Squamous Cell Carcinoma\",\n",
            "                    \"collection_id\": \"tcga_lusc\",\n",
            "                    \"collection_type\": \"Original\",\n",
            "                    \"date_updated\": \"2017-01-30\",\n",
            "                    \"description\": \"<p>\\n\\tThe Cancer Genome Atlas-Lung Squamous Cell Carcinoma (TCGA-LUSC) data collection is part of a larger effort to enhance the TCGA http://cancergenome.nih.gov/ data set with characterized radiological images. The Cancer Imaging Program (CIP) with the cooperation of several of the TCGA tissue-contributing institutions are working to archive a large portion of the radiological images of the LUSC cases.</p>\\n<p>\\n\\tPlease see the <a href=\\\"https://wiki.cancerimagingarchive.net/display/Public/TCGA-LUSC\\\" target=\\\"_blank\\\">TCGA-LUSC</a> wiki page to learn more about the images and to obtain any supporting metadata for this collection.</p>\\n\",\n",
            "                    \"doi\": \"10.7937/K9/TCIA.2016.TYGKKFMQ\",\n",
            "                    \"idc_data_versions\": [\n",
            "                        \"1.0\"\n",
            "                    ],\n",
            "                    \"image_types\": \"CT, NM, PT, Pathology\",\n",
            "                    \"location\": \"Lung\",\n",
            "                    \"owner_id\": 1,\n",
            "                    \"species\": \"Human\",\n",
            "                    \"subject_count\": 37,\n",
            "                    \"supporting_data\": \"Clinical, Genomics\"\n",
            "                },\n",
            "                {\n",
            "                    \"active\": true,\n",
            "                    \"cancer_type\": \"Kidney Renal Papillary Cell Carcinoma\",\n",
            "                    \"collection_id\": \"tcga_kirp\",\n",
            "                    \"collection_type\": \"Original\",\n",
            "                    \"date_updated\": \"2017-01-30\",\n",
            "                    \"description\": \"<div>\\n\\t<strong>Note:&nbsp;This collection has special restrictions on its usage. See <a href=\\\"https://wiki.cancerimagingarchive.net/x/c4hF\\\" target=\\\"_blank\\\">Data Usage Policies and Restrictions</a>.</strong></p>\\n<div>\\n\\t&nbsp;</p>\\n<div>\\n\\t<span>The <a href=\\\"http://imaging.cancer.gov/\\\" target=\\\"_blank\\\"><u>Cancer Imaging Program (CIP)</u></a></span><span>&thinsp;</span><span> is working directly with primary investigators from institutes participating in TCGA to obtain and load images relating to the genomic, clinical, and pathological data being stored within the <a href=\\\"http://tcga-data.nci.nih.gov/\\\" target=\\\"_blank\\\">TCGA Data Portal</a>.&nbsp;Currently this large CT and MR multi-sequence image collection of </span><span>kidney renal papillary cell carcinoma (KIRP) patients can be matched by each unique case identifier with the extensive gene and expression data of the same case from The Cancer Genome Atlas Data Portal to research the link between clinical phenome and tissue genome.&nbsp;<br />\\n\\t</span></p>\\n<div>\\n\\t&nbsp;</p>\\n<div>\\n\\tPlease see the <span><a href=\\\"https://wiki.cancerimagingarchive.net/x/M4G0\\\" target=\\\"_blank\\\">TCGA -KIRP</a> </span>wiki page to learn more about the images and to obtain any supporting metadata for this collection.</p>\\n<p>\\n\\t&nbsp;</p>\\n\",\n",
            "                    \"doi\": \"10.7937/K9/TCIA.2016.ACWOGBEF\",\n",
            "                    \"idc_data_versions\": [\n",
            "                        \"1.0\"\n",
            "                    ],\n",
            "                    \"image_types\": \"CT, MR, PT, Pathology\",\n",
            "                    \"location\": \"Renal\",\n",
            "                    \"owner_id\": 1,\n",
            "                    \"species\": \"Human\",\n",
            "                    \"subject_count\": 33,\n",
            "                    \"supporting_data\": \"Clinical, Genomics\"\n",
            "                },\n",
            "                {\n",
            "                    \"active\": true,\n",
            "                    \"cancer_type\": \"Thyroid Cancer\",\n",
            "                    \"collection_id\": \"tcga_thca\",\n",
            "                    \"collection_type\": \"Original\",\n",
            "                    \"date_updated\": \"2014-12-31\",\n",
            "                    \"description\": \"<p>\\n\\tThe Cancer Genome Atlas-Thyroid Cancer (TCGA-THCA) data collection is part of a larger effort to enhance the TCGA http://cancergenome.nih.gov/ data set with characterized radiological images. The Cancer Imaging Program (CIP) with the cooperation of several of the TCGA tissue-contributing institutions are working to archive a large portion of the radiological images of the genetically-analyzed THCA cases.</p>\\n<p>\\n\\tPlease see the <a href=\\\"https://wiki.cancerimagingarchive.net/display/Public/TCGA-THCA\\\" target=\\\"_blank\\\">TCGA-THCA</a> wiki page to learn more about the images and to obtain any supporting metadata for this collection.</p>\\n\",\n",
            "                    \"doi\": \"10.7937/K9/TCIA.2016.9ZFRVF1B\",\n",
            "                    \"idc_data_versions\": [\n",
            "                        \"1.0\"\n",
            "                    ],\n",
            "                    \"image_types\": \"CT, PT, Pathology\",\n",
            "                    \"location\": \"Thyroid\",\n",
            "                    \"owner_id\": 1,\n",
            "                    \"species\": \"Human\",\n",
            "                    \"subject_count\": 6,\n",
            "                    \"supporting_data\": \"Clinical, Genomics\"\n",
            "                },\n",
            "                {\n",
            "                    \"active\": true,\n",
            "                    \"cancer_type\": \"Sarcomas\",\n",
            "                    \"collection_id\": \"tcga_sarc\",\n",
            "                    \"collection_type\": \"Original\",\n",
            "                    \"date_updated\": \"2014-12-30\",\n",
            "                    \"description\": \"<p>\\n\\tThe Cancer Genome Atlas-Sarcoma Cancer (TCGA-SARC) data collection is part of a larger effort to enhance the TCGA http://cancergenome.nih.gov/ data set with characterized radiological images. The Cancer Imaging Program (CIP) with the cooperation of several of the TCGA tissue-contributing institutions are working to archive a large portion of the radiological images of the genetically-analyzed SARC cases.</p>\\n<p>\\n\\tPlease see the <a href=\\\"https://wiki.cancerimagingarchive.net/display/Public/TCGA-SARC\\\" target=\\\"_blank\\\">TCGA-SARC</a> wiki page to learn more about the images and to obtain any supporting metadata for this collection.</p>\\n\",\n",
            "                    \"doi\": \"10.7937/K9/TCIA.2016.CX6YLSUX\",\n",
            "                    \"idc_data_versions\": [\n",
            "                        \"1.0\"\n",
            "                    ],\n",
            "                    \"image_types\": \"CT, MR, Pathology\",\n",
            "                    \"location\": \"Chest-Abdomen-Pelvis, Leg, TSpine\",\n",
            "                    \"owner_id\": 1,\n",
            "                    \"species\": \"Human\",\n",
            "                    \"subject_count\": 5,\n",
            "                    \"supporting_data\": \"Clinical, Genomics\"\n",
            "                },\n",
            "                {\n",
            "                    \"active\": true,\n",
            "                    \"cancer_type\": \"Esophageal Carcinoma\",\n",
            "                    \"collection_id\": \"tcga_esca\",\n",
            "                    \"collection_type\": \"Original\",\n",
            "                    \"date_updated\": \"2014-12-09\",\n",
            "                    \"description\": \"<p>\\n\\tThe Cancer Genome Atlas-Esophageal Carcinoma (TCGA-ESCA) data collection is part of a larger effort to enhance the <a href=\\\"http://cancergenome.nih.gov/\\\">TCGA&nbsp;</a> data set with characterized radiological images. The <a href=\\\"https://imaging.cancer.gov/\\\">Cancer Imaging Program (CIP)</a> with the cooperation of several of the TCGA tissue-contributing institutions are working to archive a large portion of the radiological images of the genetically-analyzed ESCA cases.</p>\\n<p>\\n\\tPlease see the <a href=\\\"https://doi.org/10.7937/K9/TCIA.2016.VPTNRGFY\\\" target=\\\"_blank\\\">TCGA-ESCA</a> page to learn more about the images and to obtain any supporting metadata for this collection.</p>\\n\",\n",
            "                    \"doi\": \"10.7937/K9/TCIA.2016.VPTNRGFY\",\n",
            "                    \"idc_data_versions\": [\n",
            "                        \"1.0\"\n",
            "                    ],\n",
            "                    \"image_types\": \"CT, Pathology\",\n",
            "                    \"location\": \"Esophagus\",\n",
            "                    \"owner_id\": 1,\n",
            "                    \"species\": \"Human\",\n",
            "                    \"subject_count\": 16,\n",
            "                    \"supporting_data\": \"Clinical, Genomics\"\n",
            "                },\n",
            "                {\n",
            "                    \"active\": true,\n",
            "                    \"cancer_type\": \"Cervical Squamous Cell Carcinoma and Endocervical Adenocarcinoma\",\n",
            "                    \"collection_id\": \"tcga_cesc\",\n",
            "                    \"collection_type\": \"Original\",\n",
            "                    \"date_updated\": \"2014-12-09\",\n",
            "                    \"description\": \"<p>\\n\\tThe Cancer Genome Atlas-Cervical Squamous Cell Carcinoma and Endocervical Adenocarcinoma (TCGA-CESC) data collection is part of a larger effort to enhance the TCGA http://cancergenome.nih.gov/ data set with characterized radiological images. The Cancer Imaging Program (CIP) with the cooperation of several of the TCGA tissue-contributing institutions are working to archive a large portion of the radiological images of the genetically-analyzed CESC cases.</p>\\n<p>\\n\\tPlease see the <a href=\\\"https://wiki.cancerimagingarchive.net/display/Public/TCGA-CESC\\\" target=\\\"_blank\\\">TCGA-CESC</a> wiki page to learn more about the images and to obtain any supporting metadata for this collection.</p>\\n\",\n",
            "                    \"doi\": \"10.7937/K9/TCIA.2016.SQ4M8YP4\",\n",
            "                    \"idc_data_versions\": [\n",
            "                        \"1.0\"\n",
            "                    ],\n",
            "                    \"image_types\": \"MR, Pathology\",\n",
            "                    \"location\": \"Cervix\",\n",
            "                    \"owner_id\": 1,\n",
            "                    \"species\": \"Human\",\n",
            "                    \"subject_count\": 54,\n",
            "                    \"supporting_data\": \"Clinical, Genomics\"\n",
            "                },\n",
            "                {\n",
            "                    \"active\": true,\n",
            "                    \"cancer_type\": \"Stomach Adenocarcinoma\",\n",
            "                    \"collection_id\": \"tcga_stad\",\n",
            "                    \"collection_type\": \"Original\",\n",
            "                    \"date_updated\": \"2014-12-09\",\n",
            "                    \"description\": \"<p>\\n\\tThe Cancer Genome Atlas-Stomach Adenoarcinoma (TCGA-STAD) data collection is part of a larger effort to enhance the TCGA http://cancergenome.nih.gov/ data set with characterized radiological images. The Cancer Imaging Program (CIP) with the cooperation of several of the TCGA tissue-contributing institutions are working to archive a large portion of the radiological images of the genetically-analyzed STAD cases.</p>\\n<p>\\n\\tPlease see the <a href=\\\"https://wiki.cancerimagingarchive.net/display/Public/TCGA-STAD\\\" target=\\\"_blank\\\">TCGA-STAD</a> wiki page to learn more about the images and to obtain any supporting metadata for this collection.</p>\\n\",\n",
            "                    \"doi\": \"10.7937/K9/TCIA.2016.GDHL9KIM\",\n",
            "                    \"idc_data_versions\": [\n",
            "                        \"1.0\"\n",
            "                    ],\n",
            "                    \"image_types\": \"CT, Pathology\",\n",
            "                    \"location\": \"Stomach\",\n",
            "                    \"owner_id\": 1,\n",
            "                    \"species\": \"Human\",\n",
            "                    \"subject_count\": 46,\n",
            "                    \"supporting_data\": \"Clinical, Genomics\"\n",
            "                },\n",
            "                {\n",
            "                    \"active\": true,\n",
            "                    \"cancer_type\": \"Colon Adenocarcinoma\",\n",
            "                    \"collection_id\": \"tcga_coad\",\n",
            "                    \"collection_type\": \"Original\",\n",
            "                    \"date_updated\": \"2014-10-14\",\n",
            "                    \"description\": \"<p>\\n\\tThe Cancer Genome Atlas-Colon Adenocarcinoma (TCGA-COAD) data collection is part of a larger effort to enhance the TCGA http://cancergenome.nih.gov/ data set with characterized radiological images. The Cancer Imaging Program (CIP), with the cooperation of several of the TCGA tissue-contributing institutions, has archived a large portion of the radiological images of the COAD cases.</p>\\n<p>\\n\\tPlease see the <a href=\\\"https://wiki.cancerimagingarchive.net/display/Public/TCGA-COAD\\\" target=\\\"_blank\\\">TCGA-COAD</a> wiki page to learn more about the images and to obtain any supporting metadata for this collection.</p>\\n\",\n",
            "                    \"doi\": \"10.7937/K9/TCIA.2016.HJJHBOXZ\",\n",
            "                    \"idc_data_versions\": [\n",
            "                        \"1.0\"\n",
            "                    ],\n",
            "                    \"image_types\": \"CT, Pathology\",\n",
            "                    \"location\": \"Colon\",\n",
            "                    \"owner_id\": 1,\n",
            "                    \"species\": \"Human\",\n",
            "                    \"subject_count\": 25,\n",
            "                    \"supporting_data\": \"Clinical, Genomics\"\n",
            "                },\n",
            "                {\n",
            "                    \"active\": true,\n",
            "                    \"cancer_type\": \"Kidney Chromophobe\",\n",
            "                    \"collection_id\": \"tcga_kich\",\n",
            "                    \"collection_type\": \"Original\",\n",
            "                    \"date_updated\": \"2014-05-21\",\n",
            "                    \"description\": \"<p>\\n\\tThe Cancer Genome Atlas-Kidney Chromophobe (TCGA-KICH) data collection is part of a larger effort to enhance the The Cancer Genome Atlas (TCGA) http://cancergenome.nih.gov/ data set with characterized radiological images. The Cancer Imaging Program (CIP) with the cooperation of several of the TCGA tissue-contributing institutions has archived a large portion of the radiological images of the genetically-analyzed KICH cases.</p>\\n<p>\\n\\tPlease see the <a href=\\\"https://wiki.cancerimagingarchive.net/display/Public/TCGA-KICH\\\" target=\\\"_blank\\\">TCGA-KICH</a> wiki page to learn more about the images and to obtain any supporting metadata for this collection.</p>\\n\",\n",
            "                    \"doi\": \"10.7937/K9/TCIA.2016.YU3RBCZN\",\n",
            "                    \"idc_data_versions\": [\n",
            "                        \"1.0\"\n",
            "                    ],\n",
            "                    \"image_types\": \"CT, MR, Pathology\",\n",
            "                    \"location\": \"Kidney\",\n",
            "                    \"owner_id\": 1,\n",
            "                    \"species\": \"Human\",\n",
            "                    \"subject_count\": 15,\n",
            "                    \"supporting_data\": \"Clinical, Genomics\"\n",
            "                },\n",
            "                {\n",
            "                    \"active\": true,\n",
            "                    \"cancer_type\": \"Rectum Adenocarcinoma\",\n",
            "                    \"collection_id\": \"tcga_read\",\n",
            "                    \"collection_type\": \"Original\",\n",
            "                    \"date_updated\": \"2014-05-21\",\n",
            "                    \"description\": \"<p>\\n\\tThe Cancer Genome Atlas-Rectum Adenocarcinoma (TCGA-READ) data collection is part of a larger effort to enhance the TCGA http://cancergenome.nih.gov/ data set with characterized radiological images. The Cancer Imaging Program (CIP), with the cooperation of several TCGA tissue-contributing institutions, has archived a large portion of the radiological images of the genetically-analyzed READ cases.</p>\\n<p>\\n\\tPlease see the <a href=\\\"https://wiki.cancerimagingarchive.net/display/Public/TCGA-READ\\\" target=\\\"_blank\\\">TCGA-READ</a> wiki page to learn more about the images and to obtain any supporting metadata for this collection.</p>\\n\",\n",
            "                    \"doi\": \"10.7937/K9/TCIA.2016.F7PPNPNU\",\n",
            "                    \"idc_data_versions\": [\n",
            "                        \"1.0\"\n",
            "                    ],\n",
            "                    \"image_types\": \"CT, MR, Pathology\",\n",
            "                    \"location\": \"Rectum\",\n",
            "                    \"owner_id\": 1,\n",
            "                    \"species\": \"Human\",\n",
            "                    \"subject_count\": 3,\n",
            "                    \"supporting_data\": \"Clinical, Genomics\"\n",
            "                },\n",
            "                {\n",
            "                    \"active\": true,\n",
            "                    \"cancer_type\": \"Lung Adenocarcinoma\",\n",
            "                    \"collection_id\": \"tcga_luad\",\n",
            "                    \"collection_type\": \"Original\",\n",
            "                    \"date_updated\": \"2017-01-30\",\n",
            "                    \"description\": \"<div>\\n\\t<strong>Note:&nbsp;This collection has special restrictions on its usage. See <a href=\\\"https://wiki.cancerimagingarchive.net/x/c4hF\\\" target=\\\"_blank\\\">Data Usage Policies and Restrictions</a>.</strong></p>\\n<div>\\n\\t&nbsp;</p>\\n<div>\\n\\t<span>The <a href=\\\"http://imaging.cancer.gov/\\\" target=\\\"_blank\\\"><u>Cancer Imaging Program (CIP)</u></a></span><span>&thinsp;</span><span> is working directly with primary investigators from institutes participating in TCGA to obtain and load images relating to the genomic, clinical, and pathological data being stored within the <a href=\\\"http://tcga-data.nci.nih.gov/\\\" target=\\\"_blank\\\">TCGA Data Portal</a>.&nbsp;Currently this large CT multi-sequence image collection of lung adenocarcinoma (LUAD) patients can be matched by each unique case identifier with the extensive gene and expression data of the same case from The Cancer Genome Atlas Data Portal to research the link between clinical phenome and tissue genome.&nbsp;<br />\\n\\t</span></p>\\n<div>\\n\\t&nbsp;</p>\\n<div>\\n\\t<span>Please see the <span><a href=\\\"https://wiki.cancerimagingarchive.net/x/wgBp\\\" target=\\\"_blank\\\">TCGA-LUAD</a> </span>wiki page to learn more about the images and to obtain any supporting metadata for this collection.</span></p>\\n\",\n",
            "                    \"doi\": \"10.7937/K9/TCIA.2016.JGNIHEP5\",\n",
            "                    \"idc_data_versions\": [\n",
            "                        \"1.0\"\n",
            "                    ],\n",
            "                    \"image_types\": \"CT, PT, NM, Pathology\",\n",
            "                    \"location\": \"Chest\",\n",
            "                    \"owner_id\": 1,\n",
            "                    \"species\": \"Human\",\n",
            "                    \"subject_count\": 69,\n",
            "                    \"supporting_data\": \"Clinical, Genomics, Image Analyses\"\n",
            "                },\n",
            "                {\n",
            "                    \"active\": true,\n",
            "                    \"cancer_type\": \"Liver Hepatocellular Carcinoma\",\n",
            "                    \"collection_id\": \"tcga_lihc\",\n",
            "                    \"collection_type\": \"Original\",\n",
            "                    \"date_updated\": \"2017-01-30\",\n",
            "                    \"description\": \"<div>\\n\\t<strong>Note:&nbsp;This collection has special restrictions on its usage. See <a href=\\\"https://wiki.cancerimagingarchive.net/x/c4hF\\\" target=\\\"_blank\\\">Data Usage Policies and Restrictions</a>.</strong></p>\\n<div>\\n\\t&nbsp;</p>\\n<div>\\n\\t<span>The <a href=\\\"http://imaging.cancer.gov/\\\" target=\\\"_blank\\\"><u>Cancer Imaging Program (CIP)</u></a></span><span>&thinsp;</span><span> is working directly with primary investigators from institutes participating in TCGA to obtain and load images relating to the genomic, clinical, and pathological data being stored within the <a href=\\\"http://tcga-data.nci.nih.gov/\\\" target=\\\"_blank\\\">TCGA Data Portal</a>.&nbsp;Currently this CT and MR multi-sequence image collection of liver hepatocellular carcinoma (LIHC) patients can be matched by each unique case identifier with the extensive gene and expression data of the same case from The Cancer Genome Atlas Data Portal to research the link between clinical phenome and tissue genome.&nbsp;<br />\\n\\t</span></p>\\n<div>\\n\\t&nbsp;</p>\\n<div>\\n\\t<span>Please see the <span><a href=\\\"https://wiki.cancerimagingarchive.net/x/PBBp\\\" target=\\\"_blank\\\">TCGA -LIHC</a> </span>wiki page to learn more about the images and to obtain any supporting metadata for this collection.</span></p>\\n<p>\\n\\t&nbsp;</p>\\n\",\n",
            "                    \"doi\": \"10.7937/K9/TCIA.2016.IMMQW8UQ\",\n",
            "                    \"idc_data_versions\": [\n",
            "                        \"1.0\"\n",
            "                    ],\n",
            "                    \"image_types\": \"MR, CT, PT, Pathology\",\n",
            "                    \"location\": \"Liver\",\n",
            "                    \"owner_id\": 1,\n",
            "                    \"species\": \"Human\",\n",
            "                    \"subject_count\": 97,\n",
            "                    \"supporting_data\": \"Clinical, Genomics, Image Analyses\"\n",
            "                },\n",
            "                {\n",
            "                    \"active\": true,\n",
            "                    \"cancer_type\": \"Breast Cancer\",\n",
            "                    \"collection_id\": \"tcga_brca\",\n",
            "                    \"collection_type\": \"Original\",\n",
            "                    \"date_updated\": \"2014-12-30\",\n",
            "                    \"description\": \"<div>\\n\\t<span>The <a href=\\\"http://imaging.cancer.gov/\\\" target=\\\"_blank\\\"><u>Cancer Imaging Program (CIP)</u></a></span><span>&thinsp;</span><span> is working directly with primary investigators from institutes participating in TCGA to obtain and load images relating to the genomic, clinical, and pathological data being stored within the <a href=\\\"http://tcga-data.nci.nih.gov/\\\" target=\\\"_blank\\\">TCGA Data Portal</a>.&nbsp;Currently this MR multi-sequence image collection of breast invasive carcinoma patients can be matched by each unique case identifier with the extensive gene and expression data of the same case from The Cancer Genome Atlas Data Portal to research the link between clinical phenome and tissue genome.&nbsp;<br />\\n\\t</span></p>\\n<div>\\n\\t&nbsp;</p>\\n<div>\\n\\t<span>Please see the <span><a href=\\\"https://wiki.cancerimagingarchive.net/x/GQE2\\\" target=\\\"_blank\\\"><u>TCGA-BRCA</u></a></span> wiki page to learn more about the images and to obtain any supporting metadata for this collection.</span></p>\\n\",\n",
            "                    \"doi\": \"10.7937/K9/TCIA.2016.AB2NAZRP\",\n",
            "                    \"idc_data_versions\": [\n",
            "                        \"1.0\"\n",
            "                    ],\n",
            "                    \"image_types\": \"MR, MG, Pathology\",\n",
            "                    \"location\": \"Breast\",\n",
            "                    \"owner_id\": 1,\n",
            "                    \"species\": \"Human\",\n",
            "                    \"subject_count\": 139,\n",
            "                    \"supporting_data\": \"Clinical, Genomics, Image Analyses\"\n",
            "                },\n",
            "                {\n",
            "                    \"active\": true,\n",
            "                    \"cancer_type\": \"Ovarian Serous Cystadenocarcinoma\",\n",
            "                    \"collection_id\": \"tcga_ov\",\n",
            "                    \"collection_type\": \"Original\",\n",
            "                    \"date_updated\": \"2014-11-05\",\n",
            "                    \"description\": \"<p>\\n\\tThe Cancer Genome Atlas-Ovarian Cancer (TCGA-OV) data collection is part of a larger effort to enhance the TCGA http://cancergenome.nih.gov/ data set with characterized radiological images. The Cancer Imaging Program (CIP) with the cooperation of several of the TCGA tissue-contributing institutions are working to archive a large portion of the radiological images of the genetically-analyzed OV cases.</p>\\n<p>\\n\\tPlease see the <a href=\\\"https://wiki.cancerimagingarchive.net/display/Public/TCGA-OV\\\" target=\\\"_blank\\\">TCGA-OV</a> wiki page to learn more about the images and to obtain any supporting metadata for this collection.</p>\\n\",\n",
            "                    \"doi\": \"10.7937/K9/TCIA.2016.NDO1MDFQ\",\n",
            "                    \"idc_data_versions\": [\n",
            "                        \"1.0\"\n",
            "                    ],\n",
            "                    \"image_types\": \"CT, MR, Pathology\",\n",
            "                    \"location\": \"Ovary\",\n",
            "                    \"owner_id\": 1,\n",
            "                    \"species\": \"Human\",\n",
            "                    \"subject_count\": 143,\n",
            "                    \"supporting_data\": \"Clinical, Genomics, Image Analyses\"\n",
            "                },\n",
            "                {\n",
            "                    \"active\": true,\n",
            "                    \"cancer_type\": \"Kidney Renal Clear Cell Carcinoma\",\n",
            "                    \"collection_id\": \"tcga_kirc\",\n",
            "                    \"collection_type\": \"Original\",\n",
            "                    \"date_updated\": \"2014-10-09\",\n",
            "                    \"description\": \"<div>\\n\\t<span>The <a href=\\\"http://imaging.cancer.gov/\\\" target=\\\"_blank\\\"><u>Cancer Imaging Program (CIP)</u></a></span><span>&thinsp;</span><span> is working directly with primary investigators from institutes participating in TCGA to obtain and load images relating to the genomic, clinical, and pathological data being stored within the <a href=\\\"http://tcga-data.nci.nih.gov/\\\" target=\\\"_blank\\\">TCGA Data Portal</a>.&nbsp;Currently this large CT and MR multi-sequence image collection of kidney renal clear cell carcinoma (KIRC) patients can be matched by each unique case identifier with the extensive gene and expression data of the same case from The Cancer Genome Atlas Data Portal to research the link between clinical phenome and tissue genome.&nbsp;<br />\\n\\t</span></p>\\n<div>\\n\\t&nbsp;</p>\\n<div>\\n\\t<span>Please see the <span><a href=\\\"https://wiki.cancerimagingarchive.net/x/woFY\\\" target=\\\"_blank\\\">TCGA -KIRC</a> </span>wiki page to learn more about the images and to obtain any supporting metadata for this collection.</span></p>\\n\",\n",
            "                    \"doi\": \"10.7937/K9/TCIA.2016.V6PBVTDR\",\n",
            "                    \"idc_data_versions\": [\n",
            "                        \"1.0\"\n",
            "                    ],\n",
            "                    \"image_types\": \"CT, MR, CR, Pathology\",\n",
            "                    \"location\": \"Renal\",\n",
            "                    \"owner_id\": 1,\n",
            "                    \"species\": \"Human\",\n",
            "                    \"subject_count\": 267,\n",
            "                    \"supporting_data\": \"Clinical, Genomics, Image Analyses\"\n",
            "                },\n",
            "                {\n",
            "                    \"active\": true,\n",
            "                    \"cancer_type\": \"Low Grade Glioma\",\n",
            "                    \"collection_id\": \"tcga_lgg\",\n",
            "                    \"collection_type\": \"Original\",\n",
            "                    \"date_updated\": \"2014-09-04\",\n",
            "                    \"description\": \"<div>\\n\\t<strong>Note:&nbsp;This collection has special restrictions on its usage. See <a href=\\\"https://wiki.cancerimagingarchive.net/x/c4hF\\\" target=\\\"_blank\\\">Data Usage Policies and Restrictions</a>.</strong></p>\\n<div>\\n\\t&nbsp;</p>\\n<div>\\n\\t<span>The <a href=\\\"http://imaging.cancer.gov/\\\" target=\\\"_blank\\\"><u>Cancer Imaging Program (CIP)</u></a></span><span>&thinsp;</span><span> is working directly with primary investigators from institutes participating in TCGA to obtain and load images relating to the genomic, clinical, and pathological data being stored within the <a href=\\\"http://tcga-data.nci.nih.gov/\\\" target=\\\"_blank\\\">TCGA Data Portal</a>.&nbsp;Currently this large MR multi-sequence image collection of low grade glioma patients can be matched by each unique case identifier with the extensive gene and expression data of the same case from The Cancer Genome Atlas Data Portal to research the link between clinical phenome and tissue genome.&nbsp;<br />\\n\\t</span></p>\\n<div>\\n\\t&nbsp;</p>\\n<div>\\n\\t<span>Please see the <span><a href=\\\"https://wiki.cancerimagingarchive.net/x/BANR\\\" target=\\\"_blank\\\">TCGA -LGG</a></span> wiki page to learn more about the images and to obtain any supporting metadata for this collection.</span></p>\\n\",\n",
            "                    \"doi\": \"10.7937/K9/TCIA.2016.L4LTD3TK\",\n",
            "                    \"idc_data_versions\": [\n",
            "                        \"1.0\"\n",
            "                    ],\n",
            "                    \"image_types\": \"MR, CT, Pathology\",\n",
            "                    \"location\": \"Brain\",\n",
            "                    \"owner_id\": 1,\n",
            "                    \"species\": \"Human\",\n",
            "                    \"subject_count\": 199,\n",
            "                    \"supporting_data\": \"Clinical, Genomics, Image Analyses\"\n",
            "                },\n",
            "                {\n",
            "                    \"active\": true,\n",
            "                    \"cancer_type\": \"Glioblastoma Multiforme\",\n",
            "                    \"collection_id\": \"tcga_gbm\",\n",
            "                    \"collection_type\": \"Original\",\n",
            "                    \"date_updated\": \"2014-05-08\",\n",
            "                    \"description\": \"<div>\\n\\t<span>The <a href=\\\"http://imaging.cancer.gov/\\\" target=\\\"_blank\\\"><u>Cancer Imaging Program (CIP)</u></a></span><span>&thinsp;</span><span> is working directly with primary investigators from institutes participating in TCGA to obtain and load images relating to the genomic, clinical, and pathological data being stored within the <a href=\\\"http://tcga-data.nci.nih.gov/\\\" target=\\\"_blank\\\">TCGA Data Portal</a>.&nbsp;Currently this large MR multi-sequence image collection of glioblastoma patients can be matched by each unique case identifier with the extensive gene and expression data of the same case from The Cancer Genome Atlas Data Portal to research the link between clinical phenome and tissue genome.&nbsp;<br />\\n\\t</span></p>\\n<div>\\n\\t&nbsp;</p>\\n<div>\\n\\t<span>Please see the <span><a href=\\\"https://wiki.cancerimagingarchive.net/x/sgAe\\\" target=\\\"_blank\\\"><u>TCGA-GBM&nbsp;</u></a></span> wiki page to learn more about the images and to obtain any supporting metadata for this collection.</span></p>\\n\",\n",
            "                    \"doi\": \"10.7937/K9/TCIA.2016.RNYFUYE9\",\n",
            "                    \"idc_data_versions\": [\n",
            "                        \"1.0\"\n",
            "                    ],\n",
            "                    \"image_types\": \"MR, CT, DX, Pathology\",\n",
            "                    \"location\": \"Brain\",\n",
            "                    \"owner_id\": 1,\n",
            "                    \"species\": \"Human\",\n",
            "                    \"subject_count\": 262,\n",
            "                    \"supporting_data\": \"Clinical, Genomics, Image Analyses\"\n",
            "                }\n",
            "            ],\n",
            "            \"program_name\": \"TCGA\"\n",
            "        }\n",
            "    ]\n",
            "}\n"
          ],
          "name": "stdout"
        }
      ]
    },
    {
      "cell_type": "markdown",
      "metadata": {
        "id": "z0EnRfsdX2WW"
      },
      "source": [
        "Metadata for original collections has been obtained from the [TCIA Data Collections page](https://www.cancerimagingarchive.net/collections/), and for analysis collections from the [TCIA Analysis Results page](https://www.cancerimagingarchive.net/tcia-analysis-results/). Not that the `idc_data_versions` component of each collection is a list because any particular collection will almost certainly be available in multiple IDC data versions."
      ]
    },
    {
      "cell_type": "markdown",
      "metadata": {
        "id": "MdZVwFTRdrHH"
      },
      "source": [
        "## Example: POST `/cohorts/preview` endpoint"
      ]
    },
    {
      "cell_type": "markdown",
      "metadata": {
        "id": "mC2NcjdtaGDy"
      },
      "source": [
        "The `/cohorts/preview` endpoint takes a *filterSet* and other values as a *body* parameter and returns a JSON-encoded hierarchical representation of the collections, patients, studies, series and instances in the cohort defined by the filterSet, and other metadata. The filterSet includes the IDC data version against which it is applied. \n",
        "\n",
        "A cohort is not actually created by this endpoint. Doing so requires authenticating to the API. That process is addessed in a subsequent section.\n",
        "\n",
        "A filter is a list of *attribute*,*values* pairs, where *values* is a list of one or more values which must be satisfied. \n",
        "\n",
        "In the following, we construct a dictionary, `cohortSpec`, containing the name and a description for the cohort, as well as a filterSet that selects for subjects in either the TCGA-LUAD or TCGA-KIRC collections, \n",
        "\n"
      ]
    },
    {
      "cell_type": "code",
      "metadata": {
        "id": "NmLDCwyMrKIW"
      },
      "source": [
        "filterSet = {\n",
        "    \"idc_data_version\": \"1.0\",\n",
        "    \"filters\": {\n",
        "        \"collection_id\": [ \"TCGA-LUAD\", \"TCGA-KIRC\" ],\n",
        "        \"Modality\": [\"CT\", \"MR\"],\n",
        "        \"race\": [\"ASIAN\"]}}\n",
        "\n",
        "cohortSpec = {\"name\": \"testcohort\",\n",
        "              \"description\": \"Test description\",\n",
        "              \"filterSet\": filterSet}\n",
        "\n"
      ],
      "execution_count": 19,
      "outputs": []
    },
    {
      "cell_type": "markdown",
      "metadata": {
        "id": "b9--y7MbtM3j"
      },
      "source": [
        "This and other related endpoints are paged. The caller can limit the amount of data returned by each call, and iteratively call the endpoint until all data has been received. We will limit the returned data to 10 rows.\n",
        "\n",
        "We can also control the depth of the hierarchy returned by the endpoint. Below we set the level to \"Study\"\""
      ]
    },
    {
      "cell_type": "code",
      "metadata": {
        "id": "j3YSHebRu37u"
      },
      "source": [
        "query_string = dict(\n",
        "    page_size = 10,\n",
        "    return_level = \"Instance\"\n",
        ")"
      ],
      "execution_count": 20,
      "outputs": []
    },
    {
      "cell_type": "markdown",
      "metadata": {
        "id": "5v0RB-w-vCwo"
      },
      "source": [
        "We are now ready to call the endpoint. Note that /cohorts/preview is a POST method, so we call requests.post()"
      ]
    },
    {
      "cell_type": "code",
      "metadata": {
        "id": "Dk4HdufjvT-y"
      },
      "source": [
        "cohort_req = requests.post('{}/cohorts/preview/'.format(idc_api_preamble),\n",
        "                    params=query_string, json=cohortSpec)\n",
        "\n",
        "# Check that there wasn't an error with the request\n",
        "if cohort_req.status_code != 200:\n",
        "  # Print the error code and message if something went wrong\n",
        "  print(cohort_req.json())"
      ],
      "execution_count": 21,
      "outputs": []
    },
    {
      "cell_type": "markdown",
      "metadata": {
        "id": "C-udN2bv--zN"
      },
      "source": [
        "We will prettyprint the results for easier comprehension:"
      ]
    },
    {
      "cell_type": "code",
      "metadata": {
        "id": "xvYVag8j7XIl",
        "colab": {
          "base_uri": "https://localhost:8080/"
        },
        "outputId": "bea6b735-5cd1-4719-8137-267e2875c2f2"
      },
      "source": [
        "print(json.dumps(cohort_req.json(), indent=1))"
      ],
      "execution_count": 22,
      "outputs": [
        {
          "output_type": "stream",
          "text": [
            "{\n",
            " \"code\": 200,\n",
            " \"cohort\": {\n",
            "  \"description\": \"Test description\",\n",
            "  \"filterSet\": {\n",
            "   \"filters\": {\n",
            "    \"Modality\": [\n",
            "     \"CT\",\n",
            "     \"MR\"\n",
            "    ],\n",
            "    \"collection_id\": [\n",
            "     \"TCGA-LUAD\",\n",
            "     \"TCGA-KIRC\"\n",
            "    ],\n",
            "    \"race\": [\n",
            "     \"ASIAN\"\n",
            "    ]\n",
            "   },\n",
            "   \"idc_data_version\": \"1.0\"\n",
            "  },\n",
            "  \"name\": \"testcohort\",\n",
            "  \"sql\": \"\"\n",
            " },\n",
            " \"cohortObjects\": {\n",
            "  \"collections\": [\n",
            "   {\n",
            "    \"collection_id\": \"tcga-kirc\",\n",
            "    \"patients\": [\n",
            "     {\n",
            "      \"patient_id\": \"TCGA-CJ-4899\",\n",
            "      \"studies\": [\n",
            "       {\n",
            "        \"StudyInstanceUID\": \"1.3.6.1.4.1.14519.5.2.1.1706.4004.222390132567115084999595655241\",\n",
            "        \"series\": [\n",
            "         {\n",
            "          \"SeriesInstanceUID\": \"1.3.6.1.4.1.14519.5.2.1.1706.4004.304062258378118200791444181901\",\n",
            "          \"instances\": [\n",
            "           {\n",
            "            \"SOPInstanceUID\": \"1.3.6.1.4.1.14519.5.2.1.1706.4004.102158136938707631673416536391\"\n",
            "           },\n",
            "           {\n",
            "            \"SOPInstanceUID\": \"1.3.6.1.4.1.14519.5.2.1.1706.4004.103667544438182365352458935319\"\n",
            "           },\n",
            "           {\n",
            "            \"SOPInstanceUID\": \"1.3.6.1.4.1.14519.5.2.1.1706.4004.108560060292805180712151832641\"\n",
            "           }\n",
            "          ]\n",
            "         },\n",
            "         {\n",
            "          \"SeriesInstanceUID\": \"1.3.6.1.4.1.14519.5.2.1.1706.4004.209568983417342975065810158572\",\n",
            "          \"instances\": [\n",
            "           {\n",
            "            \"SOPInstanceUID\": \"1.3.6.1.4.1.14519.5.2.1.1706.4004.104452021937501750559914839064\"\n",
            "           },\n",
            "           {\n",
            "            \"SOPInstanceUID\": \"1.3.6.1.4.1.14519.5.2.1.1706.4004.107363797844322661259092907261\"\n",
            "           },\n",
            "           {\n",
            "            \"SOPInstanceUID\": \"1.3.6.1.4.1.14519.5.2.1.1706.4004.110075768201297410604933308356\"\n",
            "           }\n",
            "          ]\n",
            "         },\n",
            "         {\n",
            "          \"SeriesInstanceUID\": \"1.3.6.1.4.1.14519.5.2.1.1706.4004.338369725732670089585867585271\",\n",
            "          \"instances\": [\n",
            "           {\n",
            "            \"SOPInstanceUID\": \"1.3.6.1.4.1.14519.5.2.1.1706.4004.107240848349046280805890110571\"\n",
            "           },\n",
            "           {\n",
            "            \"SOPInstanceUID\": \"1.3.6.1.4.1.14519.5.2.1.1706.4004.107786631082745931716014124905\"\n",
            "           },\n",
            "           {\n",
            "            \"SOPInstanceUID\": \"1.3.6.1.4.1.14519.5.2.1.1706.4004.108348484687310652355121231740\"\n",
            "           },\n",
            "           {\n",
            "            \"SOPInstanceUID\": \"1.3.6.1.4.1.14519.5.2.1.1706.4004.109287554325936256761766987463\"\n",
            "           }\n",
            "          ]\n",
            "         }\n",
            "        ]\n",
            "       }\n",
            "      ]\n",
            "     }\n",
            "    ]\n",
            "   }\n",
            "  ],\n",
            "  \"rowsReturned\": 10,\n",
            "  \"totalFound\": 1581\n",
            " },\n",
            " \"next_page\": \"gAAAAABfxnrMteu9beryJ9mO4UgqtN7Wnxrrv7LZzU51QMtLIbio8GdQnEHX69wwBvmBWn2f6xJkIogCdSCjIQ0Rx3H4qg_BjwPuY2-z_H2jmrUQoSa7UMrI8nKGy65_vTmvLWJ2wlJAJNOg6MkSaGS7-ES8ndf6iBw2U58JzSwGHBIt-BW-Vcoi4UXUieSFUDXz_72PmVNFWJtkLelJK9ZwbqkLyzjuRFH3fSEaEThNjM3qNpzH5t0HJtlxUpNoW3krZ04Axz_hS-gB1Tqbiwlsw-oC1bcovHWqPDfid9bGEKgmjbnQX3uGKaP17YfnyUdftpjniwsy\"\n",
            "}\n"
          ],
          "name": "stdout"
        }
      ]
    },
    {
      "cell_type": "markdown",
      "metadata": {
        "id": "WraYhAri_NpR"
      },
      "source": [
        "The returned data includes the cohort name, description and filterset which we passed as parameters. We did not specify an IDC data version, which thus defaulted to the current version. \n",
        "\n",
        "The cohortObjects dictionary is a hierarchical representation of the first 10 rows of the cohort data. We can see that there are a total of 1581 DICOM instances in the cohort.\n",
        "\n",
        "Because we limited the page size to 10, this cohortObjects dictionary includes data from only a single collection, patient and study. That study has at least three series, each having several instances.\n",
        "\n",
        "We could also have requested that the BigQuery SQL that produced these results be returned.\n"
      ]
    },
    {
      "cell_type": "markdown",
      "metadata": {
        "id": "YBGPGzOdBVMh"
      },
      "source": [
        "### Paged results\n",
        "\n",
        "It can be seen that the above results includes a `next_page` token. This token can be passed as a parameter in a subsequent invocation of /cohorts/preview to obtain additional data.\n",
        "\n",
        "Following is a utility that merges the separate hierarchies returned by /cohorts/preview into a single hierarchy."
      ]
    },
    {
      "cell_type": "code",
      "metadata": {
        "id": "d2Ns5r9ZCdbu"
      },
      "source": [
        "def merge_cohort_hierarchies(src, dst, level):\n",
        "    levels = [\"collections\", \"patients\", \"studies\", \"series\", \"instances\"]\n",
        "    keys = [\"collection_id\", \"patient_id\", \"StudyInstanceUID\", \"SeriesInstanceUID\", \"SOPInstanceUID\"]\n",
        "    for src_item in src:\n",
        "        found = False\n",
        "        for dst_item in dst:\n",
        "            # if src_item[\"id\"] == dst_item[\"id\"]:\n",
        "            if src_item[keys[level]] == dst_item[keys[level]]:\n",
        "                if not len(levels) == level+1:\n",
        "                    merge_cohort_hierarchies(src_item[levels[level+1]], dst_item[levels[level+1]], level+1)\n",
        "                found = True\n",
        "                break\n",
        "        if not found:\n",
        "            dst.append(src_item)\n"
      ],
      "execution_count": 23,
      "outputs": []
    },
    {
      "cell_type": "markdown",
      "metadata": {
        "id": "d_6vbT2zCmiM"
      },
      "source": [
        "We are now ready to call /cohorts/preview repeatedly to obtain and merge all data. We are going intentionally limit the total objects in the returned data by setting the return level to `Series`, so that the printed results will not be too long."
      ]
    },
    {
      "cell_type": "code",
      "metadata": {
        "id": "96w9pB7KE8UJ"
      },
      "source": [
        "def paged_cohorts_preview(query_string, cohortSpec):\n",
        "\n",
        "    # Get the first page\n",
        "    response = requests.post('{}/cohorts/preview/'.format(idc_api_preamble),\n",
        "                        params=query_string, json=cohortSpec)\n",
        "\n",
        "    # Check that there wasn't an error with the request\n",
        "    if response.status_code != 200:\n",
        "      # Print the error code and message if something went wrong\n",
        "      print(response.json())\n",
        "      return None\n",
        "\n",
        "    cohort= response.json()['cohort']\n",
        "    cohortObjects = response.json()['cohortObjects']\n",
        "    print(\"Total objects found: {}\".format(cohortObjects['totalFound']))\n",
        "    print(\"Objects returned: {}\".format(cohortObjects['rowsReturned']))\n",
        "\n",
        "    # We will merge all results into allCollections\n",
        "    allCollections = cohortObjects[\"collections\"]\n",
        "\n",
        "    #Get the next_page token\n",
        "    next_page = response.json()['next_page']\n",
        "    if not next_page:\n",
        "      # We are done\n",
        "      return allCollections\n",
        "\n",
        "    #Now get subsequent pages\n",
        "    totalCollections = allCollections\n",
        "    # Keep a running total of objects returned\n",
        "    totalRowsReturned = cohortObjects['rowsReturned']\n",
        "\n",
        "    # next_page will be null when all data has been returned\n",
        "    while next_page:\n",
        "        query_string['next_page'] = next_page\n",
        "        response = requests.post('{}/cohorts/preview/'.format(idc_api_preamble),\n",
        "                      params=query_string, json=cohortSpec)\n",
        "  \n",
        "\n",
        "        # Check that there wasn't an error with the request\n",
        "        if response.status_code != 200:\n",
        "            # Print the error code and message if something went wrong\n",
        "            print(response.json())\n",
        "            return None\n",
        "\n",
        "        cohort = response.json()['cohort']\n",
        "        cohortObjects = response.json()['cohortObjects']\n",
        "\n",
        "        rowsReturned = cohortObjects[\"rowsReturned\"]\n",
        "        totalRowsReturned += rowsReturned\n",
        "\n",
        "        collections = cohortObjects[\"collections\"]\n",
        "\n",
        "        # Merge the new results with previously returned results\n",
        "        merge_cohort_hierarchies(collections, allCollections, 0)\n",
        "        # allCollections.extend(collections)\n",
        "        next_page = response.json()['next_page']\n",
        "\n",
        "    print(\"Total objects: \".format(totalRowsReturned))\n",
        "\n",
        "    return allCollections\n"
      ],
      "execution_count": 24,
      "outputs": []
    },
    {
      "cell_type": "code",
      "metadata": {
        "id": "RnkMCmYmJla_",
        "colab": {
          "base_uri": "https://localhost:8080/"
        },
        "outputId": "6cd7ec6e-0892-4f04-b25c-5a299cc7f32c"
      },
      "source": [
        "filterSet = {\n",
        "  \"idc_data_version\": \"1.0\",\n",
        "  \"filters\": {\n",
        "      \"collection_id\": [ \"TCGA-LUAD\", \"TCGA-KIRC\" ],\n",
        "      \"Modality\": [\"CT\", \"MR\"],\n",
        "      \"race\": [\"ASIAN\"]}}\n",
        "\n",
        "cohortSpec = {\"name\": \"testcohort\",\n",
        "              \"description\": \"Test description\",\n",
        "              \"filterSet\": filterSet}\n",
        "\n",
        "# Get the first page\n",
        "query_string = dict(\n",
        "    page_size = 10,\n",
        "    return_level = \"Series\"\n",
        ")\n",
        "merged_results = paged_cohorts_preview(query_string, cohortSpec)\n",
        "\n",
        "if not merged_results:\n",
        "  print(\"paged_cohorts_preview failed\")\n",
        "\n",
        "print(json.dumps(merged_results, indent=1))\n",
        "\n"
      ],
      "execution_count": 25,
      "outputs": [
        {
          "output_type": "stream",
          "text": [
            "Total objects found: 26\n",
            "Objects returned: 10\n",
            "Total objects: \n",
            "[\n",
            " {\n",
            "  \"collection_id\": \"tcga-kirc\",\n",
            "  \"patients\": [\n",
            "   {\n",
            "    \"patient_id\": \"TCGA-CJ-4899\",\n",
            "    \"studies\": [\n",
            "     {\n",
            "      \"StudyInstanceUID\": \"1.3.6.1.4.1.14519.5.2.1.1706.4004.222390132567115084999595655241\",\n",
            "      \"series\": [\n",
            "       {\n",
            "        \"SeriesInstanceUID\": \"1.3.6.1.4.1.14519.5.2.1.1706.4004.209568983417342975065810158572\"\n",
            "       },\n",
            "       {\n",
            "        \"SeriesInstanceUID\": \"1.3.6.1.4.1.14519.5.2.1.1706.4004.304062258378118200791444181901\"\n",
            "       },\n",
            "       {\n",
            "        \"SeriesInstanceUID\": \"1.3.6.1.4.1.14519.5.2.1.1706.4004.338369725732670089585867585271\"\n",
            "       },\n",
            "       {\n",
            "        \"SeriesInstanceUID\": \"1.3.6.1.4.1.14519.5.2.1.1706.4004.613317179370101961283881481386\"\n",
            "       }\n",
            "      ]\n",
            "     }\n",
            "    ]\n",
            "   },\n",
            "   {\n",
            "    \"patient_id\": \"TCGA-B0-4821\",\n",
            "    \"studies\": [\n",
            "     {\n",
            "      \"StudyInstanceUID\": \"1.3.6.1.4.1.14519.5.2.1.6450.4004.136179540832399945436413884813\",\n",
            "      \"series\": [\n",
            "       {\n",
            "        \"SeriesInstanceUID\": \"1.3.6.1.4.1.14519.5.2.1.6450.4004.110080607346114327317403830445\"\n",
            "       },\n",
            "       {\n",
            "        \"SeriesInstanceUID\": \"1.3.6.1.4.1.14519.5.2.1.6450.4004.150769177303910560530669788325\"\n",
            "       },\n",
            "       {\n",
            "        \"SeriesInstanceUID\": \"1.3.6.1.4.1.14519.5.2.1.6450.4004.190847086339656281656687988365\"\n",
            "       },\n",
            "       {\n",
            "        \"SeriesInstanceUID\": \"1.3.6.1.4.1.14519.5.2.1.6450.4004.194999673428408686860651377708\"\n",
            "       },\n",
            "       {\n",
            "        \"SeriesInstanceUID\": \"1.3.6.1.4.1.14519.5.2.1.6450.4004.206928116047979879419961237583\"\n",
            "       },\n",
            "       {\n",
            "        \"SeriesInstanceUID\": \"1.3.6.1.4.1.14519.5.2.1.6450.4004.226475256030973716890933489995\"\n",
            "       },\n",
            "       {\n",
            "        \"SeriesInstanceUID\": \"1.3.6.1.4.1.14519.5.2.1.6450.4004.228526804096077139191089789497\"\n",
            "       },\n",
            "       {\n",
            "        \"SeriesInstanceUID\": \"1.3.6.1.4.1.14519.5.2.1.6450.4004.235402578802411751548081780452\"\n",
            "       },\n",
            "       {\n",
            "        \"SeriesInstanceUID\": \"1.3.6.1.4.1.14519.5.2.1.6450.4004.243372903103865393284116121541\"\n",
            "       },\n",
            "       {\n",
            "        \"SeriesInstanceUID\": \"1.3.6.1.4.1.14519.5.2.1.6450.4004.249320899124343011528829237690\"\n",
            "       },\n",
            "       {\n",
            "        \"SeriesInstanceUID\": \"1.3.6.1.4.1.14519.5.2.1.6450.4004.249952814227026485519952742693\"\n",
            "       },\n",
            "       {\n",
            "        \"SeriesInstanceUID\": \"1.3.6.1.4.1.14519.5.2.1.6450.4004.268252298985635478058738543657\"\n",
            "       },\n",
            "       {\n",
            "        \"SeriesInstanceUID\": \"1.3.6.1.4.1.14519.5.2.1.6450.4004.830709046429544807592874143181\"\n",
            "       }\n",
            "      ]\n",
            "     },\n",
            "     {\n",
            "      \"StudyInstanceUID\": \"1.3.6.1.4.1.14519.5.2.1.6450.4004.106932788840966938343655567734\",\n",
            "      \"series\": [\n",
            "       {\n",
            "        \"SeriesInstanceUID\": \"1.3.6.1.4.1.14519.5.2.1.6450.4004.197843508979767111528661816317\"\n",
            "       },\n",
            "       {\n",
            "        \"SeriesInstanceUID\": \"1.3.6.1.4.1.14519.5.2.1.6450.4004.235428597036642517913699810121\"\n",
            "       },\n",
            "       {\n",
            "        \"SeriesInstanceUID\": \"1.3.6.1.4.1.14519.5.2.1.6450.4004.271668964298255100372746126930\"\n",
            "       },\n",
            "       {\n",
            "        \"SeriesInstanceUID\": \"1.3.6.1.4.1.14519.5.2.1.6450.4004.304298305055565114770452123155\"\n",
            "       },\n",
            "       {\n",
            "        \"SeriesInstanceUID\": \"1.3.6.1.4.1.14519.5.2.1.6450.4004.365655763318635731503071507339\"\n",
            "       }\n",
            "      ]\n",
            "     }\n",
            "    ]\n",
            "   },\n",
            "   {\n",
            "    \"patient_id\": \"TCGA-BP-4970\",\n",
            "    \"studies\": [\n",
            "     {\n",
            "      \"StudyInstanceUID\": \"1.3.6.1.4.1.14519.5.2.1.9203.4004.241235435749447994610707928728\",\n",
            "      \"series\": [\n",
            "       {\n",
            "        \"SeriesInstanceUID\": \"1.3.6.1.4.1.14519.5.2.1.9203.4004.221242980663584135283864077112\"\n",
            "       },\n",
            "       {\n",
            "        \"SeriesInstanceUID\": \"1.3.6.1.4.1.14519.5.2.1.9203.4004.297780514611660683219077498738\"\n",
            "       },\n",
            "       {\n",
            "        \"SeriesInstanceUID\": \"1.3.6.1.4.1.14519.5.2.1.9203.4004.325474392359716109624466745284\"\n",
            "       },\n",
            "       {\n",
            "        \"SeriesInstanceUID\": \"1.3.6.1.4.1.14519.5.2.1.9203.4004.421363051689267135363953437140\"\n",
            "       }\n",
            "      ]\n",
            "     }\n",
            "    ]\n",
            "   }\n",
            "  ]\n",
            " }\n",
            "]\n"
          ],
          "name": "stdout"
        }
      ]
    },
    {
      "cell_type": "markdown",
      "metadata": {
        "id": "VokPDxpw9EEa"
      },
      "source": [
        "## Example: POST `/cohort/{cohort_id}/manifest` Endpoint\n",
        "\n",
        "This last section will focus on the POST `/cohorts/{cohort_id}/manifest` endpoint, which returns a manifest of the objects in the cohort identified by some *cohort_id*. Unlike the /cohort/preview endpoint (and the corresponding /cohort/preview/manifest endpoint), the `/cohorts/{cohort_id}/manifest` returns a manifest against a cohort that was previously defined via the IDC API or the IDC webapp.\n",
        "\n",
        "In order to be able to save a cohort definition in the IDC webapp, the user must authenticate their identity with the web app. Similarly, in order to create, query and/or delete a cohort via the API, the user must authentic their identity with the API. This section will first step through the authentication/authorization process when working with the IDC API.\n"
      ]
    },
    {
      "cell_type": "markdown",
      "metadata": {
        "id": "CO40yJQ3BFrW"
      },
      "source": [
        "### Notes on Authorization and Credentials\n",
        "The following steps are required to use an API that Requires Authorization:\n",
        "\n",
        "1. Create a Credential File on your local machine by using the [idc_auth.py](https://github.com/ImagingDataCommons/IDC-API/tree/master/scripts/idc_auth.py) script from the [IDC-API Repository](https://github.com/ImagingDataCommons/IDC-API.git)\n",
        "  * This script can be run from the command line or from within Python but should be run on your local machine.\n",
        "2. Find the location of the Credential File on your local machine\n",
        "  * By default, the script will save the file in the user's folder with the file name: \".idc_credentials\"\n",
        "3. Load the Credential file into the cloud environment you are using."
      ]
    },
    {
      "cell_type": "code",
      "metadata": {
        "id": "AQhPXCGZQwxc"
      },
      "source": [
        "# If you skipped earlier sections, you will need these two packages to run the\n",
        "# code below\n",
        "# Install requests if needed\n",
        "#pip install requests\n",
        "\n",
        "# Install pip json\n",
        "#import json\n",
        "\n",
        "# Import the requests library\n",
        "#import requests"
      ],
      "execution_count": null,
      "outputs": []
    },
    {
      "cell_type": "code",
      "metadata": {
        "id": "TYY9fUVRRCLY"
      },
      "source": [
        "# import os\n",
        "import os\n",
        "# Import files helper for Colab\n",
        "from google.colab import files"
      ],
      "execution_count": 57,
      "outputs": []
    },
    {
      "cell_type": "code",
      "metadata": {
        "colab": {
          "resources": {
            "http://localhost:8080/nbextensions/google.colab/files.js": {
              "data": "Ly8gQ29weXJpZ2h0IDIwMTcgR29vZ2xlIExMQwovLwovLyBMaWNlbnNlZCB1bmRlciB0aGUgQXBhY2hlIExpY2Vuc2UsIFZlcnNpb24gMi4wICh0aGUgIkxpY2Vuc2UiKTsKLy8geW91IG1heSBub3QgdXNlIHRoaXMgZmlsZSBleGNlcHQgaW4gY29tcGxpYW5jZSB3aXRoIHRoZSBMaWNlbnNlLgovLyBZb3UgbWF5IG9idGFpbiBhIGNvcHkgb2YgdGhlIExpY2Vuc2UgYXQKLy8KLy8gICAgICBodHRwOi8vd3d3LmFwYWNoZS5vcmcvbGljZW5zZXMvTElDRU5TRS0yLjAKLy8KLy8gVW5sZXNzIHJlcXVpcmVkIGJ5IGFwcGxpY2FibGUgbGF3IG9yIGFncmVlZCB0byBpbiB3cml0aW5nLCBzb2Z0d2FyZQovLyBkaXN0cmlidXRlZCB1bmRlciB0aGUgTGljZW5zZSBpcyBkaXN0cmlidXRlZCBvbiBhbiAiQVMgSVMiIEJBU0lTLAovLyBXSVRIT1VUIFdBUlJBTlRJRVMgT1IgQ09ORElUSU9OUyBPRiBBTlkgS0lORCwgZWl0aGVyIGV4cHJlc3Mgb3IgaW1wbGllZC4KLy8gU2VlIHRoZSBMaWNlbnNlIGZvciB0aGUgc3BlY2lmaWMgbGFuZ3VhZ2UgZ292ZXJuaW5nIHBlcm1pc3Npb25zIGFuZAovLyBsaW1pdGF0aW9ucyB1bmRlciB0aGUgTGljZW5zZS4KCi8qKgogKiBAZmlsZW92ZXJ2aWV3IEhlbHBlcnMgZm9yIGdvb2dsZS5jb2xhYiBQeXRob24gbW9kdWxlLgogKi8KKGZ1bmN0aW9uKHNjb3BlKSB7CmZ1bmN0aW9uIHNwYW4odGV4dCwgc3R5bGVBdHRyaWJ1dGVzID0ge30pIHsKICBjb25zdCBlbGVtZW50ID0gZG9jdW1lbnQuY3JlYXRlRWxlbWVudCgnc3BhbicpOwogIGVsZW1lbnQudGV4dENvbnRlbnQgPSB0ZXh0OwogIGZvciAoY29uc3Qga2V5IG9mIE9iamVjdC5rZXlzKHN0eWxlQXR0cmlidXRlcykpIHsKICAgIGVsZW1lbnQuc3R5bGVba2V5XSA9IHN0eWxlQXR0cmlidXRlc1trZXldOwogIH0KICByZXR1cm4gZWxlbWVudDsKfQoKLy8gTWF4IG51bWJlciBvZiBieXRlcyB3aGljaCB3aWxsIGJlIHVwbG9hZGVkIGF0IGEgdGltZS4KY29uc3QgTUFYX1BBWUxPQURfU0laRSA9IDEwMCAqIDEwMjQ7CgpmdW5jdGlvbiBfdXBsb2FkRmlsZXMoaW5wdXRJZCwgb3V0cHV0SWQpIHsKICBjb25zdCBzdGVwcyA9IHVwbG9hZEZpbGVzU3RlcChpbnB1dElkLCBvdXRwdXRJZCk7CiAgY29uc3Qgb3V0cHV0RWxlbWVudCA9IGRvY3VtZW50LmdldEVsZW1lbnRCeUlkKG91dHB1dElkKTsKICAvLyBDYWNoZSBzdGVwcyBvbiB0aGUgb3V0cHV0RWxlbWVudCB0byBtYWtlIGl0IGF2YWlsYWJsZSBmb3IgdGhlIG5leHQgY2FsbAogIC8vIHRvIHVwbG9hZEZpbGVzQ29udGludWUgZnJvbSBQeXRob24uCiAgb3V0cHV0RWxlbWVudC5zdGVwcyA9IHN0ZXBzOwoKICByZXR1cm4gX3VwbG9hZEZpbGVzQ29udGludWUob3V0cHV0SWQpOwp9CgovLyBUaGlzIGlzIHJvdWdobHkgYW4gYXN5bmMgZ2VuZXJhdG9yIChub3Qgc3VwcG9ydGVkIGluIHRoZSBicm93c2VyIHlldCksCi8vIHdoZXJlIHRoZXJlIGFyZSBtdWx0aXBsZSBhc3luY2hyb25vdXMgc3RlcHMgYW5kIHRoZSBQeXRob24gc2lkZSBpcyBnb2luZwovLyB0byBwb2xsIGZvciBjb21wbGV0aW9uIG9mIGVhY2ggc3RlcC4KLy8gVGhpcyB1c2VzIGEgUHJvbWlzZSB0byBibG9jayB0aGUgcHl0aG9uIHNpZGUgb24gY29tcGxldGlvbiBvZiBlYWNoIHN0ZXAsCi8vIHRoZW4gcGFzc2VzIHRoZSByZXN1bHQgb2YgdGhlIHByZXZpb3VzIHN0ZXAgYXMgdGhlIGlucHV0IHRvIHRoZSBuZXh0IHN0ZXAuCmZ1bmN0aW9uIF91cGxvYWRGaWxlc0NvbnRpbnVlKG91dHB1dElkKSB7CiAgY29uc3Qgb3V0cHV0RWxlbWVudCA9IGRvY3VtZW50LmdldEVsZW1lbnRCeUlkKG91dHB1dElkKTsKICBjb25zdCBzdGVwcyA9IG91dHB1dEVsZW1lbnQuc3RlcHM7CgogIGNvbnN0IG5leHQgPSBzdGVwcy5uZXh0KG91dHB1dEVsZW1lbnQubGFzdFByb21pc2VWYWx1ZSk7CiAgcmV0dXJuIFByb21pc2UucmVzb2x2ZShuZXh0LnZhbHVlLnByb21pc2UpLnRoZW4oKHZhbHVlKSA9PiB7CiAgICAvLyBDYWNoZSB0aGUgbGFzdCBwcm9taXNlIHZhbHVlIHRvIG1ha2UgaXQgYXZhaWxhYmxlIHRvIHRoZSBuZXh0CiAgICAvLyBzdGVwIG9mIHRoZSBnZW5lcmF0b3IuCiAgICBvdXRwdXRFbGVtZW50Lmxhc3RQcm9taXNlVmFsdWUgPSB2YWx1ZTsKICAgIHJldHVybiBuZXh0LnZhbHVlLnJlc3BvbnNlOwogIH0pOwp9CgovKioKICogR2VuZXJhdG9yIGZ1bmN0aW9uIHdoaWNoIGlzIGNhbGxlZCBiZXR3ZWVuIGVhY2ggYXN5bmMgc3RlcCBvZiB0aGUgdXBsb2FkCiAqIHByb2Nlc3MuCiAqIEBwYXJhbSB7c3RyaW5nfSBpbnB1dElkIEVsZW1lbnQgSUQgb2YgdGhlIGlucHV0IGZpbGUgcGlja2VyIGVsZW1lbnQuCiAqIEBwYXJhbSB7c3RyaW5nfSBvdXRwdXRJZCBFbGVtZW50IElEIG9mIHRoZSBvdXRwdXQgZGlzcGxheS4KICogQHJldHVybiB7IUl0ZXJhYmxlPCFPYmplY3Q+fSBJdGVyYWJsZSBvZiBuZXh0IHN0ZXBzLgogKi8KZnVuY3Rpb24qIHVwbG9hZEZpbGVzU3RlcChpbnB1dElkLCBvdXRwdXRJZCkgewogIGNvbnN0IGlucHV0RWxlbWVudCA9IGRvY3VtZW50LmdldEVsZW1lbnRCeUlkKGlucHV0SWQpOwogIGlucHV0RWxlbWVudC5kaXNhYmxlZCA9IGZhbHNlOwoKICBjb25zdCBvdXRwdXRFbGVtZW50ID0gZG9jdW1lbnQuZ2V0RWxlbWVudEJ5SWQob3V0cHV0SWQpOwogIG91dHB1dEVsZW1lbnQuaW5uZXJIVE1MID0gJyc7CgogIGNvbnN0IHBpY2tlZFByb21pc2UgPSBuZXcgUHJvbWlzZSgocmVzb2x2ZSkgPT4gewogICAgaW5wdXRFbGVtZW50LmFkZEV2ZW50TGlzdGVuZXIoJ2NoYW5nZScsIChlKSA9PiB7CiAgICAgIHJlc29sdmUoZS50YXJnZXQuZmlsZXMpOwogICAgfSk7CiAgfSk7CgogIGNvbnN0IGNhbmNlbCA9IGRvY3VtZW50LmNyZWF0ZUVsZW1lbnQoJ2J1dHRvbicpOwogIGlucHV0RWxlbWVudC5wYXJlbnRFbGVtZW50LmFwcGVuZENoaWxkKGNhbmNlbCk7CiAgY2FuY2VsLnRleHRDb250ZW50ID0gJ0NhbmNlbCB1cGxvYWQnOwogIGNvbnN0IGNhbmNlbFByb21pc2UgPSBuZXcgUHJvbWlzZSgocmVzb2x2ZSkgPT4gewogICAgY2FuY2VsLm9uY2xpY2sgPSAoKSA9PiB7CiAgICAgIHJlc29sdmUobnVsbCk7CiAgICB9OwogIH0pOwoKICAvLyBXYWl0IGZvciB0aGUgdXNlciB0byBwaWNrIHRoZSBmaWxlcy4KICBjb25zdCBmaWxlcyA9IHlpZWxkIHsKICAgIHByb21pc2U6IFByb21pc2UucmFjZShbcGlja2VkUHJvbWlzZSwgY2FuY2VsUHJvbWlzZV0pLAogICAgcmVzcG9uc2U6IHsKICAgICAgYWN0aW9uOiAnc3RhcnRpbmcnLAogICAgfQogIH07CgogIGNhbmNlbC5yZW1vdmUoKTsKCiAgLy8gRGlzYWJsZSB0aGUgaW5wdXQgZWxlbWVudCBzaW5jZSBmdXJ0aGVyIHBpY2tzIGFyZSBub3QgYWxsb3dlZC4KICBpbnB1dEVsZW1lbnQuZGlzYWJsZWQgPSB0cnVlOwoKICBpZiAoIWZpbGVzKSB7CiAgICByZXR1cm4gewogICAgICByZXNwb25zZTogewogICAgICAgIGFjdGlvbjogJ2NvbXBsZXRlJywKICAgICAgfQogICAgfTsKICB9CgogIGZvciAoY29uc3QgZmlsZSBvZiBmaWxlcykgewogICAgY29uc3QgbGkgPSBkb2N1bWVudC5jcmVhdGVFbGVtZW50KCdsaScpOwogICAgbGkuYXBwZW5kKHNwYW4oZmlsZS5uYW1lLCB7Zm9udFdlaWdodDogJ2JvbGQnfSkpOwogICAgbGkuYXBwZW5kKHNwYW4oCiAgICAgICAgYCgke2ZpbGUudHlwZSB8fCAnbi9hJ30pIC0gJHtmaWxlLnNpemV9IGJ5dGVzLCBgICsKICAgICAgICBgbGFzdCBtb2RpZmllZDogJHsKICAgICAgICAgICAgZmlsZS5sYXN0TW9kaWZpZWREYXRlID8gZmlsZS5sYXN0TW9kaWZpZWREYXRlLnRvTG9jYWxlRGF0ZVN0cmluZygpIDoKICAgICAgICAgICAgICAgICAgICAgICAgICAgICAgICAgICAgJ24vYSd9IC0gYCkpOwogICAgY29uc3QgcGVyY2VudCA9IHNwYW4oJzAlIGRvbmUnKTsKICAgIGxpLmFwcGVuZENoaWxkKHBlcmNlbnQpOwoKICAgIG91dHB1dEVsZW1lbnQuYXBwZW5kQ2hpbGQobGkpOwoKICAgIGNvbnN0IGZpbGVEYXRhUHJvbWlzZSA9IG5ldyBQcm9taXNlKChyZXNvbHZlKSA9PiB7CiAgICAgIGNvbnN0IHJlYWRlciA9IG5ldyBGaWxlUmVhZGVyKCk7CiAgICAgIHJlYWRlci5vbmxvYWQgPSAoZSkgPT4gewogICAgICAgIHJlc29sdmUoZS50YXJnZXQucmVzdWx0KTsKICAgICAgfTsKICAgICAgcmVhZGVyLnJlYWRBc0FycmF5QnVmZmVyKGZpbGUpOwogICAgfSk7CiAgICAvLyBXYWl0IGZvciB0aGUgZGF0YSB0byBiZSByZWFkeS4KICAgIGxldCBmaWxlRGF0YSA9IHlpZWxkIHsKICAgICAgcHJvbWlzZTogZmlsZURhdGFQcm9taXNlLAogICAgICByZXNwb25zZTogewogICAgICAgIGFjdGlvbjogJ2NvbnRpbnVlJywKICAgICAgfQogICAgfTsKCiAgICAvLyBVc2UgYSBjaHVua2VkIHNlbmRpbmcgdG8gYXZvaWQgbWVzc2FnZSBzaXplIGxpbWl0cy4gU2VlIGIvNjIxMTU2NjAuCiAgICBsZXQgcG9zaXRpb24gPSAwOwogICAgd2hpbGUgKHBvc2l0aW9uIDwgZmlsZURhdGEuYnl0ZUxlbmd0aCkgewogICAgICBjb25zdCBsZW5ndGggPSBNYXRoLm1pbihmaWxlRGF0YS5ieXRlTGVuZ3RoIC0gcG9zaXRpb24sIE1BWF9QQVlMT0FEX1NJWkUpOwogICAgICBjb25zdCBjaHVuayA9IG5ldyBVaW50OEFycmF5KGZpbGVEYXRhLCBwb3NpdGlvbiwgbGVuZ3RoKTsKICAgICAgcG9zaXRpb24gKz0gbGVuZ3RoOwoKICAgICAgY29uc3QgYmFzZTY0ID0gYnRvYShTdHJpbmcuZnJvbUNoYXJDb2RlLmFwcGx5KG51bGwsIGNodW5rKSk7CiAgICAgIHlpZWxkIHsKICAgICAgICByZXNwb25zZTogewogICAgICAgICAgYWN0aW9uOiAnYXBwZW5kJywKICAgICAgICAgIGZpbGU6IGZpbGUubmFtZSwKICAgICAgICAgIGRhdGE6IGJhc2U2NCwKICAgICAgICB9LAogICAgICB9OwogICAgICBwZXJjZW50LnRleHRDb250ZW50ID0KICAgICAgICAgIGAke01hdGgucm91bmQoKHBvc2l0aW9uIC8gZmlsZURhdGEuYnl0ZUxlbmd0aCkgKiAxMDApfSUgZG9uZWA7CiAgICB9CiAgfQoKICAvLyBBbGwgZG9uZS4KICB5aWVsZCB7CiAgICByZXNwb25zZTogewogICAgICBhY3Rpb246ICdjb21wbGV0ZScsCiAgICB9CiAgfTsKfQoKc2NvcGUuZ29vZ2xlID0gc2NvcGUuZ29vZ2xlIHx8IHt9OwpzY29wZS5nb29nbGUuY29sYWIgPSBzY29wZS5nb29nbGUuY29sYWIgfHwge307CnNjb3BlLmdvb2dsZS5jb2xhYi5fZmlsZXMgPSB7CiAgX3VwbG9hZEZpbGVzLAogIF91cGxvYWRGaWxlc0NvbnRpbnVlLAp9Owp9KShzZWxmKTsK",
              "ok": true,
              "headers": [
                [
                  "content-type",
                  "application/javascript"
                ]
              ],
              "status": 200,
              "status_text": ""
            }
          },
          "base_uri": "https://localhost:8080/",
          "height": 90
        },
        "id": "0H4QGZ3zQz7x",
        "outputId": "c092f54a-f728-4674-f0e4-26cde4e6464b"
      },
      "source": [
        "# First delete any existing .idc_credentials. Otherwise file.upload() will name the new file .idc_credentials (1)\n",
        "try:\n",
        "  os.remove('./.idc_credentials')\n",
        "except:\n",
        "  print('.idc_credentials not found')\n",
        "\n",
        "# Upload your credentials to the cloud environment\n",
        "uploaded = files.upload()"
      ],
      "execution_count": 58,
      "outputs": [
        {
          "output_type": "stream",
          "text": [
            ".idc_credentials not found\n"
          ],
          "name": "stdout"
        },
        {
          "output_type": "display_data",
          "data": {
            "text/html": [
              "\n",
              "     <input type=\"file\" id=\"files-aabab044-8ea6-4065-ac28-64f9cd0b02de\" name=\"files[]\" multiple disabled\n",
              "        style=\"border:none\" />\n",
              "     <output id=\"result-aabab044-8ea6-4065-ac28-64f9cd0b02de\">\n",
              "      Upload widget is only available when the cell has been executed in the\n",
              "      current browser session. Please rerun this cell to enable.\n",
              "      </output>\n",
              "      <script src=\"/nbextensions/google.colab/files.js\"></script> "
            ],
            "text/plain": [
              "<IPython.core.display.HTML object>"
            ]
          },
          "metadata": {
            "tags": []
          }
        },
        {
          "output_type": "stream",
          "text": [
            "Saving .idc_credentials to .idc_credentials\n"
          ],
          "name": "stdout"
        }
      ]
    },
    {
      "cell_type": "markdown",
      "metadata": {
        "id": "3PM9_7ZySBzC"
      },
      "source": [
        "Now that we have the Credentials file created and uploaded to the cloud environment, we can open the file to create the header information need for the API to verify that you have Authorization."
      ]
    },
    {
      "cell_type": "code",
      "metadata": {
        "id": "uj_jc3p6Wx_p"
      },
      "source": [
        "# Open the credentials file\n",
        "token = open(\".idc_credentials\", \"r\")\n",
        "# Create a json object from teh credential file\n",
        "token = json.loads(token.read())\n",
        "# Get Credentials from the token\n",
        "creds = token['token_response']['id_token']\n",
        "# Create a json object for requests header\n",
        "head = {'Authorization': 'Bearer ' + creds}"
      ],
      "execution_count": 59,
      "outputs": []
    },
    {
      "cell_type": "markdown",
      "metadata": {
        "id": "i0y9thsfXATV"
      },
      "source": [
        "**Note:** the credentials file will expire after 1 hour and a new one will need to be generated. If a new file is not generated with the idc_auth script, you can delete the original file and try running the script again."
      ]
    },
    {
      "cell_type": "markdown",
      "metadata": {
        "id": "RIkYHdLWXKAX"
      },
      "source": [
        "We can now proceed to create a cohort. The POST `/cohorts` endpoint creates a cohort. We will use the same cohort definition as previously."
      ]
    },
    {
      "cell_type": "code",
      "metadata": {
        "colab": {
          "base_uri": "https://localhost:8080/"
        },
        "id": "Z8I4uplMUGMt",
        "outputId": "8f7f0ec5-cf6f-461a-e10e-1e84c67c35c3"
      },
      "source": [
        "filterSet = {\n",
        "  \"idc_data_version\": \"1.0\",\n",
        "  \"filters\": {\n",
        "      \"collection_id\": [ \"TCGA-LUAD\", \"TCGA-KIRC\" ],\n",
        "      \"Modality\": [\"CT\", \"MR\"],\n",
        "      \"race\": [\"ASIAN\"]}}\n",
        "\n",
        "cohortSpec = {\"name\": \"testcohort\",\n",
        "              \"description\": \"Test description\",\n",
        "              \"filterSet\": filterSet}\n",
        "\n",
        "response = requests.post('{}/cohorts/'.format(idc_api_preamble),\n",
        "                      json=cohortSpec, headers = head)\n",
        "\n",
        "# Check that there wasn't an error with the request\n",
        "if response.status_code != 200:\n",
        "    # Print the error code and message if something went wrong\n",
        "    print(response.json())\n",
        "\n",
        "print(json.dumps(response.json(), sort_keys=True, indent=4))\n",
        "\n",
        "cohort_id = response.json()['cohort_properties']['cohort_id']"
      ],
      "execution_count": 66,
      "outputs": [
        {
          "output_type": "stream",
          "text": [
            "{\n",
            "    \"code\": 200,\n",
            "    \"cohort_properties\": {\n",
            "        \"cohort_id\": 49,\n",
            "        \"description\": \"Test description\",\n",
            "        \"filterSet\": {\n",
            "            \"filters\": {\n",
            "                \"Modality\": [\n",
            "                    \"CT\",\n",
            "                    \"MR\"\n",
            "                ],\n",
            "                \"collection_id\": [\n",
            "                    \"TCGA-LUAD\",\n",
            "                    \"TCGA-KIRC\"\n",
            "                ],\n",
            "                \"race\": [\n",
            "                    \"ASIAN\"\n",
            "                ]\n",
            "            },\n",
            "            \"idc_data_version\": \"1.0\"\n",
            "        },\n",
            "        \"name\": \"testcohort\"\n",
            "    }\n",
            "}\n"
          ],
          "name": "stdout"
        }
      ]
    },
    {
      "cell_type": "markdown",
      "metadata": {
        "id": "HKnhDeB-YyEp"
      },
      "source": [
        "Note that the response includes the cohort_id of the newly created cohort. We will use this ID when querying for the cohort's manifest. Note also that the response repeats the filterSet and other cohort metadata."
      ]
    },
    {
      "cell_type": "markdown",
      "metadata": {
        "id": "RcbSfvr7fVlD"
      },
      "source": [
        "The GET `/cohorts/{cohort_id}/manifest` endpoint returns a manifest of *access_methods* for the objects in cohort cohort_id. Please refer to the in the [API](https://learn.canceridc.dev/api/getting-started) section of the [IDC User Guide](https://learn.canceridc.dev/ps://) for further information on manifests.\n",
        "\n",
        "The API is configurable with respect to the data which it returns for each object. "
      ]
    },
    {
      "cell_type": "code",
      "metadata": {
        "colab": {
          "base_uri": "https://localhost:8080/"
        },
        "id": "jPlHkZocX7rd",
        "outputId": "9867a319-b20f-4fdc-c34b-42141db42905"
      },
      "source": [
        "query_string = dict(\n",
        "    sql = True,\n",
        "    Collection_IDs = True,\n",
        "    Patient_IDs = True,\n",
        "    StudyInstanceUIDs = True,\n",
        "    SeriesInstanceUIDs = True,\n",
        "    SOPInstanceUIDs = True,\n",
        "    Collection_DOIs = True,\n",
        "    access_method =  'url',\n",
        "    page_size = 10\n",
        ")\n",
        "\n",
        "response = requests.get('{}/cohorts/{}/manifest'.format(idc_api_preamble, cohort_id),\n",
        "                      params=query_string, headers = head)\n",
        "\n",
        "# Check that there wasn't an error with the request\n",
        "if response.status_code != 200:\n",
        "    # Print the error code and message if something went wrong\n",
        "    print(response.json())\n",
        "\n",
        "print(json.dumps(response.json(), sort_keys=True, indent=4))\n"
      ],
      "execution_count": 67,
      "outputs": [
        {
          "output_type": "stream",
          "text": [
            "{\n",
            "    \"code\": 200,\n",
            "    \"cohort\": {\n",
            "        \"cohort_id\": 49,\n",
            "        \"description\": \"Test description\",\n",
            "        \"filterSet\": {\n",
            "            \"filters\": {\n",
            "                \"Modality\": [\n",
            "                    \"CT\",\n",
            "                    \"MR\"\n",
            "                ],\n",
            "                \"collection_id\": [\n",
            "                    \"TCGA-LUAD\",\n",
            "                    \"TCGA-KIRC\"\n",
            "                ],\n",
            "                \"race\": [\n",
            "                    \"ASIAN\"\n",
            "                ]\n",
            "            },\n",
            "            \"idc_data_version\": \"1.0\"\n",
            "        },\n",
            "        \"name\": \"testcohort\",\n",
            "        \"sql\": \"\\n            #standardSQL\\n    \\n        SELECT dicom_pivot_wave1.collection_id,dicom_pivot_wave1.PatientID,dicom_pivot_wave1.StudyInstanceUID,dicom_pivot_wave1.SeriesInstanceUID,dicom_pivot_wave1.SOPInstanceUID,dicom_pivot_wave1.source_DOI,dicom_pivot_wave1.gcs_url\\n        FROM `idc-dev.metadata.dicom_pivot_wave1` dicom_pivot_wave1 \\n        \\n        JOIN `isb-cgc.TCGA_bioclin_v0.clinical_v1` clinical_v1\\n        ON dicom_pivot_wave1.PatientID = clinical_v1.case_barcode\\n    \\n        WHERE (dicom_pivot_wave1.Modality IN ('CT','MR')) AND (dicom_pivot_wave1.collection_id IN ('tcga_luad','tcga_kirc')) AND (clinical_v1.race = 'ASIAN')\\n        GROUP BY dicom_pivot_wave1.collection_id, dicom_pivot_wave1.PatientID, dicom_pivot_wave1.StudyInstanceUID, dicom_pivot_wave1.SeriesInstanceUID, dicom_pivot_wave1.SOPInstanceUID, dicom_pivot_wave1.source_DOI, dicom_pivot_wave1.gcs_url\\n        ORDER BY dicom_pivot_wave1.gcs_url ASC\\n        \\n        \\n    \"\n",
            "    },\n",
            "    \"manifest\": {\n",
            "        \"json_manifest\": [\n",
            "            {\n",
            "                \"PatientID\": \"TCGA-CJ-4899\",\n",
            "                \"SOPInstanceUID\": \"1.3.6.1.4.1.14519.5.2.1.1706.4004.104452021937501750559914839064\",\n",
            "                \"SeriesInstanceUID\": \"1.3.6.1.4.1.14519.5.2.1.1706.4004.209568983417342975065810158572\",\n",
            "                \"StudyInstanceUID\": \"1.3.6.1.4.1.14519.5.2.1.1706.4004.222390132567115084999595655241\",\n",
            "                \"collection_id\": \"tcga_kirc\",\n",
            "                \"source_DOI\": \"10.7937/K9/TCIA.2016.V6PBVTDR\",\n",
            "                \"url\": \"gs://idc-tcia-tcga-kirc/dicom/1.3.6.1.4.1.14519.5.2.1.1706.4004.222390132567115084999595655241/1.3.6.1.4.1.14519.5.2.1.1706.4004.209568983417342975065810158572/1.3.6.1.4.1.14519.5.2.1.1706.4004.104452021937501750559914839064.dcm#1592634614253420\"\n",
            "            },\n",
            "            {\n",
            "                \"PatientID\": \"TCGA-CJ-4899\",\n",
            "                \"SOPInstanceUID\": \"1.3.6.1.4.1.14519.5.2.1.1706.4004.107363797844322661259092907261\",\n",
            "                \"SeriesInstanceUID\": \"1.3.6.1.4.1.14519.5.2.1.1706.4004.209568983417342975065810158572\",\n",
            "                \"StudyInstanceUID\": \"1.3.6.1.4.1.14519.5.2.1.1706.4004.222390132567115084999595655241\",\n",
            "                \"collection_id\": \"tcga_kirc\",\n",
            "                \"source_DOI\": \"10.7937/K9/TCIA.2016.V6PBVTDR\",\n",
            "                \"url\": \"gs://idc-tcia-tcga-kirc/dicom/1.3.6.1.4.1.14519.5.2.1.1706.4004.222390132567115084999595655241/1.3.6.1.4.1.14519.5.2.1.1706.4004.209568983417342975065810158572/1.3.6.1.4.1.14519.5.2.1.1706.4004.107363797844322661259092907261.dcm#1592634614264953\"\n",
            "            },\n",
            "            {\n",
            "                \"PatientID\": \"TCGA-CJ-4899\",\n",
            "                \"SOPInstanceUID\": \"1.3.6.1.4.1.14519.5.2.1.1706.4004.110075768201297410604933308356\",\n",
            "                \"SeriesInstanceUID\": \"1.3.6.1.4.1.14519.5.2.1.1706.4004.209568983417342975065810158572\",\n",
            "                \"StudyInstanceUID\": \"1.3.6.1.4.1.14519.5.2.1.1706.4004.222390132567115084999595655241\",\n",
            "                \"collection_id\": \"tcga_kirc\",\n",
            "                \"source_DOI\": \"10.7937/K9/TCIA.2016.V6PBVTDR\",\n",
            "                \"url\": \"gs://idc-tcia-tcga-kirc/dicom/1.3.6.1.4.1.14519.5.2.1.1706.4004.222390132567115084999595655241/1.3.6.1.4.1.14519.5.2.1.1706.4004.209568983417342975065810158572/1.3.6.1.4.1.14519.5.2.1.1706.4004.110075768201297410604933308356.dcm#1592634614308887\"\n",
            "            },\n",
            "            {\n",
            "                \"PatientID\": \"TCGA-CJ-4899\",\n",
            "                \"SOPInstanceUID\": \"1.3.6.1.4.1.14519.5.2.1.1706.4004.111988340710193068794564346298\",\n",
            "                \"SeriesInstanceUID\": \"1.3.6.1.4.1.14519.5.2.1.1706.4004.209568983417342975065810158572\",\n",
            "                \"StudyInstanceUID\": \"1.3.6.1.4.1.14519.5.2.1.1706.4004.222390132567115084999595655241\",\n",
            "                \"collection_id\": \"tcga_kirc\",\n",
            "                \"source_DOI\": \"10.7937/K9/TCIA.2016.V6PBVTDR\",\n",
            "                \"url\": \"gs://idc-tcia-tcga-kirc/dicom/1.3.6.1.4.1.14519.5.2.1.1706.4004.222390132567115084999595655241/1.3.6.1.4.1.14519.5.2.1.1706.4004.209568983417342975065810158572/1.3.6.1.4.1.14519.5.2.1.1706.4004.111988340710193068794564346298.dcm#1592634614283923\"\n",
            "            },\n",
            "            {\n",
            "                \"PatientID\": \"TCGA-CJ-4899\",\n",
            "                \"SOPInstanceUID\": \"1.3.6.1.4.1.14519.5.2.1.1706.4004.113578885717891630644827788739\",\n",
            "                \"SeriesInstanceUID\": \"1.3.6.1.4.1.14519.5.2.1.1706.4004.209568983417342975065810158572\",\n",
            "                \"StudyInstanceUID\": \"1.3.6.1.4.1.14519.5.2.1.1706.4004.222390132567115084999595655241\",\n",
            "                \"collection_id\": \"tcga_kirc\",\n",
            "                \"source_DOI\": \"10.7937/K9/TCIA.2016.V6PBVTDR\",\n",
            "                \"url\": \"gs://idc-tcia-tcga-kirc/dicom/1.3.6.1.4.1.14519.5.2.1.1706.4004.222390132567115084999595655241/1.3.6.1.4.1.14519.5.2.1.1706.4004.209568983417342975065810158572/1.3.6.1.4.1.14519.5.2.1.1706.4004.113578885717891630644827788739.dcm#1592634614284048\"\n",
            "            },\n",
            "            {\n",
            "                \"PatientID\": \"TCGA-CJ-4899\",\n",
            "                \"SOPInstanceUID\": \"1.3.6.1.4.1.14519.5.2.1.1706.4004.120453603630462034168825541089\",\n",
            "                \"SeriesInstanceUID\": \"1.3.6.1.4.1.14519.5.2.1.1706.4004.209568983417342975065810158572\",\n",
            "                \"StudyInstanceUID\": \"1.3.6.1.4.1.14519.5.2.1.1706.4004.222390132567115084999595655241\",\n",
            "                \"collection_id\": \"tcga_kirc\",\n",
            "                \"source_DOI\": \"10.7937/K9/TCIA.2016.V6PBVTDR\",\n",
            "                \"url\": \"gs://idc-tcia-tcga-kirc/dicom/1.3.6.1.4.1.14519.5.2.1.1706.4004.222390132567115084999595655241/1.3.6.1.4.1.14519.5.2.1.1706.4004.209568983417342975065810158572/1.3.6.1.4.1.14519.5.2.1.1706.4004.120453603630462034168825541089.dcm#1592634614295235\"\n",
            "            },\n",
            "            {\n",
            "                \"PatientID\": \"TCGA-CJ-4899\",\n",
            "                \"SOPInstanceUID\": \"1.3.6.1.4.1.14519.5.2.1.1706.4004.121254695740808741395608492304\",\n",
            "                \"SeriesInstanceUID\": \"1.3.6.1.4.1.14519.5.2.1.1706.4004.209568983417342975065810158572\",\n",
            "                \"StudyInstanceUID\": \"1.3.6.1.4.1.14519.5.2.1.1706.4004.222390132567115084999595655241\",\n",
            "                \"collection_id\": \"tcga_kirc\",\n",
            "                \"source_DOI\": \"10.7937/K9/TCIA.2016.V6PBVTDR\",\n",
            "                \"url\": \"gs://idc-tcia-tcga-kirc/dicom/1.3.6.1.4.1.14519.5.2.1.1706.4004.222390132567115084999595655241/1.3.6.1.4.1.14519.5.2.1.1706.4004.209568983417342975065810158572/1.3.6.1.4.1.14519.5.2.1.1706.4004.121254695740808741395608492304.dcm#1592634614286488\"\n",
            "            },\n",
            "            {\n",
            "                \"PatientID\": \"TCGA-CJ-4899\",\n",
            "                \"SOPInstanceUID\": \"1.3.6.1.4.1.14519.5.2.1.1706.4004.125187096678883873118802829533\",\n",
            "                \"SeriesInstanceUID\": \"1.3.6.1.4.1.14519.5.2.1.1706.4004.209568983417342975065810158572\",\n",
            "                \"StudyInstanceUID\": \"1.3.6.1.4.1.14519.5.2.1.1706.4004.222390132567115084999595655241\",\n",
            "                \"collection_id\": \"tcga_kirc\",\n",
            "                \"source_DOI\": \"10.7937/K9/TCIA.2016.V6PBVTDR\",\n",
            "                \"url\": \"gs://idc-tcia-tcga-kirc/dicom/1.3.6.1.4.1.14519.5.2.1.1706.4004.222390132567115084999595655241/1.3.6.1.4.1.14519.5.2.1.1706.4004.209568983417342975065810158572/1.3.6.1.4.1.14519.5.2.1.1706.4004.125187096678883873118802829533.dcm#1592634614290494\"\n",
            "            },\n",
            "            {\n",
            "                \"PatientID\": \"TCGA-CJ-4899\",\n",
            "                \"SOPInstanceUID\": \"1.3.6.1.4.1.14519.5.2.1.1706.4004.127187520494186254656518606705\",\n",
            "                \"SeriesInstanceUID\": \"1.3.6.1.4.1.14519.5.2.1.1706.4004.209568983417342975065810158572\",\n",
            "                \"StudyInstanceUID\": \"1.3.6.1.4.1.14519.5.2.1.1706.4004.222390132567115084999595655241\",\n",
            "                \"collection_id\": \"tcga_kirc\",\n",
            "                \"source_DOI\": \"10.7937/K9/TCIA.2016.V6PBVTDR\",\n",
            "                \"url\": \"gs://idc-tcia-tcga-kirc/dicom/1.3.6.1.4.1.14519.5.2.1.1706.4004.222390132567115084999595655241/1.3.6.1.4.1.14519.5.2.1.1706.4004.209568983417342975065810158572/1.3.6.1.4.1.14519.5.2.1.1706.4004.127187520494186254656518606705.dcm#1592634614306386\"\n",
            "            },\n",
            "            {\n",
            "                \"PatientID\": \"TCGA-CJ-4899\",\n",
            "                \"SOPInstanceUID\": \"1.3.6.1.4.1.14519.5.2.1.1706.4004.134481124544196550279531737808\",\n",
            "                \"SeriesInstanceUID\": \"1.3.6.1.4.1.14519.5.2.1.1706.4004.209568983417342975065810158572\",\n",
            "                \"StudyInstanceUID\": \"1.3.6.1.4.1.14519.5.2.1.1706.4004.222390132567115084999595655241\",\n",
            "                \"collection_id\": \"tcga_kirc\",\n",
            "                \"source_DOI\": \"10.7937/K9/TCIA.2016.V6PBVTDR\",\n",
            "                \"url\": \"gs://idc-tcia-tcga-kirc/dicom/1.3.6.1.4.1.14519.5.2.1.1706.4004.222390132567115084999595655241/1.3.6.1.4.1.14519.5.2.1.1706.4004.209568983417342975065810158572/1.3.6.1.4.1.14519.5.2.1.1706.4004.134481124544196550279531737808.dcm#1592634614314093\"\n",
            "            },\n",
            "            {\n",
            "                \"PatientID\": \"TCGA-CJ-4899\",\n",
            "                \"SOPInstanceUID\": \"1.3.6.1.4.1.14519.5.2.1.1706.4004.138869973608526150031566424039\",\n",
            "                \"SeriesInstanceUID\": \"1.3.6.1.4.1.14519.5.2.1.1706.4004.209568983417342975065810158572\",\n",
            "                \"StudyInstanceUID\": \"1.3.6.1.4.1.14519.5.2.1.1706.4004.222390132567115084999595655241\",\n",
            "                \"collection_id\": \"tcga_kirc\",\n",
            "                \"source_DOI\": \"10.7937/K9/TCIA.2016.V6PBVTDR\",\n",
            "                \"url\": \"gs://idc-tcia-tcga-kirc/dicom/1.3.6.1.4.1.14519.5.2.1.1706.4004.222390132567115084999595655241/1.3.6.1.4.1.14519.5.2.1.1706.4004.209568983417342975065810158572/1.3.6.1.4.1.14519.5.2.1.1706.4004.138869973608526150031566424039.dcm#1592634614314629\"\n",
            "            },\n",
            "            {\n",
            "                \"PatientID\": \"TCGA-CJ-4899\",\n",
            "                \"SOPInstanceUID\": \"1.3.6.1.4.1.14519.5.2.1.1706.4004.148896452138972486147685681230\",\n",
            "                \"SeriesInstanceUID\": \"1.3.6.1.4.1.14519.5.2.1.1706.4004.209568983417342975065810158572\",\n",
            "                \"StudyInstanceUID\": \"1.3.6.1.4.1.14519.5.2.1.1706.4004.222390132567115084999595655241\",\n",
            "                \"collection_id\": \"tcga_kirc\",\n",
            "                \"source_DOI\": \"10.7937/K9/TCIA.2016.V6PBVTDR\",\n",
            "                \"url\": \"gs://idc-tcia-tcga-kirc/dicom/1.3.6.1.4.1.14519.5.2.1.1706.4004.222390132567115084999595655241/1.3.6.1.4.1.14519.5.2.1.1706.4004.209568983417342975065810158572/1.3.6.1.4.1.14519.5.2.1.1706.4004.148896452138972486147685681230.dcm#1592634614314265\"\n",
            "            },\n",
            "            {\n",
            "                \"PatientID\": \"TCGA-CJ-4899\",\n",
            "                \"SOPInstanceUID\": \"1.3.6.1.4.1.14519.5.2.1.1706.4004.155840861843309941456679294828\",\n",
            "                \"SeriesInstanceUID\": \"1.3.6.1.4.1.14519.5.2.1.1706.4004.209568983417342975065810158572\",\n",
            "                \"StudyInstanceUID\": \"1.3.6.1.4.1.14519.5.2.1.1706.4004.222390132567115084999595655241\",\n",
            "                \"collection_id\": \"tcga_kirc\",\n",
            "                \"source_DOI\": \"10.7937/K9/TCIA.2016.V6PBVTDR\",\n",
            "                \"url\": \"gs://idc-tcia-tcga-kirc/dicom/1.3.6.1.4.1.14519.5.2.1.1706.4004.222390132567115084999595655241/1.3.6.1.4.1.14519.5.2.1.1706.4004.209568983417342975065810158572/1.3.6.1.4.1.14519.5.2.1.1706.4004.155840861843309941456679294828.dcm#1592634614455519\"\n",
            "            },\n",
            "            {\n",
            "                \"PatientID\": \"TCGA-CJ-4899\",\n",
            "                \"SOPInstanceUID\": \"1.3.6.1.4.1.14519.5.2.1.1706.4004.183766772678826468506439661709\",\n",
            "                \"SeriesInstanceUID\": \"1.3.6.1.4.1.14519.5.2.1.1706.4004.209568983417342975065810158572\",\n",
            "                \"StudyInstanceUID\": \"1.3.6.1.4.1.14519.5.2.1.1706.4004.222390132567115084999595655241\",\n",
            "                \"collection_id\": \"tcga_kirc\",\n",
            "                \"source_DOI\": \"10.7937/K9/TCIA.2016.V6PBVTDR\",\n",
            "                \"url\": \"gs://idc-tcia-tcga-kirc/dicom/1.3.6.1.4.1.14519.5.2.1.1706.4004.222390132567115084999595655241/1.3.6.1.4.1.14519.5.2.1.1706.4004.209568983417342975065810158572/1.3.6.1.4.1.14519.5.2.1.1706.4004.183766772678826468506439661709.dcm#1592634614411435\"\n",
            "            },\n",
            "            {\n",
            "                \"PatientID\": \"TCGA-CJ-4899\",\n",
            "                \"SOPInstanceUID\": \"1.3.6.1.4.1.14519.5.2.1.1706.4004.192181171381018925816339616486\",\n",
            "                \"SeriesInstanceUID\": \"1.3.6.1.4.1.14519.5.2.1.1706.4004.209568983417342975065810158572\",\n",
            "                \"StudyInstanceUID\": \"1.3.6.1.4.1.14519.5.2.1.1706.4004.222390132567115084999595655241\",\n",
            "                \"collection_id\": \"tcga_kirc\",\n",
            "                \"source_DOI\": \"10.7937/K9/TCIA.2016.V6PBVTDR\",\n",
            "                \"url\": \"gs://idc-tcia-tcga-kirc/dicom/1.3.6.1.4.1.14519.5.2.1.1706.4004.222390132567115084999595655241/1.3.6.1.4.1.14519.5.2.1.1706.4004.209568983417342975065810158572/1.3.6.1.4.1.14519.5.2.1.1706.4004.192181171381018925816339616486.dcm#1592634614452452\"\n",
            "            },\n",
            "            {\n",
            "                \"PatientID\": \"TCGA-CJ-4899\",\n",
            "                \"SOPInstanceUID\": \"1.3.6.1.4.1.14519.5.2.1.1706.4004.193300097717311110067161564211\",\n",
            "                \"SeriesInstanceUID\": \"1.3.6.1.4.1.14519.5.2.1.1706.4004.209568983417342975065810158572\",\n",
            "                \"StudyInstanceUID\": \"1.3.6.1.4.1.14519.5.2.1.1706.4004.222390132567115084999595655241\",\n",
            "                \"collection_id\": \"tcga_kirc\",\n",
            "                \"source_DOI\": \"10.7937/K9/TCIA.2016.V6PBVTDR\",\n",
            "                \"url\": \"gs://idc-tcia-tcga-kirc/dicom/1.3.6.1.4.1.14519.5.2.1.1706.4004.222390132567115084999595655241/1.3.6.1.4.1.14519.5.2.1.1706.4004.209568983417342975065810158572/1.3.6.1.4.1.14519.5.2.1.1706.4004.193300097717311110067161564211.dcm#1592634614418454\"\n",
            "            },\n",
            "            {\n",
            "                \"PatientID\": \"TCGA-CJ-4899\",\n",
            "                \"SOPInstanceUID\": \"1.3.6.1.4.1.14519.5.2.1.1706.4004.197044978201187568807113759573\",\n",
            "                \"SeriesInstanceUID\": \"1.3.6.1.4.1.14519.5.2.1.1706.4004.209568983417342975065810158572\",\n",
            "                \"StudyInstanceUID\": \"1.3.6.1.4.1.14519.5.2.1.1706.4004.222390132567115084999595655241\",\n",
            "                \"collection_id\": \"tcga_kirc\",\n",
            "                \"source_DOI\": \"10.7937/K9/TCIA.2016.V6PBVTDR\",\n",
            "                \"url\": \"gs://idc-tcia-tcga-kirc/dicom/1.3.6.1.4.1.14519.5.2.1.1706.4004.222390132567115084999595655241/1.3.6.1.4.1.14519.5.2.1.1706.4004.209568983417342975065810158572/1.3.6.1.4.1.14519.5.2.1.1706.4004.197044978201187568807113759573.dcm#1592634614441236\"\n",
            "            },\n",
            "            {\n",
            "                \"PatientID\": \"TCGA-CJ-4899\",\n",
            "                \"SOPInstanceUID\": \"1.3.6.1.4.1.14519.5.2.1.1706.4004.200980578317521118340339789604\",\n",
            "                \"SeriesInstanceUID\": \"1.3.6.1.4.1.14519.5.2.1.1706.4004.209568983417342975065810158572\",\n",
            "                \"StudyInstanceUID\": \"1.3.6.1.4.1.14519.5.2.1.1706.4004.222390132567115084999595655241\",\n",
            "                \"collection_id\": \"tcga_kirc\",\n",
            "                \"source_DOI\": \"10.7937/K9/TCIA.2016.V6PBVTDR\",\n",
            "                \"url\": \"gs://idc-tcia-tcga-kirc/dicom/1.3.6.1.4.1.14519.5.2.1.1706.4004.222390132567115084999595655241/1.3.6.1.4.1.14519.5.2.1.1706.4004.209568983417342975065810158572/1.3.6.1.4.1.14519.5.2.1.1706.4004.200980578317521118340339789604.dcm#1592634614400987\"\n",
            "            },\n",
            "            {\n",
            "                \"PatientID\": \"TCGA-CJ-4899\",\n",
            "                \"SOPInstanceUID\": \"1.3.6.1.4.1.14519.5.2.1.1706.4004.206378487791022061887020330242\",\n",
            "                \"SeriesInstanceUID\": \"1.3.6.1.4.1.14519.5.2.1.1706.4004.209568983417342975065810158572\",\n",
            "                \"StudyInstanceUID\": \"1.3.6.1.4.1.14519.5.2.1.1706.4004.222390132567115084999595655241\",\n",
            "                \"collection_id\": \"tcga_kirc\",\n",
            "                \"source_DOI\": \"10.7937/K9/TCIA.2016.V6PBVTDR\",\n",
            "                \"url\": \"gs://idc-tcia-tcga-kirc/dicom/1.3.6.1.4.1.14519.5.2.1.1706.4004.222390132567115084999595655241/1.3.6.1.4.1.14519.5.2.1.1706.4004.209568983417342975065810158572/1.3.6.1.4.1.14519.5.2.1.1706.4004.206378487791022061887020330242.dcm#1592634614443675\"\n",
            "            },\n",
            "            {\n",
            "                \"PatientID\": \"TCGA-CJ-4899\",\n",
            "                \"SOPInstanceUID\": \"1.3.6.1.4.1.14519.5.2.1.1706.4004.209618277571152201747180369571\",\n",
            "                \"SeriesInstanceUID\": \"1.3.6.1.4.1.14519.5.2.1.1706.4004.209568983417342975065810158572\",\n",
            "                \"StudyInstanceUID\": \"1.3.6.1.4.1.14519.5.2.1.1706.4004.222390132567115084999595655241\",\n",
            "                \"collection_id\": \"tcga_kirc\",\n",
            "                \"source_DOI\": \"10.7937/K9/TCIA.2016.V6PBVTDR\",\n",
            "                \"url\": \"gs://idc-tcia-tcga-kirc/dicom/1.3.6.1.4.1.14519.5.2.1.1706.4004.222390132567115084999595655241/1.3.6.1.4.1.14519.5.2.1.1706.4004.209568983417342975065810158572/1.3.6.1.4.1.14519.5.2.1.1706.4004.209618277571152201747180369571.dcm#1592634614420073\"\n",
            "            }\n",
            "        ],\n",
            "        \"rowsReturned\": 20,\n",
            "        \"totalFound\": 1581\n",
            "    },\n",
            "    \"next_page\": \"gAAAAABfxpOVzOQOAJDEmL4Rm4kgj39kNLAOBFsh9sSBtMc0HmNRD2_2peYeORtUeMrqj6PgeVHuo3efs3gl834t1-MQJLkO6ZOnbjX6xHNnNILzTFSAoFSqnFXiDv8EEtpozZvdwH0IrFcGtamo2ezoZtVhnYCUsBBVEG1NSPIXxrzsA9Zo2R6J2DlN09xB21vLiwFC6YQ71iDNUW_YG1_5svrn11hIfNSFKH90CZjXNJOjfqinDpTCAiS18nw6ix8d1ZVOW4Z-jxMZaRuoy5VmOjofsbn2QCY9XD31jlywXzWcvk0fPyJt-4Q_S4KOZ9uisXvh_cWdeMhvXj9ldpz4mirattZ7XAQF17q9vkn0avY33TPghuk=\"\n",
            "}\n"
          ],
          "name": "stdout"
        }
      ]
    },
    {
      "cell_type": "markdown",
      "metadata": {
        "id": "nEJtX2SpWsV6"
      },
      "source": [
        "As with POST `/cohorts/preview/` (and POST `/cohorts/preview/manifest` and GET `/cohorts/{cohort_id}`), the returned next_page token can be used in subsequent calls to obtain additional data."
      ]
    },
    {
      "cell_type": "markdown",
      "metadata": {
        "id": "TLlMm8knwT-6"
      },
      "source": [
        "The query string specified that the API should return url access_methods. As can be seen these are URLs that with 'gs' scheme and can be directly used by the Google gsutil CLI.\n",
        "\n",
        "Alternatively we can request that the API return DOIs:"
      ]
    },
    {
      "cell_type": "code",
      "metadata": {
        "colab": {
          "base_uri": "https://localhost:8080/"
        },
        "id": "4pWxhNHwxe3Z",
        "outputId": "e2a9cfb6-1c17-4d81-c0e3-22cf918ebc3e"
      },
      "source": [
        "query_string = dict(\n",
        "    sql = True,\n",
        "    Collection_IDs = True,\n",
        "    Patient_IDs = True,\n",
        "    StudyInstanceUIDs = True,\n",
        "    SeriesInstanceUIDs = True,\n",
        "    SOPInstanceUIDs = True,\n",
        "    Collection_DOIs = True,\n",
        "    access_method =  'doi',\n",
        "    page_size = 10\n",
        ")\n",
        "\n",
        "response = requests.get('{}/cohorts/{}/manifest'.format(idc_api_preamble, cohort_id),\n",
        "                      params=query_string, headers = head)\n",
        "\n",
        "# Check that there wasn't an error with the request\n",
        "if response.status_code != 200:\n",
        "    # Print the error code and message if something went wrong\n",
        "    print(response.json())\n",
        "\n",
        "print(json.dumps(response.json(), sort_keys=True, indent=4))"
      ],
      "execution_count": 68,
      "outputs": [
        {
          "output_type": "stream",
          "text": [
            "{\n",
            "    \"code\": 200,\n",
            "    \"cohort\": {\n",
            "        \"cohort_id\": 49,\n",
            "        \"description\": \"Test description\",\n",
            "        \"filterSet\": {\n",
            "            \"filters\": {\n",
            "                \"Modality\": [\n",
            "                    \"CT\",\n",
            "                    \"MR\"\n",
            "                ],\n",
            "                \"collection_id\": [\n",
            "                    \"TCGA-LUAD\",\n",
            "                    \"TCGA-KIRC\"\n",
            "                ],\n",
            "                \"race\": [\n",
            "                    \"ASIAN\"\n",
            "                ]\n",
            "            },\n",
            "            \"idc_data_version\": \"1.0\"\n",
            "        },\n",
            "        \"name\": \"testcohort\",\n",
            "        \"sql\": \"\\n            #standardSQL\\n    \\n        SELECT dicom_pivot_wave1.collection_id,dicom_pivot_wave1.PatientID,dicom_pivot_wave1.StudyInstanceUID,dicom_pivot_wave1.SeriesInstanceUID,dicom_pivot_wave1.SOPInstanceUID,dicom_pivot_wave1.source_DOI,dicom_pivot_wave1.crdc_instance_uuid\\n        FROM `idc-dev.metadata.dicom_pivot_wave1` dicom_pivot_wave1 \\n        \\n        JOIN `isb-cgc.TCGA_bioclin_v0.clinical_v1` clinical_v1\\n        ON dicom_pivot_wave1.PatientID = clinical_v1.case_barcode\\n    \\n        WHERE (dicom_pivot_wave1.Modality IN ('CT','MR')) AND (dicom_pivot_wave1.collection_id IN ('tcga_luad','tcga_kirc')) AND (clinical_v1.race = 'ASIAN')\\n        GROUP BY dicom_pivot_wave1.collection_id, dicom_pivot_wave1.PatientID, dicom_pivot_wave1.StudyInstanceUID, dicom_pivot_wave1.SeriesInstanceUID, dicom_pivot_wave1.SOPInstanceUID, dicom_pivot_wave1.source_DOI, dicom_pivot_wave1.crdc_instance_uuid\\n        ORDER BY dicom_pivot_wave1.crdc_instance_uuid ASC\\n        \\n        \\n    \"\n",
            "    },\n",
            "    \"manifest\": {\n",
            "        \"json_manifest\": [\n",
            "            {\n",
            "                \"PatientID\": \"TCGA-B0-4821\",\n",
            "                \"SOPInstanceUID\": \"1.3.6.1.4.1.14519.5.2.1.6450.4004.282243564047992810966587462358\",\n",
            "                \"SeriesInstanceUID\": \"1.3.6.1.4.1.14519.5.2.1.6450.4004.304298305055565114770452123155\",\n",
            "                \"StudyInstanceUID\": \"1.3.6.1.4.1.14519.5.2.1.6450.4004.106932788840966938343655567734\",\n",
            "                \"collection_id\": \"tcga_kirc\",\n",
            "                \"doi\": \"dg.4DFC/000c8565-76f2-4bc8-9a34-33dd3d3924b3\",\n",
            "                \"source_DOI\": \"10.7937/K9/TCIA.2016.V6PBVTDR\"\n",
            "            },\n",
            "            {\n",
            "                \"PatientID\": \"TCGA-BP-4970\",\n",
            "                \"SOPInstanceUID\": \"1.3.6.1.4.1.14519.5.2.1.9203.4004.331118527922674878086508636409\",\n",
            "                \"SeriesInstanceUID\": \"1.3.6.1.4.1.14519.5.2.1.9203.4004.297780514611660683219077498738\",\n",
            "                \"StudyInstanceUID\": \"1.3.6.1.4.1.14519.5.2.1.9203.4004.241235435749447994610707928728\",\n",
            "                \"collection_id\": \"tcga_kirc\",\n",
            "                \"doi\": \"dg.4DFC/002b13fe-8f12-415a-a5e8-401eedba2909\",\n",
            "                \"source_DOI\": \"10.7937/K9/TCIA.2016.V6PBVTDR\"\n",
            "            },\n",
            "            {\n",
            "                \"PatientID\": \"TCGA-B0-4821\",\n",
            "                \"SOPInstanceUID\": \"1.3.6.1.4.1.14519.5.2.1.6450.4004.115168280896867918678285403754\",\n",
            "                \"SeriesInstanceUID\": \"1.3.6.1.4.1.14519.5.2.1.6450.4004.197843508979767111528661816317\",\n",
            "                \"StudyInstanceUID\": \"1.3.6.1.4.1.14519.5.2.1.6450.4004.106932788840966938343655567734\",\n",
            "                \"collection_id\": \"tcga_kirc\",\n",
            "                \"doi\": \"dg.4DFC/00606631-64e6-4d1c-95dd-2373648aafb6\",\n",
            "                \"source_DOI\": \"10.7937/K9/TCIA.2016.V6PBVTDR\"\n",
            "            },\n",
            "            {\n",
            "                \"PatientID\": \"TCGA-B0-4821\",\n",
            "                \"SOPInstanceUID\": \"1.3.6.1.4.1.14519.5.2.1.6450.4004.263752403895175639976147401040\",\n",
            "                \"SeriesInstanceUID\": \"1.3.6.1.4.1.14519.5.2.1.6450.4004.304298305055565114770452123155\",\n",
            "                \"StudyInstanceUID\": \"1.3.6.1.4.1.14519.5.2.1.6450.4004.106932788840966938343655567734\",\n",
            "                \"collection_id\": \"tcga_kirc\",\n",
            "                \"doi\": \"dg.4DFC/0077877c-6172-488b-8754-bfa7df7589fd\",\n",
            "                \"source_DOI\": \"10.7937/K9/TCIA.2016.V6PBVTDR\"\n",
            "            },\n",
            "            {\n",
            "                \"PatientID\": \"TCGA-CJ-4899\",\n",
            "                \"SOPInstanceUID\": \"1.3.6.1.4.1.14519.5.2.1.1706.4004.253846251443843812784988625803\",\n",
            "                \"SeriesInstanceUID\": \"1.3.6.1.4.1.14519.5.2.1.1706.4004.209568983417342975065810158572\",\n",
            "                \"StudyInstanceUID\": \"1.3.6.1.4.1.14519.5.2.1.1706.4004.222390132567115084999595655241\",\n",
            "                \"collection_id\": \"tcga_kirc\",\n",
            "                \"doi\": \"dg.4DFC/00be9515-8b58-45c0-91ee-4c5022be2c00\",\n",
            "                \"source_DOI\": \"10.7937/K9/TCIA.2016.V6PBVTDR\"\n",
            "            },\n",
            "            {\n",
            "                \"PatientID\": \"TCGA-CJ-4899\",\n",
            "                \"SOPInstanceUID\": \"1.3.6.1.4.1.14519.5.2.1.1706.4004.297479741173017845196216197462\",\n",
            "                \"SeriesInstanceUID\": \"1.3.6.1.4.1.14519.5.2.1.1706.4004.304062258378118200791444181901\",\n",
            "                \"StudyInstanceUID\": \"1.3.6.1.4.1.14519.5.2.1.1706.4004.222390132567115084999595655241\",\n",
            "                \"collection_id\": \"tcga_kirc\",\n",
            "                \"doi\": \"dg.4DFC/00bfdcd1-518d-4e1a-b105-6a08ff8b6556\",\n",
            "                \"source_DOI\": \"10.7937/K9/TCIA.2016.V6PBVTDR\"\n",
            "            },\n",
            "            {\n",
            "                \"PatientID\": \"TCGA-B0-4821\",\n",
            "                \"SOPInstanceUID\": \"1.3.6.1.4.1.14519.5.2.1.6450.4004.313495559209337738360608560287\",\n",
            "                \"SeriesInstanceUID\": \"1.3.6.1.4.1.14519.5.2.1.6450.4004.365655763318635731503071507339\",\n",
            "                \"StudyInstanceUID\": \"1.3.6.1.4.1.14519.5.2.1.6450.4004.106932788840966938343655567734\",\n",
            "                \"collection_id\": \"tcga_kirc\",\n",
            "                \"doi\": \"dg.4DFC/00e0d3a5-36c1-400f-a901-44de946b2283\",\n",
            "                \"source_DOI\": \"10.7937/K9/TCIA.2016.V6PBVTDR\"\n",
            "            },\n",
            "            {\n",
            "                \"PatientID\": \"TCGA-B0-4821\",\n",
            "                \"SOPInstanceUID\": \"1.3.6.1.4.1.14519.5.2.1.6450.4004.364182096590813098818701313909\",\n",
            "                \"SeriesInstanceUID\": \"1.3.6.1.4.1.14519.5.2.1.6450.4004.365655763318635731503071507339\",\n",
            "                \"StudyInstanceUID\": \"1.3.6.1.4.1.14519.5.2.1.6450.4004.106932788840966938343655567734\",\n",
            "                \"collection_id\": \"tcga_kirc\",\n",
            "                \"doi\": \"dg.4DFC/00fc78b4-afc5-4518-bf28-ac4a2cfc7eca\",\n",
            "                \"source_DOI\": \"10.7937/K9/TCIA.2016.V6PBVTDR\"\n",
            "            },\n",
            "            {\n",
            "                \"PatientID\": \"TCGA-CJ-4899\",\n",
            "                \"SOPInstanceUID\": \"1.3.6.1.4.1.14519.5.2.1.1706.4004.732791998544569014506206364628\",\n",
            "                \"SeriesInstanceUID\": \"1.3.6.1.4.1.14519.5.2.1.1706.4004.304062258378118200791444181901\",\n",
            "                \"StudyInstanceUID\": \"1.3.6.1.4.1.14519.5.2.1.1706.4004.222390132567115084999595655241\",\n",
            "                \"collection_id\": \"tcga_kirc\",\n",
            "                \"doi\": \"dg.4DFC/0110057d-83ac-4cc6-a547-1bc2d1f91d5c\",\n",
            "                \"source_DOI\": \"10.7937/K9/TCIA.2016.V6PBVTDR\"\n",
            "            },\n",
            "            {\n",
            "                \"PatientID\": \"TCGA-CJ-4899\",\n",
            "                \"SOPInstanceUID\": \"1.3.6.1.4.1.14519.5.2.1.1706.4004.622920327624116104405104185961\",\n",
            "                \"SeriesInstanceUID\": \"1.3.6.1.4.1.14519.5.2.1.1706.4004.338369725732670089585867585271\",\n",
            "                \"StudyInstanceUID\": \"1.3.6.1.4.1.14519.5.2.1.1706.4004.222390132567115084999595655241\",\n",
            "                \"collection_id\": \"tcga_kirc\",\n",
            "                \"doi\": \"dg.4DFC/01856791-a91b-4ea1-992c-6eb1a19fe0a7\",\n",
            "                \"source_DOI\": \"10.7937/K9/TCIA.2016.V6PBVTDR\"\n",
            "            }\n",
            "        ],\n",
            "        \"rowsReturned\": 10,\n",
            "        \"totalFound\": 1581\n",
            "    },\n",
            "    \"next_page\": \"gAAAAABfxpk9KAJMiEbSiRpgBY6Rizz4mEjf0jcvdtlJMBjXLJMg2WfcpFQGZAIVPnsH9TcCKddGBaISDQxwgXCXX3UTw5HB_YvIIrH8QE56GcHCpUH0GTV4BHQFWQ2mtU0cC3LwB4auqGOZflVfKIV6-SihTBeI2nleHWOZMfe3mgGlawPwMwjqXVGFsH34suBkrXM394bMGNDgLP6ir6erJfkoh9qTbHpqidVettgYiQAF8H1mMeTQztIqdCuVfCriVG40uVpCAPsBd7bYFpsiEJePwyN8PVv8Dfz2uVRl8SXhZ4iahe_DIb0MeYD14fL3w9BAJSmX2rnN6iT-_8bK7BMXnp-fxst5FPnxlyu_68mnwrdDomw=\"\n",
            "}\n"
          ],
          "name": "stdout"
        }
      ]
    },
    {
      "cell_type": "markdown",
      "metadata": {
        "id": "fU_0eXe_yEHL"
      },
      "source": [
        "Do not confuse the `source_DOI` returned value with the `doi` returned value. A `source_DOI` is the DOI of a TCIA page that describes the collection. A `source_DOI` can be resolved at https://doi.org.\n",
        "\n",
        "A `doi` can be resolved to a DICOM object. Please refer to the [API](https://learn.canceridc.dev/api/getting-started) section of the [IDC User Guide](https://learn.canceridc.dev/ps://) for further information on access methods."
      ]
    }
  ]
}
